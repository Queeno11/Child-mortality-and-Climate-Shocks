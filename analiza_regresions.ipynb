{
 "cells": [
  {
   "cell_type": "code",
   "execution_count": 10,
   "metadata": {},
   "outputs": [],
   "source": [
    "import os\n",
    "import re\n",
    "import pandas as pd"
   ]
  },
  {
   "cell_type": "markdown",
   "metadata": {},
   "source": [
    "# Analiza resultados generales"
   ]
  },
  {
   "cell_type": "code",
   "execution_count": 39,
   "metadata": {},
   "outputs": [],
   "source": [
    "def select_files(files, name=\"version 3 drought 2_5\"):\n",
    "    files = [f for f in files if name in f]\n",
    "    return files\n",
    "\n",
    "\n",
    "def count_significative_vars(s):\n",
    "    is_p01  = s.str.contains(\"*\", regex=False)\n",
    "    is_p005 = s.str.contains(\"**\", regex=False)\n",
    "    is_p001 = s.str.contains(\"***\", regex=False)\n",
    "    \n",
    "    is_negative  = s.str.contains(\"-.*\\.\", regex=True)\n",
    "\n",
    "    count_positive_p01  = (is_p01 & ~is_negative).sum()\n",
    "    count_positive_p005 = (is_p005 & ~is_negative).sum()\n",
    "    count_positive_p001 = (is_p001 & ~is_negative).sum()\n",
    "    \n",
    "    return count_positive_p01, count_positive_p005, count_positive_p001 \n",
    "\n",
    "def dict_to_df(dict):\n",
    "    results_df = pd.DataFrame().from_dict(dict, orient=\"index\", columns=[\"p=0.1\", \"p=0.05\", \"p=0.01\"]).reset_index(names=\"Specification\")\n",
    "    return results_df\n",
    "\n",
    "def process_significance(s):\n",
    "    # Replace all values that does not contain an asterisk with NaN and turn them into floats\n",
    "    s = s.where(s.str.contains(\"*\", regex=False))\n",
    "    return s\n",
    "\n",
    "def make_float(s):\n",
    "    # Remove asterisks and turn into floats\n",
    "    s = s.replace(r'[^0-9\\-.]', \"\", regex=True)\n",
    "    return s\n",
    "\n",
    "def parse_name(name):\n",
    "    words = name.split(\" \")\n",
    "    \n",
    "    version_nam, version_num = words[:2]\n",
    "    months_num, months_nam = words[-2], words[-1]\n",
    "    \n",
    "    if version_num in [\"3\", \"4\"]:\n",
    "        drought_nam, drought_num = words[2], words[3]\n",
    "\n",
    "    else:\n",
    "        drought_nam, drought_num = \"\", \"\"\n",
    "\n",
    "    return version_nam, version_num, drought_nam, drought_num, months_num, months_nam"
   ]
  },
  {
   "cell_type": "code",
   "execution_count": null,
   "metadata": {},
   "outputs": [],
   "source": [
    "import re\n",
    "\n",
    "folder = r\"Z:\\Laboral\\World Bank\\Paper - Child mortality and Climate Shocks\\Outputs\"\n",
    "files = os.listdir(folder)\n",
    "files = [f for f in files if \".tex\" in f]\n",
    "assert len(files)!=0\n",
    "\n",
    "\n",
    "for i, file in enumerate(files):\n",
    "\n",
    "    filename = rf\"{folder}\\{file}\"\n",
    "    df = pd.read_csv(filename,\n",
    "                    sep='&',\n",
    "                    header=0,\n",
    "                    skiprows=4,\n",
    "                    skipfooter=3,\n",
    "                    engine='python')\n",
    "\n",
    "    keywords = \"drought|excessiverain|temp_|spi\" # Regex allowed\n",
    "    \n",
    "    df = df.set_index(df.columns[0]) # Set variable names in index\n",
    "    df = df[df.index != ' '] # Remove standard errors\n",
    "    df = df[df.index.str.contains(f'{keywords}|VARIABLES')]\n",
    "\n",
    "    results = {}\n",
    "    for specification in df.columns:\n",
    "        counts = count_significative_vars(df[specification])\n",
    "        specification = re.sub(r'[^0-9a-zA-Z]+', '', specification)\n",
    "        results[specification] = counts\n",
    "\n",
    "    results_df = dict_to_df(results)    \n",
    "    results_df[\"path\"] = filename\n",
    "    results_df[\"file\"] = file\n",
    "    results_df = results_df[['file', 'path', 'Specification', 'p=0.1', 'p=0.05', 'p=0.01']]\n",
    "\n",
    "    if i==0:\n",
    "        results_df.to_csv(\"regs_significance_all_models.csv\", index=False)    \n",
    "    else:\n",
    "        results_df.to_csv(\"regs_significance_all_models.csv\", mode=\"a\", index=False, header=False)"
   ]
  },
  {
   "cell_type": "markdown",
   "metadata": {},
   "source": [
    "# Resultados por país"
   ]
  },
  {
   "cell_type": "code",
   "execution_count": 78,
   "metadata": {},
   "outputs": [],
   "source": [
    "import plotly.graph_objects as go\n",
    "\n",
    "def dot_plot(all_specs, varname, quarter):\n",
    "    \n",
    "    fig = go.Figure()\n",
    "\n",
    "    colors = [\n",
    "        'rgba(156, 165, 196, 0.95)','rgba(156, 165, 196, 0.95)','rgba(156, 165, 196, 0.95)','rgba(156, 165, 196, 0.95)',\n",
    "        'rgba(204, 204, 204, 0.95)','rgba(204, 204, 204, 0.95)','rgba(204, 204, 204, 0.95)','rgba(204, 204, 204, 0.95)',\n",
    "        'rgba(255, 166, 86, 0.95)','rgba(255, 166, 86, 0.95)','rgba(255, 166, 86, 0.95)','rgba(255, 166, 86, 0.95)',\n",
    "        'rgba(240, 230, 140, 0.95)','rgba(240, 230, 140, 0.95)','rgba(240, 230, 140, 0.95)','rgba(240, 230, 140, 0.95)',\n",
    "    ]\n",
    "    data = all_specs[\n",
    "        all_specs.variable.str.contains(\"drought\") &\n",
    "        all_specs.variable.str.contains(quarter)\n",
    "    ]\n",
    "    for i, spec in enumerate(data.specification.unique()):\n",
    "        data_plot = data[data.specification == spec]\n",
    "        fig.add_trace(go.Scatter(\n",
    "            x=data_plot[\"value\"].astype(\"float\"),\n",
    "            y=data_plot[\"Country\"],\n",
    "            marker=dict(\n",
    "                color=colors[i],\n",
    "                size=16\n",
    "            ),\n",
    "            mode='markers',\n",
    "            name=spec,\n",
    "        ))\n",
    "\n",
    "    fig.update_traces(mode='markers', marker=dict(line_width=1, symbol='circle', size=16))\n",
    "\n",
    "    fig.update_layout(\n",
    "        title=varname,\n",
    "        xaxis=dict(\n",
    "            showgrid=False,\n",
    "            showline=True,\n",
    "            linecolor='rgb(102, 102, 102)',\n",
    "            tickfont_color='rgb(102, 102, 102)',\n",
    "            showticklabels=True,\n",
    "            ticks='outside',\n",
    "            tickcolor='rgb(102, 102, 102)',\n",
    "        ),\n",
    "        margin=dict(l=140, r=40, b=50, t=80),\n",
    "        legend=dict(\n",
    "            font_size=10,\n",
    "            yanchor='top',\n",
    "            xanchor='center',\n",
    "        ),\n",
    "        width=1600,\n",
    "        height=600,\n",
    "        paper_bgcolor='white',\n",
    "        plot_bgcolor='white',\n",
    "        hovermode='closest',\n",
    "    )\n",
    "    \n",
    "    # Add a vertical line at zero\n",
    "    fig.update_layout(shapes=[\n",
    "        dict(\n",
    "            type=\"line\",\n",
    "            x0=0,\n",
    "            y0=0,\n",
    "            x1=0,\n",
    "            y1=all_specs.Country.drop_duplicates().shape[0],\n",
    "            line=dict(\n",
    "                color=\"red\",\n",
    "                width=2,\n",
    "                dash=\"dashdot\",\n",
    "            )\n",
    "        )\n",
    "    ])\n",
    "\n",
    "    fig.show()"
   ]
  },
  {
   "cell_type": "code",
   "execution_count": 81,
   "metadata": {},
   "outputs": [
    {
     "name": "stderr",
     "output_type": "stream",
     "text": [
      " 17%|█▋        | 9/54 [00:00<00:00, 83.24it/s]C:\\Users\\ofici\\AppData\\Local\\Temp\\ipykernel_24444\\3964789092.py:30: FutureWarning:\n",
      "\n",
      "Downcasting behavior in `replace` is deprecated and will be removed in a future version. To retain the old behavior, explicitly call `result.infer_objects(copy=False)`. To opt-in to the future behavior, set `pd.set_option('future.no_silent_downcasting', True)`\n",
      "\n",
      "C:\\Users\\ofici\\AppData\\Local\\Temp\\ipykernel_24444\\3964789092.py:30: FutureWarning:\n",
      "\n",
      "Downcasting behavior in `replace` is deprecated and will be removed in a future version. To retain the old behavior, explicitly call `result.infer_objects(copy=False)`. To opt-in to the future behavior, set `pd.set_option('future.no_silent_downcasting', True)`\n",
      "\n",
      " 54%|█████▎    | 29/54 [00:00<00:00, 85.37it/s]C:\\Users\\ofici\\AppData\\Local\\Temp\\ipykernel_24444\\3964789092.py:30: FutureWarning:\n",
      "\n",
      "Downcasting behavior in `replace` is deprecated and will be removed in a future version. To retain the old behavior, explicitly call `result.infer_objects(copy=False)`. To opt-in to the future behavior, set `pd.set_option('future.no_silent_downcasting', True)`\n",
      "\n",
      " 74%|███████▍  | 40/54 [00:00<00:00, 92.30it/s]C:\\Users\\ofici\\AppData\\Local\\Temp\\ipykernel_24444\\3964789092.py:30: FutureWarning:\n",
      "\n",
      "Downcasting behavior in `replace` is deprecated and will be removed in a future version. To retain the old behavior, explicitly call `result.infer_objects(copy=False)`. To opt-in to the future behavior, set `pd.set_option('future.no_silent_downcasting', True)`\n",
      "\n",
      "100%|██████████| 54/54 [00:00<00:00, 75.46it/s]\n"
     ]
    },
    {
     "data": {
      "application/vnd.plotly.v1+json": {
       "config": {
        "plotlyServerURL": "https://plot.ly"
       },
       "data": [
        {
         "marker": {
          "color": "rgba(156, 165, 196, 0.95)",
          "line": {
           "width": 1
          },
          "size": 16,
          "symbol": "circle"
         },
         "mode": "markers",
         "name": "1",
         "type": "scatter",
         "x": [
          -26.267,
          null,
          null,
          -22.12,
          null,
          null,
          188.297,
          null,
          -12.64,
          null,
          null,
          null,
          null,
          null,
          null,
          null,
          null,
          null,
          null,
          null,
          -75.136,
          null,
          null,
          -13.996,
          null,
          null,
          null,
          null,
          null,
          null,
          null,
          null,
          null,
          -33.551,
          null,
          null,
          null,
          null,
          null,
          null,
          null,
          null,
          null,
          null,
          null,
          null,
          null,
          null,
          -85.681,
          null,
          null,
          null,
          null,
          null
         ],
         "y": [
          "AGO",
          "ARM",
          "BEN",
          "BFA",
          "BGD",
          "BOL",
          "CIV",
          "CMR",
          "COD",
          "COM",
          "DOM",
          "EGY",
          "ETH",
          "GAB",
          "GHA",
          "GIN",
          "GMB",
          "GTM",
          "GUY",
          "HND",
          "HTI",
          "IND",
          "JOR",
          "KEN",
          "KGZ",
          "KHM",
          "LBR",
          "LSO",
          "MAR",
          "MDA",
          "MDG",
          "MLI",
          "MMR",
          "MOZ",
          "MRT",
          "MWI",
          "NAM",
          "NGA",
          "NIC",
          "PAK",
          "PER",
          "PHL",
          "SEN",
          "SLE",
          "SWZ",
          "TCD",
          "TGO",
          "TJK",
          "TLS",
          "TZA",
          "UGA",
          "ZAF",
          "ZMB",
          "ZWE"
         ]
        },
        {
         "marker": {
          "color": "rgba(156, 165, 196, 0.95)",
          "line": {
           "width": 1
          },
          "size": 16,
          "symbol": "circle"
         },
         "mode": "markers",
         "name": "2",
         "type": "scatter",
         "x": [
          null,
          null,
          -42.989,
          -32.514,
          41.185,
          null,
          74.397,
          -50.62,
          -9.893,
          null,
          null,
          null,
          null,
          null,
          null,
          null,
          null,
          null,
          null,
          null,
          null,
          null,
          -6.7,
          -14.652,
          null,
          null,
          null,
          null,
          -35.725,
          null,
          null,
          null,
          null,
          null,
          66.76,
          null,
          null,
          null,
          null,
          null,
          null,
          null,
          null,
          -26.988,
          null,
          null,
          null,
          -23.779,
          -46.803,
          null,
          null,
          -23.402,
          null,
          null
         ],
         "y": [
          "AGO",
          "ARM",
          "BEN",
          "BFA",
          "BGD",
          "BOL",
          "CIV",
          "CMR",
          "COD",
          "COM",
          "DOM",
          "EGY",
          "ETH",
          "GAB",
          "GHA",
          "GIN",
          "GMB",
          "GTM",
          "GUY",
          "HND",
          "HTI",
          "IND",
          "JOR",
          "KEN",
          "KGZ",
          "KHM",
          "LBR",
          "LSO",
          "MAR",
          "MDA",
          "MDG",
          "MLI",
          "MMR",
          "MOZ",
          "MRT",
          "MWI",
          "NAM",
          "NGA",
          "NIC",
          "PAK",
          "PER",
          "PHL",
          "SEN",
          "SLE",
          "SWZ",
          "TCD",
          "TGO",
          "TJK",
          "TLS",
          "TZA",
          "UGA",
          "ZAF",
          "ZMB",
          "ZWE"
         ]
        },
        {
         "marker": {
          "color": "rgba(156, 165, 196, 0.95)",
          "line": {
           "width": 1
          },
          "size": 16,
          "symbol": "circle"
         },
         "mode": "markers",
         "name": "3",
         "type": "scatter",
         "x": [
          null,
          -18.864,
          -21.838,
          -31.525,
          49.897,
          null,
          null,
          -43.729,
          null,
          null,
          null,
          null,
          null,
          -19.06,
          null,
          null,
          null,
          -9.31,
          null,
          null,
          null,
          null,
          -7.543,
          -15.449,
          null,
          null,
          null,
          null,
          -21.644,
          null,
          null,
          27.66,
          null,
          null,
          65.249,
          null,
          null,
          null,
          null,
          null,
          null,
          null,
          null,
          -24.492,
          null,
          null,
          null,
          -23.996,
          -35.267,
          null,
          null,
          -21.846,
          null,
          null
         ],
         "y": [
          "AGO",
          "ARM",
          "BEN",
          "BFA",
          "BGD",
          "BOL",
          "CIV",
          "CMR",
          "COD",
          "COM",
          "DOM",
          "EGY",
          "ETH",
          "GAB",
          "GHA",
          "GIN",
          "GMB",
          "GTM",
          "GUY",
          "HND",
          "HTI",
          "IND",
          "JOR",
          "KEN",
          "KGZ",
          "KHM",
          "LBR",
          "LSO",
          "MAR",
          "MDA",
          "MDG",
          "MLI",
          "MMR",
          "MOZ",
          "MRT",
          "MWI",
          "NAM",
          "NGA",
          "NIC",
          "PAK",
          "PER",
          "PHL",
          "SEN",
          "SLE",
          "SWZ",
          "TCD",
          "TGO",
          "TJK",
          "TLS",
          "TZA",
          "UGA",
          "ZAF",
          "ZMB",
          "ZWE"
         ]
        },
        {
         "marker": {
          "color": "rgba(156, 165, 196, 0.95)",
          "line": {
           "width": 1
          },
          "size": 16,
          "symbol": "circle"
         },
         "mode": "markers",
         "name": "4",
         "type": "scatter",
         "x": [
          -26.543,
          -18.242,
          -23.486,
          -29.995,
          49.272,
          -36.305,
          null,
          -44.044,
          null,
          null,
          22.322,
          null,
          null,
          null,
          null,
          null,
          null,
          -13.005,
          null,
          null,
          null,
          null,
          -7.564,
          -15.542,
          null,
          null,
          null,
          null,
          -12.496,
          null,
          null,
          26.772,
          null,
          null,
          65.115,
          null,
          null,
          null,
          null,
          null,
          null,
          null,
          null,
          -22.893,
          null,
          null,
          null,
          -19.216,
          -35.779,
          null,
          27.986,
          -28.902,
          null,
          null
         ],
         "y": [
          "AGO",
          "ARM",
          "BEN",
          "BFA",
          "BGD",
          "BOL",
          "CIV",
          "CMR",
          "COD",
          "COM",
          "DOM",
          "EGY",
          "ETH",
          "GAB",
          "GHA",
          "GIN",
          "GMB",
          "GTM",
          "GUY",
          "HND",
          "HTI",
          "IND",
          "JOR",
          "KEN",
          "KGZ",
          "KHM",
          "LBR",
          "LSO",
          "MAR",
          "MDA",
          "MDG",
          "MLI",
          "MMR",
          "MOZ",
          "MRT",
          "MWI",
          "NAM",
          "NGA",
          "NIC",
          "PAK",
          "PER",
          "PHL",
          "SEN",
          "SLE",
          "SWZ",
          "TCD",
          "TGO",
          "TJK",
          "TLS",
          "TZA",
          "UGA",
          "ZAF",
          "ZMB",
          "ZWE"
         ]
        },
        {
         "marker": {
          "color": "rgba(204, 204, 204, 0.95)",
          "line": {
           "width": 1
          },
          "size": 16,
          "symbol": "circle"
         },
         "mode": "markers",
         "name": "5",
         "type": "scatter",
         "x": [
          null,
          null,
          null,
          32.222,
          null,
          null,
          -50.135,
          null,
          -10.138,
          null,
          1.175,
          null,
          -7.704,
          null,
          null,
          220.25,
          null,
          null,
          null,
          null,
          null,
          null,
          -2.104,
          null,
          null,
          null,
          -6.745,
          null,
          null,
          null,
          null,
          null,
          null,
          null,
          null,
          -6.059,
          null,
          null,
          null,
          null,
          null,
          null,
          null,
          -13.531,
          null,
          null,
          -27.039,
          null,
          -6.166,
          null,
          null,
          null,
          null,
          null
         ],
         "y": [
          "AGO",
          "ARM",
          "BEN",
          "BFA",
          "BGD",
          "BOL",
          "CIV",
          "CMR",
          "COD",
          "COM",
          "DOM",
          "EGY",
          "ETH",
          "GAB",
          "GHA",
          "GIN",
          "GMB",
          "GTM",
          "GUY",
          "HND",
          "HTI",
          "IND",
          "JOR",
          "KEN",
          "KGZ",
          "KHM",
          "LBR",
          "LSO",
          "MAR",
          "MDA",
          "MDG",
          "MLI",
          "MMR",
          "MOZ",
          "MRT",
          "MWI",
          "NAM",
          "NGA",
          "NIC",
          "PAK",
          "PER",
          "PHL",
          "SEN",
          "SLE",
          "SWZ",
          "TCD",
          "TGO",
          "TJK",
          "TLS",
          "TZA",
          "UGA",
          "ZAF",
          "ZMB",
          "ZWE"
         ]
        },
        {
         "marker": {
          "color": "rgba(204, 204, 204, 0.95)",
          "line": {
           "width": 1
          },
          "size": 16,
          "symbol": "circle"
         },
         "mode": "markers",
         "name": "6",
         "type": "scatter",
         "x": [
          null,
          null,
          null,
          null,
          null,
          -13.968,
          null,
          null,
          -8.845,
          null,
          null,
          null,
          -6.636,
          null,
          null,
          null,
          null,
          null,
          null,
          null,
          null,
          null,
          null,
          null,
          null,
          null,
          -5.811,
          null,
          null,
          null,
          null,
          null,
          null,
          null,
          null,
          -5.358,
          null,
          null,
          null,
          -8.201,
          null,
          -2.308,
          null,
          -10.418,
          null,
          null,
          null,
          -7.148,
          null,
          null,
          null,
          14.402,
          null,
          null
         ],
         "y": [
          "AGO",
          "ARM",
          "BEN",
          "BFA",
          "BGD",
          "BOL",
          "CIV",
          "CMR",
          "COD",
          "COM",
          "DOM",
          "EGY",
          "ETH",
          "GAB",
          "GHA",
          "GIN",
          "GMB",
          "GTM",
          "GUY",
          "HND",
          "HTI",
          "IND",
          "JOR",
          "KEN",
          "KGZ",
          "KHM",
          "LBR",
          "LSO",
          "MAR",
          "MDA",
          "MDG",
          "MLI",
          "MMR",
          "MOZ",
          "MRT",
          "MWI",
          "NAM",
          "NGA",
          "NIC",
          "PAK",
          "PER",
          "PHL",
          "SEN",
          "SLE",
          "SWZ",
          "TCD",
          "TGO",
          "TJK",
          "TLS",
          "TZA",
          "UGA",
          "ZAF",
          "ZMB",
          "ZWE"
         ]
        },
        {
         "marker": {
          "color": "rgba(204, 204, 204, 0.95)",
          "line": {
           "width": 1
          },
          "size": 16,
          "symbol": "circle"
         },
         "mode": "markers",
         "name": "7",
         "type": "scatter",
         "x": [
          null,
          -0.97,
          -9.095,
          null,
          null,
          -8.762,
          -4.723,
          null,
          -7.525,
          null,
          -0.503,
          null,
          -6.736,
          null,
          null,
          null,
          null,
          null,
          null,
          null,
          null,
          null,
          -1.593,
          null,
          null,
          null,
          -7.222,
          null,
          null,
          null,
          null,
          null,
          null,
          null,
          null,
          -3.976,
          null,
          null,
          null,
          -4.748,
          null,
          -2.426,
          null,
          -11.932,
          null,
          null,
          -14.771,
          null,
          null,
          null,
          null,
          17.521,
          null,
          null
         ],
         "y": [
          "AGO",
          "ARM",
          "BEN",
          "BFA",
          "BGD",
          "BOL",
          "CIV",
          "CMR",
          "COD",
          "COM",
          "DOM",
          "EGY",
          "ETH",
          "GAB",
          "GHA",
          "GIN",
          "GMB",
          "GTM",
          "GUY",
          "HND",
          "HTI",
          "IND",
          "JOR",
          "KEN",
          "KGZ",
          "KHM",
          "LBR",
          "LSO",
          "MAR",
          "MDA",
          "MDG",
          "MLI",
          "MMR",
          "MOZ",
          "MRT",
          "MWI",
          "NAM",
          "NGA",
          "NIC",
          "PAK",
          "PER",
          "PHL",
          "SEN",
          "SLE",
          "SWZ",
          "TCD",
          "TGO",
          "TJK",
          "TLS",
          "TZA",
          "UGA",
          "ZAF",
          "ZMB",
          "ZWE"
         ]
        },
        {
         "marker": {
          "color": "rgba(204, 204, 204, 0.95)",
          "line": {
           "width": 1
          },
          "size": 16,
          "symbol": "circle"
         },
         "mode": "markers",
         "name": "8",
         "type": "scatter",
         "x": [
          null,
          -0.839,
          -4.641,
          null,
          -0.911,
          -7.131,
          null,
          -6.472,
          -17.74,
          null,
          -0.332,
          null,
          -7.432,
          null,
          null,
          null,
          null,
          null,
          null,
          null,
          null,
          null,
          -1.593,
          null,
          null,
          -5.169,
          -7.57,
          null,
          null,
          null,
          null,
          null,
          null,
          null,
          null,
          -3.574,
          null,
          null,
          null,
          -4.948,
          -2.888,
          -2.438,
          9.992,
          -10.151,
          null,
          null,
          -14.177,
          -2.817,
          null,
          -7.031,
          null,
          17.968,
          -8.515,
          null
         ],
         "y": [
          "AGO",
          "ARM",
          "BEN",
          "BFA",
          "BGD",
          "BOL",
          "CIV",
          "CMR",
          "COD",
          "COM",
          "DOM",
          "EGY",
          "ETH",
          "GAB",
          "GHA",
          "GIN",
          "GMB",
          "GTM",
          "GUY",
          "HND",
          "HTI",
          "IND",
          "JOR",
          "KEN",
          "KGZ",
          "KHM",
          "LBR",
          "LSO",
          "MAR",
          "MDA",
          "MDG",
          "MLI",
          "MMR",
          "MOZ",
          "MRT",
          "MWI",
          "NAM",
          "NGA",
          "NIC",
          "PAK",
          "PER",
          "PHL",
          "SEN",
          "SLE",
          "SWZ",
          "TCD",
          "TGO",
          "TJK",
          "TLS",
          "TZA",
          "UGA",
          "ZAF",
          "ZMB",
          "ZWE"
         ]
        },
        {
         "marker": {
          "color": "rgba(255, 166, 86, 0.95)",
          "line": {
           "width": 1
          },
          "size": 16,
          "symbol": "circle"
         },
         "mode": "markers",
         "name": "9",
         "type": "scatter",
         "x": [
          null,
          null,
          null,
          null,
          6.426,
          null,
          null,
          null,
          -8.635,
          null,
          null,
          null,
          null,
          null,
          null,
          null,
          null,
          null,
          null,
          null,
          null,
          null,
          null,
          null,
          null,
          null,
          26.728,
          null,
          null,
          null,
          null,
          null,
          null,
          null,
          null,
          null,
          null,
          null,
          null,
          null,
          null,
          null,
          null,
          null,
          null,
          null,
          null,
          null,
          7.559,
          null,
          null,
          null,
          null,
          null
         ],
         "y": [
          "AGO",
          "ARM",
          "BEN",
          "BFA",
          "BGD",
          "BOL",
          "CIV",
          "CMR",
          "COD",
          "COM",
          "DOM",
          "EGY",
          "ETH",
          "GAB",
          "GHA",
          "GIN",
          "GMB",
          "GTM",
          "GUY",
          "HND",
          "HTI",
          "IND",
          "JOR",
          "KEN",
          "KGZ",
          "KHM",
          "LBR",
          "LSO",
          "MAR",
          "MDA",
          "MDG",
          "MLI",
          "MMR",
          "MOZ",
          "MRT",
          "MWI",
          "NAM",
          "NGA",
          "NIC",
          "PAK",
          "PER",
          "PHL",
          "SEN",
          "SLE",
          "SWZ",
          "TCD",
          "TGO",
          "TJK",
          "TLS",
          "TZA",
          "UGA",
          "ZAF",
          "ZMB",
          "ZWE"
         ]
        },
        {
         "marker": {
          "color": "rgba(255, 166, 86, 0.95)",
          "line": {
           "width": 1
          },
          "size": 16,
          "symbol": "circle"
         },
         "mode": "markers",
         "name": "10",
         "type": "scatter",
         "x": [
          null,
          null,
          null,
          null,
          null,
          null,
          null,
          -12.456,
          -18.287,
          null,
          -9.974,
          null,
          -7.186,
          null,
          -2.17,
          null,
          null,
          null,
          null,
          null,
          null,
          null,
          null,
          null,
          null,
          null,
          null,
          null,
          null,
          null,
          null,
          null,
          null,
          null,
          null,
          null,
          null,
          null,
          null,
          null,
          null,
          null,
          null,
          null,
          null,
          null,
          -3.836,
          null,
          -11.999,
          null,
          null,
          null,
          null,
          null
         ],
         "y": [
          "AGO",
          "ARM",
          "BEN",
          "BFA",
          "BGD",
          "BOL",
          "CIV",
          "CMR",
          "COD",
          "COM",
          "DOM",
          "EGY",
          "ETH",
          "GAB",
          "GHA",
          "GIN",
          "GMB",
          "GTM",
          "GUY",
          "HND",
          "HTI",
          "IND",
          "JOR",
          "KEN",
          "KGZ",
          "KHM",
          "LBR",
          "LSO",
          "MAR",
          "MDA",
          "MDG",
          "MLI",
          "MMR",
          "MOZ",
          "MRT",
          "MWI",
          "NAM",
          "NGA",
          "NIC",
          "PAK",
          "PER",
          "PHL",
          "SEN",
          "SLE",
          "SWZ",
          "TCD",
          "TGO",
          "TJK",
          "TLS",
          "TZA",
          "UGA",
          "ZAF",
          "ZMB",
          "ZWE"
         ]
        },
        {
         "marker": {
          "color": "rgba(255, 166, 86, 0.95)",
          "line": {
           "width": 1
          },
          "size": 16,
          "symbol": "circle"
         },
         "mode": "markers",
         "name": "11",
         "type": "scatter",
         "x": [
          null,
          42.096,
          322.149,
          null,
          null,
          null,
          -15.039,
          -11.957,
          -16.141,
          null,
          -8.435,
          null,
          -7.907,
          null,
          -3.635,
          null,
          null,
          null,
          null,
          null,
          null,
          null,
          null,
          null,
          null,
          null,
          20.023,
          null,
          null,
          null,
          -3.543,
          null,
          null,
          null,
          null,
          null,
          null,
          null,
          null,
          null,
          null,
          null,
          null,
          null,
          null,
          null,
          1.943,
          null,
          -10.913,
          null,
          null,
          null,
          null,
          null
         ],
         "y": [
          "AGO",
          "ARM",
          "BEN",
          "BFA",
          "BGD",
          "BOL",
          "CIV",
          "CMR",
          "COD",
          "COM",
          "DOM",
          "EGY",
          "ETH",
          "GAB",
          "GHA",
          "GIN",
          "GMB",
          "GTM",
          "GUY",
          "HND",
          "HTI",
          "IND",
          "JOR",
          "KEN",
          "KGZ",
          "KHM",
          "LBR",
          "LSO",
          "MAR",
          "MDA",
          "MDG",
          "MLI",
          "MMR",
          "MOZ",
          "MRT",
          "MWI",
          "NAM",
          "NGA",
          "NIC",
          "PAK",
          "PER",
          "PHL",
          "SEN",
          "SLE",
          "SWZ",
          "TCD",
          "TGO",
          "TJK",
          "TLS",
          "TZA",
          "UGA",
          "ZAF",
          "ZMB",
          "ZWE"
         ]
        },
        {
         "marker": {
          "color": "rgba(255, 166, 86, 0.95)",
          "line": {
           "width": 1
          },
          "size": 16,
          "symbol": "circle"
         },
         "mode": "markers",
         "name": "12",
         "type": "scatter",
         "x": [
          null,
          42.097,
          330.91,
          null,
          -1.242,
          null,
          -13.971,
          -10.247,
          -15.161,
          null,
          -7.576,
          null,
          -7.385,
          null,
          null,
          null,
          null,
          -4.692,
          null,
          null,
          null,
          -0.961,
          null,
          null,
          null,
          null,
          21.674,
          null,
          null,
          null,
          -6.921,
          null,
          null,
          -8.853,
          null,
          null,
          null,
          null,
          null,
          null,
          null,
          null,
          null,
          null,
          null,
          null,
          null,
          78.621,
          null,
          null,
          13.16,
          null,
          null,
          null
         ],
         "y": [
          "AGO",
          "ARM",
          "BEN",
          "BFA",
          "BGD",
          "BOL",
          "CIV",
          "CMR",
          "COD",
          "COM",
          "DOM",
          "EGY",
          "ETH",
          "GAB",
          "GHA",
          "GIN",
          "GMB",
          "GTM",
          "GUY",
          "HND",
          "HTI",
          "IND",
          "JOR",
          "KEN",
          "KGZ",
          "KHM",
          "LBR",
          "LSO",
          "MAR",
          "MDA",
          "MDG",
          "MLI",
          "MMR",
          "MOZ",
          "MRT",
          "MWI",
          "NAM",
          "NGA",
          "NIC",
          "PAK",
          "PER",
          "PHL",
          "SEN",
          "SLE",
          "SWZ",
          "TCD",
          "TGO",
          "TJK",
          "TLS",
          "TZA",
          "UGA",
          "ZAF",
          "ZMB",
          "ZWE"
         ]
        },
        {
         "marker": {
          "color": "rgba(240, 230, 140, 0.95)",
          "line": {
           "width": 1
          },
          "size": 16,
          "symbol": "circle"
         },
         "mode": "markers",
         "name": "13",
         "type": "scatter",
         "x": [
          null,
          null,
          -25.585,
          null,
          null,
          null,
          null,
          null,
          null,
          null,
          -22.012,
          null,
          null,
          null,
          null,
          null,
          null,
          null,
          null,
          null,
          null,
          null,
          null,
          null,
          null,
          -9.077,
          null,
          null,
          null,
          null,
          null,
          null,
          null,
          null,
          null,
          null,
          null,
          null,
          null,
          null,
          null,
          null,
          null,
          null,
          null,
          null,
          null,
          null,
          -40.334,
          null,
          null,
          87.422,
          null,
          null
         ],
         "y": [
          "AGO",
          "ARM",
          "BEN",
          "BFA",
          "BGD",
          "BOL",
          "CIV",
          "CMR",
          "COD",
          "COM",
          "DOM",
          "EGY",
          "ETH",
          "GAB",
          "GHA",
          "GIN",
          "GMB",
          "GTM",
          "GUY",
          "HND",
          "HTI",
          "IND",
          "JOR",
          "KEN",
          "KGZ",
          "KHM",
          "LBR",
          "LSO",
          "MAR",
          "MDA",
          "MDG",
          "MLI",
          "MMR",
          "MOZ",
          "MRT",
          "MWI",
          "NAM",
          "NGA",
          "NIC",
          "PAK",
          "PER",
          "PHL",
          "SEN",
          "SLE",
          "SWZ",
          "TCD",
          "TGO",
          "TJK",
          "TLS",
          "TZA",
          "UGA",
          "ZAF",
          "ZMB",
          "ZWE"
         ]
        },
        {
         "marker": {
          "color": "rgba(240, 230, 140, 0.95)",
          "line": {
           "width": 1
          },
          "size": 16,
          "symbol": "circle"
         },
         "mode": "markers",
         "name": "14",
         "type": "scatter",
         "x": [
          null,
          null,
          null,
          null,
          null,
          null,
          null,
          null,
          -27.38,
          null,
          null,
          null,
          null,
          null,
          -11.294,
          null,
          null,
          null,
          null,
          null,
          null,
          -4.038,
          null,
          null,
          null,
          -6.81,
          null,
          null,
          null,
          null,
          -5.977,
          null,
          null,
          null,
          null,
          null,
          null,
          null,
          null,
          null,
          null,
          null,
          null,
          null,
          null,
          null,
          null,
          null,
          -31.877,
          null,
          null,
          -8.306,
          null,
          null
         ],
         "y": [
          "AGO",
          "ARM",
          "BEN",
          "BFA",
          "BGD",
          "BOL",
          "CIV",
          "CMR",
          "COD",
          "COM",
          "DOM",
          "EGY",
          "ETH",
          "GAB",
          "GHA",
          "GIN",
          "GMB",
          "GTM",
          "GUY",
          "HND",
          "HTI",
          "IND",
          "JOR",
          "KEN",
          "KGZ",
          "KHM",
          "LBR",
          "LSO",
          "MAR",
          "MDA",
          "MDG",
          "MLI",
          "MMR",
          "MOZ",
          "MRT",
          "MWI",
          "NAM",
          "NGA",
          "NIC",
          "PAK",
          "PER",
          "PHL",
          "SEN",
          "SLE",
          "SWZ",
          "TCD",
          "TGO",
          "TJK",
          "TLS",
          "TZA",
          "UGA",
          "ZAF",
          "ZMB",
          "ZWE"
         ]
        },
        {
         "marker": {
          "color": "rgba(240, 230, 140, 0.95)",
          "line": {
           "width": 1
          },
          "size": 16,
          "symbol": "circle"
         },
         "mode": "markers",
         "name": "15",
         "type": "scatter",
         "x": [
          -18.097,
          19.563,
          null,
          null,
          2.068,
          null,
          null,
          null,
          null,
          null,
          -1.284,
          null,
          null,
          45.125,
          -12.252,
          null,
          null,
          -25.685,
          null,
          null,
          null,
          -4.488,
          0.812,
          -11.519,
          null,
          -6.508,
          null,
          null,
          null,
          null,
          -8.302,
          null,
          null,
          null,
          null,
          null,
          null,
          null,
          null,
          -11.097,
          null,
          null,
          null,
          null,
          null,
          null,
          -20.205,
          null,
          -26.53,
          null,
          null,
          -8.811,
          null,
          null
         ],
         "y": [
          "AGO",
          "ARM",
          "BEN",
          "BFA",
          "BGD",
          "BOL",
          "CIV",
          "CMR",
          "COD",
          "COM",
          "DOM",
          "EGY",
          "ETH",
          "GAB",
          "GHA",
          "GIN",
          "GMB",
          "GTM",
          "GUY",
          "HND",
          "HTI",
          "IND",
          "JOR",
          "KEN",
          "KGZ",
          "KHM",
          "LBR",
          "LSO",
          "MAR",
          "MDA",
          "MDG",
          "MLI",
          "MMR",
          "MOZ",
          "MRT",
          "MWI",
          "NAM",
          "NGA",
          "NIC",
          "PAK",
          "PER",
          "PHL",
          "SEN",
          "SLE",
          "SWZ",
          "TCD",
          "TGO",
          "TJK",
          "TLS",
          "TZA",
          "UGA",
          "ZAF",
          "ZMB",
          "ZWE"
         ]
        },
        {
         "marker": {
          "color": "rgba(240, 230, 140, 0.95)",
          "line": {
           "width": 1
          },
          "size": 16,
          "symbol": "circle"
         },
         "mode": "markers",
         "name": "16",
         "type": "scatter",
         "x": [
          -16.236,
          19.891,
          -5.021,
          null,
          3.613,
          null,
          -13.779,
          -9.092,
          -66.238,
          null,
          -1.972,
          null,
          null,
          null,
          -13.349,
          null,
          null,
          -30.992,
          null,
          null,
          null,
          -4.808,
          0.797,
          -11.245,
          null,
          -5.265,
          null,
          null,
          null,
          null,
          -10.482,
          null,
          null,
          -11.294,
          null,
          null,
          null,
          null,
          null,
          null,
          null,
          null,
          null,
          null,
          null,
          null,
          -14.54,
          -10.2,
          null,
          null,
          null,
          -7.01,
          null,
          null
         ],
         "y": [
          "AGO",
          "ARM",
          "BEN",
          "BFA",
          "BGD",
          "BOL",
          "CIV",
          "CMR",
          "COD",
          "COM",
          "DOM",
          "EGY",
          "ETH",
          "GAB",
          "GHA",
          "GIN",
          "GMB",
          "GTM",
          "GUY",
          "HND",
          "HTI",
          "IND",
          "JOR",
          "KEN",
          "KGZ",
          "KHM",
          "LBR",
          "LSO",
          "MAR",
          "MDA",
          "MDG",
          "MLI",
          "MMR",
          "MOZ",
          "MRT",
          "MWI",
          "NAM",
          "NGA",
          "NIC",
          "PAK",
          "PER",
          "PHL",
          "SEN",
          "SLE",
          "SWZ",
          "TCD",
          "TGO",
          "TJK",
          "TLS",
          "TZA",
          "UGA",
          "ZAF",
          "ZMB",
          "ZWE"
         ]
        }
       ],
       "layout": {
        "height": 600,
        "hovermode": "closest",
        "legend": {
         "font": {
          "size": 10
         },
         "xanchor": "center",
         "yanchor": "top"
        },
        "margin": {
         "b": 50,
         "l": 140,
         "r": 40,
         "t": 80
        },
        "paper_bgcolor": "white",
        "plot_bgcolor": "white",
        "shapes": [
         {
          "line": {
           "color": "red",
           "dash": "dashdot",
           "width": 2
          },
          "type": "line",
          "x0": 0,
          "x1": 0,
          "y0": 0,
          "y1": 54
         }
        ],
        "template": {
         "data": {
          "bar": [
           {
            "error_x": {
             "color": "#2a3f5f"
            },
            "error_y": {
             "color": "#2a3f5f"
            },
            "marker": {
             "line": {
              "color": "#E5ECF6",
              "width": 0.5
             },
             "pattern": {
              "fillmode": "overlay",
              "size": 10,
              "solidity": 0.2
             }
            },
            "type": "bar"
           }
          ],
          "barpolar": [
           {
            "marker": {
             "line": {
              "color": "#E5ECF6",
              "width": 0.5
             },
             "pattern": {
              "fillmode": "overlay",
              "size": 10,
              "solidity": 0.2
             }
            },
            "type": "barpolar"
           }
          ],
          "carpet": [
           {
            "aaxis": {
             "endlinecolor": "#2a3f5f",
             "gridcolor": "white",
             "linecolor": "white",
             "minorgridcolor": "white",
             "startlinecolor": "#2a3f5f"
            },
            "baxis": {
             "endlinecolor": "#2a3f5f",
             "gridcolor": "white",
             "linecolor": "white",
             "minorgridcolor": "white",
             "startlinecolor": "#2a3f5f"
            },
            "type": "carpet"
           }
          ],
          "choropleth": [
           {
            "colorbar": {
             "outlinewidth": 0,
             "ticks": ""
            },
            "type": "choropleth"
           }
          ],
          "contour": [
           {
            "colorbar": {
             "outlinewidth": 0,
             "ticks": ""
            },
            "colorscale": [
             [
              0,
              "#0d0887"
             ],
             [
              0.1111111111111111,
              "#46039f"
             ],
             [
              0.2222222222222222,
              "#7201a8"
             ],
             [
              0.3333333333333333,
              "#9c179e"
             ],
             [
              0.4444444444444444,
              "#bd3786"
             ],
             [
              0.5555555555555556,
              "#d8576b"
             ],
             [
              0.6666666666666666,
              "#ed7953"
             ],
             [
              0.7777777777777778,
              "#fb9f3a"
             ],
             [
              0.8888888888888888,
              "#fdca26"
             ],
             [
              1,
              "#f0f921"
             ]
            ],
            "type": "contour"
           }
          ],
          "contourcarpet": [
           {
            "colorbar": {
             "outlinewidth": 0,
             "ticks": ""
            },
            "type": "contourcarpet"
           }
          ],
          "heatmap": [
           {
            "colorbar": {
             "outlinewidth": 0,
             "ticks": ""
            },
            "colorscale": [
             [
              0,
              "#0d0887"
             ],
             [
              0.1111111111111111,
              "#46039f"
             ],
             [
              0.2222222222222222,
              "#7201a8"
             ],
             [
              0.3333333333333333,
              "#9c179e"
             ],
             [
              0.4444444444444444,
              "#bd3786"
             ],
             [
              0.5555555555555556,
              "#d8576b"
             ],
             [
              0.6666666666666666,
              "#ed7953"
             ],
             [
              0.7777777777777778,
              "#fb9f3a"
             ],
             [
              0.8888888888888888,
              "#fdca26"
             ],
             [
              1,
              "#f0f921"
             ]
            ],
            "type": "heatmap"
           }
          ],
          "heatmapgl": [
           {
            "colorbar": {
             "outlinewidth": 0,
             "ticks": ""
            },
            "colorscale": [
             [
              0,
              "#0d0887"
             ],
             [
              0.1111111111111111,
              "#46039f"
             ],
             [
              0.2222222222222222,
              "#7201a8"
             ],
             [
              0.3333333333333333,
              "#9c179e"
             ],
             [
              0.4444444444444444,
              "#bd3786"
             ],
             [
              0.5555555555555556,
              "#d8576b"
             ],
             [
              0.6666666666666666,
              "#ed7953"
             ],
             [
              0.7777777777777778,
              "#fb9f3a"
             ],
             [
              0.8888888888888888,
              "#fdca26"
             ],
             [
              1,
              "#f0f921"
             ]
            ],
            "type": "heatmapgl"
           }
          ],
          "histogram": [
           {
            "marker": {
             "pattern": {
              "fillmode": "overlay",
              "size": 10,
              "solidity": 0.2
             }
            },
            "type": "histogram"
           }
          ],
          "histogram2d": [
           {
            "colorbar": {
             "outlinewidth": 0,
             "ticks": ""
            },
            "colorscale": [
             [
              0,
              "#0d0887"
             ],
             [
              0.1111111111111111,
              "#46039f"
             ],
             [
              0.2222222222222222,
              "#7201a8"
             ],
             [
              0.3333333333333333,
              "#9c179e"
             ],
             [
              0.4444444444444444,
              "#bd3786"
             ],
             [
              0.5555555555555556,
              "#d8576b"
             ],
             [
              0.6666666666666666,
              "#ed7953"
             ],
             [
              0.7777777777777778,
              "#fb9f3a"
             ],
             [
              0.8888888888888888,
              "#fdca26"
             ],
             [
              1,
              "#f0f921"
             ]
            ],
            "type": "histogram2d"
           }
          ],
          "histogram2dcontour": [
           {
            "colorbar": {
             "outlinewidth": 0,
             "ticks": ""
            },
            "colorscale": [
             [
              0,
              "#0d0887"
             ],
             [
              0.1111111111111111,
              "#46039f"
             ],
             [
              0.2222222222222222,
              "#7201a8"
             ],
             [
              0.3333333333333333,
              "#9c179e"
             ],
             [
              0.4444444444444444,
              "#bd3786"
             ],
             [
              0.5555555555555556,
              "#d8576b"
             ],
             [
              0.6666666666666666,
              "#ed7953"
             ],
             [
              0.7777777777777778,
              "#fb9f3a"
             ],
             [
              0.8888888888888888,
              "#fdca26"
             ],
             [
              1,
              "#f0f921"
             ]
            ],
            "type": "histogram2dcontour"
           }
          ],
          "mesh3d": [
           {
            "colorbar": {
             "outlinewidth": 0,
             "ticks": ""
            },
            "type": "mesh3d"
           }
          ],
          "parcoords": [
           {
            "line": {
             "colorbar": {
              "outlinewidth": 0,
              "ticks": ""
             }
            },
            "type": "parcoords"
           }
          ],
          "pie": [
           {
            "automargin": true,
            "type": "pie"
           }
          ],
          "scatter": [
           {
            "fillpattern": {
             "fillmode": "overlay",
             "size": 10,
             "solidity": 0.2
            },
            "type": "scatter"
           }
          ],
          "scatter3d": [
           {
            "line": {
             "colorbar": {
              "outlinewidth": 0,
              "ticks": ""
             }
            },
            "marker": {
             "colorbar": {
              "outlinewidth": 0,
              "ticks": ""
             }
            },
            "type": "scatter3d"
           }
          ],
          "scattercarpet": [
           {
            "marker": {
             "colorbar": {
              "outlinewidth": 0,
              "ticks": ""
             }
            },
            "type": "scattercarpet"
           }
          ],
          "scattergeo": [
           {
            "marker": {
             "colorbar": {
              "outlinewidth": 0,
              "ticks": ""
             }
            },
            "type": "scattergeo"
           }
          ],
          "scattergl": [
           {
            "marker": {
             "colorbar": {
              "outlinewidth": 0,
              "ticks": ""
             }
            },
            "type": "scattergl"
           }
          ],
          "scattermapbox": [
           {
            "marker": {
             "colorbar": {
              "outlinewidth": 0,
              "ticks": ""
             }
            },
            "type": "scattermapbox"
           }
          ],
          "scatterpolar": [
           {
            "marker": {
             "colorbar": {
              "outlinewidth": 0,
              "ticks": ""
             }
            },
            "type": "scatterpolar"
           }
          ],
          "scatterpolargl": [
           {
            "marker": {
             "colorbar": {
              "outlinewidth": 0,
              "ticks": ""
             }
            },
            "type": "scatterpolargl"
           }
          ],
          "scatterternary": [
           {
            "marker": {
             "colorbar": {
              "outlinewidth": 0,
              "ticks": ""
             }
            },
            "type": "scatterternary"
           }
          ],
          "surface": [
           {
            "colorbar": {
             "outlinewidth": 0,
             "ticks": ""
            },
            "colorscale": [
             [
              0,
              "#0d0887"
             ],
             [
              0.1111111111111111,
              "#46039f"
             ],
             [
              0.2222222222222222,
              "#7201a8"
             ],
             [
              0.3333333333333333,
              "#9c179e"
             ],
             [
              0.4444444444444444,
              "#bd3786"
             ],
             [
              0.5555555555555556,
              "#d8576b"
             ],
             [
              0.6666666666666666,
              "#ed7953"
             ],
             [
              0.7777777777777778,
              "#fb9f3a"
             ],
             [
              0.8888888888888888,
              "#fdca26"
             ],
             [
              1,
              "#f0f921"
             ]
            ],
            "type": "surface"
           }
          ],
          "table": [
           {
            "cells": {
             "fill": {
              "color": "#EBF0F8"
             },
             "line": {
              "color": "white"
             }
            },
            "header": {
             "fill": {
              "color": "#C8D4E3"
             },
             "line": {
              "color": "white"
             }
            },
            "type": "table"
           }
          ]
         },
         "layout": {
          "annotationdefaults": {
           "arrowcolor": "#2a3f5f",
           "arrowhead": 0,
           "arrowwidth": 1
          },
          "autotypenumbers": "strict",
          "coloraxis": {
           "colorbar": {
            "outlinewidth": 0,
            "ticks": ""
           }
          },
          "colorscale": {
           "diverging": [
            [
             0,
             "#8e0152"
            ],
            [
             0.1,
             "#c51b7d"
            ],
            [
             0.2,
             "#de77ae"
            ],
            [
             0.3,
             "#f1b6da"
            ],
            [
             0.4,
             "#fde0ef"
            ],
            [
             0.5,
             "#f7f7f7"
            ],
            [
             0.6,
             "#e6f5d0"
            ],
            [
             0.7,
             "#b8e186"
            ],
            [
             0.8,
             "#7fbc41"
            ],
            [
             0.9,
             "#4d9221"
            ],
            [
             1,
             "#276419"
            ]
           ],
           "sequential": [
            [
             0,
             "#0d0887"
            ],
            [
             0.1111111111111111,
             "#46039f"
            ],
            [
             0.2222222222222222,
             "#7201a8"
            ],
            [
             0.3333333333333333,
             "#9c179e"
            ],
            [
             0.4444444444444444,
             "#bd3786"
            ],
            [
             0.5555555555555556,
             "#d8576b"
            ],
            [
             0.6666666666666666,
             "#ed7953"
            ],
            [
             0.7777777777777778,
             "#fb9f3a"
            ],
            [
             0.8888888888888888,
             "#fdca26"
            ],
            [
             1,
             "#f0f921"
            ]
           ],
           "sequentialminus": [
            [
             0,
             "#0d0887"
            ],
            [
             0.1111111111111111,
             "#46039f"
            ],
            [
             0.2222222222222222,
             "#7201a8"
            ],
            [
             0.3333333333333333,
             "#9c179e"
            ],
            [
             0.4444444444444444,
             "#bd3786"
            ],
            [
             0.5555555555555556,
             "#d8576b"
            ],
            [
             0.6666666666666666,
             "#ed7953"
            ],
            [
             0.7777777777777778,
             "#fb9f3a"
            ],
            [
             0.8888888888888888,
             "#fdca26"
            ],
            [
             1,
             "#f0f921"
            ]
           ]
          },
          "colorway": [
           "#636efa",
           "#EF553B",
           "#00cc96",
           "#ab63fa",
           "#FFA15A",
           "#19d3f3",
           "#FF6692",
           "#B6E880",
           "#FF97FF",
           "#FECB52"
          ],
          "font": {
           "color": "#2a3f5f"
          },
          "geo": {
           "bgcolor": "white",
           "lakecolor": "white",
           "landcolor": "#E5ECF6",
           "showlakes": true,
           "showland": true,
           "subunitcolor": "white"
          },
          "hoverlabel": {
           "align": "left"
          },
          "hovermode": "closest",
          "mapbox": {
           "style": "light"
          },
          "paper_bgcolor": "white",
          "plot_bgcolor": "#E5ECF6",
          "polar": {
           "angularaxis": {
            "gridcolor": "white",
            "linecolor": "white",
            "ticks": ""
           },
           "bgcolor": "#E5ECF6",
           "radialaxis": {
            "gridcolor": "white",
            "linecolor": "white",
            "ticks": ""
           }
          },
          "scene": {
           "xaxis": {
            "backgroundcolor": "#E5ECF6",
            "gridcolor": "white",
            "gridwidth": 2,
            "linecolor": "white",
            "showbackground": true,
            "ticks": "",
            "zerolinecolor": "white"
           },
           "yaxis": {
            "backgroundcolor": "#E5ECF6",
            "gridcolor": "white",
            "gridwidth": 2,
            "linecolor": "white",
            "showbackground": true,
            "ticks": "",
            "zerolinecolor": "white"
           },
           "zaxis": {
            "backgroundcolor": "#E5ECF6",
            "gridcolor": "white",
            "gridwidth": 2,
            "linecolor": "white",
            "showbackground": true,
            "ticks": "",
            "zerolinecolor": "white"
           }
          },
          "shapedefaults": {
           "line": {
            "color": "#2a3f5f"
           }
          },
          "ternary": {
           "aaxis": {
            "gridcolor": "white",
            "linecolor": "white",
            "ticks": ""
           },
           "baxis": {
            "gridcolor": "white",
            "linecolor": "white",
            "ticks": ""
           },
           "bgcolor": "#E5ECF6",
           "caxis": {
            "gridcolor": "white",
            "linecolor": "white",
            "ticks": ""
           }
          },
          "title": {
           "x": 0.05
          },
          "xaxis": {
           "automargin": true,
           "gridcolor": "white",
           "linecolor": "white",
           "ticks": "",
           "title": {
            "standoff": 15
           },
           "zerolinecolor": "white",
           "zerolinewidth": 2
          },
          "yaxis": {
           "automargin": true,
           "gridcolor": "white",
           "linecolor": "white",
           "ticks": "",
           "title": {
            "standoff": 15
           },
           "zerolinecolor": "white",
           "zerolinewidth": 2
          }
         }
        },
        "title": {
         "text": "drought"
        },
        "width": 1600,
        "xaxis": {
         "linecolor": "rgb(102, 102, 102)",
         "showgrid": false,
         "showline": true,
         "showticklabels": true,
         "tickcolor": "rgb(102, 102, 102)",
         "tickfont": {
          "color": "rgb(102, 102, 102)"
         },
         "ticks": "outside"
        }
       }
      }
     },
     "metadata": {},
     "output_type": "display_data"
    },
    {
     "data": {
      "application/vnd.plotly.v1+json": {
       "config": {
        "plotlyServerURL": "https://plot.ly"
       },
       "data": [
        {
         "marker": {
          "color": "rgba(156, 165, 196, 0.95)",
          "line": {
           "width": 1
          },
          "size": 16,
          "symbol": "circle"
         },
         "mode": "markers",
         "name": "1",
         "type": "scatter",
         "x": [
          null,
          -11.809,
          31.378,
          null,
          null,
          null,
          null,
          null,
          null,
          null,
          null,
          null,
          null,
          null,
          -70.929,
          null,
          null,
          null,
          null,
          null,
          null,
          null,
          -8,
          null,
          null,
          -24.447,
          null,
          null,
          null,
          null,
          -44.649,
          null,
          null,
          null,
          null,
          null,
          null,
          null,
          null,
          null,
          null,
          null,
          null,
          null,
          null,
          null,
          null,
          null,
          -195.25,
          null,
          null,
          350.037,
          null,
          null
         ],
         "y": [
          "AGO",
          "ARM",
          "BEN",
          "BFA",
          "BGD",
          "BOL",
          "CIV",
          "CMR",
          "COD",
          "COM",
          "DOM",
          "EGY",
          "ETH",
          "GAB",
          "GHA",
          "GIN",
          "GMB",
          "GTM",
          "GUY",
          "HND",
          "HTI",
          "IND",
          "JOR",
          "KEN",
          "KGZ",
          "KHM",
          "LBR",
          "LSO",
          "MAR",
          "MDA",
          "MDG",
          "MLI",
          "MMR",
          "MOZ",
          "MRT",
          "MWI",
          "NAM",
          "NGA",
          "NIC",
          "PAK",
          "PER",
          "PHL",
          "SEN",
          "SLE",
          "SWZ",
          "TCD",
          "TGO",
          "TJK",
          "TLS",
          "TZA",
          "UGA",
          "ZAF",
          "ZMB",
          "ZWE"
         ]
        },
        {
         "marker": {
          "color": "rgba(156, 165, 196, 0.95)",
          "line": {
           "width": 1
          },
          "size": 16,
          "symbol": "circle"
         },
         "mode": "markers",
         "name": "2",
         "type": "scatter",
         "x": [
          null,
          -7.324,
          null,
          null,
          -137.44,
          null,
          92.993,
          null,
          null,
          null,
          null,
          null,
          null,
          null,
          -58.413,
          null,
          null,
          null,
          null,
          null,
          null,
          null,
          -4.268,
          null,
          null,
          -29.272,
          null,
          -52.712,
          null,
          null,
          -29.05,
          null,
          null,
          null,
          -86.418,
          null,
          null,
          null,
          null,
          null,
          null,
          null,
          24.35,
          -45.775,
          null,
          null,
          null,
          null,
          -59.231,
          null,
          null,
          25.52,
          -69.792,
          null
         ],
         "y": [
          "AGO",
          "ARM",
          "BEN",
          "BFA",
          "BGD",
          "BOL",
          "CIV",
          "CMR",
          "COD",
          "COM",
          "DOM",
          "EGY",
          "ETH",
          "GAB",
          "GHA",
          "GIN",
          "GMB",
          "GTM",
          "GUY",
          "HND",
          "HTI",
          "IND",
          "JOR",
          "KEN",
          "KGZ",
          "KHM",
          "LBR",
          "LSO",
          "MAR",
          "MDA",
          "MDG",
          "MLI",
          "MMR",
          "MOZ",
          "MRT",
          "MWI",
          "NAM",
          "NGA",
          "NIC",
          "PAK",
          "PER",
          "PHL",
          "SEN",
          "SLE",
          "SWZ",
          "TCD",
          "TGO",
          "TJK",
          "TLS",
          "TZA",
          "UGA",
          "ZAF",
          "ZMB",
          "ZWE"
         ]
        },
        {
         "marker": {
          "color": "rgba(156, 165, 196, 0.95)",
          "line": {
           "width": 1
          },
          "size": 16,
          "symbol": "circle"
         },
         "mode": "markers",
         "name": "3",
         "type": "scatter",
         "x": [
          32.604,
          -1.592,
          -38.853,
          null,
          -145.714,
          null,
          null,
          null,
          null,
          null,
          null,
          null,
          null,
          null,
          -54.76,
          null,
          null,
          null,
          null,
          null,
          null,
          null,
          -3.156,
          null,
          null,
          -28.667,
          null,
          -43.376,
          null,
          null,
          -25.618,
          null,
          null,
          null,
          -83.575,
          null,
          null,
          null,
          -80.239,
          null,
          null,
          null,
          24.53,
          -49.066,
          null,
          null,
          null,
          null,
          -47.313,
          null,
          null,
          21.651,
          -49.91,
          null
         ],
         "y": [
          "AGO",
          "ARM",
          "BEN",
          "BFA",
          "BGD",
          "BOL",
          "CIV",
          "CMR",
          "COD",
          "COM",
          "DOM",
          "EGY",
          "ETH",
          "GAB",
          "GHA",
          "GIN",
          "GMB",
          "GTM",
          "GUY",
          "HND",
          "HTI",
          "IND",
          "JOR",
          "KEN",
          "KGZ",
          "KHM",
          "LBR",
          "LSO",
          "MAR",
          "MDA",
          "MDG",
          "MLI",
          "MMR",
          "MOZ",
          "MRT",
          "MWI",
          "NAM",
          "NGA",
          "NIC",
          "PAK",
          "PER",
          "PHL",
          "SEN",
          "SLE",
          "SWZ",
          "TCD",
          "TGO",
          "TJK",
          "TLS",
          "TZA",
          "UGA",
          "ZAF",
          "ZMB",
          "ZWE"
         ]
        },
        {
         "marker": {
          "color": "rgba(156, 165, 196, 0.95)",
          "line": {
           "width": 1
          },
          "size": 16,
          "symbol": "circle"
         },
         "mode": "markers",
         "name": "4",
         "type": "scatter",
         "x": [
          57.776,
          -1.035,
          -28.097,
          null,
          -145.446,
          null,
          null,
          -11.046,
          null,
          null,
          11.043,
          null,
          null,
          null,
          null,
          null,
          null,
          null,
          null,
          null,
          null,
          -17.256,
          null,
          null,
          null,
          -27.529,
          null,
          -43.376,
          null,
          null,
          -26.375,
          -16.398,
          null,
          -22.899,
          -81.157,
          null,
          null,
          null,
          null,
          39.041,
          null,
          null,
          25,
          -49.266,
          null,
          null,
          null,
          6.812,
          -46.294,
          null,
          null,
          16.195,
          -48.809,
          null
         ],
         "y": [
          "AGO",
          "ARM",
          "BEN",
          "BFA",
          "BGD",
          "BOL",
          "CIV",
          "CMR",
          "COD",
          "COM",
          "DOM",
          "EGY",
          "ETH",
          "GAB",
          "GHA",
          "GIN",
          "GMB",
          "GTM",
          "GUY",
          "HND",
          "HTI",
          "IND",
          "JOR",
          "KEN",
          "KGZ",
          "KHM",
          "LBR",
          "LSO",
          "MAR",
          "MDA",
          "MDG",
          "MLI",
          "MMR",
          "MOZ",
          "MRT",
          "MWI",
          "NAM",
          "NGA",
          "NIC",
          "PAK",
          "PER",
          "PHL",
          "SEN",
          "SLE",
          "SWZ",
          "TCD",
          "TGO",
          "TJK",
          "TLS",
          "TZA",
          "UGA",
          "ZAF",
          "ZMB",
          "ZWE"
         ]
        },
        {
         "marker": {
          "color": "rgba(204, 204, 204, 0.95)",
          "line": {
           "width": 1
          },
          "size": 16,
          "symbol": "circle"
         },
         "mode": "markers",
         "name": "5",
         "type": "scatter",
         "x": [
          null,
          null,
          null,
          -18.551,
          null,
          null,
          null,
          null,
          null,
          null,
          null,
          null,
          null,
          null,
          null,
          null,
          null,
          null,
          null,
          null,
          null,
          null,
          null,
          null,
          null,
          null,
          null,
          null,
          null,
          null,
          null,
          null,
          null,
          null,
          null,
          null,
          null,
          null,
          null,
          null,
          null,
          null,
          null,
          null,
          null,
          null,
          null,
          null,
          -33.692,
          null,
          null,
          null,
          null,
          null
         ],
         "y": [
          "AGO",
          "ARM",
          "BEN",
          "BFA",
          "BGD",
          "BOL",
          "CIV",
          "CMR",
          "COD",
          "COM",
          "DOM",
          "EGY",
          "ETH",
          "GAB",
          "GHA",
          "GIN",
          "GMB",
          "GTM",
          "GUY",
          "HND",
          "HTI",
          "IND",
          "JOR",
          "KEN",
          "KGZ",
          "KHM",
          "LBR",
          "LSO",
          "MAR",
          "MDA",
          "MDG",
          "MLI",
          "MMR",
          "MOZ",
          "MRT",
          "MWI",
          "NAM",
          "NGA",
          "NIC",
          "PAK",
          "PER",
          "PHL",
          "SEN",
          "SLE",
          "SWZ",
          "TCD",
          "TGO",
          "TJK",
          "TLS",
          "TZA",
          "UGA",
          "ZAF",
          "ZMB",
          "ZWE"
         ]
        },
        {
         "marker": {
          "color": "rgba(204, 204, 204, 0.95)",
          "line": {
           "width": 1
          },
          "size": 16,
          "symbol": "circle"
         },
         "mode": "markers",
         "name": "6",
         "type": "scatter",
         "x": [
          null,
          null,
          null,
          -17.414,
          null,
          null,
          null,
          null,
          null,
          null,
          -1.538,
          null,
          null,
          null,
          null,
          null,
          null,
          null,
          null,
          null,
          null,
          null,
          null,
          null,
          null,
          null,
          null,
          -9.863,
          null,
          null,
          null,
          null,
          42.502,
          null,
          null,
          null,
          null,
          -11.298,
          null,
          null,
          null,
          null,
          null,
          -10.539,
          null,
          null,
          null,
          null,
          -13.136,
          -12.556,
          null,
          null,
          null,
          null
         ],
         "y": [
          "AGO",
          "ARM",
          "BEN",
          "BFA",
          "BGD",
          "BOL",
          "CIV",
          "CMR",
          "COD",
          "COM",
          "DOM",
          "EGY",
          "ETH",
          "GAB",
          "GHA",
          "GIN",
          "GMB",
          "GTM",
          "GUY",
          "HND",
          "HTI",
          "IND",
          "JOR",
          "KEN",
          "KGZ",
          "KHM",
          "LBR",
          "LSO",
          "MAR",
          "MDA",
          "MDG",
          "MLI",
          "MMR",
          "MOZ",
          "MRT",
          "MWI",
          "NAM",
          "NGA",
          "NIC",
          "PAK",
          "PER",
          "PHL",
          "SEN",
          "SLE",
          "SWZ",
          "TCD",
          "TGO",
          "TJK",
          "TLS",
          "TZA",
          "UGA",
          "ZAF",
          "ZMB",
          "ZWE"
         ]
        },
        {
         "marker": {
          "color": "rgba(204, 204, 204, 0.95)",
          "line": {
           "width": 1
          },
          "size": 16,
          "symbol": "circle"
         },
         "mode": "markers",
         "name": "7",
         "type": "scatter",
         "x": [
          -28.042,
          -0.79,
          null,
          -13.789,
          -1.927,
          null,
          null,
          null,
          null,
          null,
          -1.21,
          -1.551,
          null,
          null,
          null,
          null,
          null,
          null,
          null,
          null,
          null,
          -2.443,
          0.244,
          null,
          null,
          null,
          null,
          null,
          null,
          null,
          null,
          null,
          38.776,
          null,
          -5.011,
          null,
          null,
          null,
          null,
          null,
          null,
          -2.174,
          null,
          -8.512,
          null,
          null,
          32.973,
          -3.187,
          -11.35,
          -7.816,
          null,
          -11.529,
          null,
          null
         ],
         "y": [
          "AGO",
          "ARM",
          "BEN",
          "BFA",
          "BGD",
          "BOL",
          "CIV",
          "CMR",
          "COD",
          "COM",
          "DOM",
          "EGY",
          "ETH",
          "GAB",
          "GHA",
          "GIN",
          "GMB",
          "GTM",
          "GUY",
          "HND",
          "HTI",
          "IND",
          "JOR",
          "KEN",
          "KGZ",
          "KHM",
          "LBR",
          "LSO",
          "MAR",
          "MDA",
          "MDG",
          "MLI",
          "MMR",
          "MOZ",
          "MRT",
          "MWI",
          "NAM",
          "NGA",
          "NIC",
          "PAK",
          "PER",
          "PHL",
          "SEN",
          "SLE",
          "SWZ",
          "TCD",
          "TGO",
          "TJK",
          "TLS",
          "TZA",
          "UGA",
          "ZAF",
          "ZMB",
          "ZWE"
         ]
        },
        {
         "marker": {
          "color": "rgba(204, 204, 204, 0.95)",
          "line": {
           "width": 1
          },
          "size": 16,
          "symbol": "circle"
         },
         "mode": "markers",
         "name": "8",
         "type": "scatter",
         "x": [
          -10.542,
          -0.668,
          -4.883,
          null,
          -1.372,
          -4.804,
          null,
          -2.228,
          null,
          null,
          -1.054,
          null,
          null,
          null,
          null,
          null,
          null,
          1.494,
          null,
          null,
          null,
          -2.525,
          0.253,
          null,
          null,
          null,
          null,
          null,
          null,
          null,
          null,
          null,
          14.1,
          null,
          null,
          null,
          null,
          null,
          null,
          -3.127,
          null,
          -2.465,
          -5.091,
          -9.551,
          null,
          null,
          35.375,
          -4.691,
          null,
          -6.373,
          null,
          -7.93,
          null,
          null
         ],
         "y": [
          "AGO",
          "ARM",
          "BEN",
          "BFA",
          "BGD",
          "BOL",
          "CIV",
          "CMR",
          "COD",
          "COM",
          "DOM",
          "EGY",
          "ETH",
          "GAB",
          "GHA",
          "GIN",
          "GMB",
          "GTM",
          "GUY",
          "HND",
          "HTI",
          "IND",
          "JOR",
          "KEN",
          "KGZ",
          "KHM",
          "LBR",
          "LSO",
          "MAR",
          "MDA",
          "MDG",
          "MLI",
          "MMR",
          "MOZ",
          "MRT",
          "MWI",
          "NAM",
          "NGA",
          "NIC",
          "PAK",
          "PER",
          "PHL",
          "SEN",
          "SLE",
          "SWZ",
          "TCD",
          "TGO",
          "TJK",
          "TLS",
          "TZA",
          "UGA",
          "ZAF",
          "ZMB",
          "ZWE"
         ]
        },
        {
         "marker": {
          "color": "rgba(255, 166, 86, 0.95)",
          "line": {
           "width": 1
          },
          "size": 16,
          "symbol": "circle"
         },
         "mode": "markers",
         "name": "9",
         "type": "scatter",
         "x": [
          null,
          null,
          null,
          null,
          null,
          null,
          null,
          null,
          null,
          null,
          null,
          null,
          -8.583,
          null,
          null,
          null,
          null,
          null,
          null,
          null,
          null,
          null,
          null,
          null,
          null,
          null,
          null,
          null,
          null,
          null,
          null,
          null,
          null,
          null,
          null,
          null,
          null,
          null,
          null,
          null,
          null,
          null,
          null,
          null,
          null,
          null,
          null,
          null,
          10.8,
          null,
          null,
          null,
          null,
          null
         ],
         "y": [
          "AGO",
          "ARM",
          "BEN",
          "BFA",
          "BGD",
          "BOL",
          "CIV",
          "CMR",
          "COD",
          "COM",
          "DOM",
          "EGY",
          "ETH",
          "GAB",
          "GHA",
          "GIN",
          "GMB",
          "GTM",
          "GUY",
          "HND",
          "HTI",
          "IND",
          "JOR",
          "KEN",
          "KGZ",
          "KHM",
          "LBR",
          "LSO",
          "MAR",
          "MDA",
          "MDG",
          "MLI",
          "MMR",
          "MOZ",
          "MRT",
          "MWI",
          "NAM",
          "NGA",
          "NIC",
          "PAK",
          "PER",
          "PHL",
          "SEN",
          "SLE",
          "SWZ",
          "TCD",
          "TGO",
          "TJK",
          "TLS",
          "TZA",
          "UGA",
          "ZAF",
          "ZMB",
          "ZWE"
         ]
        },
        {
         "marker": {
          "color": "rgba(255, 166, 86, 0.95)",
          "line": {
           "width": 1
          },
          "size": 16,
          "symbol": "circle"
         },
         "mode": "markers",
         "name": "10",
         "type": "scatter",
         "x": [
          null,
          null,
          -129.113,
          null,
          -7.618,
          null,
          null,
          null,
          null,
          null,
          -5.399,
          -8.392,
          null,
          null,
          -4.849,
          null,
          null,
          null,
          null,
          null,
          null,
          null,
          -0.819,
          null,
          null,
          -6.616,
          null,
          -13.731,
          null,
          null,
          null,
          14.412,
          null,
          -69.386,
          null,
          null,
          null,
          null,
          null,
          null,
          -4.18,
          null,
          null,
          null,
          null,
          null,
          null,
          null,
          null,
          null,
          null,
          null,
          null,
          null
         ],
         "y": [
          "AGO",
          "ARM",
          "BEN",
          "BFA",
          "BGD",
          "BOL",
          "CIV",
          "CMR",
          "COD",
          "COM",
          "DOM",
          "EGY",
          "ETH",
          "GAB",
          "GHA",
          "GIN",
          "GMB",
          "GTM",
          "GUY",
          "HND",
          "HTI",
          "IND",
          "JOR",
          "KEN",
          "KGZ",
          "KHM",
          "LBR",
          "LSO",
          "MAR",
          "MDA",
          "MDG",
          "MLI",
          "MMR",
          "MOZ",
          "MRT",
          "MWI",
          "NAM",
          "NGA",
          "NIC",
          "PAK",
          "PER",
          "PHL",
          "SEN",
          "SLE",
          "SWZ",
          "TCD",
          "TGO",
          "TJK",
          "TLS",
          "TZA",
          "UGA",
          "ZAF",
          "ZMB",
          "ZWE"
         ]
        },
        {
         "marker": {
          "color": "rgba(255, 166, 86, 0.95)",
          "line": {
           "width": 1
          },
          "size": 16,
          "symbol": "circle"
         },
         "mode": "markers",
         "name": "11",
         "type": "scatter",
         "x": [
          null,
          -30.177,
          -122.699,
          -13.332,
          -5.685,
          null,
          null,
          null,
          6.448,
          null,
          -3.707,
          -10.073,
          null,
          -10.07,
          -3.594,
          null,
          null,
          -7.283,
          null,
          null,
          null,
          -1.74,
          -0.749,
          null,
          null,
          null,
          null,
          -12.496,
          null,
          null,
          null,
          14.75,
          null,
          -34.386,
          null,
          null,
          null,
          null,
          null,
          null,
          null,
          null,
          null,
          null,
          null,
          null,
          -28.721,
          null,
          null,
          null,
          -5.72,
          null,
          null,
          null
         ],
         "y": [
          "AGO",
          "ARM",
          "BEN",
          "BFA",
          "BGD",
          "BOL",
          "CIV",
          "CMR",
          "COD",
          "COM",
          "DOM",
          "EGY",
          "ETH",
          "GAB",
          "GHA",
          "GIN",
          "GMB",
          "GTM",
          "GUY",
          "HND",
          "HTI",
          "IND",
          "JOR",
          "KEN",
          "KGZ",
          "KHM",
          "LBR",
          "LSO",
          "MAR",
          "MDA",
          "MDG",
          "MLI",
          "MMR",
          "MOZ",
          "MRT",
          "MWI",
          "NAM",
          "NGA",
          "NIC",
          "PAK",
          "PER",
          "PHL",
          "SEN",
          "SLE",
          "SWZ",
          "TCD",
          "TGO",
          "TJK",
          "TLS",
          "TZA",
          "UGA",
          "ZAF",
          "ZMB",
          "ZWE"
         ]
        },
        {
         "marker": {
          "color": "rgba(255, 166, 86, 0.95)",
          "line": {
           "width": 1
          },
          "size": 16,
          "symbol": "circle"
         },
         "mode": "markers",
         "name": "12",
         "type": "scatter",
         "x": [
          null,
          -30.354,
          -124.291,
          null,
          -7.836,
          null,
          null,
          null,
          null,
          null,
          -4.133,
          -11.757,
          null,
          null,
          null,
          null,
          null,
          -3.126,
          null,
          null,
          null,
          -2.091,
          -0.752,
          null,
          null,
          -4.97,
          null,
          -12.497,
          null,
          null,
          null,
          13.967,
          null,
          -15.009,
          null,
          null,
          null,
          null,
          null,
          null,
          null,
          null,
          null,
          null,
          null,
          null,
          -28.768,
          -59.49,
          null,
          -4.806,
          null,
          -4.746,
          null,
          null
         ],
         "y": [
          "AGO",
          "ARM",
          "BEN",
          "BFA",
          "BGD",
          "BOL",
          "CIV",
          "CMR",
          "COD",
          "COM",
          "DOM",
          "EGY",
          "ETH",
          "GAB",
          "GHA",
          "GIN",
          "GMB",
          "GTM",
          "GUY",
          "HND",
          "HTI",
          "IND",
          "JOR",
          "KEN",
          "KGZ",
          "KHM",
          "LBR",
          "LSO",
          "MAR",
          "MDA",
          "MDG",
          "MLI",
          "MMR",
          "MOZ",
          "MRT",
          "MWI",
          "NAM",
          "NGA",
          "NIC",
          "PAK",
          "PER",
          "PHL",
          "SEN",
          "SLE",
          "SWZ",
          "TCD",
          "TGO",
          "TJK",
          "TLS",
          "TZA",
          "UGA",
          "ZAF",
          "ZMB",
          "ZWE"
         ]
        },
        {
         "marker": {
          "color": "rgba(240, 230, 140, 0.95)",
          "line": {
           "width": 1
          },
          "size": 16,
          "symbol": "circle"
         },
         "mode": "markers",
         "name": "13",
         "type": "scatter",
         "x": [
          null,
          null,
          null,
          null,
          null,
          null,
          null,
          null,
          -26.977,
          null,
          null,
          null,
          null,
          null,
          null,
          135.362,
          null,
          null,
          null,
          null,
          null,
          null,
          null,
          null,
          null,
          null,
          null,
          null,
          null,
          null,
          null,
          null,
          null,
          null,
          null,
          -23.868,
          null,
          null,
          null,
          null,
          null,
          null,
          23.78,
          -37.311,
          null,
          null,
          -19.946,
          null,
          -70.9,
          null,
          null,
          561.784,
          null,
          null
         ],
         "y": [
          "AGO",
          "ARM",
          "BEN",
          "BFA",
          "BGD",
          "BOL",
          "CIV",
          "CMR",
          "COD",
          "COM",
          "DOM",
          "EGY",
          "ETH",
          "GAB",
          "GHA",
          "GIN",
          "GMB",
          "GTM",
          "GUY",
          "HND",
          "HTI",
          "IND",
          "JOR",
          "KEN",
          "KGZ",
          "KHM",
          "LBR",
          "LSO",
          "MAR",
          "MDA",
          "MDG",
          "MLI",
          "MMR",
          "MOZ",
          "MRT",
          "MWI",
          "NAM",
          "NGA",
          "NIC",
          "PAK",
          "PER",
          "PHL",
          "SEN",
          "SLE",
          "SWZ",
          "TCD",
          "TGO",
          "TJK",
          "TLS",
          "TZA",
          "UGA",
          "ZAF",
          "ZMB",
          "ZWE"
         ]
        },
        {
         "marker": {
          "color": "rgba(240, 230, 140, 0.95)",
          "line": {
           "width": 1
          },
          "size": 16,
          "symbol": "circle"
         },
         "mode": "markers",
         "name": "14",
         "type": "scatter",
         "x": [
          97.699,
          null,
          null,
          -38.235,
          null,
          null,
          null,
          null,
          null,
          null,
          null,
          null,
          null,
          -13.709,
          null,
          null,
          null,
          null,
          null,
          null,
          null,
          null,
          null,
          null,
          null,
          null,
          null,
          -14.179,
          null,
          null,
          null,
          null,
          null,
          null,
          null,
          -14.422,
          null,
          -43.485,
          null,
          null,
          null,
          -7.54,
          null,
          -30.883,
          null,
          null,
          -12.148,
          null,
          -16.642,
          null,
          null,
          615.582,
          null,
          null
         ],
         "y": [
          "AGO",
          "ARM",
          "BEN",
          "BFA",
          "BGD",
          "BOL",
          "CIV",
          "CMR",
          "COD",
          "COM",
          "DOM",
          "EGY",
          "ETH",
          "GAB",
          "GHA",
          "GIN",
          "GMB",
          "GTM",
          "GUY",
          "HND",
          "HTI",
          "IND",
          "JOR",
          "KEN",
          "KGZ",
          "KHM",
          "LBR",
          "LSO",
          "MAR",
          "MDA",
          "MDG",
          "MLI",
          "MMR",
          "MOZ",
          "MRT",
          "MWI",
          "NAM",
          "NGA",
          "NIC",
          "PAK",
          "PER",
          "PHL",
          "SEN",
          "SLE",
          "SWZ",
          "TCD",
          "TGO",
          "TJK",
          "TLS",
          "TZA",
          "UGA",
          "ZAF",
          "ZMB",
          "ZWE"
         ]
        },
        {
         "marker": {
          "color": "rgba(240, 230, 140, 0.95)",
          "line": {
           "width": 1
          },
          "size": 16,
          "symbol": "circle"
         },
         "mode": "markers",
         "name": "15",
         "type": "scatter",
         "x": [
          68.824,
          -19.282,
          null,
          -40.37,
          -1.35,
          -24.394,
          -29.86,
          null,
          null,
          null,
          null,
          null,
          null,
          -15.665,
          null,
          null,
          null,
          112.971,
          null,
          null,
          null,
          null,
          1.245,
          null,
          null,
          null,
          null,
          -16.408,
          39.881,
          null,
          null,
          null,
          null,
          null,
          null,
          -18.308,
          null,
          -22.924,
          null,
          null,
          null,
          -7.784,
          16.28,
          -31.234,
          null,
          null,
          -6.73,
          null,
          null,
          null,
          null,
          613.321,
          null,
          null
         ],
         "y": [
          "AGO",
          "ARM",
          "BEN",
          "BFA",
          "BGD",
          "BOL",
          "CIV",
          "CMR",
          "COD",
          "COM",
          "DOM",
          "EGY",
          "ETH",
          "GAB",
          "GHA",
          "GIN",
          "GMB",
          "GTM",
          "GUY",
          "HND",
          "HTI",
          "IND",
          "JOR",
          "KEN",
          "KGZ",
          "KHM",
          "LBR",
          "LSO",
          "MAR",
          "MDA",
          "MDG",
          "MLI",
          "MMR",
          "MOZ",
          "MRT",
          "MWI",
          "NAM",
          "NGA",
          "NIC",
          "PAK",
          "PER",
          "PHL",
          "SEN",
          "SLE",
          "SWZ",
          "TCD",
          "TGO",
          "TJK",
          "TLS",
          "TZA",
          "UGA",
          "ZAF",
          "ZMB",
          "ZWE"
         ]
        },
        {
         "marker": {
          "color": "rgba(240, 230, 140, 0.95)",
          "line": {
           "width": 1
          },
          "size": 16,
          "symbol": "circle"
         },
         "mode": "markers",
         "name": "16",
         "type": "scatter",
         "x": [
          43.768,
          -18.995,
          -15.822,
          -40.033,
          -2.068,
          -23.643,
          -26.328,
          null,
          null,
          null,
          -1.613,
          -2.312,
          -8.115,
          null,
          null,
          null,
          null,
          117.605,
          null,
          null,
          null,
          null,
          1.259,
          null,
          null,
          null,
          null,
          -16.408,
          null,
          null,
          null,
          null,
          null,
          null,
          null,
          null,
          null,
          -26.261,
          -10.697,
          null,
          null,
          -7.176,
          18.334,
          -32.01,
          null,
          null,
          null,
          2.219,
          null,
          null,
          null,
          607.003,
          null,
          null
         ],
         "y": [
          "AGO",
          "ARM",
          "BEN",
          "BFA",
          "BGD",
          "BOL",
          "CIV",
          "CMR",
          "COD",
          "COM",
          "DOM",
          "EGY",
          "ETH",
          "GAB",
          "GHA",
          "GIN",
          "GMB",
          "GTM",
          "GUY",
          "HND",
          "HTI",
          "IND",
          "JOR",
          "KEN",
          "KGZ",
          "KHM",
          "LBR",
          "LSO",
          "MAR",
          "MDA",
          "MDG",
          "MLI",
          "MMR",
          "MOZ",
          "MRT",
          "MWI",
          "NAM",
          "NGA",
          "NIC",
          "PAK",
          "PER",
          "PHL",
          "SEN",
          "SLE",
          "SWZ",
          "TCD",
          "TGO",
          "TJK",
          "TLS",
          "TZA",
          "UGA",
          "ZAF",
          "ZMB",
          "ZWE"
         ]
        }
       ],
       "layout": {
        "height": 600,
        "hovermode": "closest",
        "legend": {
         "font": {
          "size": 10
         },
         "xanchor": "center",
         "yanchor": "top"
        },
        "margin": {
         "b": 50,
         "l": 140,
         "r": 40,
         "t": 80
        },
        "paper_bgcolor": "white",
        "plot_bgcolor": "white",
        "shapes": [
         {
          "line": {
           "color": "red",
           "dash": "dashdot",
           "width": 2
          },
          "type": "line",
          "x0": 0,
          "x1": 0,
          "y0": 0,
          "y1": 54
         }
        ],
        "template": {
         "data": {
          "bar": [
           {
            "error_x": {
             "color": "#2a3f5f"
            },
            "error_y": {
             "color": "#2a3f5f"
            },
            "marker": {
             "line": {
              "color": "#E5ECF6",
              "width": 0.5
             },
             "pattern": {
              "fillmode": "overlay",
              "size": 10,
              "solidity": 0.2
             }
            },
            "type": "bar"
           }
          ],
          "barpolar": [
           {
            "marker": {
             "line": {
              "color": "#E5ECF6",
              "width": 0.5
             },
             "pattern": {
              "fillmode": "overlay",
              "size": 10,
              "solidity": 0.2
             }
            },
            "type": "barpolar"
           }
          ],
          "carpet": [
           {
            "aaxis": {
             "endlinecolor": "#2a3f5f",
             "gridcolor": "white",
             "linecolor": "white",
             "minorgridcolor": "white",
             "startlinecolor": "#2a3f5f"
            },
            "baxis": {
             "endlinecolor": "#2a3f5f",
             "gridcolor": "white",
             "linecolor": "white",
             "minorgridcolor": "white",
             "startlinecolor": "#2a3f5f"
            },
            "type": "carpet"
           }
          ],
          "choropleth": [
           {
            "colorbar": {
             "outlinewidth": 0,
             "ticks": ""
            },
            "type": "choropleth"
           }
          ],
          "contour": [
           {
            "colorbar": {
             "outlinewidth": 0,
             "ticks": ""
            },
            "colorscale": [
             [
              0,
              "#0d0887"
             ],
             [
              0.1111111111111111,
              "#46039f"
             ],
             [
              0.2222222222222222,
              "#7201a8"
             ],
             [
              0.3333333333333333,
              "#9c179e"
             ],
             [
              0.4444444444444444,
              "#bd3786"
             ],
             [
              0.5555555555555556,
              "#d8576b"
             ],
             [
              0.6666666666666666,
              "#ed7953"
             ],
             [
              0.7777777777777778,
              "#fb9f3a"
             ],
             [
              0.8888888888888888,
              "#fdca26"
             ],
             [
              1,
              "#f0f921"
             ]
            ],
            "type": "contour"
           }
          ],
          "contourcarpet": [
           {
            "colorbar": {
             "outlinewidth": 0,
             "ticks": ""
            },
            "type": "contourcarpet"
           }
          ],
          "heatmap": [
           {
            "colorbar": {
             "outlinewidth": 0,
             "ticks": ""
            },
            "colorscale": [
             [
              0,
              "#0d0887"
             ],
             [
              0.1111111111111111,
              "#46039f"
             ],
             [
              0.2222222222222222,
              "#7201a8"
             ],
             [
              0.3333333333333333,
              "#9c179e"
             ],
             [
              0.4444444444444444,
              "#bd3786"
             ],
             [
              0.5555555555555556,
              "#d8576b"
             ],
             [
              0.6666666666666666,
              "#ed7953"
             ],
             [
              0.7777777777777778,
              "#fb9f3a"
             ],
             [
              0.8888888888888888,
              "#fdca26"
             ],
             [
              1,
              "#f0f921"
             ]
            ],
            "type": "heatmap"
           }
          ],
          "heatmapgl": [
           {
            "colorbar": {
             "outlinewidth": 0,
             "ticks": ""
            },
            "colorscale": [
             [
              0,
              "#0d0887"
             ],
             [
              0.1111111111111111,
              "#46039f"
             ],
             [
              0.2222222222222222,
              "#7201a8"
             ],
             [
              0.3333333333333333,
              "#9c179e"
             ],
             [
              0.4444444444444444,
              "#bd3786"
             ],
             [
              0.5555555555555556,
              "#d8576b"
             ],
             [
              0.6666666666666666,
              "#ed7953"
             ],
             [
              0.7777777777777778,
              "#fb9f3a"
             ],
             [
              0.8888888888888888,
              "#fdca26"
             ],
             [
              1,
              "#f0f921"
             ]
            ],
            "type": "heatmapgl"
           }
          ],
          "histogram": [
           {
            "marker": {
             "pattern": {
              "fillmode": "overlay",
              "size": 10,
              "solidity": 0.2
             }
            },
            "type": "histogram"
           }
          ],
          "histogram2d": [
           {
            "colorbar": {
             "outlinewidth": 0,
             "ticks": ""
            },
            "colorscale": [
             [
              0,
              "#0d0887"
             ],
             [
              0.1111111111111111,
              "#46039f"
             ],
             [
              0.2222222222222222,
              "#7201a8"
             ],
             [
              0.3333333333333333,
              "#9c179e"
             ],
             [
              0.4444444444444444,
              "#bd3786"
             ],
             [
              0.5555555555555556,
              "#d8576b"
             ],
             [
              0.6666666666666666,
              "#ed7953"
             ],
             [
              0.7777777777777778,
              "#fb9f3a"
             ],
             [
              0.8888888888888888,
              "#fdca26"
             ],
             [
              1,
              "#f0f921"
             ]
            ],
            "type": "histogram2d"
           }
          ],
          "histogram2dcontour": [
           {
            "colorbar": {
             "outlinewidth": 0,
             "ticks": ""
            },
            "colorscale": [
             [
              0,
              "#0d0887"
             ],
             [
              0.1111111111111111,
              "#46039f"
             ],
             [
              0.2222222222222222,
              "#7201a8"
             ],
             [
              0.3333333333333333,
              "#9c179e"
             ],
             [
              0.4444444444444444,
              "#bd3786"
             ],
             [
              0.5555555555555556,
              "#d8576b"
             ],
             [
              0.6666666666666666,
              "#ed7953"
             ],
             [
              0.7777777777777778,
              "#fb9f3a"
             ],
             [
              0.8888888888888888,
              "#fdca26"
             ],
             [
              1,
              "#f0f921"
             ]
            ],
            "type": "histogram2dcontour"
           }
          ],
          "mesh3d": [
           {
            "colorbar": {
             "outlinewidth": 0,
             "ticks": ""
            },
            "type": "mesh3d"
           }
          ],
          "parcoords": [
           {
            "line": {
             "colorbar": {
              "outlinewidth": 0,
              "ticks": ""
             }
            },
            "type": "parcoords"
           }
          ],
          "pie": [
           {
            "automargin": true,
            "type": "pie"
           }
          ],
          "scatter": [
           {
            "fillpattern": {
             "fillmode": "overlay",
             "size": 10,
             "solidity": 0.2
            },
            "type": "scatter"
           }
          ],
          "scatter3d": [
           {
            "line": {
             "colorbar": {
              "outlinewidth": 0,
              "ticks": ""
             }
            },
            "marker": {
             "colorbar": {
              "outlinewidth": 0,
              "ticks": ""
             }
            },
            "type": "scatter3d"
           }
          ],
          "scattercarpet": [
           {
            "marker": {
             "colorbar": {
              "outlinewidth": 0,
              "ticks": ""
             }
            },
            "type": "scattercarpet"
           }
          ],
          "scattergeo": [
           {
            "marker": {
             "colorbar": {
              "outlinewidth": 0,
              "ticks": ""
             }
            },
            "type": "scattergeo"
           }
          ],
          "scattergl": [
           {
            "marker": {
             "colorbar": {
              "outlinewidth": 0,
              "ticks": ""
             }
            },
            "type": "scattergl"
           }
          ],
          "scattermapbox": [
           {
            "marker": {
             "colorbar": {
              "outlinewidth": 0,
              "ticks": ""
             }
            },
            "type": "scattermapbox"
           }
          ],
          "scatterpolar": [
           {
            "marker": {
             "colorbar": {
              "outlinewidth": 0,
              "ticks": ""
             }
            },
            "type": "scatterpolar"
           }
          ],
          "scatterpolargl": [
           {
            "marker": {
             "colorbar": {
              "outlinewidth": 0,
              "ticks": ""
             }
            },
            "type": "scatterpolargl"
           }
          ],
          "scatterternary": [
           {
            "marker": {
             "colorbar": {
              "outlinewidth": 0,
              "ticks": ""
             }
            },
            "type": "scatterternary"
           }
          ],
          "surface": [
           {
            "colorbar": {
             "outlinewidth": 0,
             "ticks": ""
            },
            "colorscale": [
             [
              0,
              "#0d0887"
             ],
             [
              0.1111111111111111,
              "#46039f"
             ],
             [
              0.2222222222222222,
              "#7201a8"
             ],
             [
              0.3333333333333333,
              "#9c179e"
             ],
             [
              0.4444444444444444,
              "#bd3786"
             ],
             [
              0.5555555555555556,
              "#d8576b"
             ],
             [
              0.6666666666666666,
              "#ed7953"
             ],
             [
              0.7777777777777778,
              "#fb9f3a"
             ],
             [
              0.8888888888888888,
              "#fdca26"
             ],
             [
              1,
              "#f0f921"
             ]
            ],
            "type": "surface"
           }
          ],
          "table": [
           {
            "cells": {
             "fill": {
              "color": "#EBF0F8"
             },
             "line": {
              "color": "white"
             }
            },
            "header": {
             "fill": {
              "color": "#C8D4E3"
             },
             "line": {
              "color": "white"
             }
            },
            "type": "table"
           }
          ]
         },
         "layout": {
          "annotationdefaults": {
           "arrowcolor": "#2a3f5f",
           "arrowhead": 0,
           "arrowwidth": 1
          },
          "autotypenumbers": "strict",
          "coloraxis": {
           "colorbar": {
            "outlinewidth": 0,
            "ticks": ""
           }
          },
          "colorscale": {
           "diverging": [
            [
             0,
             "#8e0152"
            ],
            [
             0.1,
             "#c51b7d"
            ],
            [
             0.2,
             "#de77ae"
            ],
            [
             0.3,
             "#f1b6da"
            ],
            [
             0.4,
             "#fde0ef"
            ],
            [
             0.5,
             "#f7f7f7"
            ],
            [
             0.6,
             "#e6f5d0"
            ],
            [
             0.7,
             "#b8e186"
            ],
            [
             0.8,
             "#7fbc41"
            ],
            [
             0.9,
             "#4d9221"
            ],
            [
             1,
             "#276419"
            ]
           ],
           "sequential": [
            [
             0,
             "#0d0887"
            ],
            [
             0.1111111111111111,
             "#46039f"
            ],
            [
             0.2222222222222222,
             "#7201a8"
            ],
            [
             0.3333333333333333,
             "#9c179e"
            ],
            [
             0.4444444444444444,
             "#bd3786"
            ],
            [
             0.5555555555555556,
             "#d8576b"
            ],
            [
             0.6666666666666666,
             "#ed7953"
            ],
            [
             0.7777777777777778,
             "#fb9f3a"
            ],
            [
             0.8888888888888888,
             "#fdca26"
            ],
            [
             1,
             "#f0f921"
            ]
           ],
           "sequentialminus": [
            [
             0,
             "#0d0887"
            ],
            [
             0.1111111111111111,
             "#46039f"
            ],
            [
             0.2222222222222222,
             "#7201a8"
            ],
            [
             0.3333333333333333,
             "#9c179e"
            ],
            [
             0.4444444444444444,
             "#bd3786"
            ],
            [
             0.5555555555555556,
             "#d8576b"
            ],
            [
             0.6666666666666666,
             "#ed7953"
            ],
            [
             0.7777777777777778,
             "#fb9f3a"
            ],
            [
             0.8888888888888888,
             "#fdca26"
            ],
            [
             1,
             "#f0f921"
            ]
           ]
          },
          "colorway": [
           "#636efa",
           "#EF553B",
           "#00cc96",
           "#ab63fa",
           "#FFA15A",
           "#19d3f3",
           "#FF6692",
           "#B6E880",
           "#FF97FF",
           "#FECB52"
          ],
          "font": {
           "color": "#2a3f5f"
          },
          "geo": {
           "bgcolor": "white",
           "lakecolor": "white",
           "landcolor": "#E5ECF6",
           "showlakes": true,
           "showland": true,
           "subunitcolor": "white"
          },
          "hoverlabel": {
           "align": "left"
          },
          "hovermode": "closest",
          "mapbox": {
           "style": "light"
          },
          "paper_bgcolor": "white",
          "plot_bgcolor": "#E5ECF6",
          "polar": {
           "angularaxis": {
            "gridcolor": "white",
            "linecolor": "white",
            "ticks": ""
           },
           "bgcolor": "#E5ECF6",
           "radialaxis": {
            "gridcolor": "white",
            "linecolor": "white",
            "ticks": ""
           }
          },
          "scene": {
           "xaxis": {
            "backgroundcolor": "#E5ECF6",
            "gridcolor": "white",
            "gridwidth": 2,
            "linecolor": "white",
            "showbackground": true,
            "ticks": "",
            "zerolinecolor": "white"
           },
           "yaxis": {
            "backgroundcolor": "#E5ECF6",
            "gridcolor": "white",
            "gridwidth": 2,
            "linecolor": "white",
            "showbackground": true,
            "ticks": "",
            "zerolinecolor": "white"
           },
           "zaxis": {
            "backgroundcolor": "#E5ECF6",
            "gridcolor": "white",
            "gridwidth": 2,
            "linecolor": "white",
            "showbackground": true,
            "ticks": "",
            "zerolinecolor": "white"
           }
          },
          "shapedefaults": {
           "line": {
            "color": "#2a3f5f"
           }
          },
          "ternary": {
           "aaxis": {
            "gridcolor": "white",
            "linecolor": "white",
            "ticks": ""
           },
           "baxis": {
            "gridcolor": "white",
            "linecolor": "white",
            "ticks": ""
           },
           "bgcolor": "#E5ECF6",
           "caxis": {
            "gridcolor": "white",
            "linecolor": "white",
            "ticks": ""
           }
          },
          "title": {
           "x": 0.05
          },
          "xaxis": {
           "automargin": true,
           "gridcolor": "white",
           "linecolor": "white",
           "ticks": "",
           "title": {
            "standoff": 15
           },
           "zerolinecolor": "white",
           "zerolinewidth": 2
          },
          "yaxis": {
           "automargin": true,
           "gridcolor": "white",
           "linecolor": "white",
           "ticks": "",
           "title": {
            "standoff": 15
           },
           "zerolinecolor": "white",
           "zerolinewidth": 2
          }
         }
        },
        "title": {
         "text": "drought"
        },
        "width": 1600,
        "xaxis": {
         "linecolor": "rgb(102, 102, 102)",
         "showgrid": false,
         "showline": true,
         "showticklabels": true,
         "tickcolor": "rgb(102, 102, 102)",
         "tickfont": {
          "color": "rgb(102, 102, 102)"
         },
         "ticks": "outside"
        }
       }
      }
     },
     "metadata": {},
     "output_type": "display_data"
    },
    {
     "data": {
      "application/vnd.plotly.v1+json": {
       "config": {
        "plotlyServerURL": "https://plot.ly"
       },
       "data": [
        {
         "marker": {
          "color": "rgba(156, 165, 196, 0.95)",
          "line": {
           "width": 1
          },
          "size": 16,
          "symbol": "circle"
         },
         "mode": "markers",
         "name": "1",
         "type": "scatter",
         "x": [
          null,
          null,
          null,
          null,
          null,
          null,
          null,
          -37.23,
          null,
          null,
          -216.458,
          null,
          null,
          -19.302,
          null,
          null,
          null,
          null,
          83.508,
          null,
          null,
          null,
          null,
          null,
          null,
          null,
          null,
          null,
          null,
          null,
          null,
          null,
          null,
          null,
          null,
          null,
          null,
          null,
          null,
          null,
          null,
          null,
          null,
          null,
          null,
          null,
          null,
          -71.124,
          289.344,
          null,
          null,
          -498.901,
          null,
          null
         ],
         "y": [
          "AGO",
          "ARM",
          "BEN",
          "BFA",
          "BGD",
          "BOL",
          "CIV",
          "CMR",
          "COD",
          "COM",
          "DOM",
          "EGY",
          "ETH",
          "GAB",
          "GHA",
          "GIN",
          "GMB",
          "GTM",
          "GUY",
          "HND",
          "HTI",
          "IND",
          "JOR",
          "KEN",
          "KGZ",
          "KHM",
          "LBR",
          "LSO",
          "MAR",
          "MDA",
          "MDG",
          "MLI",
          "MMR",
          "MOZ",
          "MRT",
          "MWI",
          "NAM",
          "NGA",
          "NIC",
          "PAK",
          "PER",
          "PHL",
          "SEN",
          "SLE",
          "SWZ",
          "TCD",
          "TGO",
          "TJK",
          "TLS",
          "TZA",
          "UGA",
          "ZAF",
          "ZMB",
          "ZWE"
         ]
        },
        {
         "marker": {
          "color": "rgba(156, 165, 196, 0.95)",
          "line": {
           "width": 1
          },
          "size": 16,
          "symbol": "circle"
         },
         "mode": "markers",
         "name": "2",
         "type": "scatter",
         "x": [
          null,
          null,
          null,
          null,
          250.099,
          null,
          null,
          -59.406,
          null,
          null,
          -220.02,
          null,
          null,
          -30.874,
          null,
          null,
          null,
          null,
          null,
          null,
          null,
          null,
          null,
          null,
          null,
          null,
          null,
          null,
          null,
          null,
          null,
          null,
          null,
          null,
          null,
          null,
          null,
          null,
          null,
          null,
          null,
          null,
          null,
          null,
          null,
          null,
          null,
          -42.583,
          353.029,
          null,
          null,
          -37.096,
          null,
          null
         ],
         "y": [
          "AGO",
          "ARM",
          "BEN",
          "BFA",
          "BGD",
          "BOL",
          "CIV",
          "CMR",
          "COD",
          "COM",
          "DOM",
          "EGY",
          "ETH",
          "GAB",
          "GHA",
          "GIN",
          "GMB",
          "GTM",
          "GUY",
          "HND",
          "HTI",
          "IND",
          "JOR",
          "KEN",
          "KGZ",
          "KHM",
          "LBR",
          "LSO",
          "MAR",
          "MDA",
          "MDG",
          "MLI",
          "MMR",
          "MOZ",
          "MRT",
          "MWI",
          "NAM",
          "NGA",
          "NIC",
          "PAK",
          "PER",
          "PHL",
          "SEN",
          "SLE",
          "SWZ",
          "TCD",
          "TGO",
          "TJK",
          "TLS",
          "TZA",
          "UGA",
          "ZAF",
          "ZMB",
          "ZWE"
         ]
        },
        {
         "marker": {
          "color": "rgba(156, 165, 196, 0.95)",
          "line": {
           "width": 1
          },
          "size": 16,
          "symbol": "circle"
         },
         "mode": "markers",
         "name": "3",
         "type": "scatter",
         "x": [
          null,
          -54.256,
          -9.547,
          null,
          247.087,
          null,
          null,
          -53.044,
          null,
          null,
          null,
          null,
          null,
          -18.106,
          null,
          -23.956,
          null,
          null,
          -5.977,
          null,
          null,
          null,
          2.187,
          null,
          null,
          null,
          null,
          null,
          null,
          null,
          null,
          null,
          null,
          -29.433,
          null,
          null,
          null,
          null,
          null,
          null,
          null,
          null,
          null,
          86.775,
          null,
          null,
          null,
          -38.036,
          354.48,
          null,
          null,
          -33.507,
          null,
          null
         ],
         "y": [
          "AGO",
          "ARM",
          "BEN",
          "BFA",
          "BGD",
          "BOL",
          "CIV",
          "CMR",
          "COD",
          "COM",
          "DOM",
          "EGY",
          "ETH",
          "GAB",
          "GHA",
          "GIN",
          "GMB",
          "GTM",
          "GUY",
          "HND",
          "HTI",
          "IND",
          "JOR",
          "KEN",
          "KGZ",
          "KHM",
          "LBR",
          "LSO",
          "MAR",
          "MDA",
          "MDG",
          "MLI",
          "MMR",
          "MOZ",
          "MRT",
          "MWI",
          "NAM",
          "NGA",
          "NIC",
          "PAK",
          "PER",
          "PHL",
          "SEN",
          "SLE",
          "SWZ",
          "TCD",
          "TGO",
          "TJK",
          "TLS",
          "TZA",
          "UGA",
          "ZAF",
          "ZMB",
          "ZWE"
         ]
        },
        {
         "marker": {
          "color": "rgba(156, 165, 196, 0.95)",
          "line": {
           "width": 1
          },
          "size": 16,
          "symbol": "circle"
         },
         "mode": "markers",
         "name": "4",
         "type": "scatter",
         "x": [
          null,
          -53.212,
          -8.968,
          null,
          246.548,
          40.427,
          null,
          -55.838,
          -88.804,
          null,
          -215.768,
          null,
          null,
          null,
          null,
          null,
          null,
          null,
          -5.334,
          null,
          null,
          null,
          null,
          null,
          null,
          null,
          null,
          null,
          31.804,
          null,
          32.075,
          null,
          null,
          -48.273,
          null,
          null,
          null,
          null,
          null,
          null,
          null,
          null,
          15.41,
          86.11,
          null,
          null,
          null,
          -27.792,
          354.839,
          null,
          null,
          -29.634,
          -20.41,
          null
         ],
         "y": [
          "AGO",
          "ARM",
          "BEN",
          "BFA",
          "BGD",
          "BOL",
          "CIV",
          "CMR",
          "COD",
          "COM",
          "DOM",
          "EGY",
          "ETH",
          "GAB",
          "GHA",
          "GIN",
          "GMB",
          "GTM",
          "GUY",
          "HND",
          "HTI",
          "IND",
          "JOR",
          "KEN",
          "KGZ",
          "KHM",
          "LBR",
          "LSO",
          "MAR",
          "MDA",
          "MDG",
          "MLI",
          "MMR",
          "MOZ",
          "MRT",
          "MWI",
          "NAM",
          "NGA",
          "NIC",
          "PAK",
          "PER",
          "PHL",
          "SEN",
          "SLE",
          "SWZ",
          "TCD",
          "TGO",
          "TJK",
          "TLS",
          "TZA",
          "UGA",
          "ZAF",
          "ZMB",
          "ZWE"
         ]
        },
        {
         "marker": {
          "color": "rgba(204, 204, 204, 0.95)",
          "line": {
           "width": 1
          },
          "size": 16,
          "symbol": "circle"
         },
         "mode": "markers",
         "name": "5",
         "type": "scatter",
         "x": [
          null,
          null,
          null,
          null,
          null,
          null,
          null,
          null,
          null,
          null,
          null,
          null,
          null,
          null,
          null,
          null,
          null,
          null,
          null,
          null,
          null,
          null,
          null,
          null,
          null,
          null,
          null,
          null,
          null,
          null,
          null,
          null,
          null,
          null,
          null,
          null,
          null,
          null,
          null,
          null,
          null,
          null,
          null,
          null,
          null,
          null,
          -40.332,
          null,
          -32.778,
          null,
          null,
          null,
          null,
          null
         ],
         "y": [
          "AGO",
          "ARM",
          "BEN",
          "BFA",
          "BGD",
          "BOL",
          "CIV",
          "CMR",
          "COD",
          "COM",
          "DOM",
          "EGY",
          "ETH",
          "GAB",
          "GHA",
          "GIN",
          "GMB",
          "GTM",
          "GUY",
          "HND",
          "HTI",
          "IND",
          "JOR",
          "KEN",
          "KGZ",
          "KHM",
          "LBR",
          "LSO",
          "MAR",
          "MDA",
          "MDG",
          "MLI",
          "MMR",
          "MOZ",
          "MRT",
          "MWI",
          "NAM",
          "NGA",
          "NIC",
          "PAK",
          "PER",
          "PHL",
          "SEN",
          "SLE",
          "SWZ",
          "TCD",
          "TGO",
          "TJK",
          "TLS",
          "TZA",
          "UGA",
          "ZAF",
          "ZMB",
          "ZWE"
         ]
        },
        {
         "marker": {
          "color": "rgba(204, 204, 204, 0.95)",
          "line": {
           "width": 1
          },
          "size": 16,
          "symbol": "circle"
         },
         "mode": "markers",
         "name": "6",
         "type": "scatter",
         "x": [
          null,
          null,
          null,
          null,
          null,
          null,
          null,
          null,
          -21.278,
          null,
          -4.342,
          null,
          null,
          null,
          null,
          null,
          null,
          null,
          null,
          null,
          null,
          null,
          null,
          null,
          null,
          null,
          null,
          null,
          null,
          null,
          null,
          null,
          -40.985,
          null,
          null,
          -9.908,
          null,
          null,
          null,
          null,
          null,
          null,
          null,
          null,
          null,
          null,
          null,
          null,
          null,
          null,
          null,
          null,
          null,
          null
         ],
         "y": [
          "AGO",
          "ARM",
          "BEN",
          "BFA",
          "BGD",
          "BOL",
          "CIV",
          "CMR",
          "COD",
          "COM",
          "DOM",
          "EGY",
          "ETH",
          "GAB",
          "GHA",
          "GIN",
          "GMB",
          "GTM",
          "GUY",
          "HND",
          "HTI",
          "IND",
          "JOR",
          "KEN",
          "KGZ",
          "KHM",
          "LBR",
          "LSO",
          "MAR",
          "MDA",
          "MDG",
          "MLI",
          "MMR",
          "MOZ",
          "MRT",
          "MWI",
          "NAM",
          "NGA",
          "NIC",
          "PAK",
          "PER",
          "PHL",
          "SEN",
          "SLE",
          "SWZ",
          "TCD",
          "TGO",
          "TJK",
          "TLS",
          "TZA",
          "UGA",
          "ZAF",
          "ZMB",
          "ZWE"
         ]
        },
        {
         "marker": {
          "color": "rgba(204, 204, 204, 0.95)",
          "line": {
           "width": 1
          },
          "size": 16,
          "symbol": "circle"
         },
         "mode": "markers",
         "name": "7",
         "type": "scatter",
         "x": [
          null,
          null,
          null,
          null,
          2.075,
          null,
          null,
          null,
          null,
          null,
          -4.573,
          null,
          -5.854,
          null,
          null,
          null,
          null,
          null,
          2.485,
          null,
          null,
          -1.605,
          0.109,
          null,
          null,
          null,
          null,
          null,
          null,
          null,
          null,
          null,
          null,
          null,
          null,
          -9.958,
          null,
          null,
          null,
          -3.212,
          -3.529,
          -2.761,
          null,
          null,
          null,
          null,
          -26.629,
          null,
          null,
          -15.13,
          22.571,
          22.729,
          null,
          null
         ],
         "y": [
          "AGO",
          "ARM",
          "BEN",
          "BFA",
          "BGD",
          "BOL",
          "CIV",
          "CMR",
          "COD",
          "COM",
          "DOM",
          "EGY",
          "ETH",
          "GAB",
          "GHA",
          "GIN",
          "GMB",
          "GTM",
          "GUY",
          "HND",
          "HTI",
          "IND",
          "JOR",
          "KEN",
          "KGZ",
          "KHM",
          "LBR",
          "LSO",
          "MAR",
          "MDA",
          "MDG",
          "MLI",
          "MMR",
          "MOZ",
          "MRT",
          "MWI",
          "NAM",
          "NGA",
          "NIC",
          "PAK",
          "PER",
          "PHL",
          "SEN",
          "SLE",
          "SWZ",
          "TCD",
          "TGO",
          "TJK",
          "TLS",
          "TZA",
          "UGA",
          "ZAF",
          "ZMB",
          "ZWE"
         ]
        },
        {
         "marker": {
          "color": "rgba(204, 204, 204, 0.95)",
          "line": {
           "width": 1
          },
          "size": 16,
          "symbol": "circle"
         },
         "mode": "markers",
         "name": "8",
         "type": "scatter",
         "x": [
          -7.33,
          null,
          -3.497,
          null,
          2.08,
          null,
          null,
          null,
          -15.822,
          null,
          -5.006,
          null,
          -6.447,
          null,
          null,
          null,
          null,
          null,
          2.254,
          null,
          null,
          -1.672,
          null,
          null,
          null,
          null,
          -7.015,
          null,
          null,
          null,
          -16.42,
          null,
          null,
          null,
          null,
          -11.392,
          null,
          null,
          null,
          -3.712,
          null,
          -2.4,
          2.963,
          null,
          null,
          null,
          -24.655,
          -3.964,
          null,
          null,
          null,
          15.235,
          null,
          null
         ],
         "y": [
          "AGO",
          "ARM",
          "BEN",
          "BFA",
          "BGD",
          "BOL",
          "CIV",
          "CMR",
          "COD",
          "COM",
          "DOM",
          "EGY",
          "ETH",
          "GAB",
          "GHA",
          "GIN",
          "GMB",
          "GTM",
          "GUY",
          "HND",
          "HTI",
          "IND",
          "JOR",
          "KEN",
          "KGZ",
          "KHM",
          "LBR",
          "LSO",
          "MAR",
          "MDA",
          "MDG",
          "MLI",
          "MMR",
          "MOZ",
          "MRT",
          "MWI",
          "NAM",
          "NGA",
          "NIC",
          "PAK",
          "PER",
          "PHL",
          "SEN",
          "SLE",
          "SWZ",
          "TCD",
          "TGO",
          "TJK",
          "TLS",
          "TZA",
          "UGA",
          "ZAF",
          "ZMB",
          "ZWE"
         ]
        },
        {
         "marker": {
          "color": "rgba(255, 166, 86, 0.95)",
          "line": {
           "width": 1
          },
          "size": 16,
          "symbol": "circle"
         },
         "mode": "markers",
         "name": "9",
         "type": "scatter",
         "x": [
          null,
          null,
          null,
          null,
          null,
          null,
          null,
          null,
          null,
          null,
          null,
          null,
          null,
          null,
          null,
          null,
          null,
          null,
          null,
          null,
          null,
          null,
          null,
          null,
          null,
          null,
          null,
          null,
          null,
          null,
          null,
          -28.855,
          null,
          null,
          null,
          null,
          null,
          null,
          null,
          null,
          null,
          null,
          null,
          null,
          null,
          null,
          null,
          null,
          null,
          null,
          null,
          null,
          null,
          null
         ],
         "y": [
          "AGO",
          "ARM",
          "BEN",
          "BFA",
          "BGD",
          "BOL",
          "CIV",
          "CMR",
          "COD",
          "COM",
          "DOM",
          "EGY",
          "ETH",
          "GAB",
          "GHA",
          "GIN",
          "GMB",
          "GTM",
          "GUY",
          "HND",
          "HTI",
          "IND",
          "JOR",
          "KEN",
          "KGZ",
          "KHM",
          "LBR",
          "LSO",
          "MAR",
          "MDA",
          "MDG",
          "MLI",
          "MMR",
          "MOZ",
          "MRT",
          "MWI",
          "NAM",
          "NGA",
          "NIC",
          "PAK",
          "PER",
          "PHL",
          "SEN",
          "SLE",
          "SWZ",
          "TCD",
          "TGO",
          "TJK",
          "TLS",
          "TZA",
          "UGA",
          "ZAF",
          "ZMB",
          "ZWE"
         ]
        },
        {
         "marker": {
          "color": "rgba(255, 166, 86, 0.95)",
          "line": {
           "width": 1
          },
          "size": 16,
          "symbol": "circle"
         },
         "mode": "markers",
         "name": "10",
         "type": "scatter",
         "x": [
          null,
          null,
          null,
          null,
          null,
          null,
          null,
          null,
          -11.648,
          null,
          null,
          -16.557,
          null,
          null,
          null,
          null,
          null,
          null,
          12.633,
          null,
          null,
          null,
          null,
          null,
          null,
          null,
          null,
          null,
          null,
          null,
          null,
          null,
          null,
          null,
          null,
          null,
          null,
          null,
          null,
          null,
          null,
          null,
          null,
          null,
          null,
          null,
          33.58,
          null,
          null,
          null,
          null,
          null,
          null,
          null
         ],
         "y": [
          "AGO",
          "ARM",
          "BEN",
          "BFA",
          "BGD",
          "BOL",
          "CIV",
          "CMR",
          "COD",
          "COM",
          "DOM",
          "EGY",
          "ETH",
          "GAB",
          "GHA",
          "GIN",
          "GMB",
          "GTM",
          "GUY",
          "HND",
          "HTI",
          "IND",
          "JOR",
          "KEN",
          "KGZ",
          "KHM",
          "LBR",
          "LSO",
          "MAR",
          "MDA",
          "MDG",
          "MLI",
          "MMR",
          "MOZ",
          "MRT",
          "MWI",
          "NAM",
          "NGA",
          "NIC",
          "PAK",
          "PER",
          "PHL",
          "SEN",
          "SLE",
          "SWZ",
          "TCD",
          "TGO",
          "TJK",
          "TLS",
          "TZA",
          "UGA",
          "ZAF",
          "ZMB",
          "ZWE"
         ]
        },
        {
         "marker": {
          "color": "rgba(255, 166, 86, 0.95)",
          "line": {
           "width": 1
          },
          "size": 16,
          "symbol": "circle"
         },
         "mode": "markers",
         "name": "11",
         "type": "scatter",
         "x": [
          null,
          null,
          null,
          null,
          4.189,
          null,
          null,
          null,
          null,
          null,
          null,
          -17.509,
          null,
          null,
          null,
          null,
          null,
          null,
          5.938,
          null,
          null,
          null,
          -0.666,
          null,
          null,
          null,
          null,
          null,
          null,
          null,
          null,
          -21.125,
          null,
          null,
          null,
          -8.89,
          null,
          -9.16,
          null,
          null,
          null,
          null,
          null,
          null,
          null,
          null,
          43.061,
          null,
          null,
          null,
          11.752,
          null,
          null,
          null
         ],
         "y": [
          "AGO",
          "ARM",
          "BEN",
          "BFA",
          "BGD",
          "BOL",
          "CIV",
          "CMR",
          "COD",
          "COM",
          "DOM",
          "EGY",
          "ETH",
          "GAB",
          "GHA",
          "GIN",
          "GMB",
          "GTM",
          "GUY",
          "HND",
          "HTI",
          "IND",
          "JOR",
          "KEN",
          "KGZ",
          "KHM",
          "LBR",
          "LSO",
          "MAR",
          "MDA",
          "MDG",
          "MLI",
          "MMR",
          "MOZ",
          "MRT",
          "MWI",
          "NAM",
          "NGA",
          "NIC",
          "PAK",
          "PER",
          "PHL",
          "SEN",
          "SLE",
          "SWZ",
          "TCD",
          "TGO",
          "TJK",
          "TLS",
          "TZA",
          "UGA",
          "ZAF",
          "ZMB",
          "ZWE"
         ]
        },
        {
         "marker": {
          "color": "rgba(255, 166, 86, 0.95)",
          "line": {
           "width": 1
          },
          "size": 16,
          "symbol": "circle"
         },
         "mode": "markers",
         "name": "12",
         "type": "scatter",
         "x": [
          null,
          14.286,
          null,
          null,
          8.068,
          null,
          null,
          null,
          null,
          null,
          -2.852,
          -18.16,
          null,
          null,
          null,
          null,
          null,
          null,
          null,
          null,
          null,
          null,
          -0.665,
          null,
          null,
          null,
          2.104,
          null,
          null,
          null,
          null,
          -19.476,
          null,
          null,
          null,
          -8.963,
          null,
          -9.391,
          null,
          null,
          -1.652,
          null,
          null,
          null,
          null,
          null,
          42.669,
          10.034,
          null,
          null,
          null,
          null,
          null,
          null
         ],
         "y": [
          "AGO",
          "ARM",
          "BEN",
          "BFA",
          "BGD",
          "BOL",
          "CIV",
          "CMR",
          "COD",
          "COM",
          "DOM",
          "EGY",
          "ETH",
          "GAB",
          "GHA",
          "GIN",
          "GMB",
          "GTM",
          "GUY",
          "HND",
          "HTI",
          "IND",
          "JOR",
          "KEN",
          "KGZ",
          "KHM",
          "LBR",
          "LSO",
          "MAR",
          "MDA",
          "MDG",
          "MLI",
          "MMR",
          "MOZ",
          "MRT",
          "MWI",
          "NAM",
          "NGA",
          "NIC",
          "PAK",
          "PER",
          "PHL",
          "SEN",
          "SLE",
          "SWZ",
          "TCD",
          "TGO",
          "TJK",
          "TLS",
          "TZA",
          "UGA",
          "ZAF",
          "ZMB",
          "ZWE"
         ]
        },
        {
         "marker": {
          "color": "rgba(240, 230, 140, 0.95)",
          "line": {
           "width": 1
          },
          "size": 16,
          "symbol": "circle"
         },
         "mode": "markers",
         "name": "13",
         "type": "scatter",
         "x": [
          null,
          null,
          null,
          null,
          null,
          null,
          null,
          null,
          null,
          null,
          null,
          null,
          null,
          null,
          null,
          null,
          null,
          null,
          null,
          null,
          null,
          null,
          null,
          null,
          null,
          null,
          null,
          null,
          null,
          null,
          null,
          null,
          null,
          null,
          null,
          null,
          null,
          null,
          null,
          null,
          -10.174,
          null,
          null,
          null,
          null,
          null,
          null,
          null,
          -78.542,
          null,
          null,
          null,
          null,
          null
         ],
         "y": [
          "AGO",
          "ARM",
          "BEN",
          "BFA",
          "BGD",
          "BOL",
          "CIV",
          "CMR",
          "COD",
          "COM",
          "DOM",
          "EGY",
          "ETH",
          "GAB",
          "GHA",
          "GIN",
          "GMB",
          "GTM",
          "GUY",
          "HND",
          "HTI",
          "IND",
          "JOR",
          "KEN",
          "KGZ",
          "KHM",
          "LBR",
          "LSO",
          "MAR",
          "MDA",
          "MDG",
          "MLI",
          "MMR",
          "MOZ",
          "MRT",
          "MWI",
          "NAM",
          "NGA",
          "NIC",
          "PAK",
          "PER",
          "PHL",
          "SEN",
          "SLE",
          "SWZ",
          "TCD",
          "TGO",
          "TJK",
          "TLS",
          "TZA",
          "UGA",
          "ZAF",
          "ZMB",
          "ZWE"
         ]
        },
        {
         "marker": {
          "color": "rgba(240, 230, 140, 0.95)",
          "line": {
           "width": 1
          },
          "size": 16,
          "symbol": "circle"
         },
         "mode": "markers",
         "name": "14",
         "type": "scatter",
         "x": [
          null,
          null,
          41.819,
          61.968,
          4.314,
          null,
          null,
          null,
          null,
          null,
          null,
          null,
          null,
          null,
          null,
          null,
          null,
          null,
          36.209,
          null,
          null,
          null,
          null,
          null,
          null,
          null,
          -17.447,
          null,
          null,
          null,
          null,
          null,
          null,
          null,
          null,
          null,
          null,
          null,
          null,
          null,
          -7.831,
          null,
          null,
          null,
          null,
          null,
          null,
          null,
          -55.407,
          null,
          -28.363,
          -11.745,
          null,
          null
         ],
         "y": [
          "AGO",
          "ARM",
          "BEN",
          "BFA",
          "BGD",
          "BOL",
          "CIV",
          "CMR",
          "COD",
          "COM",
          "DOM",
          "EGY",
          "ETH",
          "GAB",
          "GHA",
          "GIN",
          "GMB",
          "GTM",
          "GUY",
          "HND",
          "HTI",
          "IND",
          "JOR",
          "KEN",
          "KGZ",
          "KHM",
          "LBR",
          "LSO",
          "MAR",
          "MDA",
          "MDG",
          "MLI",
          "MMR",
          "MOZ",
          "MRT",
          "MWI",
          "NAM",
          "NGA",
          "NIC",
          "PAK",
          "PER",
          "PHL",
          "SEN",
          "SLE",
          "SWZ",
          "TCD",
          "TGO",
          "TJK",
          "TLS",
          "TZA",
          "UGA",
          "ZAF",
          "ZMB",
          "ZWE"
         ]
        },
        {
         "marker": {
          "color": "rgba(240, 230, 140, 0.95)",
          "line": {
           "width": 1
          },
          "size": 16,
          "symbol": "circle"
         },
         "mode": "markers",
         "name": "15",
         "type": "scatter",
         "x": [
          null,
          10.031,
          null,
          null,
          4.612,
          null,
          -37.527,
          null,
          null,
          null,
          null,
          null,
          null,
          null,
          null,
          null,
          null,
          175.601,
          null,
          null,
          null,
          null,
          2.324,
          null,
          null,
          null,
          -14.667,
          null,
          null,
          null,
          null,
          null,
          null,
          null,
          null,
          null,
          null,
          -35.282,
          null,
          null,
          null,
          -3.461,
          null,
          null,
          null,
          null,
          null,
          -3.759,
          -44.768,
          null,
          -17.217,
          -8.084,
          null,
          null
         ],
         "y": [
          "AGO",
          "ARM",
          "BEN",
          "BFA",
          "BGD",
          "BOL",
          "CIV",
          "CMR",
          "COD",
          "COM",
          "DOM",
          "EGY",
          "ETH",
          "GAB",
          "GHA",
          "GIN",
          "GMB",
          "GTM",
          "GUY",
          "HND",
          "HTI",
          "IND",
          "JOR",
          "KEN",
          "KGZ",
          "KHM",
          "LBR",
          "LSO",
          "MAR",
          "MDA",
          "MDG",
          "MLI",
          "MMR",
          "MOZ",
          "MRT",
          "MWI",
          "NAM",
          "NGA",
          "NIC",
          "PAK",
          "PER",
          "PHL",
          "SEN",
          "SLE",
          "SWZ",
          "TCD",
          "TGO",
          "TJK",
          "TLS",
          "TZA",
          "UGA",
          "ZAF",
          "ZMB",
          "ZWE"
         ]
        },
        {
         "marker": {
          "color": "rgba(240, 230, 140, 0.95)",
          "line": {
           "width": 1
          },
          "size": 16,
          "symbol": "circle"
         },
         "mode": "markers",
         "name": "16",
         "type": "scatter",
         "x": [
          16.896,
          10.178,
          -6.196,
          null,
          2.164,
          -32.554,
          -34.656,
          null,
          null,
          null,
          null,
          -2.72,
          null,
          null,
          null,
          null,
          null,
          175.083,
          null,
          null,
          null,
          null,
          2.289,
          null,
          null,
          -4.084,
          -10.902,
          null,
          null,
          null,
          null,
          null,
          null,
          null,
          null,
          null,
          null,
          null,
          null,
          null,
          -8.952,
          -2.35,
          null,
          null,
          null,
          null,
          null,
          -6.125,
          null,
          null,
          -21.109,
          null,
          null,
          null
         ],
         "y": [
          "AGO",
          "ARM",
          "BEN",
          "BFA",
          "BGD",
          "BOL",
          "CIV",
          "CMR",
          "COD",
          "COM",
          "DOM",
          "EGY",
          "ETH",
          "GAB",
          "GHA",
          "GIN",
          "GMB",
          "GTM",
          "GUY",
          "HND",
          "HTI",
          "IND",
          "JOR",
          "KEN",
          "KGZ",
          "KHM",
          "LBR",
          "LSO",
          "MAR",
          "MDA",
          "MDG",
          "MLI",
          "MMR",
          "MOZ",
          "MRT",
          "MWI",
          "NAM",
          "NGA",
          "NIC",
          "PAK",
          "PER",
          "PHL",
          "SEN",
          "SLE",
          "SWZ",
          "TCD",
          "TGO",
          "TJK",
          "TLS",
          "TZA",
          "UGA",
          "ZAF",
          "ZMB",
          "ZWE"
         ]
        }
       ],
       "layout": {
        "height": 600,
        "hovermode": "closest",
        "legend": {
         "font": {
          "size": 10
         },
         "xanchor": "center",
         "yanchor": "top"
        },
        "margin": {
         "b": 50,
         "l": 140,
         "r": 40,
         "t": 80
        },
        "paper_bgcolor": "white",
        "plot_bgcolor": "white",
        "shapes": [
         {
          "line": {
           "color": "red",
           "dash": "dashdot",
           "width": 2
          },
          "type": "line",
          "x0": 0,
          "x1": 0,
          "y0": 0,
          "y1": 54
         }
        ],
        "template": {
         "data": {
          "bar": [
           {
            "error_x": {
             "color": "#2a3f5f"
            },
            "error_y": {
             "color": "#2a3f5f"
            },
            "marker": {
             "line": {
              "color": "#E5ECF6",
              "width": 0.5
             },
             "pattern": {
              "fillmode": "overlay",
              "size": 10,
              "solidity": 0.2
             }
            },
            "type": "bar"
           }
          ],
          "barpolar": [
           {
            "marker": {
             "line": {
              "color": "#E5ECF6",
              "width": 0.5
             },
             "pattern": {
              "fillmode": "overlay",
              "size": 10,
              "solidity": 0.2
             }
            },
            "type": "barpolar"
           }
          ],
          "carpet": [
           {
            "aaxis": {
             "endlinecolor": "#2a3f5f",
             "gridcolor": "white",
             "linecolor": "white",
             "minorgridcolor": "white",
             "startlinecolor": "#2a3f5f"
            },
            "baxis": {
             "endlinecolor": "#2a3f5f",
             "gridcolor": "white",
             "linecolor": "white",
             "minorgridcolor": "white",
             "startlinecolor": "#2a3f5f"
            },
            "type": "carpet"
           }
          ],
          "choropleth": [
           {
            "colorbar": {
             "outlinewidth": 0,
             "ticks": ""
            },
            "type": "choropleth"
           }
          ],
          "contour": [
           {
            "colorbar": {
             "outlinewidth": 0,
             "ticks": ""
            },
            "colorscale": [
             [
              0,
              "#0d0887"
             ],
             [
              0.1111111111111111,
              "#46039f"
             ],
             [
              0.2222222222222222,
              "#7201a8"
             ],
             [
              0.3333333333333333,
              "#9c179e"
             ],
             [
              0.4444444444444444,
              "#bd3786"
             ],
             [
              0.5555555555555556,
              "#d8576b"
             ],
             [
              0.6666666666666666,
              "#ed7953"
             ],
             [
              0.7777777777777778,
              "#fb9f3a"
             ],
             [
              0.8888888888888888,
              "#fdca26"
             ],
             [
              1,
              "#f0f921"
             ]
            ],
            "type": "contour"
           }
          ],
          "contourcarpet": [
           {
            "colorbar": {
             "outlinewidth": 0,
             "ticks": ""
            },
            "type": "contourcarpet"
           }
          ],
          "heatmap": [
           {
            "colorbar": {
             "outlinewidth": 0,
             "ticks": ""
            },
            "colorscale": [
             [
              0,
              "#0d0887"
             ],
             [
              0.1111111111111111,
              "#46039f"
             ],
             [
              0.2222222222222222,
              "#7201a8"
             ],
             [
              0.3333333333333333,
              "#9c179e"
             ],
             [
              0.4444444444444444,
              "#bd3786"
             ],
             [
              0.5555555555555556,
              "#d8576b"
             ],
             [
              0.6666666666666666,
              "#ed7953"
             ],
             [
              0.7777777777777778,
              "#fb9f3a"
             ],
             [
              0.8888888888888888,
              "#fdca26"
             ],
             [
              1,
              "#f0f921"
             ]
            ],
            "type": "heatmap"
           }
          ],
          "heatmapgl": [
           {
            "colorbar": {
             "outlinewidth": 0,
             "ticks": ""
            },
            "colorscale": [
             [
              0,
              "#0d0887"
             ],
             [
              0.1111111111111111,
              "#46039f"
             ],
             [
              0.2222222222222222,
              "#7201a8"
             ],
             [
              0.3333333333333333,
              "#9c179e"
             ],
             [
              0.4444444444444444,
              "#bd3786"
             ],
             [
              0.5555555555555556,
              "#d8576b"
             ],
             [
              0.6666666666666666,
              "#ed7953"
             ],
             [
              0.7777777777777778,
              "#fb9f3a"
             ],
             [
              0.8888888888888888,
              "#fdca26"
             ],
             [
              1,
              "#f0f921"
             ]
            ],
            "type": "heatmapgl"
           }
          ],
          "histogram": [
           {
            "marker": {
             "pattern": {
              "fillmode": "overlay",
              "size": 10,
              "solidity": 0.2
             }
            },
            "type": "histogram"
           }
          ],
          "histogram2d": [
           {
            "colorbar": {
             "outlinewidth": 0,
             "ticks": ""
            },
            "colorscale": [
             [
              0,
              "#0d0887"
             ],
             [
              0.1111111111111111,
              "#46039f"
             ],
             [
              0.2222222222222222,
              "#7201a8"
             ],
             [
              0.3333333333333333,
              "#9c179e"
             ],
             [
              0.4444444444444444,
              "#bd3786"
             ],
             [
              0.5555555555555556,
              "#d8576b"
             ],
             [
              0.6666666666666666,
              "#ed7953"
             ],
             [
              0.7777777777777778,
              "#fb9f3a"
             ],
             [
              0.8888888888888888,
              "#fdca26"
             ],
             [
              1,
              "#f0f921"
             ]
            ],
            "type": "histogram2d"
           }
          ],
          "histogram2dcontour": [
           {
            "colorbar": {
             "outlinewidth": 0,
             "ticks": ""
            },
            "colorscale": [
             [
              0,
              "#0d0887"
             ],
             [
              0.1111111111111111,
              "#46039f"
             ],
             [
              0.2222222222222222,
              "#7201a8"
             ],
             [
              0.3333333333333333,
              "#9c179e"
             ],
             [
              0.4444444444444444,
              "#bd3786"
             ],
             [
              0.5555555555555556,
              "#d8576b"
             ],
             [
              0.6666666666666666,
              "#ed7953"
             ],
             [
              0.7777777777777778,
              "#fb9f3a"
             ],
             [
              0.8888888888888888,
              "#fdca26"
             ],
             [
              1,
              "#f0f921"
             ]
            ],
            "type": "histogram2dcontour"
           }
          ],
          "mesh3d": [
           {
            "colorbar": {
             "outlinewidth": 0,
             "ticks": ""
            },
            "type": "mesh3d"
           }
          ],
          "parcoords": [
           {
            "line": {
             "colorbar": {
              "outlinewidth": 0,
              "ticks": ""
             }
            },
            "type": "parcoords"
           }
          ],
          "pie": [
           {
            "automargin": true,
            "type": "pie"
           }
          ],
          "scatter": [
           {
            "fillpattern": {
             "fillmode": "overlay",
             "size": 10,
             "solidity": 0.2
            },
            "type": "scatter"
           }
          ],
          "scatter3d": [
           {
            "line": {
             "colorbar": {
              "outlinewidth": 0,
              "ticks": ""
             }
            },
            "marker": {
             "colorbar": {
              "outlinewidth": 0,
              "ticks": ""
             }
            },
            "type": "scatter3d"
           }
          ],
          "scattercarpet": [
           {
            "marker": {
             "colorbar": {
              "outlinewidth": 0,
              "ticks": ""
             }
            },
            "type": "scattercarpet"
           }
          ],
          "scattergeo": [
           {
            "marker": {
             "colorbar": {
              "outlinewidth": 0,
              "ticks": ""
             }
            },
            "type": "scattergeo"
           }
          ],
          "scattergl": [
           {
            "marker": {
             "colorbar": {
              "outlinewidth": 0,
              "ticks": ""
             }
            },
            "type": "scattergl"
           }
          ],
          "scattermapbox": [
           {
            "marker": {
             "colorbar": {
              "outlinewidth": 0,
              "ticks": ""
             }
            },
            "type": "scattermapbox"
           }
          ],
          "scatterpolar": [
           {
            "marker": {
             "colorbar": {
              "outlinewidth": 0,
              "ticks": ""
             }
            },
            "type": "scatterpolar"
           }
          ],
          "scatterpolargl": [
           {
            "marker": {
             "colorbar": {
              "outlinewidth": 0,
              "ticks": ""
             }
            },
            "type": "scatterpolargl"
           }
          ],
          "scatterternary": [
           {
            "marker": {
             "colorbar": {
              "outlinewidth": 0,
              "ticks": ""
             }
            },
            "type": "scatterternary"
           }
          ],
          "surface": [
           {
            "colorbar": {
             "outlinewidth": 0,
             "ticks": ""
            },
            "colorscale": [
             [
              0,
              "#0d0887"
             ],
             [
              0.1111111111111111,
              "#46039f"
             ],
             [
              0.2222222222222222,
              "#7201a8"
             ],
             [
              0.3333333333333333,
              "#9c179e"
             ],
             [
              0.4444444444444444,
              "#bd3786"
             ],
             [
              0.5555555555555556,
              "#d8576b"
             ],
             [
              0.6666666666666666,
              "#ed7953"
             ],
             [
              0.7777777777777778,
              "#fb9f3a"
             ],
             [
              0.8888888888888888,
              "#fdca26"
             ],
             [
              1,
              "#f0f921"
             ]
            ],
            "type": "surface"
           }
          ],
          "table": [
           {
            "cells": {
             "fill": {
              "color": "#EBF0F8"
             },
             "line": {
              "color": "white"
             }
            },
            "header": {
             "fill": {
              "color": "#C8D4E3"
             },
             "line": {
              "color": "white"
             }
            },
            "type": "table"
           }
          ]
         },
         "layout": {
          "annotationdefaults": {
           "arrowcolor": "#2a3f5f",
           "arrowhead": 0,
           "arrowwidth": 1
          },
          "autotypenumbers": "strict",
          "coloraxis": {
           "colorbar": {
            "outlinewidth": 0,
            "ticks": ""
           }
          },
          "colorscale": {
           "diverging": [
            [
             0,
             "#8e0152"
            ],
            [
             0.1,
             "#c51b7d"
            ],
            [
             0.2,
             "#de77ae"
            ],
            [
             0.3,
             "#f1b6da"
            ],
            [
             0.4,
             "#fde0ef"
            ],
            [
             0.5,
             "#f7f7f7"
            ],
            [
             0.6,
             "#e6f5d0"
            ],
            [
             0.7,
             "#b8e186"
            ],
            [
             0.8,
             "#7fbc41"
            ],
            [
             0.9,
             "#4d9221"
            ],
            [
             1,
             "#276419"
            ]
           ],
           "sequential": [
            [
             0,
             "#0d0887"
            ],
            [
             0.1111111111111111,
             "#46039f"
            ],
            [
             0.2222222222222222,
             "#7201a8"
            ],
            [
             0.3333333333333333,
             "#9c179e"
            ],
            [
             0.4444444444444444,
             "#bd3786"
            ],
            [
             0.5555555555555556,
             "#d8576b"
            ],
            [
             0.6666666666666666,
             "#ed7953"
            ],
            [
             0.7777777777777778,
             "#fb9f3a"
            ],
            [
             0.8888888888888888,
             "#fdca26"
            ],
            [
             1,
             "#f0f921"
            ]
           ],
           "sequentialminus": [
            [
             0,
             "#0d0887"
            ],
            [
             0.1111111111111111,
             "#46039f"
            ],
            [
             0.2222222222222222,
             "#7201a8"
            ],
            [
             0.3333333333333333,
             "#9c179e"
            ],
            [
             0.4444444444444444,
             "#bd3786"
            ],
            [
             0.5555555555555556,
             "#d8576b"
            ],
            [
             0.6666666666666666,
             "#ed7953"
            ],
            [
             0.7777777777777778,
             "#fb9f3a"
            ],
            [
             0.8888888888888888,
             "#fdca26"
            ],
            [
             1,
             "#f0f921"
            ]
           ]
          },
          "colorway": [
           "#636efa",
           "#EF553B",
           "#00cc96",
           "#ab63fa",
           "#FFA15A",
           "#19d3f3",
           "#FF6692",
           "#B6E880",
           "#FF97FF",
           "#FECB52"
          ],
          "font": {
           "color": "#2a3f5f"
          },
          "geo": {
           "bgcolor": "white",
           "lakecolor": "white",
           "landcolor": "#E5ECF6",
           "showlakes": true,
           "showland": true,
           "subunitcolor": "white"
          },
          "hoverlabel": {
           "align": "left"
          },
          "hovermode": "closest",
          "mapbox": {
           "style": "light"
          },
          "paper_bgcolor": "white",
          "plot_bgcolor": "#E5ECF6",
          "polar": {
           "angularaxis": {
            "gridcolor": "white",
            "linecolor": "white",
            "ticks": ""
           },
           "bgcolor": "#E5ECF6",
           "radialaxis": {
            "gridcolor": "white",
            "linecolor": "white",
            "ticks": ""
           }
          },
          "scene": {
           "xaxis": {
            "backgroundcolor": "#E5ECF6",
            "gridcolor": "white",
            "gridwidth": 2,
            "linecolor": "white",
            "showbackground": true,
            "ticks": "",
            "zerolinecolor": "white"
           },
           "yaxis": {
            "backgroundcolor": "#E5ECF6",
            "gridcolor": "white",
            "gridwidth": 2,
            "linecolor": "white",
            "showbackground": true,
            "ticks": "",
            "zerolinecolor": "white"
           },
           "zaxis": {
            "backgroundcolor": "#E5ECF6",
            "gridcolor": "white",
            "gridwidth": 2,
            "linecolor": "white",
            "showbackground": true,
            "ticks": "",
            "zerolinecolor": "white"
           }
          },
          "shapedefaults": {
           "line": {
            "color": "#2a3f5f"
           }
          },
          "ternary": {
           "aaxis": {
            "gridcolor": "white",
            "linecolor": "white",
            "ticks": ""
           },
           "baxis": {
            "gridcolor": "white",
            "linecolor": "white",
            "ticks": ""
           },
           "bgcolor": "#E5ECF6",
           "caxis": {
            "gridcolor": "white",
            "linecolor": "white",
            "ticks": ""
           }
          },
          "title": {
           "x": 0.05
          },
          "xaxis": {
           "automargin": true,
           "gridcolor": "white",
           "linecolor": "white",
           "ticks": "",
           "title": {
            "standoff": 15
           },
           "zerolinecolor": "white",
           "zerolinewidth": 2
          },
          "yaxis": {
           "automargin": true,
           "gridcolor": "white",
           "linecolor": "white",
           "ticks": "",
           "title": {
            "standoff": 15
           },
           "zerolinecolor": "white",
           "zerolinewidth": 2
          }
         }
        },
        "title": {
         "text": "drought"
        },
        "width": 1600,
        "xaxis": {
         "linecolor": "rgb(102, 102, 102)",
         "showgrid": false,
         "showline": true,
         "showticklabels": true,
         "tickcolor": "rgb(102, 102, 102)",
         "tickfont": {
          "color": "rgb(102, 102, 102)"
         },
         "ticks": "outside"
        }
       }
      }
     },
     "metadata": {},
     "output_type": "display_data"
    },
    {
     "data": {
      "application/vnd.plotly.v1+json": {
       "config": {
        "plotlyServerURL": "https://plot.ly"
       },
       "data": [
        {
         "marker": {
          "color": "rgba(156, 165, 196, 0.95)",
          "line": {
           "width": 1
          },
          "size": 16,
          "symbol": "circle"
         },
         "mode": "markers",
         "name": "1",
         "type": "scatter",
         "x": [
          null,
          null,
          null,
          null,
          null,
          null,
          null,
          null,
          null,
          null,
          null,
          null,
          null,
          null,
          null,
          null,
          null,
          null,
          null,
          null,
          235.56,
          null,
          null,
          null,
          null,
          null,
          -29.043,
          null,
          null,
          null,
          null,
          null,
          null,
          null,
          null,
          null,
          null,
          null,
          null,
          null,
          null,
          null,
          null,
          null,
          null,
          null,
          null,
          null,
          null,
          null,
          null,
          null,
          null,
          null,
          null,
          null,
          -45.368,
          null,
          null,
          null,
          null,
          null,
          null,
          null,
          null,
          null,
          null,
          null,
          null,
          null,
          null,
          null,
          null,
          null,
          null,
          null,
          null,
          null,
          null,
          null,
          null,
          null,
          -20.992,
          null,
          null,
          null,
          null,
          null,
          null,
          null,
          null,
          null,
          null,
          null,
          null,
          null,
          -40.623,
          null,
          null,
          null,
          null,
          null,
          null,
          null,
          null,
          null,
          null,
          null
         ],
         "y": [
          "AGO",
          "AGO",
          "ARM",
          "ARM",
          "BEN",
          "BEN",
          "BFA",
          "BFA",
          "BGD",
          "BGD",
          "BOL",
          "BOL",
          "CIV",
          "CIV",
          "CMR",
          "CMR",
          "COD",
          "COD",
          "COM",
          "COM",
          "DOM",
          "DOM",
          "EGY",
          "EGY",
          "ETH",
          "ETH",
          "GAB",
          "GAB",
          "GHA",
          "GHA",
          "GIN",
          "GIN",
          "GMB",
          "GMB",
          "GTM",
          "GTM",
          "GUY",
          "GUY",
          "HND",
          "HND",
          "HTI",
          "HTI",
          "IND",
          "IND",
          "JOR",
          "JOR",
          "KEN",
          "KEN",
          "KGZ",
          "KGZ",
          "KHM",
          "KHM",
          "LBR",
          "LBR",
          "LSO",
          "LSO",
          "MAR",
          "MAR",
          "MDA",
          "MDA",
          "MDG",
          "MDG",
          "MLI",
          "MLI",
          "MMR",
          "MMR",
          "MOZ",
          "MOZ",
          "MRT",
          "MRT",
          "MWI",
          "MWI",
          "NAM",
          "NAM",
          "NGA",
          "NGA",
          "NIC",
          "NIC",
          "PAK",
          "PAK",
          "PER",
          "PER",
          "PHL",
          "PHL",
          "SEN",
          "SEN",
          "SLE",
          "SLE",
          "SWZ",
          "SWZ",
          "TCD",
          "TCD",
          "TGO",
          "TGO",
          "TJK",
          "TJK",
          "TLS",
          "TLS",
          "TZA",
          "TZA",
          "UGA",
          "UGA",
          "ZAF",
          "ZAF",
          "ZMB",
          "ZMB",
          "ZWE",
          "ZWE"
         ]
        },
        {
         "marker": {
          "color": "rgba(156, 165, 196, 0.95)",
          "line": {
           "width": 1
          },
          "size": 16,
          "symbol": "circle"
         },
         "mode": "markers",
         "name": "2",
         "type": "scatter",
         "x": [
          null,
          null,
          null,
          null,
          null,
          null,
          null,
          null,
          null,
          null,
          null,
          null,
          null,
          null,
          97.081,
          null,
          null,
          null,
          null,
          null,
          203.891,
          null,
          null,
          null,
          null,
          null,
          -28.567,
          null,
          null,
          null,
          null,
          null,
          null,
          null,
          null,
          null,
          null,
          null,
          null,
          null,
          null,
          null,
          null,
          null,
          null,
          null,
          null,
          null,
          null,
          null,
          null,
          null,
          null,
          null,
          null,
          null,
          -40.193,
          null,
          null,
          null,
          null,
          null,
          null,
          null,
          null,
          null,
          null,
          null,
          null,
          null,
          null,
          null,
          -54.445,
          null,
          null,
          null,
          null,
          null,
          null,
          null,
          -35.529,
          null,
          -21.157,
          null,
          null,
          null,
          null,
          null,
          null,
          null,
          null,
          null,
          null,
          null,
          null,
          null,
          -12.797,
          null,
          null,
          null,
          null,
          null,
          null,
          null,
          null,
          null,
          null,
          null
         ],
         "y": [
          "AGO",
          "AGO",
          "ARM",
          "ARM",
          "BEN",
          "BEN",
          "BFA",
          "BFA",
          "BGD",
          "BGD",
          "BOL",
          "BOL",
          "CIV",
          "CIV",
          "CMR",
          "CMR",
          "COD",
          "COD",
          "COM",
          "COM",
          "DOM",
          "DOM",
          "EGY",
          "EGY",
          "ETH",
          "ETH",
          "GAB",
          "GAB",
          "GHA",
          "GHA",
          "GIN",
          "GIN",
          "GMB",
          "GMB",
          "GTM",
          "GTM",
          "GUY",
          "GUY",
          "HND",
          "HND",
          "HTI",
          "HTI",
          "IND",
          "IND",
          "JOR",
          "JOR",
          "KEN",
          "KEN",
          "KGZ",
          "KGZ",
          "KHM",
          "KHM",
          "LBR",
          "LBR",
          "LSO",
          "LSO",
          "MAR",
          "MAR",
          "MDA",
          "MDA",
          "MDG",
          "MDG",
          "MLI",
          "MLI",
          "MMR",
          "MMR",
          "MOZ",
          "MOZ",
          "MRT",
          "MRT",
          "MWI",
          "MWI",
          "NAM",
          "NAM",
          "NGA",
          "NGA",
          "NIC",
          "NIC",
          "PAK",
          "PAK",
          "PER",
          "PER",
          "PHL",
          "PHL",
          "SEN",
          "SEN",
          "SLE",
          "SLE",
          "SWZ",
          "SWZ",
          "TCD",
          "TCD",
          "TGO",
          "TGO",
          "TJK",
          "TJK",
          "TLS",
          "TLS",
          "TZA",
          "TZA",
          "UGA",
          "UGA",
          "ZAF",
          "ZAF",
          "ZMB",
          "ZMB",
          "ZWE",
          "ZWE"
         ]
        },
        {
         "marker": {
          "color": "rgba(156, 165, 196, 0.95)",
          "line": {
           "width": 1
          },
          "size": 16,
          "symbol": "circle"
         },
         "mode": "markers",
         "name": "3",
         "type": "scatter",
         "x": [
          null,
          null,
          37.474,
          null,
          -23.694,
          null,
          null,
          null,
          null,
          null,
          -42.612,
          null,
          127.522,
          null,
          97.819,
          null,
          null,
          null,
          null,
          null,
          null,
          null,
          null,
          null,
          null,
          null,
          -31.922,
          null,
          null,
          null,
          -19.554,
          null,
          null,
          null,
          -16.8,
          null,
          null,
          null,
          null,
          null,
          null,
          null,
          null,
          null,
          -8.128,
          null,
          null,
          null,
          null,
          null,
          null,
          null,
          null,
          null,
          null,
          null,
          -39.093,
          null,
          null,
          null,
          null,
          null,
          -17.263,
          null,
          -95.848,
          null,
          null,
          null,
          null,
          null,
          null,
          null,
          -83.263,
          null,
          null,
          null,
          null,
          null,
          null,
          null,
          null,
          null,
          -22.273,
          null,
          null,
          null,
          null,
          null,
          null,
          null,
          null,
          null,
          null,
          null,
          null,
          null,
          -17.224,
          null,
          null,
          null,
          null,
          null,
          null,
          null,
          null,
          null,
          null,
          null
         ],
         "y": [
          "AGO",
          "AGO",
          "ARM",
          "ARM",
          "BEN",
          "BEN",
          "BFA",
          "BFA",
          "BGD",
          "BGD",
          "BOL",
          "BOL",
          "CIV",
          "CIV",
          "CMR",
          "CMR",
          "COD",
          "COD",
          "COM",
          "COM",
          "DOM",
          "DOM",
          "EGY",
          "EGY",
          "ETH",
          "ETH",
          "GAB",
          "GAB",
          "GHA",
          "GHA",
          "GIN",
          "GIN",
          "GMB",
          "GMB",
          "GTM",
          "GTM",
          "GUY",
          "GUY",
          "HND",
          "HND",
          "HTI",
          "HTI",
          "IND",
          "IND",
          "JOR",
          "JOR",
          "KEN",
          "KEN",
          "KGZ",
          "KGZ",
          "KHM",
          "KHM",
          "LBR",
          "LBR",
          "LSO",
          "LSO",
          "MAR",
          "MAR",
          "MDA",
          "MDA",
          "MDG",
          "MDG",
          "MLI",
          "MLI",
          "MMR",
          "MMR",
          "MOZ",
          "MOZ",
          "MRT",
          "MRT",
          "MWI",
          "MWI",
          "NAM",
          "NAM",
          "NGA",
          "NGA",
          "NIC",
          "NIC",
          "PAK",
          "PAK",
          "PER",
          "PER",
          "PHL",
          "PHL",
          "SEN",
          "SEN",
          "SLE",
          "SLE",
          "SWZ",
          "SWZ",
          "TCD",
          "TCD",
          "TGO",
          "TGO",
          "TJK",
          "TJK",
          "TLS",
          "TLS",
          "TZA",
          "TZA",
          "UGA",
          "UGA",
          "ZAF",
          "ZAF",
          "ZMB",
          "ZMB",
          "ZWE",
          "ZWE"
         ]
        },
        {
         "marker": {
          "color": "rgba(156, 165, 196, 0.95)",
          "line": {
           "width": 1
          },
          "size": 16,
          "symbol": "circle"
         },
         "mode": "markers",
         "name": "4",
         "type": "scatter",
         "x": [
          -70.992,
          null,
          37.762,
          null,
          -28.274,
          null,
          null,
          null,
          null,
          null,
          null,
          null,
          122.191,
          null,
          96.501,
          null,
          null,
          null,
          null,
          null,
          206.196,
          null,
          null,
          null,
          null,
          null,
          -34.348,
          null,
          null,
          null,
          null,
          null,
          null,
          null,
          null,
          null,
          -10.251,
          null,
          null,
          null,
          null,
          null,
          -11.98,
          null,
          -8.114,
          null,
          null,
          null,
          null,
          null,
          null,
          null,
          -18.819,
          null,
          null,
          null,
          -38.713,
          null,
          null,
          null,
          null,
          null,
          -16.303,
          null,
          -113.531,
          null,
          null,
          null,
          null,
          null,
          null,
          null,
          null,
          null,
          null,
          null,
          null,
          null,
          null,
          null,
          null,
          null,
          -24.175,
          null,
          -10.683,
          null,
          null,
          null,
          null,
          null,
          null,
          null,
          null,
          null,
          null,
          null,
          -19.092,
          null,
          null,
          null,
          40.834,
          null,
          null,
          null,
          null,
          null,
          null,
          null
         ],
         "y": [
          "AGO",
          "AGO",
          "ARM",
          "ARM",
          "BEN",
          "BEN",
          "BFA",
          "BFA",
          "BGD",
          "BGD",
          "BOL",
          "BOL",
          "CIV",
          "CIV",
          "CMR",
          "CMR",
          "COD",
          "COD",
          "COM",
          "COM",
          "DOM",
          "DOM",
          "EGY",
          "EGY",
          "ETH",
          "ETH",
          "GAB",
          "GAB",
          "GHA",
          "GHA",
          "GIN",
          "GIN",
          "GMB",
          "GMB",
          "GTM",
          "GTM",
          "GUY",
          "GUY",
          "HND",
          "HND",
          "HTI",
          "HTI",
          "IND",
          "IND",
          "JOR",
          "JOR",
          "KEN",
          "KEN",
          "KGZ",
          "KGZ",
          "KHM",
          "KHM",
          "LBR",
          "LBR",
          "LSO",
          "LSO",
          "MAR",
          "MAR",
          "MDA",
          "MDA",
          "MDG",
          "MDG",
          "MLI",
          "MLI",
          "MMR",
          "MMR",
          "MOZ",
          "MOZ",
          "MRT",
          "MRT",
          "MWI",
          "MWI",
          "NAM",
          "NAM",
          "NGA",
          "NGA",
          "NIC",
          "NIC",
          "PAK",
          "PAK",
          "PER",
          "PER",
          "PHL",
          "PHL",
          "SEN",
          "SEN",
          "SLE",
          "SLE",
          "SWZ",
          "SWZ",
          "TCD",
          "TCD",
          "TGO",
          "TGO",
          "TJK",
          "TJK",
          "TLS",
          "TLS",
          "TZA",
          "TZA",
          "UGA",
          "UGA",
          "ZAF",
          "ZAF",
          "ZMB",
          "ZMB",
          "ZWE",
          "ZWE"
         ]
        },
        {
         "marker": {
          "color": "rgba(204, 204, 204, 0.95)",
          "line": {
           "width": 1
          },
          "size": 16,
          "symbol": "circle"
         },
         "mode": "markers",
         "name": "5",
         "type": "scatter",
         "x": [
          null,
          null,
          null,
          null,
          null,
          null,
          null,
          -14.123,
          null,
          null,
          null,
          null,
          null,
          null,
          null,
          null,
          null,
          null,
          null,
          null,
          null,
          null,
          -4.475,
          1.485,
          null,
          null,
          null,
          -0.815,
          null,
          null,
          null,
          null,
          null,
          null,
          4.988,
          null,
          null,
          null,
          null,
          null,
          null,
          null,
          null,
          null,
          null,
          null,
          null,
          null,
          null,
          null,
          null,
          null,
          null,
          null,
          null,
          null,
          null,
          null,
          null,
          null,
          null,
          null,
          null,
          -9.526,
          null,
          null,
          null,
          null,
          null,
          null,
          null,
          -10.25,
          null,
          null,
          null,
          null,
          null,
          null,
          null,
          null,
          null,
          null,
          null,
          null,
          null,
          null,
          null,
          -13.63,
          null,
          null,
          null,
          null,
          null,
          null,
          null,
          null,
          -11.934,
          -11.21,
          null,
          null,
          null,
          null,
          null,
          null,
          null,
          null,
          null,
          null
         ],
         "y": [
          "AGO",
          "AGO",
          "ARM",
          "ARM",
          "BEN",
          "BEN",
          "BFA",
          "BFA",
          "BGD",
          "BGD",
          "BOL",
          "BOL",
          "CIV",
          "CIV",
          "CMR",
          "CMR",
          "COD",
          "COD",
          "COM",
          "COM",
          "DOM",
          "DOM",
          "EGY",
          "EGY",
          "ETH",
          "ETH",
          "GAB",
          "GAB",
          "GHA",
          "GHA",
          "GIN",
          "GIN",
          "GMB",
          "GMB",
          "GTM",
          "GTM",
          "GUY",
          "GUY",
          "HND",
          "HND",
          "HTI",
          "HTI",
          "IND",
          "IND",
          "JOR",
          "JOR",
          "KEN",
          "KEN",
          "KGZ",
          "KGZ",
          "KHM",
          "KHM",
          "LBR",
          "LBR",
          "LSO",
          "LSO",
          "MAR",
          "MAR",
          "MDA",
          "MDA",
          "MDG",
          "MDG",
          "MLI",
          "MLI",
          "MMR",
          "MMR",
          "MOZ",
          "MOZ",
          "MRT",
          "MRT",
          "MWI",
          "MWI",
          "NAM",
          "NAM",
          "NGA",
          "NGA",
          "NIC",
          "NIC",
          "PAK",
          "PAK",
          "PER",
          "PER",
          "PHL",
          "PHL",
          "SEN",
          "SEN",
          "SLE",
          "SLE",
          "SWZ",
          "SWZ",
          "TCD",
          "TCD",
          "TGO",
          "TGO",
          "TJK",
          "TJK",
          "TLS",
          "TLS",
          "TZA",
          "TZA",
          "UGA",
          "UGA",
          "ZAF",
          "ZAF",
          "ZMB",
          "ZMB",
          "ZWE",
          "ZWE"
         ]
        },
        {
         "marker": {
          "color": "rgba(204, 204, 204, 0.95)",
          "line": {
           "width": 1
          },
          "size": 16,
          "symbol": "circle"
         },
         "mode": "markers",
         "name": "6",
         "type": "scatter",
         "x": [
          null,
          null,
          null,
          null,
          null,
          6.444,
          null,
          null,
          null,
          null,
          null,
          null,
          null,
          null,
          -4.899,
          null,
          -19.905,
          null,
          null,
          null,
          null,
          null,
          -6.273,
          null,
          null,
          null,
          null,
          null,
          null,
          null,
          null,
          -38.672,
          null,
          null,
          null,
          null,
          null,
          null,
          null,
          null,
          null,
          null,
          null,
          null,
          null,
          null,
          null,
          null,
          null,
          null,
          null,
          null,
          null,
          null,
          null,
          null,
          null,
          null,
          null,
          null,
          null,
          null,
          null,
          -11.473,
          null,
          null,
          null,
          null,
          null,
          null,
          null,
          null,
          -28.535,
          null,
          null,
          null,
          null,
          null,
          null,
          null,
          null,
          null,
          -2.229,
          null,
          null,
          null,
          null,
          -16.37,
          null,
          null,
          null,
          null,
          null,
          null,
          -2.558,
          -15.17,
          -7.821,
          -7.773,
          null,
          null,
          null,
          null,
          null,
          6.057,
          null,
          null,
          null,
          null
         ],
         "y": [
          "AGO",
          "AGO",
          "ARM",
          "ARM",
          "BEN",
          "BEN",
          "BFA",
          "BFA",
          "BGD",
          "BGD",
          "BOL",
          "BOL",
          "CIV",
          "CIV",
          "CMR",
          "CMR",
          "COD",
          "COD",
          "COM",
          "COM",
          "DOM",
          "DOM",
          "EGY",
          "EGY",
          "ETH",
          "ETH",
          "GAB",
          "GAB",
          "GHA",
          "GHA",
          "GIN",
          "GIN",
          "GMB",
          "GMB",
          "GTM",
          "GTM",
          "GUY",
          "GUY",
          "HND",
          "HND",
          "HTI",
          "HTI",
          "IND",
          "IND",
          "JOR",
          "JOR",
          "KEN",
          "KEN",
          "KGZ",
          "KGZ",
          "KHM",
          "KHM",
          "LBR",
          "LBR",
          "LSO",
          "LSO",
          "MAR",
          "MAR",
          "MDA",
          "MDA",
          "MDG",
          "MDG",
          "MLI",
          "MLI",
          "MMR",
          "MMR",
          "MOZ",
          "MOZ",
          "MRT",
          "MRT",
          "MWI",
          "MWI",
          "NAM",
          "NAM",
          "NGA",
          "NGA",
          "NIC",
          "NIC",
          "PAK",
          "PAK",
          "PER",
          "PER",
          "PHL",
          "PHL",
          "SEN",
          "SEN",
          "SLE",
          "SLE",
          "SWZ",
          "SWZ",
          "TCD",
          "TCD",
          "TGO",
          "TGO",
          "TJK",
          "TJK",
          "TLS",
          "TLS",
          "TZA",
          "TZA",
          "UGA",
          "UGA",
          "ZAF",
          "ZAF",
          "ZMB",
          "ZMB",
          "ZWE",
          "ZWE"
         ]
        },
        {
         "marker": {
          "color": "rgba(204, 204, 204, 0.95)",
          "line": {
           "width": 1
          },
          "size": 16,
          "symbol": "circle"
         },
         "mode": "markers",
         "name": "7",
         "type": "scatter",
         "x": [
          null,
          null,
          -1.098,
          -1.018,
          -8.465,
          null,
          null,
          null,
          null,
          -1.948,
          -3.181,
          -13.063,
          -11.403,
          null,
          -3.061,
          -5.267,
          -19.144,
          null,
          null,
          null,
          null,
          null,
          null,
          null,
          null,
          null,
          null,
          -2.33,
          null,
          null,
          null,
          -36.628,
          null,
          null,
          null,
          null,
          null,
          null,
          null,
          null,
          null,
          null,
          -1.946,
          -2.534,
          0.384,
          -1.606,
          null,
          null,
          null,
          10.871,
          null,
          null,
          null,
          -4.769,
          null,
          null,
          null,
          null,
          null,
          null,
          null,
          null,
          null,
          -12.07,
          null,
          null,
          null,
          null,
          null,
          null,
          14.051,
          null,
          -17.222,
          null,
          null,
          null,
          null,
          null,
          null,
          -3.149,
          null,
          null,
          -1.822,
          -2.048,
          null,
          null,
          null,
          null,
          null,
          null,
          null,
          null,
          null,
          4.369,
          null,
          -11.716,
          -4.019,
          -12.615,
          null,
          null,
          null,
          null,
          -26.795,
          null,
          -11.858,
          null,
          null,
          null
         ],
         "y": [
          "AGO",
          "AGO",
          "ARM",
          "ARM",
          "BEN",
          "BEN",
          "BFA",
          "BFA",
          "BGD",
          "BGD",
          "BOL",
          "BOL",
          "CIV",
          "CIV",
          "CMR",
          "CMR",
          "COD",
          "COD",
          "COM",
          "COM",
          "DOM",
          "DOM",
          "EGY",
          "EGY",
          "ETH",
          "ETH",
          "GAB",
          "GAB",
          "GHA",
          "GHA",
          "GIN",
          "GIN",
          "GMB",
          "GMB",
          "GTM",
          "GTM",
          "GUY",
          "GUY",
          "HND",
          "HND",
          "HTI",
          "HTI",
          "IND",
          "IND",
          "JOR",
          "JOR",
          "KEN",
          "KEN",
          "KGZ",
          "KGZ",
          "KHM",
          "KHM",
          "LBR",
          "LBR",
          "LSO",
          "LSO",
          "MAR",
          "MAR",
          "MDA",
          "MDA",
          "MDG",
          "MDG",
          "MLI",
          "MLI",
          "MMR",
          "MMR",
          "MOZ",
          "MOZ",
          "MRT",
          "MRT",
          "MWI",
          "MWI",
          "NAM",
          "NAM",
          "NGA",
          "NGA",
          "NIC",
          "NIC",
          "PAK",
          "PAK",
          "PER",
          "PER",
          "PHL",
          "PHL",
          "SEN",
          "SEN",
          "SLE",
          "SLE",
          "SWZ",
          "SWZ",
          "TCD",
          "TCD",
          "TGO",
          "TGO",
          "TJK",
          "TJK",
          "TLS",
          "TLS",
          "TZA",
          "TZA",
          "UGA",
          "UGA",
          "ZAF",
          "ZAF",
          "ZMB",
          "ZMB",
          "ZWE",
          "ZWE"
         ]
        },
        {
         "marker": {
          "color": "rgba(204, 204, 204, 0.95)",
          "line": {
           "width": 1
          },
          "size": 16,
          "symbol": "circle"
         },
         "mode": "markers",
         "name": "8",
         "type": "scatter",
         "x": [
          null,
          null,
          -0.909,
          -0.967,
          -5.357,
          null,
          null,
          null,
          null,
          null,
          -4.445,
          -8.423,
          -6.597,
          null,
          -3.908,
          -4.404,
          -15.007,
          null,
          null,
          null,
          -0.739,
          -0.534,
          -1.737,
          null,
          null,
          null,
          null,
          -2.497,
          null,
          null,
          null,
          -32.075,
          null,
          null,
          null,
          null,
          1.347,
          null,
          null,
          null,
          null,
          null,
          -2.579,
          -2.734,
          null,
          -1.596,
          null,
          null,
          null,
          null,
          null,
          null,
          null,
          -5.645,
          null,
          null,
          null,
          null,
          null,
          null,
          -4.509,
          null,
          null,
          -11.517,
          null,
          -8.14,
          -9.819,
          null,
          null,
          null,
          null,
          null,
          null,
          null,
          null,
          null,
          null,
          null,
          -0.726,
          -3.185,
          null,
          -3.628,
          -2.132,
          -2.05,
          -2.097,
          null,
          null,
          null,
          null,
          null,
          null,
          null,
          -3.949,
          null,
          -2.962,
          -7.427,
          null,
          null,
          null,
          null,
          null,
          null,
          -20.587,
          null,
          -13.774,
          null,
          -7.678,
          null
         ],
         "y": [
          "AGO",
          "AGO",
          "ARM",
          "ARM",
          "BEN",
          "BEN",
          "BFA",
          "BFA",
          "BGD",
          "BGD",
          "BOL",
          "BOL",
          "CIV",
          "CIV",
          "CMR",
          "CMR",
          "COD",
          "COD",
          "COM",
          "COM",
          "DOM",
          "DOM",
          "EGY",
          "EGY",
          "ETH",
          "ETH",
          "GAB",
          "GAB",
          "GHA",
          "GHA",
          "GIN",
          "GIN",
          "GMB",
          "GMB",
          "GTM",
          "GTM",
          "GUY",
          "GUY",
          "HND",
          "HND",
          "HTI",
          "HTI",
          "IND",
          "IND",
          "JOR",
          "JOR",
          "KEN",
          "KEN",
          "KGZ",
          "KGZ",
          "KHM",
          "KHM",
          "LBR",
          "LBR",
          "LSO",
          "LSO",
          "MAR",
          "MAR",
          "MDA",
          "MDA",
          "MDG",
          "MDG",
          "MLI",
          "MLI",
          "MMR",
          "MMR",
          "MOZ",
          "MOZ",
          "MRT",
          "MRT",
          "MWI",
          "MWI",
          "NAM",
          "NAM",
          "NGA",
          "NGA",
          "NIC",
          "NIC",
          "PAK",
          "PAK",
          "PER",
          "PER",
          "PHL",
          "PHL",
          "SEN",
          "SEN",
          "SLE",
          "SLE",
          "SWZ",
          "SWZ",
          "TCD",
          "TCD",
          "TGO",
          "TGO",
          "TJK",
          "TJK",
          "TLS",
          "TLS",
          "TZA",
          "TZA",
          "UGA",
          "UGA",
          "ZAF",
          "ZAF",
          "ZMB",
          "ZMB",
          "ZWE",
          "ZWE"
         ]
        },
        {
         "marker": {
          "color": "rgba(255, 166, 86, 0.95)",
          "line": {
           "width": 1
          },
          "size": 16,
          "symbol": "circle"
         },
         "mode": "markers",
         "name": "9",
         "type": "scatter",
         "x": [
          null,
          -15.946,
          null,
          null,
          null,
          null,
          null,
          null,
          3.705,
          5.886,
          null,
          null,
          null,
          null,
          null,
          null,
          -19.097,
          null,
          null,
          null,
          null,
          null,
          75.702,
          null,
          null,
          null,
          -1.84,
          null,
          null,
          null,
          null,
          null,
          null,
          null,
          null,
          null,
          null,
          null,
          null,
          null,
          null,
          null,
          null,
          null,
          null,
          null,
          null,
          null,
          null,
          null,
          null,
          null,
          null,
          null,
          null,
          null,
          null,
          null,
          null,
          null,
          null,
          null,
          null,
          null,
          null,
          null,
          null,
          null,
          null,
          null,
          null,
          null,
          null,
          null,
          null,
          null,
          null,
          null,
          null,
          null,
          null,
          null,
          null,
          null,
          null,
          null,
          null,
          null,
          null,
          null,
          null,
          null,
          null,
          null,
          null,
          null,
          -19.704,
          9.66,
          null,
          null,
          null,
          53.65,
          null,
          null,
          null,
          null,
          null,
          null
         ],
         "y": [
          "AGO",
          "AGO",
          "ARM",
          "ARM",
          "BEN",
          "BEN",
          "BFA",
          "BFA",
          "BGD",
          "BGD",
          "BOL",
          "BOL",
          "CIV",
          "CIV",
          "CMR",
          "CMR",
          "COD",
          "COD",
          "COM",
          "COM",
          "DOM",
          "DOM",
          "EGY",
          "EGY",
          "ETH",
          "ETH",
          "GAB",
          "GAB",
          "GHA",
          "GHA",
          "GIN",
          "GIN",
          "GMB",
          "GMB",
          "GTM",
          "GTM",
          "GUY",
          "GUY",
          "HND",
          "HND",
          "HTI",
          "HTI",
          "IND",
          "IND",
          "JOR",
          "JOR",
          "KEN",
          "KEN",
          "KGZ",
          "KGZ",
          "KHM",
          "KHM",
          "LBR",
          "LBR",
          "LSO",
          "LSO",
          "MAR",
          "MAR",
          "MDA",
          "MDA",
          "MDG",
          "MDG",
          "MLI",
          "MLI",
          "MMR",
          "MMR",
          "MOZ",
          "MOZ",
          "MRT",
          "MRT",
          "MWI",
          "MWI",
          "NAM",
          "NAM",
          "NGA",
          "NGA",
          "NIC",
          "NIC",
          "PAK",
          "PAK",
          "PER",
          "PER",
          "PHL",
          "PHL",
          "SEN",
          "SEN",
          "SLE",
          "SLE",
          "SWZ",
          "SWZ",
          "TCD",
          "TCD",
          "TGO",
          "TGO",
          "TJK",
          "TJK",
          "TLS",
          "TLS",
          "TZA",
          "TZA",
          "UGA",
          "UGA",
          "ZAF",
          "ZAF",
          "ZMB",
          "ZMB",
          "ZWE",
          "ZWE"
         ]
        },
        {
         "marker": {
          "color": "rgba(255, 166, 86, 0.95)",
          "line": {
           "width": 1
          },
          "size": 16,
          "symbol": "circle"
         },
         "mode": "markers",
         "name": "10",
         "type": "scatter",
         "x": [
          null,
          null,
          null,
          null,
          null,
          null,
          null,
          null,
          null,
          null,
          null,
          null,
          null,
          -58.288,
          null,
          null,
          null,
          null,
          null,
          null,
          null,
          -8.975,
          74.837,
          null,
          null,
          null,
          -2.387,
          null,
          null,
          null,
          null,
          null,
          null,
          null,
          null,
          null,
          null,
          null,
          null,
          null,
          -25.474,
          null,
          null,
          null,
          null,
          null,
          null,
          null,
          null,
          null,
          null,
          null,
          null,
          null,
          null,
          null,
          null,
          null,
          null,
          null,
          null,
          null,
          null,
          null,
          null,
          null,
          null,
          null,
          null,
          null,
          null,
          -5.486,
          -9.101,
          null,
          null,
          null,
          null,
          null,
          null,
          null,
          null,
          null,
          -4.477,
          null,
          null,
          null,
          null,
          null,
          null,
          null,
          null,
          null,
          null,
          null,
          null,
          null,
          -5.142,
          -3.899,
          null,
          null,
          null,
          null,
          null,
          null,
          null,
          null,
          null,
          null
         ],
         "y": [
          "AGO",
          "AGO",
          "ARM",
          "ARM",
          "BEN",
          "BEN",
          "BFA",
          "BFA",
          "BGD",
          "BGD",
          "BOL",
          "BOL",
          "CIV",
          "CIV",
          "CMR",
          "CMR",
          "COD",
          "COD",
          "COM",
          "COM",
          "DOM",
          "DOM",
          "EGY",
          "EGY",
          "ETH",
          "ETH",
          "GAB",
          "GAB",
          "GHA",
          "GHA",
          "GIN",
          "GIN",
          "GMB",
          "GMB",
          "GTM",
          "GTM",
          "GUY",
          "GUY",
          "HND",
          "HND",
          "HTI",
          "HTI",
          "IND",
          "IND",
          "JOR",
          "JOR",
          "KEN",
          "KEN",
          "KGZ",
          "KGZ",
          "KHM",
          "KHM",
          "LBR",
          "LBR",
          "LSO",
          "LSO",
          "MAR",
          "MAR",
          "MDA",
          "MDA",
          "MDG",
          "MDG",
          "MLI",
          "MLI",
          "MMR",
          "MMR",
          "MOZ",
          "MOZ",
          "MRT",
          "MRT",
          "MWI",
          "MWI",
          "NAM",
          "NAM",
          "NGA",
          "NGA",
          "NIC",
          "NIC",
          "PAK",
          "PAK",
          "PER",
          "PER",
          "PHL",
          "PHL",
          "SEN",
          "SEN",
          "SLE",
          "SLE",
          "SWZ",
          "SWZ",
          "TCD",
          "TCD",
          "TGO",
          "TGO",
          "TJK",
          "TJK",
          "TLS",
          "TLS",
          "TZA",
          "TZA",
          "UGA",
          "UGA",
          "ZAF",
          "ZAF",
          "ZMB",
          "ZMB",
          "ZWE",
          "ZWE"
         ]
        },
        {
         "marker": {
          "color": "rgba(255, 166, 86, 0.95)",
          "line": {
           "width": 1
          },
          "size": 16,
          "symbol": "circle"
         },
         "mode": "markers",
         "name": "11",
         "type": "scatter",
         "x": [
          -34.003,
          -48.055,
          null,
          null,
          null,
          null,
          -5.917,
          null,
          null,
          null,
          null,
          null,
          -16.02,
          null,
          null,
          null,
          null,
          null,
          null,
          null,
          -3.082,
          -6.436,
          73.206,
          null,
          null,
          null,
          -2.338,
          null,
          -5.708,
          null,
          null,
          null,
          null,
          null,
          null,
          null,
          null,
          null,
          null,
          null,
          -26.844,
          null,
          null,
          null,
          0.095,
          -0.131,
          null,
          -1.517,
          null,
          null,
          null,
          null,
          4.406,
          null,
          null,
          null,
          null,
          null,
          null,
          null,
          null,
          null,
          null,
          null,
          null,
          null,
          -25.63,
          null,
          null,
          null,
          null,
          -4.697,
          -7.353,
          null,
          null,
          null,
          null,
          null,
          null,
          null,
          null,
          -5.346,
          -3.893,
          null,
          null,
          null,
          null,
          -8.384,
          null,
          null,
          null,
          null,
          null,
          38.445,
          null,
          null,
          -3.328,
          null,
          -4.033,
          null,
          null,
          null,
          null,
          null,
          null,
          null,
          null,
          null
         ],
         "y": [
          "AGO",
          "AGO",
          "ARM",
          "ARM",
          "BEN",
          "BEN",
          "BFA",
          "BFA",
          "BGD",
          "BGD",
          "BOL",
          "BOL",
          "CIV",
          "CIV",
          "CMR",
          "CMR",
          "COD",
          "COD",
          "COM",
          "COM",
          "DOM",
          "DOM",
          "EGY",
          "EGY",
          "ETH",
          "ETH",
          "GAB",
          "GAB",
          "GHA",
          "GHA",
          "GIN",
          "GIN",
          "GMB",
          "GMB",
          "GTM",
          "GTM",
          "GUY",
          "GUY",
          "HND",
          "HND",
          "HTI",
          "HTI",
          "IND",
          "IND",
          "JOR",
          "JOR",
          "KEN",
          "KEN",
          "KGZ",
          "KGZ",
          "KHM",
          "KHM",
          "LBR",
          "LBR",
          "LSO",
          "LSO",
          "MAR",
          "MAR",
          "MDA",
          "MDA",
          "MDG",
          "MDG",
          "MLI",
          "MLI",
          "MMR",
          "MMR",
          "MOZ",
          "MOZ",
          "MRT",
          "MRT",
          "MWI",
          "MWI",
          "NAM",
          "NAM",
          "NGA",
          "NGA",
          "NIC",
          "NIC",
          "PAK",
          "PAK",
          "PER",
          "PER",
          "PHL",
          "PHL",
          "SEN",
          "SEN",
          "SLE",
          "SLE",
          "SWZ",
          "SWZ",
          "TCD",
          "TCD",
          "TGO",
          "TGO",
          "TJK",
          "TJK",
          "TLS",
          "TLS",
          "TZA",
          "TZA",
          "UGA",
          "UGA",
          "ZAF",
          "ZAF",
          "ZMB",
          "ZMB",
          "ZWE",
          "ZWE"
         ]
        },
        {
         "marker": {
          "color": "rgba(255, 166, 86, 0.95)",
          "line": {
           "width": 1
          },
          "size": 16,
          "symbol": "circle"
         },
         "mode": "markers",
         "name": "12",
         "type": "scatter",
         "x": [
          null,
          null,
          -7.126,
          8.904,
          -4.923,
          null,
          -5.061,
          null,
          null,
          null,
          null,
          null,
          -8.067,
          null,
          null,
          null,
          null,
          null,
          null,
          null,
          -3.518,
          -6.784,
          70.675,
          null,
          null,
          null,
          -1.742,
          null,
          null,
          null,
          null,
          null,
          null,
          null,
          null,
          null,
          null,
          null,
          null,
          null,
          -26.844,
          null,
          null,
          null,
          0.091,
          null,
          null,
          null,
          null,
          null,
          null,
          null,
          null,
          8.493,
          null,
          null,
          null,
          null,
          null,
          null,
          null,
          null,
          null,
          null,
          -1.826,
          null,
          -17.951,
          null,
          null,
          null,
          null,
          -6.169,
          -6.517,
          null,
          null,
          null,
          null,
          null,
          null,
          null,
          null,
          -3.547,
          -3.311,
          null,
          2.625,
          null,
          null,
          -7.621,
          null,
          null,
          null,
          null,
          null,
          39.356,
          -9.262,
          null,
          null,
          null,
          -4.936,
          null,
          null,
          44.235,
          -8.29,
          -6.672,
          -8.027,
          null,
          -7.687,
          null
         ],
         "y": [
          "AGO",
          "AGO",
          "ARM",
          "ARM",
          "BEN",
          "BEN",
          "BFA",
          "BFA",
          "BGD",
          "BGD",
          "BOL",
          "BOL",
          "CIV",
          "CIV",
          "CMR",
          "CMR",
          "COD",
          "COD",
          "COM",
          "COM",
          "DOM",
          "DOM",
          "EGY",
          "EGY",
          "ETH",
          "ETH",
          "GAB",
          "GAB",
          "GHA",
          "GHA",
          "GIN",
          "GIN",
          "GMB",
          "GMB",
          "GTM",
          "GTM",
          "GUY",
          "GUY",
          "HND",
          "HND",
          "HTI",
          "HTI",
          "IND",
          "IND",
          "JOR",
          "JOR",
          "KEN",
          "KEN",
          "KGZ",
          "KGZ",
          "KHM",
          "KHM",
          "LBR",
          "LBR",
          "LSO",
          "LSO",
          "MAR",
          "MAR",
          "MDA",
          "MDA",
          "MDG",
          "MDG",
          "MLI",
          "MLI",
          "MMR",
          "MMR",
          "MOZ",
          "MOZ",
          "MRT",
          "MRT",
          "MWI",
          "MWI",
          "NAM",
          "NAM",
          "NGA",
          "NGA",
          "NIC",
          "NIC",
          "PAK",
          "PAK",
          "PER",
          "PER",
          "PHL",
          "PHL",
          "SEN",
          "SEN",
          "SLE",
          "SLE",
          "SWZ",
          "SWZ",
          "TCD",
          "TCD",
          "TGO",
          "TGO",
          "TJK",
          "TJK",
          "TLS",
          "TLS",
          "TZA",
          "TZA",
          "UGA",
          "UGA",
          "ZAF",
          "ZAF",
          "ZMB",
          "ZMB",
          "ZWE",
          "ZWE"
         ]
        },
        {
         "marker": {
          "color": "rgba(240, 230, 140, 0.95)",
          "line": {
           "width": 1
          },
          "size": 16,
          "symbol": "circle"
         },
         "mode": "markers",
         "name": "13",
         "type": "scatter",
         "x": [
          null,
          null,
          null,
          null,
          null,
          null,
          null,
          null,
          null,
          12.848,
          null,
          null,
          null,
          null,
          -27.298,
          null,
          null,
          null,
          null,
          null,
          null,
          null,
          null,
          null,
          null,
          null,
          null,
          null,
          null,
          null,
          null,
          null,
          null,
          null,
          null,
          null,
          null,
          null,
          null,
          null,
          74.83,
          null,
          null,
          null,
          -2.738,
          -3.244,
          null,
          null,
          null,
          null,
          null,
          null,
          null,
          null,
          null,
          null,
          null,
          null,
          null,
          null,
          null,
          null,
          null,
          null,
          null,
          null,
          null,
          45.277,
          null,
          null,
          null,
          null,
          null,
          null,
          -61.847,
          null,
          null,
          null,
          null,
          null,
          null,
          -30.45,
          null,
          -3.61,
          -11.038,
          null,
          null,
          null,
          null,
          null,
          null,
          null,
          null,
          null,
          null,
          null,
          null,
          -13.462,
          null,
          null,
          null,
          null,
          null,
          null,
          null,
          null,
          null,
          null
         ],
         "y": [
          "AGO",
          "AGO",
          "ARM",
          "ARM",
          "BEN",
          "BEN",
          "BFA",
          "BFA",
          "BGD",
          "BGD",
          "BOL",
          "BOL",
          "CIV",
          "CIV",
          "CMR",
          "CMR",
          "COD",
          "COD",
          "COM",
          "COM",
          "DOM",
          "DOM",
          "EGY",
          "EGY",
          "ETH",
          "ETH",
          "GAB",
          "GAB",
          "GHA",
          "GHA",
          "GIN",
          "GIN",
          "GMB",
          "GMB",
          "GTM",
          "GTM",
          "GUY",
          "GUY",
          "HND",
          "HND",
          "HTI",
          "HTI",
          "IND",
          "IND",
          "JOR",
          "JOR",
          "KEN",
          "KEN",
          "KGZ",
          "KGZ",
          "KHM",
          "KHM",
          "LBR",
          "LBR",
          "LSO",
          "LSO",
          "MAR",
          "MAR",
          "MDA",
          "MDA",
          "MDG",
          "MDG",
          "MLI",
          "MLI",
          "MMR",
          "MMR",
          "MOZ",
          "MOZ",
          "MRT",
          "MRT",
          "MWI",
          "MWI",
          "NAM",
          "NAM",
          "NGA",
          "NGA",
          "NIC",
          "NIC",
          "PAK",
          "PAK",
          "PER",
          "PER",
          "PHL",
          "PHL",
          "SEN",
          "SEN",
          "SLE",
          "SLE",
          "SWZ",
          "SWZ",
          "TCD",
          "TCD",
          "TGO",
          "TGO",
          "TJK",
          "TJK",
          "TLS",
          "TLS",
          "TZA",
          "TZA",
          "UGA",
          "UGA",
          "ZAF",
          "ZAF",
          "ZMB",
          "ZMB",
          "ZWE",
          "ZWE"
         ]
        },
        {
         "marker": {
          "color": "rgba(240, 230, 140, 0.95)",
          "line": {
           "width": 1
          },
          "size": 16,
          "symbol": "circle"
         },
         "mode": "markers",
         "name": "14",
         "type": "scatter",
         "x": [
          124.109,
          null,
          null,
          null,
          null,
          null,
          null,
          null,
          null,
          null,
          null,
          null,
          null,
          null,
          -23.399,
          null,
          null,
          null,
          null,
          null,
          -5.976,
          null,
          null,
          -3.419,
          null,
          null,
          null,
          null,
          null,
          null,
          null,
          null,
          null,
          null,
          null,
          51.128,
          null,
          null,
          null,
          null,
          null,
          null,
          null,
          -5.892,
          null,
          null,
          null,
          -7.351,
          null,
          null,
          null,
          null,
          null,
          null,
          null,
          null,
          null,
          null,
          null,
          null,
          null,
          null,
          null,
          null,
          null,
          null,
          null,
          null,
          null,
          null,
          null,
          null,
          null,
          null,
          -52.352,
          null,
          null,
          null,
          -11.339,
          null,
          null,
          -11.112,
          -6.148,
          -2.925,
          null,
          null,
          null,
          null,
          null,
          null,
          null,
          null,
          null,
          null,
          null,
          null,
          -17.611,
          -17.928,
          -6.29,
          null,
          null,
          null,
          -10.327,
          -5.378,
          null,
          null,
          null,
          13.087
         ],
         "y": [
          "AGO",
          "AGO",
          "ARM",
          "ARM",
          "BEN",
          "BEN",
          "BFA",
          "BFA",
          "BGD",
          "BGD",
          "BOL",
          "BOL",
          "CIV",
          "CIV",
          "CMR",
          "CMR",
          "COD",
          "COD",
          "COM",
          "COM",
          "DOM",
          "DOM",
          "EGY",
          "EGY",
          "ETH",
          "ETH",
          "GAB",
          "GAB",
          "GHA",
          "GHA",
          "GIN",
          "GIN",
          "GMB",
          "GMB",
          "GTM",
          "GTM",
          "GUY",
          "GUY",
          "HND",
          "HND",
          "HTI",
          "HTI",
          "IND",
          "IND",
          "JOR",
          "JOR",
          "KEN",
          "KEN",
          "KGZ",
          "KGZ",
          "KHM",
          "KHM",
          "LBR",
          "LBR",
          "LSO",
          "LSO",
          "MAR",
          "MAR",
          "MDA",
          "MDA",
          "MDG",
          "MDG",
          "MLI",
          "MLI",
          "MMR",
          "MMR",
          "MOZ",
          "MOZ",
          "MRT",
          "MRT",
          "MWI",
          "MWI",
          "NAM",
          "NAM",
          "NGA",
          "NGA",
          "NIC",
          "NIC",
          "PAK",
          "PAK",
          "PER",
          "PER",
          "PHL",
          "PHL",
          "SEN",
          "SEN",
          "SLE",
          "SLE",
          "SWZ",
          "SWZ",
          "TCD",
          "TCD",
          "TGO",
          "TGO",
          "TJK",
          "TJK",
          "TLS",
          "TLS",
          "TZA",
          "TZA",
          "UGA",
          "UGA",
          "ZAF",
          "ZAF",
          "ZMB",
          "ZMB",
          "ZWE",
          "ZWE"
         ]
        },
        {
         "marker": {
          "color": "rgba(240, 230, 140, 0.95)",
          "line": {
           "width": 1
          },
          "size": 16,
          "symbol": "circle"
         },
         "mode": "markers",
         "name": "15",
         "type": "scatter",
         "x": [
          87.097,
          null,
          -2.998,
          -5.783,
          -13.648,
          null,
          null,
          null,
          null,
          null,
          null,
          null,
          null,
          null,
          -18.225,
          null,
          null,
          null,
          null,
          null,
          -4.79,
          null,
          null,
          null,
          null,
          null,
          null,
          null,
          null,
          null,
          null,
          null,
          null,
          null,
          null,
          null,
          null,
          null,
          null,
          null,
          null,
          null,
          null,
          null,
          -2.526,
          -1.925,
          null,
          null,
          null,
          -7.57,
          null,
          null,
          -4.605,
          null,
          null,
          null,
          null,
          null,
          null,
          null,
          null,
          null,
          15.992,
          null,
          null,
          null,
          -21.437,
          7.575,
          null,
          null,
          -10.631,
          null,
          null,
          null,
          -47.381,
          131.643,
          null,
          null,
          -10.768,
          null,
          null,
          -10.768,
          -7.012,
          -4.019,
          null,
          null,
          null,
          22.439,
          null,
          null,
          null,
          null,
          null,
          null,
          -4.094,
          null,
          -13.382,
          -16.937,
          -8.554,
          null,
          null,
          null,
          null,
          null,
          null,
          null,
          -8.569,
          null
         ],
         "y": [
          "AGO",
          "AGO",
          "ARM",
          "ARM",
          "BEN",
          "BEN",
          "BFA",
          "BFA",
          "BGD",
          "BGD",
          "BOL",
          "BOL",
          "CIV",
          "CIV",
          "CMR",
          "CMR",
          "COD",
          "COD",
          "COM",
          "COM",
          "DOM",
          "DOM",
          "EGY",
          "EGY",
          "ETH",
          "ETH",
          "GAB",
          "GAB",
          "GHA",
          "GHA",
          "GIN",
          "GIN",
          "GMB",
          "GMB",
          "GTM",
          "GTM",
          "GUY",
          "GUY",
          "HND",
          "HND",
          "HTI",
          "HTI",
          "IND",
          "IND",
          "JOR",
          "JOR",
          "KEN",
          "KEN",
          "KGZ",
          "KGZ",
          "KHM",
          "KHM",
          "LBR",
          "LBR",
          "LSO",
          "LSO",
          "MAR",
          "MAR",
          "MDA",
          "MDA",
          "MDG",
          "MDG",
          "MLI",
          "MLI",
          "MMR",
          "MMR",
          "MOZ",
          "MOZ",
          "MRT",
          "MRT",
          "MWI",
          "MWI",
          "NAM",
          "NAM",
          "NGA",
          "NGA",
          "NIC",
          "NIC",
          "PAK",
          "PAK",
          "PER",
          "PER",
          "PHL",
          "PHL",
          "SEN",
          "SEN",
          "SLE",
          "SLE",
          "SWZ",
          "SWZ",
          "TCD",
          "TCD",
          "TGO",
          "TGO",
          "TJK",
          "TJK",
          "TLS",
          "TLS",
          "TZA",
          "TZA",
          "UGA",
          "UGA",
          "ZAF",
          "ZAF",
          "ZMB",
          "ZMB",
          "ZWE",
          "ZWE"
         ]
        },
        {
         "marker": {
          "color": "rgba(240, 230, 140, 0.95)",
          "line": {
           "width": 1
          },
          "size": 16,
          "symbol": "circle"
         },
         "mode": "markers",
         "name": "16",
         "type": "scatter",
         "x": [
          null,
          null,
          -2.801,
          null,
          -15.239,
          -9.722,
          null,
          null,
          null,
          null,
          -9.074,
          65.524,
          -10.445,
          -16.74,
          -18.041,
          null,
          null,
          -23.468,
          null,
          null,
          -5.749,
          null,
          -1.531,
          null,
          null,
          null,
          null,
          null,
          -4.066,
          null,
          null,
          null,
          null,
          null,
          null,
          null,
          null,
          null,
          null,
          null,
          null,
          null,
          null,
          -4.639,
          -2.528,
          -1.918,
          null,
          null,
          null,
          null,
          null,
          -4.618,
          -11.644,
          null,
          null,
          null,
          null,
          null,
          null,
          null,
          null,
          null,
          17.007,
          null,
          null,
          null,
          -30.743,
          null,
          null,
          null,
          null,
          null,
          null,
          null,
          -49.794,
          135.815,
          null,
          null,
          -12.038,
          null,
          null,
          -10.536,
          -5.944,
          -3.25,
          -8.443,
          null,
          null,
          null,
          null,
          null,
          null,
          null,
          null,
          null,
          null,
          -8.515,
          -12.836,
          null,
          -9.26,
          null,
          null,
          null,
          -6.979,
          null,
          null,
          null,
          null,
          null
         ],
         "y": [
          "AGO",
          "AGO",
          "ARM",
          "ARM",
          "BEN",
          "BEN",
          "BFA",
          "BFA",
          "BGD",
          "BGD",
          "BOL",
          "BOL",
          "CIV",
          "CIV",
          "CMR",
          "CMR",
          "COD",
          "COD",
          "COM",
          "COM",
          "DOM",
          "DOM",
          "EGY",
          "EGY",
          "ETH",
          "ETH",
          "GAB",
          "GAB",
          "GHA",
          "GHA",
          "GIN",
          "GIN",
          "GMB",
          "GMB",
          "GTM",
          "GTM",
          "GUY",
          "GUY",
          "HND",
          "HND",
          "HTI",
          "HTI",
          "IND",
          "IND",
          "JOR",
          "JOR",
          "KEN",
          "KEN",
          "KGZ",
          "KGZ",
          "KHM",
          "KHM",
          "LBR",
          "LBR",
          "LSO",
          "LSO",
          "MAR",
          "MAR",
          "MDA",
          "MDA",
          "MDG",
          "MDG",
          "MLI",
          "MLI",
          "MMR",
          "MMR",
          "MOZ",
          "MOZ",
          "MRT",
          "MRT",
          "MWI",
          "MWI",
          "NAM",
          "NAM",
          "NGA",
          "NGA",
          "NIC",
          "NIC",
          "PAK",
          "PAK",
          "PER",
          "PER",
          "PHL",
          "PHL",
          "SEN",
          "SEN",
          "SLE",
          "SLE",
          "SWZ",
          "SWZ",
          "TCD",
          "TCD",
          "TGO",
          "TGO",
          "TJK",
          "TJK",
          "TLS",
          "TLS",
          "TZA",
          "TZA",
          "UGA",
          "UGA",
          "ZAF",
          "ZAF",
          "ZMB",
          "ZMB",
          "ZWE",
          "ZWE"
         ]
        }
       ],
       "layout": {
        "height": 600,
        "hovermode": "closest",
        "legend": {
         "font": {
          "size": 10
         },
         "xanchor": "center",
         "yanchor": "top"
        },
        "margin": {
         "b": 50,
         "l": 140,
         "r": 40,
         "t": 80
        },
        "paper_bgcolor": "white",
        "plot_bgcolor": "white",
        "shapes": [
         {
          "line": {
           "color": "red",
           "dash": "dashdot",
           "width": 2
          },
          "type": "line",
          "x0": 0,
          "x1": 0,
          "y0": 0,
          "y1": 54
         }
        ],
        "template": {
         "data": {
          "bar": [
           {
            "error_x": {
             "color": "#2a3f5f"
            },
            "error_y": {
             "color": "#2a3f5f"
            },
            "marker": {
             "line": {
              "color": "#E5ECF6",
              "width": 0.5
             },
             "pattern": {
              "fillmode": "overlay",
              "size": 10,
              "solidity": 0.2
             }
            },
            "type": "bar"
           }
          ],
          "barpolar": [
           {
            "marker": {
             "line": {
              "color": "#E5ECF6",
              "width": 0.5
             },
             "pattern": {
              "fillmode": "overlay",
              "size": 10,
              "solidity": 0.2
             }
            },
            "type": "barpolar"
           }
          ],
          "carpet": [
           {
            "aaxis": {
             "endlinecolor": "#2a3f5f",
             "gridcolor": "white",
             "linecolor": "white",
             "minorgridcolor": "white",
             "startlinecolor": "#2a3f5f"
            },
            "baxis": {
             "endlinecolor": "#2a3f5f",
             "gridcolor": "white",
             "linecolor": "white",
             "minorgridcolor": "white",
             "startlinecolor": "#2a3f5f"
            },
            "type": "carpet"
           }
          ],
          "choropleth": [
           {
            "colorbar": {
             "outlinewidth": 0,
             "ticks": ""
            },
            "type": "choropleth"
           }
          ],
          "contour": [
           {
            "colorbar": {
             "outlinewidth": 0,
             "ticks": ""
            },
            "colorscale": [
             [
              0,
              "#0d0887"
             ],
             [
              0.1111111111111111,
              "#46039f"
             ],
             [
              0.2222222222222222,
              "#7201a8"
             ],
             [
              0.3333333333333333,
              "#9c179e"
             ],
             [
              0.4444444444444444,
              "#bd3786"
             ],
             [
              0.5555555555555556,
              "#d8576b"
             ],
             [
              0.6666666666666666,
              "#ed7953"
             ],
             [
              0.7777777777777778,
              "#fb9f3a"
             ],
             [
              0.8888888888888888,
              "#fdca26"
             ],
             [
              1,
              "#f0f921"
             ]
            ],
            "type": "contour"
           }
          ],
          "contourcarpet": [
           {
            "colorbar": {
             "outlinewidth": 0,
             "ticks": ""
            },
            "type": "contourcarpet"
           }
          ],
          "heatmap": [
           {
            "colorbar": {
             "outlinewidth": 0,
             "ticks": ""
            },
            "colorscale": [
             [
              0,
              "#0d0887"
             ],
             [
              0.1111111111111111,
              "#46039f"
             ],
             [
              0.2222222222222222,
              "#7201a8"
             ],
             [
              0.3333333333333333,
              "#9c179e"
             ],
             [
              0.4444444444444444,
              "#bd3786"
             ],
             [
              0.5555555555555556,
              "#d8576b"
             ],
             [
              0.6666666666666666,
              "#ed7953"
             ],
             [
              0.7777777777777778,
              "#fb9f3a"
             ],
             [
              0.8888888888888888,
              "#fdca26"
             ],
             [
              1,
              "#f0f921"
             ]
            ],
            "type": "heatmap"
           }
          ],
          "heatmapgl": [
           {
            "colorbar": {
             "outlinewidth": 0,
             "ticks": ""
            },
            "colorscale": [
             [
              0,
              "#0d0887"
             ],
             [
              0.1111111111111111,
              "#46039f"
             ],
             [
              0.2222222222222222,
              "#7201a8"
             ],
             [
              0.3333333333333333,
              "#9c179e"
             ],
             [
              0.4444444444444444,
              "#bd3786"
             ],
             [
              0.5555555555555556,
              "#d8576b"
             ],
             [
              0.6666666666666666,
              "#ed7953"
             ],
             [
              0.7777777777777778,
              "#fb9f3a"
             ],
             [
              0.8888888888888888,
              "#fdca26"
             ],
             [
              1,
              "#f0f921"
             ]
            ],
            "type": "heatmapgl"
           }
          ],
          "histogram": [
           {
            "marker": {
             "pattern": {
              "fillmode": "overlay",
              "size": 10,
              "solidity": 0.2
             }
            },
            "type": "histogram"
           }
          ],
          "histogram2d": [
           {
            "colorbar": {
             "outlinewidth": 0,
             "ticks": ""
            },
            "colorscale": [
             [
              0,
              "#0d0887"
             ],
             [
              0.1111111111111111,
              "#46039f"
             ],
             [
              0.2222222222222222,
              "#7201a8"
             ],
             [
              0.3333333333333333,
              "#9c179e"
             ],
             [
              0.4444444444444444,
              "#bd3786"
             ],
             [
              0.5555555555555556,
              "#d8576b"
             ],
             [
              0.6666666666666666,
              "#ed7953"
             ],
             [
              0.7777777777777778,
              "#fb9f3a"
             ],
             [
              0.8888888888888888,
              "#fdca26"
             ],
             [
              1,
              "#f0f921"
             ]
            ],
            "type": "histogram2d"
           }
          ],
          "histogram2dcontour": [
           {
            "colorbar": {
             "outlinewidth": 0,
             "ticks": ""
            },
            "colorscale": [
             [
              0,
              "#0d0887"
             ],
             [
              0.1111111111111111,
              "#46039f"
             ],
             [
              0.2222222222222222,
              "#7201a8"
             ],
             [
              0.3333333333333333,
              "#9c179e"
             ],
             [
              0.4444444444444444,
              "#bd3786"
             ],
             [
              0.5555555555555556,
              "#d8576b"
             ],
             [
              0.6666666666666666,
              "#ed7953"
             ],
             [
              0.7777777777777778,
              "#fb9f3a"
             ],
             [
              0.8888888888888888,
              "#fdca26"
             ],
             [
              1,
              "#f0f921"
             ]
            ],
            "type": "histogram2dcontour"
           }
          ],
          "mesh3d": [
           {
            "colorbar": {
             "outlinewidth": 0,
             "ticks": ""
            },
            "type": "mesh3d"
           }
          ],
          "parcoords": [
           {
            "line": {
             "colorbar": {
              "outlinewidth": 0,
              "ticks": ""
             }
            },
            "type": "parcoords"
           }
          ],
          "pie": [
           {
            "automargin": true,
            "type": "pie"
           }
          ],
          "scatter": [
           {
            "fillpattern": {
             "fillmode": "overlay",
             "size": 10,
             "solidity": 0.2
            },
            "type": "scatter"
           }
          ],
          "scatter3d": [
           {
            "line": {
             "colorbar": {
              "outlinewidth": 0,
              "ticks": ""
             }
            },
            "marker": {
             "colorbar": {
              "outlinewidth": 0,
              "ticks": ""
             }
            },
            "type": "scatter3d"
           }
          ],
          "scattercarpet": [
           {
            "marker": {
             "colorbar": {
              "outlinewidth": 0,
              "ticks": ""
             }
            },
            "type": "scattercarpet"
           }
          ],
          "scattergeo": [
           {
            "marker": {
             "colorbar": {
              "outlinewidth": 0,
              "ticks": ""
             }
            },
            "type": "scattergeo"
           }
          ],
          "scattergl": [
           {
            "marker": {
             "colorbar": {
              "outlinewidth": 0,
              "ticks": ""
             }
            },
            "type": "scattergl"
           }
          ],
          "scattermapbox": [
           {
            "marker": {
             "colorbar": {
              "outlinewidth": 0,
              "ticks": ""
             }
            },
            "type": "scattermapbox"
           }
          ],
          "scatterpolar": [
           {
            "marker": {
             "colorbar": {
              "outlinewidth": 0,
              "ticks": ""
             }
            },
            "type": "scatterpolar"
           }
          ],
          "scatterpolargl": [
           {
            "marker": {
             "colorbar": {
              "outlinewidth": 0,
              "ticks": ""
             }
            },
            "type": "scatterpolargl"
           }
          ],
          "scatterternary": [
           {
            "marker": {
             "colorbar": {
              "outlinewidth": 0,
              "ticks": ""
             }
            },
            "type": "scatterternary"
           }
          ],
          "surface": [
           {
            "colorbar": {
             "outlinewidth": 0,
             "ticks": ""
            },
            "colorscale": [
             [
              0,
              "#0d0887"
             ],
             [
              0.1111111111111111,
              "#46039f"
             ],
             [
              0.2222222222222222,
              "#7201a8"
             ],
             [
              0.3333333333333333,
              "#9c179e"
             ],
             [
              0.4444444444444444,
              "#bd3786"
             ],
             [
              0.5555555555555556,
              "#d8576b"
             ],
             [
              0.6666666666666666,
              "#ed7953"
             ],
             [
              0.7777777777777778,
              "#fb9f3a"
             ],
             [
              0.8888888888888888,
              "#fdca26"
             ],
             [
              1,
              "#f0f921"
             ]
            ],
            "type": "surface"
           }
          ],
          "table": [
           {
            "cells": {
             "fill": {
              "color": "#EBF0F8"
             },
             "line": {
              "color": "white"
             }
            },
            "header": {
             "fill": {
              "color": "#C8D4E3"
             },
             "line": {
              "color": "white"
             }
            },
            "type": "table"
           }
          ]
         },
         "layout": {
          "annotationdefaults": {
           "arrowcolor": "#2a3f5f",
           "arrowhead": 0,
           "arrowwidth": 1
          },
          "autotypenumbers": "strict",
          "coloraxis": {
           "colorbar": {
            "outlinewidth": 0,
            "ticks": ""
           }
          },
          "colorscale": {
           "diverging": [
            [
             0,
             "#8e0152"
            ],
            [
             0.1,
             "#c51b7d"
            ],
            [
             0.2,
             "#de77ae"
            ],
            [
             0.3,
             "#f1b6da"
            ],
            [
             0.4,
             "#fde0ef"
            ],
            [
             0.5,
             "#f7f7f7"
            ],
            [
             0.6,
             "#e6f5d0"
            ],
            [
             0.7,
             "#b8e186"
            ],
            [
             0.8,
             "#7fbc41"
            ],
            [
             0.9,
             "#4d9221"
            ],
            [
             1,
             "#276419"
            ]
           ],
           "sequential": [
            [
             0,
             "#0d0887"
            ],
            [
             0.1111111111111111,
             "#46039f"
            ],
            [
             0.2222222222222222,
             "#7201a8"
            ],
            [
             0.3333333333333333,
             "#9c179e"
            ],
            [
             0.4444444444444444,
             "#bd3786"
            ],
            [
             0.5555555555555556,
             "#d8576b"
            ],
            [
             0.6666666666666666,
             "#ed7953"
            ],
            [
             0.7777777777777778,
             "#fb9f3a"
            ],
            [
             0.8888888888888888,
             "#fdca26"
            ],
            [
             1,
             "#f0f921"
            ]
           ],
           "sequentialminus": [
            [
             0,
             "#0d0887"
            ],
            [
             0.1111111111111111,
             "#46039f"
            ],
            [
             0.2222222222222222,
             "#7201a8"
            ],
            [
             0.3333333333333333,
             "#9c179e"
            ],
            [
             0.4444444444444444,
             "#bd3786"
            ],
            [
             0.5555555555555556,
             "#d8576b"
            ],
            [
             0.6666666666666666,
             "#ed7953"
            ],
            [
             0.7777777777777778,
             "#fb9f3a"
            ],
            [
             0.8888888888888888,
             "#fdca26"
            ],
            [
             1,
             "#f0f921"
            ]
           ]
          },
          "colorway": [
           "#636efa",
           "#EF553B",
           "#00cc96",
           "#ab63fa",
           "#FFA15A",
           "#19d3f3",
           "#FF6692",
           "#B6E880",
           "#FF97FF",
           "#FECB52"
          ],
          "font": {
           "color": "#2a3f5f"
          },
          "geo": {
           "bgcolor": "white",
           "lakecolor": "white",
           "landcolor": "#E5ECF6",
           "showlakes": true,
           "showland": true,
           "subunitcolor": "white"
          },
          "hoverlabel": {
           "align": "left"
          },
          "hovermode": "closest",
          "mapbox": {
           "style": "light"
          },
          "paper_bgcolor": "white",
          "plot_bgcolor": "#E5ECF6",
          "polar": {
           "angularaxis": {
            "gridcolor": "white",
            "linecolor": "white",
            "ticks": ""
           },
           "bgcolor": "#E5ECF6",
           "radialaxis": {
            "gridcolor": "white",
            "linecolor": "white",
            "ticks": ""
           }
          },
          "scene": {
           "xaxis": {
            "backgroundcolor": "#E5ECF6",
            "gridcolor": "white",
            "gridwidth": 2,
            "linecolor": "white",
            "showbackground": true,
            "ticks": "",
            "zerolinecolor": "white"
           },
           "yaxis": {
            "backgroundcolor": "#E5ECF6",
            "gridcolor": "white",
            "gridwidth": 2,
            "linecolor": "white",
            "showbackground": true,
            "ticks": "",
            "zerolinecolor": "white"
           },
           "zaxis": {
            "backgroundcolor": "#E5ECF6",
            "gridcolor": "white",
            "gridwidth": 2,
            "linecolor": "white",
            "showbackground": true,
            "ticks": "",
            "zerolinecolor": "white"
           }
          },
          "shapedefaults": {
           "line": {
            "color": "#2a3f5f"
           }
          },
          "ternary": {
           "aaxis": {
            "gridcolor": "white",
            "linecolor": "white",
            "ticks": ""
           },
           "baxis": {
            "gridcolor": "white",
            "linecolor": "white",
            "ticks": ""
           },
           "bgcolor": "#E5ECF6",
           "caxis": {
            "gridcolor": "white",
            "linecolor": "white",
            "ticks": ""
           }
          },
          "title": {
           "x": 0.05
          },
          "xaxis": {
           "automargin": true,
           "gridcolor": "white",
           "linecolor": "white",
           "ticks": "",
           "title": {
            "standoff": 15
           },
           "zerolinecolor": "white",
           "zerolinewidth": 2
          },
          "yaxis": {
           "automargin": true,
           "gridcolor": "white",
           "linecolor": "white",
           "ticks": "",
           "title": {
            "standoff": 15
           },
           "zerolinecolor": "white",
           "zerolinewidth": 2
          }
         }
        },
        "title": {
         "text": "drought"
        },
        "width": 1600,
        "xaxis": {
         "linecolor": "rgb(102, 102, 102)",
         "showgrid": false,
         "showline": true,
         "showticklabels": true,
         "tickcolor": "rgb(102, 102, 102)",
         "tickfont": {
          "color": "rgb(102, 102, 102)"
         },
         "ticks": "outside"
        }
       }
      }
     },
     "metadata": {},
     "output_type": "display_data"
    },
    {
     "data": {
      "application/vnd.plotly.v1+json": {
       "config": {
        "plotlyServerURL": "https://plot.ly"
       },
       "data": [
        {
         "marker": {
          "color": "rgba(156, 165, 196, 0.95)",
          "line": {
           "width": 1
          },
          "size": 16,
          "symbol": "circle"
         },
         "mode": "markers",
         "name": "1",
         "type": "scatter",
         "x": [
          null,
          null,
          null,
          null,
          null,
          null,
          null,
          null,
          null,
          null,
          null,
          null,
          null,
          null,
          null,
          null,
          null,
          null,
          null,
          null,
          null,
          null,
          null,
          null,
          null,
          null,
          null,
          null,
          null,
          null,
          null,
          null,
          null,
          null,
          null,
          null,
          null,
          null,
          null,
          null,
          null,
          null,
          null,
          null,
          null,
          null,
          null,
          null,
          null,
          null,
          null,
          null,
          null,
          null
         ],
         "y": [
          "AGO",
          "ARM",
          "BEN",
          "BFA",
          "BGD",
          "BOL",
          "CIV",
          "CMR",
          "COD",
          "COM",
          "DOM",
          "EGY",
          "ETH",
          "GAB",
          "GHA",
          "GIN",
          "GMB",
          "GTM",
          "GUY",
          "HND",
          "HTI",
          "IND",
          "JOR",
          "KEN",
          "KGZ",
          "KHM",
          "LBR",
          "LSO",
          "MAR",
          "MDA",
          "MDG",
          "MLI",
          "MMR",
          "MOZ",
          "MRT",
          "MWI",
          "NAM",
          "NGA",
          "NIC",
          "PAK",
          "PER",
          "PHL",
          "SEN",
          "SLE",
          "SWZ",
          "TCD",
          "TGO",
          "TJK",
          "TLS",
          "TZA",
          "UGA",
          "ZAF",
          "ZMB",
          "ZWE"
         ]
        },
        {
         "marker": {
          "color": "rgba(156, 165, 196, 0.95)",
          "line": {
           "width": 1
          },
          "size": 16,
          "symbol": "circle"
         },
         "mode": "markers",
         "name": "2",
         "type": "scatter",
         "x": [
          null,
          null,
          null,
          null,
          null,
          null,
          null,
          null,
          null,
          null,
          null,
          null,
          null,
          null,
          null,
          null,
          null,
          null,
          null,
          null,
          null,
          null,
          null,
          null,
          null,
          null,
          null,
          null,
          null,
          null,
          null,
          null,
          null,
          null,
          null,
          null,
          null,
          null,
          null,
          null,
          null,
          null,
          null,
          null,
          null,
          null,
          null,
          null,
          null,
          null,
          null,
          null,
          null,
          null
         ],
         "y": [
          "AGO",
          "ARM",
          "BEN",
          "BFA",
          "BGD",
          "BOL",
          "CIV",
          "CMR",
          "COD",
          "COM",
          "DOM",
          "EGY",
          "ETH",
          "GAB",
          "GHA",
          "GIN",
          "GMB",
          "GTM",
          "GUY",
          "HND",
          "HTI",
          "IND",
          "JOR",
          "KEN",
          "KGZ",
          "KHM",
          "LBR",
          "LSO",
          "MAR",
          "MDA",
          "MDG",
          "MLI",
          "MMR",
          "MOZ",
          "MRT",
          "MWI",
          "NAM",
          "NGA",
          "NIC",
          "PAK",
          "PER",
          "PHL",
          "SEN",
          "SLE",
          "SWZ",
          "TCD",
          "TGO",
          "TJK",
          "TLS",
          "TZA",
          "UGA",
          "ZAF",
          "ZMB",
          "ZWE"
         ]
        },
        {
         "marker": {
          "color": "rgba(156, 165, 196, 0.95)",
          "line": {
           "width": 1
          },
          "size": 16,
          "symbol": "circle"
         },
         "mode": "markers",
         "name": "3",
         "type": "scatter",
         "x": [
          null,
          null,
          null,
          null,
          null,
          null,
          null,
          null,
          null,
          null,
          null,
          null,
          null,
          null,
          null,
          null,
          null,
          null,
          null,
          null,
          null,
          null,
          null,
          null,
          null,
          null,
          null,
          null,
          null,
          null,
          null,
          null,
          null,
          null,
          null,
          null,
          null,
          null,
          null,
          null,
          null,
          null,
          null,
          null,
          null,
          null,
          null,
          null,
          null,
          null,
          null,
          null,
          null,
          null
         ],
         "y": [
          "AGO",
          "ARM",
          "BEN",
          "BFA",
          "BGD",
          "BOL",
          "CIV",
          "CMR",
          "COD",
          "COM",
          "DOM",
          "EGY",
          "ETH",
          "GAB",
          "GHA",
          "GIN",
          "GMB",
          "GTM",
          "GUY",
          "HND",
          "HTI",
          "IND",
          "JOR",
          "KEN",
          "KGZ",
          "KHM",
          "LBR",
          "LSO",
          "MAR",
          "MDA",
          "MDG",
          "MLI",
          "MMR",
          "MOZ",
          "MRT",
          "MWI",
          "NAM",
          "NGA",
          "NIC",
          "PAK",
          "PER",
          "PHL",
          "SEN",
          "SLE",
          "SWZ",
          "TCD",
          "TGO",
          "TJK",
          "TLS",
          "TZA",
          "UGA",
          "ZAF",
          "ZMB",
          "ZWE"
         ]
        },
        {
         "marker": {
          "color": "rgba(156, 165, 196, 0.95)",
          "line": {
           "width": 1
          },
          "size": 16,
          "symbol": "circle"
         },
         "mode": "markers",
         "name": "4",
         "type": "scatter",
         "x": [
          null,
          null,
          null,
          null,
          null,
          null,
          null,
          null,
          null,
          null,
          null,
          null,
          null,
          null,
          null,
          null,
          null,
          null,
          null,
          null,
          null,
          null,
          null,
          null,
          null,
          null,
          null,
          null,
          null,
          null,
          null,
          null,
          null,
          null,
          null,
          null,
          null,
          null,
          null,
          null,
          null,
          null,
          null,
          null,
          null,
          null,
          null,
          null,
          null,
          null,
          null,
          null,
          null,
          null
         ],
         "y": [
          "AGO",
          "ARM",
          "BEN",
          "BFA",
          "BGD",
          "BOL",
          "CIV",
          "CMR",
          "COD",
          "COM",
          "DOM",
          "EGY",
          "ETH",
          "GAB",
          "GHA",
          "GIN",
          "GMB",
          "GTM",
          "GUY",
          "HND",
          "HTI",
          "IND",
          "JOR",
          "KEN",
          "KGZ",
          "KHM",
          "LBR",
          "LSO",
          "MAR",
          "MDA",
          "MDG",
          "MLI",
          "MMR",
          "MOZ",
          "MRT",
          "MWI",
          "NAM",
          "NGA",
          "NIC",
          "PAK",
          "PER",
          "PHL",
          "SEN",
          "SLE",
          "SWZ",
          "TCD",
          "TGO",
          "TJK",
          "TLS",
          "TZA",
          "UGA",
          "ZAF",
          "ZMB",
          "ZWE"
         ]
        },
        {
         "marker": {
          "color": "rgba(204, 204, 204, 0.95)",
          "line": {
           "width": 1
          },
          "size": 16,
          "symbol": "circle"
         },
         "mode": "markers",
         "name": "5",
         "type": "scatter",
         "x": [
          null,
          null,
          null,
          -14.123,
          null,
          null,
          null,
          null,
          null,
          null,
          null,
          1.485,
          null,
          -0.815,
          null,
          null,
          null,
          null,
          null,
          null,
          null,
          null,
          null,
          null,
          null,
          null,
          null,
          null,
          null,
          null,
          null,
          -9.526,
          null,
          null,
          null,
          -10.25,
          null,
          null,
          null,
          null,
          null,
          null,
          null,
          -13.63,
          null,
          null,
          null,
          null,
          -11.21,
          null,
          null,
          null,
          null,
          null
         ],
         "y": [
          "AGO",
          "ARM",
          "BEN",
          "BFA",
          "BGD",
          "BOL",
          "CIV",
          "CMR",
          "COD",
          "COM",
          "DOM",
          "EGY",
          "ETH",
          "GAB",
          "GHA",
          "GIN",
          "GMB",
          "GTM",
          "GUY",
          "HND",
          "HTI",
          "IND",
          "JOR",
          "KEN",
          "KGZ",
          "KHM",
          "LBR",
          "LSO",
          "MAR",
          "MDA",
          "MDG",
          "MLI",
          "MMR",
          "MOZ",
          "MRT",
          "MWI",
          "NAM",
          "NGA",
          "NIC",
          "PAK",
          "PER",
          "PHL",
          "SEN",
          "SLE",
          "SWZ",
          "TCD",
          "TGO",
          "TJK",
          "TLS",
          "TZA",
          "UGA",
          "ZAF",
          "ZMB",
          "ZWE"
         ]
        },
        {
         "marker": {
          "color": "rgba(204, 204, 204, 0.95)",
          "line": {
           "width": 1
          },
          "size": 16,
          "symbol": "circle"
         },
         "mode": "markers",
         "name": "6",
         "type": "scatter",
         "x": [
          null,
          null,
          6.444,
          null,
          null,
          null,
          null,
          null,
          null,
          null,
          null,
          null,
          null,
          null,
          null,
          -38.672,
          null,
          null,
          null,
          null,
          null,
          null,
          null,
          null,
          null,
          null,
          null,
          null,
          null,
          null,
          null,
          -11.473,
          null,
          null,
          null,
          null,
          null,
          null,
          null,
          null,
          null,
          null,
          null,
          -16.37,
          null,
          null,
          null,
          -15.17,
          -7.773,
          null,
          null,
          6.057,
          null,
          null
         ],
         "y": [
          "AGO",
          "ARM",
          "BEN",
          "BFA",
          "BGD",
          "BOL",
          "CIV",
          "CMR",
          "COD",
          "COM",
          "DOM",
          "EGY",
          "ETH",
          "GAB",
          "GHA",
          "GIN",
          "GMB",
          "GTM",
          "GUY",
          "HND",
          "HTI",
          "IND",
          "JOR",
          "KEN",
          "KGZ",
          "KHM",
          "LBR",
          "LSO",
          "MAR",
          "MDA",
          "MDG",
          "MLI",
          "MMR",
          "MOZ",
          "MRT",
          "MWI",
          "NAM",
          "NGA",
          "NIC",
          "PAK",
          "PER",
          "PHL",
          "SEN",
          "SLE",
          "SWZ",
          "TCD",
          "TGO",
          "TJK",
          "TLS",
          "TZA",
          "UGA",
          "ZAF",
          "ZMB",
          "ZWE"
         ]
        },
        {
         "marker": {
          "color": "rgba(204, 204, 204, 0.95)",
          "line": {
           "width": 1
          },
          "size": 16,
          "symbol": "circle"
         },
         "mode": "markers",
         "name": "7",
         "type": "scatter",
         "x": [
          null,
          -1.018,
          null,
          null,
          -1.948,
          -13.063,
          null,
          -5.267,
          null,
          null,
          null,
          null,
          null,
          -2.33,
          null,
          -36.628,
          null,
          null,
          null,
          null,
          null,
          -2.534,
          -1.606,
          null,
          10.871,
          null,
          -4.769,
          null,
          null,
          null,
          null,
          -12.07,
          null,
          null,
          null,
          null,
          null,
          null,
          null,
          -3.149,
          null,
          -2.048,
          null,
          null,
          null,
          null,
          4.369,
          -11.716,
          -12.615,
          null,
          null,
          null,
          null,
          null
         ],
         "y": [
          "AGO",
          "ARM",
          "BEN",
          "BFA",
          "BGD",
          "BOL",
          "CIV",
          "CMR",
          "COD",
          "COM",
          "DOM",
          "EGY",
          "ETH",
          "GAB",
          "GHA",
          "GIN",
          "GMB",
          "GTM",
          "GUY",
          "HND",
          "HTI",
          "IND",
          "JOR",
          "KEN",
          "KGZ",
          "KHM",
          "LBR",
          "LSO",
          "MAR",
          "MDA",
          "MDG",
          "MLI",
          "MMR",
          "MOZ",
          "MRT",
          "MWI",
          "NAM",
          "NGA",
          "NIC",
          "PAK",
          "PER",
          "PHL",
          "SEN",
          "SLE",
          "SWZ",
          "TCD",
          "TGO",
          "TJK",
          "TLS",
          "TZA",
          "UGA",
          "ZAF",
          "ZMB",
          "ZWE"
         ]
        },
        {
         "marker": {
          "color": "rgba(204, 204, 204, 0.95)",
          "line": {
           "width": 1
          },
          "size": 16,
          "symbol": "circle"
         },
         "mode": "markers",
         "name": "8",
         "type": "scatter",
         "x": [
          null,
          -0.967,
          null,
          null,
          null,
          -8.423,
          null,
          -4.404,
          null,
          null,
          -0.534,
          null,
          null,
          -2.497,
          null,
          -32.075,
          null,
          null,
          null,
          null,
          null,
          -2.734,
          -1.596,
          null,
          null,
          null,
          -5.645,
          null,
          null,
          null,
          null,
          -11.517,
          -8.14,
          null,
          null,
          null,
          null,
          null,
          null,
          -3.185,
          -3.628,
          -2.05,
          null,
          null,
          null,
          null,
          null,
          -7.427,
          null,
          null,
          null,
          null,
          null,
          null
         ],
         "y": [
          "AGO",
          "ARM",
          "BEN",
          "BFA",
          "BGD",
          "BOL",
          "CIV",
          "CMR",
          "COD",
          "COM",
          "DOM",
          "EGY",
          "ETH",
          "GAB",
          "GHA",
          "GIN",
          "GMB",
          "GTM",
          "GUY",
          "HND",
          "HTI",
          "IND",
          "JOR",
          "KEN",
          "KGZ",
          "KHM",
          "LBR",
          "LSO",
          "MAR",
          "MDA",
          "MDG",
          "MLI",
          "MMR",
          "MOZ",
          "MRT",
          "MWI",
          "NAM",
          "NGA",
          "NIC",
          "PAK",
          "PER",
          "PHL",
          "SEN",
          "SLE",
          "SWZ",
          "TCD",
          "TGO",
          "TJK",
          "TLS",
          "TZA",
          "UGA",
          "ZAF",
          "ZMB",
          "ZWE"
         ]
        },
        {
         "marker": {
          "color": "rgba(255, 166, 86, 0.95)",
          "line": {
           "width": 1
          },
          "size": 16,
          "symbol": "circle"
         },
         "mode": "markers",
         "name": "9",
         "type": "scatter",
         "x": [
          -15.946,
          null,
          null,
          null,
          5.886,
          null,
          null,
          null,
          null,
          null,
          null,
          null,
          null,
          null,
          null,
          null,
          null,
          null,
          null,
          null,
          null,
          null,
          null,
          null,
          null,
          null,
          null,
          null,
          null,
          null,
          null,
          null,
          null,
          null,
          null,
          null,
          null,
          null,
          null,
          null,
          null,
          null,
          null,
          null,
          null,
          null,
          null,
          null,
          9.66,
          null,
          53.65,
          null,
          null,
          null
         ],
         "y": [
          "AGO",
          "ARM",
          "BEN",
          "BFA",
          "BGD",
          "BOL",
          "CIV",
          "CMR",
          "COD",
          "COM",
          "DOM",
          "EGY",
          "ETH",
          "GAB",
          "GHA",
          "GIN",
          "GMB",
          "GTM",
          "GUY",
          "HND",
          "HTI",
          "IND",
          "JOR",
          "KEN",
          "KGZ",
          "KHM",
          "LBR",
          "LSO",
          "MAR",
          "MDA",
          "MDG",
          "MLI",
          "MMR",
          "MOZ",
          "MRT",
          "MWI",
          "NAM",
          "NGA",
          "NIC",
          "PAK",
          "PER",
          "PHL",
          "SEN",
          "SLE",
          "SWZ",
          "TCD",
          "TGO",
          "TJK",
          "TLS",
          "TZA",
          "UGA",
          "ZAF",
          "ZMB",
          "ZWE"
         ]
        },
        {
         "marker": {
          "color": "rgba(255, 166, 86, 0.95)",
          "line": {
           "width": 1
          },
          "size": 16,
          "symbol": "circle"
         },
         "mode": "markers",
         "name": "10",
         "type": "scatter",
         "x": [
          null,
          null,
          null,
          null,
          null,
          null,
          -58.288,
          null,
          null,
          null,
          -8.975,
          null,
          null,
          null,
          null,
          null,
          null,
          null,
          null,
          null,
          null,
          null,
          null,
          null,
          null,
          null,
          null,
          null,
          null,
          null,
          null,
          null,
          null,
          null,
          null,
          -5.486,
          null,
          null,
          null,
          null,
          null,
          null,
          null,
          null,
          null,
          null,
          null,
          null,
          -3.899,
          null,
          null,
          null,
          null,
          null
         ],
         "y": [
          "AGO",
          "ARM",
          "BEN",
          "BFA",
          "BGD",
          "BOL",
          "CIV",
          "CMR",
          "COD",
          "COM",
          "DOM",
          "EGY",
          "ETH",
          "GAB",
          "GHA",
          "GIN",
          "GMB",
          "GTM",
          "GUY",
          "HND",
          "HTI",
          "IND",
          "JOR",
          "KEN",
          "KGZ",
          "KHM",
          "LBR",
          "LSO",
          "MAR",
          "MDA",
          "MDG",
          "MLI",
          "MMR",
          "MOZ",
          "MRT",
          "MWI",
          "NAM",
          "NGA",
          "NIC",
          "PAK",
          "PER",
          "PHL",
          "SEN",
          "SLE",
          "SWZ",
          "TCD",
          "TGO",
          "TJK",
          "TLS",
          "TZA",
          "UGA",
          "ZAF",
          "ZMB",
          "ZWE"
         ]
        },
        {
         "marker": {
          "color": "rgba(255, 166, 86, 0.95)",
          "line": {
           "width": 1
          },
          "size": 16,
          "symbol": "circle"
         },
         "mode": "markers",
         "name": "11",
         "type": "scatter",
         "x": [
          -48.055,
          null,
          null,
          null,
          null,
          null,
          null,
          null,
          null,
          null,
          -6.436,
          null,
          null,
          null,
          null,
          null,
          null,
          null,
          null,
          null,
          null,
          null,
          -0.131,
          -1.517,
          null,
          null,
          null,
          null,
          null,
          null,
          null,
          null,
          null,
          null,
          null,
          -4.697,
          null,
          null,
          null,
          null,
          -5.346,
          null,
          null,
          -8.384,
          null,
          null,
          38.445,
          null,
          null,
          null,
          null,
          null,
          null,
          null
         ],
         "y": [
          "AGO",
          "ARM",
          "BEN",
          "BFA",
          "BGD",
          "BOL",
          "CIV",
          "CMR",
          "COD",
          "COM",
          "DOM",
          "EGY",
          "ETH",
          "GAB",
          "GHA",
          "GIN",
          "GMB",
          "GTM",
          "GUY",
          "HND",
          "HTI",
          "IND",
          "JOR",
          "KEN",
          "KGZ",
          "KHM",
          "LBR",
          "LSO",
          "MAR",
          "MDA",
          "MDG",
          "MLI",
          "MMR",
          "MOZ",
          "MRT",
          "MWI",
          "NAM",
          "NGA",
          "NIC",
          "PAK",
          "PER",
          "PHL",
          "SEN",
          "SLE",
          "SWZ",
          "TCD",
          "TGO",
          "TJK",
          "TLS",
          "TZA",
          "UGA",
          "ZAF",
          "ZMB",
          "ZWE"
         ]
        },
        {
         "marker": {
          "color": "rgba(255, 166, 86, 0.95)",
          "line": {
           "width": 1
          },
          "size": 16,
          "symbol": "circle"
         },
         "mode": "markers",
         "name": "12",
         "type": "scatter",
         "x": [
          null,
          8.904,
          null,
          null,
          null,
          null,
          null,
          null,
          null,
          null,
          -6.784,
          null,
          null,
          null,
          null,
          null,
          null,
          null,
          null,
          null,
          null,
          null,
          null,
          null,
          null,
          null,
          8.493,
          null,
          null,
          null,
          null,
          null,
          null,
          null,
          null,
          -6.169,
          null,
          null,
          null,
          null,
          -3.547,
          null,
          null,
          -7.621,
          null,
          null,
          39.356,
          null,
          null,
          null,
          44.235,
          -6.672,
          null,
          null
         ],
         "y": [
          "AGO",
          "ARM",
          "BEN",
          "BFA",
          "BGD",
          "BOL",
          "CIV",
          "CMR",
          "COD",
          "COM",
          "DOM",
          "EGY",
          "ETH",
          "GAB",
          "GHA",
          "GIN",
          "GMB",
          "GTM",
          "GUY",
          "HND",
          "HTI",
          "IND",
          "JOR",
          "KEN",
          "KGZ",
          "KHM",
          "LBR",
          "LSO",
          "MAR",
          "MDA",
          "MDG",
          "MLI",
          "MMR",
          "MOZ",
          "MRT",
          "MWI",
          "NAM",
          "NGA",
          "NIC",
          "PAK",
          "PER",
          "PHL",
          "SEN",
          "SLE",
          "SWZ",
          "TCD",
          "TGO",
          "TJK",
          "TLS",
          "TZA",
          "UGA",
          "ZAF",
          "ZMB",
          "ZWE"
         ]
        },
        {
         "marker": {
          "color": "rgba(240, 230, 140, 0.95)",
          "line": {
           "width": 1
          },
          "size": 16,
          "symbol": "circle"
         },
         "mode": "markers",
         "name": "13",
         "type": "scatter",
         "x": [
          null,
          null,
          null,
          null,
          12.848,
          null,
          null,
          null,
          null,
          null,
          null,
          null,
          null,
          null,
          null,
          null,
          null,
          null,
          null,
          null,
          null,
          null,
          -3.244,
          null,
          null,
          null,
          null,
          null,
          null,
          null,
          null,
          null,
          null,
          45.277,
          null,
          null,
          null,
          null,
          null,
          null,
          -30.45,
          -3.61,
          null,
          null,
          null,
          null,
          null,
          null,
          -13.462,
          null,
          null,
          null,
          null,
          null
         ],
         "y": [
          "AGO",
          "ARM",
          "BEN",
          "BFA",
          "BGD",
          "BOL",
          "CIV",
          "CMR",
          "COD",
          "COM",
          "DOM",
          "EGY",
          "ETH",
          "GAB",
          "GHA",
          "GIN",
          "GMB",
          "GTM",
          "GUY",
          "HND",
          "HTI",
          "IND",
          "JOR",
          "KEN",
          "KGZ",
          "KHM",
          "LBR",
          "LSO",
          "MAR",
          "MDA",
          "MDG",
          "MLI",
          "MMR",
          "MOZ",
          "MRT",
          "MWI",
          "NAM",
          "NGA",
          "NIC",
          "PAK",
          "PER",
          "PHL",
          "SEN",
          "SLE",
          "SWZ",
          "TCD",
          "TGO",
          "TJK",
          "TLS",
          "TZA",
          "UGA",
          "ZAF",
          "ZMB",
          "ZWE"
         ]
        },
        {
         "marker": {
          "color": "rgba(240, 230, 140, 0.95)",
          "line": {
           "width": 1
          },
          "size": 16,
          "symbol": "circle"
         },
         "mode": "markers",
         "name": "14",
         "type": "scatter",
         "x": [
          null,
          null,
          null,
          null,
          null,
          null,
          null,
          null,
          null,
          null,
          null,
          -3.419,
          null,
          null,
          null,
          null,
          null,
          51.128,
          null,
          null,
          null,
          -5.892,
          null,
          -7.351,
          null,
          null,
          null,
          null,
          null,
          null,
          null,
          null,
          null,
          null,
          null,
          null,
          null,
          null,
          null,
          null,
          -11.112,
          -2.925,
          null,
          null,
          null,
          null,
          null,
          null,
          -17.928,
          null,
          null,
          -5.378,
          null,
          13.087
         ],
         "y": [
          "AGO",
          "ARM",
          "BEN",
          "BFA",
          "BGD",
          "BOL",
          "CIV",
          "CMR",
          "COD",
          "COM",
          "DOM",
          "EGY",
          "ETH",
          "GAB",
          "GHA",
          "GIN",
          "GMB",
          "GTM",
          "GUY",
          "HND",
          "HTI",
          "IND",
          "JOR",
          "KEN",
          "KGZ",
          "KHM",
          "LBR",
          "LSO",
          "MAR",
          "MDA",
          "MDG",
          "MLI",
          "MMR",
          "MOZ",
          "MRT",
          "MWI",
          "NAM",
          "NGA",
          "NIC",
          "PAK",
          "PER",
          "PHL",
          "SEN",
          "SLE",
          "SWZ",
          "TCD",
          "TGO",
          "TJK",
          "TLS",
          "TZA",
          "UGA",
          "ZAF",
          "ZMB",
          "ZWE"
         ]
        },
        {
         "marker": {
          "color": "rgba(240, 230, 140, 0.95)",
          "line": {
           "width": 1
          },
          "size": 16,
          "symbol": "circle"
         },
         "mode": "markers",
         "name": "15",
         "type": "scatter",
         "x": [
          null,
          -5.783,
          null,
          null,
          null,
          null,
          null,
          null,
          null,
          null,
          null,
          null,
          null,
          null,
          null,
          null,
          null,
          null,
          null,
          null,
          null,
          null,
          -1.925,
          null,
          -7.57,
          null,
          null,
          null,
          null,
          null,
          null,
          null,
          null,
          7.575,
          null,
          null,
          null,
          131.643,
          null,
          null,
          -10.768,
          -4.019,
          null,
          22.439,
          null,
          null,
          null,
          null,
          -16.937,
          null,
          null,
          null,
          null,
          null
         ],
         "y": [
          "AGO",
          "ARM",
          "BEN",
          "BFA",
          "BGD",
          "BOL",
          "CIV",
          "CMR",
          "COD",
          "COM",
          "DOM",
          "EGY",
          "ETH",
          "GAB",
          "GHA",
          "GIN",
          "GMB",
          "GTM",
          "GUY",
          "HND",
          "HTI",
          "IND",
          "JOR",
          "KEN",
          "KGZ",
          "KHM",
          "LBR",
          "LSO",
          "MAR",
          "MDA",
          "MDG",
          "MLI",
          "MMR",
          "MOZ",
          "MRT",
          "MWI",
          "NAM",
          "NGA",
          "NIC",
          "PAK",
          "PER",
          "PHL",
          "SEN",
          "SLE",
          "SWZ",
          "TCD",
          "TGO",
          "TJK",
          "TLS",
          "TZA",
          "UGA",
          "ZAF",
          "ZMB",
          "ZWE"
         ]
        },
        {
         "marker": {
          "color": "rgba(240, 230, 140, 0.95)",
          "line": {
           "width": 1
          },
          "size": 16,
          "symbol": "circle"
         },
         "mode": "markers",
         "name": "16",
         "type": "scatter",
         "x": [
          null,
          null,
          -9.722,
          null,
          null,
          65.524,
          -16.74,
          null,
          -23.468,
          null,
          null,
          null,
          null,
          null,
          null,
          null,
          null,
          null,
          null,
          null,
          null,
          -4.639,
          -1.918,
          null,
          null,
          -4.618,
          null,
          null,
          null,
          null,
          null,
          null,
          null,
          null,
          null,
          null,
          null,
          135.815,
          null,
          null,
          -10.536,
          -3.25,
          null,
          null,
          null,
          null,
          null,
          -8.515,
          null,
          null,
          null,
          null,
          null,
          null
         ],
         "y": [
          "AGO",
          "ARM",
          "BEN",
          "BFA",
          "BGD",
          "BOL",
          "CIV",
          "CMR",
          "COD",
          "COM",
          "DOM",
          "EGY",
          "ETH",
          "GAB",
          "GHA",
          "GIN",
          "GMB",
          "GTM",
          "GUY",
          "HND",
          "HTI",
          "IND",
          "JOR",
          "KEN",
          "KGZ",
          "KHM",
          "LBR",
          "LSO",
          "MAR",
          "MDA",
          "MDG",
          "MLI",
          "MMR",
          "MOZ",
          "MRT",
          "MWI",
          "NAM",
          "NGA",
          "NIC",
          "PAK",
          "PER",
          "PHL",
          "SEN",
          "SLE",
          "SWZ",
          "TCD",
          "TGO",
          "TJK",
          "TLS",
          "TZA",
          "UGA",
          "ZAF",
          "ZMB",
          "ZWE"
         ]
        }
       ],
       "layout": {
        "height": 600,
        "hovermode": "closest",
        "legend": {
         "font": {
          "size": 10
         },
         "xanchor": "center",
         "yanchor": "top"
        },
        "margin": {
         "b": 50,
         "l": 140,
         "r": 40,
         "t": 80
        },
        "paper_bgcolor": "white",
        "plot_bgcolor": "white",
        "shapes": [
         {
          "line": {
           "color": "red",
           "dash": "dashdot",
           "width": 2
          },
          "type": "line",
          "x0": 0,
          "x1": 0,
          "y0": 0,
          "y1": 54
         }
        ],
        "template": {
         "data": {
          "bar": [
           {
            "error_x": {
             "color": "#2a3f5f"
            },
            "error_y": {
             "color": "#2a3f5f"
            },
            "marker": {
             "line": {
              "color": "#E5ECF6",
              "width": 0.5
             },
             "pattern": {
              "fillmode": "overlay",
              "size": 10,
              "solidity": 0.2
             }
            },
            "type": "bar"
           }
          ],
          "barpolar": [
           {
            "marker": {
             "line": {
              "color": "#E5ECF6",
              "width": 0.5
             },
             "pattern": {
              "fillmode": "overlay",
              "size": 10,
              "solidity": 0.2
             }
            },
            "type": "barpolar"
           }
          ],
          "carpet": [
           {
            "aaxis": {
             "endlinecolor": "#2a3f5f",
             "gridcolor": "white",
             "linecolor": "white",
             "minorgridcolor": "white",
             "startlinecolor": "#2a3f5f"
            },
            "baxis": {
             "endlinecolor": "#2a3f5f",
             "gridcolor": "white",
             "linecolor": "white",
             "minorgridcolor": "white",
             "startlinecolor": "#2a3f5f"
            },
            "type": "carpet"
           }
          ],
          "choropleth": [
           {
            "colorbar": {
             "outlinewidth": 0,
             "ticks": ""
            },
            "type": "choropleth"
           }
          ],
          "contour": [
           {
            "colorbar": {
             "outlinewidth": 0,
             "ticks": ""
            },
            "colorscale": [
             [
              0,
              "#0d0887"
             ],
             [
              0.1111111111111111,
              "#46039f"
             ],
             [
              0.2222222222222222,
              "#7201a8"
             ],
             [
              0.3333333333333333,
              "#9c179e"
             ],
             [
              0.4444444444444444,
              "#bd3786"
             ],
             [
              0.5555555555555556,
              "#d8576b"
             ],
             [
              0.6666666666666666,
              "#ed7953"
             ],
             [
              0.7777777777777778,
              "#fb9f3a"
             ],
             [
              0.8888888888888888,
              "#fdca26"
             ],
             [
              1,
              "#f0f921"
             ]
            ],
            "type": "contour"
           }
          ],
          "contourcarpet": [
           {
            "colorbar": {
             "outlinewidth": 0,
             "ticks": ""
            },
            "type": "contourcarpet"
           }
          ],
          "heatmap": [
           {
            "colorbar": {
             "outlinewidth": 0,
             "ticks": ""
            },
            "colorscale": [
             [
              0,
              "#0d0887"
             ],
             [
              0.1111111111111111,
              "#46039f"
             ],
             [
              0.2222222222222222,
              "#7201a8"
             ],
             [
              0.3333333333333333,
              "#9c179e"
             ],
             [
              0.4444444444444444,
              "#bd3786"
             ],
             [
              0.5555555555555556,
              "#d8576b"
             ],
             [
              0.6666666666666666,
              "#ed7953"
             ],
             [
              0.7777777777777778,
              "#fb9f3a"
             ],
             [
              0.8888888888888888,
              "#fdca26"
             ],
             [
              1,
              "#f0f921"
             ]
            ],
            "type": "heatmap"
           }
          ],
          "heatmapgl": [
           {
            "colorbar": {
             "outlinewidth": 0,
             "ticks": ""
            },
            "colorscale": [
             [
              0,
              "#0d0887"
             ],
             [
              0.1111111111111111,
              "#46039f"
             ],
             [
              0.2222222222222222,
              "#7201a8"
             ],
             [
              0.3333333333333333,
              "#9c179e"
             ],
             [
              0.4444444444444444,
              "#bd3786"
             ],
             [
              0.5555555555555556,
              "#d8576b"
             ],
             [
              0.6666666666666666,
              "#ed7953"
             ],
             [
              0.7777777777777778,
              "#fb9f3a"
             ],
             [
              0.8888888888888888,
              "#fdca26"
             ],
             [
              1,
              "#f0f921"
             ]
            ],
            "type": "heatmapgl"
           }
          ],
          "histogram": [
           {
            "marker": {
             "pattern": {
              "fillmode": "overlay",
              "size": 10,
              "solidity": 0.2
             }
            },
            "type": "histogram"
           }
          ],
          "histogram2d": [
           {
            "colorbar": {
             "outlinewidth": 0,
             "ticks": ""
            },
            "colorscale": [
             [
              0,
              "#0d0887"
             ],
             [
              0.1111111111111111,
              "#46039f"
             ],
             [
              0.2222222222222222,
              "#7201a8"
             ],
             [
              0.3333333333333333,
              "#9c179e"
             ],
             [
              0.4444444444444444,
              "#bd3786"
             ],
             [
              0.5555555555555556,
              "#d8576b"
             ],
             [
              0.6666666666666666,
              "#ed7953"
             ],
             [
              0.7777777777777778,
              "#fb9f3a"
             ],
             [
              0.8888888888888888,
              "#fdca26"
             ],
             [
              1,
              "#f0f921"
             ]
            ],
            "type": "histogram2d"
           }
          ],
          "histogram2dcontour": [
           {
            "colorbar": {
             "outlinewidth": 0,
             "ticks": ""
            },
            "colorscale": [
             [
              0,
              "#0d0887"
             ],
             [
              0.1111111111111111,
              "#46039f"
             ],
             [
              0.2222222222222222,
              "#7201a8"
             ],
             [
              0.3333333333333333,
              "#9c179e"
             ],
             [
              0.4444444444444444,
              "#bd3786"
             ],
             [
              0.5555555555555556,
              "#d8576b"
             ],
             [
              0.6666666666666666,
              "#ed7953"
             ],
             [
              0.7777777777777778,
              "#fb9f3a"
             ],
             [
              0.8888888888888888,
              "#fdca26"
             ],
             [
              1,
              "#f0f921"
             ]
            ],
            "type": "histogram2dcontour"
           }
          ],
          "mesh3d": [
           {
            "colorbar": {
             "outlinewidth": 0,
             "ticks": ""
            },
            "type": "mesh3d"
           }
          ],
          "parcoords": [
           {
            "line": {
             "colorbar": {
              "outlinewidth": 0,
              "ticks": ""
             }
            },
            "type": "parcoords"
           }
          ],
          "pie": [
           {
            "automargin": true,
            "type": "pie"
           }
          ],
          "scatter": [
           {
            "fillpattern": {
             "fillmode": "overlay",
             "size": 10,
             "solidity": 0.2
            },
            "type": "scatter"
           }
          ],
          "scatter3d": [
           {
            "line": {
             "colorbar": {
              "outlinewidth": 0,
              "ticks": ""
             }
            },
            "marker": {
             "colorbar": {
              "outlinewidth": 0,
              "ticks": ""
             }
            },
            "type": "scatter3d"
           }
          ],
          "scattercarpet": [
           {
            "marker": {
             "colorbar": {
              "outlinewidth": 0,
              "ticks": ""
             }
            },
            "type": "scattercarpet"
           }
          ],
          "scattergeo": [
           {
            "marker": {
             "colorbar": {
              "outlinewidth": 0,
              "ticks": ""
             }
            },
            "type": "scattergeo"
           }
          ],
          "scattergl": [
           {
            "marker": {
             "colorbar": {
              "outlinewidth": 0,
              "ticks": ""
             }
            },
            "type": "scattergl"
           }
          ],
          "scattermapbox": [
           {
            "marker": {
             "colorbar": {
              "outlinewidth": 0,
              "ticks": ""
             }
            },
            "type": "scattermapbox"
           }
          ],
          "scatterpolar": [
           {
            "marker": {
             "colorbar": {
              "outlinewidth": 0,
              "ticks": ""
             }
            },
            "type": "scatterpolar"
           }
          ],
          "scatterpolargl": [
           {
            "marker": {
             "colorbar": {
              "outlinewidth": 0,
              "ticks": ""
             }
            },
            "type": "scatterpolargl"
           }
          ],
          "scatterternary": [
           {
            "marker": {
             "colorbar": {
              "outlinewidth": 0,
              "ticks": ""
             }
            },
            "type": "scatterternary"
           }
          ],
          "surface": [
           {
            "colorbar": {
             "outlinewidth": 0,
             "ticks": ""
            },
            "colorscale": [
             [
              0,
              "#0d0887"
             ],
             [
              0.1111111111111111,
              "#46039f"
             ],
             [
              0.2222222222222222,
              "#7201a8"
             ],
             [
              0.3333333333333333,
              "#9c179e"
             ],
             [
              0.4444444444444444,
              "#bd3786"
             ],
             [
              0.5555555555555556,
              "#d8576b"
             ],
             [
              0.6666666666666666,
              "#ed7953"
             ],
             [
              0.7777777777777778,
              "#fb9f3a"
             ],
             [
              0.8888888888888888,
              "#fdca26"
             ],
             [
              1,
              "#f0f921"
             ]
            ],
            "type": "surface"
           }
          ],
          "table": [
           {
            "cells": {
             "fill": {
              "color": "#EBF0F8"
             },
             "line": {
              "color": "white"
             }
            },
            "header": {
             "fill": {
              "color": "#C8D4E3"
             },
             "line": {
              "color": "white"
             }
            },
            "type": "table"
           }
          ]
         },
         "layout": {
          "annotationdefaults": {
           "arrowcolor": "#2a3f5f",
           "arrowhead": 0,
           "arrowwidth": 1
          },
          "autotypenumbers": "strict",
          "coloraxis": {
           "colorbar": {
            "outlinewidth": 0,
            "ticks": ""
           }
          },
          "colorscale": {
           "diverging": [
            [
             0,
             "#8e0152"
            ],
            [
             0.1,
             "#c51b7d"
            ],
            [
             0.2,
             "#de77ae"
            ],
            [
             0.3,
             "#f1b6da"
            ],
            [
             0.4,
             "#fde0ef"
            ],
            [
             0.5,
             "#f7f7f7"
            ],
            [
             0.6,
             "#e6f5d0"
            ],
            [
             0.7,
             "#b8e186"
            ],
            [
             0.8,
             "#7fbc41"
            ],
            [
             0.9,
             "#4d9221"
            ],
            [
             1,
             "#276419"
            ]
           ],
           "sequential": [
            [
             0,
             "#0d0887"
            ],
            [
             0.1111111111111111,
             "#46039f"
            ],
            [
             0.2222222222222222,
             "#7201a8"
            ],
            [
             0.3333333333333333,
             "#9c179e"
            ],
            [
             0.4444444444444444,
             "#bd3786"
            ],
            [
             0.5555555555555556,
             "#d8576b"
            ],
            [
             0.6666666666666666,
             "#ed7953"
            ],
            [
             0.7777777777777778,
             "#fb9f3a"
            ],
            [
             0.8888888888888888,
             "#fdca26"
            ],
            [
             1,
             "#f0f921"
            ]
           ],
           "sequentialminus": [
            [
             0,
             "#0d0887"
            ],
            [
             0.1111111111111111,
             "#46039f"
            ],
            [
             0.2222222222222222,
             "#7201a8"
            ],
            [
             0.3333333333333333,
             "#9c179e"
            ],
            [
             0.4444444444444444,
             "#bd3786"
            ],
            [
             0.5555555555555556,
             "#d8576b"
            ],
            [
             0.6666666666666666,
             "#ed7953"
            ],
            [
             0.7777777777777778,
             "#fb9f3a"
            ],
            [
             0.8888888888888888,
             "#fdca26"
            ],
            [
             1,
             "#f0f921"
            ]
           ]
          },
          "colorway": [
           "#636efa",
           "#EF553B",
           "#00cc96",
           "#ab63fa",
           "#FFA15A",
           "#19d3f3",
           "#FF6692",
           "#B6E880",
           "#FF97FF",
           "#FECB52"
          ],
          "font": {
           "color": "#2a3f5f"
          },
          "geo": {
           "bgcolor": "white",
           "lakecolor": "white",
           "landcolor": "#E5ECF6",
           "showlakes": true,
           "showland": true,
           "subunitcolor": "white"
          },
          "hoverlabel": {
           "align": "left"
          },
          "hovermode": "closest",
          "mapbox": {
           "style": "light"
          },
          "paper_bgcolor": "white",
          "plot_bgcolor": "#E5ECF6",
          "polar": {
           "angularaxis": {
            "gridcolor": "white",
            "linecolor": "white",
            "ticks": ""
           },
           "bgcolor": "#E5ECF6",
           "radialaxis": {
            "gridcolor": "white",
            "linecolor": "white",
            "ticks": ""
           }
          },
          "scene": {
           "xaxis": {
            "backgroundcolor": "#E5ECF6",
            "gridcolor": "white",
            "gridwidth": 2,
            "linecolor": "white",
            "showbackground": true,
            "ticks": "",
            "zerolinecolor": "white"
           },
           "yaxis": {
            "backgroundcolor": "#E5ECF6",
            "gridcolor": "white",
            "gridwidth": 2,
            "linecolor": "white",
            "showbackground": true,
            "ticks": "",
            "zerolinecolor": "white"
           },
           "zaxis": {
            "backgroundcolor": "#E5ECF6",
            "gridcolor": "white",
            "gridwidth": 2,
            "linecolor": "white",
            "showbackground": true,
            "ticks": "",
            "zerolinecolor": "white"
           }
          },
          "shapedefaults": {
           "line": {
            "color": "#2a3f5f"
           }
          },
          "ternary": {
           "aaxis": {
            "gridcolor": "white",
            "linecolor": "white",
            "ticks": ""
           },
           "baxis": {
            "gridcolor": "white",
            "linecolor": "white",
            "ticks": ""
           },
           "bgcolor": "#E5ECF6",
           "caxis": {
            "gridcolor": "white",
            "linecolor": "white",
            "ticks": ""
           }
          },
          "title": {
           "x": 0.05
          },
          "xaxis": {
           "automargin": true,
           "gridcolor": "white",
           "linecolor": "white",
           "ticks": "",
           "title": {
            "standoff": 15
           },
           "zerolinecolor": "white",
           "zerolinewidth": 2
          },
          "yaxis": {
           "automargin": true,
           "gridcolor": "white",
           "linecolor": "white",
           "ticks": "",
           "title": {
            "standoff": 15
           },
           "zerolinecolor": "white",
           "zerolinewidth": 2
          }
         }
        },
        "title": {
         "text": "drought"
        },
        "width": 1600,
        "xaxis": {
         "linecolor": "rgb(102, 102, 102)",
         "showgrid": false,
         "showline": true,
         "showticklabels": true,
         "tickcolor": "rgb(102, 102, 102)",
         "tickfont": {
          "color": "rgb(102, 102, 102)"
         },
         "ticks": "outside"
        }
       }
      }
     },
     "metadata": {},
     "output_type": "display_data"
    },
    {
     "data": {
      "application/vnd.plotly.v1+json": {
       "config": {
        "plotlyServerURL": "https://plot.ly"
       },
       "data": [
        {
         "marker": {
          "color": "rgba(156, 165, 196, 0.95)",
          "line": {
           "width": 1
          },
          "size": 16,
          "symbol": "circle"
         },
         "mode": "markers",
         "name": "1",
         "type": "scatter",
         "x": [
          null,
          null,
          null,
          null,
          null,
          null,
          null,
          null,
          null,
          null,
          null,
          null,
          null,
          null,
          null,
          null,
          null,
          null,
          null,
          null,
          null,
          null,
          null,
          null,
          null,
          null,
          null,
          null,
          null,
          null,
          null,
          null,
          null,
          null,
          null,
          null,
          null,
          null,
          null,
          null,
          null,
          null,
          null,
          null,
          null,
          null,
          null,
          null,
          null,
          null,
          null,
          null,
          null,
          null
         ],
         "y": [
          "AGO",
          "ARM",
          "BEN",
          "BFA",
          "BGD",
          "BOL",
          "CIV",
          "CMR",
          "COD",
          "COM",
          "DOM",
          "EGY",
          "ETH",
          "GAB",
          "GHA",
          "GIN",
          "GMB",
          "GTM",
          "GUY",
          "HND",
          "HTI",
          "IND",
          "JOR",
          "KEN",
          "KGZ",
          "KHM",
          "LBR",
          "LSO",
          "MAR",
          "MDA",
          "MDG",
          "MLI",
          "MMR",
          "MOZ",
          "MRT",
          "MWI",
          "NAM",
          "NGA",
          "NIC",
          "PAK",
          "PER",
          "PHL",
          "SEN",
          "SLE",
          "SWZ",
          "TCD",
          "TGO",
          "TJK",
          "TLS",
          "TZA",
          "UGA",
          "ZAF",
          "ZMB",
          "ZWE"
         ]
        },
        {
         "marker": {
          "color": "rgba(156, 165, 196, 0.95)",
          "line": {
           "width": 1
          },
          "size": 16,
          "symbol": "circle"
         },
         "mode": "markers",
         "name": "2",
         "type": "scatter",
         "x": [
          null,
          null,
          null,
          null,
          null,
          null,
          null,
          null,
          null,
          null,
          null,
          null,
          null,
          null,
          null,
          null,
          null,
          null,
          null,
          null,
          null,
          null,
          null,
          null,
          null,
          null,
          null,
          null,
          null,
          null,
          null,
          null,
          null,
          null,
          null,
          null,
          null,
          null,
          null,
          null,
          null,
          null,
          null,
          null,
          null,
          null,
          null,
          null,
          null,
          null,
          null,
          null,
          null,
          null
         ],
         "y": [
          "AGO",
          "ARM",
          "BEN",
          "BFA",
          "BGD",
          "BOL",
          "CIV",
          "CMR",
          "COD",
          "COM",
          "DOM",
          "EGY",
          "ETH",
          "GAB",
          "GHA",
          "GIN",
          "GMB",
          "GTM",
          "GUY",
          "HND",
          "HTI",
          "IND",
          "JOR",
          "KEN",
          "KGZ",
          "KHM",
          "LBR",
          "LSO",
          "MAR",
          "MDA",
          "MDG",
          "MLI",
          "MMR",
          "MOZ",
          "MRT",
          "MWI",
          "NAM",
          "NGA",
          "NIC",
          "PAK",
          "PER",
          "PHL",
          "SEN",
          "SLE",
          "SWZ",
          "TCD",
          "TGO",
          "TJK",
          "TLS",
          "TZA",
          "UGA",
          "ZAF",
          "ZMB",
          "ZWE"
         ]
        },
        {
         "marker": {
          "color": "rgba(156, 165, 196, 0.95)",
          "line": {
           "width": 1
          },
          "size": 16,
          "symbol": "circle"
         },
         "mode": "markers",
         "name": "3",
         "type": "scatter",
         "x": [
          null,
          null,
          null,
          null,
          null,
          null,
          null,
          null,
          null,
          null,
          null,
          null,
          null,
          null,
          null,
          null,
          null,
          null,
          null,
          null,
          null,
          null,
          null,
          null,
          null,
          null,
          null,
          null,
          null,
          null,
          null,
          null,
          null,
          null,
          null,
          null,
          null,
          null,
          null,
          null,
          null,
          null,
          null,
          null,
          null,
          null,
          null,
          null,
          null,
          null,
          null,
          null,
          null,
          null
         ],
         "y": [
          "AGO",
          "ARM",
          "BEN",
          "BFA",
          "BGD",
          "BOL",
          "CIV",
          "CMR",
          "COD",
          "COM",
          "DOM",
          "EGY",
          "ETH",
          "GAB",
          "GHA",
          "GIN",
          "GMB",
          "GTM",
          "GUY",
          "HND",
          "HTI",
          "IND",
          "JOR",
          "KEN",
          "KGZ",
          "KHM",
          "LBR",
          "LSO",
          "MAR",
          "MDA",
          "MDG",
          "MLI",
          "MMR",
          "MOZ",
          "MRT",
          "MWI",
          "NAM",
          "NGA",
          "NIC",
          "PAK",
          "PER",
          "PHL",
          "SEN",
          "SLE",
          "SWZ",
          "TCD",
          "TGO",
          "TJK",
          "TLS",
          "TZA",
          "UGA",
          "ZAF",
          "ZMB",
          "ZWE"
         ]
        },
        {
         "marker": {
          "color": "rgba(156, 165, 196, 0.95)",
          "line": {
           "width": 1
          },
          "size": 16,
          "symbol": "circle"
         },
         "mode": "markers",
         "name": "4",
         "type": "scatter",
         "x": [
          null,
          null,
          null,
          null,
          null,
          null,
          null,
          null,
          null,
          null,
          null,
          null,
          null,
          null,
          null,
          null,
          null,
          null,
          null,
          null,
          null,
          null,
          null,
          null,
          null,
          null,
          null,
          null,
          null,
          null,
          null,
          null,
          null,
          null,
          null,
          null,
          null,
          null,
          null,
          null,
          null,
          null,
          null,
          null,
          null,
          null,
          null,
          null,
          null,
          null,
          null,
          null,
          null,
          null
         ],
         "y": [
          "AGO",
          "ARM",
          "BEN",
          "BFA",
          "BGD",
          "BOL",
          "CIV",
          "CMR",
          "COD",
          "COM",
          "DOM",
          "EGY",
          "ETH",
          "GAB",
          "GHA",
          "GIN",
          "GMB",
          "GTM",
          "GUY",
          "HND",
          "HTI",
          "IND",
          "JOR",
          "KEN",
          "KGZ",
          "KHM",
          "LBR",
          "LSO",
          "MAR",
          "MDA",
          "MDG",
          "MLI",
          "MMR",
          "MOZ",
          "MRT",
          "MWI",
          "NAM",
          "NGA",
          "NIC",
          "PAK",
          "PER",
          "PHL",
          "SEN",
          "SLE",
          "SWZ",
          "TCD",
          "TGO",
          "TJK",
          "TLS",
          "TZA",
          "UGA",
          "ZAF",
          "ZMB",
          "ZWE"
         ]
        },
        {
         "marker": {
          "color": "rgba(204, 204, 204, 0.95)",
          "line": {
           "width": 1
          },
          "size": 16,
          "symbol": "circle"
         },
         "mode": "markers",
         "name": "5",
         "type": "scatter",
         "x": [
          null,
          null,
          null,
          null,
          null,
          null,
          null,
          null,
          null,
          null,
          null,
          null,
          null,
          null,
          null,
          null,
          null,
          null,
          null,
          null,
          null,
          null,
          null,
          null,
          null,
          null,
          null,
          null,
          null,
          null,
          null,
          null,
          null,
          null,
          null,
          null,
          null,
          null,
          null,
          null,
          null,
          null,
          null,
          null,
          null,
          null,
          null,
          null,
          null,
          null,
          null,
          null,
          null,
          null
         ],
         "y": [
          "AGO",
          "ARM",
          "BEN",
          "BFA",
          "BGD",
          "BOL",
          "CIV",
          "CMR",
          "COD",
          "COM",
          "DOM",
          "EGY",
          "ETH",
          "GAB",
          "GHA",
          "GIN",
          "GMB",
          "GTM",
          "GUY",
          "HND",
          "HTI",
          "IND",
          "JOR",
          "KEN",
          "KGZ",
          "KHM",
          "LBR",
          "LSO",
          "MAR",
          "MDA",
          "MDG",
          "MLI",
          "MMR",
          "MOZ",
          "MRT",
          "MWI",
          "NAM",
          "NGA",
          "NIC",
          "PAK",
          "PER",
          "PHL",
          "SEN",
          "SLE",
          "SWZ",
          "TCD",
          "TGO",
          "TJK",
          "TLS",
          "TZA",
          "UGA",
          "ZAF",
          "ZMB",
          "ZWE"
         ]
        },
        {
         "marker": {
          "color": "rgba(204, 204, 204, 0.95)",
          "line": {
           "width": 1
          },
          "size": 16,
          "symbol": "circle"
         },
         "mode": "markers",
         "name": "6",
         "type": "scatter",
         "x": [
          null,
          null,
          null,
          null,
          null,
          null,
          null,
          null,
          null,
          null,
          null,
          null,
          null,
          null,
          null,
          null,
          null,
          null,
          null,
          null,
          null,
          null,
          null,
          null,
          null,
          null,
          null,
          null,
          null,
          null,
          null,
          null,
          null,
          null,
          null,
          null,
          null,
          null,
          null,
          null,
          null,
          null,
          null,
          null,
          null,
          null,
          null,
          null,
          null,
          null,
          null,
          null,
          null,
          null
         ],
         "y": [
          "AGO",
          "ARM",
          "BEN",
          "BFA",
          "BGD",
          "BOL",
          "CIV",
          "CMR",
          "COD",
          "COM",
          "DOM",
          "EGY",
          "ETH",
          "GAB",
          "GHA",
          "GIN",
          "GMB",
          "GTM",
          "GUY",
          "HND",
          "HTI",
          "IND",
          "JOR",
          "KEN",
          "KGZ",
          "KHM",
          "LBR",
          "LSO",
          "MAR",
          "MDA",
          "MDG",
          "MLI",
          "MMR",
          "MOZ",
          "MRT",
          "MWI",
          "NAM",
          "NGA",
          "NIC",
          "PAK",
          "PER",
          "PHL",
          "SEN",
          "SLE",
          "SWZ",
          "TCD",
          "TGO",
          "TJK",
          "TLS",
          "TZA",
          "UGA",
          "ZAF",
          "ZMB",
          "ZWE"
         ]
        },
        {
         "marker": {
          "color": "rgba(204, 204, 204, 0.95)",
          "line": {
           "width": 1
          },
          "size": 16,
          "symbol": "circle"
         },
         "mode": "markers",
         "name": "7",
         "type": "scatter",
         "x": [
          null,
          null,
          null,
          null,
          null,
          null,
          null,
          null,
          null,
          null,
          null,
          null,
          null,
          null,
          null,
          null,
          null,
          null,
          null,
          null,
          null,
          null,
          null,
          null,
          null,
          null,
          null,
          null,
          null,
          null,
          null,
          null,
          null,
          null,
          null,
          null,
          null,
          null,
          null,
          null,
          null,
          null,
          null,
          null,
          null,
          null,
          null,
          null,
          null,
          null,
          null,
          null,
          null,
          null
         ],
         "y": [
          "AGO",
          "ARM",
          "BEN",
          "BFA",
          "BGD",
          "BOL",
          "CIV",
          "CMR",
          "COD",
          "COM",
          "DOM",
          "EGY",
          "ETH",
          "GAB",
          "GHA",
          "GIN",
          "GMB",
          "GTM",
          "GUY",
          "HND",
          "HTI",
          "IND",
          "JOR",
          "KEN",
          "KGZ",
          "KHM",
          "LBR",
          "LSO",
          "MAR",
          "MDA",
          "MDG",
          "MLI",
          "MMR",
          "MOZ",
          "MRT",
          "MWI",
          "NAM",
          "NGA",
          "NIC",
          "PAK",
          "PER",
          "PHL",
          "SEN",
          "SLE",
          "SWZ",
          "TCD",
          "TGO",
          "TJK",
          "TLS",
          "TZA",
          "UGA",
          "ZAF",
          "ZMB",
          "ZWE"
         ]
        },
        {
         "marker": {
          "color": "rgba(204, 204, 204, 0.95)",
          "line": {
           "width": 1
          },
          "size": 16,
          "symbol": "circle"
         },
         "mode": "markers",
         "name": "8",
         "type": "scatter",
         "x": [
          null,
          null,
          null,
          null,
          null,
          null,
          null,
          null,
          null,
          null,
          null,
          null,
          null,
          null,
          null,
          null,
          null,
          null,
          null,
          null,
          null,
          null,
          null,
          null,
          null,
          null,
          null,
          null,
          null,
          null,
          null,
          null,
          null,
          null,
          null,
          null,
          null,
          null,
          null,
          null,
          null,
          null,
          null,
          null,
          null,
          null,
          null,
          null,
          null,
          null,
          null,
          null,
          null,
          null
         ],
         "y": [
          "AGO",
          "ARM",
          "BEN",
          "BFA",
          "BGD",
          "BOL",
          "CIV",
          "CMR",
          "COD",
          "COM",
          "DOM",
          "EGY",
          "ETH",
          "GAB",
          "GHA",
          "GIN",
          "GMB",
          "GTM",
          "GUY",
          "HND",
          "HTI",
          "IND",
          "JOR",
          "KEN",
          "KGZ",
          "KHM",
          "LBR",
          "LSO",
          "MAR",
          "MDA",
          "MDG",
          "MLI",
          "MMR",
          "MOZ",
          "MRT",
          "MWI",
          "NAM",
          "NGA",
          "NIC",
          "PAK",
          "PER",
          "PHL",
          "SEN",
          "SLE",
          "SWZ",
          "TCD",
          "TGO",
          "TJK",
          "TLS",
          "TZA",
          "UGA",
          "ZAF",
          "ZMB",
          "ZWE"
         ]
        },
        {
         "marker": {
          "color": "rgba(255, 166, 86, 0.95)",
          "line": {
           "width": 1
          },
          "size": 16,
          "symbol": "circle"
         },
         "mode": "markers",
         "name": "9",
         "type": "scatter",
         "x": [
          null,
          null,
          null,
          null,
          null,
          null,
          null,
          null,
          -10.329,
          null,
          null,
          -31.046,
          null,
          null,
          null,
          null,
          null,
          null,
          null,
          null,
          null,
          null,
          null,
          null,
          null,
          null,
          -13.937,
          null,
          null,
          null,
          null,
          null,
          null,
          null,
          null,
          null,
          null,
          null,
          null,
          null,
          null,
          null,
          null,
          null,
          null,
          null,
          null,
          null,
          15.051,
          null,
          null,
          null,
          null,
          null
         ],
         "y": [
          "AGO",
          "ARM",
          "BEN",
          "BFA",
          "BGD",
          "BOL",
          "CIV",
          "CMR",
          "COD",
          "COM",
          "DOM",
          "EGY",
          "ETH",
          "GAB",
          "GHA",
          "GIN",
          "GMB",
          "GTM",
          "GUY",
          "HND",
          "HTI",
          "IND",
          "JOR",
          "KEN",
          "KGZ",
          "KHM",
          "LBR",
          "LSO",
          "MAR",
          "MDA",
          "MDG",
          "MLI",
          "MMR",
          "MOZ",
          "MRT",
          "MWI",
          "NAM",
          "NGA",
          "NIC",
          "PAK",
          "PER",
          "PHL",
          "SEN",
          "SLE",
          "SWZ",
          "TCD",
          "TGO",
          "TJK",
          "TLS",
          "TZA",
          "UGA",
          "ZAF",
          "ZMB",
          "ZWE"
         ]
        },
        {
         "marker": {
          "color": "rgba(255, 166, 86, 0.95)",
          "line": {
           "width": 1
          },
          "size": 16,
          "symbol": "circle"
         },
         "mode": "markers",
         "name": "10",
         "type": "scatter",
         "x": [
          null,
          null,
          null,
          null,
          null,
          null,
          61.992,
          null,
          null,
          null,
          -6.08,
          null,
          null,
          null,
          null,
          17.733,
          null,
          null,
          null,
          null,
          null,
          null,
          -3.109,
          -3.337,
          null,
          null,
          -16.534,
          null,
          null,
          null,
          null,
          null,
          null,
          null,
          null,
          null,
          null,
          null,
          null,
          -6.349,
          null,
          null,
          null,
          null,
          null,
          null,
          null,
          null,
          -6.513,
          null,
          null,
          null,
          null,
          null
         ],
         "y": [
          "AGO",
          "ARM",
          "BEN",
          "BFA",
          "BGD",
          "BOL",
          "CIV",
          "CMR",
          "COD",
          "COM",
          "DOM",
          "EGY",
          "ETH",
          "GAB",
          "GHA",
          "GIN",
          "GMB",
          "GTM",
          "GUY",
          "HND",
          "HTI",
          "IND",
          "JOR",
          "KEN",
          "KGZ",
          "KHM",
          "LBR",
          "LSO",
          "MAR",
          "MDA",
          "MDG",
          "MLI",
          "MMR",
          "MOZ",
          "MRT",
          "MWI",
          "NAM",
          "NGA",
          "NIC",
          "PAK",
          "PER",
          "PHL",
          "SEN",
          "SLE",
          "SWZ",
          "TCD",
          "TGO",
          "TJK",
          "TLS",
          "TZA",
          "UGA",
          "ZAF",
          "ZMB",
          "ZWE"
         ]
        },
        {
         "marker": {
          "color": "rgba(255, 166, 86, 0.95)",
          "line": {
           "width": 1
          },
          "size": 16,
          "symbol": "circle"
         },
         "mode": "markers",
         "name": "11",
         "type": "scatter",
         "x": [
          null,
          null,
          -7.259,
          null,
          null,
          null,
          48.907,
          null,
          null,
          null,
          -5.129,
          null,
          null,
          -4.003,
          -3.887,
          10.325,
          null,
          null,
          null,
          null,
          null,
          null,
          -3.172,
          -4.173,
          null,
          null,
          -17.118,
          null,
          -14.362,
          null,
          null,
          null,
          null,
          null,
          null,
          null,
          null,
          null,
          null,
          -4.544,
          null,
          null,
          null,
          null,
          null,
          null,
          -28.36,
          null,
          -6.274,
          -5.897,
          -16.495,
          null,
          null,
          null
         ],
         "y": [
          "AGO",
          "ARM",
          "BEN",
          "BFA",
          "BGD",
          "BOL",
          "CIV",
          "CMR",
          "COD",
          "COM",
          "DOM",
          "EGY",
          "ETH",
          "GAB",
          "GHA",
          "GIN",
          "GMB",
          "GTM",
          "GUY",
          "HND",
          "HTI",
          "IND",
          "JOR",
          "KEN",
          "KGZ",
          "KHM",
          "LBR",
          "LSO",
          "MAR",
          "MDA",
          "MDG",
          "MLI",
          "MMR",
          "MOZ",
          "MRT",
          "MWI",
          "NAM",
          "NGA",
          "NIC",
          "PAK",
          "PER",
          "PHL",
          "SEN",
          "SLE",
          "SWZ",
          "TCD",
          "TGO",
          "TJK",
          "TLS",
          "TZA",
          "UGA",
          "ZAF",
          "ZMB",
          "ZWE"
         ]
        },
        {
         "marker": {
          "color": "rgba(255, 166, 86, 0.95)",
          "line": {
           "width": 1
          },
          "size": 16,
          "symbol": "circle"
         },
         "mode": "markers",
         "name": "12",
         "type": "scatter",
         "x": [
          null,
          -15.205,
          -4.317,
          null,
          null,
          null,
          null,
          null,
          null,
          null,
          -4.415,
          null,
          null,
          null,
          -5.55,
          -9.041,
          null,
          -2.897,
          null,
          null,
          null,
          null,
          -3.169,
          -4.432,
          null,
          null,
          -14.622,
          null,
          null,
          null,
          null,
          null,
          null,
          -10.202,
          null,
          null,
          null,
          null,
          null,
          -5.099,
          null,
          null,
          null,
          null,
          null,
          null,
          -28.838,
          null,
          null,
          -8.56,
          null,
          null,
          null,
          null
         ],
         "y": [
          "AGO",
          "ARM",
          "BEN",
          "BFA",
          "BGD",
          "BOL",
          "CIV",
          "CMR",
          "COD",
          "COM",
          "DOM",
          "EGY",
          "ETH",
          "GAB",
          "GHA",
          "GIN",
          "GMB",
          "GTM",
          "GUY",
          "HND",
          "HTI",
          "IND",
          "JOR",
          "KEN",
          "KGZ",
          "KHM",
          "LBR",
          "LSO",
          "MAR",
          "MDA",
          "MDG",
          "MLI",
          "MMR",
          "MOZ",
          "MRT",
          "MWI",
          "NAM",
          "NGA",
          "NIC",
          "PAK",
          "PER",
          "PHL",
          "SEN",
          "SLE",
          "SWZ",
          "TCD",
          "TGO",
          "TJK",
          "TLS",
          "TZA",
          "UGA",
          "ZAF",
          "ZMB",
          "ZWE"
         ]
        },
        {
         "marker": {
          "color": "rgba(240, 230, 140, 0.95)",
          "line": {
           "width": 1
          },
          "size": 16,
          "symbol": "circle"
         },
         "mode": "markers",
         "name": "13",
         "type": "scatter",
         "x": [
          null,
          null,
          -113.688,
          null,
          null,
          null,
          null,
          null,
          null,
          null,
          -16.384,
          24.979,
          null,
          null,
          -24.735,
          null,
          null,
          null,
          null,
          null,
          null,
          null,
          null,
          null,
          null,
          null,
          null,
          null,
          null,
          null,
          null,
          null,
          null,
          null,
          null,
          null,
          null,
          null,
          null,
          null,
          null,
          null,
          null,
          null,
          null,
          null,
          null,
          null,
          -31.599,
          null,
          null,
          97.553,
          null,
          null
         ],
         "y": [
          "AGO",
          "ARM",
          "BEN",
          "BFA",
          "BGD",
          "BOL",
          "CIV",
          "CMR",
          "COD",
          "COM",
          "DOM",
          "EGY",
          "ETH",
          "GAB",
          "GHA",
          "GIN",
          "GMB",
          "GTM",
          "GUY",
          "HND",
          "HTI",
          "IND",
          "JOR",
          "KEN",
          "KGZ",
          "KHM",
          "LBR",
          "LSO",
          "MAR",
          "MDA",
          "MDG",
          "MLI",
          "MMR",
          "MOZ",
          "MRT",
          "MWI",
          "NAM",
          "NGA",
          "NIC",
          "PAK",
          "PER",
          "PHL",
          "SEN",
          "SLE",
          "SWZ",
          "TCD",
          "TGO",
          "TJK",
          "TLS",
          "TZA",
          "UGA",
          "ZAF",
          "ZMB",
          "ZWE"
         ]
        },
        {
         "marker": {
          "color": "rgba(240, 230, 140, 0.95)",
          "line": {
           "width": 1
          },
          "size": 16,
          "symbol": "circle"
         },
         "mode": "markers",
         "name": "14",
         "type": "scatter",
         "x": [
          null,
          null,
          -23.534,
          null,
          null,
          null,
          null,
          null,
          -22.445,
          null,
          -2.852,
          null,
          null,
          null,
          -11.011,
          -33.101,
          null,
          null,
          null,
          null,
          null,
          null,
          -0.683,
          null,
          null,
          -6.487,
          null,
          null,
          null,
          null,
          null,
          null,
          null,
          null,
          null,
          null,
          null,
          null,
          null,
          null,
          null,
          null,
          null,
          null,
          null,
          null,
          -18.266,
          null,
          -24.968,
          null,
          null,
          null,
          null,
          null
         ],
         "y": [
          "AGO",
          "ARM",
          "BEN",
          "BFA",
          "BGD",
          "BOL",
          "CIV",
          "CMR",
          "COD",
          "COM",
          "DOM",
          "EGY",
          "ETH",
          "GAB",
          "GHA",
          "GIN",
          "GMB",
          "GTM",
          "GUY",
          "HND",
          "HTI",
          "IND",
          "JOR",
          "KEN",
          "KGZ",
          "KHM",
          "LBR",
          "LSO",
          "MAR",
          "MDA",
          "MDG",
          "MLI",
          "MMR",
          "MOZ",
          "MRT",
          "MWI",
          "NAM",
          "NGA",
          "NIC",
          "PAK",
          "PER",
          "PHL",
          "SEN",
          "SLE",
          "SWZ",
          "TCD",
          "TGO",
          "TJK",
          "TLS",
          "TZA",
          "UGA",
          "ZAF",
          "ZMB",
          "ZWE"
         ]
        },
        {
         "marker": {
          "color": "rgba(240, 230, 140, 0.95)",
          "line": {
           "width": 1
          },
          "size": 16,
          "symbol": "circle"
         },
         "mode": "markers",
         "name": "15",
         "type": "scatter",
         "x": [
          null,
          -2.192,
          -13.197,
          null,
          null,
          null,
          null,
          null,
          -27.855,
          null,
          -3.034,
          null,
          null,
          -5.676,
          null,
          -11.092,
          null,
          -3.339,
          null,
          null,
          null,
          null,
          null,
          null,
          null,
          -6.533,
          null,
          null,
          null,
          null,
          null,
          null,
          null,
          null,
          null,
          null,
          null,
          -57.15,
          null,
          null,
          null,
          -4.497,
          null,
          -15.085,
          null,
          null,
          -15.456,
          5.066,
          -20.064,
          null,
          null,
          null,
          null,
          null
         ],
         "y": [
          "AGO",
          "ARM",
          "BEN",
          "BFA",
          "BGD",
          "BOL",
          "CIV",
          "CMR",
          "COD",
          "COM",
          "DOM",
          "EGY",
          "ETH",
          "GAB",
          "GHA",
          "GIN",
          "GMB",
          "GTM",
          "GUY",
          "HND",
          "HTI",
          "IND",
          "JOR",
          "KEN",
          "KGZ",
          "KHM",
          "LBR",
          "LSO",
          "MAR",
          "MDA",
          "MDG",
          "MLI",
          "MMR",
          "MOZ",
          "MRT",
          "MWI",
          "NAM",
          "NGA",
          "NIC",
          "PAK",
          "PER",
          "PHL",
          "SEN",
          "SLE",
          "SWZ",
          "TCD",
          "TGO",
          "TJK",
          "TLS",
          "TZA",
          "UGA",
          "ZAF",
          "ZMB",
          "ZWE"
         ]
        },
        {
         "marker": {
          "color": "rgba(240, 230, 140, 0.95)",
          "line": {
           "width": 1
          },
          "size": 16,
          "symbol": "circle"
         },
         "mode": "markers",
         "name": "16",
         "type": "scatter",
         "x": [
          null,
          null,
          -15.674,
          null,
          null,
          null,
          null,
          -7.607,
          -43.469,
          null,
          -3.576,
          null,
          null,
          null,
          -13.551,
          -17.915,
          null,
          -4.724,
          null,
          null,
          null,
          null,
          null,
          null,
          null,
          -5.371,
          null,
          null,
          null,
          null,
          null,
          null,
          null,
          null,
          null,
          -7.553,
          null,
          -64.984,
          null,
          null,
          -3.278,
          -4.818,
          null,
          -16.641,
          null,
          null,
          null,
          4.126,
          null,
          null,
          null,
          -14.027,
          -18.995,
          null
         ],
         "y": [
          "AGO",
          "ARM",
          "BEN",
          "BFA",
          "BGD",
          "BOL",
          "CIV",
          "CMR",
          "COD",
          "COM",
          "DOM",
          "EGY",
          "ETH",
          "GAB",
          "GHA",
          "GIN",
          "GMB",
          "GTM",
          "GUY",
          "HND",
          "HTI",
          "IND",
          "JOR",
          "KEN",
          "KGZ",
          "KHM",
          "LBR",
          "LSO",
          "MAR",
          "MDA",
          "MDG",
          "MLI",
          "MMR",
          "MOZ",
          "MRT",
          "MWI",
          "NAM",
          "NGA",
          "NIC",
          "PAK",
          "PER",
          "PHL",
          "SEN",
          "SLE",
          "SWZ",
          "TCD",
          "TGO",
          "TJK",
          "TLS",
          "TZA",
          "UGA",
          "ZAF",
          "ZMB",
          "ZWE"
         ]
        }
       ],
       "layout": {
        "height": 600,
        "hovermode": "closest",
        "legend": {
         "font": {
          "size": 10
         },
         "xanchor": "center",
         "yanchor": "top"
        },
        "margin": {
         "b": 50,
         "l": 140,
         "r": 40,
         "t": 80
        },
        "paper_bgcolor": "white",
        "plot_bgcolor": "white",
        "shapes": [
         {
          "line": {
           "color": "red",
           "dash": "dashdot",
           "width": 2
          },
          "type": "line",
          "x0": 0,
          "x1": 0,
          "y0": 0,
          "y1": 54
         }
        ],
        "template": {
         "data": {
          "bar": [
           {
            "error_x": {
             "color": "#2a3f5f"
            },
            "error_y": {
             "color": "#2a3f5f"
            },
            "marker": {
             "line": {
              "color": "#E5ECF6",
              "width": 0.5
             },
             "pattern": {
              "fillmode": "overlay",
              "size": 10,
              "solidity": 0.2
             }
            },
            "type": "bar"
           }
          ],
          "barpolar": [
           {
            "marker": {
             "line": {
              "color": "#E5ECF6",
              "width": 0.5
             },
             "pattern": {
              "fillmode": "overlay",
              "size": 10,
              "solidity": 0.2
             }
            },
            "type": "barpolar"
           }
          ],
          "carpet": [
           {
            "aaxis": {
             "endlinecolor": "#2a3f5f",
             "gridcolor": "white",
             "linecolor": "white",
             "minorgridcolor": "white",
             "startlinecolor": "#2a3f5f"
            },
            "baxis": {
             "endlinecolor": "#2a3f5f",
             "gridcolor": "white",
             "linecolor": "white",
             "minorgridcolor": "white",
             "startlinecolor": "#2a3f5f"
            },
            "type": "carpet"
           }
          ],
          "choropleth": [
           {
            "colorbar": {
             "outlinewidth": 0,
             "ticks": ""
            },
            "type": "choropleth"
           }
          ],
          "contour": [
           {
            "colorbar": {
             "outlinewidth": 0,
             "ticks": ""
            },
            "colorscale": [
             [
              0,
              "#0d0887"
             ],
             [
              0.1111111111111111,
              "#46039f"
             ],
             [
              0.2222222222222222,
              "#7201a8"
             ],
             [
              0.3333333333333333,
              "#9c179e"
             ],
             [
              0.4444444444444444,
              "#bd3786"
             ],
             [
              0.5555555555555556,
              "#d8576b"
             ],
             [
              0.6666666666666666,
              "#ed7953"
             ],
             [
              0.7777777777777778,
              "#fb9f3a"
             ],
             [
              0.8888888888888888,
              "#fdca26"
             ],
             [
              1,
              "#f0f921"
             ]
            ],
            "type": "contour"
           }
          ],
          "contourcarpet": [
           {
            "colorbar": {
             "outlinewidth": 0,
             "ticks": ""
            },
            "type": "contourcarpet"
           }
          ],
          "heatmap": [
           {
            "colorbar": {
             "outlinewidth": 0,
             "ticks": ""
            },
            "colorscale": [
             [
              0,
              "#0d0887"
             ],
             [
              0.1111111111111111,
              "#46039f"
             ],
             [
              0.2222222222222222,
              "#7201a8"
             ],
             [
              0.3333333333333333,
              "#9c179e"
             ],
             [
              0.4444444444444444,
              "#bd3786"
             ],
             [
              0.5555555555555556,
              "#d8576b"
             ],
             [
              0.6666666666666666,
              "#ed7953"
             ],
             [
              0.7777777777777778,
              "#fb9f3a"
             ],
             [
              0.8888888888888888,
              "#fdca26"
             ],
             [
              1,
              "#f0f921"
             ]
            ],
            "type": "heatmap"
           }
          ],
          "heatmapgl": [
           {
            "colorbar": {
             "outlinewidth": 0,
             "ticks": ""
            },
            "colorscale": [
             [
              0,
              "#0d0887"
             ],
             [
              0.1111111111111111,
              "#46039f"
             ],
             [
              0.2222222222222222,
              "#7201a8"
             ],
             [
              0.3333333333333333,
              "#9c179e"
             ],
             [
              0.4444444444444444,
              "#bd3786"
             ],
             [
              0.5555555555555556,
              "#d8576b"
             ],
             [
              0.6666666666666666,
              "#ed7953"
             ],
             [
              0.7777777777777778,
              "#fb9f3a"
             ],
             [
              0.8888888888888888,
              "#fdca26"
             ],
             [
              1,
              "#f0f921"
             ]
            ],
            "type": "heatmapgl"
           }
          ],
          "histogram": [
           {
            "marker": {
             "pattern": {
              "fillmode": "overlay",
              "size": 10,
              "solidity": 0.2
             }
            },
            "type": "histogram"
           }
          ],
          "histogram2d": [
           {
            "colorbar": {
             "outlinewidth": 0,
             "ticks": ""
            },
            "colorscale": [
             [
              0,
              "#0d0887"
             ],
             [
              0.1111111111111111,
              "#46039f"
             ],
             [
              0.2222222222222222,
              "#7201a8"
             ],
             [
              0.3333333333333333,
              "#9c179e"
             ],
             [
              0.4444444444444444,
              "#bd3786"
             ],
             [
              0.5555555555555556,
              "#d8576b"
             ],
             [
              0.6666666666666666,
              "#ed7953"
             ],
             [
              0.7777777777777778,
              "#fb9f3a"
             ],
             [
              0.8888888888888888,
              "#fdca26"
             ],
             [
              1,
              "#f0f921"
             ]
            ],
            "type": "histogram2d"
           }
          ],
          "histogram2dcontour": [
           {
            "colorbar": {
             "outlinewidth": 0,
             "ticks": ""
            },
            "colorscale": [
             [
              0,
              "#0d0887"
             ],
             [
              0.1111111111111111,
              "#46039f"
             ],
             [
              0.2222222222222222,
              "#7201a8"
             ],
             [
              0.3333333333333333,
              "#9c179e"
             ],
             [
              0.4444444444444444,
              "#bd3786"
             ],
             [
              0.5555555555555556,
              "#d8576b"
             ],
             [
              0.6666666666666666,
              "#ed7953"
             ],
             [
              0.7777777777777778,
              "#fb9f3a"
             ],
             [
              0.8888888888888888,
              "#fdca26"
             ],
             [
              1,
              "#f0f921"
             ]
            ],
            "type": "histogram2dcontour"
           }
          ],
          "mesh3d": [
           {
            "colorbar": {
             "outlinewidth": 0,
             "ticks": ""
            },
            "type": "mesh3d"
           }
          ],
          "parcoords": [
           {
            "line": {
             "colorbar": {
              "outlinewidth": 0,
              "ticks": ""
             }
            },
            "type": "parcoords"
           }
          ],
          "pie": [
           {
            "automargin": true,
            "type": "pie"
           }
          ],
          "scatter": [
           {
            "fillpattern": {
             "fillmode": "overlay",
             "size": 10,
             "solidity": 0.2
            },
            "type": "scatter"
           }
          ],
          "scatter3d": [
           {
            "line": {
             "colorbar": {
              "outlinewidth": 0,
              "ticks": ""
             }
            },
            "marker": {
             "colorbar": {
              "outlinewidth": 0,
              "ticks": ""
             }
            },
            "type": "scatter3d"
           }
          ],
          "scattercarpet": [
           {
            "marker": {
             "colorbar": {
              "outlinewidth": 0,
              "ticks": ""
             }
            },
            "type": "scattercarpet"
           }
          ],
          "scattergeo": [
           {
            "marker": {
             "colorbar": {
              "outlinewidth": 0,
              "ticks": ""
             }
            },
            "type": "scattergeo"
           }
          ],
          "scattergl": [
           {
            "marker": {
             "colorbar": {
              "outlinewidth": 0,
              "ticks": ""
             }
            },
            "type": "scattergl"
           }
          ],
          "scattermapbox": [
           {
            "marker": {
             "colorbar": {
              "outlinewidth": 0,
              "ticks": ""
             }
            },
            "type": "scattermapbox"
           }
          ],
          "scatterpolar": [
           {
            "marker": {
             "colorbar": {
              "outlinewidth": 0,
              "ticks": ""
             }
            },
            "type": "scatterpolar"
           }
          ],
          "scatterpolargl": [
           {
            "marker": {
             "colorbar": {
              "outlinewidth": 0,
              "ticks": ""
             }
            },
            "type": "scatterpolargl"
           }
          ],
          "scatterternary": [
           {
            "marker": {
             "colorbar": {
              "outlinewidth": 0,
              "ticks": ""
             }
            },
            "type": "scatterternary"
           }
          ],
          "surface": [
           {
            "colorbar": {
             "outlinewidth": 0,
             "ticks": ""
            },
            "colorscale": [
             [
              0,
              "#0d0887"
             ],
             [
              0.1111111111111111,
              "#46039f"
             ],
             [
              0.2222222222222222,
              "#7201a8"
             ],
             [
              0.3333333333333333,
              "#9c179e"
             ],
             [
              0.4444444444444444,
              "#bd3786"
             ],
             [
              0.5555555555555556,
              "#d8576b"
             ],
             [
              0.6666666666666666,
              "#ed7953"
             ],
             [
              0.7777777777777778,
              "#fb9f3a"
             ],
             [
              0.8888888888888888,
              "#fdca26"
             ],
             [
              1,
              "#f0f921"
             ]
            ],
            "type": "surface"
           }
          ],
          "table": [
           {
            "cells": {
             "fill": {
              "color": "#EBF0F8"
             },
             "line": {
              "color": "white"
             }
            },
            "header": {
             "fill": {
              "color": "#C8D4E3"
             },
             "line": {
              "color": "white"
             }
            },
            "type": "table"
           }
          ]
         },
         "layout": {
          "annotationdefaults": {
           "arrowcolor": "#2a3f5f",
           "arrowhead": 0,
           "arrowwidth": 1
          },
          "autotypenumbers": "strict",
          "coloraxis": {
           "colorbar": {
            "outlinewidth": 0,
            "ticks": ""
           }
          },
          "colorscale": {
           "diverging": [
            [
             0,
             "#8e0152"
            ],
            [
             0.1,
             "#c51b7d"
            ],
            [
             0.2,
             "#de77ae"
            ],
            [
             0.3,
             "#f1b6da"
            ],
            [
             0.4,
             "#fde0ef"
            ],
            [
             0.5,
             "#f7f7f7"
            ],
            [
             0.6,
             "#e6f5d0"
            ],
            [
             0.7,
             "#b8e186"
            ],
            [
             0.8,
             "#7fbc41"
            ],
            [
             0.9,
             "#4d9221"
            ],
            [
             1,
             "#276419"
            ]
           ],
           "sequential": [
            [
             0,
             "#0d0887"
            ],
            [
             0.1111111111111111,
             "#46039f"
            ],
            [
             0.2222222222222222,
             "#7201a8"
            ],
            [
             0.3333333333333333,
             "#9c179e"
            ],
            [
             0.4444444444444444,
             "#bd3786"
            ],
            [
             0.5555555555555556,
             "#d8576b"
            ],
            [
             0.6666666666666666,
             "#ed7953"
            ],
            [
             0.7777777777777778,
             "#fb9f3a"
            ],
            [
             0.8888888888888888,
             "#fdca26"
            ],
            [
             1,
             "#f0f921"
            ]
           ],
           "sequentialminus": [
            [
             0,
             "#0d0887"
            ],
            [
             0.1111111111111111,
             "#46039f"
            ],
            [
             0.2222222222222222,
             "#7201a8"
            ],
            [
             0.3333333333333333,
             "#9c179e"
            ],
            [
             0.4444444444444444,
             "#bd3786"
            ],
            [
             0.5555555555555556,
             "#d8576b"
            ],
            [
             0.6666666666666666,
             "#ed7953"
            ],
            [
             0.7777777777777778,
             "#fb9f3a"
            ],
            [
             0.8888888888888888,
             "#fdca26"
            ],
            [
             1,
             "#f0f921"
            ]
           ]
          },
          "colorway": [
           "#636efa",
           "#EF553B",
           "#00cc96",
           "#ab63fa",
           "#FFA15A",
           "#19d3f3",
           "#FF6692",
           "#B6E880",
           "#FF97FF",
           "#FECB52"
          ],
          "font": {
           "color": "#2a3f5f"
          },
          "geo": {
           "bgcolor": "white",
           "lakecolor": "white",
           "landcolor": "#E5ECF6",
           "showlakes": true,
           "showland": true,
           "subunitcolor": "white"
          },
          "hoverlabel": {
           "align": "left"
          },
          "hovermode": "closest",
          "mapbox": {
           "style": "light"
          },
          "paper_bgcolor": "white",
          "plot_bgcolor": "#E5ECF6",
          "polar": {
           "angularaxis": {
            "gridcolor": "white",
            "linecolor": "white",
            "ticks": ""
           },
           "bgcolor": "#E5ECF6",
           "radialaxis": {
            "gridcolor": "white",
            "linecolor": "white",
            "ticks": ""
           }
          },
          "scene": {
           "xaxis": {
            "backgroundcolor": "#E5ECF6",
            "gridcolor": "white",
            "gridwidth": 2,
            "linecolor": "white",
            "showbackground": true,
            "ticks": "",
            "zerolinecolor": "white"
           },
           "yaxis": {
            "backgroundcolor": "#E5ECF6",
            "gridcolor": "white",
            "gridwidth": 2,
            "linecolor": "white",
            "showbackground": true,
            "ticks": "",
            "zerolinecolor": "white"
           },
           "zaxis": {
            "backgroundcolor": "#E5ECF6",
            "gridcolor": "white",
            "gridwidth": 2,
            "linecolor": "white",
            "showbackground": true,
            "ticks": "",
            "zerolinecolor": "white"
           }
          },
          "shapedefaults": {
           "line": {
            "color": "#2a3f5f"
           }
          },
          "ternary": {
           "aaxis": {
            "gridcolor": "white",
            "linecolor": "white",
            "ticks": ""
           },
           "baxis": {
            "gridcolor": "white",
            "linecolor": "white",
            "ticks": ""
           },
           "bgcolor": "#E5ECF6",
           "caxis": {
            "gridcolor": "white",
            "linecolor": "white",
            "ticks": ""
           }
          },
          "title": {
           "x": 0.05
          },
          "xaxis": {
           "automargin": true,
           "gridcolor": "white",
           "linecolor": "white",
           "ticks": "",
           "title": {
            "standoff": 15
           },
           "zerolinecolor": "white",
           "zerolinewidth": 2
          },
          "yaxis": {
           "automargin": true,
           "gridcolor": "white",
           "linecolor": "white",
           "ticks": "",
           "title": {
            "standoff": 15
           },
           "zerolinecolor": "white",
           "zerolinewidth": 2
          }
         }
        },
        "title": {
         "text": "drought"
        },
        "width": 1600,
        "xaxis": {
         "linecolor": "rgb(102, 102, 102)",
         "showgrid": false,
         "showline": true,
         "showticklabels": true,
         "tickcolor": "rgb(102, 102, 102)",
         "tickfont": {
          "color": "rgb(102, 102, 102)"
         },
         "ticks": "outside"
        }
       }
      }
     },
     "metadata": {},
     "output_type": "display_data"
    },
    {
     "data": {
      "application/vnd.plotly.v1+json": {
       "config": {
        "plotlyServerURL": "https://plot.ly"
       },
       "data": [
        {
         "marker": {
          "color": "rgba(156, 165, 196, 0.95)",
          "line": {
           "width": 1
          },
          "size": 16,
          "symbol": "circle"
         },
         "mode": "markers",
         "name": "1",
         "type": "scatter",
         "x": [
          null,
          null,
          null,
          null,
          null,
          null,
          null,
          null,
          null,
          null,
          null,
          null,
          null,
          null,
          null,
          null,
          null,
          null,
          null,
          null,
          null,
          null,
          null,
          null,
          null,
          null,
          null,
          null,
          null,
          null,
          null,
          null,
          null,
          null,
          null,
          null,
          null,
          null,
          null,
          null,
          null,
          null,
          null,
          null,
          null,
          null,
          null,
          null,
          null,
          null,
          null,
          null,
          null,
          null
         ],
         "y": [
          "AGO",
          "ARM",
          "BEN",
          "BFA",
          "BGD",
          "BOL",
          "CIV",
          "CMR",
          "COD",
          "COM",
          "DOM",
          "EGY",
          "ETH",
          "GAB",
          "GHA",
          "GIN",
          "GMB",
          "GTM",
          "GUY",
          "HND",
          "HTI",
          "IND",
          "JOR",
          "KEN",
          "KGZ",
          "KHM",
          "LBR",
          "LSO",
          "MAR",
          "MDA",
          "MDG",
          "MLI",
          "MMR",
          "MOZ",
          "MRT",
          "MWI",
          "NAM",
          "NGA",
          "NIC",
          "PAK",
          "PER",
          "PHL",
          "SEN",
          "SLE",
          "SWZ",
          "TCD",
          "TGO",
          "TJK",
          "TLS",
          "TZA",
          "UGA",
          "ZAF",
          "ZMB",
          "ZWE"
         ]
        },
        {
         "marker": {
          "color": "rgba(156, 165, 196, 0.95)",
          "line": {
           "width": 1
          },
          "size": 16,
          "symbol": "circle"
         },
         "mode": "markers",
         "name": "2",
         "type": "scatter",
         "x": [
          null,
          null,
          null,
          null,
          null,
          null,
          null,
          null,
          null,
          null,
          null,
          null,
          null,
          null,
          null,
          null,
          null,
          null,
          null,
          null,
          null,
          null,
          null,
          null,
          null,
          null,
          null,
          null,
          null,
          null,
          null,
          null,
          null,
          null,
          null,
          null,
          null,
          null,
          null,
          null,
          null,
          null,
          null,
          null,
          null,
          null,
          null,
          null,
          null,
          null,
          null,
          null,
          null,
          null
         ],
         "y": [
          "AGO",
          "ARM",
          "BEN",
          "BFA",
          "BGD",
          "BOL",
          "CIV",
          "CMR",
          "COD",
          "COM",
          "DOM",
          "EGY",
          "ETH",
          "GAB",
          "GHA",
          "GIN",
          "GMB",
          "GTM",
          "GUY",
          "HND",
          "HTI",
          "IND",
          "JOR",
          "KEN",
          "KGZ",
          "KHM",
          "LBR",
          "LSO",
          "MAR",
          "MDA",
          "MDG",
          "MLI",
          "MMR",
          "MOZ",
          "MRT",
          "MWI",
          "NAM",
          "NGA",
          "NIC",
          "PAK",
          "PER",
          "PHL",
          "SEN",
          "SLE",
          "SWZ",
          "TCD",
          "TGO",
          "TJK",
          "TLS",
          "TZA",
          "UGA",
          "ZAF",
          "ZMB",
          "ZWE"
         ]
        },
        {
         "marker": {
          "color": "rgba(156, 165, 196, 0.95)",
          "line": {
           "width": 1
          },
          "size": 16,
          "symbol": "circle"
         },
         "mode": "markers",
         "name": "3",
         "type": "scatter",
         "x": [
          null,
          null,
          null,
          null,
          null,
          null,
          null,
          null,
          null,
          null,
          null,
          null,
          null,
          null,
          null,
          null,
          null,
          null,
          null,
          null,
          null,
          null,
          null,
          null,
          null,
          null,
          null,
          null,
          null,
          null,
          null,
          null,
          null,
          null,
          null,
          null,
          null,
          null,
          null,
          null,
          null,
          null,
          null,
          null,
          null,
          null,
          null,
          null,
          null,
          null,
          null,
          null,
          null,
          null
         ],
         "y": [
          "AGO",
          "ARM",
          "BEN",
          "BFA",
          "BGD",
          "BOL",
          "CIV",
          "CMR",
          "COD",
          "COM",
          "DOM",
          "EGY",
          "ETH",
          "GAB",
          "GHA",
          "GIN",
          "GMB",
          "GTM",
          "GUY",
          "HND",
          "HTI",
          "IND",
          "JOR",
          "KEN",
          "KGZ",
          "KHM",
          "LBR",
          "LSO",
          "MAR",
          "MDA",
          "MDG",
          "MLI",
          "MMR",
          "MOZ",
          "MRT",
          "MWI",
          "NAM",
          "NGA",
          "NIC",
          "PAK",
          "PER",
          "PHL",
          "SEN",
          "SLE",
          "SWZ",
          "TCD",
          "TGO",
          "TJK",
          "TLS",
          "TZA",
          "UGA",
          "ZAF",
          "ZMB",
          "ZWE"
         ]
        },
        {
         "marker": {
          "color": "rgba(156, 165, 196, 0.95)",
          "line": {
           "width": 1
          },
          "size": 16,
          "symbol": "circle"
         },
         "mode": "markers",
         "name": "4",
         "type": "scatter",
         "x": [
          null,
          null,
          null,
          null,
          null,
          null,
          null,
          null,
          null,
          null,
          null,
          null,
          null,
          null,
          null,
          null,
          null,
          null,
          null,
          null,
          null,
          null,
          null,
          null,
          null,
          null,
          null,
          null,
          null,
          null,
          null,
          null,
          null,
          null,
          null,
          null,
          null,
          null,
          null,
          null,
          null,
          null,
          null,
          null,
          null,
          null,
          null,
          null,
          null,
          null,
          null,
          null,
          null,
          null
         ],
         "y": [
          "AGO",
          "ARM",
          "BEN",
          "BFA",
          "BGD",
          "BOL",
          "CIV",
          "CMR",
          "COD",
          "COM",
          "DOM",
          "EGY",
          "ETH",
          "GAB",
          "GHA",
          "GIN",
          "GMB",
          "GTM",
          "GUY",
          "HND",
          "HTI",
          "IND",
          "JOR",
          "KEN",
          "KGZ",
          "KHM",
          "LBR",
          "LSO",
          "MAR",
          "MDA",
          "MDG",
          "MLI",
          "MMR",
          "MOZ",
          "MRT",
          "MWI",
          "NAM",
          "NGA",
          "NIC",
          "PAK",
          "PER",
          "PHL",
          "SEN",
          "SLE",
          "SWZ",
          "TCD",
          "TGO",
          "TJK",
          "TLS",
          "TZA",
          "UGA",
          "ZAF",
          "ZMB",
          "ZWE"
         ]
        },
        {
         "marker": {
          "color": "rgba(204, 204, 204, 0.95)",
          "line": {
           "width": 1
          },
          "size": 16,
          "symbol": "circle"
         },
         "mode": "markers",
         "name": "5",
         "type": "scatter",
         "x": [
          null,
          null,
          null,
          null,
          null,
          null,
          null,
          null,
          null,
          null,
          null,
          null,
          null,
          null,
          null,
          null,
          null,
          null,
          null,
          null,
          null,
          null,
          null,
          null,
          null,
          null,
          null,
          null,
          null,
          null,
          null,
          null,
          null,
          null,
          null,
          null,
          null,
          null,
          null,
          null,
          null,
          null,
          null,
          null,
          null,
          null,
          null,
          null,
          null,
          null,
          null,
          null,
          null,
          null
         ],
         "y": [
          "AGO",
          "ARM",
          "BEN",
          "BFA",
          "BGD",
          "BOL",
          "CIV",
          "CMR",
          "COD",
          "COM",
          "DOM",
          "EGY",
          "ETH",
          "GAB",
          "GHA",
          "GIN",
          "GMB",
          "GTM",
          "GUY",
          "HND",
          "HTI",
          "IND",
          "JOR",
          "KEN",
          "KGZ",
          "KHM",
          "LBR",
          "LSO",
          "MAR",
          "MDA",
          "MDG",
          "MLI",
          "MMR",
          "MOZ",
          "MRT",
          "MWI",
          "NAM",
          "NGA",
          "NIC",
          "PAK",
          "PER",
          "PHL",
          "SEN",
          "SLE",
          "SWZ",
          "TCD",
          "TGO",
          "TJK",
          "TLS",
          "TZA",
          "UGA",
          "ZAF",
          "ZMB",
          "ZWE"
         ]
        },
        {
         "marker": {
          "color": "rgba(204, 204, 204, 0.95)",
          "line": {
           "width": 1
          },
          "size": 16,
          "symbol": "circle"
         },
         "mode": "markers",
         "name": "6",
         "type": "scatter",
         "x": [
          null,
          null,
          null,
          null,
          null,
          null,
          null,
          null,
          null,
          null,
          null,
          null,
          null,
          null,
          null,
          null,
          null,
          null,
          null,
          null,
          null,
          null,
          null,
          null,
          null,
          null,
          null,
          null,
          null,
          null,
          null,
          null,
          null,
          null,
          null,
          null,
          null,
          null,
          null,
          null,
          null,
          null,
          null,
          null,
          null,
          null,
          null,
          null,
          null,
          null,
          null,
          null,
          null,
          null
         ],
         "y": [
          "AGO",
          "ARM",
          "BEN",
          "BFA",
          "BGD",
          "BOL",
          "CIV",
          "CMR",
          "COD",
          "COM",
          "DOM",
          "EGY",
          "ETH",
          "GAB",
          "GHA",
          "GIN",
          "GMB",
          "GTM",
          "GUY",
          "HND",
          "HTI",
          "IND",
          "JOR",
          "KEN",
          "KGZ",
          "KHM",
          "LBR",
          "LSO",
          "MAR",
          "MDA",
          "MDG",
          "MLI",
          "MMR",
          "MOZ",
          "MRT",
          "MWI",
          "NAM",
          "NGA",
          "NIC",
          "PAK",
          "PER",
          "PHL",
          "SEN",
          "SLE",
          "SWZ",
          "TCD",
          "TGO",
          "TJK",
          "TLS",
          "TZA",
          "UGA",
          "ZAF",
          "ZMB",
          "ZWE"
         ]
        },
        {
         "marker": {
          "color": "rgba(204, 204, 204, 0.95)",
          "line": {
           "width": 1
          },
          "size": 16,
          "symbol": "circle"
         },
         "mode": "markers",
         "name": "7",
         "type": "scatter",
         "x": [
          null,
          null,
          null,
          null,
          null,
          null,
          null,
          null,
          null,
          null,
          null,
          null,
          null,
          null,
          null,
          null,
          null,
          null,
          null,
          null,
          null,
          null,
          null,
          null,
          null,
          null,
          null,
          null,
          null,
          null,
          null,
          null,
          null,
          null,
          null,
          null,
          null,
          null,
          null,
          null,
          null,
          null,
          null,
          null,
          null,
          null,
          null,
          null,
          null,
          null,
          null,
          null,
          null,
          null
         ],
         "y": [
          "AGO",
          "ARM",
          "BEN",
          "BFA",
          "BGD",
          "BOL",
          "CIV",
          "CMR",
          "COD",
          "COM",
          "DOM",
          "EGY",
          "ETH",
          "GAB",
          "GHA",
          "GIN",
          "GMB",
          "GTM",
          "GUY",
          "HND",
          "HTI",
          "IND",
          "JOR",
          "KEN",
          "KGZ",
          "KHM",
          "LBR",
          "LSO",
          "MAR",
          "MDA",
          "MDG",
          "MLI",
          "MMR",
          "MOZ",
          "MRT",
          "MWI",
          "NAM",
          "NGA",
          "NIC",
          "PAK",
          "PER",
          "PHL",
          "SEN",
          "SLE",
          "SWZ",
          "TCD",
          "TGO",
          "TJK",
          "TLS",
          "TZA",
          "UGA",
          "ZAF",
          "ZMB",
          "ZWE"
         ]
        },
        {
         "marker": {
          "color": "rgba(204, 204, 204, 0.95)",
          "line": {
           "width": 1
          },
          "size": 16,
          "symbol": "circle"
         },
         "mode": "markers",
         "name": "8",
         "type": "scatter",
         "x": [
          null,
          null,
          null,
          null,
          null,
          null,
          null,
          null,
          null,
          null,
          null,
          null,
          null,
          null,
          null,
          null,
          null,
          null,
          null,
          null,
          null,
          null,
          null,
          null,
          null,
          null,
          null,
          null,
          null,
          null,
          null,
          null,
          null,
          null,
          null,
          null,
          null,
          null,
          null,
          null,
          null,
          null,
          null,
          null,
          null,
          null,
          null,
          null,
          null,
          null,
          null,
          null,
          null,
          null
         ],
         "y": [
          "AGO",
          "ARM",
          "BEN",
          "BFA",
          "BGD",
          "BOL",
          "CIV",
          "CMR",
          "COD",
          "COM",
          "DOM",
          "EGY",
          "ETH",
          "GAB",
          "GHA",
          "GIN",
          "GMB",
          "GTM",
          "GUY",
          "HND",
          "HTI",
          "IND",
          "JOR",
          "KEN",
          "KGZ",
          "KHM",
          "LBR",
          "LSO",
          "MAR",
          "MDA",
          "MDG",
          "MLI",
          "MMR",
          "MOZ",
          "MRT",
          "MWI",
          "NAM",
          "NGA",
          "NIC",
          "PAK",
          "PER",
          "PHL",
          "SEN",
          "SLE",
          "SWZ",
          "TCD",
          "TGO",
          "TJK",
          "TLS",
          "TZA",
          "UGA",
          "ZAF",
          "ZMB",
          "ZWE"
         ]
        },
        {
         "marker": {
          "color": "rgba(255, 166, 86, 0.95)",
          "line": {
           "width": 1
          },
          "size": 16,
          "symbol": "circle"
         },
         "mode": "markers",
         "name": "9",
         "type": "scatter",
         "x": [
          null,
          null,
          null,
          null,
          null,
          null,
          null,
          null,
          null,
          null,
          null,
          null,
          null,
          null,
          null,
          null,
          null,
          null,
          null,
          null,
          null,
          null,
          null,
          null,
          null,
          null,
          null,
          null,
          null,
          null,
          null,
          null,
          null,
          null,
          null,
          null,
          null,
          null,
          null,
          null,
          null,
          null,
          null,
          null,
          null,
          null,
          null,
          null,
          null,
          null,
          null,
          null,
          null,
          null
         ],
         "y": [
          "AGO",
          "ARM",
          "BEN",
          "BFA",
          "BGD",
          "BOL",
          "CIV",
          "CMR",
          "COD",
          "COM",
          "DOM",
          "EGY",
          "ETH",
          "GAB",
          "GHA",
          "GIN",
          "GMB",
          "GTM",
          "GUY",
          "HND",
          "HTI",
          "IND",
          "JOR",
          "KEN",
          "KGZ",
          "KHM",
          "LBR",
          "LSO",
          "MAR",
          "MDA",
          "MDG",
          "MLI",
          "MMR",
          "MOZ",
          "MRT",
          "MWI",
          "NAM",
          "NGA",
          "NIC",
          "PAK",
          "PER",
          "PHL",
          "SEN",
          "SLE",
          "SWZ",
          "TCD",
          "TGO",
          "TJK",
          "TLS",
          "TZA",
          "UGA",
          "ZAF",
          "ZMB",
          "ZWE"
         ]
        },
        {
         "marker": {
          "color": "rgba(255, 166, 86, 0.95)",
          "line": {
           "width": 1
          },
          "size": 16,
          "symbol": "circle"
         },
         "mode": "markers",
         "name": "10",
         "type": "scatter",
         "x": [
          null,
          null,
          null,
          null,
          null,
          null,
          null,
          null,
          null,
          null,
          null,
          null,
          null,
          null,
          null,
          null,
          null,
          null,
          null,
          null,
          null,
          null,
          null,
          null,
          null,
          null,
          null,
          null,
          null,
          null,
          null,
          null,
          null,
          null,
          null,
          null,
          null,
          null,
          null,
          null,
          null,
          null,
          null,
          null,
          null,
          null,
          null,
          null,
          null,
          null,
          null,
          null,
          null,
          null
         ],
         "y": [
          "AGO",
          "ARM",
          "BEN",
          "BFA",
          "BGD",
          "BOL",
          "CIV",
          "CMR",
          "COD",
          "COM",
          "DOM",
          "EGY",
          "ETH",
          "GAB",
          "GHA",
          "GIN",
          "GMB",
          "GTM",
          "GUY",
          "HND",
          "HTI",
          "IND",
          "JOR",
          "KEN",
          "KGZ",
          "KHM",
          "LBR",
          "LSO",
          "MAR",
          "MDA",
          "MDG",
          "MLI",
          "MMR",
          "MOZ",
          "MRT",
          "MWI",
          "NAM",
          "NGA",
          "NIC",
          "PAK",
          "PER",
          "PHL",
          "SEN",
          "SLE",
          "SWZ",
          "TCD",
          "TGO",
          "TJK",
          "TLS",
          "TZA",
          "UGA",
          "ZAF",
          "ZMB",
          "ZWE"
         ]
        },
        {
         "marker": {
          "color": "rgba(255, 166, 86, 0.95)",
          "line": {
           "width": 1
          },
          "size": 16,
          "symbol": "circle"
         },
         "mode": "markers",
         "name": "11",
         "type": "scatter",
         "x": [
          null,
          null,
          null,
          null,
          null,
          null,
          null,
          null,
          null,
          null,
          null,
          null,
          null,
          null,
          null,
          null,
          null,
          null,
          null,
          null,
          null,
          null,
          null,
          null,
          null,
          null,
          null,
          null,
          null,
          null,
          null,
          null,
          null,
          null,
          null,
          null,
          null,
          null,
          null,
          null,
          null,
          null,
          null,
          null,
          null,
          null,
          null,
          null,
          null,
          null,
          null,
          null,
          null,
          null
         ],
         "y": [
          "AGO",
          "ARM",
          "BEN",
          "BFA",
          "BGD",
          "BOL",
          "CIV",
          "CMR",
          "COD",
          "COM",
          "DOM",
          "EGY",
          "ETH",
          "GAB",
          "GHA",
          "GIN",
          "GMB",
          "GTM",
          "GUY",
          "HND",
          "HTI",
          "IND",
          "JOR",
          "KEN",
          "KGZ",
          "KHM",
          "LBR",
          "LSO",
          "MAR",
          "MDA",
          "MDG",
          "MLI",
          "MMR",
          "MOZ",
          "MRT",
          "MWI",
          "NAM",
          "NGA",
          "NIC",
          "PAK",
          "PER",
          "PHL",
          "SEN",
          "SLE",
          "SWZ",
          "TCD",
          "TGO",
          "TJK",
          "TLS",
          "TZA",
          "UGA",
          "ZAF",
          "ZMB",
          "ZWE"
         ]
        },
        {
         "marker": {
          "color": "rgba(255, 166, 86, 0.95)",
          "line": {
           "width": 1
          },
          "size": 16,
          "symbol": "circle"
         },
         "mode": "markers",
         "name": "12",
         "type": "scatter",
         "x": [
          null,
          null,
          null,
          null,
          null,
          null,
          null,
          null,
          null,
          null,
          null,
          null,
          null,
          null,
          null,
          null,
          null,
          null,
          null,
          null,
          null,
          null,
          null,
          null,
          null,
          null,
          null,
          null,
          null,
          null,
          null,
          null,
          null,
          null,
          null,
          null,
          null,
          null,
          null,
          null,
          null,
          null,
          null,
          null,
          null,
          null,
          null,
          null,
          null,
          null,
          null,
          null,
          null,
          null
         ],
         "y": [
          "AGO",
          "ARM",
          "BEN",
          "BFA",
          "BGD",
          "BOL",
          "CIV",
          "CMR",
          "COD",
          "COM",
          "DOM",
          "EGY",
          "ETH",
          "GAB",
          "GHA",
          "GIN",
          "GMB",
          "GTM",
          "GUY",
          "HND",
          "HTI",
          "IND",
          "JOR",
          "KEN",
          "KGZ",
          "KHM",
          "LBR",
          "LSO",
          "MAR",
          "MDA",
          "MDG",
          "MLI",
          "MMR",
          "MOZ",
          "MRT",
          "MWI",
          "NAM",
          "NGA",
          "NIC",
          "PAK",
          "PER",
          "PHL",
          "SEN",
          "SLE",
          "SWZ",
          "TCD",
          "TGO",
          "TJK",
          "TLS",
          "TZA",
          "UGA",
          "ZAF",
          "ZMB",
          "ZWE"
         ]
        },
        {
         "marker": {
          "color": "rgba(240, 230, 140, 0.95)",
          "line": {
           "width": 1
          },
          "size": 16,
          "symbol": "circle"
         },
         "mode": "markers",
         "name": "13",
         "type": "scatter",
         "x": [
          null,
          null,
          null,
          null,
          13.459,
          null,
          null,
          null,
          -20.395,
          null,
          -10.95,
          null,
          null,
          null,
          null,
          547.531,
          null,
          null,
          null,
          null,
          null,
          null,
          null,
          null,
          null,
          null,
          null,
          null,
          null,
          null,
          null,
          null,
          null,
          null,
          null,
          -44.834,
          null,
          null,
          null,
          null,
          null,
          null,
          null,
          -43.403,
          null,
          null,
          null,
          null,
          null,
          null,
          null,
          null,
          null,
          null
         ],
         "y": [
          "AGO",
          "ARM",
          "BEN",
          "BFA",
          "BGD",
          "BOL",
          "CIV",
          "CMR",
          "COD",
          "COM",
          "DOM",
          "EGY",
          "ETH",
          "GAB",
          "GHA",
          "GIN",
          "GMB",
          "GTM",
          "GUY",
          "HND",
          "HTI",
          "IND",
          "JOR",
          "KEN",
          "KGZ",
          "KHM",
          "LBR",
          "LSO",
          "MAR",
          "MDA",
          "MDG",
          "MLI",
          "MMR",
          "MOZ",
          "MRT",
          "MWI",
          "NAM",
          "NGA",
          "NIC",
          "PAK",
          "PER",
          "PHL",
          "SEN",
          "SLE",
          "SWZ",
          "TCD",
          "TGO",
          "TJK",
          "TLS",
          "TZA",
          "UGA",
          "ZAF",
          "ZMB",
          "ZWE"
         ]
        },
        {
         "marker": {
          "color": "rgba(240, 230, 140, 0.95)",
          "line": {
           "width": 1
          },
          "size": 16,
          "symbol": "circle"
         },
         "mode": "markers",
         "name": "14",
         "type": "scatter",
         "x": [
          null,
          null,
          null,
          null,
          4.098,
          null,
          null,
          null,
          -21.191,
          null,
          -8.634,
          null,
          -10.583,
          null,
          null,
          null,
          null,
          null,
          null,
          null,
          null,
          null,
          -2.101,
          null,
          null,
          -6.668,
          59.119,
          null,
          null,
          null,
          null,
          null,
          null,
          null,
          null,
          null,
          null,
          null,
          null,
          null,
          -9.467,
          null,
          null,
          -27.192,
          null,
          null,
          -14.736,
          null,
          null,
          -19.462,
          null,
          null,
          null,
          null
         ],
         "y": [
          "AGO",
          "ARM",
          "BEN",
          "BFA",
          "BGD",
          "BOL",
          "CIV",
          "CMR",
          "COD",
          "COM",
          "DOM",
          "EGY",
          "ETH",
          "GAB",
          "GHA",
          "GIN",
          "GMB",
          "GTM",
          "GUY",
          "HND",
          "HTI",
          "IND",
          "JOR",
          "KEN",
          "KGZ",
          "KHM",
          "LBR",
          "LSO",
          "MAR",
          "MDA",
          "MDG",
          "MLI",
          "MMR",
          "MOZ",
          "MRT",
          "MWI",
          "NAM",
          "NGA",
          "NIC",
          "PAK",
          "PER",
          "PHL",
          "SEN",
          "SLE",
          "SWZ",
          "TCD",
          "TGO",
          "TJK",
          "TLS",
          "TZA",
          "UGA",
          "ZAF",
          "ZMB",
          "ZWE"
         ]
        },
        {
         "marker": {
          "color": "rgba(240, 230, 140, 0.95)",
          "line": {
           "width": 1
          },
          "size": 16,
          "symbol": "circle"
         },
         "mode": "markers",
         "name": "15",
         "type": "scatter",
         "x": [
          null,
          null,
          -16.981,
          null,
          3.71,
          null,
          null,
          -26.114,
          -24.405,
          null,
          -7.594,
          null,
          null,
          null,
          null,
          301.044,
          null,
          null,
          null,
          null,
          null,
          null,
          -1.771,
          null,
          null,
          -8.729,
          64.495,
          null,
          null,
          null,
          null,
          null,
          null,
          null,
          null,
          -20.346,
          null,
          null,
          null,
          null,
          -10.684,
          null,
          null,
          -28.197,
          null,
          null,
          -12.25,
          -7.197,
          null,
          -16.316,
          null,
          -13.595,
          null,
          null
         ],
         "y": [
          "AGO",
          "ARM",
          "BEN",
          "BFA",
          "BGD",
          "BOL",
          "CIV",
          "CMR",
          "COD",
          "COM",
          "DOM",
          "EGY",
          "ETH",
          "GAB",
          "GHA",
          "GIN",
          "GMB",
          "GTM",
          "GUY",
          "HND",
          "HTI",
          "IND",
          "JOR",
          "KEN",
          "KGZ",
          "KHM",
          "LBR",
          "LSO",
          "MAR",
          "MDA",
          "MDG",
          "MLI",
          "MMR",
          "MOZ",
          "MRT",
          "MWI",
          "NAM",
          "NGA",
          "NIC",
          "PAK",
          "PER",
          "PHL",
          "SEN",
          "SLE",
          "SWZ",
          "TCD",
          "TGO",
          "TJK",
          "TLS",
          "TZA",
          "UGA",
          "ZAF",
          "ZMB",
          "ZWE"
         ]
        },
        {
         "marker": {
          "color": "rgba(240, 230, 140, 0.95)",
          "line": {
           "width": 1
          },
          "size": 16,
          "symbol": "circle"
         },
         "mode": "markers",
         "name": "16",
         "type": "scatter",
         "x": [
          null,
          null,
          -20.458,
          null,
          null,
          -41.319,
          -27.05,
          -19.581,
          -58.109,
          null,
          -7.177,
          null,
          -8.723,
          null,
          -16.421,
          272.017,
          null,
          null,
          null,
          null,
          null,
          -4.253,
          -1.768,
          null,
          null,
          -5.082,
          64.058,
          null,
          -8.583,
          null,
          null,
          null,
          null,
          null,
          null,
          -13.741,
          null,
          null,
          null,
          null,
          -11.859,
          -4.215,
          null,
          -27.106,
          null,
          null,
          null,
          -8.981,
          null,
          -17.607,
          null,
          null,
          -15.409,
          null
         ],
         "y": [
          "AGO",
          "ARM",
          "BEN",
          "BFA",
          "BGD",
          "BOL",
          "CIV",
          "CMR",
          "COD",
          "COM",
          "DOM",
          "EGY",
          "ETH",
          "GAB",
          "GHA",
          "GIN",
          "GMB",
          "GTM",
          "GUY",
          "HND",
          "HTI",
          "IND",
          "JOR",
          "KEN",
          "KGZ",
          "KHM",
          "LBR",
          "LSO",
          "MAR",
          "MDA",
          "MDG",
          "MLI",
          "MMR",
          "MOZ",
          "MRT",
          "MWI",
          "NAM",
          "NGA",
          "NIC",
          "PAK",
          "PER",
          "PHL",
          "SEN",
          "SLE",
          "SWZ",
          "TCD",
          "TGO",
          "TJK",
          "TLS",
          "TZA",
          "UGA",
          "ZAF",
          "ZMB",
          "ZWE"
         ]
        }
       ],
       "layout": {
        "height": 600,
        "hovermode": "closest",
        "legend": {
         "font": {
          "size": 10
         },
         "xanchor": "center",
         "yanchor": "top"
        },
        "margin": {
         "b": 50,
         "l": 140,
         "r": 40,
         "t": 80
        },
        "paper_bgcolor": "white",
        "plot_bgcolor": "white",
        "shapes": [
         {
          "line": {
           "color": "red",
           "dash": "dashdot",
           "width": 2
          },
          "type": "line",
          "x0": 0,
          "x1": 0,
          "y0": 0,
          "y1": 54
         }
        ],
        "template": {
         "data": {
          "bar": [
           {
            "error_x": {
             "color": "#2a3f5f"
            },
            "error_y": {
             "color": "#2a3f5f"
            },
            "marker": {
             "line": {
              "color": "#E5ECF6",
              "width": 0.5
             },
             "pattern": {
              "fillmode": "overlay",
              "size": 10,
              "solidity": 0.2
             }
            },
            "type": "bar"
           }
          ],
          "barpolar": [
           {
            "marker": {
             "line": {
              "color": "#E5ECF6",
              "width": 0.5
             },
             "pattern": {
              "fillmode": "overlay",
              "size": 10,
              "solidity": 0.2
             }
            },
            "type": "barpolar"
           }
          ],
          "carpet": [
           {
            "aaxis": {
             "endlinecolor": "#2a3f5f",
             "gridcolor": "white",
             "linecolor": "white",
             "minorgridcolor": "white",
             "startlinecolor": "#2a3f5f"
            },
            "baxis": {
             "endlinecolor": "#2a3f5f",
             "gridcolor": "white",
             "linecolor": "white",
             "minorgridcolor": "white",
             "startlinecolor": "#2a3f5f"
            },
            "type": "carpet"
           }
          ],
          "choropleth": [
           {
            "colorbar": {
             "outlinewidth": 0,
             "ticks": ""
            },
            "type": "choropleth"
           }
          ],
          "contour": [
           {
            "colorbar": {
             "outlinewidth": 0,
             "ticks": ""
            },
            "colorscale": [
             [
              0,
              "#0d0887"
             ],
             [
              0.1111111111111111,
              "#46039f"
             ],
             [
              0.2222222222222222,
              "#7201a8"
             ],
             [
              0.3333333333333333,
              "#9c179e"
             ],
             [
              0.4444444444444444,
              "#bd3786"
             ],
             [
              0.5555555555555556,
              "#d8576b"
             ],
             [
              0.6666666666666666,
              "#ed7953"
             ],
             [
              0.7777777777777778,
              "#fb9f3a"
             ],
             [
              0.8888888888888888,
              "#fdca26"
             ],
             [
              1,
              "#f0f921"
             ]
            ],
            "type": "contour"
           }
          ],
          "contourcarpet": [
           {
            "colorbar": {
             "outlinewidth": 0,
             "ticks": ""
            },
            "type": "contourcarpet"
           }
          ],
          "heatmap": [
           {
            "colorbar": {
             "outlinewidth": 0,
             "ticks": ""
            },
            "colorscale": [
             [
              0,
              "#0d0887"
             ],
             [
              0.1111111111111111,
              "#46039f"
             ],
             [
              0.2222222222222222,
              "#7201a8"
             ],
             [
              0.3333333333333333,
              "#9c179e"
             ],
             [
              0.4444444444444444,
              "#bd3786"
             ],
             [
              0.5555555555555556,
              "#d8576b"
             ],
             [
              0.6666666666666666,
              "#ed7953"
             ],
             [
              0.7777777777777778,
              "#fb9f3a"
             ],
             [
              0.8888888888888888,
              "#fdca26"
             ],
             [
              1,
              "#f0f921"
             ]
            ],
            "type": "heatmap"
           }
          ],
          "heatmapgl": [
           {
            "colorbar": {
             "outlinewidth": 0,
             "ticks": ""
            },
            "colorscale": [
             [
              0,
              "#0d0887"
             ],
             [
              0.1111111111111111,
              "#46039f"
             ],
             [
              0.2222222222222222,
              "#7201a8"
             ],
             [
              0.3333333333333333,
              "#9c179e"
             ],
             [
              0.4444444444444444,
              "#bd3786"
             ],
             [
              0.5555555555555556,
              "#d8576b"
             ],
             [
              0.6666666666666666,
              "#ed7953"
             ],
             [
              0.7777777777777778,
              "#fb9f3a"
             ],
             [
              0.8888888888888888,
              "#fdca26"
             ],
             [
              1,
              "#f0f921"
             ]
            ],
            "type": "heatmapgl"
           }
          ],
          "histogram": [
           {
            "marker": {
             "pattern": {
              "fillmode": "overlay",
              "size": 10,
              "solidity": 0.2
             }
            },
            "type": "histogram"
           }
          ],
          "histogram2d": [
           {
            "colorbar": {
             "outlinewidth": 0,
             "ticks": ""
            },
            "colorscale": [
             [
              0,
              "#0d0887"
             ],
             [
              0.1111111111111111,
              "#46039f"
             ],
             [
              0.2222222222222222,
              "#7201a8"
             ],
             [
              0.3333333333333333,
              "#9c179e"
             ],
             [
              0.4444444444444444,
              "#bd3786"
             ],
             [
              0.5555555555555556,
              "#d8576b"
             ],
             [
              0.6666666666666666,
              "#ed7953"
             ],
             [
              0.7777777777777778,
              "#fb9f3a"
             ],
             [
              0.8888888888888888,
              "#fdca26"
             ],
             [
              1,
              "#f0f921"
             ]
            ],
            "type": "histogram2d"
           }
          ],
          "histogram2dcontour": [
           {
            "colorbar": {
             "outlinewidth": 0,
             "ticks": ""
            },
            "colorscale": [
             [
              0,
              "#0d0887"
             ],
             [
              0.1111111111111111,
              "#46039f"
             ],
             [
              0.2222222222222222,
              "#7201a8"
             ],
             [
              0.3333333333333333,
              "#9c179e"
             ],
             [
              0.4444444444444444,
              "#bd3786"
             ],
             [
              0.5555555555555556,
              "#d8576b"
             ],
             [
              0.6666666666666666,
              "#ed7953"
             ],
             [
              0.7777777777777778,
              "#fb9f3a"
             ],
             [
              0.8888888888888888,
              "#fdca26"
             ],
             [
              1,
              "#f0f921"
             ]
            ],
            "type": "histogram2dcontour"
           }
          ],
          "mesh3d": [
           {
            "colorbar": {
             "outlinewidth": 0,
             "ticks": ""
            },
            "type": "mesh3d"
           }
          ],
          "parcoords": [
           {
            "line": {
             "colorbar": {
              "outlinewidth": 0,
              "ticks": ""
             }
            },
            "type": "parcoords"
           }
          ],
          "pie": [
           {
            "automargin": true,
            "type": "pie"
           }
          ],
          "scatter": [
           {
            "fillpattern": {
             "fillmode": "overlay",
             "size": 10,
             "solidity": 0.2
            },
            "type": "scatter"
           }
          ],
          "scatter3d": [
           {
            "line": {
             "colorbar": {
              "outlinewidth": 0,
              "ticks": ""
             }
            },
            "marker": {
             "colorbar": {
              "outlinewidth": 0,
              "ticks": ""
             }
            },
            "type": "scatter3d"
           }
          ],
          "scattercarpet": [
           {
            "marker": {
             "colorbar": {
              "outlinewidth": 0,
              "ticks": ""
             }
            },
            "type": "scattercarpet"
           }
          ],
          "scattergeo": [
           {
            "marker": {
             "colorbar": {
              "outlinewidth": 0,
              "ticks": ""
             }
            },
            "type": "scattergeo"
           }
          ],
          "scattergl": [
           {
            "marker": {
             "colorbar": {
              "outlinewidth": 0,
              "ticks": ""
             }
            },
            "type": "scattergl"
           }
          ],
          "scattermapbox": [
           {
            "marker": {
             "colorbar": {
              "outlinewidth": 0,
              "ticks": ""
             }
            },
            "type": "scattermapbox"
           }
          ],
          "scatterpolar": [
           {
            "marker": {
             "colorbar": {
              "outlinewidth": 0,
              "ticks": ""
             }
            },
            "type": "scatterpolar"
           }
          ],
          "scatterpolargl": [
           {
            "marker": {
             "colorbar": {
              "outlinewidth": 0,
              "ticks": ""
             }
            },
            "type": "scatterpolargl"
           }
          ],
          "scatterternary": [
           {
            "marker": {
             "colorbar": {
              "outlinewidth": 0,
              "ticks": ""
             }
            },
            "type": "scatterternary"
           }
          ],
          "surface": [
           {
            "colorbar": {
             "outlinewidth": 0,
             "ticks": ""
            },
            "colorscale": [
             [
              0,
              "#0d0887"
             ],
             [
              0.1111111111111111,
              "#46039f"
             ],
             [
              0.2222222222222222,
              "#7201a8"
             ],
             [
              0.3333333333333333,
              "#9c179e"
             ],
             [
              0.4444444444444444,
              "#bd3786"
             ],
             [
              0.5555555555555556,
              "#d8576b"
             ],
             [
              0.6666666666666666,
              "#ed7953"
             ],
             [
              0.7777777777777778,
              "#fb9f3a"
             ],
             [
              0.8888888888888888,
              "#fdca26"
             ],
             [
              1,
              "#f0f921"
             ]
            ],
            "type": "surface"
           }
          ],
          "table": [
           {
            "cells": {
             "fill": {
              "color": "#EBF0F8"
             },
             "line": {
              "color": "white"
             }
            },
            "header": {
             "fill": {
              "color": "#C8D4E3"
             },
             "line": {
              "color": "white"
             }
            },
            "type": "table"
           }
          ]
         },
         "layout": {
          "annotationdefaults": {
           "arrowcolor": "#2a3f5f",
           "arrowhead": 0,
           "arrowwidth": 1
          },
          "autotypenumbers": "strict",
          "coloraxis": {
           "colorbar": {
            "outlinewidth": 0,
            "ticks": ""
           }
          },
          "colorscale": {
           "diverging": [
            [
             0,
             "#8e0152"
            ],
            [
             0.1,
             "#c51b7d"
            ],
            [
             0.2,
             "#de77ae"
            ],
            [
             0.3,
             "#f1b6da"
            ],
            [
             0.4,
             "#fde0ef"
            ],
            [
             0.5,
             "#f7f7f7"
            ],
            [
             0.6,
             "#e6f5d0"
            ],
            [
             0.7,
             "#b8e186"
            ],
            [
             0.8,
             "#7fbc41"
            ],
            [
             0.9,
             "#4d9221"
            ],
            [
             1,
             "#276419"
            ]
           ],
           "sequential": [
            [
             0,
             "#0d0887"
            ],
            [
             0.1111111111111111,
             "#46039f"
            ],
            [
             0.2222222222222222,
             "#7201a8"
            ],
            [
             0.3333333333333333,
             "#9c179e"
            ],
            [
             0.4444444444444444,
             "#bd3786"
            ],
            [
             0.5555555555555556,
             "#d8576b"
            ],
            [
             0.6666666666666666,
             "#ed7953"
            ],
            [
             0.7777777777777778,
             "#fb9f3a"
            ],
            [
             0.8888888888888888,
             "#fdca26"
            ],
            [
             1,
             "#f0f921"
            ]
           ],
           "sequentialminus": [
            [
             0,
             "#0d0887"
            ],
            [
             0.1111111111111111,
             "#46039f"
            ],
            [
             0.2222222222222222,
             "#7201a8"
            ],
            [
             0.3333333333333333,
             "#9c179e"
            ],
            [
             0.4444444444444444,
             "#bd3786"
            ],
            [
             0.5555555555555556,
             "#d8576b"
            ],
            [
             0.6666666666666666,
             "#ed7953"
            ],
            [
             0.7777777777777778,
             "#fb9f3a"
            ],
            [
             0.8888888888888888,
             "#fdca26"
            ],
            [
             1,
             "#f0f921"
            ]
           ]
          },
          "colorway": [
           "#636efa",
           "#EF553B",
           "#00cc96",
           "#ab63fa",
           "#FFA15A",
           "#19d3f3",
           "#FF6692",
           "#B6E880",
           "#FF97FF",
           "#FECB52"
          ],
          "font": {
           "color": "#2a3f5f"
          },
          "geo": {
           "bgcolor": "white",
           "lakecolor": "white",
           "landcolor": "#E5ECF6",
           "showlakes": true,
           "showland": true,
           "subunitcolor": "white"
          },
          "hoverlabel": {
           "align": "left"
          },
          "hovermode": "closest",
          "mapbox": {
           "style": "light"
          },
          "paper_bgcolor": "white",
          "plot_bgcolor": "#E5ECF6",
          "polar": {
           "angularaxis": {
            "gridcolor": "white",
            "linecolor": "white",
            "ticks": ""
           },
           "bgcolor": "#E5ECF6",
           "radialaxis": {
            "gridcolor": "white",
            "linecolor": "white",
            "ticks": ""
           }
          },
          "scene": {
           "xaxis": {
            "backgroundcolor": "#E5ECF6",
            "gridcolor": "white",
            "gridwidth": 2,
            "linecolor": "white",
            "showbackground": true,
            "ticks": "",
            "zerolinecolor": "white"
           },
           "yaxis": {
            "backgroundcolor": "#E5ECF6",
            "gridcolor": "white",
            "gridwidth": 2,
            "linecolor": "white",
            "showbackground": true,
            "ticks": "",
            "zerolinecolor": "white"
           },
           "zaxis": {
            "backgroundcolor": "#E5ECF6",
            "gridcolor": "white",
            "gridwidth": 2,
            "linecolor": "white",
            "showbackground": true,
            "ticks": "",
            "zerolinecolor": "white"
           }
          },
          "shapedefaults": {
           "line": {
            "color": "#2a3f5f"
           }
          },
          "ternary": {
           "aaxis": {
            "gridcolor": "white",
            "linecolor": "white",
            "ticks": ""
           },
           "baxis": {
            "gridcolor": "white",
            "linecolor": "white",
            "ticks": ""
           },
           "bgcolor": "#E5ECF6",
           "caxis": {
            "gridcolor": "white",
            "linecolor": "white",
            "ticks": ""
           }
          },
          "title": {
           "x": 0.05
          },
          "xaxis": {
           "automargin": true,
           "gridcolor": "white",
           "linecolor": "white",
           "ticks": "",
           "title": {
            "standoff": 15
           },
           "zerolinecolor": "white",
           "zerolinewidth": 2
          },
          "yaxis": {
           "automargin": true,
           "gridcolor": "white",
           "linecolor": "white",
           "ticks": "",
           "title": {
            "standoff": 15
           },
           "zerolinecolor": "white",
           "zerolinewidth": 2
          }
         }
        },
        "title": {
         "text": "drought"
        },
        "width": 1600,
        "xaxis": {
         "linecolor": "rgb(102, 102, 102)",
         "showgrid": false,
         "showline": true,
         "showticklabels": true,
         "tickcolor": "rgb(102, 102, 102)",
         "tickfont": {
          "color": "rgb(102, 102, 102)"
         },
         "ticks": "outside"
        }
       }
      }
     },
     "metadata": {},
     "output_type": "display_data"
    }
   ],
   "source": [
    "import re\n",
    "from tqdm import tqdm\n",
    "\n",
    "folder = r\"Z:\\Laboral\\World Bank\\Paper - Child mortality and Climate Shocks\\Outputs\\countries\"\n",
    "name = \"version 3 drought 2_5 12 months\"\n",
    "version_nam, version_num, drought_nam, drought_num, months_num, months_nam = parse_name(name)\n",
    "\n",
    "files = os.listdir(folder)\n",
    "files = [f for f in files if \".tex\" in f]\n",
    "files = select_files(files, name=name)\n",
    "\n",
    "all_specs = []\n",
    "for file in tqdm(files):\n",
    "\n",
    "    filename = rf\"{folder}\\{file}\"\n",
    "    country = re.search(r\"([A-Z]{3})\", file).group(0)\n",
    "    \n",
    "    df = pd.read_csv(filename,\n",
    "                    sep='&',\n",
    "                    header=0,\n",
    "                    skiprows=4,\n",
    "                    skipfooter=3,\n",
    "                    engine='python')\n",
    "\n",
    "    keywords = \"temp|spi|drought|excessiverain|prec\" # Regex allowed\n",
    "    \n",
    "    # Process data\n",
    "    df = df.set_index(df.columns[0]) # Set variable names in index\n",
    "    df = df[df.index != ' '] # Remove standard errors\n",
    "    df = df[df.index.str.contains(keywords)]\n",
    "    df.index = df.index.str.strip()\n",
    "    df.index.name = \"variable\"\n",
    "    df = df.reset_index()\n",
    "    results = {}\n",
    "    df.columns = [re.sub(r'[^0-9a-zA-Z]+', '', col) for col in df.columns]\n",
    "\n",
    "    # Format dataframe\n",
    "    drought_num_str = drought_num.replace(\"_\", r\"\\_\")\n",
    "    months_num_str = fr\"\\_{months_num}\\_\"\n",
    "    country_specs = df.melt(id_vars=[\"variable\"], var_name=\"specification\", value_name=\"value\")\n",
    "    country_specs[\"value\"] = process_significance(country_specs.value)    \n",
    "    country_specs[\"value\"] = make_float(country_specs.value)    \n",
    "    country_specs[\"Country\"] = country\n",
    "    country_specs[\"variable\"] = country_specs[\"variable\"].str.replace(months_num_str, \" \").str.replace(drought_num_str, drought_num)\n",
    "    all_specs += [country_specs]\n",
    "    \n",
    "all_specs = pd.concat(all_specs)\n",
    "\n",
    "dot_plot(all_specs, f\"drought\", \"q1\")\n",
    "dot_plot(all_specs, f\"drought\", \"q2\")\n",
    "dot_plot(all_specs, f\"drought\", \"q3\")\n",
    "dot_plot(all_specs, f\"drought\", \"30d\")\n",
    "dot_plot(all_specs, f\"drought\", \"30d3m\")\n",
    "dot_plot(all_specs, f\"drought\", \"3m6m\")\n",
    "dot_plot(all_specs, f\"drought\", \"6m12m\")"
   ]
  }
 ],
 "metadata": {
  "kernelspec": {
   "display_name": "Python 3",
   "language": "python",
   "name": "python3"
  },
  "language_info": {
   "codemirror_mode": {
    "name": "ipython",
    "version": 3
   },
   "file_extension": ".py",
   "mimetype": "text/x-python",
   "name": "python",
   "nbconvert_exporter": "python",
   "pygments_lexer": "ipython3",
   "version": "3.11.4"
  }
 },
 "nbformat": 4,
 "nbformat_minor": 2
}
