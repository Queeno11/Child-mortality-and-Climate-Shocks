{
 "cells": [
  {
   "cell_type": "code",
   "execution_count": null,
   "metadata": {},
   "outputs": [],
   "source": [
    "import os\n",
    "import re\n",
    "import pandas as pd"
   ]
  },
  {
   "cell_type": "code",
   "execution_count": 241,
   "metadata": {},
   "outputs": [],
   "source": [
    "def select_files(files, name=\"version 3 drought 2_5\", months=\"_6 months\"):\n",
    "    files = [f for f in files if name in f]\n",
    "    files = [f for f in files if months in f]\n",
    "    return files\n",
    "\n",
    "def count_significative_vars(s):\n",
    "    count_p01  = s.str.contains(\"*\", regex=False).sum()\n",
    "    count_p005 = s.str.contains(\"**\", regex=False).sum()\n",
    "    count_p001 = s.str.contains(\"***\", regex=False).sum()\n",
    "    return count_p01, count_p005, count_p001 \n",
    "\n",
    "def dict_to_df(dict):\n",
    "    results_df = pd.DataFrame().from_dict(dict, orient=\"index\", columns=[\"p=0.1\", \"p=0.05\", \"p=0.01\"]).reset_index(names=\"Specification\")\n",
    "    return results_df\n",
    "\n",
    "def process_significance(s):\n",
    "    # Replace all values that does not contain an asterisk with NaN and turn them into floats\n",
    "    s = s.where(s.str.contains(\"*\", regex=False))\n",
    "    return s\n",
    "\n",
    "def make_float(s):\n",
    "    # Remove asterisks and turn into floats\n",
    "    s = s.replace(r'[^0-9\\-.]', \"\", regex=True)\n",
    "    return s"
   ]
  },
  {
   "cell_type": "code",
   "execution_count": 238,
   "metadata": {},
   "outputs": [],
   "source": [
    "import plotly.graph_objects as go\n",
    "\n",
    "def dot_plot(all_specs, varname):\n",
    "    fig = go.Figure()\n",
    "\n",
    "    colors = [\n",
    "        'rgba(156, 165, 196, 0.95)','rgba(156, 165, 196, 0.95)','rgba(156, 165, 196, 0.95)','rgba(156, 165, 196, 0.95)',\n",
    "        'rgba(204, 204, 204, 0.95)','rgba(204, 204, 204, 0.95)','rgba(204, 204, 204, 0.95)','rgba(204, 204, 204, 0.95)',\n",
    "        'rgba(255, 166, 86, 0.95)','rgba(255, 166, 86, 0.95)','rgba(255, 166, 86, 0.95)','rgba(255, 166, 86, 0.95)',\n",
    "        'rgba(240, 230, 140, 0.95)','rgba(240, 230, 140, 0.95)','rgba(240, 230, 140, 0.95)','rgba(240, 230, 140, 0.95)',\n",
    "    ]\n",
    "    data = all_specs[all_specs.variable == varname]\n",
    "    for i, spec in enumerate(data.specification.unique()):\n",
    "        data_plot = data[data.specification == spec]\n",
    "        fig.add_trace(go.Scatter(\n",
    "            x=data_plot[\"value\"].astype(\"float\"),\n",
    "            y=data_plot[\"Country\"],\n",
    "            marker=dict(\n",
    "                color=colors[i],\n",
    "                size=16\n",
    "            ),\n",
    "            mode='markers',\n",
    "            name=spec,\n",
    "        ))\n",
    "\n",
    "    fig.update_traces(mode='markers', marker=dict(line_width=1, symbol='circle', size=16))\n",
    "\n",
    "    fig.update_layout(\n",
    "        title=varname,\n",
    "        xaxis=dict(\n",
    "            showgrid=False,\n",
    "            showline=True,\n",
    "            linecolor='rgb(102, 102, 102)',\n",
    "            tickfont_color='rgb(102, 102, 102)',\n",
    "            showticklabels=True,\n",
    "            ticks='outside',\n",
    "            tickcolor='rgb(102, 102, 102)',\n",
    "        ),\n",
    "        margin=dict(l=140, r=40, b=50, t=80),\n",
    "        legend=dict(\n",
    "            font_size=10,\n",
    "            yanchor='top',\n",
    "            xanchor='center',\n",
    "        ),\n",
    "        width=1600,\n",
    "        height=600,\n",
    "        paper_bgcolor='white',\n",
    "        plot_bgcolor='white',\n",
    "        hovermode='closest',\n",
    "    )\n",
    "    \n",
    "    # Add a vertical line at zero\n",
    "    fig.update_layout(shapes=[\n",
    "        dict(\n",
    "            type=\"line\",\n",
    "            x0=0,\n",
    "            y0=0,\n",
    "            x1=0,\n",
    "            y1=all_specs.Country.drop_duplicates().shape[0],\n",
    "            line=dict(\n",
    "                color=\"red\",\n",
    "                width=2,\n",
    "                dash=\"dashdot\",\n",
    "            )\n",
    "        )\n",
    "    ])\n",
    "\n",
    "    fig.show()"
   ]
  },
  {
   "cell_type": "code",
   "execution_count": 252,
   "metadata": {},
   "outputs": [
    {
     "name": "stderr",
     "output_type": "stream",
     "text": [
      "100%|██████████| 55/55 [00:01<00:00, 30.56it/s]\n"
     ]
    },
    {
     "data": {
      "application/vnd.plotly.v1+json": {
       "config": {
        "plotlyServerURL": "https://plot.ly"
       },
       "data": [
        {
         "marker": {
          "color": "rgba(156, 165, 196, 0.95)",
          "line": {
           "width": 1
          },
          "size": 16,
          "symbol": "circle"
         },
         "mode": "markers",
         "name": "1",
         "type": "scatter",
         "x": [
          null,
          null,
          null,
          null,
          null,
          null,
          null,
          null,
          null,
          null,
          null,
          null,
          null,
          -30.009,
          null,
          null,
          null,
          null,
          null,
          null,
          null,
          null,
          null,
          null,
          null,
          null,
          null,
          26.948,
          null,
          null,
          null,
          null,
          null,
          null,
          null,
          null,
          16.99,
          null,
          null,
          null,
          null,
          49.12,
          null,
          null,
          -67.313,
          null,
          307.106,
          null,
          null,
          null,
          null,
          -41.381,
          null,
          null,
          null
         ],
         "y": [
          "AGO",
          "ALB",
          "ARM",
          "BEN",
          "BFA",
          "BGD",
          "BOL",
          "CIV",
          "CMR",
          "COD",
          "COM",
          "DOM",
          "EGY",
          "ETH",
          "GAB",
          "GHA",
          "GIN",
          "GMB",
          "GTM",
          "GUY",
          "HND",
          "HTI",
          "IND",
          "JOR",
          "KEN",
          "KGZ",
          "KHM",
          "LBR",
          "LSO",
          "MAR",
          "MDA",
          "MDG",
          "MLI",
          "MMR",
          "MOZ",
          "MRT",
          "MWI",
          "NAM",
          "NGA",
          "NIC",
          "PAK",
          "PER",
          "PHL",
          "SEN",
          "SLE",
          "SWZ",
          "TCD",
          "TGO",
          "TJK",
          "TLS",
          "TZA",
          "UGA",
          "ZAF",
          "ZMB",
          "ZWE"
         ]
        },
        {
         "marker": {
          "color": "rgba(156, 165, 196, 0.95)",
          "line": {
           "width": 1
          },
          "size": 16,
          "symbol": "circle"
         },
         "mode": "markers",
         "name": "2",
         "type": "scatter",
         "x": [
          null,
          null,
          null,
          null,
          null,
          null,
          null,
          88.781,
          -34.466,
          null,
          null,
          null,
          null,
          -16.497,
          null,
          null,
          11.747,
          null,
          null,
          null,
          null,
          null,
          null,
          null,
          null,
          null,
          null,
          27.004,
          null,
          null,
          null,
          null,
          null,
          null,
          -32.863,
          null,
          -36.795,
          null,
          null,
          null,
          null,
          14.504,
          null,
          null,
          -81.432,
          null,
          282.4,
          null,
          null,
          null,
          null,
          -51.254,
          null,
          null,
          null
         ],
         "y": [
          "AGO",
          "ALB",
          "ARM",
          "BEN",
          "BFA",
          "BGD",
          "BOL",
          "CIV",
          "CMR",
          "COD",
          "COM",
          "DOM",
          "EGY",
          "ETH",
          "GAB",
          "GHA",
          "GIN",
          "GMB",
          "GTM",
          "GUY",
          "HND",
          "HTI",
          "IND",
          "JOR",
          "KEN",
          "KGZ",
          "KHM",
          "LBR",
          "LSO",
          "MAR",
          "MDA",
          "MDG",
          "MLI",
          "MMR",
          "MOZ",
          "MRT",
          "MWI",
          "NAM",
          "NGA",
          "NIC",
          "PAK",
          "PER",
          "PHL",
          "SEN",
          "SLE",
          "SWZ",
          "TCD",
          "TGO",
          "TJK",
          "TLS",
          "TZA",
          "UGA",
          "ZAF",
          "ZMB",
          "ZWE"
         ]
        },
        {
         "marker": {
          "color": "rgba(156, 165, 196, 0.95)",
          "line": {
           "width": 1
          },
          "size": 16,
          "symbol": "circle"
         },
         "mode": "markers",
         "name": "3",
         "type": "scatter",
         "x": [
          null,
          null,
          null,
          null,
          null,
          null,
          null,
          84.341,
          -32.946,
          null,
          null,
          null,
          null,
          -24.701,
          null,
          null,
          9.59,
          null,
          null,
          null,
          null,
          null,
          null,
          null,
          null,
          null,
          null,
          12.382,
          null,
          null,
          null,
          -12.322,
          null,
          null,
          -20.593,
          null,
          -41.258,
          null,
          null,
          null,
          null,
          15.737,
          null,
          null,
          -82.815,
          null,
          281.422,
          null,
          null,
          null,
          null,
          -57.11,
          null,
          null,
          null
         ],
         "y": [
          "AGO",
          "ALB",
          "ARM",
          "BEN",
          "BFA",
          "BGD",
          "BOL",
          "CIV",
          "CMR",
          "COD",
          "COM",
          "DOM",
          "EGY",
          "ETH",
          "GAB",
          "GHA",
          "GIN",
          "GMB",
          "GTM",
          "GUY",
          "HND",
          "HTI",
          "IND",
          "JOR",
          "KEN",
          "KGZ",
          "KHM",
          "LBR",
          "LSO",
          "MAR",
          "MDA",
          "MDG",
          "MLI",
          "MMR",
          "MOZ",
          "MRT",
          "MWI",
          "NAM",
          "NGA",
          "NIC",
          "PAK",
          "PER",
          "PHL",
          "SEN",
          "SLE",
          "SWZ",
          "TCD",
          "TGO",
          "TJK",
          "TLS",
          "TZA",
          "UGA",
          "ZAF",
          "ZMB",
          "ZWE"
         ]
        },
        {
         "marker": {
          "color": "rgba(156, 165, 196, 0.95)",
          "line": {
           "width": 1
          },
          "size": 16,
          "symbol": "circle"
         },
         "mode": "markers",
         "name": "4",
         "type": "scatter",
         "x": [
          -21.71,
          null,
          null,
          null,
          null,
          null,
          null,
          78.142,
          -35.824,
          null,
          null,
          null,
          null,
          -23.178,
          null,
          null,
          14.772,
          null,
          null,
          null,
          null,
          null,
          -5.352,
          null,
          null,
          null,
          null,
          null,
          null,
          null,
          null,
          -9.351,
          null,
          null,
          null,
          null,
          -43.273,
          -19.383,
          null,
          null,
          null,
          -21.182,
          null,
          null,
          -81.347,
          null,
          255.833,
          null,
          null,
          null,
          null,
          -53.776,
          null,
          null,
          null
         ],
         "y": [
          "AGO",
          "ALB",
          "ARM",
          "BEN",
          "BFA",
          "BGD",
          "BOL",
          "CIV",
          "CMR",
          "COD",
          "COM",
          "DOM",
          "EGY",
          "ETH",
          "GAB",
          "GHA",
          "GIN",
          "GMB",
          "GTM",
          "GUY",
          "HND",
          "HTI",
          "IND",
          "JOR",
          "KEN",
          "KGZ",
          "KHM",
          "LBR",
          "LSO",
          "MAR",
          "MDA",
          "MDG",
          "MLI",
          "MMR",
          "MOZ",
          "MRT",
          "MWI",
          "NAM",
          "NGA",
          "NIC",
          "PAK",
          "PER",
          "PHL",
          "SEN",
          "SLE",
          "SWZ",
          "TCD",
          "TGO",
          "TJK",
          "TLS",
          "TZA",
          "UGA",
          "ZAF",
          "ZMB",
          "ZWE"
         ]
        },
        {
         "marker": {
          "color": "rgba(204, 204, 204, 0.95)",
          "line": {
           "width": 1
          },
          "size": 16,
          "symbol": "circle"
         },
         "mode": "markers",
         "name": "5",
         "type": "scatter",
         "x": [
          null,
          null,
          null,
          null,
          null,
          null,
          null,
          null,
          null,
          null,
          null,
          null,
          null,
          null,
          null,
          null,
          null,
          null,
          null,
          null,
          null,
          null,
          -2.572,
          null,
          null,
          null,
          null,
          41.486,
          null,
          null,
          null,
          1.631,
          null,
          null,
          -45.122,
          null,
          -129.96,
          null,
          null,
          null,
          null,
          null,
          null,
          null,
          -22.945,
          null,
          -15.036,
          null,
          null,
          null,
          null,
          null,
          null,
          null,
          null
         ],
         "y": [
          "AGO",
          "ALB",
          "ARM",
          "BEN",
          "BFA",
          "BGD",
          "BOL",
          "CIV",
          "CMR",
          "COD",
          "COM",
          "DOM",
          "EGY",
          "ETH",
          "GAB",
          "GHA",
          "GIN",
          "GMB",
          "GTM",
          "GUY",
          "HND",
          "HTI",
          "IND",
          "JOR",
          "KEN",
          "KGZ",
          "KHM",
          "LBR",
          "LSO",
          "MAR",
          "MDA",
          "MDG",
          "MLI",
          "MMR",
          "MOZ",
          "MRT",
          "MWI",
          "NAM",
          "NGA",
          "NIC",
          "PAK",
          "PER",
          "PHL",
          "SEN",
          "SLE",
          "SWZ",
          "TCD",
          "TGO",
          "TJK",
          "TLS",
          "TZA",
          "UGA",
          "ZAF",
          "ZMB",
          "ZWE"
         ]
        },
        {
         "marker": {
          "color": "rgba(204, 204, 204, 0.95)",
          "line": {
           "width": 1
          },
          "size": 16,
          "symbol": "circle"
         },
         "mode": "markers",
         "name": "6",
         "type": "scatter",
         "x": [
          null,
          null,
          null,
          null,
          null,
          null,
          null,
          null,
          -9.314,
          null,
          null,
          null,
          null,
          null,
          null,
          null,
          -14.841,
          null,
          null,
          null,
          null,
          null,
          -2.529,
          null,
          null,
          null,
          null,
          41.402,
          null,
          null,
          null,
          null,
          null,
          null,
          -24.344,
          null,
          -48.166,
          null,
          -7.912,
          null,
          null,
          null,
          null,
          null,
          -30.857,
          null,
          -15.321,
          null,
          null,
          null,
          null,
          -10.691,
          null,
          null,
          108.523
         ],
         "y": [
          "AGO",
          "ALB",
          "ARM",
          "BEN",
          "BFA",
          "BGD",
          "BOL",
          "CIV",
          "CMR",
          "COD",
          "COM",
          "DOM",
          "EGY",
          "ETH",
          "GAB",
          "GHA",
          "GIN",
          "GMB",
          "GTM",
          "GUY",
          "HND",
          "HTI",
          "IND",
          "JOR",
          "KEN",
          "KGZ",
          "KHM",
          "LBR",
          "LSO",
          "MAR",
          "MDA",
          "MDG",
          "MLI",
          "MMR",
          "MOZ",
          "MRT",
          "MWI",
          "NAM",
          "NGA",
          "NIC",
          "PAK",
          "PER",
          "PHL",
          "SEN",
          "SLE",
          "SWZ",
          "TCD",
          "TGO",
          "TJK",
          "TLS",
          "TZA",
          "UGA",
          "ZAF",
          "ZMB",
          "ZWE"
         ]
        },
        {
         "marker": {
          "color": "rgba(204, 204, 204, 0.95)",
          "line": {
           "width": 1
          },
          "size": 16,
          "symbol": "circle"
         },
         "mode": "markers",
         "name": "7",
         "type": "scatter",
         "x": [
          null,
          null,
          null,
          null,
          null,
          null,
          null,
          null,
          -10.453,
          null,
          null,
          null,
          null,
          null,
          null,
          null,
          -25.962,
          null,
          null,
          null,
          null,
          null,
          -2.25,
          null,
          null,
          null,
          null,
          43.453,
          null,
          null,
          null,
          null,
          null,
          null,
          null,
          null,
          -31.464,
          null,
          -10.186,
          null,
          null,
          null,
          null,
          null,
          -22.235,
          null,
          -21.233,
          null,
          null,
          null,
          null,
          -15.943,
          null,
          null,
          106.329
         ],
         "y": [
          "AGO",
          "ALB",
          "ARM",
          "BEN",
          "BFA",
          "BGD",
          "BOL",
          "CIV",
          "CMR",
          "COD",
          "COM",
          "DOM",
          "EGY",
          "ETH",
          "GAB",
          "GHA",
          "GIN",
          "GMB",
          "GTM",
          "GUY",
          "HND",
          "HTI",
          "IND",
          "JOR",
          "KEN",
          "KGZ",
          "KHM",
          "LBR",
          "LSO",
          "MAR",
          "MDA",
          "MDG",
          "MLI",
          "MMR",
          "MOZ",
          "MRT",
          "MWI",
          "NAM",
          "NGA",
          "NIC",
          "PAK",
          "PER",
          "PHL",
          "SEN",
          "SLE",
          "SWZ",
          "TCD",
          "TGO",
          "TJK",
          "TLS",
          "TZA",
          "UGA",
          "ZAF",
          "ZMB",
          "ZWE"
         ]
        },
        {
         "marker": {
          "color": "rgba(204, 204, 204, 0.95)",
          "line": {
           "width": 1
          },
          "size": 16,
          "symbol": "circle"
         },
         "mode": "markers",
         "name": "8",
         "type": "scatter",
         "x": [
          -8.277,
          null,
          null,
          null,
          null,
          null,
          null,
          -9.315,
          -10.103,
          null,
          null,
          null,
          null,
          null,
          null,
          null,
          -13.132,
          null,
          null,
          null,
          null,
          null,
          -2.101,
          null,
          null,
          null,
          null,
          40.604,
          null,
          null,
          null,
          -4.422,
          null,
          null,
          null,
          null,
          -13.716,
          -3.121,
          -8.96,
          null,
          null,
          -2.971,
          null,
          null,
          -21.429,
          null,
          -26.671,
          null,
          null,
          null,
          null,
          -14.831,
          null,
          -5.924,
          null
         ],
         "y": [
          "AGO",
          "ALB",
          "ARM",
          "BEN",
          "BFA",
          "BGD",
          "BOL",
          "CIV",
          "CMR",
          "COD",
          "COM",
          "DOM",
          "EGY",
          "ETH",
          "GAB",
          "GHA",
          "GIN",
          "GMB",
          "GTM",
          "GUY",
          "HND",
          "HTI",
          "IND",
          "JOR",
          "KEN",
          "KGZ",
          "KHM",
          "LBR",
          "LSO",
          "MAR",
          "MDA",
          "MDG",
          "MLI",
          "MMR",
          "MOZ",
          "MRT",
          "MWI",
          "NAM",
          "NGA",
          "NIC",
          "PAK",
          "PER",
          "PHL",
          "SEN",
          "SLE",
          "SWZ",
          "TCD",
          "TGO",
          "TJK",
          "TLS",
          "TZA",
          "UGA",
          "ZAF",
          "ZMB",
          "ZWE"
         ]
        },
        {
         "marker": {
          "color": "rgba(255, 166, 86, 0.95)",
          "line": {
           "width": 1
          },
          "size": 16,
          "symbol": "circle"
         },
         "mode": "markers",
         "name": "9",
         "type": "scatter",
         "x": [
          null,
          null,
          null,
          null,
          null,
          null,
          null,
          -20.842,
          null,
          null,
          null,
          null,
          null,
          null,
          null,
          null,
          -31.816,
          null,
          null,
          null,
          null,
          null,
          -3.006,
          null,
          null,
          null,
          null,
          -29.377,
          null,
          null,
          null,
          9.749,
          null,
          null,
          13.763,
          null,
          null,
          null,
          -14.408,
          null,
          null,
          null,
          null,
          null,
          -51.78,
          null,
          -5.575,
          null,
          null,
          -16.478,
          null,
          null,
          null,
          null,
          null
         ],
         "y": [
          "AGO",
          "ALB",
          "ARM",
          "BEN",
          "BFA",
          "BGD",
          "BOL",
          "CIV",
          "CMR",
          "COD",
          "COM",
          "DOM",
          "EGY",
          "ETH",
          "GAB",
          "GHA",
          "GIN",
          "GMB",
          "GTM",
          "GUY",
          "HND",
          "HTI",
          "IND",
          "JOR",
          "KEN",
          "KGZ",
          "KHM",
          "LBR",
          "LSO",
          "MAR",
          "MDA",
          "MDG",
          "MLI",
          "MMR",
          "MOZ",
          "MRT",
          "MWI",
          "NAM",
          "NGA",
          "NIC",
          "PAK",
          "PER",
          "PHL",
          "SEN",
          "SLE",
          "SWZ",
          "TCD",
          "TGO",
          "TJK",
          "TLS",
          "TZA",
          "UGA",
          "ZAF",
          "ZMB",
          "ZWE"
         ]
        },
        {
         "marker": {
          "color": "rgba(255, 166, 86, 0.95)",
          "line": {
           "width": 1
          },
          "size": 16,
          "symbol": "circle"
         },
         "mode": "markers",
         "name": "10",
         "type": "scatter",
         "x": [
          null,
          null,
          null,
          null,
          null,
          null,
          null,
          -12.031,
          null,
          null,
          null,
          null,
          null,
          -16.484,
          null,
          null,
          -26.705,
          null,
          null,
          null,
          null,
          null,
          -3.503,
          null,
          null,
          null,
          null,
          -29.288,
          null,
          null,
          null,
          null,
          null,
          null,
          19.859,
          null,
          -36.912,
          null,
          -8.536,
          null,
          null,
          null,
          null,
          null,
          -51.695,
          null,
          -8.423,
          null,
          null,
          null,
          null,
          -21.75,
          null,
          null,
          null
         ],
         "y": [
          "AGO",
          "ALB",
          "ARM",
          "BEN",
          "BFA",
          "BGD",
          "BOL",
          "CIV",
          "CMR",
          "COD",
          "COM",
          "DOM",
          "EGY",
          "ETH",
          "GAB",
          "GHA",
          "GIN",
          "GMB",
          "GTM",
          "GUY",
          "HND",
          "HTI",
          "IND",
          "JOR",
          "KEN",
          "KGZ",
          "KHM",
          "LBR",
          "LSO",
          "MAR",
          "MDA",
          "MDG",
          "MLI",
          "MMR",
          "MOZ",
          "MRT",
          "MWI",
          "NAM",
          "NGA",
          "NIC",
          "PAK",
          "PER",
          "PHL",
          "SEN",
          "SLE",
          "SWZ",
          "TCD",
          "TGO",
          "TJK",
          "TLS",
          "TZA",
          "UGA",
          "ZAF",
          "ZMB",
          "ZWE"
         ]
        },
        {
         "marker": {
          "color": "rgba(255, 166, 86, 0.95)",
          "line": {
           "width": 1
          },
          "size": 16,
          "symbol": "circle"
         },
         "mode": "markers",
         "name": "11",
         "type": "scatter",
         "x": [
          null,
          null,
          null,
          null,
          null,
          null,
          null,
          -5.366,
          -7.762,
          null,
          null,
          null,
          null,
          -15.028,
          null,
          null,
          -26.634,
          null,
          null,
          null,
          null,
          null,
          -3.077,
          null,
          null,
          null,
          null,
          -27.635,
          null,
          null,
          null,
          -6.057,
          null,
          null,
          17.909,
          null,
          -24.226,
          null,
          -8.521,
          null,
          null,
          1.352,
          null,
          null,
          -38.91,
          null,
          -24.006,
          null,
          null,
          null,
          null,
          -23.227,
          null,
          -3.793,
          null
         ],
         "y": [
          "AGO",
          "ALB",
          "ARM",
          "BEN",
          "BFA",
          "BGD",
          "BOL",
          "CIV",
          "CMR",
          "COD",
          "COM",
          "DOM",
          "EGY",
          "ETH",
          "GAB",
          "GHA",
          "GIN",
          "GMB",
          "GTM",
          "GUY",
          "HND",
          "HTI",
          "IND",
          "JOR",
          "KEN",
          "KGZ",
          "KHM",
          "LBR",
          "LSO",
          "MAR",
          "MDA",
          "MDG",
          "MLI",
          "MMR",
          "MOZ",
          "MRT",
          "MWI",
          "NAM",
          "NGA",
          "NIC",
          "PAK",
          "PER",
          "PHL",
          "SEN",
          "SLE",
          "SWZ",
          "TCD",
          "TGO",
          "TJK",
          "TLS",
          "TZA",
          "UGA",
          "ZAF",
          "ZMB",
          "ZWE"
         ]
        },
        {
         "marker": {
          "color": "rgba(255, 166, 86, 0.95)",
          "line": {
           "width": 1
          },
          "size": 16,
          "symbol": "circle"
         },
         "mode": "markers",
         "name": "12",
         "type": "scatter",
         "x": [
          null,
          null,
          null,
          null,
          null,
          null,
          null,
          -5.275,
          -9.983,
          -11.105,
          null,
          null,
          null,
          null,
          null,
          null,
          -17.603,
          null,
          null,
          null,
          null,
          null,
          -2.335,
          null,
          null,
          null,
          null,
          -26.445,
          null,
          null,
          null,
          -4.811,
          null,
          null,
          null,
          null,
          -17.931,
          -4.023,
          -8.149,
          null,
          null,
          -2.413,
          null,
          null,
          -38.383,
          null,
          -31.565,
          null,
          null,
          null,
          null,
          -21.522,
          null,
          null,
          null
         ],
         "y": [
          "AGO",
          "ALB",
          "ARM",
          "BEN",
          "BFA",
          "BGD",
          "BOL",
          "CIV",
          "CMR",
          "COD",
          "COM",
          "DOM",
          "EGY",
          "ETH",
          "GAB",
          "GHA",
          "GIN",
          "GMB",
          "GTM",
          "GUY",
          "HND",
          "HTI",
          "IND",
          "JOR",
          "KEN",
          "KGZ",
          "KHM",
          "LBR",
          "LSO",
          "MAR",
          "MDA",
          "MDG",
          "MLI",
          "MMR",
          "MOZ",
          "MRT",
          "MWI",
          "NAM",
          "NGA",
          "NIC",
          "PAK",
          "PER",
          "PHL",
          "SEN",
          "SLE",
          "SWZ",
          "TCD",
          "TGO",
          "TJK",
          "TLS",
          "TZA",
          "UGA",
          "ZAF",
          "ZMB",
          "ZWE"
         ]
        },
        {
         "marker": {
          "color": "rgba(240, 230, 140, 0.95)",
          "line": {
           "width": 1
          },
          "size": 16,
          "symbol": "circle"
         },
         "mode": "markers",
         "name": "13",
         "type": "scatter",
         "x": [
          null,
          null,
          null,
          null,
          null,
          null,
          null,
          null,
          -23.708,
          null,
          null,
          null,
          null,
          -25.403,
          null,
          null,
          -54.189,
          null,
          null,
          null,
          null,
          null,
          null,
          null,
          null,
          null,
          null,
          -41.83,
          null,
          null,
          null,
          -32.722,
          null,
          null,
          -60.466,
          null,
          -7.083,
          -32.077,
          -21.748,
          null,
          null,
          -1.964,
          null,
          null,
          -88.611,
          null,
          161.626,
          null,
          null,
          -34.17,
          null,
          -27.467,
          null,
          null,
          -16.903
         ],
         "y": [
          "AGO",
          "ALB",
          "ARM",
          "BEN",
          "BFA",
          "BGD",
          "BOL",
          "CIV",
          "CMR",
          "COD",
          "COM",
          "DOM",
          "EGY",
          "ETH",
          "GAB",
          "GHA",
          "GIN",
          "GMB",
          "GTM",
          "GUY",
          "HND",
          "HTI",
          "IND",
          "JOR",
          "KEN",
          "KGZ",
          "KHM",
          "LBR",
          "LSO",
          "MAR",
          "MDA",
          "MDG",
          "MLI",
          "MMR",
          "MOZ",
          "MRT",
          "MWI",
          "NAM",
          "NGA",
          "NIC",
          "PAK",
          "PER",
          "PHL",
          "SEN",
          "SLE",
          "SWZ",
          "TCD",
          "TGO",
          "TJK",
          "TLS",
          "TZA",
          "UGA",
          "ZAF",
          "ZMB",
          "ZWE"
         ]
        },
        {
         "marker": {
          "color": "rgba(240, 230, 140, 0.95)",
          "line": {
           "width": 1
          },
          "size": 16,
          "symbol": "circle"
         },
         "mode": "markers",
         "name": "14",
         "type": "scatter",
         "x": [
          null,
          null,
          null,
          null,
          null,
          null,
          null,
          -12.497,
          -9.495,
          null,
          null,
          null,
          null,
          -18.702,
          null,
          null,
          -48.168,
          null,
          null,
          null,
          null,
          null,
          null,
          null,
          null,
          null,
          null,
          -41.351,
          null,
          null,
          null,
          -28.637,
          null,
          null,
          -35.66,
          null,
          -18.91,
          -28.818,
          -22.057,
          null,
          null,
          -4.55,
          null,
          null,
          -89.552,
          null,
          143.326,
          null,
          null,
          -33.974,
          null,
          -29.746,
          null,
          null,
          -16.889
         ],
         "y": [
          "AGO",
          "ALB",
          "ARM",
          "BEN",
          "BFA",
          "BGD",
          "BOL",
          "CIV",
          "CMR",
          "COD",
          "COM",
          "DOM",
          "EGY",
          "ETH",
          "GAB",
          "GHA",
          "GIN",
          "GMB",
          "GTM",
          "GUY",
          "HND",
          "HTI",
          "IND",
          "JOR",
          "KEN",
          "KGZ",
          "KHM",
          "LBR",
          "LSO",
          "MAR",
          "MDA",
          "MDG",
          "MLI",
          "MMR",
          "MOZ",
          "MRT",
          "MWI",
          "NAM",
          "NGA",
          "NIC",
          "PAK",
          "PER",
          "PHL",
          "SEN",
          "SLE",
          "SWZ",
          "TCD",
          "TGO",
          "TJK",
          "TLS",
          "TZA",
          "UGA",
          "ZAF",
          "ZMB",
          "ZWE"
         ]
        },
        {
         "marker": {
          "color": "rgba(240, 230, 140, 0.95)",
          "line": {
           "width": 1
          },
          "size": 16,
          "symbol": "circle"
         },
         "mode": "markers",
         "name": "15",
         "type": "scatter",
         "x": [
          null,
          null,
          null,
          null,
          null,
          null,
          null,
          -8.952,
          -16.19,
          null,
          null,
          null,
          null,
          -15.081,
          null,
          null,
          -49.126,
          null,
          null,
          null,
          null,
          null,
          null,
          null,
          null,
          null,
          null,
          -46.715,
          null,
          null,
          null,
          -19.333,
          null,
          null,
          -29.464,
          null,
          -25.969,
          -34.33,
          -24.716,
          null,
          null,
          -4.134,
          null,
          null,
          -72.647,
          null,
          159.831,
          null,
          null,
          -34.14,
          null,
          -39.078,
          null,
          null,
          -18.214
         ],
         "y": [
          "AGO",
          "ALB",
          "ARM",
          "BEN",
          "BFA",
          "BGD",
          "BOL",
          "CIV",
          "CMR",
          "COD",
          "COM",
          "DOM",
          "EGY",
          "ETH",
          "GAB",
          "GHA",
          "GIN",
          "GMB",
          "GTM",
          "GUY",
          "HND",
          "HTI",
          "IND",
          "JOR",
          "KEN",
          "KGZ",
          "KHM",
          "LBR",
          "LSO",
          "MAR",
          "MDA",
          "MDG",
          "MLI",
          "MMR",
          "MOZ",
          "MRT",
          "MWI",
          "NAM",
          "NGA",
          "NIC",
          "PAK",
          "PER",
          "PHL",
          "SEN",
          "SLE",
          "SWZ",
          "TCD",
          "TGO",
          "TJK",
          "TLS",
          "TZA",
          "UGA",
          "ZAF",
          "ZMB",
          "ZWE"
         ]
        },
        {
         "marker": {
          "color": "rgba(240, 230, 140, 0.95)",
          "line": {
           "width": 1
          },
          "size": 16,
          "symbol": "circle"
         },
         "mode": "markers",
         "name": "16",
         "type": "scatter",
         "x": [
          -12.784,
          null,
          null,
          null,
          null,
          null,
          null,
          -12.467,
          -17.416,
          null,
          null,
          null,
          null,
          -11.516,
          null,
          null,
          -37.995,
          null,
          null,
          null,
          null,
          null,
          7.966,
          null,
          null,
          null,
          null,
          -42.134,
          null,
          null,
          null,
          -6.965,
          null,
          null,
          -12.002,
          null,
          -31.113,
          -15.972,
          -22.972,
          null,
          null,
          null,
          null,
          null,
          -72.16,
          null,
          139.144,
          null,
          null,
          -36.565,
          null,
          -36.659,
          null,
          null,
          -17.409
         ],
         "y": [
          "AGO",
          "ALB",
          "ARM",
          "BEN",
          "BFA",
          "BGD",
          "BOL",
          "CIV",
          "CMR",
          "COD",
          "COM",
          "DOM",
          "EGY",
          "ETH",
          "GAB",
          "GHA",
          "GIN",
          "GMB",
          "GTM",
          "GUY",
          "HND",
          "HTI",
          "IND",
          "JOR",
          "KEN",
          "KGZ",
          "KHM",
          "LBR",
          "LSO",
          "MAR",
          "MDA",
          "MDG",
          "MLI",
          "MMR",
          "MOZ",
          "MRT",
          "MWI",
          "NAM",
          "NGA",
          "NIC",
          "PAK",
          "PER",
          "PHL",
          "SEN",
          "SLE",
          "SWZ",
          "TCD",
          "TGO",
          "TJK",
          "TLS",
          "TZA",
          "UGA",
          "ZAF",
          "ZMB",
          "ZWE"
         ]
        }
       ],
       "layout": {
        "height": 600,
        "hovermode": "closest",
        "legend": {
         "font": {
          "size": 10
         },
         "xanchor": "center",
         "yanchor": "top"
        },
        "margin": {
         "b": 50,
         "l": 140,
         "r": 40,
         "t": 80
        },
        "paper_bgcolor": "white",
        "plot_bgcolor": "white",
        "shapes": [
         {
          "line": {
           "color": "red",
           "dash": "dashdot",
           "width": 2
          },
          "type": "line",
          "x0": 0,
          "x1": 0,
          "y0": 0,
          "y1": 55
         }
        ],
        "template": {
         "data": {
          "bar": [
           {
            "error_x": {
             "color": "#2a3f5f"
            },
            "error_y": {
             "color": "#2a3f5f"
            },
            "marker": {
             "line": {
              "color": "#E5ECF6",
              "width": 0.5
             },
             "pattern": {
              "fillmode": "overlay",
              "size": 10,
              "solidity": 0.2
             }
            },
            "type": "bar"
           }
          ],
          "barpolar": [
           {
            "marker": {
             "line": {
              "color": "#E5ECF6",
              "width": 0.5
             },
             "pattern": {
              "fillmode": "overlay",
              "size": 10,
              "solidity": 0.2
             }
            },
            "type": "barpolar"
           }
          ],
          "carpet": [
           {
            "aaxis": {
             "endlinecolor": "#2a3f5f",
             "gridcolor": "white",
             "linecolor": "white",
             "minorgridcolor": "white",
             "startlinecolor": "#2a3f5f"
            },
            "baxis": {
             "endlinecolor": "#2a3f5f",
             "gridcolor": "white",
             "linecolor": "white",
             "minorgridcolor": "white",
             "startlinecolor": "#2a3f5f"
            },
            "type": "carpet"
           }
          ],
          "choropleth": [
           {
            "colorbar": {
             "outlinewidth": 0,
             "ticks": ""
            },
            "type": "choropleth"
           }
          ],
          "contour": [
           {
            "colorbar": {
             "outlinewidth": 0,
             "ticks": ""
            },
            "colorscale": [
             [
              0,
              "#0d0887"
             ],
             [
              0.1111111111111111,
              "#46039f"
             ],
             [
              0.2222222222222222,
              "#7201a8"
             ],
             [
              0.3333333333333333,
              "#9c179e"
             ],
             [
              0.4444444444444444,
              "#bd3786"
             ],
             [
              0.5555555555555556,
              "#d8576b"
             ],
             [
              0.6666666666666666,
              "#ed7953"
             ],
             [
              0.7777777777777778,
              "#fb9f3a"
             ],
             [
              0.8888888888888888,
              "#fdca26"
             ],
             [
              1,
              "#f0f921"
             ]
            ],
            "type": "contour"
           }
          ],
          "contourcarpet": [
           {
            "colorbar": {
             "outlinewidth": 0,
             "ticks": ""
            },
            "type": "contourcarpet"
           }
          ],
          "heatmap": [
           {
            "colorbar": {
             "outlinewidth": 0,
             "ticks": ""
            },
            "colorscale": [
             [
              0,
              "#0d0887"
             ],
             [
              0.1111111111111111,
              "#46039f"
             ],
             [
              0.2222222222222222,
              "#7201a8"
             ],
             [
              0.3333333333333333,
              "#9c179e"
             ],
             [
              0.4444444444444444,
              "#bd3786"
             ],
             [
              0.5555555555555556,
              "#d8576b"
             ],
             [
              0.6666666666666666,
              "#ed7953"
             ],
             [
              0.7777777777777778,
              "#fb9f3a"
             ],
             [
              0.8888888888888888,
              "#fdca26"
             ],
             [
              1,
              "#f0f921"
             ]
            ],
            "type": "heatmap"
           }
          ],
          "heatmapgl": [
           {
            "colorbar": {
             "outlinewidth": 0,
             "ticks": ""
            },
            "colorscale": [
             [
              0,
              "#0d0887"
             ],
             [
              0.1111111111111111,
              "#46039f"
             ],
             [
              0.2222222222222222,
              "#7201a8"
             ],
             [
              0.3333333333333333,
              "#9c179e"
             ],
             [
              0.4444444444444444,
              "#bd3786"
             ],
             [
              0.5555555555555556,
              "#d8576b"
             ],
             [
              0.6666666666666666,
              "#ed7953"
             ],
             [
              0.7777777777777778,
              "#fb9f3a"
             ],
             [
              0.8888888888888888,
              "#fdca26"
             ],
             [
              1,
              "#f0f921"
             ]
            ],
            "type": "heatmapgl"
           }
          ],
          "histogram": [
           {
            "marker": {
             "pattern": {
              "fillmode": "overlay",
              "size": 10,
              "solidity": 0.2
             }
            },
            "type": "histogram"
           }
          ],
          "histogram2d": [
           {
            "colorbar": {
             "outlinewidth": 0,
             "ticks": ""
            },
            "colorscale": [
             [
              0,
              "#0d0887"
             ],
             [
              0.1111111111111111,
              "#46039f"
             ],
             [
              0.2222222222222222,
              "#7201a8"
             ],
             [
              0.3333333333333333,
              "#9c179e"
             ],
             [
              0.4444444444444444,
              "#bd3786"
             ],
             [
              0.5555555555555556,
              "#d8576b"
             ],
             [
              0.6666666666666666,
              "#ed7953"
             ],
             [
              0.7777777777777778,
              "#fb9f3a"
             ],
             [
              0.8888888888888888,
              "#fdca26"
             ],
             [
              1,
              "#f0f921"
             ]
            ],
            "type": "histogram2d"
           }
          ],
          "histogram2dcontour": [
           {
            "colorbar": {
             "outlinewidth": 0,
             "ticks": ""
            },
            "colorscale": [
             [
              0,
              "#0d0887"
             ],
             [
              0.1111111111111111,
              "#46039f"
             ],
             [
              0.2222222222222222,
              "#7201a8"
             ],
             [
              0.3333333333333333,
              "#9c179e"
             ],
             [
              0.4444444444444444,
              "#bd3786"
             ],
             [
              0.5555555555555556,
              "#d8576b"
             ],
             [
              0.6666666666666666,
              "#ed7953"
             ],
             [
              0.7777777777777778,
              "#fb9f3a"
             ],
             [
              0.8888888888888888,
              "#fdca26"
             ],
             [
              1,
              "#f0f921"
             ]
            ],
            "type": "histogram2dcontour"
           }
          ],
          "mesh3d": [
           {
            "colorbar": {
             "outlinewidth": 0,
             "ticks": ""
            },
            "type": "mesh3d"
           }
          ],
          "parcoords": [
           {
            "line": {
             "colorbar": {
              "outlinewidth": 0,
              "ticks": ""
             }
            },
            "type": "parcoords"
           }
          ],
          "pie": [
           {
            "automargin": true,
            "type": "pie"
           }
          ],
          "scatter": [
           {
            "fillpattern": {
             "fillmode": "overlay",
             "size": 10,
             "solidity": 0.2
            },
            "type": "scatter"
           }
          ],
          "scatter3d": [
           {
            "line": {
             "colorbar": {
              "outlinewidth": 0,
              "ticks": ""
             }
            },
            "marker": {
             "colorbar": {
              "outlinewidth": 0,
              "ticks": ""
             }
            },
            "type": "scatter3d"
           }
          ],
          "scattercarpet": [
           {
            "marker": {
             "colorbar": {
              "outlinewidth": 0,
              "ticks": ""
             }
            },
            "type": "scattercarpet"
           }
          ],
          "scattergeo": [
           {
            "marker": {
             "colorbar": {
              "outlinewidth": 0,
              "ticks": ""
             }
            },
            "type": "scattergeo"
           }
          ],
          "scattergl": [
           {
            "marker": {
             "colorbar": {
              "outlinewidth": 0,
              "ticks": ""
             }
            },
            "type": "scattergl"
           }
          ],
          "scattermapbox": [
           {
            "marker": {
             "colorbar": {
              "outlinewidth": 0,
              "ticks": ""
             }
            },
            "type": "scattermapbox"
           }
          ],
          "scatterpolar": [
           {
            "marker": {
             "colorbar": {
              "outlinewidth": 0,
              "ticks": ""
             }
            },
            "type": "scatterpolar"
           }
          ],
          "scatterpolargl": [
           {
            "marker": {
             "colorbar": {
              "outlinewidth": 0,
              "ticks": ""
             }
            },
            "type": "scatterpolargl"
           }
          ],
          "scatterternary": [
           {
            "marker": {
             "colorbar": {
              "outlinewidth": 0,
              "ticks": ""
             }
            },
            "type": "scatterternary"
           }
          ],
          "surface": [
           {
            "colorbar": {
             "outlinewidth": 0,
             "ticks": ""
            },
            "colorscale": [
             [
              0,
              "#0d0887"
             ],
             [
              0.1111111111111111,
              "#46039f"
             ],
             [
              0.2222222222222222,
              "#7201a8"
             ],
             [
              0.3333333333333333,
              "#9c179e"
             ],
             [
              0.4444444444444444,
              "#bd3786"
             ],
             [
              0.5555555555555556,
              "#d8576b"
             ],
             [
              0.6666666666666666,
              "#ed7953"
             ],
             [
              0.7777777777777778,
              "#fb9f3a"
             ],
             [
              0.8888888888888888,
              "#fdca26"
             ],
             [
              1,
              "#f0f921"
             ]
            ],
            "type": "surface"
           }
          ],
          "table": [
           {
            "cells": {
             "fill": {
              "color": "#EBF0F8"
             },
             "line": {
              "color": "white"
             }
            },
            "header": {
             "fill": {
              "color": "#C8D4E3"
             },
             "line": {
              "color": "white"
             }
            },
            "type": "table"
           }
          ]
         },
         "layout": {
          "annotationdefaults": {
           "arrowcolor": "#2a3f5f",
           "arrowhead": 0,
           "arrowwidth": 1
          },
          "autotypenumbers": "strict",
          "coloraxis": {
           "colorbar": {
            "outlinewidth": 0,
            "ticks": ""
           }
          },
          "colorscale": {
           "diverging": [
            [
             0,
             "#8e0152"
            ],
            [
             0.1,
             "#c51b7d"
            ],
            [
             0.2,
             "#de77ae"
            ],
            [
             0.3,
             "#f1b6da"
            ],
            [
             0.4,
             "#fde0ef"
            ],
            [
             0.5,
             "#f7f7f7"
            ],
            [
             0.6,
             "#e6f5d0"
            ],
            [
             0.7,
             "#b8e186"
            ],
            [
             0.8,
             "#7fbc41"
            ],
            [
             0.9,
             "#4d9221"
            ],
            [
             1,
             "#276419"
            ]
           ],
           "sequential": [
            [
             0,
             "#0d0887"
            ],
            [
             0.1111111111111111,
             "#46039f"
            ],
            [
             0.2222222222222222,
             "#7201a8"
            ],
            [
             0.3333333333333333,
             "#9c179e"
            ],
            [
             0.4444444444444444,
             "#bd3786"
            ],
            [
             0.5555555555555556,
             "#d8576b"
            ],
            [
             0.6666666666666666,
             "#ed7953"
            ],
            [
             0.7777777777777778,
             "#fb9f3a"
            ],
            [
             0.8888888888888888,
             "#fdca26"
            ],
            [
             1,
             "#f0f921"
            ]
           ],
           "sequentialminus": [
            [
             0,
             "#0d0887"
            ],
            [
             0.1111111111111111,
             "#46039f"
            ],
            [
             0.2222222222222222,
             "#7201a8"
            ],
            [
             0.3333333333333333,
             "#9c179e"
            ],
            [
             0.4444444444444444,
             "#bd3786"
            ],
            [
             0.5555555555555556,
             "#d8576b"
            ],
            [
             0.6666666666666666,
             "#ed7953"
            ],
            [
             0.7777777777777778,
             "#fb9f3a"
            ],
            [
             0.8888888888888888,
             "#fdca26"
            ],
            [
             1,
             "#f0f921"
            ]
           ]
          },
          "colorway": [
           "#636efa",
           "#EF553B",
           "#00cc96",
           "#ab63fa",
           "#FFA15A",
           "#19d3f3",
           "#FF6692",
           "#B6E880",
           "#FF97FF",
           "#FECB52"
          ],
          "font": {
           "color": "#2a3f5f"
          },
          "geo": {
           "bgcolor": "white",
           "lakecolor": "white",
           "landcolor": "#E5ECF6",
           "showlakes": true,
           "showland": true,
           "subunitcolor": "white"
          },
          "hoverlabel": {
           "align": "left"
          },
          "hovermode": "closest",
          "mapbox": {
           "style": "light"
          },
          "paper_bgcolor": "white",
          "plot_bgcolor": "#E5ECF6",
          "polar": {
           "angularaxis": {
            "gridcolor": "white",
            "linecolor": "white",
            "ticks": ""
           },
           "bgcolor": "#E5ECF6",
           "radialaxis": {
            "gridcolor": "white",
            "linecolor": "white",
            "ticks": ""
           }
          },
          "scene": {
           "xaxis": {
            "backgroundcolor": "#E5ECF6",
            "gridcolor": "white",
            "gridwidth": 2,
            "linecolor": "white",
            "showbackground": true,
            "ticks": "",
            "zerolinecolor": "white"
           },
           "yaxis": {
            "backgroundcolor": "#E5ECF6",
            "gridcolor": "white",
            "gridwidth": 2,
            "linecolor": "white",
            "showbackground": true,
            "ticks": "",
            "zerolinecolor": "white"
           },
           "zaxis": {
            "backgroundcolor": "#E5ECF6",
            "gridcolor": "white",
            "gridwidth": 2,
            "linecolor": "white",
            "showbackground": true,
            "ticks": "",
            "zerolinecolor": "white"
           }
          },
          "shapedefaults": {
           "line": {
            "color": "#2a3f5f"
           }
          },
          "ternary": {
           "aaxis": {
            "gridcolor": "white",
            "linecolor": "white",
            "ticks": ""
           },
           "baxis": {
            "gridcolor": "white",
            "linecolor": "white",
            "ticks": ""
           },
           "bgcolor": "#E5ECF6",
           "caxis": {
            "gridcolor": "white",
            "linecolor": "white",
            "ticks": ""
           }
          },
          "title": {
           "x": 0.05
          },
          "xaxis": {
           "automargin": true,
           "gridcolor": "white",
           "linecolor": "white",
           "ticks": "",
           "title": {
            "standoff": 15
           },
           "zerolinecolor": "white",
           "zerolinewidth": 2
          },
          "yaxis": {
           "automargin": true,
           "gridcolor": "white",
           "linecolor": "white",
           "ticks": "",
           "title": {
            "standoff": 15
           },
           "zerolinecolor": "white",
           "zerolinewidth": 2
          }
         }
        },
        "title": {
         "text": "drought 3.0 q1"
        },
        "width": 1600,
        "xaxis": {
         "linecolor": "rgb(102, 102, 102)",
         "showgrid": false,
         "showline": true,
         "showticklabels": true,
         "tickcolor": "rgb(102, 102, 102)",
         "tickfont": {
          "color": "rgb(102, 102, 102)"
         },
         "ticks": "outside"
        }
       }
      }
     },
     "metadata": {},
     "output_type": "display_data"
    },
    {
     "data": {
      "application/vnd.plotly.v1+json": {
       "config": {
        "plotlyServerURL": "https://plot.ly"
       },
       "data": [
        {
         "marker": {
          "color": "rgba(156, 165, 196, 0.95)",
          "line": {
           "width": 1
          },
          "size": 16,
          "symbol": "circle"
         },
         "mode": "markers",
         "name": "1",
         "type": "scatter",
         "x": [
          null,
          null,
          null,
          null,
          null,
          null,
          null,
          -45.259,
          null,
          null,
          null,
          null,
          null,
          45.033,
          null,
          null,
          null,
          null,
          null,
          null,
          null,
          null,
          null,
          null,
          null,
          null,
          null,
          23.54,
          null,
          null,
          null,
          null,
          null,
          null,
          -85.76,
          null,
          -61.01,
          -26.981,
          null,
          null,
          null,
          null,
          null,
          null,
          -34.775,
          null,
          -55.35,
          null,
          null,
          null,
          null,
          -68.326,
          null,
          null,
          null
         ],
         "y": [
          "AGO",
          "ALB",
          "ARM",
          "BEN",
          "BFA",
          "BGD",
          "BOL",
          "CIV",
          "CMR",
          "COD",
          "COM",
          "DOM",
          "EGY",
          "ETH",
          "GAB",
          "GHA",
          "GIN",
          "GMB",
          "GTM",
          "GUY",
          "HND",
          "HTI",
          "IND",
          "JOR",
          "KEN",
          "KGZ",
          "KHM",
          "LBR",
          "LSO",
          "MAR",
          "MDA",
          "MDG",
          "MLI",
          "MMR",
          "MOZ",
          "MRT",
          "MWI",
          "NAM",
          "NGA",
          "NIC",
          "PAK",
          "PER",
          "PHL",
          "SEN",
          "SLE",
          "SWZ",
          "TCD",
          "TGO",
          "TJK",
          "TLS",
          "TZA",
          "UGA",
          "ZAF",
          "ZMB",
          "ZWE"
         ]
        },
        {
         "marker": {
          "color": "rgba(156, 165, 196, 0.95)",
          "line": {
           "width": 1
          },
          "size": 16,
          "symbol": "circle"
         },
         "mode": "markers",
         "name": "2",
         "type": "scatter",
         "x": [
          null,
          null,
          null,
          null,
          null,
          null,
          null,
          -50.384,
          -37.07,
          null,
          null,
          null,
          null,
          43.348,
          null,
          null,
          null,
          null,
          null,
          null,
          null,
          null,
          null,
          null,
          null,
          null,
          null,
          23.538,
          null,
          null,
          null,
          null,
          null,
          null,
          -93.443,
          null,
          -35.135,
          null,
          null,
          null,
          null,
          null,
          null,
          null,
          -46.576,
          null,
          -58.933,
          null,
          null,
          null,
          null,
          -61.652,
          null,
          null,
          -17.499
         ],
         "y": [
          "AGO",
          "ALB",
          "ARM",
          "BEN",
          "BFA",
          "BGD",
          "BOL",
          "CIV",
          "CMR",
          "COD",
          "COM",
          "DOM",
          "EGY",
          "ETH",
          "GAB",
          "GHA",
          "GIN",
          "GMB",
          "GTM",
          "GUY",
          "HND",
          "HTI",
          "IND",
          "JOR",
          "KEN",
          "KGZ",
          "KHM",
          "LBR",
          "LSO",
          "MAR",
          "MDA",
          "MDG",
          "MLI",
          "MMR",
          "MOZ",
          "MRT",
          "MWI",
          "NAM",
          "NGA",
          "NIC",
          "PAK",
          "PER",
          "PHL",
          "SEN",
          "SLE",
          "SWZ",
          "TCD",
          "TGO",
          "TJK",
          "TLS",
          "TZA",
          "UGA",
          "ZAF",
          "ZMB",
          "ZWE"
         ]
        },
        {
         "marker": {
          "color": "rgba(156, 165, 196, 0.95)",
          "line": {
           "width": 1
          },
          "size": 16,
          "symbol": "circle"
         },
         "mode": "markers",
         "name": "3",
         "type": "scatter",
         "x": [
          null,
          null,
          null,
          null,
          null,
          null,
          null,
          -31.126,
          -45.187,
          null,
          null,
          null,
          null,
          44.76,
          null,
          null,
          null,
          null,
          null,
          null,
          null,
          null,
          null,
          null,
          null,
          null,
          null,
          18.246,
          null,
          null,
          null,
          -9.166,
          null,
          null,
          -38.867,
          null,
          -32.602,
          null,
          null,
          null,
          null,
          null,
          null,
          null,
          -55.562,
          null,
          -49.834,
          null,
          null,
          null,
          null,
          -61.151,
          null,
          null,
          -25.361
         ],
         "y": [
          "AGO",
          "ALB",
          "ARM",
          "BEN",
          "BFA",
          "BGD",
          "BOL",
          "CIV",
          "CMR",
          "COD",
          "COM",
          "DOM",
          "EGY",
          "ETH",
          "GAB",
          "GHA",
          "GIN",
          "GMB",
          "GTM",
          "GUY",
          "HND",
          "HTI",
          "IND",
          "JOR",
          "KEN",
          "KGZ",
          "KHM",
          "LBR",
          "LSO",
          "MAR",
          "MDA",
          "MDG",
          "MLI",
          "MMR",
          "MOZ",
          "MRT",
          "MWI",
          "NAM",
          "NGA",
          "NIC",
          "PAK",
          "PER",
          "PHL",
          "SEN",
          "SLE",
          "SWZ",
          "TCD",
          "TGO",
          "TJK",
          "TLS",
          "TZA",
          "UGA",
          "ZAF",
          "ZMB",
          "ZWE"
         ]
        },
        {
         "marker": {
          "color": "rgba(156, 165, 196, 0.95)",
          "line": {
           "width": 1
          },
          "size": 16,
          "symbol": "circle"
         },
         "mode": "markers",
         "name": "4",
         "type": "scatter",
         "x": [
          -23.027,
          null,
          null,
          null,
          null,
          null,
          null,
          -43.778,
          -39.621,
          null,
          null,
          null,
          null,
          null,
          null,
          null,
          null,
          null,
          null,
          null,
          null,
          null,
          null,
          null,
          null,
          null,
          null,
          null,
          null,
          null,
          null,
          -17.172,
          null,
          null,
          -17.053,
          null,
          -9.285,
          -39.263,
          null,
          null,
          null,
          -21.1,
          null,
          null,
          -55.02,
          null,
          -57.07,
          null,
          null,
          null,
          null,
          -58.708,
          null,
          null,
          -20.864
         ],
         "y": [
          "AGO",
          "ALB",
          "ARM",
          "BEN",
          "BFA",
          "BGD",
          "BOL",
          "CIV",
          "CMR",
          "COD",
          "COM",
          "DOM",
          "EGY",
          "ETH",
          "GAB",
          "GHA",
          "GIN",
          "GMB",
          "GTM",
          "GUY",
          "HND",
          "HTI",
          "IND",
          "JOR",
          "KEN",
          "KGZ",
          "KHM",
          "LBR",
          "LSO",
          "MAR",
          "MDA",
          "MDG",
          "MLI",
          "MMR",
          "MOZ",
          "MRT",
          "MWI",
          "NAM",
          "NGA",
          "NIC",
          "PAK",
          "PER",
          "PHL",
          "SEN",
          "SLE",
          "SWZ",
          "TCD",
          "TGO",
          "TJK",
          "TLS",
          "TZA",
          "UGA",
          "ZAF",
          "ZMB",
          "ZWE"
         ]
        },
        {
         "marker": {
          "color": "rgba(204, 204, 204, 0.95)",
          "line": {
           "width": 1
          },
          "size": 16,
          "symbol": "circle"
         },
         "mode": "markers",
         "name": "5",
         "type": "scatter",
         "x": [
          null,
          null,
          null,
          null,
          null,
          null,
          null,
          4.261,
          null,
          -15.213,
          null,
          null,
          null,
          null,
          null,
          null,
          -9.014,
          null,
          null,
          null,
          null,
          null,
          -1.906,
          null,
          null,
          null,
          null,
          -15.441,
          null,
          null,
          null,
          2.151,
          null,
          null,
          12.472,
          null,
          -10.025,
          -5.729,
          null,
          null,
          null,
          null,
          null,
          null,
          -20.619,
          null,
          -20.879,
          null,
          null,
          -12.093,
          null,
          -5.973,
          null,
          null,
          null
         ],
         "y": [
          "AGO",
          "ALB",
          "ARM",
          "BEN",
          "BFA",
          "BGD",
          "BOL",
          "CIV",
          "CMR",
          "COD",
          "COM",
          "DOM",
          "EGY",
          "ETH",
          "GAB",
          "GHA",
          "GIN",
          "GMB",
          "GTM",
          "GUY",
          "HND",
          "HTI",
          "IND",
          "JOR",
          "KEN",
          "KGZ",
          "KHM",
          "LBR",
          "LSO",
          "MAR",
          "MDA",
          "MDG",
          "MLI",
          "MMR",
          "MOZ",
          "MRT",
          "MWI",
          "NAM",
          "NGA",
          "NIC",
          "PAK",
          "PER",
          "PHL",
          "SEN",
          "SLE",
          "SWZ",
          "TCD",
          "TGO",
          "TJK",
          "TLS",
          "TZA",
          "UGA",
          "ZAF",
          "ZMB",
          "ZWE"
         ]
        },
        {
         "marker": {
          "color": "rgba(204, 204, 204, 0.95)",
          "line": {
           "width": 1
          },
          "size": 16,
          "symbol": "circle"
         },
         "mode": "markers",
         "name": "6",
         "type": "scatter",
         "x": [
          null,
          null,
          null,
          null,
          null,
          null,
          null,
          3.434,
          null,
          -16.465,
          null,
          null,
          null,
          null,
          null,
          null,
          -12.442,
          null,
          null,
          null,
          null,
          null,
          -1.908,
          null,
          null,
          null,
          null,
          -15.464,
          null,
          null,
          null,
          2.581,
          null,
          null,
          11.404,
          null,
          -5.551,
          -6.614,
          null,
          null,
          null,
          null,
          null,
          null,
          -31.575,
          null,
          -28.706,
          null,
          null,
          null,
          null,
          -11.588,
          null,
          null,
          null
         ],
         "y": [
          "AGO",
          "ALB",
          "ARM",
          "BEN",
          "BFA",
          "BGD",
          "BOL",
          "CIV",
          "CMR",
          "COD",
          "COM",
          "DOM",
          "EGY",
          "ETH",
          "GAB",
          "GHA",
          "GIN",
          "GMB",
          "GTM",
          "GUY",
          "HND",
          "HTI",
          "IND",
          "JOR",
          "KEN",
          "KGZ",
          "KHM",
          "LBR",
          "LSO",
          "MAR",
          "MDA",
          "MDG",
          "MLI",
          "MMR",
          "MOZ",
          "MRT",
          "MWI",
          "NAM",
          "NGA",
          "NIC",
          "PAK",
          "PER",
          "PHL",
          "SEN",
          "SLE",
          "SWZ",
          "TCD",
          "TGO",
          "TJK",
          "TLS",
          "TZA",
          "UGA",
          "ZAF",
          "ZMB",
          "ZWE"
         ]
        },
        {
         "marker": {
          "color": "rgba(204, 204, 204, 0.95)",
          "line": {
           "width": 1
          },
          "size": 16,
          "symbol": "circle"
         },
         "mode": "markers",
         "name": "7",
         "type": "scatter",
         "x": [
          null,
          null,
          null,
          null,
          null,
          null,
          null,
          -8.667,
          -9.595,
          -16.078,
          null,
          null,
          null,
          null,
          null,
          null,
          -20.837,
          null,
          null,
          null,
          null,
          null,
          -2.294,
          null,
          null,
          null,
          null,
          -21.048,
          null,
          null,
          null,
          1.238,
          null,
          null,
          5.393,
          null,
          null,
          null,
          null,
          null,
          null,
          1.475,
          null,
          null,
          -22.606,
          null,
          -25.725,
          null,
          null,
          -12.867,
          null,
          -17.295,
          null,
          null,
          null
         ],
         "y": [
          "AGO",
          "ALB",
          "ARM",
          "BEN",
          "BFA",
          "BGD",
          "BOL",
          "CIV",
          "CMR",
          "COD",
          "COM",
          "DOM",
          "EGY",
          "ETH",
          "GAB",
          "GHA",
          "GIN",
          "GMB",
          "GTM",
          "GUY",
          "HND",
          "HTI",
          "IND",
          "JOR",
          "KEN",
          "KGZ",
          "KHM",
          "LBR",
          "LSO",
          "MAR",
          "MDA",
          "MDG",
          "MLI",
          "MMR",
          "MOZ",
          "MRT",
          "MWI",
          "NAM",
          "NGA",
          "NIC",
          "PAK",
          "PER",
          "PHL",
          "SEN",
          "SLE",
          "SWZ",
          "TCD",
          "TGO",
          "TJK",
          "TLS",
          "TZA",
          "UGA",
          "ZAF",
          "ZMB",
          "ZWE"
         ]
        },
        {
         "marker": {
          "color": "rgba(204, 204, 204, 0.95)",
          "line": {
           "width": 1
          },
          "size": 16,
          "symbol": "circle"
         },
         "mode": "markers",
         "name": "8",
         "type": "scatter",
         "x": [
          null,
          null,
          null,
          null,
          null,
          null,
          null,
          -13.145,
          -7.884,
          -11.822,
          null,
          null,
          null,
          null,
          null,
          null,
          -13.32,
          null,
          null,
          null,
          null,
          null,
          -2.147,
          null,
          null,
          null,
          null,
          -19.277,
          null,
          null,
          null,
          -0.875,
          null,
          null,
          null,
          null,
          -10.984,
          null,
          null,
          null,
          null,
          null,
          null,
          null,
          -21.72,
          null,
          -17.804,
          null,
          null,
          -13.727,
          null,
          -16.146,
          null,
          null,
          null
         ],
         "y": [
          "AGO",
          "ALB",
          "ARM",
          "BEN",
          "BFA",
          "BGD",
          "BOL",
          "CIV",
          "CMR",
          "COD",
          "COM",
          "DOM",
          "EGY",
          "ETH",
          "GAB",
          "GHA",
          "GIN",
          "GMB",
          "GTM",
          "GUY",
          "HND",
          "HTI",
          "IND",
          "JOR",
          "KEN",
          "KGZ",
          "KHM",
          "LBR",
          "LSO",
          "MAR",
          "MDA",
          "MDG",
          "MLI",
          "MMR",
          "MOZ",
          "MRT",
          "MWI",
          "NAM",
          "NGA",
          "NIC",
          "PAK",
          "PER",
          "PHL",
          "SEN",
          "SLE",
          "SWZ",
          "TCD",
          "TGO",
          "TJK",
          "TLS",
          "TZA",
          "UGA",
          "ZAF",
          "ZMB",
          "ZWE"
         ]
        },
        {
         "marker": {
          "color": "rgba(255, 166, 86, 0.95)",
          "line": {
           "width": 1
          },
          "size": 16,
          "symbol": "circle"
         },
         "mode": "markers",
         "name": "9",
         "type": "scatter",
         "x": [
          null,
          null,
          null,
          null,
          null,
          null,
          null,
          7.453,
          null,
          -15.085,
          null,
          null,
          null,
          35.763,
          null,
          null,
          null,
          null,
          null,
          null,
          null,
          null,
          -2.506,
          null,
          null,
          null,
          null,
          -25.616,
          null,
          null,
          null,
          null,
          null,
          null,
          7.647,
          null,
          2.129,
          null,
          null,
          null,
          null,
          null,
          null,
          null,
          -34.184,
          null,
          2.893,
          null,
          null,
          null,
          null,
          null,
          null,
          null,
          null
         ],
         "y": [
          "AGO",
          "ALB",
          "ARM",
          "BEN",
          "BFA",
          "BGD",
          "BOL",
          "CIV",
          "CMR",
          "COD",
          "COM",
          "DOM",
          "EGY",
          "ETH",
          "GAB",
          "GHA",
          "GIN",
          "GMB",
          "GTM",
          "GUY",
          "HND",
          "HTI",
          "IND",
          "JOR",
          "KEN",
          "KGZ",
          "KHM",
          "LBR",
          "LSO",
          "MAR",
          "MDA",
          "MDG",
          "MLI",
          "MMR",
          "MOZ",
          "MRT",
          "MWI",
          "NAM",
          "NGA",
          "NIC",
          "PAK",
          "PER",
          "PHL",
          "SEN",
          "SLE",
          "SWZ",
          "TCD",
          "TGO",
          "TJK",
          "TLS",
          "TZA",
          "UGA",
          "ZAF",
          "ZMB",
          "ZWE"
         ]
        },
        {
         "marker": {
          "color": "rgba(255, 166, 86, 0.95)",
          "line": {
           "width": 1
          },
          "size": 16,
          "symbol": "circle"
         },
         "mode": "markers",
         "name": "10",
         "type": "scatter",
         "x": [
          null,
          null,
          null,
          null,
          null,
          null,
          null,
          null,
          null,
          -13.2,
          null,
          null,
          null,
          null,
          null,
          null,
          20.307,
          null,
          null,
          null,
          null,
          null,
          -2.18,
          null,
          null,
          null,
          null,
          -25.505,
          null,
          null,
          null,
          -13.692,
          null,
          null,
          -63.341,
          null,
          -7.858,
          null,
          null,
          null,
          null,
          1.85,
          null,
          null,
          -31.932,
          null,
          null,
          null,
          null,
          null,
          null,
          null,
          null,
          -4.006,
          null
         ],
         "y": [
          "AGO",
          "ALB",
          "ARM",
          "BEN",
          "BFA",
          "BGD",
          "BOL",
          "CIV",
          "CMR",
          "COD",
          "COM",
          "DOM",
          "EGY",
          "ETH",
          "GAB",
          "GHA",
          "GIN",
          "GMB",
          "GTM",
          "GUY",
          "HND",
          "HTI",
          "IND",
          "JOR",
          "KEN",
          "KGZ",
          "KHM",
          "LBR",
          "LSO",
          "MAR",
          "MDA",
          "MDG",
          "MLI",
          "MMR",
          "MOZ",
          "MRT",
          "MWI",
          "NAM",
          "NGA",
          "NIC",
          "PAK",
          "PER",
          "PHL",
          "SEN",
          "SLE",
          "SWZ",
          "TCD",
          "TGO",
          "TJK",
          "TLS",
          "TZA",
          "UGA",
          "ZAF",
          "ZMB",
          "ZWE"
         ]
        },
        {
         "marker": {
          "color": "rgba(255, 166, 86, 0.95)",
          "line": {
           "width": 1
          },
          "size": 16,
          "symbol": "circle"
         },
         "mode": "markers",
         "name": "11",
         "type": "scatter",
         "x": [
          null,
          null,
          null,
          null,
          null,
          null,
          null,
          -2.985,
          null,
          -12.058,
          null,
          null,
          null,
          null,
          null,
          null,
          29.649,
          null,
          null,
          null,
          null,
          null,
          -2.773,
          null,
          null,
          null,
          null,
          -25.981,
          null,
          null,
          null,
          -13.982,
          null,
          null,
          -43.449,
          null,
          -3.996,
          null,
          null,
          null,
          null,
          null,
          null,
          null,
          -30.719,
          null,
          -2.92,
          null,
          null,
          null,
          null,
          null,
          null,
          -2.633,
          null
         ],
         "y": [
          "AGO",
          "ALB",
          "ARM",
          "BEN",
          "BFA",
          "BGD",
          "BOL",
          "CIV",
          "CMR",
          "COD",
          "COM",
          "DOM",
          "EGY",
          "ETH",
          "GAB",
          "GHA",
          "GIN",
          "GMB",
          "GTM",
          "GUY",
          "HND",
          "HTI",
          "IND",
          "JOR",
          "KEN",
          "KGZ",
          "KHM",
          "LBR",
          "LSO",
          "MAR",
          "MDA",
          "MDG",
          "MLI",
          "MMR",
          "MOZ",
          "MRT",
          "MWI",
          "NAM",
          "NGA",
          "NIC",
          "PAK",
          "PER",
          "PHL",
          "SEN",
          "SLE",
          "SWZ",
          "TCD",
          "TGO",
          "TJK",
          "TLS",
          "TZA",
          "UGA",
          "ZAF",
          "ZMB",
          "ZWE"
         ]
        },
        {
         "marker": {
          "color": "rgba(255, 166, 86, 0.95)",
          "line": {
           "width": 1
          },
          "size": 16,
          "symbol": "circle"
         },
         "mode": "markers",
         "name": "12",
         "type": "scatter",
         "x": [
          -1.875,
          null,
          null,
          null,
          null,
          null,
          null,
          -5.698,
          -8.473,
          -11.579,
          null,
          null,
          null,
          35.145,
          null,
          null,
          37.488,
          null,
          null,
          null,
          null,
          null,
          -2.816,
          null,
          null,
          null,
          null,
          -23.018,
          null,
          null,
          null,
          -8.368,
          null,
          null,
          -17.257,
          null,
          -10.293,
          null,
          null,
          null,
          null,
          null,
          null,
          null,
          -28.79,
          null,
          -22.264,
          null,
          null,
          null,
          null,
          null,
          null,
          null,
          null
         ],
         "y": [
          "AGO",
          "ALB",
          "ARM",
          "BEN",
          "BFA",
          "BGD",
          "BOL",
          "CIV",
          "CMR",
          "COD",
          "COM",
          "DOM",
          "EGY",
          "ETH",
          "GAB",
          "GHA",
          "GIN",
          "GMB",
          "GTM",
          "GUY",
          "HND",
          "HTI",
          "IND",
          "JOR",
          "KEN",
          "KGZ",
          "KHM",
          "LBR",
          "LSO",
          "MAR",
          "MDA",
          "MDG",
          "MLI",
          "MMR",
          "MOZ",
          "MRT",
          "MWI",
          "NAM",
          "NGA",
          "NIC",
          "PAK",
          "PER",
          "PHL",
          "SEN",
          "SLE",
          "SWZ",
          "TCD",
          "TGO",
          "TJK",
          "TLS",
          "TZA",
          "UGA",
          "ZAF",
          "ZMB",
          "ZWE"
         ]
        },
        {
         "marker": {
          "color": "rgba(240, 230, 140, 0.95)",
          "line": {
           "width": 1
          },
          "size": 16,
          "symbol": "circle"
         },
         "mode": "markers",
         "name": "13",
         "type": "scatter",
         "x": [
          -13.839,
          null,
          null,
          null,
          null,
          null,
          null,
          -16.483,
          null,
          null,
          null,
          null,
          null,
          null,
          null,
          null,
          null,
          null,
          null,
          null,
          null,
          null,
          -6.515,
          null,
          null,
          null,
          null,
          11.703,
          null,
          null,
          null,
          null,
          null,
          null,
          12.887,
          null,
          -33.06,
          null,
          null,
          null,
          null,
          null,
          null,
          null,
          -80.059,
          null,
          -74.74,
          null,
          null,
          null,
          null,
          -24.508,
          null,
          null,
          null
         ],
         "y": [
          "AGO",
          "ALB",
          "ARM",
          "BEN",
          "BFA",
          "BGD",
          "BOL",
          "CIV",
          "CMR",
          "COD",
          "COM",
          "DOM",
          "EGY",
          "ETH",
          "GAB",
          "GHA",
          "GIN",
          "GMB",
          "GTM",
          "GUY",
          "HND",
          "HTI",
          "IND",
          "JOR",
          "KEN",
          "KGZ",
          "KHM",
          "LBR",
          "LSO",
          "MAR",
          "MDA",
          "MDG",
          "MLI",
          "MMR",
          "MOZ",
          "MRT",
          "MWI",
          "NAM",
          "NGA",
          "NIC",
          "PAK",
          "PER",
          "PHL",
          "SEN",
          "SLE",
          "SWZ",
          "TCD",
          "TGO",
          "TJK",
          "TLS",
          "TZA",
          "UGA",
          "ZAF",
          "ZMB",
          "ZWE"
         ]
        },
        {
         "marker": {
          "color": "rgba(240, 230, 140, 0.95)",
          "line": {
           "width": 1
          },
          "size": 16,
          "symbol": "circle"
         },
         "mode": "markers",
         "name": "14",
         "type": "scatter",
         "x": [
          -28.64,
          null,
          null,
          null,
          null,
          null,
          null,
          -14.825,
          null,
          null,
          null,
          null,
          null,
          -11.103,
          null,
          null,
          157.111,
          null,
          null,
          null,
          null,
          null,
          -6.429,
          null,
          null,
          null,
          null,
          12.093,
          null,
          null,
          null,
          null,
          null,
          null,
          9.236,
          null,
          -6.503,
          null,
          null,
          null,
          null,
          null,
          null,
          null,
          -88.417,
          null,
          -59.987,
          null,
          null,
          null,
          null,
          -38.342,
          null,
          null,
          -13.907
         ],
         "y": [
          "AGO",
          "ALB",
          "ARM",
          "BEN",
          "BFA",
          "BGD",
          "BOL",
          "CIV",
          "CMR",
          "COD",
          "COM",
          "DOM",
          "EGY",
          "ETH",
          "GAB",
          "GHA",
          "GIN",
          "GMB",
          "GTM",
          "GUY",
          "HND",
          "HTI",
          "IND",
          "JOR",
          "KEN",
          "KGZ",
          "KHM",
          "LBR",
          "LSO",
          "MAR",
          "MDA",
          "MDG",
          "MLI",
          "MMR",
          "MOZ",
          "MRT",
          "MWI",
          "NAM",
          "NGA",
          "NIC",
          "PAK",
          "PER",
          "PHL",
          "SEN",
          "SLE",
          "SWZ",
          "TCD",
          "TGO",
          "TJK",
          "TLS",
          "TZA",
          "UGA",
          "ZAF",
          "ZMB",
          "ZWE"
         ]
        },
        {
         "marker": {
          "color": "rgba(240, 230, 140, 0.95)",
          "line": {
           "width": 1
          },
          "size": 16,
          "symbol": "circle"
         },
         "mode": "markers",
         "name": "15",
         "type": "scatter",
         "x": [
          -20.915,
          null,
          null,
          null,
          null,
          null,
          null,
          -10.743,
          -13.646,
          null,
          null,
          null,
          null,
          -11.013,
          null,
          null,
          157.154,
          null,
          null,
          null,
          null,
          null,
          -5.778,
          null,
          null,
          null,
          null,
          4.508,
          null,
          null,
          null,
          -8.822,
          null,
          null,
          -34.402,
          null,
          -20.971,
          null,
          null,
          null,
          null,
          null,
          null,
          null,
          -74.166,
          null,
          -48.685,
          null,
          null,
          null,
          null,
          -38.003,
          null,
          null,
          -15.308
         ],
         "y": [
          "AGO",
          "ALB",
          "ARM",
          "BEN",
          "BFA",
          "BGD",
          "BOL",
          "CIV",
          "CMR",
          "COD",
          "COM",
          "DOM",
          "EGY",
          "ETH",
          "GAB",
          "GHA",
          "GIN",
          "GMB",
          "GTM",
          "GUY",
          "HND",
          "HTI",
          "IND",
          "JOR",
          "KEN",
          "KGZ",
          "KHM",
          "LBR",
          "LSO",
          "MAR",
          "MDA",
          "MDG",
          "MLI",
          "MMR",
          "MOZ",
          "MRT",
          "MWI",
          "NAM",
          "NGA",
          "NIC",
          "PAK",
          "PER",
          "PHL",
          "SEN",
          "SLE",
          "SWZ",
          "TCD",
          "TGO",
          "TJK",
          "TLS",
          "TZA",
          "UGA",
          "ZAF",
          "ZMB",
          "ZWE"
         ]
        },
        {
         "marker": {
          "color": "rgba(240, 230, 140, 0.95)",
          "line": {
           "width": 1
          },
          "size": 16,
          "symbol": "circle"
         },
         "mode": "markers",
         "name": "16",
         "type": "scatter",
         "x": [
          -21.912,
          null,
          null,
          null,
          null,
          null,
          null,
          -17.534,
          -17.97,
          null,
          null,
          null,
          null,
          -11.591,
          null,
          null,
          164.569,
          null,
          null,
          null,
          null,
          null,
          -5.333,
          null,
          null,
          null,
          null,
          null,
          null,
          null,
          null,
          -11.855,
          null,
          null,
          -29.681,
          null,
          -18.717,
          -13.549,
          null,
          null,
          null,
          null,
          null,
          null,
          -71.309,
          null,
          -51.583,
          null,
          null,
          null,
          null,
          -34.226,
          null,
          null,
          -13.608
         ],
         "y": [
          "AGO",
          "ALB",
          "ARM",
          "BEN",
          "BFA",
          "BGD",
          "BOL",
          "CIV",
          "CMR",
          "COD",
          "COM",
          "DOM",
          "EGY",
          "ETH",
          "GAB",
          "GHA",
          "GIN",
          "GMB",
          "GTM",
          "GUY",
          "HND",
          "HTI",
          "IND",
          "JOR",
          "KEN",
          "KGZ",
          "KHM",
          "LBR",
          "LSO",
          "MAR",
          "MDA",
          "MDG",
          "MLI",
          "MMR",
          "MOZ",
          "MRT",
          "MWI",
          "NAM",
          "NGA",
          "NIC",
          "PAK",
          "PER",
          "PHL",
          "SEN",
          "SLE",
          "SWZ",
          "TCD",
          "TGO",
          "TJK",
          "TLS",
          "TZA",
          "UGA",
          "ZAF",
          "ZMB",
          "ZWE"
         ]
        }
       ],
       "layout": {
        "height": 600,
        "hovermode": "closest",
        "legend": {
         "font": {
          "size": 10
         },
         "xanchor": "center",
         "yanchor": "top"
        },
        "margin": {
         "b": 50,
         "l": 140,
         "r": 40,
         "t": 80
        },
        "paper_bgcolor": "white",
        "plot_bgcolor": "white",
        "shapes": [
         {
          "line": {
           "color": "red",
           "dash": "dashdot",
           "width": 2
          },
          "type": "line",
          "x0": 0,
          "x1": 0,
          "y0": 0,
          "y1": 55
         }
        ],
        "template": {
         "data": {
          "bar": [
           {
            "error_x": {
             "color": "#2a3f5f"
            },
            "error_y": {
             "color": "#2a3f5f"
            },
            "marker": {
             "line": {
              "color": "#E5ECF6",
              "width": 0.5
             },
             "pattern": {
              "fillmode": "overlay",
              "size": 10,
              "solidity": 0.2
             }
            },
            "type": "bar"
           }
          ],
          "barpolar": [
           {
            "marker": {
             "line": {
              "color": "#E5ECF6",
              "width": 0.5
             },
             "pattern": {
              "fillmode": "overlay",
              "size": 10,
              "solidity": 0.2
             }
            },
            "type": "barpolar"
           }
          ],
          "carpet": [
           {
            "aaxis": {
             "endlinecolor": "#2a3f5f",
             "gridcolor": "white",
             "linecolor": "white",
             "minorgridcolor": "white",
             "startlinecolor": "#2a3f5f"
            },
            "baxis": {
             "endlinecolor": "#2a3f5f",
             "gridcolor": "white",
             "linecolor": "white",
             "minorgridcolor": "white",
             "startlinecolor": "#2a3f5f"
            },
            "type": "carpet"
           }
          ],
          "choropleth": [
           {
            "colorbar": {
             "outlinewidth": 0,
             "ticks": ""
            },
            "type": "choropleth"
           }
          ],
          "contour": [
           {
            "colorbar": {
             "outlinewidth": 0,
             "ticks": ""
            },
            "colorscale": [
             [
              0,
              "#0d0887"
             ],
             [
              0.1111111111111111,
              "#46039f"
             ],
             [
              0.2222222222222222,
              "#7201a8"
             ],
             [
              0.3333333333333333,
              "#9c179e"
             ],
             [
              0.4444444444444444,
              "#bd3786"
             ],
             [
              0.5555555555555556,
              "#d8576b"
             ],
             [
              0.6666666666666666,
              "#ed7953"
             ],
             [
              0.7777777777777778,
              "#fb9f3a"
             ],
             [
              0.8888888888888888,
              "#fdca26"
             ],
             [
              1,
              "#f0f921"
             ]
            ],
            "type": "contour"
           }
          ],
          "contourcarpet": [
           {
            "colorbar": {
             "outlinewidth": 0,
             "ticks": ""
            },
            "type": "contourcarpet"
           }
          ],
          "heatmap": [
           {
            "colorbar": {
             "outlinewidth": 0,
             "ticks": ""
            },
            "colorscale": [
             [
              0,
              "#0d0887"
             ],
             [
              0.1111111111111111,
              "#46039f"
             ],
             [
              0.2222222222222222,
              "#7201a8"
             ],
             [
              0.3333333333333333,
              "#9c179e"
             ],
             [
              0.4444444444444444,
              "#bd3786"
             ],
             [
              0.5555555555555556,
              "#d8576b"
             ],
             [
              0.6666666666666666,
              "#ed7953"
             ],
             [
              0.7777777777777778,
              "#fb9f3a"
             ],
             [
              0.8888888888888888,
              "#fdca26"
             ],
             [
              1,
              "#f0f921"
             ]
            ],
            "type": "heatmap"
           }
          ],
          "heatmapgl": [
           {
            "colorbar": {
             "outlinewidth": 0,
             "ticks": ""
            },
            "colorscale": [
             [
              0,
              "#0d0887"
             ],
             [
              0.1111111111111111,
              "#46039f"
             ],
             [
              0.2222222222222222,
              "#7201a8"
             ],
             [
              0.3333333333333333,
              "#9c179e"
             ],
             [
              0.4444444444444444,
              "#bd3786"
             ],
             [
              0.5555555555555556,
              "#d8576b"
             ],
             [
              0.6666666666666666,
              "#ed7953"
             ],
             [
              0.7777777777777778,
              "#fb9f3a"
             ],
             [
              0.8888888888888888,
              "#fdca26"
             ],
             [
              1,
              "#f0f921"
             ]
            ],
            "type": "heatmapgl"
           }
          ],
          "histogram": [
           {
            "marker": {
             "pattern": {
              "fillmode": "overlay",
              "size": 10,
              "solidity": 0.2
             }
            },
            "type": "histogram"
           }
          ],
          "histogram2d": [
           {
            "colorbar": {
             "outlinewidth": 0,
             "ticks": ""
            },
            "colorscale": [
             [
              0,
              "#0d0887"
             ],
             [
              0.1111111111111111,
              "#46039f"
             ],
             [
              0.2222222222222222,
              "#7201a8"
             ],
             [
              0.3333333333333333,
              "#9c179e"
             ],
             [
              0.4444444444444444,
              "#bd3786"
             ],
             [
              0.5555555555555556,
              "#d8576b"
             ],
             [
              0.6666666666666666,
              "#ed7953"
             ],
             [
              0.7777777777777778,
              "#fb9f3a"
             ],
             [
              0.8888888888888888,
              "#fdca26"
             ],
             [
              1,
              "#f0f921"
             ]
            ],
            "type": "histogram2d"
           }
          ],
          "histogram2dcontour": [
           {
            "colorbar": {
             "outlinewidth": 0,
             "ticks": ""
            },
            "colorscale": [
             [
              0,
              "#0d0887"
             ],
             [
              0.1111111111111111,
              "#46039f"
             ],
             [
              0.2222222222222222,
              "#7201a8"
             ],
             [
              0.3333333333333333,
              "#9c179e"
             ],
             [
              0.4444444444444444,
              "#bd3786"
             ],
             [
              0.5555555555555556,
              "#d8576b"
             ],
             [
              0.6666666666666666,
              "#ed7953"
             ],
             [
              0.7777777777777778,
              "#fb9f3a"
             ],
             [
              0.8888888888888888,
              "#fdca26"
             ],
             [
              1,
              "#f0f921"
             ]
            ],
            "type": "histogram2dcontour"
           }
          ],
          "mesh3d": [
           {
            "colorbar": {
             "outlinewidth": 0,
             "ticks": ""
            },
            "type": "mesh3d"
           }
          ],
          "parcoords": [
           {
            "line": {
             "colorbar": {
              "outlinewidth": 0,
              "ticks": ""
             }
            },
            "type": "parcoords"
           }
          ],
          "pie": [
           {
            "automargin": true,
            "type": "pie"
           }
          ],
          "scatter": [
           {
            "fillpattern": {
             "fillmode": "overlay",
             "size": 10,
             "solidity": 0.2
            },
            "type": "scatter"
           }
          ],
          "scatter3d": [
           {
            "line": {
             "colorbar": {
              "outlinewidth": 0,
              "ticks": ""
             }
            },
            "marker": {
             "colorbar": {
              "outlinewidth": 0,
              "ticks": ""
             }
            },
            "type": "scatter3d"
           }
          ],
          "scattercarpet": [
           {
            "marker": {
             "colorbar": {
              "outlinewidth": 0,
              "ticks": ""
             }
            },
            "type": "scattercarpet"
           }
          ],
          "scattergeo": [
           {
            "marker": {
             "colorbar": {
              "outlinewidth": 0,
              "ticks": ""
             }
            },
            "type": "scattergeo"
           }
          ],
          "scattergl": [
           {
            "marker": {
             "colorbar": {
              "outlinewidth": 0,
              "ticks": ""
             }
            },
            "type": "scattergl"
           }
          ],
          "scattermapbox": [
           {
            "marker": {
             "colorbar": {
              "outlinewidth": 0,
              "ticks": ""
             }
            },
            "type": "scattermapbox"
           }
          ],
          "scatterpolar": [
           {
            "marker": {
             "colorbar": {
              "outlinewidth": 0,
              "ticks": ""
             }
            },
            "type": "scatterpolar"
           }
          ],
          "scatterpolargl": [
           {
            "marker": {
             "colorbar": {
              "outlinewidth": 0,
              "ticks": ""
             }
            },
            "type": "scatterpolargl"
           }
          ],
          "scatterternary": [
           {
            "marker": {
             "colorbar": {
              "outlinewidth": 0,
              "ticks": ""
             }
            },
            "type": "scatterternary"
           }
          ],
          "surface": [
           {
            "colorbar": {
             "outlinewidth": 0,
             "ticks": ""
            },
            "colorscale": [
             [
              0,
              "#0d0887"
             ],
             [
              0.1111111111111111,
              "#46039f"
             ],
             [
              0.2222222222222222,
              "#7201a8"
             ],
             [
              0.3333333333333333,
              "#9c179e"
             ],
             [
              0.4444444444444444,
              "#bd3786"
             ],
             [
              0.5555555555555556,
              "#d8576b"
             ],
             [
              0.6666666666666666,
              "#ed7953"
             ],
             [
              0.7777777777777778,
              "#fb9f3a"
             ],
             [
              0.8888888888888888,
              "#fdca26"
             ],
             [
              1,
              "#f0f921"
             ]
            ],
            "type": "surface"
           }
          ],
          "table": [
           {
            "cells": {
             "fill": {
              "color": "#EBF0F8"
             },
             "line": {
              "color": "white"
             }
            },
            "header": {
             "fill": {
              "color": "#C8D4E3"
             },
             "line": {
              "color": "white"
             }
            },
            "type": "table"
           }
          ]
         },
         "layout": {
          "annotationdefaults": {
           "arrowcolor": "#2a3f5f",
           "arrowhead": 0,
           "arrowwidth": 1
          },
          "autotypenumbers": "strict",
          "coloraxis": {
           "colorbar": {
            "outlinewidth": 0,
            "ticks": ""
           }
          },
          "colorscale": {
           "diverging": [
            [
             0,
             "#8e0152"
            ],
            [
             0.1,
             "#c51b7d"
            ],
            [
             0.2,
             "#de77ae"
            ],
            [
             0.3,
             "#f1b6da"
            ],
            [
             0.4,
             "#fde0ef"
            ],
            [
             0.5,
             "#f7f7f7"
            ],
            [
             0.6,
             "#e6f5d0"
            ],
            [
             0.7,
             "#b8e186"
            ],
            [
             0.8,
             "#7fbc41"
            ],
            [
             0.9,
             "#4d9221"
            ],
            [
             1,
             "#276419"
            ]
           ],
           "sequential": [
            [
             0,
             "#0d0887"
            ],
            [
             0.1111111111111111,
             "#46039f"
            ],
            [
             0.2222222222222222,
             "#7201a8"
            ],
            [
             0.3333333333333333,
             "#9c179e"
            ],
            [
             0.4444444444444444,
             "#bd3786"
            ],
            [
             0.5555555555555556,
             "#d8576b"
            ],
            [
             0.6666666666666666,
             "#ed7953"
            ],
            [
             0.7777777777777778,
             "#fb9f3a"
            ],
            [
             0.8888888888888888,
             "#fdca26"
            ],
            [
             1,
             "#f0f921"
            ]
           ],
           "sequentialminus": [
            [
             0,
             "#0d0887"
            ],
            [
             0.1111111111111111,
             "#46039f"
            ],
            [
             0.2222222222222222,
             "#7201a8"
            ],
            [
             0.3333333333333333,
             "#9c179e"
            ],
            [
             0.4444444444444444,
             "#bd3786"
            ],
            [
             0.5555555555555556,
             "#d8576b"
            ],
            [
             0.6666666666666666,
             "#ed7953"
            ],
            [
             0.7777777777777778,
             "#fb9f3a"
            ],
            [
             0.8888888888888888,
             "#fdca26"
            ],
            [
             1,
             "#f0f921"
            ]
           ]
          },
          "colorway": [
           "#636efa",
           "#EF553B",
           "#00cc96",
           "#ab63fa",
           "#FFA15A",
           "#19d3f3",
           "#FF6692",
           "#B6E880",
           "#FF97FF",
           "#FECB52"
          ],
          "font": {
           "color": "#2a3f5f"
          },
          "geo": {
           "bgcolor": "white",
           "lakecolor": "white",
           "landcolor": "#E5ECF6",
           "showlakes": true,
           "showland": true,
           "subunitcolor": "white"
          },
          "hoverlabel": {
           "align": "left"
          },
          "hovermode": "closest",
          "mapbox": {
           "style": "light"
          },
          "paper_bgcolor": "white",
          "plot_bgcolor": "#E5ECF6",
          "polar": {
           "angularaxis": {
            "gridcolor": "white",
            "linecolor": "white",
            "ticks": ""
           },
           "bgcolor": "#E5ECF6",
           "radialaxis": {
            "gridcolor": "white",
            "linecolor": "white",
            "ticks": ""
           }
          },
          "scene": {
           "xaxis": {
            "backgroundcolor": "#E5ECF6",
            "gridcolor": "white",
            "gridwidth": 2,
            "linecolor": "white",
            "showbackground": true,
            "ticks": "",
            "zerolinecolor": "white"
           },
           "yaxis": {
            "backgroundcolor": "#E5ECF6",
            "gridcolor": "white",
            "gridwidth": 2,
            "linecolor": "white",
            "showbackground": true,
            "ticks": "",
            "zerolinecolor": "white"
           },
           "zaxis": {
            "backgroundcolor": "#E5ECF6",
            "gridcolor": "white",
            "gridwidth": 2,
            "linecolor": "white",
            "showbackground": true,
            "ticks": "",
            "zerolinecolor": "white"
           }
          },
          "shapedefaults": {
           "line": {
            "color": "#2a3f5f"
           }
          },
          "ternary": {
           "aaxis": {
            "gridcolor": "white",
            "linecolor": "white",
            "ticks": ""
           },
           "baxis": {
            "gridcolor": "white",
            "linecolor": "white",
            "ticks": ""
           },
           "bgcolor": "#E5ECF6",
           "caxis": {
            "gridcolor": "white",
            "linecolor": "white",
            "ticks": ""
           }
          },
          "title": {
           "x": 0.05
          },
          "xaxis": {
           "automargin": true,
           "gridcolor": "white",
           "linecolor": "white",
           "ticks": "",
           "title": {
            "standoff": 15
           },
           "zerolinecolor": "white",
           "zerolinewidth": 2
          },
          "yaxis": {
           "automargin": true,
           "gridcolor": "white",
           "linecolor": "white",
           "ticks": "",
           "title": {
            "standoff": 15
           },
           "zerolinecolor": "white",
           "zerolinewidth": 2
          }
         }
        },
        "title": {
         "text": "drought 3.0 q2"
        },
        "width": 1600,
        "xaxis": {
         "linecolor": "rgb(102, 102, 102)",
         "showgrid": false,
         "showline": true,
         "showticklabels": true,
         "tickcolor": "rgb(102, 102, 102)",
         "tickfont": {
          "color": "rgb(102, 102, 102)"
         },
         "ticks": "outside"
        }
       }
      }
     },
     "metadata": {},
     "output_type": "display_data"
    },
    {
     "data": {
      "application/vnd.plotly.v1+json": {
       "config": {
        "plotlyServerURL": "https://plot.ly"
       },
       "data": [
        {
         "marker": {
          "color": "rgba(156, 165, 196, 0.95)",
          "line": {
           "width": 1
          },
          "size": 16,
          "symbol": "circle"
         },
         "mode": "markers",
         "name": "1",
         "type": "scatter",
         "x": [
          null,
          null,
          null,
          null,
          null,
          null,
          null,
          null,
          null,
          null,
          null,
          null,
          null,
          null,
          null,
          null,
          null,
          null,
          null,
          null,
          null,
          null,
          null,
          null,
          null,
          null,
          null,
          50.304,
          null,
          null,
          null,
          null,
          null,
          null,
          10.591,
          null,
          null,
          null,
          -46.155,
          null,
          null,
          113.135,
          null,
          null,
          -59.043,
          null,
          -7.531,
          null,
          null,
          -43.398,
          null,
          -30.955,
          null,
          null,
          null
         ],
         "y": [
          "AGO",
          "ALB",
          "ARM",
          "BEN",
          "BFA",
          "BGD",
          "BOL",
          "CIV",
          "CMR",
          "COD",
          "COM",
          "DOM",
          "EGY",
          "ETH",
          "GAB",
          "GHA",
          "GIN",
          "GMB",
          "GTM",
          "GUY",
          "HND",
          "HTI",
          "IND",
          "JOR",
          "KEN",
          "KGZ",
          "KHM",
          "LBR",
          "LSO",
          "MAR",
          "MDA",
          "MDG",
          "MLI",
          "MMR",
          "MOZ",
          "MRT",
          "MWI",
          "NAM",
          "NGA",
          "NIC",
          "PAK",
          "PER",
          "PHL",
          "SEN",
          "SLE",
          "SWZ",
          "TCD",
          "TGO",
          "TJK",
          "TLS",
          "TZA",
          "UGA",
          "ZAF",
          "ZMB",
          "ZWE"
         ]
        },
        {
         "marker": {
          "color": "rgba(156, 165, 196, 0.95)",
          "line": {
           "width": 1
          },
          "size": 16,
          "symbol": "circle"
         },
         "mode": "markers",
         "name": "2",
         "type": "scatter",
         "x": [
          null,
          null,
          null,
          null,
          null,
          null,
          null,
          null,
          null,
          null,
          null,
          null,
          null,
          null,
          null,
          null,
          null,
          null,
          null,
          null,
          null,
          null,
          null,
          null,
          null,
          null,
          null,
          50.426,
          null,
          null,
          null,
          null,
          null,
          null,
          null,
          null,
          null,
          null,
          -44.425,
          null,
          null,
          54.548,
          null,
          null,
          -65.544,
          null,
          -6.969,
          null,
          null,
          -46.47,
          null,
          -19.075,
          null,
          null,
          null
         ],
         "y": [
          "AGO",
          "ALB",
          "ARM",
          "BEN",
          "BFA",
          "BGD",
          "BOL",
          "CIV",
          "CMR",
          "COD",
          "COM",
          "DOM",
          "EGY",
          "ETH",
          "GAB",
          "GHA",
          "GIN",
          "GMB",
          "GTM",
          "GUY",
          "HND",
          "HTI",
          "IND",
          "JOR",
          "KEN",
          "KGZ",
          "KHM",
          "LBR",
          "LSO",
          "MAR",
          "MDA",
          "MDG",
          "MLI",
          "MMR",
          "MOZ",
          "MRT",
          "MWI",
          "NAM",
          "NGA",
          "NIC",
          "PAK",
          "PER",
          "PHL",
          "SEN",
          "SLE",
          "SWZ",
          "TCD",
          "TGO",
          "TJK",
          "TLS",
          "TZA",
          "UGA",
          "ZAF",
          "ZMB",
          "ZWE"
         ]
        },
        {
         "marker": {
          "color": "rgba(156, 165, 196, 0.95)",
          "line": {
           "width": 1
          },
          "size": 16,
          "symbol": "circle"
         },
         "mode": "markers",
         "name": "3",
         "type": "scatter",
         "x": [
          null,
          null,
          null,
          null,
          null,
          null,
          null,
          null,
          null,
          null,
          null,
          null,
          null,
          null,
          null,
          null,
          14.028,
          null,
          null,
          null,
          null,
          null,
          null,
          null,
          null,
          null,
          null,
          49.964,
          null,
          null,
          null,
          null,
          null,
          null,
          -55.756,
          null,
          null,
          null,
          -45.127,
          null,
          null,
          55.413,
          null,
          null,
          -53.193,
          null,
          null,
          null,
          null,
          -42.368,
          null,
          -22.917,
          null,
          null,
          null
         ],
         "y": [
          "AGO",
          "ALB",
          "ARM",
          "BEN",
          "BFA",
          "BGD",
          "BOL",
          "CIV",
          "CMR",
          "COD",
          "COM",
          "DOM",
          "EGY",
          "ETH",
          "GAB",
          "GHA",
          "GIN",
          "GMB",
          "GTM",
          "GUY",
          "HND",
          "HTI",
          "IND",
          "JOR",
          "KEN",
          "KGZ",
          "KHM",
          "LBR",
          "LSO",
          "MAR",
          "MDA",
          "MDG",
          "MLI",
          "MMR",
          "MOZ",
          "MRT",
          "MWI",
          "NAM",
          "NGA",
          "NIC",
          "PAK",
          "PER",
          "PHL",
          "SEN",
          "SLE",
          "SWZ",
          "TCD",
          "TGO",
          "TJK",
          "TLS",
          "TZA",
          "UGA",
          "ZAF",
          "ZMB",
          "ZWE"
         ]
        },
        {
         "marker": {
          "color": "rgba(156, 165, 196, 0.95)",
          "line": {
           "width": 1
          },
          "size": 16,
          "symbol": "circle"
         },
         "mode": "markers",
         "name": "4",
         "type": "scatter",
         "x": [
          -25.525,
          null,
          null,
          null,
          null,
          null,
          null,
          -13.52,
          131.726,
          null,
          null,
          null,
          null,
          null,
          null,
          null,
          18.337,
          null,
          null,
          null,
          null,
          null,
          null,
          null,
          null,
          null,
          null,
          33.338,
          null,
          null,
          null,
          null,
          null,
          18.049,
          -45.089,
          null,
          null,
          null,
          -45.457,
          null,
          null,
          35.288,
          null,
          null,
          -52.59,
          null,
          -28.547,
          null,
          null,
          -42.403,
          null,
          -21.909,
          null,
          null,
          null
         ],
         "y": [
          "AGO",
          "ALB",
          "ARM",
          "BEN",
          "BFA",
          "BGD",
          "BOL",
          "CIV",
          "CMR",
          "COD",
          "COM",
          "DOM",
          "EGY",
          "ETH",
          "GAB",
          "GHA",
          "GIN",
          "GMB",
          "GTM",
          "GUY",
          "HND",
          "HTI",
          "IND",
          "JOR",
          "KEN",
          "KGZ",
          "KHM",
          "LBR",
          "LSO",
          "MAR",
          "MDA",
          "MDG",
          "MLI",
          "MMR",
          "MOZ",
          "MRT",
          "MWI",
          "NAM",
          "NGA",
          "NIC",
          "PAK",
          "PER",
          "PHL",
          "SEN",
          "SLE",
          "SWZ",
          "TCD",
          "TGO",
          "TJK",
          "TLS",
          "TZA",
          "UGA",
          "ZAF",
          "ZMB",
          "ZWE"
         ]
        },
        {
         "marker": {
          "color": "rgba(204, 204, 204, 0.95)",
          "line": {
           "width": 1
          },
          "size": 16,
          "symbol": "circle"
         },
         "mode": "markers",
         "name": "5",
         "type": "scatter",
         "x": [
          null,
          null,
          null,
          null,
          null,
          null,
          null,
          -13.603,
          null,
          null,
          null,
          null,
          null,
          null,
          null,
          null,
          -4.671,
          null,
          null,
          null,
          null,
          null,
          null,
          null,
          null,
          null,
          null,
          -18.686,
          null,
          null,
          null,
          null,
          null,
          -10.847,
          5.834,
          null,
          null,
          null,
          null,
          null,
          null,
          null,
          null,
          null,
          -18.9,
          null,
          -17.934,
          null,
          null,
          null,
          null,
          null,
          null,
          null,
          null
         ],
         "y": [
          "AGO",
          "ALB",
          "ARM",
          "BEN",
          "BFA",
          "BGD",
          "BOL",
          "CIV",
          "CMR",
          "COD",
          "COM",
          "DOM",
          "EGY",
          "ETH",
          "GAB",
          "GHA",
          "GIN",
          "GMB",
          "GTM",
          "GUY",
          "HND",
          "HTI",
          "IND",
          "JOR",
          "KEN",
          "KGZ",
          "KHM",
          "LBR",
          "LSO",
          "MAR",
          "MDA",
          "MDG",
          "MLI",
          "MMR",
          "MOZ",
          "MRT",
          "MWI",
          "NAM",
          "NGA",
          "NIC",
          "PAK",
          "PER",
          "PHL",
          "SEN",
          "SLE",
          "SWZ",
          "TCD",
          "TGO",
          "TJK",
          "TLS",
          "TZA",
          "UGA",
          "ZAF",
          "ZMB",
          "ZWE"
         ]
        },
        {
         "marker": {
          "color": "rgba(204, 204, 204, 0.95)",
          "line": {
           "width": 1
          },
          "size": 16,
          "symbol": "circle"
         },
         "mode": "markers",
         "name": "6",
         "type": "scatter",
         "x": [
          null,
          null,
          null,
          null,
          null,
          null,
          null,
          -16.236,
          null,
          null,
          null,
          null,
          null,
          null,
          null,
          null,
          -8.865,
          null,
          null,
          null,
          null,
          null,
          null,
          null,
          null,
          null,
          null,
          -18.564,
          null,
          null,
          null,
          null,
          null,
          -9.594,
          4.979,
          null,
          null,
          null,
          null,
          null,
          null,
          null,
          null,
          null,
          -27.009,
          null,
          -12.715,
          null,
          null,
          null,
          null,
          null,
          null,
          null,
          null
         ],
         "y": [
          "AGO",
          "ALB",
          "ARM",
          "BEN",
          "BFA",
          "BGD",
          "BOL",
          "CIV",
          "CMR",
          "COD",
          "COM",
          "DOM",
          "EGY",
          "ETH",
          "GAB",
          "GHA",
          "GIN",
          "GMB",
          "GTM",
          "GUY",
          "HND",
          "HTI",
          "IND",
          "JOR",
          "KEN",
          "KGZ",
          "KHM",
          "LBR",
          "LSO",
          "MAR",
          "MDA",
          "MDG",
          "MLI",
          "MMR",
          "MOZ",
          "MRT",
          "MWI",
          "NAM",
          "NGA",
          "NIC",
          "PAK",
          "PER",
          "PHL",
          "SEN",
          "SLE",
          "SWZ",
          "TCD",
          "TGO",
          "TJK",
          "TLS",
          "TZA",
          "UGA",
          "ZAF",
          "ZMB",
          "ZWE"
         ]
        },
        {
         "marker": {
          "color": "rgba(204, 204, 204, 0.95)",
          "line": {
           "width": 1
          },
          "size": 16,
          "symbol": "circle"
         },
         "mode": "markers",
         "name": "7",
         "type": "scatter",
         "x": [
          null,
          null,
          null,
          null,
          null,
          null,
          null,
          -10.47,
          null,
          null,
          null,
          null,
          null,
          null,
          null,
          null,
          -20.401,
          null,
          null,
          null,
          null,
          null,
          null,
          null,
          null,
          null,
          null,
          -14.679,
          null,
          null,
          null,
          null,
          null,
          -15.348,
          -7.151,
          null,
          null,
          -8.072,
          null,
          null,
          null,
          2.458,
          null,
          null,
          -21.398,
          null,
          -14.207,
          null,
          null,
          null,
          null,
          -10.723,
          null,
          null,
          -6.703
         ],
         "y": [
          "AGO",
          "ALB",
          "ARM",
          "BEN",
          "BFA",
          "BGD",
          "BOL",
          "CIV",
          "CMR",
          "COD",
          "COM",
          "DOM",
          "EGY",
          "ETH",
          "GAB",
          "GHA",
          "GIN",
          "GMB",
          "GTM",
          "GUY",
          "HND",
          "HTI",
          "IND",
          "JOR",
          "KEN",
          "KGZ",
          "KHM",
          "LBR",
          "LSO",
          "MAR",
          "MDA",
          "MDG",
          "MLI",
          "MMR",
          "MOZ",
          "MRT",
          "MWI",
          "NAM",
          "NGA",
          "NIC",
          "PAK",
          "PER",
          "PHL",
          "SEN",
          "SLE",
          "SWZ",
          "TCD",
          "TGO",
          "TJK",
          "TLS",
          "TZA",
          "UGA",
          "ZAF",
          "ZMB",
          "ZWE"
         ]
        },
        {
         "marker": {
          "color": "rgba(204, 204, 204, 0.95)",
          "line": {
           "width": 1
          },
          "size": 16,
          "symbol": "circle"
         },
         "mode": "markers",
         "name": "8",
         "type": "scatter",
         "x": [
          null,
          null,
          null,
          null,
          null,
          null,
          null,
          -10.72,
          null,
          null,
          null,
          null,
          null,
          null,
          null,
          null,
          -10.805,
          null,
          null,
          null,
          null,
          null,
          null,
          null,
          null,
          null,
          null,
          -18.781,
          null,
          null,
          null,
          null,
          null,
          -14.047,
          -8.684,
          null,
          null,
          -4.049,
          null,
          null,
          null,
          5.785,
          null,
          null,
          -21.556,
          null,
          -11.033,
          null,
          null,
          null,
          null,
          null,
          null,
          -4.476,
          -7.676
         ],
         "y": [
          "AGO",
          "ALB",
          "ARM",
          "BEN",
          "BFA",
          "BGD",
          "BOL",
          "CIV",
          "CMR",
          "COD",
          "COM",
          "DOM",
          "EGY",
          "ETH",
          "GAB",
          "GHA",
          "GIN",
          "GMB",
          "GTM",
          "GUY",
          "HND",
          "HTI",
          "IND",
          "JOR",
          "KEN",
          "KGZ",
          "KHM",
          "LBR",
          "LSO",
          "MAR",
          "MDA",
          "MDG",
          "MLI",
          "MMR",
          "MOZ",
          "MRT",
          "MWI",
          "NAM",
          "NGA",
          "NIC",
          "PAK",
          "PER",
          "PHL",
          "SEN",
          "SLE",
          "SWZ",
          "TCD",
          "TGO",
          "TJK",
          "TLS",
          "TZA",
          "UGA",
          "ZAF",
          "ZMB",
          "ZWE"
         ]
        },
        {
         "marker": {
          "color": "rgba(255, 166, 86, 0.95)",
          "line": {
           "width": 1
          },
          "size": 16,
          "symbol": "circle"
         },
         "mode": "markers",
         "name": "9",
         "type": "scatter",
         "x": [
          null,
          null,
          null,
          null,
          null,
          null,
          null,
          -9.117,
          null,
          null,
          null,
          null,
          null,
          null,
          null,
          null,
          null,
          null,
          null,
          null,
          null,
          null,
          null,
          null,
          null,
          null,
          null,
          -28.069,
          null,
          null,
          null,
          null,
          null,
          -233.364,
          -27.586,
          null,
          null,
          null,
          -14.366,
          null,
          null,
          null,
          null,
          null,
          -25.937,
          null,
          6.834,
          null,
          null,
          null,
          null,
          null,
          null,
          null,
          null
         ],
         "y": [
          "AGO",
          "ALB",
          "ARM",
          "BEN",
          "BFA",
          "BGD",
          "BOL",
          "CIV",
          "CMR",
          "COD",
          "COM",
          "DOM",
          "EGY",
          "ETH",
          "GAB",
          "GHA",
          "GIN",
          "GMB",
          "GTM",
          "GUY",
          "HND",
          "HTI",
          "IND",
          "JOR",
          "KEN",
          "KGZ",
          "KHM",
          "LBR",
          "LSO",
          "MAR",
          "MDA",
          "MDG",
          "MLI",
          "MMR",
          "MOZ",
          "MRT",
          "MWI",
          "NAM",
          "NGA",
          "NIC",
          "PAK",
          "PER",
          "PHL",
          "SEN",
          "SLE",
          "SWZ",
          "TCD",
          "TGO",
          "TJK",
          "TLS",
          "TZA",
          "UGA",
          "ZAF",
          "ZMB",
          "ZWE"
         ]
        },
        {
         "marker": {
          "color": "rgba(255, 166, 86, 0.95)",
          "line": {
           "width": 1
          },
          "size": 16,
          "symbol": "circle"
         },
         "mode": "markers",
         "name": "10",
         "type": "scatter",
         "x": [
          null,
          null,
          null,
          null,
          null,
          null,
          null,
          -9.002,
          null,
          null,
          null,
          null,
          null,
          null,
          null,
          null,
          -24.988,
          null,
          null,
          null,
          null,
          null,
          null,
          null,
          null,
          null,
          null,
          -27.985,
          null,
          null,
          null,
          null,
          null,
          -235.906,
          -32.631,
          null,
          null,
          null,
          -13.367,
          null,
          null,
          null,
          null,
          null,
          -36.837,
          null,
          5.223,
          null,
          null,
          null,
          null,
          null,
          null,
          null,
          null
         ],
         "y": [
          "AGO",
          "ALB",
          "ARM",
          "BEN",
          "BFA",
          "BGD",
          "BOL",
          "CIV",
          "CMR",
          "COD",
          "COM",
          "DOM",
          "EGY",
          "ETH",
          "GAB",
          "GHA",
          "GIN",
          "GMB",
          "GTM",
          "GUY",
          "HND",
          "HTI",
          "IND",
          "JOR",
          "KEN",
          "KGZ",
          "KHM",
          "LBR",
          "LSO",
          "MAR",
          "MDA",
          "MDG",
          "MLI",
          "MMR",
          "MOZ",
          "MRT",
          "MWI",
          "NAM",
          "NGA",
          "NIC",
          "PAK",
          "PER",
          "PHL",
          "SEN",
          "SLE",
          "SWZ",
          "TCD",
          "TGO",
          "TJK",
          "TLS",
          "TZA",
          "UGA",
          "ZAF",
          "ZMB",
          "ZWE"
         ]
        },
        {
         "marker": {
          "color": "rgba(255, 166, 86, 0.95)",
          "line": {
           "width": 1
          },
          "size": 16,
          "symbol": "circle"
         },
         "mode": "markers",
         "name": "11",
         "type": "scatter",
         "x": [
          null,
          null,
          null,
          null,
          null,
          null,
          null,
          -9.485,
          -5.416,
          null,
          null,
          null,
          null,
          null,
          null,
          null,
          -20.749,
          null,
          null,
          null,
          null,
          null,
          null,
          null,
          null,
          null,
          null,
          -25.888,
          null,
          null,
          null,
          149.414,
          null,
          -65.057,
          -19.785,
          null,
          null,
          null,
          -12.8,
          null,
          null,
          null,
          null,
          null,
          -29.337,
          null,
          null,
          null,
          null,
          null,
          null,
          -22.547,
          null,
          null,
          null
         ],
         "y": [
          "AGO",
          "ALB",
          "ARM",
          "BEN",
          "BFA",
          "BGD",
          "BOL",
          "CIV",
          "CMR",
          "COD",
          "COM",
          "DOM",
          "EGY",
          "ETH",
          "GAB",
          "GHA",
          "GIN",
          "GMB",
          "GTM",
          "GUY",
          "HND",
          "HTI",
          "IND",
          "JOR",
          "KEN",
          "KGZ",
          "KHM",
          "LBR",
          "LSO",
          "MAR",
          "MDA",
          "MDG",
          "MLI",
          "MMR",
          "MOZ",
          "MRT",
          "MWI",
          "NAM",
          "NGA",
          "NIC",
          "PAK",
          "PER",
          "PHL",
          "SEN",
          "SLE",
          "SWZ",
          "TCD",
          "TGO",
          "TJK",
          "TLS",
          "TZA",
          "UGA",
          "ZAF",
          "ZMB",
          "ZWE"
         ]
        },
        {
         "marker": {
          "color": "rgba(255, 166, 86, 0.95)",
          "line": {
           "width": 1
          },
          "size": 16,
          "symbol": "circle"
         },
         "mode": "markers",
         "name": "12",
         "type": "scatter",
         "x": [
          null,
          null,
          null,
          null,
          null,
          null,
          null,
          -12.168,
          -3.656,
          null,
          null,
          null,
          null,
          null,
          null,
          null,
          -14.147,
          null,
          null,
          null,
          null,
          null,
          1.822,
          null,
          null,
          null,
          null,
          -26.73,
          null,
          null,
          null,
          145.497,
          null,
          -64.182,
          -20.846,
          null,
          null,
          -7.935,
          -13.59,
          null,
          null,
          2.981,
          null,
          null,
          -28.529,
          null,
          -13.582,
          null,
          null,
          -9.156,
          null,
          -22.332,
          null,
          null,
          null
         ],
         "y": [
          "AGO",
          "ALB",
          "ARM",
          "BEN",
          "BFA",
          "BGD",
          "BOL",
          "CIV",
          "CMR",
          "COD",
          "COM",
          "DOM",
          "EGY",
          "ETH",
          "GAB",
          "GHA",
          "GIN",
          "GMB",
          "GTM",
          "GUY",
          "HND",
          "HTI",
          "IND",
          "JOR",
          "KEN",
          "KGZ",
          "KHM",
          "LBR",
          "LSO",
          "MAR",
          "MDA",
          "MDG",
          "MLI",
          "MMR",
          "MOZ",
          "MRT",
          "MWI",
          "NAM",
          "NGA",
          "NIC",
          "PAK",
          "PER",
          "PHL",
          "SEN",
          "SLE",
          "SWZ",
          "TCD",
          "TGO",
          "TJK",
          "TLS",
          "TZA",
          "UGA",
          "ZAF",
          "ZMB",
          "ZWE"
         ]
        },
        {
         "marker": {
          "color": "rgba(240, 230, 140, 0.95)",
          "line": {
           "width": 1
          },
          "size": 16,
          "symbol": "circle"
         },
         "mode": "markers",
         "name": "13",
         "type": "scatter",
         "x": [
          null,
          null,
          null,
          null,
          null,
          null,
          null,
          null,
          null,
          null,
          null,
          null,
          null,
          -22.87,
          null,
          null,
          101.733,
          null,
          null,
          null,
          null,
          null,
          null,
          null,
          null,
          null,
          null,
          -53.409,
          null,
          null,
          null,
          null,
          null,
          -11.987,
          6.407,
          null,
          null,
          null,
          null,
          null,
          null,
          9.69,
          null,
          null,
          -68.307,
          null,
          9.291,
          null,
          null,
          -23.887,
          null,
          null,
          null,
          -16.353,
          null
         ],
         "y": [
          "AGO",
          "ALB",
          "ARM",
          "BEN",
          "BFA",
          "BGD",
          "BOL",
          "CIV",
          "CMR",
          "COD",
          "COM",
          "DOM",
          "EGY",
          "ETH",
          "GAB",
          "GHA",
          "GIN",
          "GMB",
          "GTM",
          "GUY",
          "HND",
          "HTI",
          "IND",
          "JOR",
          "KEN",
          "KGZ",
          "KHM",
          "LBR",
          "LSO",
          "MAR",
          "MDA",
          "MDG",
          "MLI",
          "MMR",
          "MOZ",
          "MRT",
          "MWI",
          "NAM",
          "NGA",
          "NIC",
          "PAK",
          "PER",
          "PHL",
          "SEN",
          "SLE",
          "SWZ",
          "TCD",
          "TGO",
          "TJK",
          "TLS",
          "TZA",
          "UGA",
          "ZAF",
          "ZMB",
          "ZWE"
         ]
        },
        {
         "marker": {
          "color": "rgba(240, 230, 140, 0.95)",
          "line": {
           "width": 1
          },
          "size": 16,
          "symbol": "circle"
         },
         "mode": "markers",
         "name": "14",
         "type": "scatter",
         "x": [
          null,
          null,
          null,
          null,
          null,
          null,
          null,
          -15.972,
          -22.799,
          null,
          null,
          null,
          null,
          -23.219,
          null,
          null,
          106.377,
          null,
          null,
          null,
          null,
          null,
          null,
          null,
          null,
          null,
          null,
          -53.007,
          null,
          null,
          null,
          null,
          null,
          -12.857,
          null,
          null,
          null,
          -23.628,
          null,
          null,
          null,
          null,
          null,
          null,
          -61.75,
          null,
          6.133,
          null,
          null,
          -22.365,
          null,
          null,
          null,
          null,
          null
         ],
         "y": [
          "AGO",
          "ALB",
          "ARM",
          "BEN",
          "BFA",
          "BGD",
          "BOL",
          "CIV",
          "CMR",
          "COD",
          "COM",
          "DOM",
          "EGY",
          "ETH",
          "GAB",
          "GHA",
          "GIN",
          "GMB",
          "GTM",
          "GUY",
          "HND",
          "HTI",
          "IND",
          "JOR",
          "KEN",
          "KGZ",
          "KHM",
          "LBR",
          "LSO",
          "MAR",
          "MDA",
          "MDG",
          "MLI",
          "MMR",
          "MOZ",
          "MRT",
          "MWI",
          "NAM",
          "NGA",
          "NIC",
          "PAK",
          "PER",
          "PHL",
          "SEN",
          "SLE",
          "SWZ",
          "TCD",
          "TGO",
          "TJK",
          "TLS",
          "TZA",
          "UGA",
          "ZAF",
          "ZMB",
          "ZWE"
         ]
        },
        {
         "marker": {
          "color": "rgba(240, 230, 140, 0.95)",
          "line": {
           "width": 1
          },
          "size": 16,
          "symbol": "circle"
         },
         "mode": "markers",
         "name": "15",
         "type": "scatter",
         "x": [
          null,
          null,
          null,
          null,
          null,
          null,
          null,
          -13.661,
          -24.355,
          null,
          null,
          null,
          null,
          -18.794,
          null,
          null,
          110.293,
          null,
          null,
          null,
          null,
          null,
          null,
          null,
          null,
          null,
          null,
          -63.486,
          null,
          null,
          null,
          -16.292,
          null,
          -14.018,
          -28.74,
          null,
          null,
          -19.113,
          null,
          null,
          null,
          null,
          null,
          null,
          -60.318,
          null,
          -8.659,
          null,
          null,
          -24.97,
          null,
          null,
          null,
          null,
          -15.944
         ],
         "y": [
          "AGO",
          "ALB",
          "ARM",
          "BEN",
          "BFA",
          "BGD",
          "BOL",
          "CIV",
          "CMR",
          "COD",
          "COM",
          "DOM",
          "EGY",
          "ETH",
          "GAB",
          "GHA",
          "GIN",
          "GMB",
          "GTM",
          "GUY",
          "HND",
          "HTI",
          "IND",
          "JOR",
          "KEN",
          "KGZ",
          "KHM",
          "LBR",
          "LSO",
          "MAR",
          "MDA",
          "MDG",
          "MLI",
          "MMR",
          "MOZ",
          "MRT",
          "MWI",
          "NAM",
          "NGA",
          "NIC",
          "PAK",
          "PER",
          "PHL",
          "SEN",
          "SLE",
          "SWZ",
          "TCD",
          "TGO",
          "TJK",
          "TLS",
          "TZA",
          "UGA",
          "ZAF",
          "ZMB",
          "ZWE"
         ]
        },
        {
         "marker": {
          "color": "rgba(240, 230, 140, 0.95)",
          "line": {
           "width": 1
          },
          "size": 16,
          "symbol": "circle"
         },
         "mode": "markers",
         "name": "16",
         "type": "scatter",
         "x": [
          -17.606,
          null,
          null,
          null,
          null,
          null,
          null,
          -18.269,
          -15.151,
          null,
          null,
          null,
          null,
          -15.499,
          null,
          null,
          127.019,
          null,
          null,
          null,
          null,
          null,
          null,
          null,
          null,
          null,
          null,
          -56.197,
          null,
          null,
          null,
          -6.506,
          null,
          null,
          -33.641,
          null,
          null,
          -20.472,
          null,
          null,
          null,
          null,
          null,
          null,
          -59.887,
          null,
          -31.042,
          null,
          null,
          -23.873,
          null,
          null,
          null,
          null,
          -18.03
         ],
         "y": [
          "AGO",
          "ALB",
          "ARM",
          "BEN",
          "BFA",
          "BGD",
          "BOL",
          "CIV",
          "CMR",
          "COD",
          "COM",
          "DOM",
          "EGY",
          "ETH",
          "GAB",
          "GHA",
          "GIN",
          "GMB",
          "GTM",
          "GUY",
          "HND",
          "HTI",
          "IND",
          "JOR",
          "KEN",
          "KGZ",
          "KHM",
          "LBR",
          "LSO",
          "MAR",
          "MDA",
          "MDG",
          "MLI",
          "MMR",
          "MOZ",
          "MRT",
          "MWI",
          "NAM",
          "NGA",
          "NIC",
          "PAK",
          "PER",
          "PHL",
          "SEN",
          "SLE",
          "SWZ",
          "TCD",
          "TGO",
          "TJK",
          "TLS",
          "TZA",
          "UGA",
          "ZAF",
          "ZMB",
          "ZWE"
         ]
        }
       ],
       "layout": {
        "height": 600,
        "hovermode": "closest",
        "legend": {
         "font": {
          "size": 10
         },
         "xanchor": "center",
         "yanchor": "top"
        },
        "margin": {
         "b": 50,
         "l": 140,
         "r": 40,
         "t": 80
        },
        "paper_bgcolor": "white",
        "plot_bgcolor": "white",
        "shapes": [
         {
          "line": {
           "color": "red",
           "dash": "dashdot",
           "width": 2
          },
          "type": "line",
          "x0": 0,
          "x1": 0,
          "y0": 0,
          "y1": 55
         }
        ],
        "template": {
         "data": {
          "bar": [
           {
            "error_x": {
             "color": "#2a3f5f"
            },
            "error_y": {
             "color": "#2a3f5f"
            },
            "marker": {
             "line": {
              "color": "#E5ECF6",
              "width": 0.5
             },
             "pattern": {
              "fillmode": "overlay",
              "size": 10,
              "solidity": 0.2
             }
            },
            "type": "bar"
           }
          ],
          "barpolar": [
           {
            "marker": {
             "line": {
              "color": "#E5ECF6",
              "width": 0.5
             },
             "pattern": {
              "fillmode": "overlay",
              "size": 10,
              "solidity": 0.2
             }
            },
            "type": "barpolar"
           }
          ],
          "carpet": [
           {
            "aaxis": {
             "endlinecolor": "#2a3f5f",
             "gridcolor": "white",
             "linecolor": "white",
             "minorgridcolor": "white",
             "startlinecolor": "#2a3f5f"
            },
            "baxis": {
             "endlinecolor": "#2a3f5f",
             "gridcolor": "white",
             "linecolor": "white",
             "minorgridcolor": "white",
             "startlinecolor": "#2a3f5f"
            },
            "type": "carpet"
           }
          ],
          "choropleth": [
           {
            "colorbar": {
             "outlinewidth": 0,
             "ticks": ""
            },
            "type": "choropleth"
           }
          ],
          "contour": [
           {
            "colorbar": {
             "outlinewidth": 0,
             "ticks": ""
            },
            "colorscale": [
             [
              0,
              "#0d0887"
             ],
             [
              0.1111111111111111,
              "#46039f"
             ],
             [
              0.2222222222222222,
              "#7201a8"
             ],
             [
              0.3333333333333333,
              "#9c179e"
             ],
             [
              0.4444444444444444,
              "#bd3786"
             ],
             [
              0.5555555555555556,
              "#d8576b"
             ],
             [
              0.6666666666666666,
              "#ed7953"
             ],
             [
              0.7777777777777778,
              "#fb9f3a"
             ],
             [
              0.8888888888888888,
              "#fdca26"
             ],
             [
              1,
              "#f0f921"
             ]
            ],
            "type": "contour"
           }
          ],
          "contourcarpet": [
           {
            "colorbar": {
             "outlinewidth": 0,
             "ticks": ""
            },
            "type": "contourcarpet"
           }
          ],
          "heatmap": [
           {
            "colorbar": {
             "outlinewidth": 0,
             "ticks": ""
            },
            "colorscale": [
             [
              0,
              "#0d0887"
             ],
             [
              0.1111111111111111,
              "#46039f"
             ],
             [
              0.2222222222222222,
              "#7201a8"
             ],
             [
              0.3333333333333333,
              "#9c179e"
             ],
             [
              0.4444444444444444,
              "#bd3786"
             ],
             [
              0.5555555555555556,
              "#d8576b"
             ],
             [
              0.6666666666666666,
              "#ed7953"
             ],
             [
              0.7777777777777778,
              "#fb9f3a"
             ],
             [
              0.8888888888888888,
              "#fdca26"
             ],
             [
              1,
              "#f0f921"
             ]
            ],
            "type": "heatmap"
           }
          ],
          "heatmapgl": [
           {
            "colorbar": {
             "outlinewidth": 0,
             "ticks": ""
            },
            "colorscale": [
             [
              0,
              "#0d0887"
             ],
             [
              0.1111111111111111,
              "#46039f"
             ],
             [
              0.2222222222222222,
              "#7201a8"
             ],
             [
              0.3333333333333333,
              "#9c179e"
             ],
             [
              0.4444444444444444,
              "#bd3786"
             ],
             [
              0.5555555555555556,
              "#d8576b"
             ],
             [
              0.6666666666666666,
              "#ed7953"
             ],
             [
              0.7777777777777778,
              "#fb9f3a"
             ],
             [
              0.8888888888888888,
              "#fdca26"
             ],
             [
              1,
              "#f0f921"
             ]
            ],
            "type": "heatmapgl"
           }
          ],
          "histogram": [
           {
            "marker": {
             "pattern": {
              "fillmode": "overlay",
              "size": 10,
              "solidity": 0.2
             }
            },
            "type": "histogram"
           }
          ],
          "histogram2d": [
           {
            "colorbar": {
             "outlinewidth": 0,
             "ticks": ""
            },
            "colorscale": [
             [
              0,
              "#0d0887"
             ],
             [
              0.1111111111111111,
              "#46039f"
             ],
             [
              0.2222222222222222,
              "#7201a8"
             ],
             [
              0.3333333333333333,
              "#9c179e"
             ],
             [
              0.4444444444444444,
              "#bd3786"
             ],
             [
              0.5555555555555556,
              "#d8576b"
             ],
             [
              0.6666666666666666,
              "#ed7953"
             ],
             [
              0.7777777777777778,
              "#fb9f3a"
             ],
             [
              0.8888888888888888,
              "#fdca26"
             ],
             [
              1,
              "#f0f921"
             ]
            ],
            "type": "histogram2d"
           }
          ],
          "histogram2dcontour": [
           {
            "colorbar": {
             "outlinewidth": 0,
             "ticks": ""
            },
            "colorscale": [
             [
              0,
              "#0d0887"
             ],
             [
              0.1111111111111111,
              "#46039f"
             ],
             [
              0.2222222222222222,
              "#7201a8"
             ],
             [
              0.3333333333333333,
              "#9c179e"
             ],
             [
              0.4444444444444444,
              "#bd3786"
             ],
             [
              0.5555555555555556,
              "#d8576b"
             ],
             [
              0.6666666666666666,
              "#ed7953"
             ],
             [
              0.7777777777777778,
              "#fb9f3a"
             ],
             [
              0.8888888888888888,
              "#fdca26"
             ],
             [
              1,
              "#f0f921"
             ]
            ],
            "type": "histogram2dcontour"
           }
          ],
          "mesh3d": [
           {
            "colorbar": {
             "outlinewidth": 0,
             "ticks": ""
            },
            "type": "mesh3d"
           }
          ],
          "parcoords": [
           {
            "line": {
             "colorbar": {
              "outlinewidth": 0,
              "ticks": ""
             }
            },
            "type": "parcoords"
           }
          ],
          "pie": [
           {
            "automargin": true,
            "type": "pie"
           }
          ],
          "scatter": [
           {
            "fillpattern": {
             "fillmode": "overlay",
             "size": 10,
             "solidity": 0.2
            },
            "type": "scatter"
           }
          ],
          "scatter3d": [
           {
            "line": {
             "colorbar": {
              "outlinewidth": 0,
              "ticks": ""
             }
            },
            "marker": {
             "colorbar": {
              "outlinewidth": 0,
              "ticks": ""
             }
            },
            "type": "scatter3d"
           }
          ],
          "scattercarpet": [
           {
            "marker": {
             "colorbar": {
              "outlinewidth": 0,
              "ticks": ""
             }
            },
            "type": "scattercarpet"
           }
          ],
          "scattergeo": [
           {
            "marker": {
             "colorbar": {
              "outlinewidth": 0,
              "ticks": ""
             }
            },
            "type": "scattergeo"
           }
          ],
          "scattergl": [
           {
            "marker": {
             "colorbar": {
              "outlinewidth": 0,
              "ticks": ""
             }
            },
            "type": "scattergl"
           }
          ],
          "scattermapbox": [
           {
            "marker": {
             "colorbar": {
              "outlinewidth": 0,
              "ticks": ""
             }
            },
            "type": "scattermapbox"
           }
          ],
          "scatterpolar": [
           {
            "marker": {
             "colorbar": {
              "outlinewidth": 0,
              "ticks": ""
             }
            },
            "type": "scatterpolar"
           }
          ],
          "scatterpolargl": [
           {
            "marker": {
             "colorbar": {
              "outlinewidth": 0,
              "ticks": ""
             }
            },
            "type": "scatterpolargl"
           }
          ],
          "scatterternary": [
           {
            "marker": {
             "colorbar": {
              "outlinewidth": 0,
              "ticks": ""
             }
            },
            "type": "scatterternary"
           }
          ],
          "surface": [
           {
            "colorbar": {
             "outlinewidth": 0,
             "ticks": ""
            },
            "colorscale": [
             [
              0,
              "#0d0887"
             ],
             [
              0.1111111111111111,
              "#46039f"
             ],
             [
              0.2222222222222222,
              "#7201a8"
             ],
             [
              0.3333333333333333,
              "#9c179e"
             ],
             [
              0.4444444444444444,
              "#bd3786"
             ],
             [
              0.5555555555555556,
              "#d8576b"
             ],
             [
              0.6666666666666666,
              "#ed7953"
             ],
             [
              0.7777777777777778,
              "#fb9f3a"
             ],
             [
              0.8888888888888888,
              "#fdca26"
             ],
             [
              1,
              "#f0f921"
             ]
            ],
            "type": "surface"
           }
          ],
          "table": [
           {
            "cells": {
             "fill": {
              "color": "#EBF0F8"
             },
             "line": {
              "color": "white"
             }
            },
            "header": {
             "fill": {
              "color": "#C8D4E3"
             },
             "line": {
              "color": "white"
             }
            },
            "type": "table"
           }
          ]
         },
         "layout": {
          "annotationdefaults": {
           "arrowcolor": "#2a3f5f",
           "arrowhead": 0,
           "arrowwidth": 1
          },
          "autotypenumbers": "strict",
          "coloraxis": {
           "colorbar": {
            "outlinewidth": 0,
            "ticks": ""
           }
          },
          "colorscale": {
           "diverging": [
            [
             0,
             "#8e0152"
            ],
            [
             0.1,
             "#c51b7d"
            ],
            [
             0.2,
             "#de77ae"
            ],
            [
             0.3,
             "#f1b6da"
            ],
            [
             0.4,
             "#fde0ef"
            ],
            [
             0.5,
             "#f7f7f7"
            ],
            [
             0.6,
             "#e6f5d0"
            ],
            [
             0.7,
             "#b8e186"
            ],
            [
             0.8,
             "#7fbc41"
            ],
            [
             0.9,
             "#4d9221"
            ],
            [
             1,
             "#276419"
            ]
           ],
           "sequential": [
            [
             0,
             "#0d0887"
            ],
            [
             0.1111111111111111,
             "#46039f"
            ],
            [
             0.2222222222222222,
             "#7201a8"
            ],
            [
             0.3333333333333333,
             "#9c179e"
            ],
            [
             0.4444444444444444,
             "#bd3786"
            ],
            [
             0.5555555555555556,
             "#d8576b"
            ],
            [
             0.6666666666666666,
             "#ed7953"
            ],
            [
             0.7777777777777778,
             "#fb9f3a"
            ],
            [
             0.8888888888888888,
             "#fdca26"
            ],
            [
             1,
             "#f0f921"
            ]
           ],
           "sequentialminus": [
            [
             0,
             "#0d0887"
            ],
            [
             0.1111111111111111,
             "#46039f"
            ],
            [
             0.2222222222222222,
             "#7201a8"
            ],
            [
             0.3333333333333333,
             "#9c179e"
            ],
            [
             0.4444444444444444,
             "#bd3786"
            ],
            [
             0.5555555555555556,
             "#d8576b"
            ],
            [
             0.6666666666666666,
             "#ed7953"
            ],
            [
             0.7777777777777778,
             "#fb9f3a"
            ],
            [
             0.8888888888888888,
             "#fdca26"
            ],
            [
             1,
             "#f0f921"
            ]
           ]
          },
          "colorway": [
           "#636efa",
           "#EF553B",
           "#00cc96",
           "#ab63fa",
           "#FFA15A",
           "#19d3f3",
           "#FF6692",
           "#B6E880",
           "#FF97FF",
           "#FECB52"
          ],
          "font": {
           "color": "#2a3f5f"
          },
          "geo": {
           "bgcolor": "white",
           "lakecolor": "white",
           "landcolor": "#E5ECF6",
           "showlakes": true,
           "showland": true,
           "subunitcolor": "white"
          },
          "hoverlabel": {
           "align": "left"
          },
          "hovermode": "closest",
          "mapbox": {
           "style": "light"
          },
          "paper_bgcolor": "white",
          "plot_bgcolor": "#E5ECF6",
          "polar": {
           "angularaxis": {
            "gridcolor": "white",
            "linecolor": "white",
            "ticks": ""
           },
           "bgcolor": "#E5ECF6",
           "radialaxis": {
            "gridcolor": "white",
            "linecolor": "white",
            "ticks": ""
           }
          },
          "scene": {
           "xaxis": {
            "backgroundcolor": "#E5ECF6",
            "gridcolor": "white",
            "gridwidth": 2,
            "linecolor": "white",
            "showbackground": true,
            "ticks": "",
            "zerolinecolor": "white"
           },
           "yaxis": {
            "backgroundcolor": "#E5ECF6",
            "gridcolor": "white",
            "gridwidth": 2,
            "linecolor": "white",
            "showbackground": true,
            "ticks": "",
            "zerolinecolor": "white"
           },
           "zaxis": {
            "backgroundcolor": "#E5ECF6",
            "gridcolor": "white",
            "gridwidth": 2,
            "linecolor": "white",
            "showbackground": true,
            "ticks": "",
            "zerolinecolor": "white"
           }
          },
          "shapedefaults": {
           "line": {
            "color": "#2a3f5f"
           }
          },
          "ternary": {
           "aaxis": {
            "gridcolor": "white",
            "linecolor": "white",
            "ticks": ""
           },
           "baxis": {
            "gridcolor": "white",
            "linecolor": "white",
            "ticks": ""
           },
           "bgcolor": "#E5ECF6",
           "caxis": {
            "gridcolor": "white",
            "linecolor": "white",
            "ticks": ""
           }
          },
          "title": {
           "x": 0.05
          },
          "xaxis": {
           "automargin": true,
           "gridcolor": "white",
           "linecolor": "white",
           "ticks": "",
           "title": {
            "standoff": 15
           },
           "zerolinecolor": "white",
           "zerolinewidth": 2
          },
          "yaxis": {
           "automargin": true,
           "gridcolor": "white",
           "linecolor": "white",
           "ticks": "",
           "title": {
            "standoff": 15
           },
           "zerolinecolor": "white",
           "zerolinewidth": 2
          }
         }
        },
        "title": {
         "text": "drought 3.0 q3"
        },
        "width": 1600,
        "xaxis": {
         "linecolor": "rgb(102, 102, 102)",
         "showgrid": false,
         "showline": true,
         "showticklabels": true,
         "tickcolor": "rgb(102, 102, 102)",
         "tickfont": {
          "color": "rgb(102, 102, 102)"
         },
         "ticks": "outside"
        }
       }
      }
     },
     "metadata": {},
     "output_type": "display_data"
    },
    {
     "data": {
      "application/vnd.plotly.v1+json": {
       "config": {
        "plotlyServerURL": "https://plot.ly"
       },
       "data": [
        {
         "marker": {
          "color": "rgba(156, 165, 196, 0.95)",
          "line": {
           "width": 1
          },
          "size": 16,
          "symbol": "circle"
         },
         "mode": "markers",
         "name": "1",
         "type": "scatter",
         "x": [
          null,
          null,
          null,
          null,
          null,
          null,
          null,
          null,
          null,
          null,
          null,
          null,
          null,
          null,
          -19.402,
          null,
          null,
          null,
          null,
          null,
          null,
          null,
          17.815,
          null,
          null,
          null,
          null,
          null,
          -16.422,
          null,
          null,
          -32.914,
          null,
          null,
          null,
          null,
          -39.853,
          -27.374,
          null,
          null,
          null,
          null,
          null,
          null,
          null,
          null,
          -25.182,
          null,
          null,
          null,
          9.274,
          -43.469,
          null,
          -31.801,
          null
         ],
         "y": [
          "AGO",
          "ALB",
          "ARM",
          "BEN",
          "BFA",
          "BGD",
          "BOL",
          "CIV",
          "CMR",
          "COD",
          "COM",
          "DOM",
          "EGY",
          "ETH",
          "GAB",
          "GHA",
          "GIN",
          "GMB",
          "GTM",
          "GUY",
          "HND",
          "HTI",
          "IND",
          "JOR",
          "KEN",
          "KGZ",
          "KHM",
          "LBR",
          "LSO",
          "MAR",
          "MDA",
          "MDG",
          "MLI",
          "MMR",
          "MOZ",
          "MRT",
          "MWI",
          "NAM",
          "NGA",
          "NIC",
          "PAK",
          "PER",
          "PHL",
          "SEN",
          "SLE",
          "SWZ",
          "TCD",
          "TGO",
          "TJK",
          "TLS",
          "TZA",
          "UGA",
          "ZAF",
          "ZMB",
          "ZWE"
         ]
        },
        {
         "marker": {
          "color": "rgba(156, 165, 196, 0.95)",
          "line": {
           "width": 1
          },
          "size": 16,
          "symbol": "circle"
         },
         "mode": "markers",
         "name": "2",
         "type": "scatter",
         "x": [
          null,
          null,
          null,
          null,
          null,
          null,
          null,
          null,
          null,
          null,
          null,
          null,
          null,
          null,
          -17.622,
          null,
          null,
          null,
          null,
          null,
          null,
          null,
          null,
          null,
          null,
          null,
          null,
          null,
          -43.077,
          null,
          null,
          -46.89,
          null,
          null,
          -60.922,
          null,
          -46.881,
          -33.043,
          null,
          null,
          null,
          -22.281,
          null,
          null,
          null,
          null,
          -30.919,
          null,
          null,
          null,
          17.608,
          -38.339,
          null,
          -26.996,
          -41.705
         ],
         "y": [
          "AGO",
          "ALB",
          "ARM",
          "BEN",
          "BFA",
          "BGD",
          "BOL",
          "CIV",
          "CMR",
          "COD",
          "COM",
          "DOM",
          "EGY",
          "ETH",
          "GAB",
          "GHA",
          "GIN",
          "GMB",
          "GTM",
          "GUY",
          "HND",
          "HTI",
          "IND",
          "JOR",
          "KEN",
          "KGZ",
          "KHM",
          "LBR",
          "LSO",
          "MAR",
          "MDA",
          "MDG",
          "MLI",
          "MMR",
          "MOZ",
          "MRT",
          "MWI",
          "NAM",
          "NGA",
          "NIC",
          "PAK",
          "PER",
          "PHL",
          "SEN",
          "SLE",
          "SWZ",
          "TCD",
          "TGO",
          "TJK",
          "TLS",
          "TZA",
          "UGA",
          "ZAF",
          "ZMB",
          "ZWE"
         ]
        },
        {
         "marker": {
          "color": "rgba(156, 165, 196, 0.95)",
          "line": {
           "width": 1
          },
          "size": 16,
          "symbol": "circle"
         },
         "mode": "markers",
         "name": "3",
         "type": "scatter",
         "x": [
          null,
          null,
          null,
          null,
          null,
          null,
          null,
          null,
          null,
          null,
          null,
          null,
          null,
          null,
          -19.346,
          null,
          null,
          null,
          null,
          null,
          null,
          null,
          18.104,
          null,
          null,
          null,
          null,
          null,
          -41.182,
          null,
          null,
          -36.696,
          null,
          null,
          -63.437,
          null,
          -56.896,
          -32.381,
          null,
          null,
          null,
          -22.404,
          null,
          null,
          null,
          null,
          -22.634,
          null,
          null,
          null,
          -15.966,
          -36.03,
          null,
          -30.34,
          -44.801
         ],
         "y": [
          "AGO",
          "ALB",
          "ARM",
          "BEN",
          "BFA",
          "BGD",
          "BOL",
          "CIV",
          "CMR",
          "COD",
          "COM",
          "DOM",
          "EGY",
          "ETH",
          "GAB",
          "GHA",
          "GIN",
          "GMB",
          "GTM",
          "GUY",
          "HND",
          "HTI",
          "IND",
          "JOR",
          "KEN",
          "KGZ",
          "KHM",
          "LBR",
          "LSO",
          "MAR",
          "MDA",
          "MDG",
          "MLI",
          "MMR",
          "MOZ",
          "MRT",
          "MWI",
          "NAM",
          "NGA",
          "NIC",
          "PAK",
          "PER",
          "PHL",
          "SEN",
          "SLE",
          "SWZ",
          "TCD",
          "TGO",
          "TJK",
          "TLS",
          "TZA",
          "UGA",
          "ZAF",
          "ZMB",
          "ZWE"
         ]
        },
        {
         "marker": {
          "color": "rgba(156, 165, 196, 0.95)",
          "line": {
           "width": 1
          },
          "size": 16,
          "symbol": "circle"
         },
         "mode": "markers",
         "name": "4",
         "type": "scatter",
         "x": [
          -22.517,
          null,
          null,
          null,
          null,
          null,
          null,
          -24.297,
          null,
          null,
          null,
          36.118,
          null,
          null,
          -20.644,
          65.177,
          null,
          null,
          null,
          null,
          null,
          null,
          16.534,
          null,
          null,
          null,
          null,
          null,
          -40.406,
          null,
          null,
          null,
          null,
          null,
          -57.258,
          null,
          -43.825,
          -30.274,
          null,
          null,
          null,
          -39.699,
          null,
          null,
          null,
          null,
          -35.53,
          null,
          null,
          null,
          -19.212,
          -34.903,
          null,
          -26.801,
          -43.102
         ],
         "y": [
          "AGO",
          "ALB",
          "ARM",
          "BEN",
          "BFA",
          "BGD",
          "BOL",
          "CIV",
          "CMR",
          "COD",
          "COM",
          "DOM",
          "EGY",
          "ETH",
          "GAB",
          "GHA",
          "GIN",
          "GMB",
          "GTM",
          "GUY",
          "HND",
          "HTI",
          "IND",
          "JOR",
          "KEN",
          "KGZ",
          "KHM",
          "LBR",
          "LSO",
          "MAR",
          "MDA",
          "MDG",
          "MLI",
          "MMR",
          "MOZ",
          "MRT",
          "MWI",
          "NAM",
          "NGA",
          "NIC",
          "PAK",
          "PER",
          "PHL",
          "SEN",
          "SLE",
          "SWZ",
          "TCD",
          "TGO",
          "TJK",
          "TLS",
          "TZA",
          "UGA",
          "ZAF",
          "ZMB",
          "ZWE"
         ]
        },
        {
         "marker": {
          "color": "rgba(204, 204, 204, 0.95)",
          "line": {
           "width": 1
          },
          "size": 16,
          "symbol": "circle"
         },
         "mode": "markers",
         "name": "5",
         "type": "scatter",
         "x": [
          null,
          null,
          null,
          null,
          null,
          null,
          null,
          null,
          null,
          null,
          null,
          null,
          null,
          null,
          null,
          null,
          null,
          null,
          null,
          null,
          null,
          null,
          null,
          null,
          null,
          null,
          null,
          null,
          -28.729,
          null,
          null,
          null,
          null,
          null,
          null,
          null,
          null,
          -14.094,
          null,
          null,
          null,
          null,
          null,
          null,
          null,
          null,
          -9.591,
          null,
          null,
          null,
          5.03,
          -11.922,
          null,
          null,
          null
         ],
         "y": [
          "AGO",
          "ALB",
          "ARM",
          "BEN",
          "BFA",
          "BGD",
          "BOL",
          "CIV",
          "CMR",
          "COD",
          "COM",
          "DOM",
          "EGY",
          "ETH",
          "GAB",
          "GHA",
          "GIN",
          "GMB",
          "GTM",
          "GUY",
          "HND",
          "HTI",
          "IND",
          "JOR",
          "KEN",
          "KGZ",
          "KHM",
          "LBR",
          "LSO",
          "MAR",
          "MDA",
          "MDG",
          "MLI",
          "MMR",
          "MOZ",
          "MRT",
          "MWI",
          "NAM",
          "NGA",
          "NIC",
          "PAK",
          "PER",
          "PHL",
          "SEN",
          "SLE",
          "SWZ",
          "TCD",
          "TGO",
          "TJK",
          "TLS",
          "TZA",
          "UGA",
          "ZAF",
          "ZMB",
          "ZWE"
         ]
        },
        {
         "marker": {
          "color": "rgba(204, 204, 204, 0.95)",
          "line": {
           "width": 1
          },
          "size": 16,
          "symbol": "circle"
         },
         "mode": "markers",
         "name": "6",
         "type": "scatter",
         "x": [
          null,
          null,
          null,
          null,
          null,
          null,
          null,
          -6.135,
          -7.492,
          null,
          null,
          -2.348,
          null,
          -16.768,
          null,
          null,
          null,
          null,
          null,
          null,
          null,
          null,
          null,
          null,
          null,
          null,
          null,
          null,
          -8.954,
          null,
          null,
          null,
          null,
          null,
          -24.006,
          null,
          null,
          -11.654,
          null,
          null,
          null,
          null,
          null,
          null,
          null,
          null,
          -9.982,
          null,
          null,
          null,
          -3.366,
          null,
          null,
          null,
          -4.874
         ],
         "y": [
          "AGO",
          "ALB",
          "ARM",
          "BEN",
          "BFA",
          "BGD",
          "BOL",
          "CIV",
          "CMR",
          "COD",
          "COM",
          "DOM",
          "EGY",
          "ETH",
          "GAB",
          "GHA",
          "GIN",
          "GMB",
          "GTM",
          "GUY",
          "HND",
          "HTI",
          "IND",
          "JOR",
          "KEN",
          "KGZ",
          "KHM",
          "LBR",
          "LSO",
          "MAR",
          "MDA",
          "MDG",
          "MLI",
          "MMR",
          "MOZ",
          "MRT",
          "MWI",
          "NAM",
          "NGA",
          "NIC",
          "PAK",
          "PER",
          "PHL",
          "SEN",
          "SLE",
          "SWZ",
          "TCD",
          "TGO",
          "TJK",
          "TLS",
          "TZA",
          "UGA",
          "ZAF",
          "ZMB",
          "ZWE"
         ]
        },
        {
         "marker": {
          "color": "rgba(204, 204, 204, 0.95)",
          "line": {
           "width": 1
          },
          "size": 16,
          "symbol": "circle"
         },
         "mode": "markers",
         "name": "7",
         "type": "scatter",
         "x": [
          null,
          null,
          null,
          null,
          null,
          null,
          null,
          -8.473,
          -7.62,
          null,
          null,
          -2.846,
          null,
          -15.098,
          null,
          null,
          null,
          null,
          null,
          null,
          null,
          null,
          null,
          null,
          null,
          null,
          null,
          null,
          -7.733,
          null,
          null,
          null,
          null,
          null,
          -14.148,
          null,
          -19.029,
          -6.939,
          null,
          null,
          null,
          null,
          null,
          null,
          null,
          null,
          -9.95,
          null,
          null,
          null,
          -10.704,
          -12.361,
          null,
          null,
          null
         ],
         "y": [
          "AGO",
          "ALB",
          "ARM",
          "BEN",
          "BFA",
          "BGD",
          "BOL",
          "CIV",
          "CMR",
          "COD",
          "COM",
          "DOM",
          "EGY",
          "ETH",
          "GAB",
          "GHA",
          "GIN",
          "GMB",
          "GTM",
          "GUY",
          "HND",
          "HTI",
          "IND",
          "JOR",
          "KEN",
          "KGZ",
          "KHM",
          "LBR",
          "LSO",
          "MAR",
          "MDA",
          "MDG",
          "MLI",
          "MMR",
          "MOZ",
          "MRT",
          "MWI",
          "NAM",
          "NGA",
          "NIC",
          "PAK",
          "PER",
          "PHL",
          "SEN",
          "SLE",
          "SWZ",
          "TCD",
          "TGO",
          "TJK",
          "TLS",
          "TZA",
          "UGA",
          "ZAF",
          "ZMB",
          "ZWE"
         ]
        },
        {
         "marker": {
          "color": "rgba(204, 204, 204, 0.95)",
          "line": {
           "width": 1
          },
          "size": 16,
          "symbol": "circle"
         },
         "mode": "markers",
         "name": "8",
         "type": "scatter",
         "x": [
          null,
          null,
          null,
          null,
          null,
          null,
          null,
          -8.895,
          -5.089,
          null,
          null,
          -3.293,
          null,
          -18.205,
          -3.712,
          -5.807,
          null,
          null,
          null,
          null,
          null,
          null,
          -4.041,
          null,
          null,
          null,
          null,
          8.549,
          -7.73,
          null,
          null,
          -8.422,
          null,
          null,
          -10.178,
          null,
          -8.38,
          -7.288,
          null,
          null,
          null,
          -5.532,
          null,
          null,
          null,
          null,
          -11.972,
          null,
          null,
          null,
          -7.133,
          -14.179,
          null,
          null,
          null
         ],
         "y": [
          "AGO",
          "ALB",
          "ARM",
          "BEN",
          "BFA",
          "BGD",
          "BOL",
          "CIV",
          "CMR",
          "COD",
          "COM",
          "DOM",
          "EGY",
          "ETH",
          "GAB",
          "GHA",
          "GIN",
          "GMB",
          "GTM",
          "GUY",
          "HND",
          "HTI",
          "IND",
          "JOR",
          "KEN",
          "KGZ",
          "KHM",
          "LBR",
          "LSO",
          "MAR",
          "MDA",
          "MDG",
          "MLI",
          "MMR",
          "MOZ",
          "MRT",
          "MWI",
          "NAM",
          "NGA",
          "NIC",
          "PAK",
          "PER",
          "PHL",
          "SEN",
          "SLE",
          "SWZ",
          "TCD",
          "TGO",
          "TJK",
          "TLS",
          "TZA",
          "UGA",
          "ZAF",
          "ZMB",
          "ZWE"
         ]
        },
        {
         "marker": {
          "color": "rgba(255, 166, 86, 0.95)",
          "line": {
           "width": 1
          },
          "size": 16,
          "symbol": "circle"
         },
         "mode": "markers",
         "name": "9",
         "type": "scatter",
         "x": [
          null,
          null,
          null,
          null,
          null,
          null,
          null,
          null,
          null,
          null,
          null,
          -4.233,
          null,
          -14.273,
          -6.3,
          null,
          null,
          null,
          null,
          null,
          null,
          null,
          null,
          null,
          null,
          null,
          null,
          25.899,
          null,
          null,
          null,
          null,
          null,
          null,
          null,
          null,
          -34.681,
          null,
          null,
          null,
          null,
          null,
          null,
          null,
          null,
          null,
          null,
          null,
          null,
          -19.228,
          null,
          null,
          null,
          null,
          null
         ],
         "y": [
          "AGO",
          "ALB",
          "ARM",
          "BEN",
          "BFA",
          "BGD",
          "BOL",
          "CIV",
          "CMR",
          "COD",
          "COM",
          "DOM",
          "EGY",
          "ETH",
          "GAB",
          "GHA",
          "GIN",
          "GMB",
          "GTM",
          "GUY",
          "HND",
          "HTI",
          "IND",
          "JOR",
          "KEN",
          "KGZ",
          "KHM",
          "LBR",
          "LSO",
          "MAR",
          "MDA",
          "MDG",
          "MLI",
          "MMR",
          "MOZ",
          "MRT",
          "MWI",
          "NAM",
          "NGA",
          "NIC",
          "PAK",
          "PER",
          "PHL",
          "SEN",
          "SLE",
          "SWZ",
          "TCD",
          "TGO",
          "TJK",
          "TLS",
          "TZA",
          "UGA",
          "ZAF",
          "ZMB",
          "ZWE"
         ]
        },
        {
         "marker": {
          "color": "rgba(255, 166, 86, 0.95)",
          "line": {
           "width": 1
          },
          "size": 16,
          "symbol": "circle"
         },
         "mode": "markers",
         "name": "10",
         "type": "scatter",
         "x": [
          null,
          null,
          null,
          null,
          null,
          null,
          null,
          null,
          -5.638,
          null,
          null,
          -4.411,
          null,
          -14.476,
          -7.296,
          -10.047,
          null,
          null,
          null,
          null,
          null,
          null,
          null,
          null,
          null,
          null,
          null,
          26.239,
          -9.064,
          null,
          null,
          -24.164,
          null,
          null,
          null,
          null,
          -20.457,
          null,
          null,
          null,
          null,
          null,
          null,
          null,
          null,
          null,
          null,
          null,
          null,
          -18.562,
          -63.32,
          null,
          null,
          null,
          null
         ],
         "y": [
          "AGO",
          "ALB",
          "ARM",
          "BEN",
          "BFA",
          "BGD",
          "BOL",
          "CIV",
          "CMR",
          "COD",
          "COM",
          "DOM",
          "EGY",
          "ETH",
          "GAB",
          "GHA",
          "GIN",
          "GMB",
          "GTM",
          "GUY",
          "HND",
          "HTI",
          "IND",
          "JOR",
          "KEN",
          "KGZ",
          "KHM",
          "LBR",
          "LSO",
          "MAR",
          "MDA",
          "MDG",
          "MLI",
          "MMR",
          "MOZ",
          "MRT",
          "MWI",
          "NAM",
          "NGA",
          "NIC",
          "PAK",
          "PER",
          "PHL",
          "SEN",
          "SLE",
          "SWZ",
          "TCD",
          "TGO",
          "TJK",
          "TLS",
          "TZA",
          "UGA",
          "ZAF",
          "ZMB",
          "ZWE"
         ]
        },
        {
         "marker": {
          "color": "rgba(255, 166, 86, 0.95)",
          "line": {
           "width": 1
          },
          "size": 16,
          "symbol": "circle"
         },
         "mode": "markers",
         "name": "11",
         "type": "scatter",
         "x": [
          null,
          null,
          null,
          null,
          null,
          null,
          null,
          null,
          null,
          null,
          null,
          -5.039,
          null,
          -13.555,
          -7.794,
          -8.167,
          null,
          null,
          null,
          null,
          null,
          null,
          -1.902,
          null,
          null,
          null,
          null,
          33.831,
          null,
          null,
          null,
          null,
          null,
          null,
          -10.865,
          null,
          -12.796,
          null,
          null,
          null,
          null,
          null,
          null,
          null,
          4.939,
          null,
          null,
          null,
          null,
          -18.082,
          -15.639,
          null,
          null,
          null,
          null
         ],
         "y": [
          "AGO",
          "ALB",
          "ARM",
          "BEN",
          "BFA",
          "BGD",
          "BOL",
          "CIV",
          "CMR",
          "COD",
          "COM",
          "DOM",
          "EGY",
          "ETH",
          "GAB",
          "GHA",
          "GIN",
          "GMB",
          "GTM",
          "GUY",
          "HND",
          "HTI",
          "IND",
          "JOR",
          "KEN",
          "KGZ",
          "KHM",
          "LBR",
          "LSO",
          "MAR",
          "MDA",
          "MDG",
          "MLI",
          "MMR",
          "MOZ",
          "MRT",
          "MWI",
          "NAM",
          "NGA",
          "NIC",
          "PAK",
          "PER",
          "PHL",
          "SEN",
          "SLE",
          "SWZ",
          "TCD",
          "TGO",
          "TJK",
          "TLS",
          "TZA",
          "UGA",
          "ZAF",
          "ZMB",
          "ZWE"
         ]
        },
        {
         "marker": {
          "color": "rgba(255, 166, 86, 0.95)",
          "line": {
           "width": 1
          },
          "size": 16,
          "symbol": "circle"
         },
         "mode": "markers",
         "name": "12",
         "type": "scatter",
         "x": [
          null,
          null,
          null,
          null,
          null,
          null,
          null,
          54.545,
          -6.431,
          null,
          null,
          -5.497,
          null,
          null,
          -7.317,
          -7.348,
          null,
          null,
          null,
          null,
          null,
          null,
          -1.685,
          null,
          null,
          null,
          null,
          30.15,
          null,
          null,
          null,
          -21.15,
          null,
          null,
          -12.326,
          null,
          -15.555,
          null,
          null,
          null,
          null,
          -4.985,
          null,
          null,
          5.708,
          null,
          24.972,
          null,
          null,
          -18.529,
          -9.352,
          null,
          null,
          null,
          null
         ],
         "y": [
          "AGO",
          "ALB",
          "ARM",
          "BEN",
          "BFA",
          "BGD",
          "BOL",
          "CIV",
          "CMR",
          "COD",
          "COM",
          "DOM",
          "EGY",
          "ETH",
          "GAB",
          "GHA",
          "GIN",
          "GMB",
          "GTM",
          "GUY",
          "HND",
          "HTI",
          "IND",
          "JOR",
          "KEN",
          "KGZ",
          "KHM",
          "LBR",
          "LSO",
          "MAR",
          "MDA",
          "MDG",
          "MLI",
          "MMR",
          "MOZ",
          "MRT",
          "MWI",
          "NAM",
          "NGA",
          "NIC",
          "PAK",
          "PER",
          "PHL",
          "SEN",
          "SLE",
          "SWZ",
          "TCD",
          "TGO",
          "TJK",
          "TLS",
          "TZA",
          "UGA",
          "ZAF",
          "ZMB",
          "ZWE"
         ]
        },
        {
         "marker": {
          "color": "rgba(240, 230, 140, 0.95)",
          "line": {
           "width": 1
          },
          "size": 16,
          "symbol": "circle"
         },
         "mode": "markers",
         "name": "13",
         "type": "scatter",
         "x": [
          null,
          null,
          null,
          null,
          null,
          null,
          null,
          null,
          null,
          null,
          null,
          -4.982,
          null,
          null,
          null,
          null,
          -45.028,
          null,
          null,
          null,
          null,
          null,
          null,
          null,
          null,
          null,
          null,
          -54.694,
          -36.424,
          null,
          null,
          null,
          null,
          null,
          null,
          null,
          null,
          -13.361,
          null,
          null,
          null,
          -9.082,
          null,
          null,
          null,
          null,
          null,
          null,
          null,
          null,
          null,
          null,
          null,
          null,
          null
         ],
         "y": [
          "AGO",
          "ALB",
          "ARM",
          "BEN",
          "BFA",
          "BGD",
          "BOL",
          "CIV",
          "CMR",
          "COD",
          "COM",
          "DOM",
          "EGY",
          "ETH",
          "GAB",
          "GHA",
          "GIN",
          "GMB",
          "GTM",
          "GUY",
          "HND",
          "HTI",
          "IND",
          "JOR",
          "KEN",
          "KGZ",
          "KHM",
          "LBR",
          "LSO",
          "MAR",
          "MDA",
          "MDG",
          "MLI",
          "MMR",
          "MOZ",
          "MRT",
          "MWI",
          "NAM",
          "NGA",
          "NIC",
          "PAK",
          "PER",
          "PHL",
          "SEN",
          "SLE",
          "SWZ",
          "TCD",
          "TGO",
          "TJK",
          "TLS",
          "TZA",
          "UGA",
          "ZAF",
          "ZMB",
          "ZWE"
         ]
        },
        {
         "marker": {
          "color": "rgba(240, 230, 140, 0.95)",
          "line": {
           "width": 1
          },
          "size": 16,
          "symbol": "circle"
         },
         "mode": "markers",
         "name": "14",
         "type": "scatter",
         "x": [
          null,
          null,
          null,
          null,
          null,
          null,
          null,
          -7.156,
          null,
          null,
          null,
          -4.717,
          null,
          -11.348,
          null,
          null,
          null,
          null,
          null,
          null,
          null,
          null,
          null,
          null,
          null,
          null,
          null,
          -51.28,
          -9.969,
          null,
          null,
          -7.763,
          null,
          null,
          null,
          null,
          null,
          -11.958,
          null,
          null,
          null,
          -4.748,
          null,
          null,
          null,
          null,
          null,
          null,
          null,
          null,
          null,
          null,
          null,
          null,
          null
         ],
         "y": [
          "AGO",
          "ALB",
          "ARM",
          "BEN",
          "BFA",
          "BGD",
          "BOL",
          "CIV",
          "CMR",
          "COD",
          "COM",
          "DOM",
          "EGY",
          "ETH",
          "GAB",
          "GHA",
          "GIN",
          "GMB",
          "GTM",
          "GUY",
          "HND",
          "HTI",
          "IND",
          "JOR",
          "KEN",
          "KGZ",
          "KHM",
          "LBR",
          "LSO",
          "MAR",
          "MDA",
          "MDG",
          "MLI",
          "MMR",
          "MOZ",
          "MRT",
          "MWI",
          "NAM",
          "NGA",
          "NIC",
          "PAK",
          "PER",
          "PHL",
          "SEN",
          "SLE",
          "SWZ",
          "TCD",
          "TGO",
          "TJK",
          "TLS",
          "TZA",
          "UGA",
          "ZAF",
          "ZMB",
          "ZWE"
         ]
        },
        {
         "marker": {
          "color": "rgba(240, 230, 140, 0.95)",
          "line": {
           "width": 1
          },
          "size": 16,
          "symbol": "circle"
         },
         "mode": "markers",
         "name": "15",
         "type": "scatter",
         "x": [
          -8.616,
          null,
          null,
          null,
          null,
          null,
          null,
          -15.654,
          null,
          null,
          null,
          -5.116,
          null,
          -15.039,
          null,
          null,
          null,
          null,
          null,
          null,
          null,
          null,
          null,
          null,
          null,
          null,
          null,
          -58.541,
          -6.793,
          null,
          null,
          -13.523,
          null,
          null,
          -8.746,
          null,
          null,
          -16.849,
          null,
          null,
          null,
          -4.326,
          null,
          null,
          null,
          null,
          63.811,
          null,
          null,
          null,
          null,
          null,
          null,
          null,
          null
         ],
         "y": [
          "AGO",
          "ALB",
          "ARM",
          "BEN",
          "BFA",
          "BGD",
          "BOL",
          "CIV",
          "CMR",
          "COD",
          "COM",
          "DOM",
          "EGY",
          "ETH",
          "GAB",
          "GHA",
          "GIN",
          "GMB",
          "GTM",
          "GUY",
          "HND",
          "HTI",
          "IND",
          "JOR",
          "KEN",
          "KGZ",
          "KHM",
          "LBR",
          "LSO",
          "MAR",
          "MDA",
          "MDG",
          "MLI",
          "MMR",
          "MOZ",
          "MRT",
          "MWI",
          "NAM",
          "NGA",
          "NIC",
          "PAK",
          "PER",
          "PHL",
          "SEN",
          "SLE",
          "SWZ",
          "TCD",
          "TGO",
          "TJK",
          "TLS",
          "TZA",
          "UGA",
          "ZAF",
          "ZMB",
          "ZWE"
         ]
        },
        {
         "marker": {
          "color": "rgba(240, 230, 140, 0.95)",
          "line": {
           "width": 1
          },
          "size": 16,
          "symbol": "circle"
         },
         "mode": "markers",
         "name": "16",
         "type": "scatter",
         "x": [
          -8.728,
          null,
          null,
          null,
          null,
          null,
          null,
          -15.281,
          -8.439,
          null,
          null,
          -5.26,
          null,
          -20.076,
          null,
          229.091,
          null,
          null,
          null,
          null,
          null,
          null,
          null,
          null,
          null,
          null,
          null,
          -57.13,
          -6.587,
          null,
          null,
          -13.045,
          null,
          null,
          -22.18,
          null,
          null,
          -14.655,
          null,
          null,
          null,
          null,
          null,
          null,
          null,
          null,
          52.126,
          null,
          null,
          null,
          null,
          null,
          null,
          null,
          null
         ],
         "y": [
          "AGO",
          "ALB",
          "ARM",
          "BEN",
          "BFA",
          "BGD",
          "BOL",
          "CIV",
          "CMR",
          "COD",
          "COM",
          "DOM",
          "EGY",
          "ETH",
          "GAB",
          "GHA",
          "GIN",
          "GMB",
          "GTM",
          "GUY",
          "HND",
          "HTI",
          "IND",
          "JOR",
          "KEN",
          "KGZ",
          "KHM",
          "LBR",
          "LSO",
          "MAR",
          "MDA",
          "MDG",
          "MLI",
          "MMR",
          "MOZ",
          "MRT",
          "MWI",
          "NAM",
          "NGA",
          "NIC",
          "PAK",
          "PER",
          "PHL",
          "SEN",
          "SLE",
          "SWZ",
          "TCD",
          "TGO",
          "TJK",
          "TLS",
          "TZA",
          "UGA",
          "ZAF",
          "ZMB",
          "ZWE"
         ]
        }
       ],
       "layout": {
        "height": 600,
        "hovermode": "closest",
        "legend": {
         "font": {
          "size": 10
         },
         "xanchor": "center",
         "yanchor": "top"
        },
        "margin": {
         "b": 50,
         "l": 140,
         "r": 40,
         "t": 80
        },
        "paper_bgcolor": "white",
        "plot_bgcolor": "white",
        "shapes": [
         {
          "line": {
           "color": "red",
           "dash": "dashdot",
           "width": 2
          },
          "type": "line",
          "x0": 0,
          "x1": 0,
          "y0": 0,
          "y1": 55
         }
        ],
        "template": {
         "data": {
          "bar": [
           {
            "error_x": {
             "color": "#2a3f5f"
            },
            "error_y": {
             "color": "#2a3f5f"
            },
            "marker": {
             "line": {
              "color": "#E5ECF6",
              "width": 0.5
             },
             "pattern": {
              "fillmode": "overlay",
              "size": 10,
              "solidity": 0.2
             }
            },
            "type": "bar"
           }
          ],
          "barpolar": [
           {
            "marker": {
             "line": {
              "color": "#E5ECF6",
              "width": 0.5
             },
             "pattern": {
              "fillmode": "overlay",
              "size": 10,
              "solidity": 0.2
             }
            },
            "type": "barpolar"
           }
          ],
          "carpet": [
           {
            "aaxis": {
             "endlinecolor": "#2a3f5f",
             "gridcolor": "white",
             "linecolor": "white",
             "minorgridcolor": "white",
             "startlinecolor": "#2a3f5f"
            },
            "baxis": {
             "endlinecolor": "#2a3f5f",
             "gridcolor": "white",
             "linecolor": "white",
             "minorgridcolor": "white",
             "startlinecolor": "#2a3f5f"
            },
            "type": "carpet"
           }
          ],
          "choropleth": [
           {
            "colorbar": {
             "outlinewidth": 0,
             "ticks": ""
            },
            "type": "choropleth"
           }
          ],
          "contour": [
           {
            "colorbar": {
             "outlinewidth": 0,
             "ticks": ""
            },
            "colorscale": [
             [
              0,
              "#0d0887"
             ],
             [
              0.1111111111111111,
              "#46039f"
             ],
             [
              0.2222222222222222,
              "#7201a8"
             ],
             [
              0.3333333333333333,
              "#9c179e"
             ],
             [
              0.4444444444444444,
              "#bd3786"
             ],
             [
              0.5555555555555556,
              "#d8576b"
             ],
             [
              0.6666666666666666,
              "#ed7953"
             ],
             [
              0.7777777777777778,
              "#fb9f3a"
             ],
             [
              0.8888888888888888,
              "#fdca26"
             ],
             [
              1,
              "#f0f921"
             ]
            ],
            "type": "contour"
           }
          ],
          "contourcarpet": [
           {
            "colorbar": {
             "outlinewidth": 0,
             "ticks": ""
            },
            "type": "contourcarpet"
           }
          ],
          "heatmap": [
           {
            "colorbar": {
             "outlinewidth": 0,
             "ticks": ""
            },
            "colorscale": [
             [
              0,
              "#0d0887"
             ],
             [
              0.1111111111111111,
              "#46039f"
             ],
             [
              0.2222222222222222,
              "#7201a8"
             ],
             [
              0.3333333333333333,
              "#9c179e"
             ],
             [
              0.4444444444444444,
              "#bd3786"
             ],
             [
              0.5555555555555556,
              "#d8576b"
             ],
             [
              0.6666666666666666,
              "#ed7953"
             ],
             [
              0.7777777777777778,
              "#fb9f3a"
             ],
             [
              0.8888888888888888,
              "#fdca26"
             ],
             [
              1,
              "#f0f921"
             ]
            ],
            "type": "heatmap"
           }
          ],
          "heatmapgl": [
           {
            "colorbar": {
             "outlinewidth": 0,
             "ticks": ""
            },
            "colorscale": [
             [
              0,
              "#0d0887"
             ],
             [
              0.1111111111111111,
              "#46039f"
             ],
             [
              0.2222222222222222,
              "#7201a8"
             ],
             [
              0.3333333333333333,
              "#9c179e"
             ],
             [
              0.4444444444444444,
              "#bd3786"
             ],
             [
              0.5555555555555556,
              "#d8576b"
             ],
             [
              0.6666666666666666,
              "#ed7953"
             ],
             [
              0.7777777777777778,
              "#fb9f3a"
             ],
             [
              0.8888888888888888,
              "#fdca26"
             ],
             [
              1,
              "#f0f921"
             ]
            ],
            "type": "heatmapgl"
           }
          ],
          "histogram": [
           {
            "marker": {
             "pattern": {
              "fillmode": "overlay",
              "size": 10,
              "solidity": 0.2
             }
            },
            "type": "histogram"
           }
          ],
          "histogram2d": [
           {
            "colorbar": {
             "outlinewidth": 0,
             "ticks": ""
            },
            "colorscale": [
             [
              0,
              "#0d0887"
             ],
             [
              0.1111111111111111,
              "#46039f"
             ],
             [
              0.2222222222222222,
              "#7201a8"
             ],
             [
              0.3333333333333333,
              "#9c179e"
             ],
             [
              0.4444444444444444,
              "#bd3786"
             ],
             [
              0.5555555555555556,
              "#d8576b"
             ],
             [
              0.6666666666666666,
              "#ed7953"
             ],
             [
              0.7777777777777778,
              "#fb9f3a"
             ],
             [
              0.8888888888888888,
              "#fdca26"
             ],
             [
              1,
              "#f0f921"
             ]
            ],
            "type": "histogram2d"
           }
          ],
          "histogram2dcontour": [
           {
            "colorbar": {
             "outlinewidth": 0,
             "ticks": ""
            },
            "colorscale": [
             [
              0,
              "#0d0887"
             ],
             [
              0.1111111111111111,
              "#46039f"
             ],
             [
              0.2222222222222222,
              "#7201a8"
             ],
             [
              0.3333333333333333,
              "#9c179e"
             ],
             [
              0.4444444444444444,
              "#bd3786"
             ],
             [
              0.5555555555555556,
              "#d8576b"
             ],
             [
              0.6666666666666666,
              "#ed7953"
             ],
             [
              0.7777777777777778,
              "#fb9f3a"
             ],
             [
              0.8888888888888888,
              "#fdca26"
             ],
             [
              1,
              "#f0f921"
             ]
            ],
            "type": "histogram2dcontour"
           }
          ],
          "mesh3d": [
           {
            "colorbar": {
             "outlinewidth": 0,
             "ticks": ""
            },
            "type": "mesh3d"
           }
          ],
          "parcoords": [
           {
            "line": {
             "colorbar": {
              "outlinewidth": 0,
              "ticks": ""
             }
            },
            "type": "parcoords"
           }
          ],
          "pie": [
           {
            "automargin": true,
            "type": "pie"
           }
          ],
          "scatter": [
           {
            "fillpattern": {
             "fillmode": "overlay",
             "size": 10,
             "solidity": 0.2
            },
            "type": "scatter"
           }
          ],
          "scatter3d": [
           {
            "line": {
             "colorbar": {
              "outlinewidth": 0,
              "ticks": ""
             }
            },
            "marker": {
             "colorbar": {
              "outlinewidth": 0,
              "ticks": ""
             }
            },
            "type": "scatter3d"
           }
          ],
          "scattercarpet": [
           {
            "marker": {
             "colorbar": {
              "outlinewidth": 0,
              "ticks": ""
             }
            },
            "type": "scattercarpet"
           }
          ],
          "scattergeo": [
           {
            "marker": {
             "colorbar": {
              "outlinewidth": 0,
              "ticks": ""
             }
            },
            "type": "scattergeo"
           }
          ],
          "scattergl": [
           {
            "marker": {
             "colorbar": {
              "outlinewidth": 0,
              "ticks": ""
             }
            },
            "type": "scattergl"
           }
          ],
          "scattermapbox": [
           {
            "marker": {
             "colorbar": {
              "outlinewidth": 0,
              "ticks": ""
             }
            },
            "type": "scattermapbox"
           }
          ],
          "scatterpolar": [
           {
            "marker": {
             "colorbar": {
              "outlinewidth": 0,
              "ticks": ""
             }
            },
            "type": "scatterpolar"
           }
          ],
          "scatterpolargl": [
           {
            "marker": {
             "colorbar": {
              "outlinewidth": 0,
              "ticks": ""
             }
            },
            "type": "scatterpolargl"
           }
          ],
          "scatterternary": [
           {
            "marker": {
             "colorbar": {
              "outlinewidth": 0,
              "ticks": ""
             }
            },
            "type": "scatterternary"
           }
          ],
          "surface": [
           {
            "colorbar": {
             "outlinewidth": 0,
             "ticks": ""
            },
            "colorscale": [
             [
              0,
              "#0d0887"
             ],
             [
              0.1111111111111111,
              "#46039f"
             ],
             [
              0.2222222222222222,
              "#7201a8"
             ],
             [
              0.3333333333333333,
              "#9c179e"
             ],
             [
              0.4444444444444444,
              "#bd3786"
             ],
             [
              0.5555555555555556,
              "#d8576b"
             ],
             [
              0.6666666666666666,
              "#ed7953"
             ],
             [
              0.7777777777777778,
              "#fb9f3a"
             ],
             [
              0.8888888888888888,
              "#fdca26"
             ],
             [
              1,
              "#f0f921"
             ]
            ],
            "type": "surface"
           }
          ],
          "table": [
           {
            "cells": {
             "fill": {
              "color": "#EBF0F8"
             },
             "line": {
              "color": "white"
             }
            },
            "header": {
             "fill": {
              "color": "#C8D4E3"
             },
             "line": {
              "color": "white"
             }
            },
            "type": "table"
           }
          ]
         },
         "layout": {
          "annotationdefaults": {
           "arrowcolor": "#2a3f5f",
           "arrowhead": 0,
           "arrowwidth": 1
          },
          "autotypenumbers": "strict",
          "coloraxis": {
           "colorbar": {
            "outlinewidth": 0,
            "ticks": ""
           }
          },
          "colorscale": {
           "diverging": [
            [
             0,
             "#8e0152"
            ],
            [
             0.1,
             "#c51b7d"
            ],
            [
             0.2,
             "#de77ae"
            ],
            [
             0.3,
             "#f1b6da"
            ],
            [
             0.4,
             "#fde0ef"
            ],
            [
             0.5,
             "#f7f7f7"
            ],
            [
             0.6,
             "#e6f5d0"
            ],
            [
             0.7,
             "#b8e186"
            ],
            [
             0.8,
             "#7fbc41"
            ],
            [
             0.9,
             "#4d9221"
            ],
            [
             1,
             "#276419"
            ]
           ],
           "sequential": [
            [
             0,
             "#0d0887"
            ],
            [
             0.1111111111111111,
             "#46039f"
            ],
            [
             0.2222222222222222,
             "#7201a8"
            ],
            [
             0.3333333333333333,
             "#9c179e"
            ],
            [
             0.4444444444444444,
             "#bd3786"
            ],
            [
             0.5555555555555556,
             "#d8576b"
            ],
            [
             0.6666666666666666,
             "#ed7953"
            ],
            [
             0.7777777777777778,
             "#fb9f3a"
            ],
            [
             0.8888888888888888,
             "#fdca26"
            ],
            [
             1,
             "#f0f921"
            ]
           ],
           "sequentialminus": [
            [
             0,
             "#0d0887"
            ],
            [
             0.1111111111111111,
             "#46039f"
            ],
            [
             0.2222222222222222,
             "#7201a8"
            ],
            [
             0.3333333333333333,
             "#9c179e"
            ],
            [
             0.4444444444444444,
             "#bd3786"
            ],
            [
             0.5555555555555556,
             "#d8576b"
            ],
            [
             0.6666666666666666,
             "#ed7953"
            ],
            [
             0.7777777777777778,
             "#fb9f3a"
            ],
            [
             0.8888888888888888,
             "#fdca26"
            ],
            [
             1,
             "#f0f921"
            ]
           ]
          },
          "colorway": [
           "#636efa",
           "#EF553B",
           "#00cc96",
           "#ab63fa",
           "#FFA15A",
           "#19d3f3",
           "#FF6692",
           "#B6E880",
           "#FF97FF",
           "#FECB52"
          ],
          "font": {
           "color": "#2a3f5f"
          },
          "geo": {
           "bgcolor": "white",
           "lakecolor": "white",
           "landcolor": "#E5ECF6",
           "showlakes": true,
           "showland": true,
           "subunitcolor": "white"
          },
          "hoverlabel": {
           "align": "left"
          },
          "hovermode": "closest",
          "mapbox": {
           "style": "light"
          },
          "paper_bgcolor": "white",
          "plot_bgcolor": "#E5ECF6",
          "polar": {
           "angularaxis": {
            "gridcolor": "white",
            "linecolor": "white",
            "ticks": ""
           },
           "bgcolor": "#E5ECF6",
           "radialaxis": {
            "gridcolor": "white",
            "linecolor": "white",
            "ticks": ""
           }
          },
          "scene": {
           "xaxis": {
            "backgroundcolor": "#E5ECF6",
            "gridcolor": "white",
            "gridwidth": 2,
            "linecolor": "white",
            "showbackground": true,
            "ticks": "",
            "zerolinecolor": "white"
           },
           "yaxis": {
            "backgroundcolor": "#E5ECF6",
            "gridcolor": "white",
            "gridwidth": 2,
            "linecolor": "white",
            "showbackground": true,
            "ticks": "",
            "zerolinecolor": "white"
           },
           "zaxis": {
            "backgroundcolor": "#E5ECF6",
            "gridcolor": "white",
            "gridwidth": 2,
            "linecolor": "white",
            "showbackground": true,
            "ticks": "",
            "zerolinecolor": "white"
           }
          },
          "shapedefaults": {
           "line": {
            "color": "#2a3f5f"
           }
          },
          "ternary": {
           "aaxis": {
            "gridcolor": "white",
            "linecolor": "white",
            "ticks": ""
           },
           "baxis": {
            "gridcolor": "white",
            "linecolor": "white",
            "ticks": ""
           },
           "bgcolor": "#E5ECF6",
           "caxis": {
            "gridcolor": "white",
            "linecolor": "white",
            "ticks": ""
           }
          },
          "title": {
           "x": 0.05
          },
          "xaxis": {
           "automargin": true,
           "gridcolor": "white",
           "linecolor": "white",
           "ticks": "",
           "title": {
            "standoff": 15
           },
           "zerolinecolor": "white",
           "zerolinewidth": 2
          },
          "yaxis": {
           "automargin": true,
           "gridcolor": "white",
           "linecolor": "white",
           "ticks": "",
           "title": {
            "standoff": 15
           },
           "zerolinecolor": "white",
           "zerolinewidth": 2
          }
         }
        },
        "title": {
         "text": "drought 3.0 30d"
        },
        "width": 1600,
        "xaxis": {
         "linecolor": "rgb(102, 102, 102)",
         "showgrid": false,
         "showline": true,
         "showticklabels": true,
         "tickcolor": "rgb(102, 102, 102)",
         "tickfont": {
          "color": "rgb(102, 102, 102)"
         },
         "ticks": "outside"
        }
       }
      }
     },
     "metadata": {},
     "output_type": "display_data"
    },
    {
     "data": {
      "application/vnd.plotly.v1+json": {
       "config": {
        "plotlyServerURL": "https://plot.ly"
       },
       "data": [
        {
         "marker": {
          "color": "rgba(156, 165, 196, 0.95)",
          "line": {
           "width": 1
          },
          "size": 16,
          "symbol": "circle"
         },
         "mode": "markers",
         "name": "1",
         "type": "scatter",
         "x": [
          null,
          null,
          null,
          null,
          null,
          null,
          null,
          null,
          null,
          null,
          null,
          null,
          null,
          null,
          null,
          null,
          null,
          null,
          null,
          null,
          null,
          null,
          null,
          null,
          null,
          null,
          null,
          null,
          null,
          null,
          null,
          null,
          null,
          null,
          null,
          null,
          null,
          null,
          null,
          null,
          null,
          null,
          null,
          null,
          null,
          null,
          null,
          null,
          null,
          null,
          null,
          null,
          null,
          null,
          null
         ],
         "y": [
          "AGO",
          "ALB",
          "ARM",
          "BEN",
          "BFA",
          "BGD",
          "BOL",
          "CIV",
          "CMR",
          "COD",
          "COM",
          "DOM",
          "EGY",
          "ETH",
          "GAB",
          "GHA",
          "GIN",
          "GMB",
          "GTM",
          "GUY",
          "HND",
          "HTI",
          "IND",
          "JOR",
          "KEN",
          "KGZ",
          "KHM",
          "LBR",
          "LSO",
          "MAR",
          "MDA",
          "MDG",
          "MLI",
          "MMR",
          "MOZ",
          "MRT",
          "MWI",
          "NAM",
          "NGA",
          "NIC",
          "PAK",
          "PER",
          "PHL",
          "SEN",
          "SLE",
          "SWZ",
          "TCD",
          "TGO",
          "TJK",
          "TLS",
          "TZA",
          "UGA",
          "ZAF",
          "ZMB",
          "ZWE"
         ]
        },
        {
         "marker": {
          "color": "rgba(156, 165, 196, 0.95)",
          "line": {
           "width": 1
          },
          "size": 16,
          "symbol": "circle"
         },
         "mode": "markers",
         "name": "2",
         "type": "scatter",
         "x": [
          null,
          null,
          null,
          null,
          null,
          null,
          null,
          null,
          null,
          null,
          null,
          null,
          null,
          null,
          null,
          null,
          null,
          null,
          null,
          null,
          null,
          null,
          null,
          null,
          null,
          null,
          null,
          null,
          null,
          null,
          null,
          null,
          null,
          null,
          null,
          null,
          null,
          null,
          null,
          null,
          null,
          null,
          null,
          null,
          null,
          null,
          null,
          null,
          null,
          null,
          null,
          null,
          null,
          null,
          null
         ],
         "y": [
          "AGO",
          "ALB",
          "ARM",
          "BEN",
          "BFA",
          "BGD",
          "BOL",
          "CIV",
          "CMR",
          "COD",
          "COM",
          "DOM",
          "EGY",
          "ETH",
          "GAB",
          "GHA",
          "GIN",
          "GMB",
          "GTM",
          "GUY",
          "HND",
          "HTI",
          "IND",
          "JOR",
          "KEN",
          "KGZ",
          "KHM",
          "LBR",
          "LSO",
          "MAR",
          "MDA",
          "MDG",
          "MLI",
          "MMR",
          "MOZ",
          "MRT",
          "MWI",
          "NAM",
          "NGA",
          "NIC",
          "PAK",
          "PER",
          "PHL",
          "SEN",
          "SLE",
          "SWZ",
          "TCD",
          "TGO",
          "TJK",
          "TLS",
          "TZA",
          "UGA",
          "ZAF",
          "ZMB",
          "ZWE"
         ]
        },
        {
         "marker": {
          "color": "rgba(156, 165, 196, 0.95)",
          "line": {
           "width": 1
          },
          "size": 16,
          "symbol": "circle"
         },
         "mode": "markers",
         "name": "3",
         "type": "scatter",
         "x": [
          null,
          null,
          null,
          null,
          null,
          null,
          null,
          null,
          null,
          null,
          null,
          null,
          null,
          null,
          null,
          null,
          null,
          null,
          null,
          null,
          null,
          null,
          null,
          null,
          null,
          null,
          null,
          null,
          null,
          null,
          null,
          null,
          null,
          null,
          null,
          null,
          null,
          null,
          null,
          null,
          null,
          null,
          null,
          null,
          null,
          null,
          null,
          null,
          null,
          null,
          null,
          null,
          null,
          null,
          null
         ],
         "y": [
          "AGO",
          "ALB",
          "ARM",
          "BEN",
          "BFA",
          "BGD",
          "BOL",
          "CIV",
          "CMR",
          "COD",
          "COM",
          "DOM",
          "EGY",
          "ETH",
          "GAB",
          "GHA",
          "GIN",
          "GMB",
          "GTM",
          "GUY",
          "HND",
          "HTI",
          "IND",
          "JOR",
          "KEN",
          "KGZ",
          "KHM",
          "LBR",
          "LSO",
          "MAR",
          "MDA",
          "MDG",
          "MLI",
          "MMR",
          "MOZ",
          "MRT",
          "MWI",
          "NAM",
          "NGA",
          "NIC",
          "PAK",
          "PER",
          "PHL",
          "SEN",
          "SLE",
          "SWZ",
          "TCD",
          "TGO",
          "TJK",
          "TLS",
          "TZA",
          "UGA",
          "ZAF",
          "ZMB",
          "ZWE"
         ]
        },
        {
         "marker": {
          "color": "rgba(156, 165, 196, 0.95)",
          "line": {
           "width": 1
          },
          "size": 16,
          "symbol": "circle"
         },
         "mode": "markers",
         "name": "4",
         "type": "scatter",
         "x": [
          null,
          null,
          null,
          null,
          null,
          null,
          null,
          null,
          null,
          null,
          null,
          null,
          null,
          null,
          null,
          null,
          null,
          null,
          null,
          null,
          null,
          null,
          null,
          null,
          null,
          null,
          null,
          null,
          null,
          null,
          null,
          null,
          null,
          null,
          null,
          null,
          null,
          null,
          null,
          null,
          null,
          null,
          null,
          null,
          null,
          null,
          null,
          null,
          null,
          null,
          null,
          null,
          null,
          null,
          null
         ],
         "y": [
          "AGO",
          "ALB",
          "ARM",
          "BEN",
          "BFA",
          "BGD",
          "BOL",
          "CIV",
          "CMR",
          "COD",
          "COM",
          "DOM",
          "EGY",
          "ETH",
          "GAB",
          "GHA",
          "GIN",
          "GMB",
          "GTM",
          "GUY",
          "HND",
          "HTI",
          "IND",
          "JOR",
          "KEN",
          "KGZ",
          "KHM",
          "LBR",
          "LSO",
          "MAR",
          "MDA",
          "MDG",
          "MLI",
          "MMR",
          "MOZ",
          "MRT",
          "MWI",
          "NAM",
          "NGA",
          "NIC",
          "PAK",
          "PER",
          "PHL",
          "SEN",
          "SLE",
          "SWZ",
          "TCD",
          "TGO",
          "TJK",
          "TLS",
          "TZA",
          "UGA",
          "ZAF",
          "ZMB",
          "ZWE"
         ]
        },
        {
         "marker": {
          "color": "rgba(204, 204, 204, 0.95)",
          "line": {
           "width": 1
          },
          "size": 16,
          "symbol": "circle"
         },
         "mode": "markers",
         "name": "5",
         "type": "scatter",
         "x": [
          null,
          null,
          null,
          null,
          null,
          null,
          null,
          null,
          null,
          null,
          null,
          null,
          null,
          -18.044,
          null,
          null,
          -22.321,
          null,
          null,
          null,
          null,
          null,
          null,
          null,
          null,
          null,
          null,
          19.364,
          null,
          null,
          null,
          null,
          null,
          null,
          null,
          null,
          null,
          null,
          null,
          null,
          null,
          2.153,
          null,
          null,
          null,
          null,
          -8.793,
          null,
          null,
          -19.065,
          null,
          null,
          null,
          null,
          null
         ],
         "y": [
          "AGO",
          "ALB",
          "ARM",
          "BEN",
          "BFA",
          "BGD",
          "BOL",
          "CIV",
          "CMR",
          "COD",
          "COM",
          "DOM",
          "EGY",
          "ETH",
          "GAB",
          "GHA",
          "GIN",
          "GMB",
          "GTM",
          "GUY",
          "HND",
          "HTI",
          "IND",
          "JOR",
          "KEN",
          "KGZ",
          "KHM",
          "LBR",
          "LSO",
          "MAR",
          "MDA",
          "MDG",
          "MLI",
          "MMR",
          "MOZ",
          "MRT",
          "MWI",
          "NAM",
          "NGA",
          "NIC",
          "PAK",
          "PER",
          "PHL",
          "SEN",
          "SLE",
          "SWZ",
          "TCD",
          "TGO",
          "TJK",
          "TLS",
          "TZA",
          "UGA",
          "ZAF",
          "ZMB",
          "ZWE"
         ]
        },
        {
         "marker": {
          "color": "rgba(204, 204, 204, 0.95)",
          "line": {
           "width": 1
          },
          "size": 16,
          "symbol": "circle"
         },
         "mode": "markers",
         "name": "6",
         "type": "scatter",
         "x": [
          null,
          null,
          null,
          null,
          null,
          null,
          null,
          null,
          null,
          null,
          null,
          null,
          null,
          null,
          null,
          null,
          -7.936,
          null,
          null,
          null,
          null,
          null,
          null,
          null,
          null,
          null,
          null,
          18.736,
          null,
          null,
          null,
          null,
          null,
          null,
          null,
          null,
          -9.696,
          -16.369,
          null,
          null,
          null,
          2.929,
          null,
          null,
          null,
          null,
          -10.705,
          null,
          null,
          -19.005,
          null,
          null,
          null,
          null,
          -6.454
         ],
         "y": [
          "AGO",
          "ALB",
          "ARM",
          "BEN",
          "BFA",
          "BGD",
          "BOL",
          "CIV",
          "CMR",
          "COD",
          "COM",
          "DOM",
          "EGY",
          "ETH",
          "GAB",
          "GHA",
          "GIN",
          "GMB",
          "GTM",
          "GUY",
          "HND",
          "HTI",
          "IND",
          "JOR",
          "KEN",
          "KGZ",
          "KHM",
          "LBR",
          "LSO",
          "MAR",
          "MDA",
          "MDG",
          "MLI",
          "MMR",
          "MOZ",
          "MRT",
          "MWI",
          "NAM",
          "NGA",
          "NIC",
          "PAK",
          "PER",
          "PHL",
          "SEN",
          "SLE",
          "SWZ",
          "TCD",
          "TGO",
          "TJK",
          "TLS",
          "TZA",
          "UGA",
          "ZAF",
          "ZMB",
          "ZWE"
         ]
        },
        {
         "marker": {
          "color": "rgba(204, 204, 204, 0.95)",
          "line": {
           "width": 1
          },
          "size": 16,
          "symbol": "circle"
         },
         "mode": "markers",
         "name": "7",
         "type": "scatter",
         "x": [
          null,
          null,
          null,
          null,
          null,
          null,
          null,
          null,
          null,
          null,
          null,
          null,
          null,
          null,
          null,
          null,
          -18.884,
          null,
          null,
          null,
          null,
          null,
          null,
          null,
          null,
          null,
          null,
          13.03,
          null,
          null,
          null,
          null,
          null,
          null,
          null,
          null,
          -9.251,
          -10.567,
          null,
          null,
          null,
          null,
          null,
          null,
          null,
          null,
          -11.906,
          null,
          null,
          -17.471,
          null,
          null,
          null,
          -2.558,
          -8.493
         ],
         "y": [
          "AGO",
          "ALB",
          "ARM",
          "BEN",
          "BFA",
          "BGD",
          "BOL",
          "CIV",
          "CMR",
          "COD",
          "COM",
          "DOM",
          "EGY",
          "ETH",
          "GAB",
          "GHA",
          "GIN",
          "GMB",
          "GTM",
          "GUY",
          "HND",
          "HTI",
          "IND",
          "JOR",
          "KEN",
          "KGZ",
          "KHM",
          "LBR",
          "LSO",
          "MAR",
          "MDA",
          "MDG",
          "MLI",
          "MMR",
          "MOZ",
          "MRT",
          "MWI",
          "NAM",
          "NGA",
          "NIC",
          "PAK",
          "PER",
          "PHL",
          "SEN",
          "SLE",
          "SWZ",
          "TCD",
          "TGO",
          "TJK",
          "TLS",
          "TZA",
          "UGA",
          "ZAF",
          "ZMB",
          "ZWE"
         ]
        },
        {
         "marker": {
          "color": "rgba(204, 204, 204, 0.95)",
          "line": {
           "width": 1
          },
          "size": 16,
          "symbol": "circle"
         },
         "mode": "markers",
         "name": "8",
         "type": "scatter",
         "x": [
          null,
          null,
          null,
          null,
          null,
          null,
          null,
          -4.327,
          -9.898,
          null,
          null,
          null,
          null,
          -4.993,
          null,
          null,
          -14.173,
          null,
          null,
          null,
          null,
          null,
          2.118,
          null,
          null,
          null,
          null,
          12.335,
          null,
          null,
          null,
          -5.78,
          null,
          null,
          -13.572,
          null,
          -10.955,
          -9.361,
          null,
          null,
          null,
          null,
          null,
          null,
          null,
          null,
          -16.564,
          null,
          null,
          -17.056,
          null,
          null,
          null,
          -2.777,
          -8.713
         ],
         "y": [
          "AGO",
          "ALB",
          "ARM",
          "BEN",
          "BFA",
          "BGD",
          "BOL",
          "CIV",
          "CMR",
          "COD",
          "COM",
          "DOM",
          "EGY",
          "ETH",
          "GAB",
          "GHA",
          "GIN",
          "GMB",
          "GTM",
          "GUY",
          "HND",
          "HTI",
          "IND",
          "JOR",
          "KEN",
          "KGZ",
          "KHM",
          "LBR",
          "LSO",
          "MAR",
          "MDA",
          "MDG",
          "MLI",
          "MMR",
          "MOZ",
          "MRT",
          "MWI",
          "NAM",
          "NGA",
          "NIC",
          "PAK",
          "PER",
          "PHL",
          "SEN",
          "SLE",
          "SWZ",
          "TCD",
          "TGO",
          "TJK",
          "TLS",
          "TZA",
          "UGA",
          "ZAF",
          "ZMB",
          "ZWE"
         ]
        },
        {
         "marker": {
          "color": "rgba(255, 166, 86, 0.95)",
          "line": {
           "width": 1
          },
          "size": 16,
          "symbol": "circle"
         },
         "mode": "markers",
         "name": "9",
         "type": "scatter",
         "x": [
          null,
          null,
          null,
          null,
          null,
          null,
          null,
          -38.811,
          null,
          null,
          null,
          null,
          null,
          null,
          null,
          null,
          null,
          null,
          null,
          null,
          null,
          null,
          null,
          null,
          null,
          null,
          null,
          -51.214,
          null,
          null,
          null,
          18.987,
          null,
          28.473,
          null,
          null,
          -26.073,
          -8.87,
          null,
          null,
          null,
          null,
          null,
          null,
          null,
          null,
          -6.084,
          null,
          null,
          null,
          null,
          -14.798,
          null,
          null,
          -5.541
         ],
         "y": [
          "AGO",
          "ALB",
          "ARM",
          "BEN",
          "BFA",
          "BGD",
          "BOL",
          "CIV",
          "CMR",
          "COD",
          "COM",
          "DOM",
          "EGY",
          "ETH",
          "GAB",
          "GHA",
          "GIN",
          "GMB",
          "GTM",
          "GUY",
          "HND",
          "HTI",
          "IND",
          "JOR",
          "KEN",
          "KGZ",
          "KHM",
          "LBR",
          "LSO",
          "MAR",
          "MDA",
          "MDG",
          "MLI",
          "MMR",
          "MOZ",
          "MRT",
          "MWI",
          "NAM",
          "NGA",
          "NIC",
          "PAK",
          "PER",
          "PHL",
          "SEN",
          "SLE",
          "SWZ",
          "TCD",
          "TGO",
          "TJK",
          "TLS",
          "TZA",
          "UGA",
          "ZAF",
          "ZMB",
          "ZWE"
         ]
        },
        {
         "marker": {
          "color": "rgba(255, 166, 86, 0.95)",
          "line": {
           "width": 1
          },
          "size": 16,
          "symbol": "circle"
         },
         "mode": "markers",
         "name": "10",
         "type": "scatter",
         "x": [
          7.355,
          null,
          null,
          null,
          null,
          null,
          null,
          null,
          null,
          null,
          null,
          null,
          null,
          null,
          null,
          null,
          -24.871,
          null,
          null,
          null,
          null,
          null,
          null,
          null,
          null,
          null,
          null,
          -50.839,
          null,
          null,
          null,
          null,
          null,
          28.873,
          -30.828,
          null,
          -20.905,
          -4.464,
          null,
          null,
          null,
          null,
          null,
          null,
          null,
          null,
          -4.571,
          null,
          null,
          84.469,
          null,
          -19.045,
          null,
          null,
          -4.463
         ],
         "y": [
          "AGO",
          "ALB",
          "ARM",
          "BEN",
          "BFA",
          "BGD",
          "BOL",
          "CIV",
          "CMR",
          "COD",
          "COM",
          "DOM",
          "EGY",
          "ETH",
          "GAB",
          "GHA",
          "GIN",
          "GMB",
          "GTM",
          "GUY",
          "HND",
          "HTI",
          "IND",
          "JOR",
          "KEN",
          "KGZ",
          "KHM",
          "LBR",
          "LSO",
          "MAR",
          "MDA",
          "MDG",
          "MLI",
          "MMR",
          "MOZ",
          "MRT",
          "MWI",
          "NAM",
          "NGA",
          "NIC",
          "PAK",
          "PER",
          "PHL",
          "SEN",
          "SLE",
          "SWZ",
          "TCD",
          "TGO",
          "TJK",
          "TLS",
          "TZA",
          "UGA",
          "ZAF",
          "ZMB",
          "ZWE"
         ]
        },
        {
         "marker": {
          "color": "rgba(255, 166, 86, 0.95)",
          "line": {
           "width": 1
          },
          "size": 16,
          "symbol": "circle"
         },
         "mode": "markers",
         "name": "11",
         "type": "scatter",
         "x": [
          5.799,
          null,
          null,
          null,
          null,
          null,
          null,
          null,
          -6.17,
          null,
          null,
          null,
          null,
          -5.571,
          null,
          null,
          -29.271,
          null,
          null,
          null,
          null,
          null,
          null,
          null,
          null,
          null,
          null,
          -51.734,
          null,
          null,
          null,
          null,
          null,
          14.826,
          -13.096,
          null,
          -24.334,
          -5.078,
          null,
          null,
          null,
          null,
          null,
          null,
          -11.911,
          null,
          -16.568,
          null,
          null,
          84.74,
          null,
          -26.306,
          null,
          null,
          null
         ],
         "y": [
          "AGO",
          "ALB",
          "ARM",
          "BEN",
          "BFA",
          "BGD",
          "BOL",
          "CIV",
          "CMR",
          "COD",
          "COM",
          "DOM",
          "EGY",
          "ETH",
          "GAB",
          "GHA",
          "GIN",
          "GMB",
          "GTM",
          "GUY",
          "HND",
          "HTI",
          "IND",
          "JOR",
          "KEN",
          "KGZ",
          "KHM",
          "LBR",
          "LSO",
          "MAR",
          "MDA",
          "MDG",
          "MLI",
          "MMR",
          "MOZ",
          "MRT",
          "MWI",
          "NAM",
          "NGA",
          "NIC",
          "PAK",
          "PER",
          "PHL",
          "SEN",
          "SLE",
          "SWZ",
          "TCD",
          "TGO",
          "TJK",
          "TLS",
          "TZA",
          "UGA",
          "ZAF",
          "ZMB",
          "ZWE"
         ]
        },
        {
         "marker": {
          "color": "rgba(255, 166, 86, 0.95)",
          "line": {
           "width": 1
          },
          "size": 16,
          "symbol": "circle"
         },
         "mode": "markers",
         "name": "12",
         "type": "scatter",
         "x": [
          null,
          null,
          null,
          null,
          null,
          null,
          null,
          -28.047,
          -7.149,
          null,
          null,
          null,
          null,
          -6.227,
          null,
          null,
          -17.777,
          null,
          null,
          null,
          null,
          null,
          null,
          null,
          null,
          null,
          null,
          -47.663,
          null,
          null,
          null,
          null,
          null,
          14.896,
          -20.553,
          null,
          -8.735,
          null,
          null,
          null,
          null,
          null,
          null,
          null,
          -11.384,
          null,
          -15.744,
          null,
          null,
          83.859,
          null,
          -23.238,
          null,
          null,
          null
         ],
         "y": [
          "AGO",
          "ALB",
          "ARM",
          "BEN",
          "BFA",
          "BGD",
          "BOL",
          "CIV",
          "CMR",
          "COD",
          "COM",
          "DOM",
          "EGY",
          "ETH",
          "GAB",
          "GHA",
          "GIN",
          "GMB",
          "GTM",
          "GUY",
          "HND",
          "HTI",
          "IND",
          "JOR",
          "KEN",
          "KGZ",
          "KHM",
          "LBR",
          "LSO",
          "MAR",
          "MDA",
          "MDG",
          "MLI",
          "MMR",
          "MOZ",
          "MRT",
          "MWI",
          "NAM",
          "NGA",
          "NIC",
          "PAK",
          "PER",
          "PHL",
          "SEN",
          "SLE",
          "SWZ",
          "TCD",
          "TGO",
          "TJK",
          "TLS",
          "TZA",
          "UGA",
          "ZAF",
          "ZMB",
          "ZWE"
         ]
        },
        {
         "marker": {
          "color": "rgba(240, 230, 140, 0.95)",
          "line": {
           "width": 1
          },
          "size": 16,
          "symbol": "circle"
         },
         "mode": "markers",
         "name": "13",
         "type": "scatter",
         "x": [
          -22.903,
          null,
          null,
          null,
          null,
          null,
          null,
          null,
          -28.111,
          null,
          null,
          null,
          null,
          null,
          null,
          null,
          -83.09,
          null,
          null,
          null,
          null,
          null,
          null,
          null,
          null,
          null,
          null,
          75.071,
          null,
          null,
          null,
          null,
          null,
          null,
          null,
          null,
          227.399,
          null,
          null,
          null,
          null,
          null,
          null,
          null,
          null,
          null,
          -21.2,
          null,
          null,
          null,
          null,
          null,
          null,
          null,
          null
         ],
         "y": [
          "AGO",
          "ALB",
          "ARM",
          "BEN",
          "BFA",
          "BGD",
          "BOL",
          "CIV",
          "CMR",
          "COD",
          "COM",
          "DOM",
          "EGY",
          "ETH",
          "GAB",
          "GHA",
          "GIN",
          "GMB",
          "GTM",
          "GUY",
          "HND",
          "HTI",
          "IND",
          "JOR",
          "KEN",
          "KGZ",
          "KHM",
          "LBR",
          "LSO",
          "MAR",
          "MDA",
          "MDG",
          "MLI",
          "MMR",
          "MOZ",
          "MRT",
          "MWI",
          "NAM",
          "NGA",
          "NIC",
          "PAK",
          "PER",
          "PHL",
          "SEN",
          "SLE",
          "SWZ",
          "TCD",
          "TGO",
          "TJK",
          "TLS",
          "TZA",
          "UGA",
          "ZAF",
          "ZMB",
          "ZWE"
         ]
        },
        {
         "marker": {
          "color": "rgba(240, 230, 140, 0.95)",
          "line": {
           "width": 1
          },
          "size": 16,
          "symbol": "circle"
         },
         "mode": "markers",
         "name": "14",
         "type": "scatter",
         "x": [
          -14.096,
          null,
          null,
          null,
          null,
          null,
          null,
          null,
          null,
          null,
          null,
          null,
          null,
          -1.64,
          null,
          null,
          -114.788,
          null,
          null,
          null,
          null,
          null,
          null,
          null,
          null,
          null,
          null,
          74.8,
          null,
          null,
          null,
          null,
          null,
          null,
          null,
          null,
          222.487,
          null,
          null,
          null,
          null,
          null,
          null,
          null,
          null,
          null,
          -36.26,
          null,
          null,
          -22.098,
          null,
          null,
          null,
          null,
          -20.604
         ],
         "y": [
          "AGO",
          "ALB",
          "ARM",
          "BEN",
          "BFA",
          "BGD",
          "BOL",
          "CIV",
          "CMR",
          "COD",
          "COM",
          "DOM",
          "EGY",
          "ETH",
          "GAB",
          "GHA",
          "GIN",
          "GMB",
          "GTM",
          "GUY",
          "HND",
          "HTI",
          "IND",
          "JOR",
          "KEN",
          "KGZ",
          "KHM",
          "LBR",
          "LSO",
          "MAR",
          "MDA",
          "MDG",
          "MLI",
          "MMR",
          "MOZ",
          "MRT",
          "MWI",
          "NAM",
          "NGA",
          "NIC",
          "PAK",
          "PER",
          "PHL",
          "SEN",
          "SLE",
          "SWZ",
          "TCD",
          "TGO",
          "TJK",
          "TLS",
          "TZA",
          "UGA",
          "ZAF",
          "ZMB",
          "ZWE"
         ]
        },
        {
         "marker": {
          "color": "rgba(240, 230, 140, 0.95)",
          "line": {
           "width": 1
          },
          "size": 16,
          "symbol": "circle"
         },
         "mode": "markers",
         "name": "15",
         "type": "scatter",
         "x": [
          null,
          null,
          null,
          null,
          null,
          null,
          null,
          null,
          -24.75,
          null,
          null,
          null,
          null,
          null,
          null,
          null,
          -125.121,
          null,
          null,
          null,
          null,
          null,
          null,
          null,
          null,
          null,
          null,
          76.099,
          null,
          null,
          null,
          null,
          null,
          null,
          -27.05,
          null,
          224.277,
          -4.698,
          null,
          null,
          null,
          null,
          null,
          null,
          null,
          null,
          -31.263,
          null,
          null,
          -21.961,
          null,
          null,
          null,
          null,
          -22.19
         ],
         "y": [
          "AGO",
          "ALB",
          "ARM",
          "BEN",
          "BFA",
          "BGD",
          "BOL",
          "CIV",
          "CMR",
          "COD",
          "COM",
          "DOM",
          "EGY",
          "ETH",
          "GAB",
          "GHA",
          "GIN",
          "GMB",
          "GTM",
          "GUY",
          "HND",
          "HTI",
          "IND",
          "JOR",
          "KEN",
          "KGZ",
          "KHM",
          "LBR",
          "LSO",
          "MAR",
          "MDA",
          "MDG",
          "MLI",
          "MMR",
          "MOZ",
          "MRT",
          "MWI",
          "NAM",
          "NGA",
          "NIC",
          "PAK",
          "PER",
          "PHL",
          "SEN",
          "SLE",
          "SWZ",
          "TCD",
          "TGO",
          "TJK",
          "TLS",
          "TZA",
          "UGA",
          "ZAF",
          "ZMB",
          "ZWE"
         ]
        },
        {
         "marker": {
          "color": "rgba(240, 230, 140, 0.95)",
          "line": {
           "width": 1
          },
          "size": 16,
          "symbol": "circle"
         },
         "mode": "markers",
         "name": "16",
         "type": "scatter",
         "x": [
          null,
          null,
          null,
          null,
          null,
          null,
          null,
          -6.484,
          -16.442,
          null,
          null,
          null,
          null,
          -4.994,
          null,
          null,
          -118.266,
          null,
          null,
          null,
          null,
          null,
          null,
          null,
          null,
          null,
          null,
          66.734,
          null,
          null,
          null,
          null,
          null,
          null,
          -38.343,
          null,
          256.596,
          -5.416,
          null,
          null,
          null,
          null,
          null,
          null,
          -16.858,
          null,
          -49.764,
          null,
          null,
          -25.591,
          null,
          null,
          null,
          null,
          -22.981
         ],
         "y": [
          "AGO",
          "ALB",
          "ARM",
          "BEN",
          "BFA",
          "BGD",
          "BOL",
          "CIV",
          "CMR",
          "COD",
          "COM",
          "DOM",
          "EGY",
          "ETH",
          "GAB",
          "GHA",
          "GIN",
          "GMB",
          "GTM",
          "GUY",
          "HND",
          "HTI",
          "IND",
          "JOR",
          "KEN",
          "KGZ",
          "KHM",
          "LBR",
          "LSO",
          "MAR",
          "MDA",
          "MDG",
          "MLI",
          "MMR",
          "MOZ",
          "MRT",
          "MWI",
          "NAM",
          "NGA",
          "NIC",
          "PAK",
          "PER",
          "PHL",
          "SEN",
          "SLE",
          "SWZ",
          "TCD",
          "TGO",
          "TJK",
          "TLS",
          "TZA",
          "UGA",
          "ZAF",
          "ZMB",
          "ZWE"
         ]
        }
       ],
       "layout": {
        "height": 600,
        "hovermode": "closest",
        "legend": {
         "font": {
          "size": 10
         },
         "xanchor": "center",
         "yanchor": "top"
        },
        "margin": {
         "b": 50,
         "l": 140,
         "r": 40,
         "t": 80
        },
        "paper_bgcolor": "white",
        "plot_bgcolor": "white",
        "shapes": [
         {
          "line": {
           "color": "red",
           "dash": "dashdot",
           "width": 2
          },
          "type": "line",
          "x0": 0,
          "x1": 0,
          "y0": 0,
          "y1": 55
         }
        ],
        "template": {
         "data": {
          "bar": [
           {
            "error_x": {
             "color": "#2a3f5f"
            },
            "error_y": {
             "color": "#2a3f5f"
            },
            "marker": {
             "line": {
              "color": "#E5ECF6",
              "width": 0.5
             },
             "pattern": {
              "fillmode": "overlay",
              "size": 10,
              "solidity": 0.2
             }
            },
            "type": "bar"
           }
          ],
          "barpolar": [
           {
            "marker": {
             "line": {
              "color": "#E5ECF6",
              "width": 0.5
             },
             "pattern": {
              "fillmode": "overlay",
              "size": 10,
              "solidity": 0.2
             }
            },
            "type": "barpolar"
           }
          ],
          "carpet": [
           {
            "aaxis": {
             "endlinecolor": "#2a3f5f",
             "gridcolor": "white",
             "linecolor": "white",
             "minorgridcolor": "white",
             "startlinecolor": "#2a3f5f"
            },
            "baxis": {
             "endlinecolor": "#2a3f5f",
             "gridcolor": "white",
             "linecolor": "white",
             "minorgridcolor": "white",
             "startlinecolor": "#2a3f5f"
            },
            "type": "carpet"
           }
          ],
          "choropleth": [
           {
            "colorbar": {
             "outlinewidth": 0,
             "ticks": ""
            },
            "type": "choropleth"
           }
          ],
          "contour": [
           {
            "colorbar": {
             "outlinewidth": 0,
             "ticks": ""
            },
            "colorscale": [
             [
              0,
              "#0d0887"
             ],
             [
              0.1111111111111111,
              "#46039f"
             ],
             [
              0.2222222222222222,
              "#7201a8"
             ],
             [
              0.3333333333333333,
              "#9c179e"
             ],
             [
              0.4444444444444444,
              "#bd3786"
             ],
             [
              0.5555555555555556,
              "#d8576b"
             ],
             [
              0.6666666666666666,
              "#ed7953"
             ],
             [
              0.7777777777777778,
              "#fb9f3a"
             ],
             [
              0.8888888888888888,
              "#fdca26"
             ],
             [
              1,
              "#f0f921"
             ]
            ],
            "type": "contour"
           }
          ],
          "contourcarpet": [
           {
            "colorbar": {
             "outlinewidth": 0,
             "ticks": ""
            },
            "type": "contourcarpet"
           }
          ],
          "heatmap": [
           {
            "colorbar": {
             "outlinewidth": 0,
             "ticks": ""
            },
            "colorscale": [
             [
              0,
              "#0d0887"
             ],
             [
              0.1111111111111111,
              "#46039f"
             ],
             [
              0.2222222222222222,
              "#7201a8"
             ],
             [
              0.3333333333333333,
              "#9c179e"
             ],
             [
              0.4444444444444444,
              "#bd3786"
             ],
             [
              0.5555555555555556,
              "#d8576b"
             ],
             [
              0.6666666666666666,
              "#ed7953"
             ],
             [
              0.7777777777777778,
              "#fb9f3a"
             ],
             [
              0.8888888888888888,
              "#fdca26"
             ],
             [
              1,
              "#f0f921"
             ]
            ],
            "type": "heatmap"
           }
          ],
          "heatmapgl": [
           {
            "colorbar": {
             "outlinewidth": 0,
             "ticks": ""
            },
            "colorscale": [
             [
              0,
              "#0d0887"
             ],
             [
              0.1111111111111111,
              "#46039f"
             ],
             [
              0.2222222222222222,
              "#7201a8"
             ],
             [
              0.3333333333333333,
              "#9c179e"
             ],
             [
              0.4444444444444444,
              "#bd3786"
             ],
             [
              0.5555555555555556,
              "#d8576b"
             ],
             [
              0.6666666666666666,
              "#ed7953"
             ],
             [
              0.7777777777777778,
              "#fb9f3a"
             ],
             [
              0.8888888888888888,
              "#fdca26"
             ],
             [
              1,
              "#f0f921"
             ]
            ],
            "type": "heatmapgl"
           }
          ],
          "histogram": [
           {
            "marker": {
             "pattern": {
              "fillmode": "overlay",
              "size": 10,
              "solidity": 0.2
             }
            },
            "type": "histogram"
           }
          ],
          "histogram2d": [
           {
            "colorbar": {
             "outlinewidth": 0,
             "ticks": ""
            },
            "colorscale": [
             [
              0,
              "#0d0887"
             ],
             [
              0.1111111111111111,
              "#46039f"
             ],
             [
              0.2222222222222222,
              "#7201a8"
             ],
             [
              0.3333333333333333,
              "#9c179e"
             ],
             [
              0.4444444444444444,
              "#bd3786"
             ],
             [
              0.5555555555555556,
              "#d8576b"
             ],
             [
              0.6666666666666666,
              "#ed7953"
             ],
             [
              0.7777777777777778,
              "#fb9f3a"
             ],
             [
              0.8888888888888888,
              "#fdca26"
             ],
             [
              1,
              "#f0f921"
             ]
            ],
            "type": "histogram2d"
           }
          ],
          "histogram2dcontour": [
           {
            "colorbar": {
             "outlinewidth": 0,
             "ticks": ""
            },
            "colorscale": [
             [
              0,
              "#0d0887"
             ],
             [
              0.1111111111111111,
              "#46039f"
             ],
             [
              0.2222222222222222,
              "#7201a8"
             ],
             [
              0.3333333333333333,
              "#9c179e"
             ],
             [
              0.4444444444444444,
              "#bd3786"
             ],
             [
              0.5555555555555556,
              "#d8576b"
             ],
             [
              0.6666666666666666,
              "#ed7953"
             ],
             [
              0.7777777777777778,
              "#fb9f3a"
             ],
             [
              0.8888888888888888,
              "#fdca26"
             ],
             [
              1,
              "#f0f921"
             ]
            ],
            "type": "histogram2dcontour"
           }
          ],
          "mesh3d": [
           {
            "colorbar": {
             "outlinewidth": 0,
             "ticks": ""
            },
            "type": "mesh3d"
           }
          ],
          "parcoords": [
           {
            "line": {
             "colorbar": {
              "outlinewidth": 0,
              "ticks": ""
             }
            },
            "type": "parcoords"
           }
          ],
          "pie": [
           {
            "automargin": true,
            "type": "pie"
           }
          ],
          "scatter": [
           {
            "fillpattern": {
             "fillmode": "overlay",
             "size": 10,
             "solidity": 0.2
            },
            "type": "scatter"
           }
          ],
          "scatter3d": [
           {
            "line": {
             "colorbar": {
              "outlinewidth": 0,
              "ticks": ""
             }
            },
            "marker": {
             "colorbar": {
              "outlinewidth": 0,
              "ticks": ""
             }
            },
            "type": "scatter3d"
           }
          ],
          "scattercarpet": [
           {
            "marker": {
             "colorbar": {
              "outlinewidth": 0,
              "ticks": ""
             }
            },
            "type": "scattercarpet"
           }
          ],
          "scattergeo": [
           {
            "marker": {
             "colorbar": {
              "outlinewidth": 0,
              "ticks": ""
             }
            },
            "type": "scattergeo"
           }
          ],
          "scattergl": [
           {
            "marker": {
             "colorbar": {
              "outlinewidth": 0,
              "ticks": ""
             }
            },
            "type": "scattergl"
           }
          ],
          "scattermapbox": [
           {
            "marker": {
             "colorbar": {
              "outlinewidth": 0,
              "ticks": ""
             }
            },
            "type": "scattermapbox"
           }
          ],
          "scatterpolar": [
           {
            "marker": {
             "colorbar": {
              "outlinewidth": 0,
              "ticks": ""
             }
            },
            "type": "scatterpolar"
           }
          ],
          "scatterpolargl": [
           {
            "marker": {
             "colorbar": {
              "outlinewidth": 0,
              "ticks": ""
             }
            },
            "type": "scatterpolargl"
           }
          ],
          "scatterternary": [
           {
            "marker": {
             "colorbar": {
              "outlinewidth": 0,
              "ticks": ""
             }
            },
            "type": "scatterternary"
           }
          ],
          "surface": [
           {
            "colorbar": {
             "outlinewidth": 0,
             "ticks": ""
            },
            "colorscale": [
             [
              0,
              "#0d0887"
             ],
             [
              0.1111111111111111,
              "#46039f"
             ],
             [
              0.2222222222222222,
              "#7201a8"
             ],
             [
              0.3333333333333333,
              "#9c179e"
             ],
             [
              0.4444444444444444,
              "#bd3786"
             ],
             [
              0.5555555555555556,
              "#d8576b"
             ],
             [
              0.6666666666666666,
              "#ed7953"
             ],
             [
              0.7777777777777778,
              "#fb9f3a"
             ],
             [
              0.8888888888888888,
              "#fdca26"
             ],
             [
              1,
              "#f0f921"
             ]
            ],
            "type": "surface"
           }
          ],
          "table": [
           {
            "cells": {
             "fill": {
              "color": "#EBF0F8"
             },
             "line": {
              "color": "white"
             }
            },
            "header": {
             "fill": {
              "color": "#C8D4E3"
             },
             "line": {
              "color": "white"
             }
            },
            "type": "table"
           }
          ]
         },
         "layout": {
          "annotationdefaults": {
           "arrowcolor": "#2a3f5f",
           "arrowhead": 0,
           "arrowwidth": 1
          },
          "autotypenumbers": "strict",
          "coloraxis": {
           "colorbar": {
            "outlinewidth": 0,
            "ticks": ""
           }
          },
          "colorscale": {
           "diverging": [
            [
             0,
             "#8e0152"
            ],
            [
             0.1,
             "#c51b7d"
            ],
            [
             0.2,
             "#de77ae"
            ],
            [
             0.3,
             "#f1b6da"
            ],
            [
             0.4,
             "#fde0ef"
            ],
            [
             0.5,
             "#f7f7f7"
            ],
            [
             0.6,
             "#e6f5d0"
            ],
            [
             0.7,
             "#b8e186"
            ],
            [
             0.8,
             "#7fbc41"
            ],
            [
             0.9,
             "#4d9221"
            ],
            [
             1,
             "#276419"
            ]
           ],
           "sequential": [
            [
             0,
             "#0d0887"
            ],
            [
             0.1111111111111111,
             "#46039f"
            ],
            [
             0.2222222222222222,
             "#7201a8"
            ],
            [
             0.3333333333333333,
             "#9c179e"
            ],
            [
             0.4444444444444444,
             "#bd3786"
            ],
            [
             0.5555555555555556,
             "#d8576b"
            ],
            [
             0.6666666666666666,
             "#ed7953"
            ],
            [
             0.7777777777777778,
             "#fb9f3a"
            ],
            [
             0.8888888888888888,
             "#fdca26"
            ],
            [
             1,
             "#f0f921"
            ]
           ],
           "sequentialminus": [
            [
             0,
             "#0d0887"
            ],
            [
             0.1111111111111111,
             "#46039f"
            ],
            [
             0.2222222222222222,
             "#7201a8"
            ],
            [
             0.3333333333333333,
             "#9c179e"
            ],
            [
             0.4444444444444444,
             "#bd3786"
            ],
            [
             0.5555555555555556,
             "#d8576b"
            ],
            [
             0.6666666666666666,
             "#ed7953"
            ],
            [
             0.7777777777777778,
             "#fb9f3a"
            ],
            [
             0.8888888888888888,
             "#fdca26"
            ],
            [
             1,
             "#f0f921"
            ]
           ]
          },
          "colorway": [
           "#636efa",
           "#EF553B",
           "#00cc96",
           "#ab63fa",
           "#FFA15A",
           "#19d3f3",
           "#FF6692",
           "#B6E880",
           "#FF97FF",
           "#FECB52"
          ],
          "font": {
           "color": "#2a3f5f"
          },
          "geo": {
           "bgcolor": "white",
           "lakecolor": "white",
           "landcolor": "#E5ECF6",
           "showlakes": true,
           "showland": true,
           "subunitcolor": "white"
          },
          "hoverlabel": {
           "align": "left"
          },
          "hovermode": "closest",
          "mapbox": {
           "style": "light"
          },
          "paper_bgcolor": "white",
          "plot_bgcolor": "#E5ECF6",
          "polar": {
           "angularaxis": {
            "gridcolor": "white",
            "linecolor": "white",
            "ticks": ""
           },
           "bgcolor": "#E5ECF6",
           "radialaxis": {
            "gridcolor": "white",
            "linecolor": "white",
            "ticks": ""
           }
          },
          "scene": {
           "xaxis": {
            "backgroundcolor": "#E5ECF6",
            "gridcolor": "white",
            "gridwidth": 2,
            "linecolor": "white",
            "showbackground": true,
            "ticks": "",
            "zerolinecolor": "white"
           },
           "yaxis": {
            "backgroundcolor": "#E5ECF6",
            "gridcolor": "white",
            "gridwidth": 2,
            "linecolor": "white",
            "showbackground": true,
            "ticks": "",
            "zerolinecolor": "white"
           },
           "zaxis": {
            "backgroundcolor": "#E5ECF6",
            "gridcolor": "white",
            "gridwidth": 2,
            "linecolor": "white",
            "showbackground": true,
            "ticks": "",
            "zerolinecolor": "white"
           }
          },
          "shapedefaults": {
           "line": {
            "color": "#2a3f5f"
           }
          },
          "ternary": {
           "aaxis": {
            "gridcolor": "white",
            "linecolor": "white",
            "ticks": ""
           },
           "baxis": {
            "gridcolor": "white",
            "linecolor": "white",
            "ticks": ""
           },
           "bgcolor": "#E5ECF6",
           "caxis": {
            "gridcolor": "white",
            "linecolor": "white",
            "ticks": ""
           }
          },
          "title": {
           "x": 0.05
          },
          "xaxis": {
           "automargin": true,
           "gridcolor": "white",
           "linecolor": "white",
           "ticks": "",
           "title": {
            "standoff": 15
           },
           "zerolinecolor": "white",
           "zerolinewidth": 2
          },
          "yaxis": {
           "automargin": true,
           "gridcolor": "white",
           "linecolor": "white",
           "ticks": "",
           "title": {
            "standoff": 15
           },
           "zerolinecolor": "white",
           "zerolinewidth": 2
          }
         }
        },
        "title": {
         "text": "drought 3.0 30d3m"
        },
        "width": 1600,
        "xaxis": {
         "linecolor": "rgb(102, 102, 102)",
         "showgrid": false,
         "showline": true,
         "showticklabels": true,
         "tickcolor": "rgb(102, 102, 102)",
         "tickfont": {
          "color": "rgb(102, 102, 102)"
         },
         "ticks": "outside"
        }
       }
      }
     },
     "metadata": {},
     "output_type": "display_data"
    },
    {
     "data": {
      "application/vnd.plotly.v1+json": {
       "config": {
        "plotlyServerURL": "https://plot.ly"
       },
       "data": [
        {
         "marker": {
          "color": "rgba(156, 165, 196, 0.95)",
          "line": {
           "width": 1
          },
          "size": 16,
          "symbol": "circle"
         },
         "mode": "markers",
         "name": "1",
         "type": "scatter",
         "x": [
          null,
          null,
          null,
          null,
          null,
          null,
          null,
          null,
          null,
          null,
          null,
          null,
          null,
          null,
          null,
          null,
          null,
          null,
          null,
          null,
          null,
          null,
          null,
          null,
          null,
          null,
          null,
          null,
          null,
          null,
          null,
          null,
          null,
          null,
          null,
          null,
          null,
          null,
          null,
          null,
          null,
          null,
          null,
          null,
          null,
          null,
          null,
          null,
          null,
          null,
          null,
          null,
          null,
          null,
          null
         ],
         "y": [
          "AGO",
          "ALB",
          "ARM",
          "BEN",
          "BFA",
          "BGD",
          "BOL",
          "CIV",
          "CMR",
          "COD",
          "COM",
          "DOM",
          "EGY",
          "ETH",
          "GAB",
          "GHA",
          "GIN",
          "GMB",
          "GTM",
          "GUY",
          "HND",
          "HTI",
          "IND",
          "JOR",
          "KEN",
          "KGZ",
          "KHM",
          "LBR",
          "LSO",
          "MAR",
          "MDA",
          "MDG",
          "MLI",
          "MMR",
          "MOZ",
          "MRT",
          "MWI",
          "NAM",
          "NGA",
          "NIC",
          "PAK",
          "PER",
          "PHL",
          "SEN",
          "SLE",
          "SWZ",
          "TCD",
          "TGO",
          "TJK",
          "TLS",
          "TZA",
          "UGA",
          "ZAF",
          "ZMB",
          "ZWE"
         ]
        },
        {
         "marker": {
          "color": "rgba(156, 165, 196, 0.95)",
          "line": {
           "width": 1
          },
          "size": 16,
          "symbol": "circle"
         },
         "mode": "markers",
         "name": "2",
         "type": "scatter",
         "x": [
          null,
          null,
          null,
          null,
          null,
          null,
          null,
          null,
          null,
          null,
          null,
          null,
          null,
          null,
          null,
          null,
          null,
          null,
          null,
          null,
          null,
          null,
          null,
          null,
          null,
          null,
          null,
          null,
          null,
          null,
          null,
          null,
          null,
          null,
          null,
          null,
          null,
          null,
          null,
          null,
          null,
          null,
          null,
          null,
          null,
          null,
          null,
          null,
          null,
          null,
          null,
          null,
          null,
          null,
          null
         ],
         "y": [
          "AGO",
          "ALB",
          "ARM",
          "BEN",
          "BFA",
          "BGD",
          "BOL",
          "CIV",
          "CMR",
          "COD",
          "COM",
          "DOM",
          "EGY",
          "ETH",
          "GAB",
          "GHA",
          "GIN",
          "GMB",
          "GTM",
          "GUY",
          "HND",
          "HTI",
          "IND",
          "JOR",
          "KEN",
          "KGZ",
          "KHM",
          "LBR",
          "LSO",
          "MAR",
          "MDA",
          "MDG",
          "MLI",
          "MMR",
          "MOZ",
          "MRT",
          "MWI",
          "NAM",
          "NGA",
          "NIC",
          "PAK",
          "PER",
          "PHL",
          "SEN",
          "SLE",
          "SWZ",
          "TCD",
          "TGO",
          "TJK",
          "TLS",
          "TZA",
          "UGA",
          "ZAF",
          "ZMB",
          "ZWE"
         ]
        },
        {
         "marker": {
          "color": "rgba(156, 165, 196, 0.95)",
          "line": {
           "width": 1
          },
          "size": 16,
          "symbol": "circle"
         },
         "mode": "markers",
         "name": "3",
         "type": "scatter",
         "x": [
          null,
          null,
          null,
          null,
          null,
          null,
          null,
          null,
          null,
          null,
          null,
          null,
          null,
          null,
          null,
          null,
          null,
          null,
          null,
          null,
          null,
          null,
          null,
          null,
          null,
          null,
          null,
          null,
          null,
          null,
          null,
          null,
          null,
          null,
          null,
          null,
          null,
          null,
          null,
          null,
          null,
          null,
          null,
          null,
          null,
          null,
          null,
          null,
          null,
          null,
          null,
          null,
          null,
          null,
          null
         ],
         "y": [
          "AGO",
          "ALB",
          "ARM",
          "BEN",
          "BFA",
          "BGD",
          "BOL",
          "CIV",
          "CMR",
          "COD",
          "COM",
          "DOM",
          "EGY",
          "ETH",
          "GAB",
          "GHA",
          "GIN",
          "GMB",
          "GTM",
          "GUY",
          "HND",
          "HTI",
          "IND",
          "JOR",
          "KEN",
          "KGZ",
          "KHM",
          "LBR",
          "LSO",
          "MAR",
          "MDA",
          "MDG",
          "MLI",
          "MMR",
          "MOZ",
          "MRT",
          "MWI",
          "NAM",
          "NGA",
          "NIC",
          "PAK",
          "PER",
          "PHL",
          "SEN",
          "SLE",
          "SWZ",
          "TCD",
          "TGO",
          "TJK",
          "TLS",
          "TZA",
          "UGA",
          "ZAF",
          "ZMB",
          "ZWE"
         ]
        },
        {
         "marker": {
          "color": "rgba(156, 165, 196, 0.95)",
          "line": {
           "width": 1
          },
          "size": 16,
          "symbol": "circle"
         },
         "mode": "markers",
         "name": "4",
         "type": "scatter",
         "x": [
          null,
          null,
          null,
          null,
          null,
          null,
          null,
          null,
          null,
          null,
          null,
          null,
          null,
          null,
          null,
          null,
          null,
          null,
          null,
          null,
          null,
          null,
          null,
          null,
          null,
          null,
          null,
          null,
          null,
          null,
          null,
          null,
          null,
          null,
          null,
          null,
          null,
          null,
          null,
          null,
          null,
          null,
          null,
          null,
          null,
          null,
          null,
          null,
          null,
          null,
          null,
          null,
          null,
          null,
          null
         ],
         "y": [
          "AGO",
          "ALB",
          "ARM",
          "BEN",
          "BFA",
          "BGD",
          "BOL",
          "CIV",
          "CMR",
          "COD",
          "COM",
          "DOM",
          "EGY",
          "ETH",
          "GAB",
          "GHA",
          "GIN",
          "GMB",
          "GTM",
          "GUY",
          "HND",
          "HTI",
          "IND",
          "JOR",
          "KEN",
          "KGZ",
          "KHM",
          "LBR",
          "LSO",
          "MAR",
          "MDA",
          "MDG",
          "MLI",
          "MMR",
          "MOZ",
          "MRT",
          "MWI",
          "NAM",
          "NGA",
          "NIC",
          "PAK",
          "PER",
          "PHL",
          "SEN",
          "SLE",
          "SWZ",
          "TCD",
          "TGO",
          "TJK",
          "TLS",
          "TZA",
          "UGA",
          "ZAF",
          "ZMB",
          "ZWE"
         ]
        },
        {
         "marker": {
          "color": "rgba(204, 204, 204, 0.95)",
          "line": {
           "width": 1
          },
          "size": 16,
          "symbol": "circle"
         },
         "mode": "markers",
         "name": "5",
         "type": "scatter",
         "x": [
          null,
          null,
          null,
          null,
          null,
          null,
          null,
          null,
          null,
          null,
          null,
          null,
          null,
          null,
          null,
          null,
          null,
          null,
          null,
          null,
          null,
          null,
          null,
          null,
          null,
          null,
          null,
          null,
          null,
          null,
          null,
          null,
          null,
          null,
          null,
          null,
          null,
          null,
          null,
          null,
          null,
          null,
          null,
          null,
          null,
          null,
          null,
          null,
          null,
          null,
          null,
          null,
          null,
          null,
          null
         ],
         "y": [
          "AGO",
          "ALB",
          "ARM",
          "BEN",
          "BFA",
          "BGD",
          "BOL",
          "CIV",
          "CMR",
          "COD",
          "COM",
          "DOM",
          "EGY",
          "ETH",
          "GAB",
          "GHA",
          "GIN",
          "GMB",
          "GTM",
          "GUY",
          "HND",
          "HTI",
          "IND",
          "JOR",
          "KEN",
          "KGZ",
          "KHM",
          "LBR",
          "LSO",
          "MAR",
          "MDA",
          "MDG",
          "MLI",
          "MMR",
          "MOZ",
          "MRT",
          "MWI",
          "NAM",
          "NGA",
          "NIC",
          "PAK",
          "PER",
          "PHL",
          "SEN",
          "SLE",
          "SWZ",
          "TCD",
          "TGO",
          "TJK",
          "TLS",
          "TZA",
          "UGA",
          "ZAF",
          "ZMB",
          "ZWE"
         ]
        },
        {
         "marker": {
          "color": "rgba(204, 204, 204, 0.95)",
          "line": {
           "width": 1
          },
          "size": 16,
          "symbol": "circle"
         },
         "mode": "markers",
         "name": "6",
         "type": "scatter",
         "x": [
          null,
          null,
          null,
          null,
          null,
          null,
          null,
          null,
          null,
          null,
          null,
          null,
          null,
          null,
          null,
          null,
          null,
          null,
          null,
          null,
          null,
          null,
          null,
          null,
          null,
          null,
          null,
          null,
          null,
          null,
          null,
          null,
          null,
          null,
          null,
          null,
          null,
          null,
          null,
          null,
          null,
          null,
          null,
          null,
          null,
          null,
          null,
          null,
          null,
          null,
          null,
          null,
          null,
          null,
          null
         ],
         "y": [
          "AGO",
          "ALB",
          "ARM",
          "BEN",
          "BFA",
          "BGD",
          "BOL",
          "CIV",
          "CMR",
          "COD",
          "COM",
          "DOM",
          "EGY",
          "ETH",
          "GAB",
          "GHA",
          "GIN",
          "GMB",
          "GTM",
          "GUY",
          "HND",
          "HTI",
          "IND",
          "JOR",
          "KEN",
          "KGZ",
          "KHM",
          "LBR",
          "LSO",
          "MAR",
          "MDA",
          "MDG",
          "MLI",
          "MMR",
          "MOZ",
          "MRT",
          "MWI",
          "NAM",
          "NGA",
          "NIC",
          "PAK",
          "PER",
          "PHL",
          "SEN",
          "SLE",
          "SWZ",
          "TCD",
          "TGO",
          "TJK",
          "TLS",
          "TZA",
          "UGA",
          "ZAF",
          "ZMB",
          "ZWE"
         ]
        },
        {
         "marker": {
          "color": "rgba(204, 204, 204, 0.95)",
          "line": {
           "width": 1
          },
          "size": 16,
          "symbol": "circle"
         },
         "mode": "markers",
         "name": "7",
         "type": "scatter",
         "x": [
          null,
          null,
          null,
          null,
          null,
          null,
          null,
          null,
          null,
          null,
          null,
          null,
          null,
          null,
          null,
          null,
          null,
          null,
          null,
          null,
          null,
          null,
          null,
          null,
          null,
          null,
          null,
          null,
          null,
          null,
          null,
          null,
          null,
          null,
          null,
          null,
          null,
          null,
          null,
          null,
          null,
          null,
          null,
          null,
          null,
          null,
          null,
          null,
          null,
          null,
          null,
          null,
          null,
          null,
          null
         ],
         "y": [
          "AGO",
          "ALB",
          "ARM",
          "BEN",
          "BFA",
          "BGD",
          "BOL",
          "CIV",
          "CMR",
          "COD",
          "COM",
          "DOM",
          "EGY",
          "ETH",
          "GAB",
          "GHA",
          "GIN",
          "GMB",
          "GTM",
          "GUY",
          "HND",
          "HTI",
          "IND",
          "JOR",
          "KEN",
          "KGZ",
          "KHM",
          "LBR",
          "LSO",
          "MAR",
          "MDA",
          "MDG",
          "MLI",
          "MMR",
          "MOZ",
          "MRT",
          "MWI",
          "NAM",
          "NGA",
          "NIC",
          "PAK",
          "PER",
          "PHL",
          "SEN",
          "SLE",
          "SWZ",
          "TCD",
          "TGO",
          "TJK",
          "TLS",
          "TZA",
          "UGA",
          "ZAF",
          "ZMB",
          "ZWE"
         ]
        },
        {
         "marker": {
          "color": "rgba(204, 204, 204, 0.95)",
          "line": {
           "width": 1
          },
          "size": 16,
          "symbol": "circle"
         },
         "mode": "markers",
         "name": "8",
         "type": "scatter",
         "x": [
          null,
          null,
          null,
          null,
          null,
          null,
          null,
          null,
          null,
          null,
          null,
          null,
          null,
          null,
          null,
          null,
          null,
          null,
          null,
          null,
          null,
          null,
          null,
          null,
          null,
          null,
          null,
          null,
          null,
          null,
          null,
          null,
          null,
          null,
          null,
          null,
          null,
          null,
          null,
          null,
          null,
          null,
          null,
          null,
          null,
          null,
          null,
          null,
          null,
          null,
          null,
          null,
          null,
          null,
          null
         ],
         "y": [
          "AGO",
          "ALB",
          "ARM",
          "BEN",
          "BFA",
          "BGD",
          "BOL",
          "CIV",
          "CMR",
          "COD",
          "COM",
          "DOM",
          "EGY",
          "ETH",
          "GAB",
          "GHA",
          "GIN",
          "GMB",
          "GTM",
          "GUY",
          "HND",
          "HTI",
          "IND",
          "JOR",
          "KEN",
          "KGZ",
          "KHM",
          "LBR",
          "LSO",
          "MAR",
          "MDA",
          "MDG",
          "MLI",
          "MMR",
          "MOZ",
          "MRT",
          "MWI",
          "NAM",
          "NGA",
          "NIC",
          "PAK",
          "PER",
          "PHL",
          "SEN",
          "SLE",
          "SWZ",
          "TCD",
          "TGO",
          "TJK",
          "TLS",
          "TZA",
          "UGA",
          "ZAF",
          "ZMB",
          "ZWE"
         ]
        },
        {
         "marker": {
          "color": "rgba(255, 166, 86, 0.95)",
          "line": {
           "width": 1
          },
          "size": 16,
          "symbol": "circle"
         },
         "mode": "markers",
         "name": "9",
         "type": "scatter",
         "x": [
          null,
          null,
          null,
          null,
          null,
          null,
          null,
          null,
          null,
          null,
          null,
          null,
          null,
          null,
          null,
          null,
          -44.74,
          null,
          null,
          null,
          null,
          null,
          null,
          null,
          null,
          null,
          null,
          -36.002,
          null,
          null,
          null,
          8.726,
          null,
          19.889,
          null,
          null,
          null,
          null,
          null,
          null,
          null,
          null,
          null,
          null,
          null,
          null,
          4.181,
          null,
          null,
          null,
          null,
          null,
          null,
          null,
          null
         ],
         "y": [
          "AGO",
          "ALB",
          "ARM",
          "BEN",
          "BFA",
          "BGD",
          "BOL",
          "CIV",
          "CMR",
          "COD",
          "COM",
          "DOM",
          "EGY",
          "ETH",
          "GAB",
          "GHA",
          "GIN",
          "GMB",
          "GTM",
          "GUY",
          "HND",
          "HTI",
          "IND",
          "JOR",
          "KEN",
          "KGZ",
          "KHM",
          "LBR",
          "LSO",
          "MAR",
          "MDA",
          "MDG",
          "MLI",
          "MMR",
          "MOZ",
          "MRT",
          "MWI",
          "NAM",
          "NGA",
          "NIC",
          "PAK",
          "PER",
          "PHL",
          "SEN",
          "SLE",
          "SWZ",
          "TCD",
          "TGO",
          "TJK",
          "TLS",
          "TZA",
          "UGA",
          "ZAF",
          "ZMB",
          "ZWE"
         ]
        },
        {
         "marker": {
          "color": "rgba(255, 166, 86, 0.95)",
          "line": {
           "width": 1
          },
          "size": 16,
          "symbol": "circle"
         },
         "mode": "markers",
         "name": "10",
         "type": "scatter",
         "x": [
          null,
          null,
          null,
          null,
          null,
          null,
          null,
          null,
          null,
          null,
          null,
          null,
          null,
          -4.556,
          null,
          null,
          -37.07,
          null,
          null,
          null,
          null,
          null,
          null,
          null,
          null,
          null,
          null,
          -35.899,
          null,
          null,
          null,
          null,
          null,
          19.973,
          null,
          null,
          null,
          -10.494,
          null,
          null,
          null,
          null,
          null,
          null,
          null,
          null,
          null,
          null,
          null,
          null,
          null,
          -15.597,
          null,
          null,
          -8.873
         ],
         "y": [
          "AGO",
          "ALB",
          "ARM",
          "BEN",
          "BFA",
          "BGD",
          "BOL",
          "CIV",
          "CMR",
          "COD",
          "COM",
          "DOM",
          "EGY",
          "ETH",
          "GAB",
          "GHA",
          "GIN",
          "GMB",
          "GTM",
          "GUY",
          "HND",
          "HTI",
          "IND",
          "JOR",
          "KEN",
          "KGZ",
          "KHM",
          "LBR",
          "LSO",
          "MAR",
          "MDA",
          "MDG",
          "MLI",
          "MMR",
          "MOZ",
          "MRT",
          "MWI",
          "NAM",
          "NGA",
          "NIC",
          "PAK",
          "PER",
          "PHL",
          "SEN",
          "SLE",
          "SWZ",
          "TCD",
          "TGO",
          "TJK",
          "TLS",
          "TZA",
          "UGA",
          "ZAF",
          "ZMB",
          "ZWE"
         ]
        },
        {
         "marker": {
          "color": "rgba(255, 166, 86, 0.95)",
          "line": {
           "width": 1
          },
          "size": 16,
          "symbol": "circle"
         },
         "mode": "markers",
         "name": "11",
         "type": "scatter",
         "x": [
          null,
          null,
          null,
          null,
          null,
          null,
          null,
          null,
          -5.416,
          null,
          null,
          null,
          null,
          -3.541,
          null,
          null,
          -43.852,
          null,
          null,
          null,
          null,
          null,
          -0.887,
          null,
          null,
          null,
          null,
          -34.042,
          null,
          null,
          null,
          -4.198,
          null,
          8.11,
          null,
          null,
          null,
          -6.863,
          null,
          null,
          null,
          null,
          null,
          null,
          null,
          null,
          -15.277,
          null,
          null,
          null,
          null,
          -20.335,
          null,
          null,
          -8.219
         ],
         "y": [
          "AGO",
          "ALB",
          "ARM",
          "BEN",
          "BFA",
          "BGD",
          "BOL",
          "CIV",
          "CMR",
          "COD",
          "COM",
          "DOM",
          "EGY",
          "ETH",
          "GAB",
          "GHA",
          "GIN",
          "GMB",
          "GTM",
          "GUY",
          "HND",
          "HTI",
          "IND",
          "JOR",
          "KEN",
          "KGZ",
          "KHM",
          "LBR",
          "LSO",
          "MAR",
          "MDA",
          "MDG",
          "MLI",
          "MMR",
          "MOZ",
          "MRT",
          "MWI",
          "NAM",
          "NGA",
          "NIC",
          "PAK",
          "PER",
          "PHL",
          "SEN",
          "SLE",
          "SWZ",
          "TCD",
          "TGO",
          "TJK",
          "TLS",
          "TZA",
          "UGA",
          "ZAF",
          "ZMB",
          "ZWE"
         ]
        },
        {
         "marker": {
          "color": "rgba(255, 166, 86, 0.95)",
          "line": {
           "width": 1
          },
          "size": 16,
          "symbol": "circle"
         },
         "mode": "markers",
         "name": "12",
         "type": "scatter",
         "x": [
          null,
          null,
          null,
          null,
          null,
          null,
          null,
          -2.824,
          -9.081,
          null,
          null,
          null,
          null,
          -2.794,
          null,
          null,
          -30.516,
          null,
          null,
          null,
          null,
          null,
          null,
          null,
          null,
          null,
          null,
          -32.755,
          null,
          null,
          null,
          -3.175,
          null,
          9.264,
          null,
          null,
          null,
          -6.697,
          null,
          null,
          null,
          -4.097,
          null,
          null,
          null,
          null,
          -22.815,
          null,
          null,
          null,
          null,
          -19.208,
          null,
          null,
          -7.881
         ],
         "y": [
          "AGO",
          "ALB",
          "ARM",
          "BEN",
          "BFA",
          "BGD",
          "BOL",
          "CIV",
          "CMR",
          "COD",
          "COM",
          "DOM",
          "EGY",
          "ETH",
          "GAB",
          "GHA",
          "GIN",
          "GMB",
          "GTM",
          "GUY",
          "HND",
          "HTI",
          "IND",
          "JOR",
          "KEN",
          "KGZ",
          "KHM",
          "LBR",
          "LSO",
          "MAR",
          "MDA",
          "MDG",
          "MLI",
          "MMR",
          "MOZ",
          "MRT",
          "MWI",
          "NAM",
          "NGA",
          "NIC",
          "PAK",
          "PER",
          "PHL",
          "SEN",
          "SLE",
          "SWZ",
          "TCD",
          "TGO",
          "TJK",
          "TLS",
          "TZA",
          "UGA",
          "ZAF",
          "ZMB",
          "ZWE"
         ]
        },
        {
         "marker": {
          "color": "rgba(240, 230, 140, 0.95)",
          "line": {
           "width": 1
          },
          "size": 16,
          "symbol": "circle"
         },
         "mode": "markers",
         "name": "13",
         "type": "scatter",
         "x": [
          null,
          null,
          null,
          null,
          null,
          null,
          null,
          null,
          null,
          null,
          null,
          null,
          null,
          -19.546,
          null,
          null,
          -71.166,
          null,
          null,
          null,
          null,
          null,
          null,
          null,
          null,
          null,
          null,
          -49.543,
          null,
          null,
          null,
          null,
          null,
          -12.079,
          null,
          null,
          null,
          -19.554,
          null,
          null,
          null,
          -2.903,
          null,
          null,
          null,
          null,
          -18.738,
          null,
          null,
          null,
          null,
          -29.15,
          null,
          null,
          null
         ],
         "y": [
          "AGO",
          "ALB",
          "ARM",
          "BEN",
          "BFA",
          "BGD",
          "BOL",
          "CIV",
          "CMR",
          "COD",
          "COM",
          "DOM",
          "EGY",
          "ETH",
          "GAB",
          "GHA",
          "GIN",
          "GMB",
          "GTM",
          "GUY",
          "HND",
          "HTI",
          "IND",
          "JOR",
          "KEN",
          "KGZ",
          "KHM",
          "LBR",
          "LSO",
          "MAR",
          "MDA",
          "MDG",
          "MLI",
          "MMR",
          "MOZ",
          "MRT",
          "MWI",
          "NAM",
          "NGA",
          "NIC",
          "PAK",
          "PER",
          "PHL",
          "SEN",
          "SLE",
          "SWZ",
          "TCD",
          "TGO",
          "TJK",
          "TLS",
          "TZA",
          "UGA",
          "ZAF",
          "ZMB",
          "ZWE"
         ]
        },
        {
         "marker": {
          "color": "rgba(240, 230, 140, 0.95)",
          "line": {
           "width": 1
          },
          "size": 16,
          "symbol": "circle"
         },
         "mode": "markers",
         "name": "14",
         "type": "scatter",
         "x": [
          null,
          null,
          null,
          null,
          null,
          null,
          null,
          -10.694,
          -11.555,
          null,
          null,
          null,
          null,
          -16.962,
          null,
          null,
          -68.604,
          null,
          null,
          null,
          null,
          null,
          null,
          null,
          null,
          null,
          null,
          -49.144,
          null,
          null,
          null,
          -19.509,
          null,
          -13.479,
          null,
          null,
          null,
          -22.642,
          null,
          null,
          null,
          null,
          null,
          null,
          null,
          null,
          -38.412,
          null,
          null,
          null,
          null,
          -32.388,
          null,
          null,
          -13.667
         ],
         "y": [
          "AGO",
          "ALB",
          "ARM",
          "BEN",
          "BFA",
          "BGD",
          "BOL",
          "CIV",
          "CMR",
          "COD",
          "COM",
          "DOM",
          "EGY",
          "ETH",
          "GAB",
          "GHA",
          "GIN",
          "GMB",
          "GTM",
          "GUY",
          "HND",
          "HTI",
          "IND",
          "JOR",
          "KEN",
          "KGZ",
          "KHM",
          "LBR",
          "LSO",
          "MAR",
          "MDA",
          "MDG",
          "MLI",
          "MMR",
          "MOZ",
          "MRT",
          "MWI",
          "NAM",
          "NGA",
          "NIC",
          "PAK",
          "PER",
          "PHL",
          "SEN",
          "SLE",
          "SWZ",
          "TCD",
          "TGO",
          "TJK",
          "TLS",
          "TZA",
          "UGA",
          "ZAF",
          "ZMB",
          "ZWE"
         ]
        },
        {
         "marker": {
          "color": "rgba(240, 230, 140, 0.95)",
          "line": {
           "width": 1
          },
          "size": 16,
          "symbol": "circle"
         },
         "mode": "markers",
         "name": "15",
         "type": "scatter",
         "x": [
          null,
          null,
          null,
          null,
          null,
          null,
          null,
          -10.719,
          -13.07,
          null,
          null,
          null,
          null,
          -15.568,
          null,
          null,
          -70.812,
          null,
          null,
          null,
          null,
          null,
          null,
          null,
          null,
          null,
          null,
          -55.531,
          null,
          null,
          null,
          -22.775,
          null,
          -16.818,
          null,
          null,
          null,
          -20.453,
          null,
          null,
          null,
          null,
          null,
          null,
          null,
          null,
          -23.487,
          null,
          null,
          null,
          null,
          -34.279,
          null,
          null,
          -13.107
         ],
         "y": [
          "AGO",
          "ALB",
          "ARM",
          "BEN",
          "BFA",
          "BGD",
          "BOL",
          "CIV",
          "CMR",
          "COD",
          "COM",
          "DOM",
          "EGY",
          "ETH",
          "GAB",
          "GHA",
          "GIN",
          "GMB",
          "GTM",
          "GUY",
          "HND",
          "HTI",
          "IND",
          "JOR",
          "KEN",
          "KGZ",
          "KHM",
          "LBR",
          "LSO",
          "MAR",
          "MDA",
          "MDG",
          "MLI",
          "MMR",
          "MOZ",
          "MRT",
          "MWI",
          "NAM",
          "NGA",
          "NIC",
          "PAK",
          "PER",
          "PHL",
          "SEN",
          "SLE",
          "SWZ",
          "TCD",
          "TGO",
          "TJK",
          "TLS",
          "TZA",
          "UGA",
          "ZAF",
          "ZMB",
          "ZWE"
         ]
        },
        {
         "marker": {
          "color": "rgba(240, 230, 140, 0.95)",
          "line": {
           "width": 1
          },
          "size": 16,
          "symbol": "circle"
         },
         "mode": "markers",
         "name": "16",
         "type": "scatter",
         "x": [
          -13.698,
          null,
          null,
          null,
          null,
          null,
          null,
          -11.316,
          -12.434,
          null,
          null,
          null,
          null,
          -11.347,
          null,
          null,
          -62.951,
          null,
          null,
          null,
          null,
          null,
          null,
          null,
          null,
          null,
          null,
          -50.758,
          null,
          null,
          null,
          -11.016,
          null,
          -16.304,
          null,
          null,
          null,
          -12.914,
          null,
          null,
          null,
          -4.246,
          null,
          null,
          null,
          null,
          -44.65,
          null,
          null,
          null,
          null,
          -32.661,
          null,
          -5.147,
          -12.356
         ],
         "y": [
          "AGO",
          "ALB",
          "ARM",
          "BEN",
          "BFA",
          "BGD",
          "BOL",
          "CIV",
          "CMR",
          "COD",
          "COM",
          "DOM",
          "EGY",
          "ETH",
          "GAB",
          "GHA",
          "GIN",
          "GMB",
          "GTM",
          "GUY",
          "HND",
          "HTI",
          "IND",
          "JOR",
          "KEN",
          "KGZ",
          "KHM",
          "LBR",
          "LSO",
          "MAR",
          "MDA",
          "MDG",
          "MLI",
          "MMR",
          "MOZ",
          "MRT",
          "MWI",
          "NAM",
          "NGA",
          "NIC",
          "PAK",
          "PER",
          "PHL",
          "SEN",
          "SLE",
          "SWZ",
          "TCD",
          "TGO",
          "TJK",
          "TLS",
          "TZA",
          "UGA",
          "ZAF",
          "ZMB",
          "ZWE"
         ]
        }
       ],
       "layout": {
        "height": 600,
        "hovermode": "closest",
        "legend": {
         "font": {
          "size": 10
         },
         "xanchor": "center",
         "yanchor": "top"
        },
        "margin": {
         "b": 50,
         "l": 140,
         "r": 40,
         "t": 80
        },
        "paper_bgcolor": "white",
        "plot_bgcolor": "white",
        "shapes": [
         {
          "line": {
           "color": "red",
           "dash": "dashdot",
           "width": 2
          },
          "type": "line",
          "x0": 0,
          "x1": 0,
          "y0": 0,
          "y1": 55
         }
        ],
        "template": {
         "data": {
          "bar": [
           {
            "error_x": {
             "color": "#2a3f5f"
            },
            "error_y": {
             "color": "#2a3f5f"
            },
            "marker": {
             "line": {
              "color": "#E5ECF6",
              "width": 0.5
             },
             "pattern": {
              "fillmode": "overlay",
              "size": 10,
              "solidity": 0.2
             }
            },
            "type": "bar"
           }
          ],
          "barpolar": [
           {
            "marker": {
             "line": {
              "color": "#E5ECF6",
              "width": 0.5
             },
             "pattern": {
              "fillmode": "overlay",
              "size": 10,
              "solidity": 0.2
             }
            },
            "type": "barpolar"
           }
          ],
          "carpet": [
           {
            "aaxis": {
             "endlinecolor": "#2a3f5f",
             "gridcolor": "white",
             "linecolor": "white",
             "minorgridcolor": "white",
             "startlinecolor": "#2a3f5f"
            },
            "baxis": {
             "endlinecolor": "#2a3f5f",
             "gridcolor": "white",
             "linecolor": "white",
             "minorgridcolor": "white",
             "startlinecolor": "#2a3f5f"
            },
            "type": "carpet"
           }
          ],
          "choropleth": [
           {
            "colorbar": {
             "outlinewidth": 0,
             "ticks": ""
            },
            "type": "choropleth"
           }
          ],
          "contour": [
           {
            "colorbar": {
             "outlinewidth": 0,
             "ticks": ""
            },
            "colorscale": [
             [
              0,
              "#0d0887"
             ],
             [
              0.1111111111111111,
              "#46039f"
             ],
             [
              0.2222222222222222,
              "#7201a8"
             ],
             [
              0.3333333333333333,
              "#9c179e"
             ],
             [
              0.4444444444444444,
              "#bd3786"
             ],
             [
              0.5555555555555556,
              "#d8576b"
             ],
             [
              0.6666666666666666,
              "#ed7953"
             ],
             [
              0.7777777777777778,
              "#fb9f3a"
             ],
             [
              0.8888888888888888,
              "#fdca26"
             ],
             [
              1,
              "#f0f921"
             ]
            ],
            "type": "contour"
           }
          ],
          "contourcarpet": [
           {
            "colorbar": {
             "outlinewidth": 0,
             "ticks": ""
            },
            "type": "contourcarpet"
           }
          ],
          "heatmap": [
           {
            "colorbar": {
             "outlinewidth": 0,
             "ticks": ""
            },
            "colorscale": [
             [
              0,
              "#0d0887"
             ],
             [
              0.1111111111111111,
              "#46039f"
             ],
             [
              0.2222222222222222,
              "#7201a8"
             ],
             [
              0.3333333333333333,
              "#9c179e"
             ],
             [
              0.4444444444444444,
              "#bd3786"
             ],
             [
              0.5555555555555556,
              "#d8576b"
             ],
             [
              0.6666666666666666,
              "#ed7953"
             ],
             [
              0.7777777777777778,
              "#fb9f3a"
             ],
             [
              0.8888888888888888,
              "#fdca26"
             ],
             [
              1,
              "#f0f921"
             ]
            ],
            "type": "heatmap"
           }
          ],
          "heatmapgl": [
           {
            "colorbar": {
             "outlinewidth": 0,
             "ticks": ""
            },
            "colorscale": [
             [
              0,
              "#0d0887"
             ],
             [
              0.1111111111111111,
              "#46039f"
             ],
             [
              0.2222222222222222,
              "#7201a8"
             ],
             [
              0.3333333333333333,
              "#9c179e"
             ],
             [
              0.4444444444444444,
              "#bd3786"
             ],
             [
              0.5555555555555556,
              "#d8576b"
             ],
             [
              0.6666666666666666,
              "#ed7953"
             ],
             [
              0.7777777777777778,
              "#fb9f3a"
             ],
             [
              0.8888888888888888,
              "#fdca26"
             ],
             [
              1,
              "#f0f921"
             ]
            ],
            "type": "heatmapgl"
           }
          ],
          "histogram": [
           {
            "marker": {
             "pattern": {
              "fillmode": "overlay",
              "size": 10,
              "solidity": 0.2
             }
            },
            "type": "histogram"
           }
          ],
          "histogram2d": [
           {
            "colorbar": {
             "outlinewidth": 0,
             "ticks": ""
            },
            "colorscale": [
             [
              0,
              "#0d0887"
             ],
             [
              0.1111111111111111,
              "#46039f"
             ],
             [
              0.2222222222222222,
              "#7201a8"
             ],
             [
              0.3333333333333333,
              "#9c179e"
             ],
             [
              0.4444444444444444,
              "#bd3786"
             ],
             [
              0.5555555555555556,
              "#d8576b"
             ],
             [
              0.6666666666666666,
              "#ed7953"
             ],
             [
              0.7777777777777778,
              "#fb9f3a"
             ],
             [
              0.8888888888888888,
              "#fdca26"
             ],
             [
              1,
              "#f0f921"
             ]
            ],
            "type": "histogram2d"
           }
          ],
          "histogram2dcontour": [
           {
            "colorbar": {
             "outlinewidth": 0,
             "ticks": ""
            },
            "colorscale": [
             [
              0,
              "#0d0887"
             ],
             [
              0.1111111111111111,
              "#46039f"
             ],
             [
              0.2222222222222222,
              "#7201a8"
             ],
             [
              0.3333333333333333,
              "#9c179e"
             ],
             [
              0.4444444444444444,
              "#bd3786"
             ],
             [
              0.5555555555555556,
              "#d8576b"
             ],
             [
              0.6666666666666666,
              "#ed7953"
             ],
             [
              0.7777777777777778,
              "#fb9f3a"
             ],
             [
              0.8888888888888888,
              "#fdca26"
             ],
             [
              1,
              "#f0f921"
             ]
            ],
            "type": "histogram2dcontour"
           }
          ],
          "mesh3d": [
           {
            "colorbar": {
             "outlinewidth": 0,
             "ticks": ""
            },
            "type": "mesh3d"
           }
          ],
          "parcoords": [
           {
            "line": {
             "colorbar": {
              "outlinewidth": 0,
              "ticks": ""
             }
            },
            "type": "parcoords"
           }
          ],
          "pie": [
           {
            "automargin": true,
            "type": "pie"
           }
          ],
          "scatter": [
           {
            "fillpattern": {
             "fillmode": "overlay",
             "size": 10,
             "solidity": 0.2
            },
            "type": "scatter"
           }
          ],
          "scatter3d": [
           {
            "line": {
             "colorbar": {
              "outlinewidth": 0,
              "ticks": ""
             }
            },
            "marker": {
             "colorbar": {
              "outlinewidth": 0,
              "ticks": ""
             }
            },
            "type": "scatter3d"
           }
          ],
          "scattercarpet": [
           {
            "marker": {
             "colorbar": {
              "outlinewidth": 0,
              "ticks": ""
             }
            },
            "type": "scattercarpet"
           }
          ],
          "scattergeo": [
           {
            "marker": {
             "colorbar": {
              "outlinewidth": 0,
              "ticks": ""
             }
            },
            "type": "scattergeo"
           }
          ],
          "scattergl": [
           {
            "marker": {
             "colorbar": {
              "outlinewidth": 0,
              "ticks": ""
             }
            },
            "type": "scattergl"
           }
          ],
          "scattermapbox": [
           {
            "marker": {
             "colorbar": {
              "outlinewidth": 0,
              "ticks": ""
             }
            },
            "type": "scattermapbox"
           }
          ],
          "scatterpolar": [
           {
            "marker": {
             "colorbar": {
              "outlinewidth": 0,
              "ticks": ""
             }
            },
            "type": "scatterpolar"
           }
          ],
          "scatterpolargl": [
           {
            "marker": {
             "colorbar": {
              "outlinewidth": 0,
              "ticks": ""
             }
            },
            "type": "scatterpolargl"
           }
          ],
          "scatterternary": [
           {
            "marker": {
             "colorbar": {
              "outlinewidth": 0,
              "ticks": ""
             }
            },
            "type": "scatterternary"
           }
          ],
          "surface": [
           {
            "colorbar": {
             "outlinewidth": 0,
             "ticks": ""
            },
            "colorscale": [
             [
              0,
              "#0d0887"
             ],
             [
              0.1111111111111111,
              "#46039f"
             ],
             [
              0.2222222222222222,
              "#7201a8"
             ],
             [
              0.3333333333333333,
              "#9c179e"
             ],
             [
              0.4444444444444444,
              "#bd3786"
             ],
             [
              0.5555555555555556,
              "#d8576b"
             ],
             [
              0.6666666666666666,
              "#ed7953"
             ],
             [
              0.7777777777777778,
              "#fb9f3a"
             ],
             [
              0.8888888888888888,
              "#fdca26"
             ],
             [
              1,
              "#f0f921"
             ]
            ],
            "type": "surface"
           }
          ],
          "table": [
           {
            "cells": {
             "fill": {
              "color": "#EBF0F8"
             },
             "line": {
              "color": "white"
             }
            },
            "header": {
             "fill": {
              "color": "#C8D4E3"
             },
             "line": {
              "color": "white"
             }
            },
            "type": "table"
           }
          ]
         },
         "layout": {
          "annotationdefaults": {
           "arrowcolor": "#2a3f5f",
           "arrowhead": 0,
           "arrowwidth": 1
          },
          "autotypenumbers": "strict",
          "coloraxis": {
           "colorbar": {
            "outlinewidth": 0,
            "ticks": ""
           }
          },
          "colorscale": {
           "diverging": [
            [
             0,
             "#8e0152"
            ],
            [
             0.1,
             "#c51b7d"
            ],
            [
             0.2,
             "#de77ae"
            ],
            [
             0.3,
             "#f1b6da"
            ],
            [
             0.4,
             "#fde0ef"
            ],
            [
             0.5,
             "#f7f7f7"
            ],
            [
             0.6,
             "#e6f5d0"
            ],
            [
             0.7,
             "#b8e186"
            ],
            [
             0.8,
             "#7fbc41"
            ],
            [
             0.9,
             "#4d9221"
            ],
            [
             1,
             "#276419"
            ]
           ],
           "sequential": [
            [
             0,
             "#0d0887"
            ],
            [
             0.1111111111111111,
             "#46039f"
            ],
            [
             0.2222222222222222,
             "#7201a8"
            ],
            [
             0.3333333333333333,
             "#9c179e"
            ],
            [
             0.4444444444444444,
             "#bd3786"
            ],
            [
             0.5555555555555556,
             "#d8576b"
            ],
            [
             0.6666666666666666,
             "#ed7953"
            ],
            [
             0.7777777777777778,
             "#fb9f3a"
            ],
            [
             0.8888888888888888,
             "#fdca26"
            ],
            [
             1,
             "#f0f921"
            ]
           ],
           "sequentialminus": [
            [
             0,
             "#0d0887"
            ],
            [
             0.1111111111111111,
             "#46039f"
            ],
            [
             0.2222222222222222,
             "#7201a8"
            ],
            [
             0.3333333333333333,
             "#9c179e"
            ],
            [
             0.4444444444444444,
             "#bd3786"
            ],
            [
             0.5555555555555556,
             "#d8576b"
            ],
            [
             0.6666666666666666,
             "#ed7953"
            ],
            [
             0.7777777777777778,
             "#fb9f3a"
            ],
            [
             0.8888888888888888,
             "#fdca26"
            ],
            [
             1,
             "#f0f921"
            ]
           ]
          },
          "colorway": [
           "#636efa",
           "#EF553B",
           "#00cc96",
           "#ab63fa",
           "#FFA15A",
           "#19d3f3",
           "#FF6692",
           "#B6E880",
           "#FF97FF",
           "#FECB52"
          ],
          "font": {
           "color": "#2a3f5f"
          },
          "geo": {
           "bgcolor": "white",
           "lakecolor": "white",
           "landcolor": "#E5ECF6",
           "showlakes": true,
           "showland": true,
           "subunitcolor": "white"
          },
          "hoverlabel": {
           "align": "left"
          },
          "hovermode": "closest",
          "mapbox": {
           "style": "light"
          },
          "paper_bgcolor": "white",
          "plot_bgcolor": "#E5ECF6",
          "polar": {
           "angularaxis": {
            "gridcolor": "white",
            "linecolor": "white",
            "ticks": ""
           },
           "bgcolor": "#E5ECF6",
           "radialaxis": {
            "gridcolor": "white",
            "linecolor": "white",
            "ticks": ""
           }
          },
          "scene": {
           "xaxis": {
            "backgroundcolor": "#E5ECF6",
            "gridcolor": "white",
            "gridwidth": 2,
            "linecolor": "white",
            "showbackground": true,
            "ticks": "",
            "zerolinecolor": "white"
           },
           "yaxis": {
            "backgroundcolor": "#E5ECF6",
            "gridcolor": "white",
            "gridwidth": 2,
            "linecolor": "white",
            "showbackground": true,
            "ticks": "",
            "zerolinecolor": "white"
           },
           "zaxis": {
            "backgroundcolor": "#E5ECF6",
            "gridcolor": "white",
            "gridwidth": 2,
            "linecolor": "white",
            "showbackground": true,
            "ticks": "",
            "zerolinecolor": "white"
           }
          },
          "shapedefaults": {
           "line": {
            "color": "#2a3f5f"
           }
          },
          "ternary": {
           "aaxis": {
            "gridcolor": "white",
            "linecolor": "white",
            "ticks": ""
           },
           "baxis": {
            "gridcolor": "white",
            "linecolor": "white",
            "ticks": ""
           },
           "bgcolor": "#E5ECF6",
           "caxis": {
            "gridcolor": "white",
            "linecolor": "white",
            "ticks": ""
           }
          },
          "title": {
           "x": 0.05
          },
          "xaxis": {
           "automargin": true,
           "gridcolor": "white",
           "linecolor": "white",
           "ticks": "",
           "title": {
            "standoff": 15
           },
           "zerolinecolor": "white",
           "zerolinewidth": 2
          },
          "yaxis": {
           "automargin": true,
           "gridcolor": "white",
           "linecolor": "white",
           "ticks": "",
           "title": {
            "standoff": 15
           },
           "zerolinecolor": "white",
           "zerolinewidth": 2
          }
         }
        },
        "title": {
         "text": "drought 3.0 3m6m"
        },
        "width": 1600,
        "xaxis": {
         "linecolor": "rgb(102, 102, 102)",
         "showgrid": false,
         "showline": true,
         "showticklabels": true,
         "tickcolor": "rgb(102, 102, 102)",
         "tickfont": {
          "color": "rgb(102, 102, 102)"
         },
         "ticks": "outside"
        }
       }
      }
     },
     "metadata": {},
     "output_type": "display_data"
    },
    {
     "data": {
      "application/vnd.plotly.v1+json": {
       "config": {
        "plotlyServerURL": "https://plot.ly"
       },
       "data": [
        {
         "marker": {
          "color": "rgba(156, 165, 196, 0.95)",
          "line": {
           "width": 1
          },
          "size": 16,
          "symbol": "circle"
         },
         "mode": "markers",
         "name": "1",
         "type": "scatter",
         "x": [
          null,
          null,
          null,
          null,
          null,
          null,
          null,
          null,
          null,
          null,
          null,
          null,
          null,
          null,
          null,
          null,
          null,
          null,
          null,
          null,
          null,
          null,
          null,
          null,
          null,
          null,
          null,
          null,
          null,
          null,
          null,
          null,
          null,
          null,
          null,
          null,
          null,
          null,
          null,
          null,
          null,
          null,
          null,
          null,
          null,
          null,
          null,
          null,
          null,
          null,
          null,
          null,
          null,
          null,
          null
         ],
         "y": [
          "AGO",
          "ALB",
          "ARM",
          "BEN",
          "BFA",
          "BGD",
          "BOL",
          "CIV",
          "CMR",
          "COD",
          "COM",
          "DOM",
          "EGY",
          "ETH",
          "GAB",
          "GHA",
          "GIN",
          "GMB",
          "GTM",
          "GUY",
          "HND",
          "HTI",
          "IND",
          "JOR",
          "KEN",
          "KGZ",
          "KHM",
          "LBR",
          "LSO",
          "MAR",
          "MDA",
          "MDG",
          "MLI",
          "MMR",
          "MOZ",
          "MRT",
          "MWI",
          "NAM",
          "NGA",
          "NIC",
          "PAK",
          "PER",
          "PHL",
          "SEN",
          "SLE",
          "SWZ",
          "TCD",
          "TGO",
          "TJK",
          "TLS",
          "TZA",
          "UGA",
          "ZAF",
          "ZMB",
          "ZWE"
         ]
        },
        {
         "marker": {
          "color": "rgba(156, 165, 196, 0.95)",
          "line": {
           "width": 1
          },
          "size": 16,
          "symbol": "circle"
         },
         "mode": "markers",
         "name": "2",
         "type": "scatter",
         "x": [
          null,
          null,
          null,
          null,
          null,
          null,
          null,
          null,
          null,
          null,
          null,
          null,
          null,
          null,
          null,
          null,
          null,
          null,
          null,
          null,
          null,
          null,
          null,
          null,
          null,
          null,
          null,
          null,
          null,
          null,
          null,
          null,
          null,
          null,
          null,
          null,
          null,
          null,
          null,
          null,
          null,
          null,
          null,
          null,
          null,
          null,
          null,
          null,
          null,
          null,
          null,
          null,
          null,
          null,
          null
         ],
         "y": [
          "AGO",
          "ALB",
          "ARM",
          "BEN",
          "BFA",
          "BGD",
          "BOL",
          "CIV",
          "CMR",
          "COD",
          "COM",
          "DOM",
          "EGY",
          "ETH",
          "GAB",
          "GHA",
          "GIN",
          "GMB",
          "GTM",
          "GUY",
          "HND",
          "HTI",
          "IND",
          "JOR",
          "KEN",
          "KGZ",
          "KHM",
          "LBR",
          "LSO",
          "MAR",
          "MDA",
          "MDG",
          "MLI",
          "MMR",
          "MOZ",
          "MRT",
          "MWI",
          "NAM",
          "NGA",
          "NIC",
          "PAK",
          "PER",
          "PHL",
          "SEN",
          "SLE",
          "SWZ",
          "TCD",
          "TGO",
          "TJK",
          "TLS",
          "TZA",
          "UGA",
          "ZAF",
          "ZMB",
          "ZWE"
         ]
        },
        {
         "marker": {
          "color": "rgba(156, 165, 196, 0.95)",
          "line": {
           "width": 1
          },
          "size": 16,
          "symbol": "circle"
         },
         "mode": "markers",
         "name": "3",
         "type": "scatter",
         "x": [
          null,
          null,
          null,
          null,
          null,
          null,
          null,
          null,
          null,
          null,
          null,
          null,
          null,
          null,
          null,
          null,
          null,
          null,
          null,
          null,
          null,
          null,
          null,
          null,
          null,
          null,
          null,
          null,
          null,
          null,
          null,
          null,
          null,
          null,
          null,
          null,
          null,
          null,
          null,
          null,
          null,
          null,
          null,
          null,
          null,
          null,
          null,
          null,
          null,
          null,
          null,
          null,
          null,
          null,
          null
         ],
         "y": [
          "AGO",
          "ALB",
          "ARM",
          "BEN",
          "BFA",
          "BGD",
          "BOL",
          "CIV",
          "CMR",
          "COD",
          "COM",
          "DOM",
          "EGY",
          "ETH",
          "GAB",
          "GHA",
          "GIN",
          "GMB",
          "GTM",
          "GUY",
          "HND",
          "HTI",
          "IND",
          "JOR",
          "KEN",
          "KGZ",
          "KHM",
          "LBR",
          "LSO",
          "MAR",
          "MDA",
          "MDG",
          "MLI",
          "MMR",
          "MOZ",
          "MRT",
          "MWI",
          "NAM",
          "NGA",
          "NIC",
          "PAK",
          "PER",
          "PHL",
          "SEN",
          "SLE",
          "SWZ",
          "TCD",
          "TGO",
          "TJK",
          "TLS",
          "TZA",
          "UGA",
          "ZAF",
          "ZMB",
          "ZWE"
         ]
        },
        {
         "marker": {
          "color": "rgba(156, 165, 196, 0.95)",
          "line": {
           "width": 1
          },
          "size": 16,
          "symbol": "circle"
         },
         "mode": "markers",
         "name": "4",
         "type": "scatter",
         "x": [
          null,
          null,
          null,
          null,
          null,
          null,
          null,
          null,
          null,
          null,
          null,
          null,
          null,
          null,
          null,
          null,
          null,
          null,
          null,
          null,
          null,
          null,
          null,
          null,
          null,
          null,
          null,
          null,
          null,
          null,
          null,
          null,
          null,
          null,
          null,
          null,
          null,
          null,
          null,
          null,
          null,
          null,
          null,
          null,
          null,
          null,
          null,
          null,
          null,
          null,
          null,
          null,
          null,
          null,
          null
         ],
         "y": [
          "AGO",
          "ALB",
          "ARM",
          "BEN",
          "BFA",
          "BGD",
          "BOL",
          "CIV",
          "CMR",
          "COD",
          "COM",
          "DOM",
          "EGY",
          "ETH",
          "GAB",
          "GHA",
          "GIN",
          "GMB",
          "GTM",
          "GUY",
          "HND",
          "HTI",
          "IND",
          "JOR",
          "KEN",
          "KGZ",
          "KHM",
          "LBR",
          "LSO",
          "MAR",
          "MDA",
          "MDG",
          "MLI",
          "MMR",
          "MOZ",
          "MRT",
          "MWI",
          "NAM",
          "NGA",
          "NIC",
          "PAK",
          "PER",
          "PHL",
          "SEN",
          "SLE",
          "SWZ",
          "TCD",
          "TGO",
          "TJK",
          "TLS",
          "TZA",
          "UGA",
          "ZAF",
          "ZMB",
          "ZWE"
         ]
        },
        {
         "marker": {
          "color": "rgba(204, 204, 204, 0.95)",
          "line": {
           "width": 1
          },
          "size": 16,
          "symbol": "circle"
         },
         "mode": "markers",
         "name": "5",
         "type": "scatter",
         "x": [
          null,
          null,
          null,
          null,
          null,
          null,
          null,
          null,
          null,
          null,
          null,
          null,
          null,
          null,
          null,
          null,
          null,
          null,
          null,
          null,
          null,
          null,
          null,
          null,
          null,
          null,
          null,
          null,
          null,
          null,
          null,
          null,
          null,
          null,
          null,
          null,
          null,
          null,
          null,
          null,
          null,
          null,
          null,
          null,
          null,
          null,
          null,
          null,
          null,
          null,
          null,
          null,
          null,
          null,
          null
         ],
         "y": [
          "AGO",
          "ALB",
          "ARM",
          "BEN",
          "BFA",
          "BGD",
          "BOL",
          "CIV",
          "CMR",
          "COD",
          "COM",
          "DOM",
          "EGY",
          "ETH",
          "GAB",
          "GHA",
          "GIN",
          "GMB",
          "GTM",
          "GUY",
          "HND",
          "HTI",
          "IND",
          "JOR",
          "KEN",
          "KGZ",
          "KHM",
          "LBR",
          "LSO",
          "MAR",
          "MDA",
          "MDG",
          "MLI",
          "MMR",
          "MOZ",
          "MRT",
          "MWI",
          "NAM",
          "NGA",
          "NIC",
          "PAK",
          "PER",
          "PHL",
          "SEN",
          "SLE",
          "SWZ",
          "TCD",
          "TGO",
          "TJK",
          "TLS",
          "TZA",
          "UGA",
          "ZAF",
          "ZMB",
          "ZWE"
         ]
        },
        {
         "marker": {
          "color": "rgba(204, 204, 204, 0.95)",
          "line": {
           "width": 1
          },
          "size": 16,
          "symbol": "circle"
         },
         "mode": "markers",
         "name": "6",
         "type": "scatter",
         "x": [
          null,
          null,
          null,
          null,
          null,
          null,
          null,
          null,
          null,
          null,
          null,
          null,
          null,
          null,
          null,
          null,
          null,
          null,
          null,
          null,
          null,
          null,
          null,
          null,
          null,
          null,
          null,
          null,
          null,
          null,
          null,
          null,
          null,
          null,
          null,
          null,
          null,
          null,
          null,
          null,
          null,
          null,
          null,
          null,
          null,
          null,
          null,
          null,
          null,
          null,
          null,
          null,
          null,
          null,
          null
         ],
         "y": [
          "AGO",
          "ALB",
          "ARM",
          "BEN",
          "BFA",
          "BGD",
          "BOL",
          "CIV",
          "CMR",
          "COD",
          "COM",
          "DOM",
          "EGY",
          "ETH",
          "GAB",
          "GHA",
          "GIN",
          "GMB",
          "GTM",
          "GUY",
          "HND",
          "HTI",
          "IND",
          "JOR",
          "KEN",
          "KGZ",
          "KHM",
          "LBR",
          "LSO",
          "MAR",
          "MDA",
          "MDG",
          "MLI",
          "MMR",
          "MOZ",
          "MRT",
          "MWI",
          "NAM",
          "NGA",
          "NIC",
          "PAK",
          "PER",
          "PHL",
          "SEN",
          "SLE",
          "SWZ",
          "TCD",
          "TGO",
          "TJK",
          "TLS",
          "TZA",
          "UGA",
          "ZAF",
          "ZMB",
          "ZWE"
         ]
        },
        {
         "marker": {
          "color": "rgba(204, 204, 204, 0.95)",
          "line": {
           "width": 1
          },
          "size": 16,
          "symbol": "circle"
         },
         "mode": "markers",
         "name": "7",
         "type": "scatter",
         "x": [
          null,
          null,
          null,
          null,
          null,
          null,
          null,
          null,
          null,
          null,
          null,
          null,
          null,
          null,
          null,
          null,
          null,
          null,
          null,
          null,
          null,
          null,
          null,
          null,
          null,
          null,
          null,
          null,
          null,
          null,
          null,
          null,
          null,
          null,
          null,
          null,
          null,
          null,
          null,
          null,
          null,
          null,
          null,
          null,
          null,
          null,
          null,
          null,
          null,
          null,
          null,
          null,
          null,
          null,
          null
         ],
         "y": [
          "AGO",
          "ALB",
          "ARM",
          "BEN",
          "BFA",
          "BGD",
          "BOL",
          "CIV",
          "CMR",
          "COD",
          "COM",
          "DOM",
          "EGY",
          "ETH",
          "GAB",
          "GHA",
          "GIN",
          "GMB",
          "GTM",
          "GUY",
          "HND",
          "HTI",
          "IND",
          "JOR",
          "KEN",
          "KGZ",
          "KHM",
          "LBR",
          "LSO",
          "MAR",
          "MDA",
          "MDG",
          "MLI",
          "MMR",
          "MOZ",
          "MRT",
          "MWI",
          "NAM",
          "NGA",
          "NIC",
          "PAK",
          "PER",
          "PHL",
          "SEN",
          "SLE",
          "SWZ",
          "TCD",
          "TGO",
          "TJK",
          "TLS",
          "TZA",
          "UGA",
          "ZAF",
          "ZMB",
          "ZWE"
         ]
        },
        {
         "marker": {
          "color": "rgba(204, 204, 204, 0.95)",
          "line": {
           "width": 1
          },
          "size": 16,
          "symbol": "circle"
         },
         "mode": "markers",
         "name": "8",
         "type": "scatter",
         "x": [
          null,
          null,
          null,
          null,
          null,
          null,
          null,
          null,
          null,
          null,
          null,
          null,
          null,
          null,
          null,
          null,
          null,
          null,
          null,
          null,
          null,
          null,
          null,
          null,
          null,
          null,
          null,
          null,
          null,
          null,
          null,
          null,
          null,
          null,
          null,
          null,
          null,
          null,
          null,
          null,
          null,
          null,
          null,
          null,
          null,
          null,
          null,
          null,
          null,
          null,
          null,
          null,
          null,
          null,
          null
         ],
         "y": [
          "AGO",
          "ALB",
          "ARM",
          "BEN",
          "BFA",
          "BGD",
          "BOL",
          "CIV",
          "CMR",
          "COD",
          "COM",
          "DOM",
          "EGY",
          "ETH",
          "GAB",
          "GHA",
          "GIN",
          "GMB",
          "GTM",
          "GUY",
          "HND",
          "HTI",
          "IND",
          "JOR",
          "KEN",
          "KGZ",
          "KHM",
          "LBR",
          "LSO",
          "MAR",
          "MDA",
          "MDG",
          "MLI",
          "MMR",
          "MOZ",
          "MRT",
          "MWI",
          "NAM",
          "NGA",
          "NIC",
          "PAK",
          "PER",
          "PHL",
          "SEN",
          "SLE",
          "SWZ",
          "TCD",
          "TGO",
          "TJK",
          "TLS",
          "TZA",
          "UGA",
          "ZAF",
          "ZMB",
          "ZWE"
         ]
        },
        {
         "marker": {
          "color": "rgba(255, 166, 86, 0.95)",
          "line": {
           "width": 1
          },
          "size": 16,
          "symbol": "circle"
         },
         "mode": "markers",
         "name": "9",
         "type": "scatter",
         "x": [
          null,
          null,
          null,
          null,
          null,
          null,
          null,
          null,
          null,
          null,
          null,
          null,
          null,
          null,
          null,
          null,
          null,
          null,
          null,
          null,
          null,
          null,
          null,
          null,
          null,
          null,
          null,
          null,
          null,
          null,
          null,
          null,
          null,
          null,
          null,
          null,
          null,
          null,
          null,
          null,
          null,
          null,
          null,
          null,
          null,
          null,
          null,
          null,
          null,
          null,
          null,
          null,
          null,
          null,
          null
         ],
         "y": [
          "AGO",
          "ALB",
          "ARM",
          "BEN",
          "BFA",
          "BGD",
          "BOL",
          "CIV",
          "CMR",
          "COD",
          "COM",
          "DOM",
          "EGY",
          "ETH",
          "GAB",
          "GHA",
          "GIN",
          "GMB",
          "GTM",
          "GUY",
          "HND",
          "HTI",
          "IND",
          "JOR",
          "KEN",
          "KGZ",
          "KHM",
          "LBR",
          "LSO",
          "MAR",
          "MDA",
          "MDG",
          "MLI",
          "MMR",
          "MOZ",
          "MRT",
          "MWI",
          "NAM",
          "NGA",
          "NIC",
          "PAK",
          "PER",
          "PHL",
          "SEN",
          "SLE",
          "SWZ",
          "TCD",
          "TGO",
          "TJK",
          "TLS",
          "TZA",
          "UGA",
          "ZAF",
          "ZMB",
          "ZWE"
         ]
        },
        {
         "marker": {
          "color": "rgba(255, 166, 86, 0.95)",
          "line": {
           "width": 1
          },
          "size": 16,
          "symbol": "circle"
         },
         "mode": "markers",
         "name": "10",
         "type": "scatter",
         "x": [
          null,
          null,
          null,
          null,
          null,
          null,
          null,
          null,
          null,
          null,
          null,
          null,
          null,
          null,
          null,
          null,
          null,
          null,
          null,
          null,
          null,
          null,
          null,
          null,
          null,
          null,
          null,
          null,
          null,
          null,
          null,
          null,
          null,
          null,
          null,
          null,
          null,
          null,
          null,
          null,
          null,
          null,
          null,
          null,
          null,
          null,
          null,
          null,
          null,
          null,
          null,
          null,
          null,
          null,
          null
         ],
         "y": [
          "AGO",
          "ALB",
          "ARM",
          "BEN",
          "BFA",
          "BGD",
          "BOL",
          "CIV",
          "CMR",
          "COD",
          "COM",
          "DOM",
          "EGY",
          "ETH",
          "GAB",
          "GHA",
          "GIN",
          "GMB",
          "GTM",
          "GUY",
          "HND",
          "HTI",
          "IND",
          "JOR",
          "KEN",
          "KGZ",
          "KHM",
          "LBR",
          "LSO",
          "MAR",
          "MDA",
          "MDG",
          "MLI",
          "MMR",
          "MOZ",
          "MRT",
          "MWI",
          "NAM",
          "NGA",
          "NIC",
          "PAK",
          "PER",
          "PHL",
          "SEN",
          "SLE",
          "SWZ",
          "TCD",
          "TGO",
          "TJK",
          "TLS",
          "TZA",
          "UGA",
          "ZAF",
          "ZMB",
          "ZWE"
         ]
        },
        {
         "marker": {
          "color": "rgba(255, 166, 86, 0.95)",
          "line": {
           "width": 1
          },
          "size": 16,
          "symbol": "circle"
         },
         "mode": "markers",
         "name": "11",
         "type": "scatter",
         "x": [
          null,
          null,
          null,
          null,
          null,
          null,
          null,
          null,
          null,
          null,
          null,
          null,
          null,
          null,
          null,
          null,
          null,
          null,
          null,
          null,
          null,
          null,
          null,
          null,
          null,
          null,
          null,
          null,
          null,
          null,
          null,
          null,
          null,
          null,
          null,
          null,
          null,
          null,
          null,
          null,
          null,
          null,
          null,
          null,
          null,
          null,
          null,
          null,
          null,
          null,
          null,
          null,
          null,
          null,
          null
         ],
         "y": [
          "AGO",
          "ALB",
          "ARM",
          "BEN",
          "BFA",
          "BGD",
          "BOL",
          "CIV",
          "CMR",
          "COD",
          "COM",
          "DOM",
          "EGY",
          "ETH",
          "GAB",
          "GHA",
          "GIN",
          "GMB",
          "GTM",
          "GUY",
          "HND",
          "HTI",
          "IND",
          "JOR",
          "KEN",
          "KGZ",
          "KHM",
          "LBR",
          "LSO",
          "MAR",
          "MDA",
          "MDG",
          "MLI",
          "MMR",
          "MOZ",
          "MRT",
          "MWI",
          "NAM",
          "NGA",
          "NIC",
          "PAK",
          "PER",
          "PHL",
          "SEN",
          "SLE",
          "SWZ",
          "TCD",
          "TGO",
          "TJK",
          "TLS",
          "TZA",
          "UGA",
          "ZAF",
          "ZMB",
          "ZWE"
         ]
        },
        {
         "marker": {
          "color": "rgba(255, 166, 86, 0.95)",
          "line": {
           "width": 1
          },
          "size": 16,
          "symbol": "circle"
         },
         "mode": "markers",
         "name": "12",
         "type": "scatter",
         "x": [
          null,
          null,
          null,
          null,
          null,
          null,
          null,
          null,
          null,
          null,
          null,
          null,
          null,
          null,
          null,
          null,
          null,
          null,
          null,
          null,
          null,
          null,
          null,
          null,
          null,
          null,
          null,
          null,
          null,
          null,
          null,
          null,
          null,
          null,
          null,
          null,
          null,
          null,
          null,
          null,
          null,
          null,
          null,
          null,
          null,
          null,
          null,
          null,
          null,
          null,
          null,
          null,
          null,
          null,
          null
         ],
         "y": [
          "AGO",
          "ALB",
          "ARM",
          "BEN",
          "BFA",
          "BGD",
          "BOL",
          "CIV",
          "CMR",
          "COD",
          "COM",
          "DOM",
          "EGY",
          "ETH",
          "GAB",
          "GHA",
          "GIN",
          "GMB",
          "GTM",
          "GUY",
          "HND",
          "HTI",
          "IND",
          "JOR",
          "KEN",
          "KGZ",
          "KHM",
          "LBR",
          "LSO",
          "MAR",
          "MDA",
          "MDG",
          "MLI",
          "MMR",
          "MOZ",
          "MRT",
          "MWI",
          "NAM",
          "NGA",
          "NIC",
          "PAK",
          "PER",
          "PHL",
          "SEN",
          "SLE",
          "SWZ",
          "TCD",
          "TGO",
          "TJK",
          "TLS",
          "TZA",
          "UGA",
          "ZAF",
          "ZMB",
          "ZWE"
         ]
        },
        {
         "marker": {
          "color": "rgba(240, 230, 140, 0.95)",
          "line": {
           "width": 1
          },
          "size": 16,
          "symbol": "circle"
         },
         "mode": "markers",
         "name": "13",
         "type": "scatter",
         "x": [
          null,
          null,
          null,
          null,
          null,
          null,
          null,
          null,
          null,
          null,
          null,
          null,
          null,
          -20.505,
          null,
          null,
          -39.079,
          null,
          null,
          null,
          null,
          null,
          null,
          null,
          null,
          null,
          null,
          null,
          null,
          null,
          null,
          null,
          null,
          null,
          null,
          null,
          null,
          -274.417,
          null,
          null,
          null,
          null,
          null,
          null,
          null,
          null,
          null,
          null,
          null,
          null,
          null,
          null,
          null,
          -12.638,
          null
         ],
         "y": [
          "AGO",
          "ALB",
          "ARM",
          "BEN",
          "BFA",
          "BGD",
          "BOL",
          "CIV",
          "CMR",
          "COD",
          "COM",
          "DOM",
          "EGY",
          "ETH",
          "GAB",
          "GHA",
          "GIN",
          "GMB",
          "GTM",
          "GUY",
          "HND",
          "HTI",
          "IND",
          "JOR",
          "KEN",
          "KGZ",
          "KHM",
          "LBR",
          "LSO",
          "MAR",
          "MDA",
          "MDG",
          "MLI",
          "MMR",
          "MOZ",
          "MRT",
          "MWI",
          "NAM",
          "NGA",
          "NIC",
          "PAK",
          "PER",
          "PHL",
          "SEN",
          "SLE",
          "SWZ",
          "TCD",
          "TGO",
          "TJK",
          "TLS",
          "TZA",
          "UGA",
          "ZAF",
          "ZMB",
          "ZWE"
         ]
        },
        {
         "marker": {
          "color": "rgba(240, 230, 140, 0.95)",
          "line": {
           "width": 1
          },
          "size": 16,
          "symbol": "circle"
         },
         "mode": "markers",
         "name": "14",
         "type": "scatter",
         "x": [
          null,
          null,
          null,
          null,
          null,
          null,
          null,
          null,
          null,
          null,
          null,
          null,
          null,
          -24.072,
          null,
          null,
          -45.884,
          null,
          null,
          null,
          null,
          null,
          null,
          null,
          null,
          null,
          null,
          null,
          null,
          null,
          null,
          null,
          null,
          null,
          null,
          null,
          null,
          -275.039,
          -15.418,
          null,
          null,
          null,
          null,
          null,
          null,
          null,
          null,
          null,
          null,
          null,
          null,
          null,
          null,
          -12.031,
          null
         ],
         "y": [
          "AGO",
          "ALB",
          "ARM",
          "BEN",
          "BFA",
          "BGD",
          "BOL",
          "CIV",
          "CMR",
          "COD",
          "COM",
          "DOM",
          "EGY",
          "ETH",
          "GAB",
          "GHA",
          "GIN",
          "GMB",
          "GTM",
          "GUY",
          "HND",
          "HTI",
          "IND",
          "JOR",
          "KEN",
          "KGZ",
          "KHM",
          "LBR",
          "LSO",
          "MAR",
          "MDA",
          "MDG",
          "MLI",
          "MMR",
          "MOZ",
          "MRT",
          "MWI",
          "NAM",
          "NGA",
          "NIC",
          "PAK",
          "PER",
          "PHL",
          "SEN",
          "SLE",
          "SWZ",
          "TCD",
          "TGO",
          "TJK",
          "TLS",
          "TZA",
          "UGA",
          "ZAF",
          "ZMB",
          "ZWE"
         ]
        },
        {
         "marker": {
          "color": "rgba(240, 230, 140, 0.95)",
          "line": {
           "width": 1
          },
          "size": 16,
          "symbol": "circle"
         },
         "mode": "markers",
         "name": "15",
         "type": "scatter",
         "x": [
          null,
          null,
          null,
          null,
          null,
          null,
          null,
          null,
          null,
          null,
          null,
          null,
          null,
          -17.098,
          null,
          null,
          -48.436,
          null,
          null,
          null,
          null,
          null,
          -2.947,
          null,
          null,
          null,
          null,
          null,
          null,
          null,
          null,
          null,
          null,
          null,
          null,
          null,
          null,
          -100.562,
          -22.883,
          null,
          null,
          null,
          null,
          null,
          null,
          null,
          null,
          null,
          null,
          null,
          null,
          null,
          null,
          null,
          null
         ],
         "y": [
          "AGO",
          "ALB",
          "ARM",
          "BEN",
          "BFA",
          "BGD",
          "BOL",
          "CIV",
          "CMR",
          "COD",
          "COM",
          "DOM",
          "EGY",
          "ETH",
          "GAB",
          "GHA",
          "GIN",
          "GMB",
          "GTM",
          "GUY",
          "HND",
          "HTI",
          "IND",
          "JOR",
          "KEN",
          "KGZ",
          "KHM",
          "LBR",
          "LSO",
          "MAR",
          "MDA",
          "MDG",
          "MLI",
          "MMR",
          "MOZ",
          "MRT",
          "MWI",
          "NAM",
          "NGA",
          "NIC",
          "PAK",
          "PER",
          "PHL",
          "SEN",
          "SLE",
          "SWZ",
          "TCD",
          "TGO",
          "TJK",
          "TLS",
          "TZA",
          "UGA",
          "ZAF",
          "ZMB",
          "ZWE"
         ]
        },
        {
         "marker": {
          "color": "rgba(240, 230, 140, 0.95)",
          "line": {
           "width": 1
          },
          "size": 16,
          "symbol": "circle"
         },
         "mode": "markers",
         "name": "16",
         "type": "scatter",
         "x": [
          null,
          null,
          null,
          null,
          null,
          null,
          null,
          null,
          null,
          null,
          null,
          null,
          null,
          -16.495,
          null,
          null,
          -36.085,
          null,
          null,
          null,
          null,
          null,
          -3.048,
          null,
          null,
          null,
          null,
          null,
          null,
          null,
          null,
          null,
          null,
          null,
          null,
          null,
          null,
          -70.558,
          -31.3,
          null,
          null,
          null,
          null,
          null,
          null,
          null,
          null,
          null,
          null,
          null,
          null,
          null,
          null,
          null,
          null
         ],
         "y": [
          "AGO",
          "ALB",
          "ARM",
          "BEN",
          "BFA",
          "BGD",
          "BOL",
          "CIV",
          "CMR",
          "COD",
          "COM",
          "DOM",
          "EGY",
          "ETH",
          "GAB",
          "GHA",
          "GIN",
          "GMB",
          "GTM",
          "GUY",
          "HND",
          "HTI",
          "IND",
          "JOR",
          "KEN",
          "KGZ",
          "KHM",
          "LBR",
          "LSO",
          "MAR",
          "MDA",
          "MDG",
          "MLI",
          "MMR",
          "MOZ",
          "MRT",
          "MWI",
          "NAM",
          "NGA",
          "NIC",
          "PAK",
          "PER",
          "PHL",
          "SEN",
          "SLE",
          "SWZ",
          "TCD",
          "TGO",
          "TJK",
          "TLS",
          "TZA",
          "UGA",
          "ZAF",
          "ZMB",
          "ZWE"
         ]
        }
       ],
       "layout": {
        "height": 600,
        "hovermode": "closest",
        "legend": {
         "font": {
          "size": 10
         },
         "xanchor": "center",
         "yanchor": "top"
        },
        "margin": {
         "b": 50,
         "l": 140,
         "r": 40,
         "t": 80
        },
        "paper_bgcolor": "white",
        "plot_bgcolor": "white",
        "shapes": [
         {
          "line": {
           "color": "red",
           "dash": "dashdot",
           "width": 2
          },
          "type": "line",
          "x0": 0,
          "x1": 0,
          "y0": 0,
          "y1": 55
         }
        ],
        "template": {
         "data": {
          "bar": [
           {
            "error_x": {
             "color": "#2a3f5f"
            },
            "error_y": {
             "color": "#2a3f5f"
            },
            "marker": {
             "line": {
              "color": "#E5ECF6",
              "width": 0.5
             },
             "pattern": {
              "fillmode": "overlay",
              "size": 10,
              "solidity": 0.2
             }
            },
            "type": "bar"
           }
          ],
          "barpolar": [
           {
            "marker": {
             "line": {
              "color": "#E5ECF6",
              "width": 0.5
             },
             "pattern": {
              "fillmode": "overlay",
              "size": 10,
              "solidity": 0.2
             }
            },
            "type": "barpolar"
           }
          ],
          "carpet": [
           {
            "aaxis": {
             "endlinecolor": "#2a3f5f",
             "gridcolor": "white",
             "linecolor": "white",
             "minorgridcolor": "white",
             "startlinecolor": "#2a3f5f"
            },
            "baxis": {
             "endlinecolor": "#2a3f5f",
             "gridcolor": "white",
             "linecolor": "white",
             "minorgridcolor": "white",
             "startlinecolor": "#2a3f5f"
            },
            "type": "carpet"
           }
          ],
          "choropleth": [
           {
            "colorbar": {
             "outlinewidth": 0,
             "ticks": ""
            },
            "type": "choropleth"
           }
          ],
          "contour": [
           {
            "colorbar": {
             "outlinewidth": 0,
             "ticks": ""
            },
            "colorscale": [
             [
              0,
              "#0d0887"
             ],
             [
              0.1111111111111111,
              "#46039f"
             ],
             [
              0.2222222222222222,
              "#7201a8"
             ],
             [
              0.3333333333333333,
              "#9c179e"
             ],
             [
              0.4444444444444444,
              "#bd3786"
             ],
             [
              0.5555555555555556,
              "#d8576b"
             ],
             [
              0.6666666666666666,
              "#ed7953"
             ],
             [
              0.7777777777777778,
              "#fb9f3a"
             ],
             [
              0.8888888888888888,
              "#fdca26"
             ],
             [
              1,
              "#f0f921"
             ]
            ],
            "type": "contour"
           }
          ],
          "contourcarpet": [
           {
            "colorbar": {
             "outlinewidth": 0,
             "ticks": ""
            },
            "type": "contourcarpet"
           }
          ],
          "heatmap": [
           {
            "colorbar": {
             "outlinewidth": 0,
             "ticks": ""
            },
            "colorscale": [
             [
              0,
              "#0d0887"
             ],
             [
              0.1111111111111111,
              "#46039f"
             ],
             [
              0.2222222222222222,
              "#7201a8"
             ],
             [
              0.3333333333333333,
              "#9c179e"
             ],
             [
              0.4444444444444444,
              "#bd3786"
             ],
             [
              0.5555555555555556,
              "#d8576b"
             ],
             [
              0.6666666666666666,
              "#ed7953"
             ],
             [
              0.7777777777777778,
              "#fb9f3a"
             ],
             [
              0.8888888888888888,
              "#fdca26"
             ],
             [
              1,
              "#f0f921"
             ]
            ],
            "type": "heatmap"
           }
          ],
          "heatmapgl": [
           {
            "colorbar": {
             "outlinewidth": 0,
             "ticks": ""
            },
            "colorscale": [
             [
              0,
              "#0d0887"
             ],
             [
              0.1111111111111111,
              "#46039f"
             ],
             [
              0.2222222222222222,
              "#7201a8"
             ],
             [
              0.3333333333333333,
              "#9c179e"
             ],
             [
              0.4444444444444444,
              "#bd3786"
             ],
             [
              0.5555555555555556,
              "#d8576b"
             ],
             [
              0.6666666666666666,
              "#ed7953"
             ],
             [
              0.7777777777777778,
              "#fb9f3a"
             ],
             [
              0.8888888888888888,
              "#fdca26"
             ],
             [
              1,
              "#f0f921"
             ]
            ],
            "type": "heatmapgl"
           }
          ],
          "histogram": [
           {
            "marker": {
             "pattern": {
              "fillmode": "overlay",
              "size": 10,
              "solidity": 0.2
             }
            },
            "type": "histogram"
           }
          ],
          "histogram2d": [
           {
            "colorbar": {
             "outlinewidth": 0,
             "ticks": ""
            },
            "colorscale": [
             [
              0,
              "#0d0887"
             ],
             [
              0.1111111111111111,
              "#46039f"
             ],
             [
              0.2222222222222222,
              "#7201a8"
             ],
             [
              0.3333333333333333,
              "#9c179e"
             ],
             [
              0.4444444444444444,
              "#bd3786"
             ],
             [
              0.5555555555555556,
              "#d8576b"
             ],
             [
              0.6666666666666666,
              "#ed7953"
             ],
             [
              0.7777777777777778,
              "#fb9f3a"
             ],
             [
              0.8888888888888888,
              "#fdca26"
             ],
             [
              1,
              "#f0f921"
             ]
            ],
            "type": "histogram2d"
           }
          ],
          "histogram2dcontour": [
           {
            "colorbar": {
             "outlinewidth": 0,
             "ticks": ""
            },
            "colorscale": [
             [
              0,
              "#0d0887"
             ],
             [
              0.1111111111111111,
              "#46039f"
             ],
             [
              0.2222222222222222,
              "#7201a8"
             ],
             [
              0.3333333333333333,
              "#9c179e"
             ],
             [
              0.4444444444444444,
              "#bd3786"
             ],
             [
              0.5555555555555556,
              "#d8576b"
             ],
             [
              0.6666666666666666,
              "#ed7953"
             ],
             [
              0.7777777777777778,
              "#fb9f3a"
             ],
             [
              0.8888888888888888,
              "#fdca26"
             ],
             [
              1,
              "#f0f921"
             ]
            ],
            "type": "histogram2dcontour"
           }
          ],
          "mesh3d": [
           {
            "colorbar": {
             "outlinewidth": 0,
             "ticks": ""
            },
            "type": "mesh3d"
           }
          ],
          "parcoords": [
           {
            "line": {
             "colorbar": {
              "outlinewidth": 0,
              "ticks": ""
             }
            },
            "type": "parcoords"
           }
          ],
          "pie": [
           {
            "automargin": true,
            "type": "pie"
           }
          ],
          "scatter": [
           {
            "fillpattern": {
             "fillmode": "overlay",
             "size": 10,
             "solidity": 0.2
            },
            "type": "scatter"
           }
          ],
          "scatter3d": [
           {
            "line": {
             "colorbar": {
              "outlinewidth": 0,
              "ticks": ""
             }
            },
            "marker": {
             "colorbar": {
              "outlinewidth": 0,
              "ticks": ""
             }
            },
            "type": "scatter3d"
           }
          ],
          "scattercarpet": [
           {
            "marker": {
             "colorbar": {
              "outlinewidth": 0,
              "ticks": ""
             }
            },
            "type": "scattercarpet"
           }
          ],
          "scattergeo": [
           {
            "marker": {
             "colorbar": {
              "outlinewidth": 0,
              "ticks": ""
             }
            },
            "type": "scattergeo"
           }
          ],
          "scattergl": [
           {
            "marker": {
             "colorbar": {
              "outlinewidth": 0,
              "ticks": ""
             }
            },
            "type": "scattergl"
           }
          ],
          "scattermapbox": [
           {
            "marker": {
             "colorbar": {
              "outlinewidth": 0,
              "ticks": ""
             }
            },
            "type": "scattermapbox"
           }
          ],
          "scatterpolar": [
           {
            "marker": {
             "colorbar": {
              "outlinewidth": 0,
              "ticks": ""
             }
            },
            "type": "scatterpolar"
           }
          ],
          "scatterpolargl": [
           {
            "marker": {
             "colorbar": {
              "outlinewidth": 0,
              "ticks": ""
             }
            },
            "type": "scatterpolargl"
           }
          ],
          "scatterternary": [
           {
            "marker": {
             "colorbar": {
              "outlinewidth": 0,
              "ticks": ""
             }
            },
            "type": "scatterternary"
           }
          ],
          "surface": [
           {
            "colorbar": {
             "outlinewidth": 0,
             "ticks": ""
            },
            "colorscale": [
             [
              0,
              "#0d0887"
             ],
             [
              0.1111111111111111,
              "#46039f"
             ],
             [
              0.2222222222222222,
              "#7201a8"
             ],
             [
              0.3333333333333333,
              "#9c179e"
             ],
             [
              0.4444444444444444,
              "#bd3786"
             ],
             [
              0.5555555555555556,
              "#d8576b"
             ],
             [
              0.6666666666666666,
              "#ed7953"
             ],
             [
              0.7777777777777778,
              "#fb9f3a"
             ],
             [
              0.8888888888888888,
              "#fdca26"
             ],
             [
              1,
              "#f0f921"
             ]
            ],
            "type": "surface"
           }
          ],
          "table": [
           {
            "cells": {
             "fill": {
              "color": "#EBF0F8"
             },
             "line": {
              "color": "white"
             }
            },
            "header": {
             "fill": {
              "color": "#C8D4E3"
             },
             "line": {
              "color": "white"
             }
            },
            "type": "table"
           }
          ]
         },
         "layout": {
          "annotationdefaults": {
           "arrowcolor": "#2a3f5f",
           "arrowhead": 0,
           "arrowwidth": 1
          },
          "autotypenumbers": "strict",
          "coloraxis": {
           "colorbar": {
            "outlinewidth": 0,
            "ticks": ""
           }
          },
          "colorscale": {
           "diverging": [
            [
             0,
             "#8e0152"
            ],
            [
             0.1,
             "#c51b7d"
            ],
            [
             0.2,
             "#de77ae"
            ],
            [
             0.3,
             "#f1b6da"
            ],
            [
             0.4,
             "#fde0ef"
            ],
            [
             0.5,
             "#f7f7f7"
            ],
            [
             0.6,
             "#e6f5d0"
            ],
            [
             0.7,
             "#b8e186"
            ],
            [
             0.8,
             "#7fbc41"
            ],
            [
             0.9,
             "#4d9221"
            ],
            [
             1,
             "#276419"
            ]
           ],
           "sequential": [
            [
             0,
             "#0d0887"
            ],
            [
             0.1111111111111111,
             "#46039f"
            ],
            [
             0.2222222222222222,
             "#7201a8"
            ],
            [
             0.3333333333333333,
             "#9c179e"
            ],
            [
             0.4444444444444444,
             "#bd3786"
            ],
            [
             0.5555555555555556,
             "#d8576b"
            ],
            [
             0.6666666666666666,
             "#ed7953"
            ],
            [
             0.7777777777777778,
             "#fb9f3a"
            ],
            [
             0.8888888888888888,
             "#fdca26"
            ],
            [
             1,
             "#f0f921"
            ]
           ],
           "sequentialminus": [
            [
             0,
             "#0d0887"
            ],
            [
             0.1111111111111111,
             "#46039f"
            ],
            [
             0.2222222222222222,
             "#7201a8"
            ],
            [
             0.3333333333333333,
             "#9c179e"
            ],
            [
             0.4444444444444444,
             "#bd3786"
            ],
            [
             0.5555555555555556,
             "#d8576b"
            ],
            [
             0.6666666666666666,
             "#ed7953"
            ],
            [
             0.7777777777777778,
             "#fb9f3a"
            ],
            [
             0.8888888888888888,
             "#fdca26"
            ],
            [
             1,
             "#f0f921"
            ]
           ]
          },
          "colorway": [
           "#636efa",
           "#EF553B",
           "#00cc96",
           "#ab63fa",
           "#FFA15A",
           "#19d3f3",
           "#FF6692",
           "#B6E880",
           "#FF97FF",
           "#FECB52"
          ],
          "font": {
           "color": "#2a3f5f"
          },
          "geo": {
           "bgcolor": "white",
           "lakecolor": "white",
           "landcolor": "#E5ECF6",
           "showlakes": true,
           "showland": true,
           "subunitcolor": "white"
          },
          "hoverlabel": {
           "align": "left"
          },
          "hovermode": "closest",
          "mapbox": {
           "style": "light"
          },
          "paper_bgcolor": "white",
          "plot_bgcolor": "#E5ECF6",
          "polar": {
           "angularaxis": {
            "gridcolor": "white",
            "linecolor": "white",
            "ticks": ""
           },
           "bgcolor": "#E5ECF6",
           "radialaxis": {
            "gridcolor": "white",
            "linecolor": "white",
            "ticks": ""
           }
          },
          "scene": {
           "xaxis": {
            "backgroundcolor": "#E5ECF6",
            "gridcolor": "white",
            "gridwidth": 2,
            "linecolor": "white",
            "showbackground": true,
            "ticks": "",
            "zerolinecolor": "white"
           },
           "yaxis": {
            "backgroundcolor": "#E5ECF6",
            "gridcolor": "white",
            "gridwidth": 2,
            "linecolor": "white",
            "showbackground": true,
            "ticks": "",
            "zerolinecolor": "white"
           },
           "zaxis": {
            "backgroundcolor": "#E5ECF6",
            "gridcolor": "white",
            "gridwidth": 2,
            "linecolor": "white",
            "showbackground": true,
            "ticks": "",
            "zerolinecolor": "white"
           }
          },
          "shapedefaults": {
           "line": {
            "color": "#2a3f5f"
           }
          },
          "ternary": {
           "aaxis": {
            "gridcolor": "white",
            "linecolor": "white",
            "ticks": ""
           },
           "baxis": {
            "gridcolor": "white",
            "linecolor": "white",
            "ticks": ""
           },
           "bgcolor": "#E5ECF6",
           "caxis": {
            "gridcolor": "white",
            "linecolor": "white",
            "ticks": ""
           }
          },
          "title": {
           "x": 0.05
          },
          "xaxis": {
           "automargin": true,
           "gridcolor": "white",
           "linecolor": "white",
           "ticks": "",
           "title": {
            "standoff": 15
           },
           "zerolinecolor": "white",
           "zerolinewidth": 2
          },
          "yaxis": {
           "automargin": true,
           "gridcolor": "white",
           "linecolor": "white",
           "ticks": "",
           "title": {
            "standoff": 15
           },
           "zerolinecolor": "white",
           "zerolinewidth": 2
          }
         }
        },
        "title": {
         "text": "drought 3.0 6m12m"
        },
        "width": 1600,
        "xaxis": {
         "linecolor": "rgb(102, 102, 102)",
         "showgrid": false,
         "showline": true,
         "showticklabels": true,
         "tickcolor": "rgb(102, 102, 102)",
         "tickfont": {
          "color": "rgb(102, 102, 102)"
         },
         "ticks": "outside"
        }
       }
      }
     },
     "metadata": {},
     "output_type": "display_data"
    }
   ],
   "source": [
    "import re\n",
    "from tqdm import tqdm\n",
    "\n",
    "folder = r\"Z:\\Laboral\\World Bank\\Paper - Child mortality and Climate Shocks\\Outputs\\countries\"\n",
    "files = os.listdir(folder)\n",
    "files = [f for f in files if \".tex\" in f]\n",
    "files = select_files(files, name=\"version 3 drought 3_0\", months=\"_6 months\")\n",
    "\n",
    "all_specs = []\n",
    "for file in tqdm(files):\n",
    "\n",
    "    filename = rf\"{folder}\\{file}\"\n",
    "    country = re.search(r\"([A-Z]{3})\", file).group(0)\n",
    "    \n",
    "    df = pd.read_csv(filename,\n",
    "                    sep='&',\n",
    "                    header=0,\n",
    "                    skiprows=4,\n",
    "                    skipfooter=3,\n",
    "                    engine='python')\n",
    "\n",
    "    keywords = \"drought|excessiverain|prec\" # Regex allowed\n",
    "\n",
    "    # Process data\n",
    "    df = df.set_index(df.columns[0]) # Set variable names in index\n",
    "    df = df[df.index != ' '] # Remove standard errors\n",
    "    df = df[df.index.str.contains(keywords)]\n",
    "    df.index = df.index.str.strip()\n",
    "    df.index.name = \"variable\"\n",
    "    df = df.reset_index()\n",
    "    results = {}\n",
    "    df.columns = [re.sub(r'[^0-9a-zA-Z]+', '', col) for col in df.columns]\n",
    "    \n",
    "    # Format dataframe\n",
    "    country_specs = df.melt(id_vars=[\"variable\"], var_name=\"specification\", value_name=\"value\")\n",
    "    country_specs[\"value\"] = process_significance(country_specs.value)    \n",
    "    country_specs[\"value\"] = make_float(country_specs.value)    \n",
    "    country_specs[\"Country\"] = country\n",
    "    country_specs[\"variable\"] = country_specs[\"variable\"].str.replace(r\"\\_6\\_\", \" \").str.replace(r\"3\\_0\\_\", \"3.0 \")\n",
    "    all_specs += [country_specs]\n",
    "    \n",
    "all_specs = pd.concat(all_specs)\n",
    "\n",
    "dot_plot(all_specs, \"drought 3.0 q1\")\n",
    "dot_plot(all_specs, \"drought 3.0 q2\")\n",
    "dot_plot(all_specs, \"drought 3.0 q3\")\n",
    "dot_plot(all_specs, \"drought 3.0 30d\")\n",
    "dot_plot(all_specs, \"drought 3.0 30d3m\")\n",
    "dot_plot(all_specs, \"drought 3.0 3m6m\")\n",
    "dot_plot(all_specs, \"drought 3.0 6m12m\")"
   ]
  },
  {
   "cell_type": "code",
   "execution_count": null,
   "metadata": {},
   "outputs": [],
   "source": []
  }
 ],
 "metadata": {
  "kernelspec": {
   "display_name": "Python 3",
   "language": "python",
   "name": "python3"
  },
  "language_info": {
   "codemirror_mode": {
    "name": "ipython",
    "version": 3
   },
   "file_extension": ".py",
   "mimetype": "text/x-python",
   "name": "python",
   "nbconvert_exporter": "python",
   "pygments_lexer": "ipython3",
   "version": "3.11.4"
  }
 },
 "nbformat": 4,
 "nbformat_minor": 2
}
