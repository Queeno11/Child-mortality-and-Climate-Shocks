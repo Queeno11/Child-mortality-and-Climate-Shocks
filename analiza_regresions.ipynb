{
 "cells": [
  {
   "cell_type": "code",
   "execution_count": null,
   "metadata": {},
   "outputs": [],
   "source": [
    "import os\n",
    "import re\n",
    "import pandas as pd"
   ]
  },
  {
   "cell_type": "code",
   "execution_count": 241,
   "metadata": {},
   "outputs": [],
   "source": [
    "def select_files(files, name=\"version 3 drought 2_5\", months=\"_6 months\"):\n",
    "    files = [f for f in files if name in f]\n",
    "    files = [f for f in files if months in f]\n",
    "    return files\n",
    "\n",
    "def count_significative_vars(s):\n",
    "    count_p01  = s.str.contains(\"*\", regex=False).sum()\n",
    "    count_p005 = s.str.contains(\"**\", regex=False).sum()\n",
    "    count_p001 = s.str.contains(\"***\", regex=False).sum()\n",
    "    return count_p01, count_p005, count_p001 \n",
    "\n",
    "def dict_to_df(dict):\n",
    "    results_df = pd.DataFrame().from_dict(dict, orient=\"index\", columns=[\"p=0.1\", \"p=0.05\", \"p=0.01\"]).reset_index(names=\"Specification\")\n",
    "    return results_df\n",
    "\n",
    "def process_significance(s):\n",
    "    # Replace all values that does not contain an asterisk with NaN and turn them into floats\n",
    "    s = s.where(s.str.contains(\"*\", regex=False))\n",
    "    return s\n",
    "\n",
    "def make_float(s):\n",
    "    # Remove asterisks and turn into floats\n",
    "    s = s.replace(r'[^0-9\\-.]', \"\", regex=True)\n",
    "    return s"
   ]
  },
  {
   "cell_type": "code",
   "execution_count": 238,
   "metadata": {},
   "outputs": [],
   "source": [
    "import plotly.graph_objects as go\n",
    "\n",
    "def dot_plot(all_specs, varname):\n",
    "    fig = go.Figure()\n",
    "\n",
    "    colors = [\n",
    "        'rgba(156, 165, 196, 0.95)','rgba(156, 165, 196, 0.95)','rgba(156, 165, 196, 0.95)','rgba(156, 165, 196, 0.95)',\n",
    "        'rgba(204, 204, 204, 0.95)','rgba(204, 204, 204, 0.95)','rgba(204, 204, 204, 0.95)','rgba(204, 204, 204, 0.95)',\n",
    "        'rgba(255, 166, 86, 0.95)','rgba(255, 166, 86, 0.95)','rgba(255, 166, 86, 0.95)','rgba(255, 166, 86, 0.95)',\n",
    "        'rgba(240, 230, 140, 0.95)','rgba(240, 230, 140, 0.95)','rgba(240, 230, 140, 0.95)','rgba(240, 230, 140, 0.95)',\n",
    "    ]\n",
    "    data = all_specs[all_specs.variable == varname]\n",
    "    for i, spec in enumerate(data.specification.unique()):\n",
    "        data_plot = data[data.specification == spec]\n",
    "        fig.add_trace(go.Scatter(\n",
    "            x=data_plot[\"value\"].astype(\"float\"),\n",
    "            y=data_plot[\"Country\"],\n",
    "            marker=dict(\n",
    "                color=colors[i],\n",
    "                size=16\n",
    "            ),\n",
    "            mode='markers',\n",
    "            name=spec,\n",
    "        ))\n",
    "\n",
    "    fig.update_traces(mode='markers', marker=dict(line_width=1, symbol='circle', size=16))\n",
    "\n",
    "    fig.update_layout(\n",
    "        title=varname,\n",
    "        xaxis=dict(\n",
    "            showgrid=False,\n",
    "            showline=True,\n",
    "            linecolor='rgb(102, 102, 102)',\n",
    "            tickfont_color='rgb(102, 102, 102)',\n",
    "            showticklabels=True,\n",
    "            ticks='outside',\n",
    "            tickcolor='rgb(102, 102, 102)',\n",
    "        ),\n",
    "        margin=dict(l=140, r=40, b=50, t=80),\n",
    "        legend=dict(\n",
    "            font_size=10,\n",
    "            yanchor='top',\n",
    "            xanchor='center',\n",
    "        ),\n",
    "        width=1600,\n",
    "        height=600,\n",
    "        paper_bgcolor='white',\n",
    "        plot_bgcolor='white',\n",
    "        hovermode='closest',\n",
    "    )\n",
    "    \n",
    "    # Add a vertical line at zero\n",
    "    fig.update_layout(shapes=[\n",
    "        dict(\n",
    "            type=\"line\",\n",
    "            x0=0,\n",
    "            y0=0,\n",
    "            x1=0,\n",
    "            y1=all_specs.Country.drop_duplicates().shape[0],\n",
    "            line=dict(\n",
    "                color=\"red\",\n",
    "                width=2,\n",
    "                dash=\"dashdot\",\n",
    "            )\n",
    "        )\n",
    "    ])\n",
    "\n",
    "    fig.show()"
   ]
  },
  {
   "cell_type": "code",
   "execution_count": 247,
   "metadata": {},
   "outputs": [
    {
     "name": "stderr",
     "output_type": "stream",
     "text": [
      "100%|██████████| 55/55 [00:00<00:00, 86.75it/s] \n"
     ]
    },
    {
     "data": {
      "application/vnd.plotly.v1+json": {
       "config": {
        "plotlyServerURL": "https://plot.ly"
       },
       "data": [
        {
         "marker": {
          "color": "rgba(156, 165, 196, 0.95)",
          "line": {
           "width": 1
          },
          "size": 16,
          "symbol": "circle"
         },
         "mode": "markers",
         "name": "1",
         "type": "scatter",
         "x": [
          null,
          null,
          null,
          null,
          null,
          217.842,
          null,
          -73.849,
          null,
          null,
          null,
          null,
          null,
          null,
          null,
          null,
          null,
          null,
          null,
          null,
          null,
          null,
          null,
          null,
          null,
          null,
          -41.568,
          null,
          null,
          null,
          null,
          null,
          null,
          null,
          null,
          null,
          34.77,
          null,
          null,
          null,
          -90.022,
          -51.25,
          null,
          null,
          128.149,
          null,
          null,
          null,
          null,
          null,
          null,
          -32.678,
          null,
          null,
          null
         ],
         "y": [
          "AGO",
          "ALB",
          "ARM",
          "BEN",
          "BFA",
          "BGD",
          "BOL",
          "CIV",
          "CMR",
          "COD",
          "COM",
          "DOM",
          "EGY",
          "ETH",
          "GAB",
          "GHA",
          "GIN",
          "GMB",
          "GTM",
          "GUY",
          "HND",
          "HTI",
          "IND",
          "JOR",
          "KEN",
          "KGZ",
          "KHM",
          "LBR",
          "LSO",
          "MAR",
          "MDA",
          "MDG",
          "MLI",
          "MMR",
          "MOZ",
          "MRT",
          "MWI",
          "NAM",
          "NGA",
          "NIC",
          "PAK",
          "PER",
          "PHL",
          "SEN",
          "SLE",
          "SWZ",
          "TCD",
          "TGO",
          "TJK",
          "TLS",
          "TZA",
          "UGA",
          "ZAF",
          "ZMB",
          "ZWE"
         ]
        },
        {
         "marker": {
          "color": "rgba(156, 165, 196, 0.95)",
          "line": {
           "width": 1
          },
          "size": 16,
          "symbol": "circle"
         },
         "mode": "markers",
         "name": "2",
         "type": "scatter",
         "x": [
          null,
          null,
          null,
          null,
          null,
          228.362,
          -18.319,
          -54.639,
          null,
          null,
          null,
          null,
          null,
          null,
          null,
          null,
          null,
          null,
          null,
          null,
          null,
          21.237,
          null,
          null,
          null,
          null,
          -57.291,
          null,
          null,
          null,
          null,
          null,
          null,
          null,
          null,
          null,
          36.158,
          null,
          null,
          null,
          -88.746,
          -47.545,
          null,
          null,
          115.942,
          null,
          null,
          null,
          null,
          null,
          null,
          null,
          null,
          null,
          null
         ],
         "y": [
          "AGO",
          "ALB",
          "ARM",
          "BEN",
          "BFA",
          "BGD",
          "BOL",
          "CIV",
          "CMR",
          "COD",
          "COM",
          "DOM",
          "EGY",
          "ETH",
          "GAB",
          "GHA",
          "GIN",
          "GMB",
          "GTM",
          "GUY",
          "HND",
          "HTI",
          "IND",
          "JOR",
          "KEN",
          "KGZ",
          "KHM",
          "LBR",
          "LSO",
          "MAR",
          "MDA",
          "MDG",
          "MLI",
          "MMR",
          "MOZ",
          "MRT",
          "MWI",
          "NAM",
          "NGA",
          "NIC",
          "PAK",
          "PER",
          "PHL",
          "SEN",
          "SLE",
          "SWZ",
          "TCD",
          "TGO",
          "TJK",
          "TLS",
          "TZA",
          "UGA",
          "ZAF",
          "ZMB",
          "ZWE"
         ]
        },
        {
         "marker": {
          "color": "rgba(156, 165, 196, 0.95)",
          "line": {
           "width": 1
          },
          "size": 16,
          "symbol": "circle"
         },
         "mode": "markers",
         "name": "3",
         "type": "scatter",
         "x": [
          null,
          null,
          null,
          null,
          -24.706,
          236.254,
          -18.44,
          -43.009,
          null,
          null,
          null,
          null,
          null,
          null,
          null,
          null,
          null,
          null,
          null,
          null,
          null,
          21.176,
          null,
          null,
          null,
          null,
          -59.639,
          null,
          null,
          null,
          null,
          null,
          null,
          null,
          null,
          null,
          33.643,
          null,
          null,
          null,
          -68.073,
          -26.93,
          null,
          null,
          123.148,
          null,
          null,
          null,
          null,
          null,
          null,
          -22.956,
          null,
          null,
          null
         ],
         "y": [
          "AGO",
          "ALB",
          "ARM",
          "BEN",
          "BFA",
          "BGD",
          "BOL",
          "CIV",
          "CMR",
          "COD",
          "COM",
          "DOM",
          "EGY",
          "ETH",
          "GAB",
          "GHA",
          "GIN",
          "GMB",
          "GTM",
          "GUY",
          "HND",
          "HTI",
          "IND",
          "JOR",
          "KEN",
          "KGZ",
          "KHM",
          "LBR",
          "LSO",
          "MAR",
          "MDA",
          "MDG",
          "MLI",
          "MMR",
          "MOZ",
          "MRT",
          "MWI",
          "NAM",
          "NGA",
          "NIC",
          "PAK",
          "PER",
          "PHL",
          "SEN",
          "SLE",
          "SWZ",
          "TCD",
          "TGO",
          "TJK",
          "TLS",
          "TZA",
          "UGA",
          "ZAF",
          "ZMB",
          "ZWE"
         ]
        },
        {
         "marker": {
          "color": "rgba(156, 165, 196, 0.95)",
          "line": {
           "width": 1
          },
          "size": 16,
          "symbol": "circle"
         },
         "mode": "markers",
         "name": "4",
         "type": "scatter",
         "x": [
          null,
          null,
          null,
          null,
          -23.673,
          231.87,
          null,
          -41.121,
          null,
          null,
          null,
          null,
          null,
          null,
          null,
          -10.936,
          15.149,
          null,
          null,
          null,
          null,
          21.176,
          null,
          null,
          null,
          null,
          -54.982,
          null,
          null,
          null,
          null,
          null,
          null,
          null,
          28.969,
          null,
          34.106,
          null,
          null,
          null,
          -70.59,
          -20.142,
          null,
          13.03,
          121.123,
          null,
          null,
          null,
          null,
          null,
          null,
          -21.581,
          null,
          null,
          null
         ],
         "y": [
          "AGO",
          "ALB",
          "ARM",
          "BEN",
          "BFA",
          "BGD",
          "BOL",
          "CIV",
          "CMR",
          "COD",
          "COM",
          "DOM",
          "EGY",
          "ETH",
          "GAB",
          "GHA",
          "GIN",
          "GMB",
          "GTM",
          "GUY",
          "HND",
          "HTI",
          "IND",
          "JOR",
          "KEN",
          "KGZ",
          "KHM",
          "LBR",
          "LSO",
          "MAR",
          "MDA",
          "MDG",
          "MLI",
          "MMR",
          "MOZ",
          "MRT",
          "MWI",
          "NAM",
          "NGA",
          "NIC",
          "PAK",
          "PER",
          "PHL",
          "SEN",
          "SLE",
          "SWZ",
          "TCD",
          "TGO",
          "TJK",
          "TLS",
          "TZA",
          "UGA",
          "ZAF",
          "ZMB",
          "ZWE"
         ]
        },
        {
         "marker": {
          "color": "rgba(204, 204, 204, 0.95)",
          "line": {
           "width": 1
          },
          "size": 16,
          "symbol": "circle"
         },
         "mode": "markers",
         "name": "5",
         "type": "scatter",
         "x": [
          null,
          null,
          null,
          null,
          null,
          -11.966,
          null,
          null,
          null,
          -12.176,
          null,
          null,
          null,
          null,
          -3.066,
          null,
          null,
          null,
          null,
          null,
          null,
          -7.223,
          null,
          null,
          null,
          null,
          -15.754,
          null,
          -8.756,
          null,
          null,
          -3.158,
          null,
          null,
          null,
          null,
          null,
          -8.372,
          -10.157,
          null,
          null,
          null,
          -6.224,
          null,
          -30.659,
          null,
          null,
          null,
          null,
          null,
          null,
          -6.81,
          null,
          null,
          null
         ],
         "y": [
          "AGO",
          "ALB",
          "ARM",
          "BEN",
          "BFA",
          "BGD",
          "BOL",
          "CIV",
          "CMR",
          "COD",
          "COM",
          "DOM",
          "EGY",
          "ETH",
          "GAB",
          "GHA",
          "GIN",
          "GMB",
          "GTM",
          "GUY",
          "HND",
          "HTI",
          "IND",
          "JOR",
          "KEN",
          "KGZ",
          "KHM",
          "LBR",
          "LSO",
          "MAR",
          "MDA",
          "MDG",
          "MLI",
          "MMR",
          "MOZ",
          "MRT",
          "MWI",
          "NAM",
          "NGA",
          "NIC",
          "PAK",
          "PER",
          "PHL",
          "SEN",
          "SLE",
          "SWZ",
          "TCD",
          "TGO",
          "TJK",
          "TLS",
          "TZA",
          "UGA",
          "ZAF",
          "ZMB",
          "ZWE"
         ]
        },
        {
         "marker": {
          "color": "rgba(204, 204, 204, 0.95)",
          "line": {
           "width": 1
          },
          "size": 16,
          "symbol": "circle"
         },
         "mode": "markers",
         "name": "6",
         "type": "scatter",
         "x": [
          null,
          null,
          null,
          null,
          null,
          -4.616,
          null,
          null,
          null,
          -11.486,
          null,
          null,
          null,
          null,
          null,
          null,
          null,
          null,
          null,
          null,
          null,
          -6.939,
          null,
          null,
          null,
          null,
          -22.169,
          null,
          -11.548,
          null,
          null,
          -3.179,
          null,
          null,
          null,
          null,
          null,
          -7.833,
          null,
          null,
          -9.479,
          null,
          -5.174,
          null,
          -26.551,
          null,
          null,
          null,
          null,
          null,
          null,
          -7.203,
          null,
          null,
          null
         ],
         "y": [
          "AGO",
          "ALB",
          "ARM",
          "BEN",
          "BFA",
          "BGD",
          "BOL",
          "CIV",
          "CMR",
          "COD",
          "COM",
          "DOM",
          "EGY",
          "ETH",
          "GAB",
          "GHA",
          "GIN",
          "GMB",
          "GTM",
          "GUY",
          "HND",
          "HTI",
          "IND",
          "JOR",
          "KEN",
          "KGZ",
          "KHM",
          "LBR",
          "LSO",
          "MAR",
          "MDA",
          "MDG",
          "MLI",
          "MMR",
          "MOZ",
          "MRT",
          "MWI",
          "NAM",
          "NGA",
          "NIC",
          "PAK",
          "PER",
          "PHL",
          "SEN",
          "SLE",
          "SWZ",
          "TCD",
          "TGO",
          "TJK",
          "TLS",
          "TZA",
          "UGA",
          "ZAF",
          "ZMB",
          "ZWE"
         ]
        },
        {
         "marker": {
          "color": "rgba(204, 204, 204, 0.95)",
          "line": {
           "width": 1
          },
          "size": 16,
          "symbol": "circle"
         },
         "mode": "markers",
         "name": "7",
         "type": "scatter",
         "x": [
          null,
          null,
          null,
          null,
          null,
          -5.922,
          null,
          -9.514,
          null,
          -9.62,
          null,
          null,
          null,
          null,
          null,
          null,
          null,
          null,
          null,
          null,
          null,
          -7.093,
          null,
          null,
          null,
          null,
          -17.544,
          null,
          -9.849,
          null,
          null,
          null,
          null,
          null,
          null,
          null,
          null,
          -9.035,
          -8.162,
          null,
          -11.718,
          null,
          -3.327,
          null,
          -20.171,
          null,
          null,
          null,
          null,
          null,
          null,
          -8.613,
          null,
          null,
          null
         ],
         "y": [
          "AGO",
          "ALB",
          "ARM",
          "BEN",
          "BFA",
          "BGD",
          "BOL",
          "CIV",
          "CMR",
          "COD",
          "COM",
          "DOM",
          "EGY",
          "ETH",
          "GAB",
          "GHA",
          "GIN",
          "GMB",
          "GTM",
          "GUY",
          "HND",
          "HTI",
          "IND",
          "JOR",
          "KEN",
          "KGZ",
          "KHM",
          "LBR",
          "LSO",
          "MAR",
          "MDA",
          "MDG",
          "MLI",
          "MMR",
          "MOZ",
          "MRT",
          "MWI",
          "NAM",
          "NGA",
          "NIC",
          "PAK",
          "PER",
          "PHL",
          "SEN",
          "SLE",
          "SWZ",
          "TCD",
          "TGO",
          "TJK",
          "TLS",
          "TZA",
          "UGA",
          "ZAF",
          "ZMB",
          "ZWE"
         ]
        },
        {
         "marker": {
          "color": "rgba(204, 204, 204, 0.95)",
          "line": {
           "width": 1
          },
          "size": 16,
          "symbol": "circle"
         },
         "mode": "markers",
         "name": "8",
         "type": "scatter",
         "x": [
          null,
          null,
          null,
          null,
          null,
          -8.343,
          null,
          -7.523,
          null,
          -9.385,
          null,
          null,
          null,
          null,
          -4.355,
          null,
          19.51,
          null,
          null,
          null,
          null,
          -7.093,
          null,
          null,
          null,
          null,
          -13.344,
          null,
          -10.187,
          null,
          null,
          -3.351,
          null,
          null,
          null,
          null,
          null,
          -8.811,
          null,
          null,
          -11.255,
          null,
          -2.906,
          null,
          -20.485,
          null,
          -10.979,
          null,
          null,
          null,
          null,
          -9.398,
          null,
          null,
          null
         ],
         "y": [
          "AGO",
          "ALB",
          "ARM",
          "BEN",
          "BFA",
          "BGD",
          "BOL",
          "CIV",
          "CMR",
          "COD",
          "COM",
          "DOM",
          "EGY",
          "ETH",
          "GAB",
          "GHA",
          "GIN",
          "GMB",
          "GTM",
          "GUY",
          "HND",
          "HTI",
          "IND",
          "JOR",
          "KEN",
          "KGZ",
          "KHM",
          "LBR",
          "LSO",
          "MAR",
          "MDA",
          "MDG",
          "MLI",
          "MMR",
          "MOZ",
          "MRT",
          "MWI",
          "NAM",
          "NGA",
          "NIC",
          "PAK",
          "PER",
          "PHL",
          "SEN",
          "SLE",
          "SWZ",
          "TCD",
          "TGO",
          "TJK",
          "TLS",
          "TZA",
          "UGA",
          "ZAF",
          "ZMB",
          "ZWE"
         ]
        },
        {
         "marker": {
          "color": "rgba(255, 166, 86, 0.95)",
          "line": {
           "width": 1
          },
          "size": 16,
          "symbol": "circle"
         },
         "mode": "markers",
         "name": "9",
         "type": "scatter",
         "x": [
          null,
          null,
          null,
          null,
          null,
          -11.209,
          null,
          null,
          null,
          null,
          null,
          null,
          null,
          null,
          null,
          null,
          null,
          null,
          null,
          null,
          null,
          29.336,
          null,
          null,
          null,
          null,
          -7.953,
          null,
          null,
          null,
          null,
          null,
          null,
          null,
          -17.419,
          null,
          null,
          null,
          null,
          null,
          null,
          -15.843,
          -7.009,
          null,
          -32.311,
          null,
          null,
          null,
          null,
          null,
          null,
          -10.913,
          null,
          null,
          null
         ],
         "y": [
          "AGO",
          "ALB",
          "ARM",
          "BEN",
          "BFA",
          "BGD",
          "BOL",
          "CIV",
          "CMR",
          "COD",
          "COM",
          "DOM",
          "EGY",
          "ETH",
          "GAB",
          "GHA",
          "GIN",
          "GMB",
          "GTM",
          "GUY",
          "HND",
          "HTI",
          "IND",
          "JOR",
          "KEN",
          "KGZ",
          "KHM",
          "LBR",
          "LSO",
          "MAR",
          "MDA",
          "MDG",
          "MLI",
          "MMR",
          "MOZ",
          "MRT",
          "MWI",
          "NAM",
          "NGA",
          "NIC",
          "PAK",
          "PER",
          "PHL",
          "SEN",
          "SLE",
          "SWZ",
          "TCD",
          "TGO",
          "TJK",
          "TLS",
          "TZA",
          "UGA",
          "ZAF",
          "ZMB",
          "ZWE"
         ]
        },
        {
         "marker": {
          "color": "rgba(255, 166, 86, 0.95)",
          "line": {
           "width": 1
          },
          "size": 16,
          "symbol": "circle"
         },
         "mode": "markers",
         "name": "10",
         "type": "scatter",
         "x": [
          null,
          null,
          null,
          null,
          null,
          -13.663,
          -4.113,
          null,
          null,
          null,
          null,
          null,
          null,
          null,
          null,
          null,
          null,
          null,
          null,
          null,
          null,
          30.118,
          -2.181,
          null,
          null,
          null,
          -9.987,
          null,
          30.525,
          null,
          null,
          null,
          null,
          null,
          null,
          null,
          null,
          -4.029,
          null,
          null,
          -6.825,
          -13.504,
          -6.7,
          null,
          -25.519,
          null,
          19.99,
          null,
          null,
          null,
          null,
          -11.771,
          null,
          null,
          null
         ],
         "y": [
          "AGO",
          "ALB",
          "ARM",
          "BEN",
          "BFA",
          "BGD",
          "BOL",
          "CIV",
          "CMR",
          "COD",
          "COM",
          "DOM",
          "EGY",
          "ETH",
          "GAB",
          "GHA",
          "GIN",
          "GMB",
          "GTM",
          "GUY",
          "HND",
          "HTI",
          "IND",
          "JOR",
          "KEN",
          "KGZ",
          "KHM",
          "LBR",
          "LSO",
          "MAR",
          "MDA",
          "MDG",
          "MLI",
          "MMR",
          "MOZ",
          "MRT",
          "MWI",
          "NAM",
          "NGA",
          "NIC",
          "PAK",
          "PER",
          "PHL",
          "SEN",
          "SLE",
          "SWZ",
          "TCD",
          "TGO",
          "TJK",
          "TLS",
          "TZA",
          "UGA",
          "ZAF",
          "ZMB",
          "ZWE"
         ]
        },
        {
         "marker": {
          "color": "rgba(255, 166, 86, 0.95)",
          "line": {
           "width": 1
          },
          "size": 16,
          "symbol": "circle"
         },
         "mode": "markers",
         "name": "11",
         "type": "scatter",
         "x": [
          null,
          null,
          null,
          null,
          16.49,
          -6.691,
          -6.489,
          -7.609,
          null,
          null,
          null,
          null,
          null,
          null,
          null,
          null,
          null,
          null,
          null,
          null,
          null,
          30.24,
          -2.407,
          null,
          null,
          null,
          -12.919,
          null,
          null,
          null,
          null,
          null,
          null,
          null,
          -8.159,
          null,
          null,
          -5.242,
          null,
          null,
          -6.602,
          null,
          -6.875,
          26.658,
          -23.283,
          null,
          15.823,
          null,
          null,
          null,
          null,
          -13.036,
          null,
          null,
          null
         ],
         "y": [
          "AGO",
          "ALB",
          "ARM",
          "BEN",
          "BFA",
          "BGD",
          "BOL",
          "CIV",
          "CMR",
          "COD",
          "COM",
          "DOM",
          "EGY",
          "ETH",
          "GAB",
          "GHA",
          "GIN",
          "GMB",
          "GTM",
          "GUY",
          "HND",
          "HTI",
          "IND",
          "JOR",
          "KEN",
          "KGZ",
          "KHM",
          "LBR",
          "LSO",
          "MAR",
          "MDA",
          "MDG",
          "MLI",
          "MMR",
          "MOZ",
          "MRT",
          "MWI",
          "NAM",
          "NGA",
          "NIC",
          "PAK",
          "PER",
          "PHL",
          "SEN",
          "SLE",
          "SWZ",
          "TCD",
          "TGO",
          "TJK",
          "TLS",
          "TZA",
          "UGA",
          "ZAF",
          "ZMB",
          "ZWE"
         ]
        },
        {
         "marker": {
          "color": "rgba(255, 166, 86, 0.95)",
          "line": {
           "width": 1
          },
          "size": 16,
          "symbol": "circle"
         },
         "mode": "markers",
         "name": "12",
         "type": "scatter",
         "x": [
          null,
          null,
          null,
          null,
          14.927,
          -6.97,
          -5.986,
          -6.441,
          null,
          null,
          null,
          null,
          null,
          null,
          -2.648,
          null,
          19.084,
          null,
          null,
          null,
          null,
          30.24,
          -2.268,
          null,
          null,
          null,
          -10.213,
          null,
          null,
          null,
          null,
          null,
          null,
          null,
          -12.011,
          null,
          null,
          -6.442,
          null,
          null,
          -6.673,
          -3.273,
          null,
          29.043,
          -22.607,
          null,
          16.291,
          null,
          null,
          null,
          null,
          -12.748,
          null,
          null,
          null
         ],
         "y": [
          "AGO",
          "ALB",
          "ARM",
          "BEN",
          "BFA",
          "BGD",
          "BOL",
          "CIV",
          "CMR",
          "COD",
          "COM",
          "DOM",
          "EGY",
          "ETH",
          "GAB",
          "GHA",
          "GIN",
          "GMB",
          "GTM",
          "GUY",
          "HND",
          "HTI",
          "IND",
          "JOR",
          "KEN",
          "KGZ",
          "KHM",
          "LBR",
          "LSO",
          "MAR",
          "MDA",
          "MDG",
          "MLI",
          "MMR",
          "MOZ",
          "MRT",
          "MWI",
          "NAM",
          "NGA",
          "NIC",
          "PAK",
          "PER",
          "PHL",
          "SEN",
          "SLE",
          "SWZ",
          "TCD",
          "TGO",
          "TJK",
          "TLS",
          "TZA",
          "UGA",
          "ZAF",
          "ZMB",
          "ZWE"
         ]
        },
        {
         "marker": {
          "color": "rgba(240, 230, 140, 0.95)",
          "line": {
           "width": 1
          },
          "size": 16,
          "symbol": "circle"
         },
         "mode": "markers",
         "name": "13",
         "type": "scatter",
         "x": [
          null,
          null,
          null,
          null,
          null,
          -3.673,
          null,
          null,
          -15.125,
          null,
          null,
          null,
          null,
          null,
          null,
          null,
          null,
          null,
          null,
          null,
          null,
          -12.901,
          null,
          null,
          null,
          null,
          null,
          null,
          null,
          null,
          null,
          null,
          null,
          null,
          null,
          null,
          null,
          null,
          null,
          null,
          null,
          null,
          -9.279,
          null,
          -49.555,
          null,
          null,
          null,
          null,
          null,
          null,
          null,
          null,
          null,
          null
         ],
         "y": [
          "AGO",
          "ALB",
          "ARM",
          "BEN",
          "BFA",
          "BGD",
          "BOL",
          "CIV",
          "CMR",
          "COD",
          "COM",
          "DOM",
          "EGY",
          "ETH",
          "GAB",
          "GHA",
          "GIN",
          "GMB",
          "GTM",
          "GUY",
          "HND",
          "HTI",
          "IND",
          "JOR",
          "KEN",
          "KGZ",
          "KHM",
          "LBR",
          "LSO",
          "MAR",
          "MDA",
          "MDG",
          "MLI",
          "MMR",
          "MOZ",
          "MRT",
          "MWI",
          "NAM",
          "NGA",
          "NIC",
          "PAK",
          "PER",
          "PHL",
          "SEN",
          "SLE",
          "SWZ",
          "TCD",
          "TGO",
          "TJK",
          "TLS",
          "TZA",
          "UGA",
          "ZAF",
          "ZMB",
          "ZWE"
         ]
        },
        {
         "marker": {
          "color": "rgba(240, 230, 140, 0.95)",
          "line": {
           "width": 1
          },
          "size": 16,
          "symbol": "circle"
         },
         "mode": "markers",
         "name": "14",
         "type": "scatter",
         "x": [
          null,
          null,
          null,
          null,
          null,
          -2.278,
          null,
          null,
          -13.684,
          null,
          null,
          null,
          null,
          null,
          null,
          null,
          -25.642,
          null,
          null,
          null,
          null,
          -11.118,
          null,
          null,
          null,
          null,
          -3.84,
          -31.37,
          null,
          null,
          null,
          null,
          null,
          null,
          null,
          null,
          null,
          null,
          null,
          null,
          -19.401,
          null,
          -9.047,
          null,
          -62.868,
          null,
          null,
          null,
          null,
          null,
          null,
          null,
          null,
          null,
          null
         ],
         "y": [
          "AGO",
          "ALB",
          "ARM",
          "BEN",
          "BFA",
          "BGD",
          "BOL",
          "CIV",
          "CMR",
          "COD",
          "COM",
          "DOM",
          "EGY",
          "ETH",
          "GAB",
          "GHA",
          "GIN",
          "GMB",
          "GTM",
          "GUY",
          "HND",
          "HTI",
          "IND",
          "JOR",
          "KEN",
          "KGZ",
          "KHM",
          "LBR",
          "LSO",
          "MAR",
          "MDA",
          "MDG",
          "MLI",
          "MMR",
          "MOZ",
          "MRT",
          "MWI",
          "NAM",
          "NGA",
          "NIC",
          "PAK",
          "PER",
          "PHL",
          "SEN",
          "SLE",
          "SWZ",
          "TCD",
          "TGO",
          "TJK",
          "TLS",
          "TZA",
          "UGA",
          "ZAF",
          "ZMB",
          "ZWE"
         ]
        },
        {
         "marker": {
          "color": "rgba(240, 230, 140, 0.95)",
          "line": {
           "width": 1
          },
          "size": 16,
          "symbol": "circle"
         },
         "mode": "markers",
         "name": "15",
         "type": "scatter",
         "x": [
          null,
          null,
          null,
          null,
          13.603,
          -5.703,
          null,
          -26.147,
          -13.608,
          null,
          null,
          null,
          null,
          null,
          null,
          null,
          -26.05,
          null,
          null,
          null,
          null,
          -11.194,
          null,
          null,
          null,
          null,
          -7.585,
          -29.054,
          null,
          null,
          null,
          null,
          null,
          null,
          -15.874,
          null,
          null,
          null,
          null,
          null,
          -14.812,
          null,
          -7.862,
          null,
          -57.069,
          null,
          null,
          null,
          null,
          null,
          null,
          null,
          null,
          null,
          null
         ],
         "y": [
          "AGO",
          "ALB",
          "ARM",
          "BEN",
          "BFA",
          "BGD",
          "BOL",
          "CIV",
          "CMR",
          "COD",
          "COM",
          "DOM",
          "EGY",
          "ETH",
          "GAB",
          "GHA",
          "GIN",
          "GMB",
          "GTM",
          "GUY",
          "HND",
          "HTI",
          "IND",
          "JOR",
          "KEN",
          "KGZ",
          "KHM",
          "LBR",
          "LSO",
          "MAR",
          "MDA",
          "MDG",
          "MLI",
          "MMR",
          "MOZ",
          "MRT",
          "MWI",
          "NAM",
          "NGA",
          "NIC",
          "PAK",
          "PER",
          "PHL",
          "SEN",
          "SLE",
          "SWZ",
          "TCD",
          "TGO",
          "TJK",
          "TLS",
          "TZA",
          "UGA",
          "ZAF",
          "ZMB",
          "ZWE"
         ]
        },
        {
         "marker": {
          "color": "rgba(240, 230, 140, 0.95)",
          "line": {
           "width": 1
          },
          "size": 16,
          "symbol": "circle"
         },
         "mode": "markers",
         "name": "16",
         "type": "scatter",
         "x": [
          null,
          null,
          null,
          null,
          14.63,
          -9.823,
          null,
          -30.313,
          -13.09,
          null,
          null,
          null,
          null,
          null,
          null,
          null,
          -21.729,
          null,
          null,
          null,
          null,
          -11.193,
          null,
          null,
          null,
          null,
          -10.59,
          null,
          null,
          null,
          null,
          null,
          null,
          null,
          -18.265,
          null,
          null,
          null,
          null,
          null,
          -14.305,
          -3.904,
          -7.826,
          null,
          -56.112,
          null,
          null,
          null,
          null,
          null,
          null,
          null,
          null,
          null,
          null
         ],
         "y": [
          "AGO",
          "ALB",
          "ARM",
          "BEN",
          "BFA",
          "BGD",
          "BOL",
          "CIV",
          "CMR",
          "COD",
          "COM",
          "DOM",
          "EGY",
          "ETH",
          "GAB",
          "GHA",
          "GIN",
          "GMB",
          "GTM",
          "GUY",
          "HND",
          "HTI",
          "IND",
          "JOR",
          "KEN",
          "KGZ",
          "KHM",
          "LBR",
          "LSO",
          "MAR",
          "MDA",
          "MDG",
          "MLI",
          "MMR",
          "MOZ",
          "MRT",
          "MWI",
          "NAM",
          "NGA",
          "NIC",
          "PAK",
          "PER",
          "PHL",
          "SEN",
          "SLE",
          "SWZ",
          "TCD",
          "TGO",
          "TJK",
          "TLS",
          "TZA",
          "UGA",
          "ZAF",
          "ZMB",
          "ZWE"
         ]
        }
       ],
       "layout": {
        "height": 600,
        "hovermode": "closest",
        "legend": {
         "font": {
          "size": 10
         },
         "xanchor": "center",
         "yanchor": "top"
        },
        "margin": {
         "b": 50,
         "l": 140,
         "r": 40,
         "t": 80
        },
        "paper_bgcolor": "white",
        "plot_bgcolor": "white",
        "shapes": [
         {
          "line": {
           "color": "red",
           "dash": "dashdot",
           "width": 2
          },
          "type": "line",
          "x0": 0,
          "x1": 0,
          "y0": 0,
          "y1": 55
         }
        ],
        "template": {
         "data": {
          "bar": [
           {
            "error_x": {
             "color": "#2a3f5f"
            },
            "error_y": {
             "color": "#2a3f5f"
            },
            "marker": {
             "line": {
              "color": "#E5ECF6",
              "width": 0.5
             },
             "pattern": {
              "fillmode": "overlay",
              "size": 10,
              "solidity": 0.2
             }
            },
            "type": "bar"
           }
          ],
          "barpolar": [
           {
            "marker": {
             "line": {
              "color": "#E5ECF6",
              "width": 0.5
             },
             "pattern": {
              "fillmode": "overlay",
              "size": 10,
              "solidity": 0.2
             }
            },
            "type": "barpolar"
           }
          ],
          "carpet": [
           {
            "aaxis": {
             "endlinecolor": "#2a3f5f",
             "gridcolor": "white",
             "linecolor": "white",
             "minorgridcolor": "white",
             "startlinecolor": "#2a3f5f"
            },
            "baxis": {
             "endlinecolor": "#2a3f5f",
             "gridcolor": "white",
             "linecolor": "white",
             "minorgridcolor": "white",
             "startlinecolor": "#2a3f5f"
            },
            "type": "carpet"
           }
          ],
          "choropleth": [
           {
            "colorbar": {
             "outlinewidth": 0,
             "ticks": ""
            },
            "type": "choropleth"
           }
          ],
          "contour": [
           {
            "colorbar": {
             "outlinewidth": 0,
             "ticks": ""
            },
            "colorscale": [
             [
              0,
              "#0d0887"
             ],
             [
              0.1111111111111111,
              "#46039f"
             ],
             [
              0.2222222222222222,
              "#7201a8"
             ],
             [
              0.3333333333333333,
              "#9c179e"
             ],
             [
              0.4444444444444444,
              "#bd3786"
             ],
             [
              0.5555555555555556,
              "#d8576b"
             ],
             [
              0.6666666666666666,
              "#ed7953"
             ],
             [
              0.7777777777777778,
              "#fb9f3a"
             ],
             [
              0.8888888888888888,
              "#fdca26"
             ],
             [
              1,
              "#f0f921"
             ]
            ],
            "type": "contour"
           }
          ],
          "contourcarpet": [
           {
            "colorbar": {
             "outlinewidth": 0,
             "ticks": ""
            },
            "type": "contourcarpet"
           }
          ],
          "heatmap": [
           {
            "colorbar": {
             "outlinewidth": 0,
             "ticks": ""
            },
            "colorscale": [
             [
              0,
              "#0d0887"
             ],
             [
              0.1111111111111111,
              "#46039f"
             ],
             [
              0.2222222222222222,
              "#7201a8"
             ],
             [
              0.3333333333333333,
              "#9c179e"
             ],
             [
              0.4444444444444444,
              "#bd3786"
             ],
             [
              0.5555555555555556,
              "#d8576b"
             ],
             [
              0.6666666666666666,
              "#ed7953"
             ],
             [
              0.7777777777777778,
              "#fb9f3a"
             ],
             [
              0.8888888888888888,
              "#fdca26"
             ],
             [
              1,
              "#f0f921"
             ]
            ],
            "type": "heatmap"
           }
          ],
          "heatmapgl": [
           {
            "colorbar": {
             "outlinewidth": 0,
             "ticks": ""
            },
            "colorscale": [
             [
              0,
              "#0d0887"
             ],
             [
              0.1111111111111111,
              "#46039f"
             ],
             [
              0.2222222222222222,
              "#7201a8"
             ],
             [
              0.3333333333333333,
              "#9c179e"
             ],
             [
              0.4444444444444444,
              "#bd3786"
             ],
             [
              0.5555555555555556,
              "#d8576b"
             ],
             [
              0.6666666666666666,
              "#ed7953"
             ],
             [
              0.7777777777777778,
              "#fb9f3a"
             ],
             [
              0.8888888888888888,
              "#fdca26"
             ],
             [
              1,
              "#f0f921"
             ]
            ],
            "type": "heatmapgl"
           }
          ],
          "histogram": [
           {
            "marker": {
             "pattern": {
              "fillmode": "overlay",
              "size": 10,
              "solidity": 0.2
             }
            },
            "type": "histogram"
           }
          ],
          "histogram2d": [
           {
            "colorbar": {
             "outlinewidth": 0,
             "ticks": ""
            },
            "colorscale": [
             [
              0,
              "#0d0887"
             ],
             [
              0.1111111111111111,
              "#46039f"
             ],
             [
              0.2222222222222222,
              "#7201a8"
             ],
             [
              0.3333333333333333,
              "#9c179e"
             ],
             [
              0.4444444444444444,
              "#bd3786"
             ],
             [
              0.5555555555555556,
              "#d8576b"
             ],
             [
              0.6666666666666666,
              "#ed7953"
             ],
             [
              0.7777777777777778,
              "#fb9f3a"
             ],
             [
              0.8888888888888888,
              "#fdca26"
             ],
             [
              1,
              "#f0f921"
             ]
            ],
            "type": "histogram2d"
           }
          ],
          "histogram2dcontour": [
           {
            "colorbar": {
             "outlinewidth": 0,
             "ticks": ""
            },
            "colorscale": [
             [
              0,
              "#0d0887"
             ],
             [
              0.1111111111111111,
              "#46039f"
             ],
             [
              0.2222222222222222,
              "#7201a8"
             ],
             [
              0.3333333333333333,
              "#9c179e"
             ],
             [
              0.4444444444444444,
              "#bd3786"
             ],
             [
              0.5555555555555556,
              "#d8576b"
             ],
             [
              0.6666666666666666,
              "#ed7953"
             ],
             [
              0.7777777777777778,
              "#fb9f3a"
             ],
             [
              0.8888888888888888,
              "#fdca26"
             ],
             [
              1,
              "#f0f921"
             ]
            ],
            "type": "histogram2dcontour"
           }
          ],
          "mesh3d": [
           {
            "colorbar": {
             "outlinewidth": 0,
             "ticks": ""
            },
            "type": "mesh3d"
           }
          ],
          "parcoords": [
           {
            "line": {
             "colorbar": {
              "outlinewidth": 0,
              "ticks": ""
             }
            },
            "type": "parcoords"
           }
          ],
          "pie": [
           {
            "automargin": true,
            "type": "pie"
           }
          ],
          "scatter": [
           {
            "fillpattern": {
             "fillmode": "overlay",
             "size": 10,
             "solidity": 0.2
            },
            "type": "scatter"
           }
          ],
          "scatter3d": [
           {
            "line": {
             "colorbar": {
              "outlinewidth": 0,
              "ticks": ""
             }
            },
            "marker": {
             "colorbar": {
              "outlinewidth": 0,
              "ticks": ""
             }
            },
            "type": "scatter3d"
           }
          ],
          "scattercarpet": [
           {
            "marker": {
             "colorbar": {
              "outlinewidth": 0,
              "ticks": ""
             }
            },
            "type": "scattercarpet"
           }
          ],
          "scattergeo": [
           {
            "marker": {
             "colorbar": {
              "outlinewidth": 0,
              "ticks": ""
             }
            },
            "type": "scattergeo"
           }
          ],
          "scattergl": [
           {
            "marker": {
             "colorbar": {
              "outlinewidth": 0,
              "ticks": ""
             }
            },
            "type": "scattergl"
           }
          ],
          "scattermapbox": [
           {
            "marker": {
             "colorbar": {
              "outlinewidth": 0,
              "ticks": ""
             }
            },
            "type": "scattermapbox"
           }
          ],
          "scatterpolar": [
           {
            "marker": {
             "colorbar": {
              "outlinewidth": 0,
              "ticks": ""
             }
            },
            "type": "scatterpolar"
           }
          ],
          "scatterpolargl": [
           {
            "marker": {
             "colorbar": {
              "outlinewidth": 0,
              "ticks": ""
             }
            },
            "type": "scatterpolargl"
           }
          ],
          "scatterternary": [
           {
            "marker": {
             "colorbar": {
              "outlinewidth": 0,
              "ticks": ""
             }
            },
            "type": "scatterternary"
           }
          ],
          "surface": [
           {
            "colorbar": {
             "outlinewidth": 0,
             "ticks": ""
            },
            "colorscale": [
             [
              0,
              "#0d0887"
             ],
             [
              0.1111111111111111,
              "#46039f"
             ],
             [
              0.2222222222222222,
              "#7201a8"
             ],
             [
              0.3333333333333333,
              "#9c179e"
             ],
             [
              0.4444444444444444,
              "#bd3786"
             ],
             [
              0.5555555555555556,
              "#d8576b"
             ],
             [
              0.6666666666666666,
              "#ed7953"
             ],
             [
              0.7777777777777778,
              "#fb9f3a"
             ],
             [
              0.8888888888888888,
              "#fdca26"
             ],
             [
              1,
              "#f0f921"
             ]
            ],
            "type": "surface"
           }
          ],
          "table": [
           {
            "cells": {
             "fill": {
              "color": "#EBF0F8"
             },
             "line": {
              "color": "white"
             }
            },
            "header": {
             "fill": {
              "color": "#C8D4E3"
             },
             "line": {
              "color": "white"
             }
            },
            "type": "table"
           }
          ]
         },
         "layout": {
          "annotationdefaults": {
           "arrowcolor": "#2a3f5f",
           "arrowhead": 0,
           "arrowwidth": 1
          },
          "autotypenumbers": "strict",
          "coloraxis": {
           "colorbar": {
            "outlinewidth": 0,
            "ticks": ""
           }
          },
          "colorscale": {
           "diverging": [
            [
             0,
             "#8e0152"
            ],
            [
             0.1,
             "#c51b7d"
            ],
            [
             0.2,
             "#de77ae"
            ],
            [
             0.3,
             "#f1b6da"
            ],
            [
             0.4,
             "#fde0ef"
            ],
            [
             0.5,
             "#f7f7f7"
            ],
            [
             0.6,
             "#e6f5d0"
            ],
            [
             0.7,
             "#b8e186"
            ],
            [
             0.8,
             "#7fbc41"
            ],
            [
             0.9,
             "#4d9221"
            ],
            [
             1,
             "#276419"
            ]
           ],
           "sequential": [
            [
             0,
             "#0d0887"
            ],
            [
             0.1111111111111111,
             "#46039f"
            ],
            [
             0.2222222222222222,
             "#7201a8"
            ],
            [
             0.3333333333333333,
             "#9c179e"
            ],
            [
             0.4444444444444444,
             "#bd3786"
            ],
            [
             0.5555555555555556,
             "#d8576b"
            ],
            [
             0.6666666666666666,
             "#ed7953"
            ],
            [
             0.7777777777777778,
             "#fb9f3a"
            ],
            [
             0.8888888888888888,
             "#fdca26"
            ],
            [
             1,
             "#f0f921"
            ]
           ],
           "sequentialminus": [
            [
             0,
             "#0d0887"
            ],
            [
             0.1111111111111111,
             "#46039f"
            ],
            [
             0.2222222222222222,
             "#7201a8"
            ],
            [
             0.3333333333333333,
             "#9c179e"
            ],
            [
             0.4444444444444444,
             "#bd3786"
            ],
            [
             0.5555555555555556,
             "#d8576b"
            ],
            [
             0.6666666666666666,
             "#ed7953"
            ],
            [
             0.7777777777777778,
             "#fb9f3a"
            ],
            [
             0.8888888888888888,
             "#fdca26"
            ],
            [
             1,
             "#f0f921"
            ]
           ]
          },
          "colorway": [
           "#636efa",
           "#EF553B",
           "#00cc96",
           "#ab63fa",
           "#FFA15A",
           "#19d3f3",
           "#FF6692",
           "#B6E880",
           "#FF97FF",
           "#FECB52"
          ],
          "font": {
           "color": "#2a3f5f"
          },
          "geo": {
           "bgcolor": "white",
           "lakecolor": "white",
           "landcolor": "#E5ECF6",
           "showlakes": true,
           "showland": true,
           "subunitcolor": "white"
          },
          "hoverlabel": {
           "align": "left"
          },
          "hovermode": "closest",
          "mapbox": {
           "style": "light"
          },
          "paper_bgcolor": "white",
          "plot_bgcolor": "#E5ECF6",
          "polar": {
           "angularaxis": {
            "gridcolor": "white",
            "linecolor": "white",
            "ticks": ""
           },
           "bgcolor": "#E5ECF6",
           "radialaxis": {
            "gridcolor": "white",
            "linecolor": "white",
            "ticks": ""
           }
          },
          "scene": {
           "xaxis": {
            "backgroundcolor": "#E5ECF6",
            "gridcolor": "white",
            "gridwidth": 2,
            "linecolor": "white",
            "showbackground": true,
            "ticks": "",
            "zerolinecolor": "white"
           },
           "yaxis": {
            "backgroundcolor": "#E5ECF6",
            "gridcolor": "white",
            "gridwidth": 2,
            "linecolor": "white",
            "showbackground": true,
            "ticks": "",
            "zerolinecolor": "white"
           },
           "zaxis": {
            "backgroundcolor": "#E5ECF6",
            "gridcolor": "white",
            "gridwidth": 2,
            "linecolor": "white",
            "showbackground": true,
            "ticks": "",
            "zerolinecolor": "white"
           }
          },
          "shapedefaults": {
           "line": {
            "color": "#2a3f5f"
           }
          },
          "ternary": {
           "aaxis": {
            "gridcolor": "white",
            "linecolor": "white",
            "ticks": ""
           },
           "baxis": {
            "gridcolor": "white",
            "linecolor": "white",
            "ticks": ""
           },
           "bgcolor": "#E5ECF6",
           "caxis": {
            "gridcolor": "white",
            "linecolor": "white",
            "ticks": ""
           }
          },
          "title": {
           "x": 0.05
          },
          "xaxis": {
           "automargin": true,
           "gridcolor": "white",
           "linecolor": "white",
           "ticks": "",
           "title": {
            "standoff": 15
           },
           "zerolinecolor": "white",
           "zerolinewidth": 2
          },
          "yaxis": {
           "automargin": true,
           "gridcolor": "white",
           "linecolor": "white",
           "ticks": "",
           "title": {
            "standoff": 15
           },
           "zerolinecolor": "white",
           "zerolinewidth": 2
          }
         }
        },
        "title": {
         "text": "drought 2.5 q1"
        },
        "width": 1600,
        "xaxis": {
         "linecolor": "rgb(102, 102, 102)",
         "showgrid": false,
         "showline": true,
         "showticklabels": true,
         "tickcolor": "rgb(102, 102, 102)",
         "tickfont": {
          "color": "rgb(102, 102, 102)"
         },
         "ticks": "outside"
        }
       }
      }
     },
     "metadata": {},
     "output_type": "display_data"
    },
    {
     "data": {
      "application/vnd.plotly.v1+json": {
       "config": {
        "plotlyServerURL": "https://plot.ly"
       },
       "data": [
        {
         "marker": {
          "color": "rgba(156, 165, 196, 0.95)",
          "line": {
           "width": 1
          },
          "size": 16,
          "symbol": "circle"
         },
         "mode": "markers",
         "name": "1",
         "type": "scatter",
         "x": [
          null,
          null,
          null,
          null,
          null,
          -63.5,
          null,
          null,
          null,
          -16.734,
          null,
          null,
          null,
          null,
          null,
          null,
          null,
          null,
          null,
          null,
          null,
          null,
          null,
          null,
          null,
          null,
          null,
          null,
          null,
          null,
          null,
          null,
          null,
          null,
          -80.527,
          null,
          null,
          null,
          null,
          null,
          -71.227,
          null,
          null,
          null,
          -39.343,
          null,
          null,
          null,
          null,
          null,
          null,
          null,
          null,
          null,
          null
         ],
         "y": [
          "AGO",
          "ALB",
          "ARM",
          "BEN",
          "BFA",
          "BGD",
          "BOL",
          "CIV",
          "CMR",
          "COD",
          "COM",
          "DOM",
          "EGY",
          "ETH",
          "GAB",
          "GHA",
          "GIN",
          "GMB",
          "GTM",
          "GUY",
          "HND",
          "HTI",
          "IND",
          "JOR",
          "KEN",
          "KGZ",
          "KHM",
          "LBR",
          "LSO",
          "MAR",
          "MDA",
          "MDG",
          "MLI",
          "MMR",
          "MOZ",
          "MRT",
          "MWI",
          "NAM",
          "NGA",
          "NIC",
          "PAK",
          "PER",
          "PHL",
          "SEN",
          "SLE",
          "SWZ",
          "TCD",
          "TGO",
          "TJK",
          "TLS",
          "TZA",
          "UGA",
          "ZAF",
          "ZMB",
          "ZWE"
         ]
        },
        {
         "marker": {
          "color": "rgba(156, 165, 196, 0.95)",
          "line": {
           "width": 1
          },
          "size": 16,
          "symbol": "circle"
         },
         "mode": "markers",
         "name": "2",
         "type": "scatter",
         "x": [
          -17.016,
          null,
          null,
          null,
          29.546,
          -64.024,
          null,
          -21.041,
          null,
          -18.041,
          null,
          null,
          null,
          null,
          null,
          null,
          null,
          null,
          null,
          null,
          null,
          -8.327,
          null,
          null,
          null,
          null,
          null,
          null,
          -15.8,
          null,
          null,
          null,
          null,
          null,
          -64.017,
          null,
          null,
          null,
          null,
          null,
          -72.705,
          null,
          null,
          null,
          -67.281,
          null,
          null,
          null,
          null,
          null,
          null,
          null,
          null,
          null,
          null
         ],
         "y": [
          "AGO",
          "ALB",
          "ARM",
          "BEN",
          "BFA",
          "BGD",
          "BOL",
          "CIV",
          "CMR",
          "COD",
          "COM",
          "DOM",
          "EGY",
          "ETH",
          "GAB",
          "GHA",
          "GIN",
          "GMB",
          "GTM",
          "GUY",
          "HND",
          "HTI",
          "IND",
          "JOR",
          "KEN",
          "KGZ",
          "KHM",
          "LBR",
          "LSO",
          "MAR",
          "MDA",
          "MDG",
          "MLI",
          "MMR",
          "MOZ",
          "MRT",
          "MWI",
          "NAM",
          "NGA",
          "NIC",
          "PAK",
          "PER",
          "PHL",
          "SEN",
          "SLE",
          "SWZ",
          "TCD",
          "TGO",
          "TJK",
          "TLS",
          "TZA",
          "UGA",
          "ZAF",
          "ZMB",
          "ZWE"
         ]
        },
        {
         "marker": {
          "color": "rgba(156, 165, 196, 0.95)",
          "line": {
           "width": 1
          },
          "size": 16,
          "symbol": "circle"
         },
         "mode": "markers",
         "name": "3",
         "type": "scatter",
         "x": [
          -20.366,
          null,
          null,
          null,
          31.471,
          -56.698,
          null,
          -50.075,
          null,
          -18.896,
          null,
          null,
          null,
          null,
          null,
          null,
          null,
          null,
          null,
          null,
          null,
          -8.275,
          null,
          null,
          null,
          null,
          15.269,
          null,
          -15.93,
          null,
          null,
          14.502,
          null,
          null,
          -65.625,
          null,
          null,
          null,
          null,
          null,
          -67.159,
          null,
          null,
          null,
          -64.664,
          null,
          null,
          null,
          null,
          null,
          null,
          null,
          null,
          null,
          null
         ],
         "y": [
          "AGO",
          "ALB",
          "ARM",
          "BEN",
          "BFA",
          "BGD",
          "BOL",
          "CIV",
          "CMR",
          "COD",
          "COM",
          "DOM",
          "EGY",
          "ETH",
          "GAB",
          "GHA",
          "GIN",
          "GMB",
          "GTM",
          "GUY",
          "HND",
          "HTI",
          "IND",
          "JOR",
          "KEN",
          "KGZ",
          "KHM",
          "LBR",
          "LSO",
          "MAR",
          "MDA",
          "MDG",
          "MLI",
          "MMR",
          "MOZ",
          "MRT",
          "MWI",
          "NAM",
          "NGA",
          "NIC",
          "PAK",
          "PER",
          "PHL",
          "SEN",
          "SLE",
          "SWZ",
          "TCD",
          "TGO",
          "TJK",
          "TLS",
          "TZA",
          "UGA",
          "ZAF",
          "ZMB",
          "ZWE"
         ]
        },
        {
         "marker": {
          "color": "rgba(156, 165, 196, 0.95)",
          "line": {
           "width": 1
          },
          "size": 16,
          "symbol": "circle"
         },
         "mode": "markers",
         "name": "4",
         "type": "scatter",
         "x": [
          -19.618,
          null,
          null,
          null,
          30.82,
          -62.853,
          -16.064,
          -49.794,
          null,
          -20.239,
          null,
          null,
          null,
          null,
          null,
          null,
          null,
          null,
          null,
          null,
          null,
          -8.275,
          null,
          null,
          null,
          null,
          11.28,
          33.419,
          -17.065,
          null,
          null,
          13.221,
          null,
          null,
          -65.033,
          null,
          null,
          null,
          null,
          null,
          -63.992,
          -9.486,
          null,
          null,
          -65.001,
          null,
          null,
          null,
          null,
          null,
          null,
          null,
          null,
          null,
          null
         ],
         "y": [
          "AGO",
          "ALB",
          "ARM",
          "BEN",
          "BFA",
          "BGD",
          "BOL",
          "CIV",
          "CMR",
          "COD",
          "COM",
          "DOM",
          "EGY",
          "ETH",
          "GAB",
          "GHA",
          "GIN",
          "GMB",
          "GTM",
          "GUY",
          "HND",
          "HTI",
          "IND",
          "JOR",
          "KEN",
          "KGZ",
          "KHM",
          "LBR",
          "LSO",
          "MAR",
          "MDA",
          "MDG",
          "MLI",
          "MMR",
          "MOZ",
          "MRT",
          "MWI",
          "NAM",
          "NGA",
          "NIC",
          "PAK",
          "PER",
          "PHL",
          "SEN",
          "SLE",
          "SWZ",
          "TCD",
          "TGO",
          "TJK",
          "TLS",
          "TZA",
          "UGA",
          "ZAF",
          "ZMB",
          "ZWE"
         ]
        },
        {
         "marker": {
          "color": "rgba(204, 204, 204, 0.95)",
          "line": {
           "width": 1
          },
          "size": 16,
          "symbol": "circle"
         },
         "mode": "markers",
         "name": "5",
         "type": "scatter",
         "x": [
          null,
          null,
          null,
          null,
          null,
          -3.011,
          null,
          null,
          null,
          null,
          null,
          null,
          null,
          null,
          -4.24,
          -6.776,
          -28.113,
          null,
          null,
          null,
          null,
          -4.395,
          null,
          null,
          null,
          null,
          -28.54,
          -22.754,
          -7.039,
          null,
          null,
          null,
          null,
          null,
          null,
          null,
          null,
          null,
          null,
          null,
          null,
          null,
          null,
          null,
          -11.416,
          null,
          null,
          null,
          null,
          null,
          null,
          -8.819,
          null,
          null,
          null
         ],
         "y": [
          "AGO",
          "ALB",
          "ARM",
          "BEN",
          "BFA",
          "BGD",
          "BOL",
          "CIV",
          "CMR",
          "COD",
          "COM",
          "DOM",
          "EGY",
          "ETH",
          "GAB",
          "GHA",
          "GIN",
          "GMB",
          "GTM",
          "GUY",
          "HND",
          "HTI",
          "IND",
          "JOR",
          "KEN",
          "KGZ",
          "KHM",
          "LBR",
          "LSO",
          "MAR",
          "MDA",
          "MDG",
          "MLI",
          "MMR",
          "MOZ",
          "MRT",
          "MWI",
          "NAM",
          "NGA",
          "NIC",
          "PAK",
          "PER",
          "PHL",
          "SEN",
          "SLE",
          "SWZ",
          "TCD",
          "TGO",
          "TJK",
          "TLS",
          "TZA",
          "UGA",
          "ZAF",
          "ZMB",
          "ZWE"
         ]
        },
        {
         "marker": {
          "color": "rgba(204, 204, 204, 0.95)",
          "line": {
           "width": 1
          },
          "size": 16,
          "symbol": "circle"
         },
         "mode": "markers",
         "name": "6",
         "type": "scatter",
         "x": [
          null,
          null,
          null,
          null,
          null,
          -5.911,
          null,
          null,
          null,
          null,
          null,
          null,
          null,
          null,
          -3.365,
          -5.062,
          null,
          null,
          null,
          null,
          null,
          -5.571,
          null,
          null,
          null,
          null,
          -28.888,
          -21.5,
          -6.493,
          null,
          null,
          null,
          null,
          null,
          null,
          null,
          null,
          null,
          null,
          null,
          null,
          null,
          null,
          null,
          -23.572,
          null,
          null,
          null,
          null,
          null,
          null,
          -8.435,
          null,
          null,
          null
         ],
         "y": [
          "AGO",
          "ALB",
          "ARM",
          "BEN",
          "BFA",
          "BGD",
          "BOL",
          "CIV",
          "CMR",
          "COD",
          "COM",
          "DOM",
          "EGY",
          "ETH",
          "GAB",
          "GHA",
          "GIN",
          "GMB",
          "GTM",
          "GUY",
          "HND",
          "HTI",
          "IND",
          "JOR",
          "KEN",
          "KGZ",
          "KHM",
          "LBR",
          "LSO",
          "MAR",
          "MDA",
          "MDG",
          "MLI",
          "MMR",
          "MOZ",
          "MRT",
          "MWI",
          "NAM",
          "NGA",
          "NIC",
          "PAK",
          "PER",
          "PHL",
          "SEN",
          "SLE",
          "SWZ",
          "TCD",
          "TGO",
          "TJK",
          "TLS",
          "TZA",
          "UGA",
          "ZAF",
          "ZMB",
          "ZWE"
         ]
        },
        {
         "marker": {
          "color": "rgba(204, 204, 204, 0.95)",
          "line": {
           "width": 1
          },
          "size": 16,
          "symbol": "circle"
         },
         "mode": "markers",
         "name": "7",
         "type": "scatter",
         "x": [
          null,
          null,
          null,
          null,
          null,
          -6.901,
          -11.19,
          -16.081,
          null,
          null,
          null,
          null,
          null,
          null,
          null,
          -5.61,
          -28.358,
          null,
          null,
          null,
          null,
          -5.518,
          null,
          null,
          null,
          null,
          -30.451,
          -21.428,
          -5.418,
          null,
          null,
          null,
          null,
          null,
          null,
          null,
          null,
          null,
          null,
          null,
          null,
          null,
          -2.239,
          null,
          -18.881,
          null,
          14.963,
          null,
          null,
          null,
          null,
          -8.408,
          null,
          null,
          null
         ],
         "y": [
          "AGO",
          "ALB",
          "ARM",
          "BEN",
          "BFA",
          "BGD",
          "BOL",
          "CIV",
          "CMR",
          "COD",
          "COM",
          "DOM",
          "EGY",
          "ETH",
          "GAB",
          "GHA",
          "GIN",
          "GMB",
          "GTM",
          "GUY",
          "HND",
          "HTI",
          "IND",
          "JOR",
          "KEN",
          "KGZ",
          "KHM",
          "LBR",
          "LSO",
          "MAR",
          "MDA",
          "MDG",
          "MLI",
          "MMR",
          "MOZ",
          "MRT",
          "MWI",
          "NAM",
          "NGA",
          "NIC",
          "PAK",
          "PER",
          "PHL",
          "SEN",
          "SLE",
          "SWZ",
          "TCD",
          "TGO",
          "TJK",
          "TLS",
          "TZA",
          "UGA",
          "ZAF",
          "ZMB",
          "ZWE"
         ]
        },
        {
         "marker": {
          "color": "rgba(204, 204, 204, 0.95)",
          "line": {
           "width": 1
          },
          "size": 16,
          "symbol": "circle"
         },
         "mode": "markers",
         "name": "8",
         "type": "scatter",
         "x": [
          null,
          null,
          null,
          null,
          null,
          -9.65,
          -11.239,
          -9.876,
          null,
          null,
          null,
          null,
          null,
          null,
          -4.093,
          -5.886,
          -26.725,
          null,
          null,
          null,
          null,
          -5.518,
          null,
          null,
          null,
          null,
          -29.943,
          -23.559,
          -5.567,
          null,
          null,
          null,
          null,
          null,
          null,
          null,
          null,
          null,
          null,
          null,
          78.899,
          null,
          -1.659,
          null,
          -18.916,
          null,
          14.601,
          null,
          null,
          null,
          null,
          -7.81,
          null,
          null,
          null
         ],
         "y": [
          "AGO",
          "ALB",
          "ARM",
          "BEN",
          "BFA",
          "BGD",
          "BOL",
          "CIV",
          "CMR",
          "COD",
          "COM",
          "DOM",
          "EGY",
          "ETH",
          "GAB",
          "GHA",
          "GIN",
          "GMB",
          "GTM",
          "GUY",
          "HND",
          "HTI",
          "IND",
          "JOR",
          "KEN",
          "KGZ",
          "KHM",
          "LBR",
          "LSO",
          "MAR",
          "MDA",
          "MDG",
          "MLI",
          "MMR",
          "MOZ",
          "MRT",
          "MWI",
          "NAM",
          "NGA",
          "NIC",
          "PAK",
          "PER",
          "PHL",
          "SEN",
          "SLE",
          "SWZ",
          "TCD",
          "TGO",
          "TJK",
          "TLS",
          "TZA",
          "UGA",
          "ZAF",
          "ZMB",
          "ZWE"
         ]
        },
        {
         "marker": {
          "color": "rgba(255, 166, 86, 0.95)",
          "line": {
           "width": 1
          },
          "size": 16,
          "symbol": "circle"
         },
         "mode": "markers",
         "name": "9",
         "type": "scatter",
         "x": [
          null,
          null,
          null,
          null,
          -34.911,
          -5.679,
          null,
          null,
          null,
          null,
          null,
          null,
          null,
          null,
          null,
          null,
          null,
          null,
          null,
          null,
          null,
          null,
          null,
          null,
          null,
          null,
          -12.378,
          null,
          null,
          null,
          null,
          null,
          null,
          null,
          null,
          null,
          null,
          null,
          null,
          null,
          null,
          null,
          null,
          -18.414,
          -19.932,
          null,
          null,
          null,
          null,
          null,
          -23.209,
          -8.471,
          null,
          null,
          null
         ],
         "y": [
          "AGO",
          "ALB",
          "ARM",
          "BEN",
          "BFA",
          "BGD",
          "BOL",
          "CIV",
          "CMR",
          "COD",
          "COM",
          "DOM",
          "EGY",
          "ETH",
          "GAB",
          "GHA",
          "GIN",
          "GMB",
          "GTM",
          "GUY",
          "HND",
          "HTI",
          "IND",
          "JOR",
          "KEN",
          "KGZ",
          "KHM",
          "LBR",
          "LSO",
          "MAR",
          "MDA",
          "MDG",
          "MLI",
          "MMR",
          "MOZ",
          "MRT",
          "MWI",
          "NAM",
          "NGA",
          "NIC",
          "PAK",
          "PER",
          "PHL",
          "SEN",
          "SLE",
          "SWZ",
          "TCD",
          "TGO",
          "TJK",
          "TLS",
          "TZA",
          "UGA",
          "ZAF",
          "ZMB",
          "ZWE"
         ]
        },
        {
         "marker": {
          "color": "rgba(255, 166, 86, 0.95)",
          "line": {
           "width": 1
          },
          "size": 16,
          "symbol": "circle"
         },
         "mode": "markers",
         "name": "10",
         "type": "scatter",
         "x": [
          null,
          null,
          null,
          null,
          -36.173,
          -6.378,
          null,
          null,
          null,
          null,
          null,
          null,
          null,
          null,
          null,
          -9.41,
          null,
          null,
          null,
          null,
          null,
          5.287,
          null,
          null,
          null,
          null,
          -12.803,
          null,
          null,
          null,
          null,
          null,
          null,
          null,
          -13.721,
          null,
          null,
          null,
          null,
          null,
          null,
          null,
          null,
          -16.493,
          -28.232,
          null,
          null,
          null,
          null,
          null,
          -26.192,
          -8.641,
          null,
          null,
          null
         ],
         "y": [
          "AGO",
          "ALB",
          "ARM",
          "BEN",
          "BFA",
          "BGD",
          "BOL",
          "CIV",
          "CMR",
          "COD",
          "COM",
          "DOM",
          "EGY",
          "ETH",
          "GAB",
          "GHA",
          "GIN",
          "GMB",
          "GTM",
          "GUY",
          "HND",
          "HTI",
          "IND",
          "JOR",
          "KEN",
          "KGZ",
          "KHM",
          "LBR",
          "LSO",
          "MAR",
          "MDA",
          "MDG",
          "MLI",
          "MMR",
          "MOZ",
          "MRT",
          "MWI",
          "NAM",
          "NGA",
          "NIC",
          "PAK",
          "PER",
          "PHL",
          "SEN",
          "SLE",
          "SWZ",
          "TCD",
          "TGO",
          "TJK",
          "TLS",
          "TZA",
          "UGA",
          "ZAF",
          "ZMB",
          "ZWE"
         ]
        },
        {
         "marker": {
          "color": "rgba(255, 166, 86, 0.95)",
          "line": {
           "width": 1
          },
          "size": 16,
          "symbol": "circle"
         },
         "mode": "markers",
         "name": "11",
         "type": "scatter",
         "x": [
          null,
          null,
          null,
          null,
          -36.178,
          -5.425,
          -4.159,
          -6.789,
          null,
          null,
          null,
          null,
          null,
          null,
          -7.121,
          -9.889,
          -22.335,
          null,
          null,
          null,
          null,
          5.245,
          null,
          null,
          null,
          null,
          -12.468,
          null,
          null,
          null,
          null,
          null,
          null,
          12.952,
          -5.162,
          null,
          null,
          null,
          19.093,
          null,
          -4.818,
          null,
          null,
          -14.56,
          -28.805,
          null,
          null,
          null,
          null,
          null,
          -22.171,
          -11.468,
          null,
          null,
          null
         ],
         "y": [
          "AGO",
          "ALB",
          "ARM",
          "BEN",
          "BFA",
          "BGD",
          "BOL",
          "CIV",
          "CMR",
          "COD",
          "COM",
          "DOM",
          "EGY",
          "ETH",
          "GAB",
          "GHA",
          "GIN",
          "GMB",
          "GTM",
          "GUY",
          "HND",
          "HTI",
          "IND",
          "JOR",
          "KEN",
          "KGZ",
          "KHM",
          "LBR",
          "LSO",
          "MAR",
          "MDA",
          "MDG",
          "MLI",
          "MMR",
          "MOZ",
          "MRT",
          "MWI",
          "NAM",
          "NGA",
          "NIC",
          "PAK",
          "PER",
          "PHL",
          "SEN",
          "SLE",
          "SWZ",
          "TCD",
          "TGO",
          "TJK",
          "TLS",
          "TZA",
          "UGA",
          "ZAF",
          "ZMB",
          "ZWE"
         ]
        },
        {
         "marker": {
          "color": "rgba(255, 166, 86, 0.95)",
          "line": {
           "width": 1
          },
          "size": 16,
          "symbol": "circle"
         },
         "mode": "markers",
         "name": "12",
         "type": "scatter",
         "x": [
          null,
          null,
          null,
          null,
          -35.423,
          -7.771,
          -3.959,
          null,
          null,
          null,
          null,
          null,
          null,
          null,
          -5.727,
          -10.738,
          -18.922,
          null,
          null,
          null,
          null,
          5.245,
          null,
          null,
          null,
          null,
          -9.768,
          null,
          null,
          null,
          null,
          null,
          null,
          12.245,
          -3.24,
          null,
          14.841,
          null,
          19.847,
          null,
          -5.312,
          -3.259,
          null,
          -13.412,
          -28.822,
          null,
          null,
          null,
          null,
          null,
          -21.78,
          -12.839,
          null,
          null,
          null
         ],
         "y": [
          "AGO",
          "ALB",
          "ARM",
          "BEN",
          "BFA",
          "BGD",
          "BOL",
          "CIV",
          "CMR",
          "COD",
          "COM",
          "DOM",
          "EGY",
          "ETH",
          "GAB",
          "GHA",
          "GIN",
          "GMB",
          "GTM",
          "GUY",
          "HND",
          "HTI",
          "IND",
          "JOR",
          "KEN",
          "KGZ",
          "KHM",
          "LBR",
          "LSO",
          "MAR",
          "MDA",
          "MDG",
          "MLI",
          "MMR",
          "MOZ",
          "MRT",
          "MWI",
          "NAM",
          "NGA",
          "NIC",
          "PAK",
          "PER",
          "PHL",
          "SEN",
          "SLE",
          "SWZ",
          "TCD",
          "TGO",
          "TJK",
          "TLS",
          "TZA",
          "UGA",
          "ZAF",
          "ZMB",
          "ZWE"
         ]
        },
        {
         "marker": {
          "color": "rgba(240, 230, 140, 0.95)",
          "line": {
           "width": 1
          },
          "size": 16,
          "symbol": "circle"
         },
         "mode": "markers",
         "name": "13",
         "type": "scatter",
         "x": [
          null,
          null,
          null,
          null,
          null,
          -5.179,
          null,
          null,
          null,
          null,
          null,
          null,
          null,
          19.523,
          -10.564,
          -18.784,
          null,
          null,
          null,
          null,
          null,
          null,
          null,
          null,
          null,
          null,
          -7.121,
          null,
          null,
          null,
          null,
          -12.276,
          null,
          null,
          null,
          null,
          null,
          null,
          null,
          null,
          null,
          null,
          null,
          -27.477,
          -29.868,
          null,
          null,
          null,
          null,
          null,
          null,
          -19.755,
          null,
          null,
          null
         ],
         "y": [
          "AGO",
          "ALB",
          "ARM",
          "BEN",
          "BFA",
          "BGD",
          "BOL",
          "CIV",
          "CMR",
          "COD",
          "COM",
          "DOM",
          "EGY",
          "ETH",
          "GAB",
          "GHA",
          "GIN",
          "GMB",
          "GTM",
          "GUY",
          "HND",
          "HTI",
          "IND",
          "JOR",
          "KEN",
          "KGZ",
          "KHM",
          "LBR",
          "LSO",
          "MAR",
          "MDA",
          "MDG",
          "MLI",
          "MMR",
          "MOZ",
          "MRT",
          "MWI",
          "NAM",
          "NGA",
          "NIC",
          "PAK",
          "PER",
          "PHL",
          "SEN",
          "SLE",
          "SWZ",
          "TCD",
          "TGO",
          "TJK",
          "TLS",
          "TZA",
          "UGA",
          "ZAF",
          "ZMB",
          "ZWE"
         ]
        },
        {
         "marker": {
          "color": "rgba(240, 230, 140, 0.95)",
          "line": {
           "width": 1
          },
          "size": 16,
          "symbol": "circle"
         },
         "mode": "markers",
         "name": "14",
         "type": "scatter",
         "x": [
          null,
          null,
          null,
          null,
          null,
          -3.871,
          null,
          -10.354,
          null,
          null,
          null,
          null,
          null,
          18.346,
          -9.111,
          -18.861,
          null,
          null,
          null,
          null,
          null,
          -1.208,
          null,
          null,
          null,
          null,
          -9.72,
          null,
          null,
          null,
          null,
          -11.496,
          null,
          null,
          null,
          null,
          null,
          null,
          null,
          null,
          null,
          null,
          -3.522,
          -24.868,
          -61.261,
          null,
          null,
          null,
          null,
          null,
          null,
          -20.709,
          null,
          null,
          null
         ],
         "y": [
          "AGO",
          "ALB",
          "ARM",
          "BEN",
          "BFA",
          "BGD",
          "BOL",
          "CIV",
          "CMR",
          "COD",
          "COM",
          "DOM",
          "EGY",
          "ETH",
          "GAB",
          "GHA",
          "GIN",
          "GMB",
          "GTM",
          "GUY",
          "HND",
          "HTI",
          "IND",
          "JOR",
          "KEN",
          "KGZ",
          "KHM",
          "LBR",
          "LSO",
          "MAR",
          "MDA",
          "MDG",
          "MLI",
          "MMR",
          "MOZ",
          "MRT",
          "MWI",
          "NAM",
          "NGA",
          "NIC",
          "PAK",
          "PER",
          "PHL",
          "SEN",
          "SLE",
          "SWZ",
          "TCD",
          "TGO",
          "TJK",
          "TLS",
          "TZA",
          "UGA",
          "ZAF",
          "ZMB",
          "ZWE"
         ]
        },
        {
         "marker": {
          "color": "rgba(240, 230, 140, 0.95)",
          "line": {
           "width": 1
          },
          "size": 16,
          "symbol": "circle"
         },
         "mode": "markers",
         "name": "15",
         "type": "scatter",
         "x": [
          null,
          null,
          null,
          null,
          null,
          -4.432,
          null,
          -18.356,
          9.635,
          null,
          null,
          null,
          null,
          18.667,
          -8.121,
          -19.671,
          -42.729,
          null,
          null,
          null,
          null,
          -1.11,
          null,
          null,
          null,
          null,
          -11.199,
          62.393,
          null,
          null,
          null,
          -11.49,
          null,
          -7.474,
          null,
          null,
          null,
          null,
          null,
          null,
          -12.797,
          null,
          -3.919,
          -23.806,
          -57.873,
          null,
          null,
          null,
          null,
          null,
          null,
          -19.162,
          null,
          null,
          null
         ],
         "y": [
          "AGO",
          "ALB",
          "ARM",
          "BEN",
          "BFA",
          "BGD",
          "BOL",
          "CIV",
          "CMR",
          "COD",
          "COM",
          "DOM",
          "EGY",
          "ETH",
          "GAB",
          "GHA",
          "GIN",
          "GMB",
          "GTM",
          "GUY",
          "HND",
          "HTI",
          "IND",
          "JOR",
          "KEN",
          "KGZ",
          "KHM",
          "LBR",
          "LSO",
          "MAR",
          "MDA",
          "MDG",
          "MLI",
          "MMR",
          "MOZ",
          "MRT",
          "MWI",
          "NAM",
          "NGA",
          "NIC",
          "PAK",
          "PER",
          "PHL",
          "SEN",
          "SLE",
          "SWZ",
          "TCD",
          "TGO",
          "TJK",
          "TLS",
          "TZA",
          "UGA",
          "ZAF",
          "ZMB",
          "ZWE"
         ]
        },
        {
         "marker": {
          "color": "rgba(240, 230, 140, 0.95)",
          "line": {
           "width": 1
          },
          "size": 16,
          "symbol": "circle"
         },
         "mode": "markers",
         "name": "16",
         "type": "scatter",
         "x": [
          null,
          null,
          null,
          null,
          null,
          -9.488,
          null,
          -22.177,
          10.48,
          null,
          null,
          null,
          null,
          17.578,
          -10.745,
          -19.911,
          -35.778,
          null,
          null,
          null,
          null,
          -1.11,
          null,
          null,
          null,
          null,
          -13.545,
          57.429,
          null,
          null,
          null,
          -12.66,
          null,
          -9.038,
          null,
          null,
          null,
          null,
          null,
          null,
          -12.213,
          -2.655,
          -3.798,
          -23.311,
          -57.088,
          null,
          null,
          null,
          null,
          null,
          null,
          -19.262,
          null,
          null,
          null
         ],
         "y": [
          "AGO",
          "ALB",
          "ARM",
          "BEN",
          "BFA",
          "BGD",
          "BOL",
          "CIV",
          "CMR",
          "COD",
          "COM",
          "DOM",
          "EGY",
          "ETH",
          "GAB",
          "GHA",
          "GIN",
          "GMB",
          "GTM",
          "GUY",
          "HND",
          "HTI",
          "IND",
          "JOR",
          "KEN",
          "KGZ",
          "KHM",
          "LBR",
          "LSO",
          "MAR",
          "MDA",
          "MDG",
          "MLI",
          "MMR",
          "MOZ",
          "MRT",
          "MWI",
          "NAM",
          "NGA",
          "NIC",
          "PAK",
          "PER",
          "PHL",
          "SEN",
          "SLE",
          "SWZ",
          "TCD",
          "TGO",
          "TJK",
          "TLS",
          "TZA",
          "UGA",
          "ZAF",
          "ZMB",
          "ZWE"
         ]
        }
       ],
       "layout": {
        "height": 600,
        "hovermode": "closest",
        "legend": {
         "font": {
          "size": 10
         },
         "xanchor": "center",
         "yanchor": "top"
        },
        "margin": {
         "b": 50,
         "l": 140,
         "r": 40,
         "t": 80
        },
        "paper_bgcolor": "white",
        "plot_bgcolor": "white",
        "shapes": [
         {
          "line": {
           "color": "red",
           "dash": "dashdot",
           "width": 2
          },
          "type": "line",
          "x0": 0,
          "x1": 0,
          "y0": 0,
          "y1": 55
         }
        ],
        "template": {
         "data": {
          "bar": [
           {
            "error_x": {
             "color": "#2a3f5f"
            },
            "error_y": {
             "color": "#2a3f5f"
            },
            "marker": {
             "line": {
              "color": "#E5ECF6",
              "width": 0.5
             },
             "pattern": {
              "fillmode": "overlay",
              "size": 10,
              "solidity": 0.2
             }
            },
            "type": "bar"
           }
          ],
          "barpolar": [
           {
            "marker": {
             "line": {
              "color": "#E5ECF6",
              "width": 0.5
             },
             "pattern": {
              "fillmode": "overlay",
              "size": 10,
              "solidity": 0.2
             }
            },
            "type": "barpolar"
           }
          ],
          "carpet": [
           {
            "aaxis": {
             "endlinecolor": "#2a3f5f",
             "gridcolor": "white",
             "linecolor": "white",
             "minorgridcolor": "white",
             "startlinecolor": "#2a3f5f"
            },
            "baxis": {
             "endlinecolor": "#2a3f5f",
             "gridcolor": "white",
             "linecolor": "white",
             "minorgridcolor": "white",
             "startlinecolor": "#2a3f5f"
            },
            "type": "carpet"
           }
          ],
          "choropleth": [
           {
            "colorbar": {
             "outlinewidth": 0,
             "ticks": ""
            },
            "type": "choropleth"
           }
          ],
          "contour": [
           {
            "colorbar": {
             "outlinewidth": 0,
             "ticks": ""
            },
            "colorscale": [
             [
              0,
              "#0d0887"
             ],
             [
              0.1111111111111111,
              "#46039f"
             ],
             [
              0.2222222222222222,
              "#7201a8"
             ],
             [
              0.3333333333333333,
              "#9c179e"
             ],
             [
              0.4444444444444444,
              "#bd3786"
             ],
             [
              0.5555555555555556,
              "#d8576b"
             ],
             [
              0.6666666666666666,
              "#ed7953"
             ],
             [
              0.7777777777777778,
              "#fb9f3a"
             ],
             [
              0.8888888888888888,
              "#fdca26"
             ],
             [
              1,
              "#f0f921"
             ]
            ],
            "type": "contour"
           }
          ],
          "contourcarpet": [
           {
            "colorbar": {
             "outlinewidth": 0,
             "ticks": ""
            },
            "type": "contourcarpet"
           }
          ],
          "heatmap": [
           {
            "colorbar": {
             "outlinewidth": 0,
             "ticks": ""
            },
            "colorscale": [
             [
              0,
              "#0d0887"
             ],
             [
              0.1111111111111111,
              "#46039f"
             ],
             [
              0.2222222222222222,
              "#7201a8"
             ],
             [
              0.3333333333333333,
              "#9c179e"
             ],
             [
              0.4444444444444444,
              "#bd3786"
             ],
             [
              0.5555555555555556,
              "#d8576b"
             ],
             [
              0.6666666666666666,
              "#ed7953"
             ],
             [
              0.7777777777777778,
              "#fb9f3a"
             ],
             [
              0.8888888888888888,
              "#fdca26"
             ],
             [
              1,
              "#f0f921"
             ]
            ],
            "type": "heatmap"
           }
          ],
          "heatmapgl": [
           {
            "colorbar": {
             "outlinewidth": 0,
             "ticks": ""
            },
            "colorscale": [
             [
              0,
              "#0d0887"
             ],
             [
              0.1111111111111111,
              "#46039f"
             ],
             [
              0.2222222222222222,
              "#7201a8"
             ],
             [
              0.3333333333333333,
              "#9c179e"
             ],
             [
              0.4444444444444444,
              "#bd3786"
             ],
             [
              0.5555555555555556,
              "#d8576b"
             ],
             [
              0.6666666666666666,
              "#ed7953"
             ],
             [
              0.7777777777777778,
              "#fb9f3a"
             ],
             [
              0.8888888888888888,
              "#fdca26"
             ],
             [
              1,
              "#f0f921"
             ]
            ],
            "type": "heatmapgl"
           }
          ],
          "histogram": [
           {
            "marker": {
             "pattern": {
              "fillmode": "overlay",
              "size": 10,
              "solidity": 0.2
             }
            },
            "type": "histogram"
           }
          ],
          "histogram2d": [
           {
            "colorbar": {
             "outlinewidth": 0,
             "ticks": ""
            },
            "colorscale": [
             [
              0,
              "#0d0887"
             ],
             [
              0.1111111111111111,
              "#46039f"
             ],
             [
              0.2222222222222222,
              "#7201a8"
             ],
             [
              0.3333333333333333,
              "#9c179e"
             ],
             [
              0.4444444444444444,
              "#bd3786"
             ],
             [
              0.5555555555555556,
              "#d8576b"
             ],
             [
              0.6666666666666666,
              "#ed7953"
             ],
             [
              0.7777777777777778,
              "#fb9f3a"
             ],
             [
              0.8888888888888888,
              "#fdca26"
             ],
             [
              1,
              "#f0f921"
             ]
            ],
            "type": "histogram2d"
           }
          ],
          "histogram2dcontour": [
           {
            "colorbar": {
             "outlinewidth": 0,
             "ticks": ""
            },
            "colorscale": [
             [
              0,
              "#0d0887"
             ],
             [
              0.1111111111111111,
              "#46039f"
             ],
             [
              0.2222222222222222,
              "#7201a8"
             ],
             [
              0.3333333333333333,
              "#9c179e"
             ],
             [
              0.4444444444444444,
              "#bd3786"
             ],
             [
              0.5555555555555556,
              "#d8576b"
             ],
             [
              0.6666666666666666,
              "#ed7953"
             ],
             [
              0.7777777777777778,
              "#fb9f3a"
             ],
             [
              0.8888888888888888,
              "#fdca26"
             ],
             [
              1,
              "#f0f921"
             ]
            ],
            "type": "histogram2dcontour"
           }
          ],
          "mesh3d": [
           {
            "colorbar": {
             "outlinewidth": 0,
             "ticks": ""
            },
            "type": "mesh3d"
           }
          ],
          "parcoords": [
           {
            "line": {
             "colorbar": {
              "outlinewidth": 0,
              "ticks": ""
             }
            },
            "type": "parcoords"
           }
          ],
          "pie": [
           {
            "automargin": true,
            "type": "pie"
           }
          ],
          "scatter": [
           {
            "fillpattern": {
             "fillmode": "overlay",
             "size": 10,
             "solidity": 0.2
            },
            "type": "scatter"
           }
          ],
          "scatter3d": [
           {
            "line": {
             "colorbar": {
              "outlinewidth": 0,
              "ticks": ""
             }
            },
            "marker": {
             "colorbar": {
              "outlinewidth": 0,
              "ticks": ""
             }
            },
            "type": "scatter3d"
           }
          ],
          "scattercarpet": [
           {
            "marker": {
             "colorbar": {
              "outlinewidth": 0,
              "ticks": ""
             }
            },
            "type": "scattercarpet"
           }
          ],
          "scattergeo": [
           {
            "marker": {
             "colorbar": {
              "outlinewidth": 0,
              "ticks": ""
             }
            },
            "type": "scattergeo"
           }
          ],
          "scattergl": [
           {
            "marker": {
             "colorbar": {
              "outlinewidth": 0,
              "ticks": ""
             }
            },
            "type": "scattergl"
           }
          ],
          "scattermapbox": [
           {
            "marker": {
             "colorbar": {
              "outlinewidth": 0,
              "ticks": ""
             }
            },
            "type": "scattermapbox"
           }
          ],
          "scatterpolar": [
           {
            "marker": {
             "colorbar": {
              "outlinewidth": 0,
              "ticks": ""
             }
            },
            "type": "scatterpolar"
           }
          ],
          "scatterpolargl": [
           {
            "marker": {
             "colorbar": {
              "outlinewidth": 0,
              "ticks": ""
             }
            },
            "type": "scatterpolargl"
           }
          ],
          "scatterternary": [
           {
            "marker": {
             "colorbar": {
              "outlinewidth": 0,
              "ticks": ""
             }
            },
            "type": "scatterternary"
           }
          ],
          "surface": [
           {
            "colorbar": {
             "outlinewidth": 0,
             "ticks": ""
            },
            "colorscale": [
             [
              0,
              "#0d0887"
             ],
             [
              0.1111111111111111,
              "#46039f"
             ],
             [
              0.2222222222222222,
              "#7201a8"
             ],
             [
              0.3333333333333333,
              "#9c179e"
             ],
             [
              0.4444444444444444,
              "#bd3786"
             ],
             [
              0.5555555555555556,
              "#d8576b"
             ],
             [
              0.6666666666666666,
              "#ed7953"
             ],
             [
              0.7777777777777778,
              "#fb9f3a"
             ],
             [
              0.8888888888888888,
              "#fdca26"
             ],
             [
              1,
              "#f0f921"
             ]
            ],
            "type": "surface"
           }
          ],
          "table": [
           {
            "cells": {
             "fill": {
              "color": "#EBF0F8"
             },
             "line": {
              "color": "white"
             }
            },
            "header": {
             "fill": {
              "color": "#C8D4E3"
             },
             "line": {
              "color": "white"
             }
            },
            "type": "table"
           }
          ]
         },
         "layout": {
          "annotationdefaults": {
           "arrowcolor": "#2a3f5f",
           "arrowhead": 0,
           "arrowwidth": 1
          },
          "autotypenumbers": "strict",
          "coloraxis": {
           "colorbar": {
            "outlinewidth": 0,
            "ticks": ""
           }
          },
          "colorscale": {
           "diverging": [
            [
             0,
             "#8e0152"
            ],
            [
             0.1,
             "#c51b7d"
            ],
            [
             0.2,
             "#de77ae"
            ],
            [
             0.3,
             "#f1b6da"
            ],
            [
             0.4,
             "#fde0ef"
            ],
            [
             0.5,
             "#f7f7f7"
            ],
            [
             0.6,
             "#e6f5d0"
            ],
            [
             0.7,
             "#b8e186"
            ],
            [
             0.8,
             "#7fbc41"
            ],
            [
             0.9,
             "#4d9221"
            ],
            [
             1,
             "#276419"
            ]
           ],
           "sequential": [
            [
             0,
             "#0d0887"
            ],
            [
             0.1111111111111111,
             "#46039f"
            ],
            [
             0.2222222222222222,
             "#7201a8"
            ],
            [
             0.3333333333333333,
             "#9c179e"
            ],
            [
             0.4444444444444444,
             "#bd3786"
            ],
            [
             0.5555555555555556,
             "#d8576b"
            ],
            [
             0.6666666666666666,
             "#ed7953"
            ],
            [
             0.7777777777777778,
             "#fb9f3a"
            ],
            [
             0.8888888888888888,
             "#fdca26"
            ],
            [
             1,
             "#f0f921"
            ]
           ],
           "sequentialminus": [
            [
             0,
             "#0d0887"
            ],
            [
             0.1111111111111111,
             "#46039f"
            ],
            [
             0.2222222222222222,
             "#7201a8"
            ],
            [
             0.3333333333333333,
             "#9c179e"
            ],
            [
             0.4444444444444444,
             "#bd3786"
            ],
            [
             0.5555555555555556,
             "#d8576b"
            ],
            [
             0.6666666666666666,
             "#ed7953"
            ],
            [
             0.7777777777777778,
             "#fb9f3a"
            ],
            [
             0.8888888888888888,
             "#fdca26"
            ],
            [
             1,
             "#f0f921"
            ]
           ]
          },
          "colorway": [
           "#636efa",
           "#EF553B",
           "#00cc96",
           "#ab63fa",
           "#FFA15A",
           "#19d3f3",
           "#FF6692",
           "#B6E880",
           "#FF97FF",
           "#FECB52"
          ],
          "font": {
           "color": "#2a3f5f"
          },
          "geo": {
           "bgcolor": "white",
           "lakecolor": "white",
           "landcolor": "#E5ECF6",
           "showlakes": true,
           "showland": true,
           "subunitcolor": "white"
          },
          "hoverlabel": {
           "align": "left"
          },
          "hovermode": "closest",
          "mapbox": {
           "style": "light"
          },
          "paper_bgcolor": "white",
          "plot_bgcolor": "#E5ECF6",
          "polar": {
           "angularaxis": {
            "gridcolor": "white",
            "linecolor": "white",
            "ticks": ""
           },
           "bgcolor": "#E5ECF6",
           "radialaxis": {
            "gridcolor": "white",
            "linecolor": "white",
            "ticks": ""
           }
          },
          "scene": {
           "xaxis": {
            "backgroundcolor": "#E5ECF6",
            "gridcolor": "white",
            "gridwidth": 2,
            "linecolor": "white",
            "showbackground": true,
            "ticks": "",
            "zerolinecolor": "white"
           },
           "yaxis": {
            "backgroundcolor": "#E5ECF6",
            "gridcolor": "white",
            "gridwidth": 2,
            "linecolor": "white",
            "showbackground": true,
            "ticks": "",
            "zerolinecolor": "white"
           },
           "zaxis": {
            "backgroundcolor": "#E5ECF6",
            "gridcolor": "white",
            "gridwidth": 2,
            "linecolor": "white",
            "showbackground": true,
            "ticks": "",
            "zerolinecolor": "white"
           }
          },
          "shapedefaults": {
           "line": {
            "color": "#2a3f5f"
           }
          },
          "ternary": {
           "aaxis": {
            "gridcolor": "white",
            "linecolor": "white",
            "ticks": ""
           },
           "baxis": {
            "gridcolor": "white",
            "linecolor": "white",
            "ticks": ""
           },
           "bgcolor": "#E5ECF6",
           "caxis": {
            "gridcolor": "white",
            "linecolor": "white",
            "ticks": ""
           }
          },
          "title": {
           "x": 0.05
          },
          "xaxis": {
           "automargin": true,
           "gridcolor": "white",
           "linecolor": "white",
           "ticks": "",
           "title": {
            "standoff": 15
           },
           "zerolinecolor": "white",
           "zerolinewidth": 2
          },
          "yaxis": {
           "automargin": true,
           "gridcolor": "white",
           "linecolor": "white",
           "ticks": "",
           "title": {
            "standoff": 15
           },
           "zerolinecolor": "white",
           "zerolinewidth": 2
          }
         }
        },
        "title": {
         "text": "drought 2.5 q2"
        },
        "width": 1600,
        "xaxis": {
         "linecolor": "rgb(102, 102, 102)",
         "showgrid": false,
         "showline": true,
         "showticklabels": true,
         "tickcolor": "rgb(102, 102, 102)",
         "tickfont": {
          "color": "rgb(102, 102, 102)"
         },
         "ticks": "outside"
        }
       }
      }
     },
     "metadata": {},
     "output_type": "display_data"
    },
    {
     "data": {
      "application/vnd.plotly.v1+json": {
       "config": {
        "plotlyServerURL": "https://plot.ly"
       },
       "data": [
        {
         "marker": {
          "color": "rgba(156, 165, 196, 0.95)",
          "line": {
           "width": 1
          },
          "size": 16,
          "symbol": "circle"
         },
         "mode": "markers",
         "name": "1",
         "type": "scatter",
         "x": [
          null,
          null,
          null,
          null,
          null,
          -58.893,
          null,
          null,
          null,
          null,
          null,
          null,
          null,
          null,
          null,
          null,
          54.221,
          null,
          null,
          null,
          null,
          -23.563,
          null,
          null,
          null,
          null,
          null,
          null,
          null,
          null,
          null,
          null,
          null,
          213.589,
          null,
          null,
          null,
          null,
          null,
          null,
          null,
          null,
          null,
          null,
          -51.248,
          null,
          null,
          null,
          null,
          null,
          null,
          null,
          null,
          null,
          null
         ],
         "y": [
          "AGO",
          "ALB",
          "ARM",
          "BEN",
          "BFA",
          "BGD",
          "BOL",
          "CIV",
          "CMR",
          "COD",
          "COM",
          "DOM",
          "EGY",
          "ETH",
          "GAB",
          "GHA",
          "GIN",
          "GMB",
          "GTM",
          "GUY",
          "HND",
          "HTI",
          "IND",
          "JOR",
          "KEN",
          "KGZ",
          "KHM",
          "LBR",
          "LSO",
          "MAR",
          "MDA",
          "MDG",
          "MLI",
          "MMR",
          "MOZ",
          "MRT",
          "MWI",
          "NAM",
          "NGA",
          "NIC",
          "PAK",
          "PER",
          "PHL",
          "SEN",
          "SLE",
          "SWZ",
          "TCD",
          "TGO",
          "TJK",
          "TLS",
          "TZA",
          "UGA",
          "ZAF",
          "ZMB",
          "ZWE"
         ]
        },
        {
         "marker": {
          "color": "rgba(156, 165, 196, 0.95)",
          "line": {
           "width": 1
          },
          "size": 16,
          "symbol": "circle"
         },
         "mode": "markers",
         "name": "2",
         "type": "scatter",
         "x": [
          null,
          null,
          null,
          null,
          null,
          -61.73,
          null,
          null,
          null,
          null,
          null,
          null,
          null,
          null,
          null,
          null,
          null,
          null,
          null,
          null,
          null,
          -27.163,
          null,
          null,
          null,
          null,
          null,
          null,
          47.445,
          null,
          null,
          null,
          null,
          null,
          null,
          null,
          null,
          -12.876,
          null,
          null,
          null,
          null,
          null,
          null,
          -86.209,
          null,
          null,
          null,
          null,
          null,
          null,
          null,
          null,
          null,
          null
         ],
         "y": [
          "AGO",
          "ALB",
          "ARM",
          "BEN",
          "BFA",
          "BGD",
          "BOL",
          "CIV",
          "CMR",
          "COD",
          "COM",
          "DOM",
          "EGY",
          "ETH",
          "GAB",
          "GHA",
          "GIN",
          "GMB",
          "GTM",
          "GUY",
          "HND",
          "HTI",
          "IND",
          "JOR",
          "KEN",
          "KGZ",
          "KHM",
          "LBR",
          "LSO",
          "MAR",
          "MDA",
          "MDG",
          "MLI",
          "MMR",
          "MOZ",
          "MRT",
          "MWI",
          "NAM",
          "NGA",
          "NIC",
          "PAK",
          "PER",
          "PHL",
          "SEN",
          "SLE",
          "SWZ",
          "TCD",
          "TGO",
          "TJK",
          "TLS",
          "TZA",
          "UGA",
          "ZAF",
          "ZMB",
          "ZWE"
         ]
        },
        {
         "marker": {
          "color": "rgba(156, 165, 196, 0.95)",
          "line": {
           "width": 1
          },
          "size": 16,
          "symbol": "circle"
         },
         "mode": "markers",
         "name": "3",
         "type": "scatter",
         "x": [
          null,
          null,
          null,
          null,
          null,
          -63.031,
          null,
          null,
          null,
          null,
          null,
          null,
          null,
          null,
          null,
          null,
          null,
          null,
          null,
          null,
          null,
          -27.223,
          null,
          null,
          null,
          null,
          106.895,
          null,
          null,
          null,
          null,
          null,
          null,
          null,
          -12.511,
          null,
          null,
          -15.624,
          null,
          null,
          null,
          null,
          null,
          null,
          -63.731,
          null,
          null,
          null,
          null,
          null,
          null,
          null,
          null,
          null,
          null
         ],
         "y": [
          "AGO",
          "ALB",
          "ARM",
          "BEN",
          "BFA",
          "BGD",
          "BOL",
          "CIV",
          "CMR",
          "COD",
          "COM",
          "DOM",
          "EGY",
          "ETH",
          "GAB",
          "GHA",
          "GIN",
          "GMB",
          "GTM",
          "GUY",
          "HND",
          "HTI",
          "IND",
          "JOR",
          "KEN",
          "KGZ",
          "KHM",
          "LBR",
          "LSO",
          "MAR",
          "MDA",
          "MDG",
          "MLI",
          "MMR",
          "MOZ",
          "MRT",
          "MWI",
          "NAM",
          "NGA",
          "NIC",
          "PAK",
          "PER",
          "PHL",
          "SEN",
          "SLE",
          "SWZ",
          "TCD",
          "TGO",
          "TJK",
          "TLS",
          "TZA",
          "UGA",
          "ZAF",
          "ZMB",
          "ZWE"
         ]
        },
        {
         "marker": {
          "color": "rgba(156, 165, 196, 0.95)",
          "line": {
           "width": 1
          },
          "size": 16,
          "symbol": "circle"
         },
         "mode": "markers",
         "name": "4",
         "type": "scatter",
         "x": [
          null,
          null,
          null,
          null,
          null,
          -65.161,
          27.944,
          null,
          null,
          null,
          null,
          null,
          null,
          null,
          null,
          null,
          48.807,
          null,
          null,
          null,
          null,
          -27.223,
          null,
          null,
          null,
          null,
          116.023,
          null,
          null,
          null,
          null,
          null,
          null,
          null,
          null,
          null,
          null,
          -10.314,
          null,
          null,
          51.722,
          null,
          null,
          null,
          -64.068,
          null,
          null,
          null,
          null,
          null,
          null,
          -14.083,
          null,
          null,
          null
         ],
         "y": [
          "AGO",
          "ALB",
          "ARM",
          "BEN",
          "BFA",
          "BGD",
          "BOL",
          "CIV",
          "CMR",
          "COD",
          "COM",
          "DOM",
          "EGY",
          "ETH",
          "GAB",
          "GHA",
          "GIN",
          "GMB",
          "GTM",
          "GUY",
          "HND",
          "HTI",
          "IND",
          "JOR",
          "KEN",
          "KGZ",
          "KHM",
          "LBR",
          "LSO",
          "MAR",
          "MDA",
          "MDG",
          "MLI",
          "MMR",
          "MOZ",
          "MRT",
          "MWI",
          "NAM",
          "NGA",
          "NIC",
          "PAK",
          "PER",
          "PHL",
          "SEN",
          "SLE",
          "SWZ",
          "TCD",
          "TGO",
          "TJK",
          "TLS",
          "TZA",
          "UGA",
          "ZAF",
          "ZMB",
          "ZWE"
         ]
        },
        {
         "marker": {
          "color": "rgba(204, 204, 204, 0.95)",
          "line": {
           "width": 1
          },
          "size": 16,
          "symbol": "circle"
         },
         "mode": "markers",
         "name": "5",
         "type": "scatter",
         "x": [
          null,
          null,
          null,
          null,
          null,
          null,
          null,
          null,
          null,
          null,
          null,
          null,
          null,
          null,
          -9.339,
          null,
          null,
          null,
          null,
          null,
          null,
          null,
          null,
          null,
          null,
          null,
          null,
          null,
          -7.509,
          null,
          null,
          null,
          null,
          null,
          null,
          null,
          null,
          null,
          null,
          null,
          null,
          null,
          null,
          null,
          -29.521,
          null,
          null,
          null,
          null,
          null,
          null,
          null,
          null,
          null,
          null
         ],
         "y": [
          "AGO",
          "ALB",
          "ARM",
          "BEN",
          "BFA",
          "BGD",
          "BOL",
          "CIV",
          "CMR",
          "COD",
          "COM",
          "DOM",
          "EGY",
          "ETH",
          "GAB",
          "GHA",
          "GIN",
          "GMB",
          "GTM",
          "GUY",
          "HND",
          "HTI",
          "IND",
          "JOR",
          "KEN",
          "KGZ",
          "KHM",
          "LBR",
          "LSO",
          "MAR",
          "MDA",
          "MDG",
          "MLI",
          "MMR",
          "MOZ",
          "MRT",
          "MWI",
          "NAM",
          "NGA",
          "NIC",
          "PAK",
          "PER",
          "PHL",
          "SEN",
          "SLE",
          "SWZ",
          "TCD",
          "TGO",
          "TJK",
          "TLS",
          "TZA",
          "UGA",
          "ZAF",
          "ZMB",
          "ZWE"
         ]
        },
        {
         "marker": {
          "color": "rgba(204, 204, 204, 0.95)",
          "line": {
           "width": 1
          },
          "size": 16,
          "symbol": "circle"
         },
         "mode": "markers",
         "name": "6",
         "type": "scatter",
         "x": [
          null,
          null,
          null,
          null,
          -26.115,
          -2.182,
          null,
          null,
          null,
          null,
          null,
          null,
          null,
          null,
          -7.031,
          null,
          null,
          null,
          null,
          null,
          null,
          5.59,
          null,
          null,
          null,
          null,
          null,
          null,
          -6.427,
          null,
          null,
          null,
          null,
          null,
          null,
          null,
          null,
          null,
          null,
          null,
          null,
          null,
          null,
          -6.02,
          -34.881,
          null,
          null,
          null,
          null,
          null,
          null,
          null,
          null,
          null,
          null
         ],
         "y": [
          "AGO",
          "ALB",
          "ARM",
          "BEN",
          "BFA",
          "BGD",
          "BOL",
          "CIV",
          "CMR",
          "COD",
          "COM",
          "DOM",
          "EGY",
          "ETH",
          "GAB",
          "GHA",
          "GIN",
          "GMB",
          "GTM",
          "GUY",
          "HND",
          "HTI",
          "IND",
          "JOR",
          "KEN",
          "KGZ",
          "KHM",
          "LBR",
          "LSO",
          "MAR",
          "MDA",
          "MDG",
          "MLI",
          "MMR",
          "MOZ",
          "MRT",
          "MWI",
          "NAM",
          "NGA",
          "NIC",
          "PAK",
          "PER",
          "PHL",
          "SEN",
          "SLE",
          "SWZ",
          "TCD",
          "TGO",
          "TJK",
          "TLS",
          "TZA",
          "UGA",
          "ZAF",
          "ZMB",
          "ZWE"
         ]
        },
        {
         "marker": {
          "color": "rgba(204, 204, 204, 0.95)",
          "line": {
           "width": 1
          },
          "size": 16,
          "symbol": "circle"
         },
         "mode": "markers",
         "name": "7",
         "type": "scatter",
         "x": [
          null,
          null,
          null,
          null,
          null,
          -3.251,
          null,
          null,
          null,
          null,
          null,
          null,
          null,
          null,
          -5.368,
          null,
          null,
          null,
          null,
          null,
          null,
          5.67,
          null,
          null,
          null,
          null,
          21.214,
          null,
          -7.827,
          null,
          null,
          null,
          null,
          null,
          null,
          null,
          null,
          null,
          null,
          null,
          -6.304,
          null,
          null,
          -8.288,
          -23.587,
          null,
          null,
          null,
          null,
          null,
          null,
          null,
          null,
          null,
          null
         ],
         "y": [
          "AGO",
          "ALB",
          "ARM",
          "BEN",
          "BFA",
          "BGD",
          "BOL",
          "CIV",
          "CMR",
          "COD",
          "COM",
          "DOM",
          "EGY",
          "ETH",
          "GAB",
          "GHA",
          "GIN",
          "GMB",
          "GTM",
          "GUY",
          "HND",
          "HTI",
          "IND",
          "JOR",
          "KEN",
          "KGZ",
          "KHM",
          "LBR",
          "LSO",
          "MAR",
          "MDA",
          "MDG",
          "MLI",
          "MMR",
          "MOZ",
          "MRT",
          "MWI",
          "NAM",
          "NGA",
          "NIC",
          "PAK",
          "PER",
          "PHL",
          "SEN",
          "SLE",
          "SWZ",
          "TCD",
          "TGO",
          "TJK",
          "TLS",
          "TZA",
          "UGA",
          "ZAF",
          "ZMB",
          "ZWE"
         ]
        },
        {
         "marker": {
          "color": "rgba(204, 204, 204, 0.95)",
          "line": {
           "width": 1
          },
          "size": 16,
          "symbol": "circle"
         },
         "mode": "markers",
         "name": "8",
         "type": "scatter",
         "x": [
          -6.702,
          null,
          null,
          null,
          null,
          -6.657,
          null,
          null,
          -3.912,
          null,
          null,
          null,
          null,
          null,
          -4.359,
          null,
          55.847,
          null,
          null,
          null,
          null,
          5.67,
          null,
          null,
          null,
          null,
          26.065,
          null,
          -7.883,
          null,
          null,
          null,
          null,
          -6.092,
          null,
          null,
          null,
          null,
          null,
          null,
          -3.448,
          null,
          null,
          -6.609,
          -24.128,
          null,
          -19.707,
          null,
          null,
          null,
          null,
          null,
          null,
          null,
          null
         ],
         "y": [
          "AGO",
          "ALB",
          "ARM",
          "BEN",
          "BFA",
          "BGD",
          "BOL",
          "CIV",
          "CMR",
          "COD",
          "COM",
          "DOM",
          "EGY",
          "ETH",
          "GAB",
          "GHA",
          "GIN",
          "GMB",
          "GTM",
          "GUY",
          "HND",
          "HTI",
          "IND",
          "JOR",
          "KEN",
          "KGZ",
          "KHM",
          "LBR",
          "LSO",
          "MAR",
          "MDA",
          "MDG",
          "MLI",
          "MMR",
          "MOZ",
          "MRT",
          "MWI",
          "NAM",
          "NGA",
          "NIC",
          "PAK",
          "PER",
          "PHL",
          "SEN",
          "SLE",
          "SWZ",
          "TCD",
          "TGO",
          "TJK",
          "TLS",
          "TZA",
          "UGA",
          "ZAF",
          "ZMB",
          "ZWE"
         ]
        },
        {
         "marker": {
          "color": "rgba(255, 166, 86, 0.95)",
          "line": {
           "width": 1
          },
          "size": 16,
          "symbol": "circle"
         },
         "mode": "markers",
         "name": "9",
         "type": "scatter",
         "x": [
          null,
          null,
          null,
          null,
          null,
          -7.841,
          null,
          null,
          null,
          null,
          null,
          null,
          null,
          null,
          null,
          null,
          null,
          null,
          null,
          null,
          null,
          null,
          null,
          null,
          null,
          null,
          -7.615,
          null,
          null,
          null,
          null,
          null,
          -18.401,
          null,
          null,
          null,
          null,
          null,
          null,
          null,
          null,
          null,
          null,
          null,
          -38.773,
          null,
          null,
          null,
          null,
          null,
          null,
          -16.845,
          null,
          null,
          null
         ],
         "y": [
          "AGO",
          "ALB",
          "ARM",
          "BEN",
          "BFA",
          "BGD",
          "BOL",
          "CIV",
          "CMR",
          "COD",
          "COM",
          "DOM",
          "EGY",
          "ETH",
          "GAB",
          "GHA",
          "GIN",
          "GMB",
          "GTM",
          "GUY",
          "HND",
          "HTI",
          "IND",
          "JOR",
          "KEN",
          "KGZ",
          "KHM",
          "LBR",
          "LSO",
          "MAR",
          "MDA",
          "MDG",
          "MLI",
          "MMR",
          "MOZ",
          "MRT",
          "MWI",
          "NAM",
          "NGA",
          "NIC",
          "PAK",
          "PER",
          "PHL",
          "SEN",
          "SLE",
          "SWZ",
          "TCD",
          "TGO",
          "TJK",
          "TLS",
          "TZA",
          "UGA",
          "ZAF",
          "ZMB",
          "ZWE"
         ]
        },
        {
         "marker": {
          "color": "rgba(255, 166, 86, 0.95)",
          "line": {
           "width": 1
          },
          "size": 16,
          "symbol": "circle"
         },
         "mode": "markers",
         "name": "10",
         "type": "scatter",
         "x": [
          null,
          null,
          null,
          null,
          null,
          null,
          null,
          -11.542,
          null,
          null,
          null,
          null,
          null,
          null,
          null,
          null,
          null,
          null,
          null,
          null,
          null,
          -38.925,
          null,
          null,
          null,
          null,
          null,
          null,
          -11.381,
          null,
          null,
          null,
          -14.671,
          null,
          null,
          null,
          null,
          null,
          null,
          null,
          -3.506,
          null,
          null,
          null,
          -38.246,
          null,
          null,
          null,
          null,
          null,
          null,
          -13.261,
          null,
          null,
          null
         ],
         "y": [
          "AGO",
          "ALB",
          "ARM",
          "BEN",
          "BFA",
          "BGD",
          "BOL",
          "CIV",
          "CMR",
          "COD",
          "COM",
          "DOM",
          "EGY",
          "ETH",
          "GAB",
          "GHA",
          "GIN",
          "GMB",
          "GTM",
          "GUY",
          "HND",
          "HTI",
          "IND",
          "JOR",
          "KEN",
          "KGZ",
          "KHM",
          "LBR",
          "LSO",
          "MAR",
          "MDA",
          "MDG",
          "MLI",
          "MMR",
          "MOZ",
          "MRT",
          "MWI",
          "NAM",
          "NGA",
          "NIC",
          "PAK",
          "PER",
          "PHL",
          "SEN",
          "SLE",
          "SWZ",
          "TCD",
          "TGO",
          "TJK",
          "TLS",
          "TZA",
          "UGA",
          "ZAF",
          "ZMB",
          "ZWE"
         ]
        },
        {
         "marker": {
          "color": "rgba(255, 166, 86, 0.95)",
          "line": {
           "width": 1
          },
          "size": 16,
          "symbol": "circle"
         },
         "mode": "markers",
         "name": "11",
         "type": "scatter",
         "x": [
          null,
          null,
          null,
          null,
          38.82,
          -6.536,
          null,
          -16.164,
          null,
          null,
          null,
          null,
          null,
          null,
          null,
          null,
          null,
          null,
          null,
          null,
          null,
          -38.96,
          null,
          null,
          null,
          null,
          -10.937,
          null,
          -8.035,
          null,
          null,
          null,
          -17.45,
          null,
          null,
          null,
          null,
          null,
          null,
          null,
          -8.612,
          null,
          null,
          null,
          -32.707,
          null,
          null,
          null,
          null,
          null,
          null,
          -13.155,
          null,
          null,
          null
         ],
         "y": [
          "AGO",
          "ALB",
          "ARM",
          "BEN",
          "BFA",
          "BGD",
          "BOL",
          "CIV",
          "CMR",
          "COD",
          "COM",
          "DOM",
          "EGY",
          "ETH",
          "GAB",
          "GHA",
          "GIN",
          "GMB",
          "GTM",
          "GUY",
          "HND",
          "HTI",
          "IND",
          "JOR",
          "KEN",
          "KGZ",
          "KHM",
          "LBR",
          "LSO",
          "MAR",
          "MDA",
          "MDG",
          "MLI",
          "MMR",
          "MOZ",
          "MRT",
          "MWI",
          "NAM",
          "NGA",
          "NIC",
          "PAK",
          "PER",
          "PHL",
          "SEN",
          "SLE",
          "SWZ",
          "TCD",
          "TGO",
          "TJK",
          "TLS",
          "TZA",
          "UGA",
          "ZAF",
          "ZMB",
          "ZWE"
         ]
        },
        {
         "marker": {
          "color": "rgba(255, 166, 86, 0.95)",
          "line": {
           "width": 1
          },
          "size": 16,
          "symbol": "circle"
         },
         "mode": "markers",
         "name": "12",
         "type": "scatter",
         "x": [
          null,
          null,
          null,
          null,
          37.357,
          -8.519,
          null,
          -13.132,
          null,
          null,
          null,
          null,
          null,
          null,
          null,
          null,
          41.761,
          null,
          null,
          null,
          null,
          -38.96,
          null,
          null,
          null,
          null,
          -6.201,
          null,
          -8.144,
          null,
          null,
          null,
          -15.516,
          null,
          null,
          null,
          null,
          null,
          null,
          null,
          -6.298,
          2.09,
          null,
          null,
          -31.884,
          null,
          null,
          null,
          null,
          null,
          null,
          -14.035,
          null,
          null,
          null
         ],
         "y": [
          "AGO",
          "ALB",
          "ARM",
          "BEN",
          "BFA",
          "BGD",
          "BOL",
          "CIV",
          "CMR",
          "COD",
          "COM",
          "DOM",
          "EGY",
          "ETH",
          "GAB",
          "GHA",
          "GIN",
          "GMB",
          "GTM",
          "GUY",
          "HND",
          "HTI",
          "IND",
          "JOR",
          "KEN",
          "KGZ",
          "KHM",
          "LBR",
          "LSO",
          "MAR",
          "MDA",
          "MDG",
          "MLI",
          "MMR",
          "MOZ",
          "MRT",
          "MWI",
          "NAM",
          "NGA",
          "NIC",
          "PAK",
          "PER",
          "PHL",
          "SEN",
          "SLE",
          "SWZ",
          "TCD",
          "TGO",
          "TJK",
          "TLS",
          "TZA",
          "UGA",
          "ZAF",
          "ZMB",
          "ZWE"
         ]
        },
        {
         "marker": {
          "color": "rgba(240, 230, 140, 0.95)",
          "line": {
           "width": 1
          },
          "size": 16,
          "symbol": "circle"
         },
         "mode": "markers",
         "name": "13",
         "type": "scatter",
         "x": [
          null,
          null,
          null,
          null,
          null,
          null,
          30.303,
          -23.864,
          null,
          -15.47,
          null,
          null,
          null,
          null,
          null,
          null,
          null,
          null,
          null,
          null,
          null,
          null,
          null,
          null,
          null,
          null,
          null,
          null,
          -14.358,
          null,
          null,
          null,
          null,
          null,
          null,
          null,
          null,
          null,
          null,
          null,
          -35.405,
          null,
          null,
          null,
          -70.529,
          null,
          null,
          null,
          null,
          null,
          -52.327,
          null,
          null,
          null,
          null
         ],
         "y": [
          "AGO",
          "ALB",
          "ARM",
          "BEN",
          "BFA",
          "BGD",
          "BOL",
          "CIV",
          "CMR",
          "COD",
          "COM",
          "DOM",
          "EGY",
          "ETH",
          "GAB",
          "GHA",
          "GIN",
          "GMB",
          "GTM",
          "GUY",
          "HND",
          "HTI",
          "IND",
          "JOR",
          "KEN",
          "KGZ",
          "KHM",
          "LBR",
          "LSO",
          "MAR",
          "MDA",
          "MDG",
          "MLI",
          "MMR",
          "MOZ",
          "MRT",
          "MWI",
          "NAM",
          "NGA",
          "NIC",
          "PAK",
          "PER",
          "PHL",
          "SEN",
          "SLE",
          "SWZ",
          "TCD",
          "TGO",
          "TJK",
          "TLS",
          "TZA",
          "UGA",
          "ZAF",
          "ZMB",
          "ZWE"
         ]
        },
        {
         "marker": {
          "color": "rgba(240, 230, 140, 0.95)",
          "line": {
           "width": 1
          },
          "size": 16,
          "symbol": "circle"
         },
         "mode": "markers",
         "name": "14",
         "type": "scatter",
         "x": [
          null,
          null,
          null,
          null,
          null,
          -12.602,
          null,
          -16.269,
          null,
          null,
          null,
          null,
          null,
          null,
          null,
          null,
          null,
          null,
          null,
          null,
          null,
          -7.129,
          null,
          null,
          null,
          null,
          -10.571,
          null,
          -5.042,
          null,
          null,
          null,
          null,
          null,
          null,
          null,
          null,
          null,
          null,
          null,
          -17.209,
          null,
          -4.655,
          37.388,
          -92.374,
          null,
          null,
          null,
          null,
          null,
          -49.036,
          null,
          null,
          null,
          null
         ],
         "y": [
          "AGO",
          "ALB",
          "ARM",
          "BEN",
          "BFA",
          "BGD",
          "BOL",
          "CIV",
          "CMR",
          "COD",
          "COM",
          "DOM",
          "EGY",
          "ETH",
          "GAB",
          "GHA",
          "GIN",
          "GMB",
          "GTM",
          "GUY",
          "HND",
          "HTI",
          "IND",
          "JOR",
          "KEN",
          "KGZ",
          "KHM",
          "LBR",
          "LSO",
          "MAR",
          "MDA",
          "MDG",
          "MLI",
          "MMR",
          "MOZ",
          "MRT",
          "MWI",
          "NAM",
          "NGA",
          "NIC",
          "PAK",
          "PER",
          "PHL",
          "SEN",
          "SLE",
          "SWZ",
          "TCD",
          "TGO",
          "TJK",
          "TLS",
          "TZA",
          "UGA",
          "ZAF",
          "ZMB",
          "ZWE"
         ]
        },
        {
         "marker": {
          "color": "rgba(240, 230, 140, 0.95)",
          "line": {
           "width": 1
          },
          "size": 16,
          "symbol": "circle"
         },
         "mode": "markers",
         "name": "15",
         "type": "scatter",
         "x": [
          null,
          null,
          null,
          null,
          null,
          -10.075,
          29.252,
          -28.594,
          null,
          -17.312,
          null,
          null,
          null,
          null,
          null,
          null,
          null,
          null,
          null,
          null,
          null,
          -7.108,
          null,
          null,
          null,
          null,
          -11.224,
          null,
          null,
          null,
          null,
          null,
          null,
          null,
          null,
          null,
          null,
          null,
          null,
          null,
          -14.803,
          null,
          null,
          38.521,
          -74.032,
          null,
          null,
          null,
          null,
          null,
          -46.448,
          null,
          null,
          null,
          null
         ],
         "y": [
          "AGO",
          "ALB",
          "ARM",
          "BEN",
          "BFA",
          "BGD",
          "BOL",
          "CIV",
          "CMR",
          "COD",
          "COM",
          "DOM",
          "EGY",
          "ETH",
          "GAB",
          "GHA",
          "GIN",
          "GMB",
          "GTM",
          "GUY",
          "HND",
          "HTI",
          "IND",
          "JOR",
          "KEN",
          "KGZ",
          "KHM",
          "LBR",
          "LSO",
          "MAR",
          "MDA",
          "MDG",
          "MLI",
          "MMR",
          "MOZ",
          "MRT",
          "MWI",
          "NAM",
          "NGA",
          "NIC",
          "PAK",
          "PER",
          "PHL",
          "SEN",
          "SLE",
          "SWZ",
          "TCD",
          "TGO",
          "TJK",
          "TLS",
          "TZA",
          "UGA",
          "ZAF",
          "ZMB",
          "ZWE"
         ]
        },
        {
         "marker": {
          "color": "rgba(240, 230, 140, 0.95)",
          "line": {
           "width": 1
          },
          "size": 16,
          "symbol": "circle"
         },
         "mode": "markers",
         "name": "16",
         "type": "scatter",
         "x": [
          null,
          null,
          null,
          null,
          null,
          -7.875,
          27.212,
          -28.934,
          null,
          -18.091,
          null,
          null,
          null,
          null,
          null,
          null,
          103.207,
          null,
          null,
          null,
          null,
          -7.108,
          null,
          null,
          null,
          null,
          -13.865,
          null,
          null,
          null,
          null,
          12.42,
          null,
          null,
          null,
          null,
          10.772,
          null,
          null,
          null,
          -12.254,
          null,
          -4.331,
          41.453,
          -74.946,
          null,
          null,
          null,
          null,
          null,
          -42.928,
          null,
          null,
          null,
          null
         ],
         "y": [
          "AGO",
          "ALB",
          "ARM",
          "BEN",
          "BFA",
          "BGD",
          "BOL",
          "CIV",
          "CMR",
          "COD",
          "COM",
          "DOM",
          "EGY",
          "ETH",
          "GAB",
          "GHA",
          "GIN",
          "GMB",
          "GTM",
          "GUY",
          "HND",
          "HTI",
          "IND",
          "JOR",
          "KEN",
          "KGZ",
          "KHM",
          "LBR",
          "LSO",
          "MAR",
          "MDA",
          "MDG",
          "MLI",
          "MMR",
          "MOZ",
          "MRT",
          "MWI",
          "NAM",
          "NGA",
          "NIC",
          "PAK",
          "PER",
          "PHL",
          "SEN",
          "SLE",
          "SWZ",
          "TCD",
          "TGO",
          "TJK",
          "TLS",
          "TZA",
          "UGA",
          "ZAF",
          "ZMB",
          "ZWE"
         ]
        }
       ],
       "layout": {
        "height": 600,
        "hovermode": "closest",
        "legend": {
         "font": {
          "size": 10
         },
         "xanchor": "center",
         "yanchor": "top"
        },
        "margin": {
         "b": 50,
         "l": 140,
         "r": 40,
         "t": 80
        },
        "paper_bgcolor": "white",
        "plot_bgcolor": "white",
        "shapes": [
         {
          "line": {
           "color": "red",
           "dash": "dashdot",
           "width": 2
          },
          "type": "line",
          "x0": 0,
          "x1": 0,
          "y0": 0,
          "y1": 55
         }
        ],
        "template": {
         "data": {
          "bar": [
           {
            "error_x": {
             "color": "#2a3f5f"
            },
            "error_y": {
             "color": "#2a3f5f"
            },
            "marker": {
             "line": {
              "color": "#E5ECF6",
              "width": 0.5
             },
             "pattern": {
              "fillmode": "overlay",
              "size": 10,
              "solidity": 0.2
             }
            },
            "type": "bar"
           }
          ],
          "barpolar": [
           {
            "marker": {
             "line": {
              "color": "#E5ECF6",
              "width": 0.5
             },
             "pattern": {
              "fillmode": "overlay",
              "size": 10,
              "solidity": 0.2
             }
            },
            "type": "barpolar"
           }
          ],
          "carpet": [
           {
            "aaxis": {
             "endlinecolor": "#2a3f5f",
             "gridcolor": "white",
             "linecolor": "white",
             "minorgridcolor": "white",
             "startlinecolor": "#2a3f5f"
            },
            "baxis": {
             "endlinecolor": "#2a3f5f",
             "gridcolor": "white",
             "linecolor": "white",
             "minorgridcolor": "white",
             "startlinecolor": "#2a3f5f"
            },
            "type": "carpet"
           }
          ],
          "choropleth": [
           {
            "colorbar": {
             "outlinewidth": 0,
             "ticks": ""
            },
            "type": "choropleth"
           }
          ],
          "contour": [
           {
            "colorbar": {
             "outlinewidth": 0,
             "ticks": ""
            },
            "colorscale": [
             [
              0,
              "#0d0887"
             ],
             [
              0.1111111111111111,
              "#46039f"
             ],
             [
              0.2222222222222222,
              "#7201a8"
             ],
             [
              0.3333333333333333,
              "#9c179e"
             ],
             [
              0.4444444444444444,
              "#bd3786"
             ],
             [
              0.5555555555555556,
              "#d8576b"
             ],
             [
              0.6666666666666666,
              "#ed7953"
             ],
             [
              0.7777777777777778,
              "#fb9f3a"
             ],
             [
              0.8888888888888888,
              "#fdca26"
             ],
             [
              1,
              "#f0f921"
             ]
            ],
            "type": "contour"
           }
          ],
          "contourcarpet": [
           {
            "colorbar": {
             "outlinewidth": 0,
             "ticks": ""
            },
            "type": "contourcarpet"
           }
          ],
          "heatmap": [
           {
            "colorbar": {
             "outlinewidth": 0,
             "ticks": ""
            },
            "colorscale": [
             [
              0,
              "#0d0887"
             ],
             [
              0.1111111111111111,
              "#46039f"
             ],
             [
              0.2222222222222222,
              "#7201a8"
             ],
             [
              0.3333333333333333,
              "#9c179e"
             ],
             [
              0.4444444444444444,
              "#bd3786"
             ],
             [
              0.5555555555555556,
              "#d8576b"
             ],
             [
              0.6666666666666666,
              "#ed7953"
             ],
             [
              0.7777777777777778,
              "#fb9f3a"
             ],
             [
              0.8888888888888888,
              "#fdca26"
             ],
             [
              1,
              "#f0f921"
             ]
            ],
            "type": "heatmap"
           }
          ],
          "heatmapgl": [
           {
            "colorbar": {
             "outlinewidth": 0,
             "ticks": ""
            },
            "colorscale": [
             [
              0,
              "#0d0887"
             ],
             [
              0.1111111111111111,
              "#46039f"
             ],
             [
              0.2222222222222222,
              "#7201a8"
             ],
             [
              0.3333333333333333,
              "#9c179e"
             ],
             [
              0.4444444444444444,
              "#bd3786"
             ],
             [
              0.5555555555555556,
              "#d8576b"
             ],
             [
              0.6666666666666666,
              "#ed7953"
             ],
             [
              0.7777777777777778,
              "#fb9f3a"
             ],
             [
              0.8888888888888888,
              "#fdca26"
             ],
             [
              1,
              "#f0f921"
             ]
            ],
            "type": "heatmapgl"
           }
          ],
          "histogram": [
           {
            "marker": {
             "pattern": {
              "fillmode": "overlay",
              "size": 10,
              "solidity": 0.2
             }
            },
            "type": "histogram"
           }
          ],
          "histogram2d": [
           {
            "colorbar": {
             "outlinewidth": 0,
             "ticks": ""
            },
            "colorscale": [
             [
              0,
              "#0d0887"
             ],
             [
              0.1111111111111111,
              "#46039f"
             ],
             [
              0.2222222222222222,
              "#7201a8"
             ],
             [
              0.3333333333333333,
              "#9c179e"
             ],
             [
              0.4444444444444444,
              "#bd3786"
             ],
             [
              0.5555555555555556,
              "#d8576b"
             ],
             [
              0.6666666666666666,
              "#ed7953"
             ],
             [
              0.7777777777777778,
              "#fb9f3a"
             ],
             [
              0.8888888888888888,
              "#fdca26"
             ],
             [
              1,
              "#f0f921"
             ]
            ],
            "type": "histogram2d"
           }
          ],
          "histogram2dcontour": [
           {
            "colorbar": {
             "outlinewidth": 0,
             "ticks": ""
            },
            "colorscale": [
             [
              0,
              "#0d0887"
             ],
             [
              0.1111111111111111,
              "#46039f"
             ],
             [
              0.2222222222222222,
              "#7201a8"
             ],
             [
              0.3333333333333333,
              "#9c179e"
             ],
             [
              0.4444444444444444,
              "#bd3786"
             ],
             [
              0.5555555555555556,
              "#d8576b"
             ],
             [
              0.6666666666666666,
              "#ed7953"
             ],
             [
              0.7777777777777778,
              "#fb9f3a"
             ],
             [
              0.8888888888888888,
              "#fdca26"
             ],
             [
              1,
              "#f0f921"
             ]
            ],
            "type": "histogram2dcontour"
           }
          ],
          "mesh3d": [
           {
            "colorbar": {
             "outlinewidth": 0,
             "ticks": ""
            },
            "type": "mesh3d"
           }
          ],
          "parcoords": [
           {
            "line": {
             "colorbar": {
              "outlinewidth": 0,
              "ticks": ""
             }
            },
            "type": "parcoords"
           }
          ],
          "pie": [
           {
            "automargin": true,
            "type": "pie"
           }
          ],
          "scatter": [
           {
            "fillpattern": {
             "fillmode": "overlay",
             "size": 10,
             "solidity": 0.2
            },
            "type": "scatter"
           }
          ],
          "scatter3d": [
           {
            "line": {
             "colorbar": {
              "outlinewidth": 0,
              "ticks": ""
             }
            },
            "marker": {
             "colorbar": {
              "outlinewidth": 0,
              "ticks": ""
             }
            },
            "type": "scatter3d"
           }
          ],
          "scattercarpet": [
           {
            "marker": {
             "colorbar": {
              "outlinewidth": 0,
              "ticks": ""
             }
            },
            "type": "scattercarpet"
           }
          ],
          "scattergeo": [
           {
            "marker": {
             "colorbar": {
              "outlinewidth": 0,
              "ticks": ""
             }
            },
            "type": "scattergeo"
           }
          ],
          "scattergl": [
           {
            "marker": {
             "colorbar": {
              "outlinewidth": 0,
              "ticks": ""
             }
            },
            "type": "scattergl"
           }
          ],
          "scattermapbox": [
           {
            "marker": {
             "colorbar": {
              "outlinewidth": 0,
              "ticks": ""
             }
            },
            "type": "scattermapbox"
           }
          ],
          "scatterpolar": [
           {
            "marker": {
             "colorbar": {
              "outlinewidth": 0,
              "ticks": ""
             }
            },
            "type": "scatterpolar"
           }
          ],
          "scatterpolargl": [
           {
            "marker": {
             "colorbar": {
              "outlinewidth": 0,
              "ticks": ""
             }
            },
            "type": "scatterpolargl"
           }
          ],
          "scatterternary": [
           {
            "marker": {
             "colorbar": {
              "outlinewidth": 0,
              "ticks": ""
             }
            },
            "type": "scatterternary"
           }
          ],
          "surface": [
           {
            "colorbar": {
             "outlinewidth": 0,
             "ticks": ""
            },
            "colorscale": [
             [
              0,
              "#0d0887"
             ],
             [
              0.1111111111111111,
              "#46039f"
             ],
             [
              0.2222222222222222,
              "#7201a8"
             ],
             [
              0.3333333333333333,
              "#9c179e"
             ],
             [
              0.4444444444444444,
              "#bd3786"
             ],
             [
              0.5555555555555556,
              "#d8576b"
             ],
             [
              0.6666666666666666,
              "#ed7953"
             ],
             [
              0.7777777777777778,
              "#fb9f3a"
             ],
             [
              0.8888888888888888,
              "#fdca26"
             ],
             [
              1,
              "#f0f921"
             ]
            ],
            "type": "surface"
           }
          ],
          "table": [
           {
            "cells": {
             "fill": {
              "color": "#EBF0F8"
             },
             "line": {
              "color": "white"
             }
            },
            "header": {
             "fill": {
              "color": "#C8D4E3"
             },
             "line": {
              "color": "white"
             }
            },
            "type": "table"
           }
          ]
         },
         "layout": {
          "annotationdefaults": {
           "arrowcolor": "#2a3f5f",
           "arrowhead": 0,
           "arrowwidth": 1
          },
          "autotypenumbers": "strict",
          "coloraxis": {
           "colorbar": {
            "outlinewidth": 0,
            "ticks": ""
           }
          },
          "colorscale": {
           "diverging": [
            [
             0,
             "#8e0152"
            ],
            [
             0.1,
             "#c51b7d"
            ],
            [
             0.2,
             "#de77ae"
            ],
            [
             0.3,
             "#f1b6da"
            ],
            [
             0.4,
             "#fde0ef"
            ],
            [
             0.5,
             "#f7f7f7"
            ],
            [
             0.6,
             "#e6f5d0"
            ],
            [
             0.7,
             "#b8e186"
            ],
            [
             0.8,
             "#7fbc41"
            ],
            [
             0.9,
             "#4d9221"
            ],
            [
             1,
             "#276419"
            ]
           ],
           "sequential": [
            [
             0,
             "#0d0887"
            ],
            [
             0.1111111111111111,
             "#46039f"
            ],
            [
             0.2222222222222222,
             "#7201a8"
            ],
            [
             0.3333333333333333,
             "#9c179e"
            ],
            [
             0.4444444444444444,
             "#bd3786"
            ],
            [
             0.5555555555555556,
             "#d8576b"
            ],
            [
             0.6666666666666666,
             "#ed7953"
            ],
            [
             0.7777777777777778,
             "#fb9f3a"
            ],
            [
             0.8888888888888888,
             "#fdca26"
            ],
            [
             1,
             "#f0f921"
            ]
           ],
           "sequentialminus": [
            [
             0,
             "#0d0887"
            ],
            [
             0.1111111111111111,
             "#46039f"
            ],
            [
             0.2222222222222222,
             "#7201a8"
            ],
            [
             0.3333333333333333,
             "#9c179e"
            ],
            [
             0.4444444444444444,
             "#bd3786"
            ],
            [
             0.5555555555555556,
             "#d8576b"
            ],
            [
             0.6666666666666666,
             "#ed7953"
            ],
            [
             0.7777777777777778,
             "#fb9f3a"
            ],
            [
             0.8888888888888888,
             "#fdca26"
            ],
            [
             1,
             "#f0f921"
            ]
           ]
          },
          "colorway": [
           "#636efa",
           "#EF553B",
           "#00cc96",
           "#ab63fa",
           "#FFA15A",
           "#19d3f3",
           "#FF6692",
           "#B6E880",
           "#FF97FF",
           "#FECB52"
          ],
          "font": {
           "color": "#2a3f5f"
          },
          "geo": {
           "bgcolor": "white",
           "lakecolor": "white",
           "landcolor": "#E5ECF6",
           "showlakes": true,
           "showland": true,
           "subunitcolor": "white"
          },
          "hoverlabel": {
           "align": "left"
          },
          "hovermode": "closest",
          "mapbox": {
           "style": "light"
          },
          "paper_bgcolor": "white",
          "plot_bgcolor": "#E5ECF6",
          "polar": {
           "angularaxis": {
            "gridcolor": "white",
            "linecolor": "white",
            "ticks": ""
           },
           "bgcolor": "#E5ECF6",
           "radialaxis": {
            "gridcolor": "white",
            "linecolor": "white",
            "ticks": ""
           }
          },
          "scene": {
           "xaxis": {
            "backgroundcolor": "#E5ECF6",
            "gridcolor": "white",
            "gridwidth": 2,
            "linecolor": "white",
            "showbackground": true,
            "ticks": "",
            "zerolinecolor": "white"
           },
           "yaxis": {
            "backgroundcolor": "#E5ECF6",
            "gridcolor": "white",
            "gridwidth": 2,
            "linecolor": "white",
            "showbackground": true,
            "ticks": "",
            "zerolinecolor": "white"
           },
           "zaxis": {
            "backgroundcolor": "#E5ECF6",
            "gridcolor": "white",
            "gridwidth": 2,
            "linecolor": "white",
            "showbackground": true,
            "ticks": "",
            "zerolinecolor": "white"
           }
          },
          "shapedefaults": {
           "line": {
            "color": "#2a3f5f"
           }
          },
          "ternary": {
           "aaxis": {
            "gridcolor": "white",
            "linecolor": "white",
            "ticks": ""
           },
           "baxis": {
            "gridcolor": "white",
            "linecolor": "white",
            "ticks": ""
           },
           "bgcolor": "#E5ECF6",
           "caxis": {
            "gridcolor": "white",
            "linecolor": "white",
            "ticks": ""
           }
          },
          "title": {
           "x": 0.05
          },
          "xaxis": {
           "automargin": true,
           "gridcolor": "white",
           "linecolor": "white",
           "ticks": "",
           "title": {
            "standoff": 15
           },
           "zerolinecolor": "white",
           "zerolinewidth": 2
          },
          "yaxis": {
           "automargin": true,
           "gridcolor": "white",
           "linecolor": "white",
           "ticks": "",
           "title": {
            "standoff": 15
           },
           "zerolinecolor": "white",
           "zerolinewidth": 2
          }
         }
        },
        "title": {
         "text": "drought 2.5 q3"
        },
        "width": 1600,
        "xaxis": {
         "linecolor": "rgb(102, 102, 102)",
         "showgrid": false,
         "showline": true,
         "showticklabels": true,
         "tickcolor": "rgb(102, 102, 102)",
         "tickfont": {
          "color": "rgb(102, 102, 102)"
         },
         "ticks": "outside"
        }
       }
      }
     },
     "metadata": {},
     "output_type": "display_data"
    },
    {
     "data": {
      "application/vnd.plotly.v1+json": {
       "config": {
        "plotlyServerURL": "https://plot.ly"
       },
       "data": [
        {
         "marker": {
          "color": "rgba(156, 165, 196, 0.95)",
          "line": {
           "width": 1
          },
          "size": 16,
          "symbol": "circle"
         },
         "mode": "markers",
         "name": "1",
         "type": "scatter",
         "x": [
          null,
          null,
          null,
          null,
          null,
          -68.776,
          null,
          -21.26,
          null,
          null,
          -56.5,
          null,
          null,
          null,
          null,
          null,
          null,
          null,
          -7.894,
          null,
          null,
          null,
          null,
          -14.718,
          null,
          null,
          -66.753,
          null,
          null,
          null,
          null,
          null,
          null,
          null,
          null,
          null,
          null,
          -14.065,
          null,
          null,
          -61.226,
          -22.864,
          null,
          null,
          null,
          null,
          null,
          null,
          null,
          null,
          null,
          null,
          null,
          null,
          null
         ],
         "y": [
          "AGO",
          "ALB",
          "ARM",
          "BEN",
          "BFA",
          "BGD",
          "BOL",
          "CIV",
          "CMR",
          "COD",
          "COM",
          "DOM",
          "EGY",
          "ETH",
          "GAB",
          "GHA",
          "GIN",
          "GMB",
          "GTM",
          "GUY",
          "HND",
          "HTI",
          "IND",
          "JOR",
          "KEN",
          "KGZ",
          "KHM",
          "LBR",
          "LSO",
          "MAR",
          "MDA",
          "MDG",
          "MLI",
          "MMR",
          "MOZ",
          "MRT",
          "MWI",
          "NAM",
          "NGA",
          "NIC",
          "PAK",
          "PER",
          "PHL",
          "SEN",
          "SLE",
          "SWZ",
          "TCD",
          "TGO",
          "TJK",
          "TLS",
          "TZA",
          "UGA",
          "ZAF",
          "ZMB",
          "ZWE"
         ]
        },
        {
         "marker": {
          "color": "rgba(156, 165, 196, 0.95)",
          "line": {
           "width": 1
          },
          "size": 16,
          "symbol": "circle"
         },
         "mode": "markers",
         "name": "2",
         "type": "scatter",
         "x": [
          null,
          -16.597,
          null,
          null,
          null,
          -64.656,
          null,
          -21.445,
          null,
          null,
          -56.233,
          null,
          null,
          null,
          null,
          null,
          null,
          null,
          null,
          null,
          null,
          25.426,
          null,
          -14.551,
          null,
          null,
          -65.859,
          31.132,
          -45.342,
          null,
          null,
          null,
          null,
          null,
          50.759,
          null,
          null,
          -17.636,
          null,
          null,
          -54.984,
          -24.458,
          null,
          null,
          null,
          null,
          null,
          null,
          null,
          null,
          null,
          null,
          null,
          null,
          null
         ],
         "y": [
          "AGO",
          "ALB",
          "ARM",
          "BEN",
          "BFA",
          "BGD",
          "BOL",
          "CIV",
          "CMR",
          "COD",
          "COM",
          "DOM",
          "EGY",
          "ETH",
          "GAB",
          "GHA",
          "GIN",
          "GMB",
          "GTM",
          "GUY",
          "HND",
          "HTI",
          "IND",
          "JOR",
          "KEN",
          "KGZ",
          "KHM",
          "LBR",
          "LSO",
          "MAR",
          "MDA",
          "MDG",
          "MLI",
          "MMR",
          "MOZ",
          "MRT",
          "MWI",
          "NAM",
          "NGA",
          "NIC",
          "PAK",
          "PER",
          "PHL",
          "SEN",
          "SLE",
          "SWZ",
          "TCD",
          "TGO",
          "TJK",
          "TLS",
          "TZA",
          "UGA",
          "ZAF",
          "ZMB",
          "ZWE"
         ]
        },
        {
         "marker": {
          "color": "rgba(156, 165, 196, 0.95)",
          "line": {
           "width": 1
          },
          "size": 16,
          "symbol": "circle"
         },
         "mode": "markers",
         "name": "3",
         "type": "scatter",
         "x": [
          null,
          -13.326,
          null,
          null,
          null,
          -62.992,
          null,
          -27.798,
          null,
          null,
          -63.124,
          null,
          null,
          null,
          null,
          null,
          null,
          null,
          -5.956,
          null,
          null,
          25.399,
          null,
          -14.535,
          null,
          null,
          -63.698,
          null,
          null,
          null,
          null,
          null,
          null,
          null,
          62.48,
          null,
          null,
          null,
          null,
          null,
          -55.908,
          -23,
          null,
          -16.941,
          null,
          null,
          null,
          null,
          null,
          null,
          null,
          -13.896,
          null,
          null,
          null
         ],
         "y": [
          "AGO",
          "ALB",
          "ARM",
          "BEN",
          "BFA",
          "BGD",
          "BOL",
          "CIV",
          "CMR",
          "COD",
          "COM",
          "DOM",
          "EGY",
          "ETH",
          "GAB",
          "GHA",
          "GIN",
          "GMB",
          "GTM",
          "GUY",
          "HND",
          "HTI",
          "IND",
          "JOR",
          "KEN",
          "KGZ",
          "KHM",
          "LBR",
          "LSO",
          "MAR",
          "MDA",
          "MDG",
          "MLI",
          "MMR",
          "MOZ",
          "MRT",
          "MWI",
          "NAM",
          "NGA",
          "NIC",
          "PAK",
          "PER",
          "PHL",
          "SEN",
          "SLE",
          "SWZ",
          "TCD",
          "TGO",
          "TJK",
          "TLS",
          "TZA",
          "UGA",
          "ZAF",
          "ZMB",
          "ZWE"
         ]
        },
        {
         "marker": {
          "color": "rgba(156, 165, 196, 0.95)",
          "line": {
           "width": 1
          },
          "size": 16,
          "symbol": "circle"
         },
         "mode": "markers",
         "name": "4",
         "type": "scatter",
         "x": [
          null,
          -14.078,
          null,
          null,
          null,
          -66.075,
          null,
          -32.306,
          null,
          null,
          -63.123,
          null,
          null,
          null,
          null,
          null,
          -52.53,
          null,
          -10.642,
          null,
          null,
          25.399,
          null,
          -14.454,
          null,
          null,
          -63.414,
          null,
          null,
          null,
          null,
          null,
          null,
          null,
          66.27,
          null,
          null,
          -13.977,
          null,
          null,
          -50.283,
          -26.685,
          null,
          null,
          null,
          null,
          null,
          null,
          null,
          null,
          null,
          null,
          null,
          null,
          null
         ],
         "y": [
          "AGO",
          "ALB",
          "ARM",
          "BEN",
          "BFA",
          "BGD",
          "BOL",
          "CIV",
          "CMR",
          "COD",
          "COM",
          "DOM",
          "EGY",
          "ETH",
          "GAB",
          "GHA",
          "GIN",
          "GMB",
          "GTM",
          "GUY",
          "HND",
          "HTI",
          "IND",
          "JOR",
          "KEN",
          "KGZ",
          "KHM",
          "LBR",
          "LSO",
          "MAR",
          "MDA",
          "MDG",
          "MLI",
          "MMR",
          "MOZ",
          "MRT",
          "MWI",
          "NAM",
          "NGA",
          "NIC",
          "PAK",
          "PER",
          "PHL",
          "SEN",
          "SLE",
          "SWZ",
          "TCD",
          "TGO",
          "TJK",
          "TLS",
          "TZA",
          "UGA",
          "ZAF",
          "ZMB",
          "ZWE"
         ]
        },
        {
         "marker": {
          "color": "rgba(204, 204, 204, 0.95)",
          "line": {
           "width": 1
          },
          "size": 16,
          "symbol": "circle"
         },
         "mode": "markers",
         "name": "5",
         "type": "scatter",
         "x": [
          null,
          null,
          null,
          null,
          null,
          null,
          null,
          null,
          16.777,
          null,
          null,
          null,
          null,
          null,
          null,
          null,
          null,
          null,
          null,
          null,
          null,
          null,
          null,
          null,
          null,
          null,
          null,
          null,
          -5.296,
          null,
          null,
          null,
          null,
          null,
          null,
          null,
          null,
          -16.484,
          null,
          null,
          null,
          null,
          null,
          null,
          -18.28,
          null,
          null,
          null,
          null,
          null,
          null,
          null,
          null,
          null,
          null
         ],
         "y": [
          "AGO",
          "ALB",
          "ARM",
          "BEN",
          "BFA",
          "BGD",
          "BOL",
          "CIV",
          "CMR",
          "COD",
          "COM",
          "DOM",
          "EGY",
          "ETH",
          "GAB",
          "GHA",
          "GIN",
          "GMB",
          "GTM",
          "GUY",
          "HND",
          "HTI",
          "IND",
          "JOR",
          "KEN",
          "KGZ",
          "KHM",
          "LBR",
          "LSO",
          "MAR",
          "MDA",
          "MDG",
          "MLI",
          "MMR",
          "MOZ",
          "MRT",
          "MWI",
          "NAM",
          "NGA",
          "NIC",
          "PAK",
          "PER",
          "PHL",
          "SEN",
          "SLE",
          "SWZ",
          "TCD",
          "TGO",
          "TJK",
          "TLS",
          "TZA",
          "UGA",
          "ZAF",
          "ZMB",
          "ZWE"
         ]
        },
        {
         "marker": {
          "color": "rgba(204, 204, 204, 0.95)",
          "line": {
           "width": 1
          },
          "size": 16,
          "symbol": "circle"
         },
         "mode": "markers",
         "name": "6",
         "type": "scatter",
         "x": [
          null,
          -6.504,
          null,
          null,
          null,
          -3.566,
          null,
          null,
          null,
          null,
          null,
          null,
          null,
          null,
          null,
          -3.532,
          null,
          null,
          null,
          null,
          null,
          -0.936,
          null,
          -1.587,
          null,
          null,
          null,
          null,
          -3.463,
          null,
          null,
          null,
          null,
          null,
          null,
          null,
          null,
          -14.868,
          null,
          null,
          -7.309,
          null,
          -2.999,
          null,
          -18.124,
          null,
          null,
          null,
          null,
          null,
          null,
          null,
          null,
          null,
          null
         ],
         "y": [
          "AGO",
          "ALB",
          "ARM",
          "BEN",
          "BFA",
          "BGD",
          "BOL",
          "CIV",
          "CMR",
          "COD",
          "COM",
          "DOM",
          "EGY",
          "ETH",
          "GAB",
          "GHA",
          "GIN",
          "GMB",
          "GTM",
          "GUY",
          "HND",
          "HTI",
          "IND",
          "JOR",
          "KEN",
          "KGZ",
          "KHM",
          "LBR",
          "LSO",
          "MAR",
          "MDA",
          "MDG",
          "MLI",
          "MMR",
          "MOZ",
          "MRT",
          "MWI",
          "NAM",
          "NGA",
          "NIC",
          "PAK",
          "PER",
          "PHL",
          "SEN",
          "SLE",
          "SWZ",
          "TCD",
          "TGO",
          "TJK",
          "TLS",
          "TZA",
          "UGA",
          "ZAF",
          "ZMB",
          "ZWE"
         ]
        },
        {
         "marker": {
          "color": "rgba(204, 204, 204, 0.95)",
          "line": {
           "width": 1
          },
          "size": 16,
          "symbol": "circle"
         },
         "mode": "markers",
         "name": "7",
         "type": "scatter",
         "x": [
          null,
          -5.762,
          null,
          null,
          null,
          -4.08,
          null,
          null,
          null,
          null,
          null,
          null,
          null,
          null,
          -2.24,
          -3.735,
          null,
          null,
          null,
          null,
          null,
          -0.984,
          null,
          -1.491,
          null,
          null,
          null,
          null,
          -2.102,
          null,
          null,
          null,
          null,
          null,
          null,
          null,
          null,
          -12.709,
          null,
          null,
          -6.432,
          null,
          -2.709,
          null,
          -18.156,
          null,
          null,
          null,
          null,
          null,
          null,
          null,
          null,
          null,
          null
         ],
         "y": [
          "AGO",
          "ALB",
          "ARM",
          "BEN",
          "BFA",
          "BGD",
          "BOL",
          "CIV",
          "CMR",
          "COD",
          "COM",
          "DOM",
          "EGY",
          "ETH",
          "GAB",
          "GHA",
          "GIN",
          "GMB",
          "GTM",
          "GUY",
          "HND",
          "HTI",
          "IND",
          "JOR",
          "KEN",
          "KGZ",
          "KHM",
          "LBR",
          "LSO",
          "MAR",
          "MDA",
          "MDG",
          "MLI",
          "MMR",
          "MOZ",
          "MRT",
          "MWI",
          "NAM",
          "NGA",
          "NIC",
          "PAK",
          "PER",
          "PHL",
          "SEN",
          "SLE",
          "SWZ",
          "TCD",
          "TGO",
          "TJK",
          "TLS",
          "TZA",
          "UGA",
          "ZAF",
          "ZMB",
          "ZWE"
         ]
        },
        {
         "marker": {
          "color": "rgba(204, 204, 204, 0.95)",
          "line": {
           "width": 1
          },
          "size": 16,
          "symbol": "circle"
         },
         "mode": "markers",
         "name": "8",
         "type": "scatter",
         "x": [
          null,
          null,
          null,
          null,
          null,
          -5.493,
          null,
          null,
          15.661,
          null,
          null,
          null,
          null,
          null,
          -2.201,
          -4.412,
          -22.423,
          null,
          -2.912,
          null,
          null,
          -0.984,
          null,
          -1.48,
          null,
          null,
          null,
          null,
          null,
          null,
          null,
          null,
          null,
          null,
          null,
          null,
          8.144,
          null,
          null,
          null,
          -6.347,
          null,
          -2.131,
          9.627,
          -18.884,
          null,
          null,
          null,
          null,
          null,
          null,
          null,
          null,
          null,
          null
         ],
         "y": [
          "AGO",
          "ALB",
          "ARM",
          "BEN",
          "BFA",
          "BGD",
          "BOL",
          "CIV",
          "CMR",
          "COD",
          "COM",
          "DOM",
          "EGY",
          "ETH",
          "GAB",
          "GHA",
          "GIN",
          "GMB",
          "GTM",
          "GUY",
          "HND",
          "HTI",
          "IND",
          "JOR",
          "KEN",
          "KGZ",
          "KHM",
          "LBR",
          "LSO",
          "MAR",
          "MDA",
          "MDG",
          "MLI",
          "MMR",
          "MOZ",
          "MRT",
          "MWI",
          "NAM",
          "NGA",
          "NIC",
          "PAK",
          "PER",
          "PHL",
          "SEN",
          "SLE",
          "SWZ",
          "TCD",
          "TGO",
          "TJK",
          "TLS",
          "TZA",
          "UGA",
          "ZAF",
          "ZMB",
          "ZWE"
         ]
        },
        {
         "marker": {
          "color": "rgba(255, 166, 86, 0.95)",
          "line": {
           "width": 1
          },
          "size": 16,
          "symbol": "circle"
         },
         "mode": "markers",
         "name": "9",
         "type": "scatter",
         "x": [
          null,
          null,
          null,
          null,
          -18.165,
          -7.175,
          null,
          null,
          null,
          null,
          -28.954,
          null,
          null,
          null,
          null,
          -13.535,
          -56.737,
          null,
          null,
          null,
          null,
          22.872,
          -1.893,
          null,
          null,
          null,
          -11.399,
          -17.569,
          null,
          null,
          null,
          null,
          null,
          null,
          null,
          null,
          null,
          null,
          -11.971,
          null,
          null,
          null,
          null,
          null,
          null,
          null,
          null,
          null,
          null,
          null,
          -17.154,
          null,
          null,
          null,
          null
         ],
         "y": [
          "AGO",
          "ALB",
          "ARM",
          "BEN",
          "BFA",
          "BGD",
          "BOL",
          "CIV",
          "CMR",
          "COD",
          "COM",
          "DOM",
          "EGY",
          "ETH",
          "GAB",
          "GHA",
          "GIN",
          "GMB",
          "GTM",
          "GUY",
          "HND",
          "HTI",
          "IND",
          "JOR",
          "KEN",
          "KGZ",
          "KHM",
          "LBR",
          "LSO",
          "MAR",
          "MDA",
          "MDG",
          "MLI",
          "MMR",
          "MOZ",
          "MRT",
          "MWI",
          "NAM",
          "NGA",
          "NIC",
          "PAK",
          "PER",
          "PHL",
          "SEN",
          "SLE",
          "SWZ",
          "TCD",
          "TGO",
          "TJK",
          "TLS",
          "TZA",
          "UGA",
          "ZAF",
          "ZMB",
          "ZWE"
         ]
        },
        {
         "marker": {
          "color": "rgba(255, 166, 86, 0.95)",
          "line": {
           "width": 1
          },
          "size": 16,
          "symbol": "circle"
         },
         "mode": "markers",
         "name": "10",
         "type": "scatter",
         "x": [
          null,
          -3.004,
          null,
          null,
          -13.322,
          -4.618,
          null,
          null,
          null,
          null,
          -28.834,
          null,
          null,
          null,
          null,
          -14.401,
          -58.395,
          null,
          null,
          null,
          null,
          23.414,
          -1.782,
          null,
          null,
          null,
          -7.563,
          null,
          -6.765,
          null,
          null,
          null,
          null,
          null,
          null,
          null,
          null,
          -2.836,
          null,
          null,
          null,
          null,
          null,
          null,
          50.316,
          null,
          null,
          null,
          null,
          null,
          null,
          null,
          null,
          null,
          null
         ],
         "y": [
          "AGO",
          "ALB",
          "ARM",
          "BEN",
          "BFA",
          "BGD",
          "BOL",
          "CIV",
          "CMR",
          "COD",
          "COM",
          "DOM",
          "EGY",
          "ETH",
          "GAB",
          "GHA",
          "GIN",
          "GMB",
          "GTM",
          "GUY",
          "HND",
          "HTI",
          "IND",
          "JOR",
          "KEN",
          "KGZ",
          "KHM",
          "LBR",
          "LSO",
          "MAR",
          "MDA",
          "MDG",
          "MLI",
          "MMR",
          "MOZ",
          "MRT",
          "MWI",
          "NAM",
          "NGA",
          "NIC",
          "PAK",
          "PER",
          "PHL",
          "SEN",
          "SLE",
          "SWZ",
          "TCD",
          "TGO",
          "TJK",
          "TLS",
          "TZA",
          "UGA",
          "ZAF",
          "ZMB",
          "ZWE"
         ]
        },
        {
         "marker": {
          "color": "rgba(255, 166, 86, 0.95)",
          "line": {
           "width": 1
          },
          "size": 16,
          "symbol": "circle"
         },
         "mode": "markers",
         "name": "11",
         "type": "scatter",
         "x": [
          null,
          -4.948,
          null,
          null,
          -13.258,
          -2.63,
          null,
          -5.898,
          null,
          null,
          -10.451,
          null,
          null,
          null,
          null,
          -13.775,
          null,
          null,
          -3.768,
          null,
          null,
          23.365,
          -2.11,
          null,
          null,
          null,
          -6.777,
          -16.591,
          null,
          null,
          null,
          null,
          null,
          null,
          null,
          null,
          null,
          -3.056,
          null,
          null,
          null,
          null,
          null,
          null,
          48.86,
          null,
          null,
          null,
          null,
          null,
          null,
          null,
          null,
          null,
          null
         ],
         "y": [
          "AGO",
          "ALB",
          "ARM",
          "BEN",
          "BFA",
          "BGD",
          "BOL",
          "CIV",
          "CMR",
          "COD",
          "COM",
          "DOM",
          "EGY",
          "ETH",
          "GAB",
          "GHA",
          "GIN",
          "GMB",
          "GTM",
          "GUY",
          "HND",
          "HTI",
          "IND",
          "JOR",
          "KEN",
          "KGZ",
          "KHM",
          "LBR",
          "LSO",
          "MAR",
          "MDA",
          "MDG",
          "MLI",
          "MMR",
          "MOZ",
          "MRT",
          "MWI",
          "NAM",
          "NGA",
          "NIC",
          "PAK",
          "PER",
          "PHL",
          "SEN",
          "SLE",
          "SWZ",
          "TCD",
          "TGO",
          "TJK",
          "TLS",
          "TZA",
          "UGA",
          "ZAF",
          "ZMB",
          "ZWE"
         ]
        },
        {
         "marker": {
          "color": "rgba(255, 166, 86, 0.95)",
          "line": {
           "width": 1
          },
          "size": 16,
          "symbol": "circle"
         },
         "mode": "markers",
         "name": "12",
         "type": "scatter",
         "x": [
          18.437,
          -5.436,
          null,
          null,
          -13.812,
          -4.236,
          null,
          -7.02,
          null,
          null,
          -10.452,
          null,
          null,
          null,
          null,
          -14.569,
          -53.818,
          null,
          -2.358,
          null,
          null,
          23.365,
          -2.126,
          null,
          null,
          null,
          -6.605,
          -17.576,
          null,
          null,
          null,
          -1.859,
          null,
          null,
          null,
          null,
          null,
          null,
          null,
          null,
          16.718,
          -2.514,
          null,
          null,
          null,
          null,
          10.322,
          null,
          null,
          null,
          null,
          null,
          null,
          null,
          null
         ],
         "y": [
          "AGO",
          "ALB",
          "ARM",
          "BEN",
          "BFA",
          "BGD",
          "BOL",
          "CIV",
          "CMR",
          "COD",
          "COM",
          "DOM",
          "EGY",
          "ETH",
          "GAB",
          "GHA",
          "GIN",
          "GMB",
          "GTM",
          "GUY",
          "HND",
          "HTI",
          "IND",
          "JOR",
          "KEN",
          "KGZ",
          "KHM",
          "LBR",
          "LSO",
          "MAR",
          "MDA",
          "MDG",
          "MLI",
          "MMR",
          "MOZ",
          "MRT",
          "MWI",
          "NAM",
          "NGA",
          "NIC",
          "PAK",
          "PER",
          "PHL",
          "SEN",
          "SLE",
          "SWZ",
          "TCD",
          "TGO",
          "TJK",
          "TLS",
          "TZA",
          "UGA",
          "ZAF",
          "ZMB",
          "ZWE"
         ]
        },
        {
         "marker": {
          "color": "rgba(240, 230, 140, 0.95)",
          "line": {
           "width": 1
          },
          "size": 16,
          "symbol": "circle"
         },
         "mode": "markers",
         "name": "13",
         "type": "scatter",
         "x": [
          null,
          null,
          null,
          null,
          null,
          -5.85,
          null,
          null,
          null,
          null,
          -28.07,
          null,
          null,
          null,
          null,
          null,
          null,
          null,
          null,
          null,
          null,
          25.681,
          null,
          null,
          null,
          null,
          null,
          null,
          null,
          null,
          null,
          null,
          null,
          null,
          null,
          null,
          null,
          null,
          null,
          null,
          -18.917,
          -10.25,
          -5.672,
          null,
          null,
          null,
          null,
          null,
          null,
          null,
          null,
          null,
          null,
          null,
          null
         ],
         "y": [
          "AGO",
          "ALB",
          "ARM",
          "BEN",
          "BFA",
          "BGD",
          "BOL",
          "CIV",
          "CMR",
          "COD",
          "COM",
          "DOM",
          "EGY",
          "ETH",
          "GAB",
          "GHA",
          "GIN",
          "GMB",
          "GTM",
          "GUY",
          "HND",
          "HTI",
          "IND",
          "JOR",
          "KEN",
          "KGZ",
          "KHM",
          "LBR",
          "LSO",
          "MAR",
          "MDA",
          "MDG",
          "MLI",
          "MMR",
          "MOZ",
          "MRT",
          "MWI",
          "NAM",
          "NGA",
          "NIC",
          "PAK",
          "PER",
          "PHL",
          "SEN",
          "SLE",
          "SWZ",
          "TCD",
          "TGO",
          "TJK",
          "TLS",
          "TZA",
          "UGA",
          "ZAF",
          "ZMB",
          "ZWE"
         ]
        },
        {
         "marker": {
          "color": "rgba(240, 230, 140, 0.95)",
          "line": {
           "width": 1
          },
          "size": 16,
          "symbol": "circle"
         },
         "mode": "markers",
         "name": "14",
         "type": "scatter",
         "x": [
          null,
          -3.095,
          null,
          null,
          null,
          -3.742,
          null,
          -12.383,
          null,
          null,
          -28.234,
          null,
          null,
          null,
          null,
          null,
          -39.966,
          null,
          null,
          null,
          null,
          24.76,
          null,
          -1.87,
          null,
          null,
          null,
          null,
          11.36,
          null,
          null,
          null,
          null,
          null,
          null,
          null,
          null,
          null,
          null,
          null,
          -19.368,
          -8.042,
          -4.452,
          null,
          null,
          null,
          null,
          null,
          null,
          null,
          null,
          null,
          null,
          null,
          null
         ],
         "y": [
          "AGO",
          "ALB",
          "ARM",
          "BEN",
          "BFA",
          "BGD",
          "BOL",
          "CIV",
          "CMR",
          "COD",
          "COM",
          "DOM",
          "EGY",
          "ETH",
          "GAB",
          "GHA",
          "GIN",
          "GMB",
          "GTM",
          "GUY",
          "HND",
          "HTI",
          "IND",
          "JOR",
          "KEN",
          "KGZ",
          "KHM",
          "LBR",
          "LSO",
          "MAR",
          "MDA",
          "MDG",
          "MLI",
          "MMR",
          "MOZ",
          "MRT",
          "MWI",
          "NAM",
          "NGA",
          "NIC",
          "PAK",
          "PER",
          "PHL",
          "SEN",
          "SLE",
          "SWZ",
          "TCD",
          "TGO",
          "TJK",
          "TLS",
          "TZA",
          "UGA",
          "ZAF",
          "ZMB",
          "ZWE"
         ]
        },
        {
         "marker": {
          "color": "rgba(240, 230, 140, 0.95)",
          "line": {
           "width": 1
          },
          "size": 16,
          "symbol": "circle"
         },
         "mode": "markers",
         "name": "15",
         "type": "scatter",
         "x": [
          null,
          -2.678,
          null,
          null,
          null,
          -5.345,
          null,
          -15.182,
          null,
          null,
          -6.676,
          null,
          null,
          null,
          null,
          null,
          -38.006,
          null,
          -6.533,
          null,
          null,
          24.631,
          null,
          -1.617,
          null,
          null,
          null,
          -19.054,
          12.443,
          null,
          null,
          null,
          null,
          null,
          null,
          null,
          null,
          -6.679,
          null,
          null,
          -15.928,
          -8.177,
          -4.32,
          null,
          null,
          null,
          null,
          null,
          null,
          null,
          48.011,
          null,
          null,
          null,
          null
         ],
         "y": [
          "AGO",
          "ALB",
          "ARM",
          "BEN",
          "BFA",
          "BGD",
          "BOL",
          "CIV",
          "CMR",
          "COD",
          "COM",
          "DOM",
          "EGY",
          "ETH",
          "GAB",
          "GHA",
          "GIN",
          "GMB",
          "GTM",
          "GUY",
          "HND",
          "HTI",
          "IND",
          "JOR",
          "KEN",
          "KGZ",
          "KHM",
          "LBR",
          "LSO",
          "MAR",
          "MDA",
          "MDG",
          "MLI",
          "MMR",
          "MOZ",
          "MRT",
          "MWI",
          "NAM",
          "NGA",
          "NIC",
          "PAK",
          "PER",
          "PHL",
          "SEN",
          "SLE",
          "SWZ",
          "TCD",
          "TGO",
          "TJK",
          "TLS",
          "TZA",
          "UGA",
          "ZAF",
          "ZMB",
          "ZWE"
         ]
        },
        {
         "marker": {
          "color": "rgba(240, 230, 140, 0.95)",
          "line": {
           "width": 1
          },
          "size": 16,
          "symbol": "circle"
         },
         "mode": "markers",
         "name": "16",
         "type": "scatter",
         "x": [
          null,
          -3.848,
          null,
          null,
          null,
          -6.535,
          -36.728,
          -17.569,
          null,
          null,
          -6.675,
          null,
          null,
          null,
          null,
          null,
          -39.853,
          null,
          -10.259,
          null,
          null,
          24.631,
          null,
          null,
          null,
          null,
          null,
          -17.784,
          12.567,
          null,
          null,
          null,
          null,
          null,
          null,
          null,
          null,
          -5.201,
          null,
          null,
          -11.75,
          -8.87,
          -4.159,
          null,
          null,
          null,
          null,
          null,
          null,
          null,
          null,
          null,
          null,
          null,
          null
         ],
         "y": [
          "AGO",
          "ALB",
          "ARM",
          "BEN",
          "BFA",
          "BGD",
          "BOL",
          "CIV",
          "CMR",
          "COD",
          "COM",
          "DOM",
          "EGY",
          "ETH",
          "GAB",
          "GHA",
          "GIN",
          "GMB",
          "GTM",
          "GUY",
          "HND",
          "HTI",
          "IND",
          "JOR",
          "KEN",
          "KGZ",
          "KHM",
          "LBR",
          "LSO",
          "MAR",
          "MDA",
          "MDG",
          "MLI",
          "MMR",
          "MOZ",
          "MRT",
          "MWI",
          "NAM",
          "NGA",
          "NIC",
          "PAK",
          "PER",
          "PHL",
          "SEN",
          "SLE",
          "SWZ",
          "TCD",
          "TGO",
          "TJK",
          "TLS",
          "TZA",
          "UGA",
          "ZAF",
          "ZMB",
          "ZWE"
         ]
        }
       ],
       "layout": {
        "height": 600,
        "hovermode": "closest",
        "legend": {
         "font": {
          "size": 10
         },
         "xanchor": "center",
         "yanchor": "top"
        },
        "margin": {
         "b": 50,
         "l": 140,
         "r": 40,
         "t": 80
        },
        "paper_bgcolor": "white",
        "plot_bgcolor": "white",
        "shapes": [
         {
          "line": {
           "color": "red",
           "dash": "dashdot",
           "width": 2
          },
          "type": "line",
          "x0": 0,
          "x1": 0,
          "y0": 0,
          "y1": 55
         }
        ],
        "template": {
         "data": {
          "bar": [
           {
            "error_x": {
             "color": "#2a3f5f"
            },
            "error_y": {
             "color": "#2a3f5f"
            },
            "marker": {
             "line": {
              "color": "#E5ECF6",
              "width": 0.5
             },
             "pattern": {
              "fillmode": "overlay",
              "size": 10,
              "solidity": 0.2
             }
            },
            "type": "bar"
           }
          ],
          "barpolar": [
           {
            "marker": {
             "line": {
              "color": "#E5ECF6",
              "width": 0.5
             },
             "pattern": {
              "fillmode": "overlay",
              "size": 10,
              "solidity": 0.2
             }
            },
            "type": "barpolar"
           }
          ],
          "carpet": [
           {
            "aaxis": {
             "endlinecolor": "#2a3f5f",
             "gridcolor": "white",
             "linecolor": "white",
             "minorgridcolor": "white",
             "startlinecolor": "#2a3f5f"
            },
            "baxis": {
             "endlinecolor": "#2a3f5f",
             "gridcolor": "white",
             "linecolor": "white",
             "minorgridcolor": "white",
             "startlinecolor": "#2a3f5f"
            },
            "type": "carpet"
           }
          ],
          "choropleth": [
           {
            "colorbar": {
             "outlinewidth": 0,
             "ticks": ""
            },
            "type": "choropleth"
           }
          ],
          "contour": [
           {
            "colorbar": {
             "outlinewidth": 0,
             "ticks": ""
            },
            "colorscale": [
             [
              0,
              "#0d0887"
             ],
             [
              0.1111111111111111,
              "#46039f"
             ],
             [
              0.2222222222222222,
              "#7201a8"
             ],
             [
              0.3333333333333333,
              "#9c179e"
             ],
             [
              0.4444444444444444,
              "#bd3786"
             ],
             [
              0.5555555555555556,
              "#d8576b"
             ],
             [
              0.6666666666666666,
              "#ed7953"
             ],
             [
              0.7777777777777778,
              "#fb9f3a"
             ],
             [
              0.8888888888888888,
              "#fdca26"
             ],
             [
              1,
              "#f0f921"
             ]
            ],
            "type": "contour"
           }
          ],
          "contourcarpet": [
           {
            "colorbar": {
             "outlinewidth": 0,
             "ticks": ""
            },
            "type": "contourcarpet"
           }
          ],
          "heatmap": [
           {
            "colorbar": {
             "outlinewidth": 0,
             "ticks": ""
            },
            "colorscale": [
             [
              0,
              "#0d0887"
             ],
             [
              0.1111111111111111,
              "#46039f"
             ],
             [
              0.2222222222222222,
              "#7201a8"
             ],
             [
              0.3333333333333333,
              "#9c179e"
             ],
             [
              0.4444444444444444,
              "#bd3786"
             ],
             [
              0.5555555555555556,
              "#d8576b"
             ],
             [
              0.6666666666666666,
              "#ed7953"
             ],
             [
              0.7777777777777778,
              "#fb9f3a"
             ],
             [
              0.8888888888888888,
              "#fdca26"
             ],
             [
              1,
              "#f0f921"
             ]
            ],
            "type": "heatmap"
           }
          ],
          "heatmapgl": [
           {
            "colorbar": {
             "outlinewidth": 0,
             "ticks": ""
            },
            "colorscale": [
             [
              0,
              "#0d0887"
             ],
             [
              0.1111111111111111,
              "#46039f"
             ],
             [
              0.2222222222222222,
              "#7201a8"
             ],
             [
              0.3333333333333333,
              "#9c179e"
             ],
             [
              0.4444444444444444,
              "#bd3786"
             ],
             [
              0.5555555555555556,
              "#d8576b"
             ],
             [
              0.6666666666666666,
              "#ed7953"
             ],
             [
              0.7777777777777778,
              "#fb9f3a"
             ],
             [
              0.8888888888888888,
              "#fdca26"
             ],
             [
              1,
              "#f0f921"
             ]
            ],
            "type": "heatmapgl"
           }
          ],
          "histogram": [
           {
            "marker": {
             "pattern": {
              "fillmode": "overlay",
              "size": 10,
              "solidity": 0.2
             }
            },
            "type": "histogram"
           }
          ],
          "histogram2d": [
           {
            "colorbar": {
             "outlinewidth": 0,
             "ticks": ""
            },
            "colorscale": [
             [
              0,
              "#0d0887"
             ],
             [
              0.1111111111111111,
              "#46039f"
             ],
             [
              0.2222222222222222,
              "#7201a8"
             ],
             [
              0.3333333333333333,
              "#9c179e"
             ],
             [
              0.4444444444444444,
              "#bd3786"
             ],
             [
              0.5555555555555556,
              "#d8576b"
             ],
             [
              0.6666666666666666,
              "#ed7953"
             ],
             [
              0.7777777777777778,
              "#fb9f3a"
             ],
             [
              0.8888888888888888,
              "#fdca26"
             ],
             [
              1,
              "#f0f921"
             ]
            ],
            "type": "histogram2d"
           }
          ],
          "histogram2dcontour": [
           {
            "colorbar": {
             "outlinewidth": 0,
             "ticks": ""
            },
            "colorscale": [
             [
              0,
              "#0d0887"
             ],
             [
              0.1111111111111111,
              "#46039f"
             ],
             [
              0.2222222222222222,
              "#7201a8"
             ],
             [
              0.3333333333333333,
              "#9c179e"
             ],
             [
              0.4444444444444444,
              "#bd3786"
             ],
             [
              0.5555555555555556,
              "#d8576b"
             ],
             [
              0.6666666666666666,
              "#ed7953"
             ],
             [
              0.7777777777777778,
              "#fb9f3a"
             ],
             [
              0.8888888888888888,
              "#fdca26"
             ],
             [
              1,
              "#f0f921"
             ]
            ],
            "type": "histogram2dcontour"
           }
          ],
          "mesh3d": [
           {
            "colorbar": {
             "outlinewidth": 0,
             "ticks": ""
            },
            "type": "mesh3d"
           }
          ],
          "parcoords": [
           {
            "line": {
             "colorbar": {
              "outlinewidth": 0,
              "ticks": ""
             }
            },
            "type": "parcoords"
           }
          ],
          "pie": [
           {
            "automargin": true,
            "type": "pie"
           }
          ],
          "scatter": [
           {
            "fillpattern": {
             "fillmode": "overlay",
             "size": 10,
             "solidity": 0.2
            },
            "type": "scatter"
           }
          ],
          "scatter3d": [
           {
            "line": {
             "colorbar": {
              "outlinewidth": 0,
              "ticks": ""
             }
            },
            "marker": {
             "colorbar": {
              "outlinewidth": 0,
              "ticks": ""
             }
            },
            "type": "scatter3d"
           }
          ],
          "scattercarpet": [
           {
            "marker": {
             "colorbar": {
              "outlinewidth": 0,
              "ticks": ""
             }
            },
            "type": "scattercarpet"
           }
          ],
          "scattergeo": [
           {
            "marker": {
             "colorbar": {
              "outlinewidth": 0,
              "ticks": ""
             }
            },
            "type": "scattergeo"
           }
          ],
          "scattergl": [
           {
            "marker": {
             "colorbar": {
              "outlinewidth": 0,
              "ticks": ""
             }
            },
            "type": "scattergl"
           }
          ],
          "scattermapbox": [
           {
            "marker": {
             "colorbar": {
              "outlinewidth": 0,
              "ticks": ""
             }
            },
            "type": "scattermapbox"
           }
          ],
          "scatterpolar": [
           {
            "marker": {
             "colorbar": {
              "outlinewidth": 0,
              "ticks": ""
             }
            },
            "type": "scatterpolar"
           }
          ],
          "scatterpolargl": [
           {
            "marker": {
             "colorbar": {
              "outlinewidth": 0,
              "ticks": ""
             }
            },
            "type": "scatterpolargl"
           }
          ],
          "scatterternary": [
           {
            "marker": {
             "colorbar": {
              "outlinewidth": 0,
              "ticks": ""
             }
            },
            "type": "scatterternary"
           }
          ],
          "surface": [
           {
            "colorbar": {
             "outlinewidth": 0,
             "ticks": ""
            },
            "colorscale": [
             [
              0,
              "#0d0887"
             ],
             [
              0.1111111111111111,
              "#46039f"
             ],
             [
              0.2222222222222222,
              "#7201a8"
             ],
             [
              0.3333333333333333,
              "#9c179e"
             ],
             [
              0.4444444444444444,
              "#bd3786"
             ],
             [
              0.5555555555555556,
              "#d8576b"
             ],
             [
              0.6666666666666666,
              "#ed7953"
             ],
             [
              0.7777777777777778,
              "#fb9f3a"
             ],
             [
              0.8888888888888888,
              "#fdca26"
             ],
             [
              1,
              "#f0f921"
             ]
            ],
            "type": "surface"
           }
          ],
          "table": [
           {
            "cells": {
             "fill": {
              "color": "#EBF0F8"
             },
             "line": {
              "color": "white"
             }
            },
            "header": {
             "fill": {
              "color": "#C8D4E3"
             },
             "line": {
              "color": "white"
             }
            },
            "type": "table"
           }
          ]
         },
         "layout": {
          "annotationdefaults": {
           "arrowcolor": "#2a3f5f",
           "arrowhead": 0,
           "arrowwidth": 1
          },
          "autotypenumbers": "strict",
          "coloraxis": {
           "colorbar": {
            "outlinewidth": 0,
            "ticks": ""
           }
          },
          "colorscale": {
           "diverging": [
            [
             0,
             "#8e0152"
            ],
            [
             0.1,
             "#c51b7d"
            ],
            [
             0.2,
             "#de77ae"
            ],
            [
             0.3,
             "#f1b6da"
            ],
            [
             0.4,
             "#fde0ef"
            ],
            [
             0.5,
             "#f7f7f7"
            ],
            [
             0.6,
             "#e6f5d0"
            ],
            [
             0.7,
             "#b8e186"
            ],
            [
             0.8,
             "#7fbc41"
            ],
            [
             0.9,
             "#4d9221"
            ],
            [
             1,
             "#276419"
            ]
           ],
           "sequential": [
            [
             0,
             "#0d0887"
            ],
            [
             0.1111111111111111,
             "#46039f"
            ],
            [
             0.2222222222222222,
             "#7201a8"
            ],
            [
             0.3333333333333333,
             "#9c179e"
            ],
            [
             0.4444444444444444,
             "#bd3786"
            ],
            [
             0.5555555555555556,
             "#d8576b"
            ],
            [
             0.6666666666666666,
             "#ed7953"
            ],
            [
             0.7777777777777778,
             "#fb9f3a"
            ],
            [
             0.8888888888888888,
             "#fdca26"
            ],
            [
             1,
             "#f0f921"
            ]
           ],
           "sequentialminus": [
            [
             0,
             "#0d0887"
            ],
            [
             0.1111111111111111,
             "#46039f"
            ],
            [
             0.2222222222222222,
             "#7201a8"
            ],
            [
             0.3333333333333333,
             "#9c179e"
            ],
            [
             0.4444444444444444,
             "#bd3786"
            ],
            [
             0.5555555555555556,
             "#d8576b"
            ],
            [
             0.6666666666666666,
             "#ed7953"
            ],
            [
             0.7777777777777778,
             "#fb9f3a"
            ],
            [
             0.8888888888888888,
             "#fdca26"
            ],
            [
             1,
             "#f0f921"
            ]
           ]
          },
          "colorway": [
           "#636efa",
           "#EF553B",
           "#00cc96",
           "#ab63fa",
           "#FFA15A",
           "#19d3f3",
           "#FF6692",
           "#B6E880",
           "#FF97FF",
           "#FECB52"
          ],
          "font": {
           "color": "#2a3f5f"
          },
          "geo": {
           "bgcolor": "white",
           "lakecolor": "white",
           "landcolor": "#E5ECF6",
           "showlakes": true,
           "showland": true,
           "subunitcolor": "white"
          },
          "hoverlabel": {
           "align": "left"
          },
          "hovermode": "closest",
          "mapbox": {
           "style": "light"
          },
          "paper_bgcolor": "white",
          "plot_bgcolor": "#E5ECF6",
          "polar": {
           "angularaxis": {
            "gridcolor": "white",
            "linecolor": "white",
            "ticks": ""
           },
           "bgcolor": "#E5ECF6",
           "radialaxis": {
            "gridcolor": "white",
            "linecolor": "white",
            "ticks": ""
           }
          },
          "scene": {
           "xaxis": {
            "backgroundcolor": "#E5ECF6",
            "gridcolor": "white",
            "gridwidth": 2,
            "linecolor": "white",
            "showbackground": true,
            "ticks": "",
            "zerolinecolor": "white"
           },
           "yaxis": {
            "backgroundcolor": "#E5ECF6",
            "gridcolor": "white",
            "gridwidth": 2,
            "linecolor": "white",
            "showbackground": true,
            "ticks": "",
            "zerolinecolor": "white"
           },
           "zaxis": {
            "backgroundcolor": "#E5ECF6",
            "gridcolor": "white",
            "gridwidth": 2,
            "linecolor": "white",
            "showbackground": true,
            "ticks": "",
            "zerolinecolor": "white"
           }
          },
          "shapedefaults": {
           "line": {
            "color": "#2a3f5f"
           }
          },
          "ternary": {
           "aaxis": {
            "gridcolor": "white",
            "linecolor": "white",
            "ticks": ""
           },
           "baxis": {
            "gridcolor": "white",
            "linecolor": "white",
            "ticks": ""
           },
           "bgcolor": "#E5ECF6",
           "caxis": {
            "gridcolor": "white",
            "linecolor": "white",
            "ticks": ""
           }
          },
          "title": {
           "x": 0.05
          },
          "xaxis": {
           "automargin": true,
           "gridcolor": "white",
           "linecolor": "white",
           "ticks": "",
           "title": {
            "standoff": 15
           },
           "zerolinecolor": "white",
           "zerolinewidth": 2
          },
          "yaxis": {
           "automargin": true,
           "gridcolor": "white",
           "linecolor": "white",
           "ticks": "",
           "title": {
            "standoff": 15
           },
           "zerolinecolor": "white",
           "zerolinewidth": 2
          }
         }
        },
        "title": {
         "text": "drought 2.5 30d"
        },
        "width": 1600,
        "xaxis": {
         "linecolor": "rgb(102, 102, 102)",
         "showgrid": false,
         "showline": true,
         "showticklabels": true,
         "tickcolor": "rgb(102, 102, 102)",
         "tickfont": {
          "color": "rgb(102, 102, 102)"
         },
         "ticks": "outside"
        }
       }
      }
     },
     "metadata": {},
     "output_type": "display_data"
    },
    {
     "data": {
      "application/vnd.plotly.v1+json": {
       "config": {
        "plotlyServerURL": "https://plot.ly"
       },
       "data": [
        {
         "marker": {
          "color": "rgba(156, 165, 196, 0.95)",
          "line": {
           "width": 1
          },
          "size": 16,
          "symbol": "circle"
         },
         "mode": "markers",
         "name": "1",
         "type": "scatter",
         "x": [
          null,
          null,
          null,
          null,
          null,
          null,
          null,
          null,
          null,
          null,
          null,
          null,
          null,
          null,
          null,
          null,
          null,
          null,
          null,
          null,
          null,
          null,
          null,
          null,
          null,
          null,
          null,
          null,
          null,
          null,
          null,
          null,
          null,
          null,
          null,
          null,
          null,
          null,
          null,
          null,
          null,
          null,
          null,
          null,
          null,
          null,
          null,
          null,
          null,
          null,
          null,
          null,
          null,
          null,
          null
         ],
         "y": [
          "AGO",
          "ALB",
          "ARM",
          "BEN",
          "BFA",
          "BGD",
          "BOL",
          "CIV",
          "CMR",
          "COD",
          "COM",
          "DOM",
          "EGY",
          "ETH",
          "GAB",
          "GHA",
          "GIN",
          "GMB",
          "GTM",
          "GUY",
          "HND",
          "HTI",
          "IND",
          "JOR",
          "KEN",
          "KGZ",
          "KHM",
          "LBR",
          "LSO",
          "MAR",
          "MDA",
          "MDG",
          "MLI",
          "MMR",
          "MOZ",
          "MRT",
          "MWI",
          "NAM",
          "NGA",
          "NIC",
          "PAK",
          "PER",
          "PHL",
          "SEN",
          "SLE",
          "SWZ",
          "TCD",
          "TGO",
          "TJK",
          "TLS",
          "TZA",
          "UGA",
          "ZAF",
          "ZMB",
          "ZWE"
         ]
        },
        {
         "marker": {
          "color": "rgba(156, 165, 196, 0.95)",
          "line": {
           "width": 1
          },
          "size": 16,
          "symbol": "circle"
         },
         "mode": "markers",
         "name": "2",
         "type": "scatter",
         "x": [
          null,
          null,
          null,
          null,
          null,
          null,
          null,
          null,
          null,
          null,
          null,
          null,
          null,
          null,
          null,
          null,
          null,
          null,
          null,
          null,
          null,
          null,
          null,
          null,
          null,
          null,
          null,
          null,
          null,
          null,
          null,
          null,
          null,
          null,
          null,
          null,
          null,
          null,
          null,
          null,
          null,
          null,
          null,
          null,
          null,
          null,
          null,
          null,
          null,
          null,
          null,
          null,
          null,
          null,
          null
         ],
         "y": [
          "AGO",
          "ALB",
          "ARM",
          "BEN",
          "BFA",
          "BGD",
          "BOL",
          "CIV",
          "CMR",
          "COD",
          "COM",
          "DOM",
          "EGY",
          "ETH",
          "GAB",
          "GHA",
          "GIN",
          "GMB",
          "GTM",
          "GUY",
          "HND",
          "HTI",
          "IND",
          "JOR",
          "KEN",
          "KGZ",
          "KHM",
          "LBR",
          "LSO",
          "MAR",
          "MDA",
          "MDG",
          "MLI",
          "MMR",
          "MOZ",
          "MRT",
          "MWI",
          "NAM",
          "NGA",
          "NIC",
          "PAK",
          "PER",
          "PHL",
          "SEN",
          "SLE",
          "SWZ",
          "TCD",
          "TGO",
          "TJK",
          "TLS",
          "TZA",
          "UGA",
          "ZAF",
          "ZMB",
          "ZWE"
         ]
        },
        {
         "marker": {
          "color": "rgba(156, 165, 196, 0.95)",
          "line": {
           "width": 1
          },
          "size": 16,
          "symbol": "circle"
         },
         "mode": "markers",
         "name": "3",
         "type": "scatter",
         "x": [
          null,
          null,
          null,
          null,
          null,
          null,
          null,
          null,
          null,
          null,
          null,
          null,
          null,
          null,
          null,
          null,
          null,
          null,
          null,
          null,
          null,
          null,
          null,
          null,
          null,
          null,
          null,
          null,
          null,
          null,
          null,
          null,
          null,
          null,
          null,
          null,
          null,
          null,
          null,
          null,
          null,
          null,
          null,
          null,
          null,
          null,
          null,
          null,
          null,
          null,
          null,
          null,
          null,
          null,
          null
         ],
         "y": [
          "AGO",
          "ALB",
          "ARM",
          "BEN",
          "BFA",
          "BGD",
          "BOL",
          "CIV",
          "CMR",
          "COD",
          "COM",
          "DOM",
          "EGY",
          "ETH",
          "GAB",
          "GHA",
          "GIN",
          "GMB",
          "GTM",
          "GUY",
          "HND",
          "HTI",
          "IND",
          "JOR",
          "KEN",
          "KGZ",
          "KHM",
          "LBR",
          "LSO",
          "MAR",
          "MDA",
          "MDG",
          "MLI",
          "MMR",
          "MOZ",
          "MRT",
          "MWI",
          "NAM",
          "NGA",
          "NIC",
          "PAK",
          "PER",
          "PHL",
          "SEN",
          "SLE",
          "SWZ",
          "TCD",
          "TGO",
          "TJK",
          "TLS",
          "TZA",
          "UGA",
          "ZAF",
          "ZMB",
          "ZWE"
         ]
        },
        {
         "marker": {
          "color": "rgba(156, 165, 196, 0.95)",
          "line": {
           "width": 1
          },
          "size": 16,
          "symbol": "circle"
         },
         "mode": "markers",
         "name": "4",
         "type": "scatter",
         "x": [
          null,
          null,
          null,
          null,
          null,
          null,
          null,
          null,
          null,
          null,
          null,
          null,
          null,
          null,
          null,
          null,
          null,
          null,
          null,
          null,
          null,
          null,
          null,
          null,
          null,
          null,
          null,
          null,
          null,
          null,
          null,
          null,
          null,
          null,
          null,
          null,
          null,
          null,
          null,
          null,
          null,
          null,
          null,
          null,
          null,
          null,
          null,
          null,
          null,
          null,
          null,
          null,
          null,
          null,
          null
         ],
         "y": [
          "AGO",
          "ALB",
          "ARM",
          "BEN",
          "BFA",
          "BGD",
          "BOL",
          "CIV",
          "CMR",
          "COD",
          "COM",
          "DOM",
          "EGY",
          "ETH",
          "GAB",
          "GHA",
          "GIN",
          "GMB",
          "GTM",
          "GUY",
          "HND",
          "HTI",
          "IND",
          "JOR",
          "KEN",
          "KGZ",
          "KHM",
          "LBR",
          "LSO",
          "MAR",
          "MDA",
          "MDG",
          "MLI",
          "MMR",
          "MOZ",
          "MRT",
          "MWI",
          "NAM",
          "NGA",
          "NIC",
          "PAK",
          "PER",
          "PHL",
          "SEN",
          "SLE",
          "SWZ",
          "TCD",
          "TGO",
          "TJK",
          "TLS",
          "TZA",
          "UGA",
          "ZAF",
          "ZMB",
          "ZWE"
         ]
        },
        {
         "marker": {
          "color": "rgba(204, 204, 204, 0.95)",
          "line": {
           "width": 1
          },
          "size": 16,
          "symbol": "circle"
         },
         "mode": "markers",
         "name": "5",
         "type": "scatter",
         "x": [
          null,
          null,
          null,
          null,
          null,
          -3.596,
          null,
          null,
          -13.27,
          null,
          null,
          null,
          null,
          null,
          null,
          null,
          null,
          null,
          null,
          null,
          null,
          null,
          null,
          -1.352,
          null,
          null,
          null,
          null,
          -11.632,
          null,
          null,
          null,
          null,
          null,
          null,
          null,
          null,
          null,
          null,
          null,
          null,
          null,
          -4.327,
          null,
          -17.559,
          null,
          null,
          null,
          null,
          null,
          null,
          null,
          null,
          null,
          null
         ],
         "y": [
          "AGO",
          "ALB",
          "ARM",
          "BEN",
          "BFA",
          "BGD",
          "BOL",
          "CIV",
          "CMR",
          "COD",
          "COM",
          "DOM",
          "EGY",
          "ETH",
          "GAB",
          "GHA",
          "GIN",
          "GMB",
          "GTM",
          "GUY",
          "HND",
          "HTI",
          "IND",
          "JOR",
          "KEN",
          "KGZ",
          "KHM",
          "LBR",
          "LSO",
          "MAR",
          "MDA",
          "MDG",
          "MLI",
          "MMR",
          "MOZ",
          "MRT",
          "MWI",
          "NAM",
          "NGA",
          "NIC",
          "PAK",
          "PER",
          "PHL",
          "SEN",
          "SLE",
          "SWZ",
          "TCD",
          "TGO",
          "TJK",
          "TLS",
          "TZA",
          "UGA",
          "ZAF",
          "ZMB",
          "ZWE"
         ]
        },
        {
         "marker": {
          "color": "rgba(204, 204, 204, 0.95)",
          "line": {
           "width": 1
          },
          "size": 16,
          "symbol": "circle"
         },
         "mode": "markers",
         "name": "6",
         "type": "scatter",
         "x": [
          null,
          -6.37,
          null,
          null,
          null,
          -5.266,
          null,
          null,
          -13.66,
          null,
          null,
          null,
          null,
          null,
          null,
          -5.184,
          null,
          null,
          null,
          null,
          null,
          null,
          null,
          -4.028,
          null,
          null,
          null,
          null,
          -10.713,
          null,
          null,
          null,
          null,
          null,
          null,
          null,
          null,
          null,
          null,
          null,
          null,
          null,
          -3.237,
          null,
          -30.288,
          null,
          null,
          null,
          null,
          null,
          null,
          null,
          null,
          null,
          null
         ],
         "y": [
          "AGO",
          "ALB",
          "ARM",
          "BEN",
          "BFA",
          "BGD",
          "BOL",
          "CIV",
          "CMR",
          "COD",
          "COM",
          "DOM",
          "EGY",
          "ETH",
          "GAB",
          "GHA",
          "GIN",
          "GMB",
          "GTM",
          "GUY",
          "HND",
          "HTI",
          "IND",
          "JOR",
          "KEN",
          "KGZ",
          "KHM",
          "LBR",
          "LSO",
          "MAR",
          "MDA",
          "MDG",
          "MLI",
          "MMR",
          "MOZ",
          "MRT",
          "MWI",
          "NAM",
          "NGA",
          "NIC",
          "PAK",
          "PER",
          "PHL",
          "SEN",
          "SLE",
          "SWZ",
          "TCD",
          "TGO",
          "TJK",
          "TLS",
          "TZA",
          "UGA",
          "ZAF",
          "ZMB",
          "ZWE"
         ]
        },
        {
         "marker": {
          "color": "rgba(204, 204, 204, 0.95)",
          "line": {
           "width": 1
          },
          "size": 16,
          "symbol": "circle"
         },
         "mode": "markers",
         "name": "7",
         "type": "scatter",
         "x": [
          null,
          -5.661,
          null,
          null,
          null,
          -2.77,
          12.298,
          null,
          -12.633,
          null,
          null,
          null,
          null,
          null,
          -4.053,
          -4.295,
          null,
          null,
          null,
          null,
          null,
          null,
          null,
          -2.874,
          null,
          null,
          null,
          null,
          -9.358,
          null,
          null,
          null,
          -7.561,
          null,
          null,
          null,
          null,
          null,
          null,
          null,
          -3.356,
          null,
          -3.03,
          null,
          -22.959,
          null,
          null,
          null,
          null,
          null,
          null,
          null,
          null,
          null,
          null
         ],
         "y": [
          "AGO",
          "ALB",
          "ARM",
          "BEN",
          "BFA",
          "BGD",
          "BOL",
          "CIV",
          "CMR",
          "COD",
          "COM",
          "DOM",
          "EGY",
          "ETH",
          "GAB",
          "GHA",
          "GIN",
          "GMB",
          "GTM",
          "GUY",
          "HND",
          "HTI",
          "IND",
          "JOR",
          "KEN",
          "KGZ",
          "KHM",
          "LBR",
          "LSO",
          "MAR",
          "MDA",
          "MDG",
          "MLI",
          "MMR",
          "MOZ",
          "MRT",
          "MWI",
          "NAM",
          "NGA",
          "NIC",
          "PAK",
          "PER",
          "PHL",
          "SEN",
          "SLE",
          "SWZ",
          "TCD",
          "TGO",
          "TJK",
          "TLS",
          "TZA",
          "UGA",
          "ZAF",
          "ZMB",
          "ZWE"
         ]
        },
        {
         "marker": {
          "color": "rgba(204, 204, 204, 0.95)",
          "line": {
           "width": 1
          },
          "size": 16,
          "symbol": "circle"
         },
         "mode": "markers",
         "name": "8",
         "type": "scatter",
         "x": [
          null,
          null,
          null,
          null,
          null,
          -3.453,
          10.859,
          -6.266,
          -12.888,
          null,
          null,
          null,
          null,
          null,
          -3.254,
          -3.279,
          -10.703,
          null,
          null,
          null,
          null,
          null,
          null,
          -2.858,
          null,
          null,
          null,
          null,
          -9.497,
          null,
          null,
          null,
          -7.722,
          null,
          null,
          null,
          null,
          null,
          null,
          null,
          -5.756,
          11.062,
          -2.792,
          null,
          -23.992,
          null,
          null,
          null,
          null,
          null,
          null,
          null,
          null,
          null,
          null
         ],
         "y": [
          "AGO",
          "ALB",
          "ARM",
          "BEN",
          "BFA",
          "BGD",
          "BOL",
          "CIV",
          "CMR",
          "COD",
          "COM",
          "DOM",
          "EGY",
          "ETH",
          "GAB",
          "GHA",
          "GIN",
          "GMB",
          "GTM",
          "GUY",
          "HND",
          "HTI",
          "IND",
          "JOR",
          "KEN",
          "KGZ",
          "KHM",
          "LBR",
          "LSO",
          "MAR",
          "MDA",
          "MDG",
          "MLI",
          "MMR",
          "MOZ",
          "MRT",
          "MWI",
          "NAM",
          "NGA",
          "NIC",
          "PAK",
          "PER",
          "PHL",
          "SEN",
          "SLE",
          "SWZ",
          "TCD",
          "TGO",
          "TJK",
          "TLS",
          "TZA",
          "UGA",
          "ZAF",
          "ZMB",
          "ZWE"
         ]
        },
        {
         "marker": {
          "color": "rgba(255, 166, 86, 0.95)",
          "line": {
           "width": 1
          },
          "size": 16,
          "symbol": "circle"
         },
         "mode": "markers",
         "name": "9",
         "type": "scatter",
         "x": [
          null,
          null,
          null,
          null,
          null,
          null,
          null,
          null,
          null,
          null,
          null,
          null,
          null,
          null,
          null,
          null,
          null,
          null,
          null,
          null,
          null,
          null,
          null,
          -1.221,
          null,
          null,
          null,
          null,
          null,
          null,
          null,
          null,
          null,
          18.12,
          null,
          null,
          null,
          -7.442,
          null,
          null,
          null,
          null,
          -8.15,
          null,
          -44.219,
          null,
          null,
          null,
          null,
          null,
          null,
          null,
          null,
          null,
          null
         ],
         "y": [
          "AGO",
          "ALB",
          "ARM",
          "BEN",
          "BFA",
          "BGD",
          "BOL",
          "CIV",
          "CMR",
          "COD",
          "COM",
          "DOM",
          "EGY",
          "ETH",
          "GAB",
          "GHA",
          "GIN",
          "GMB",
          "GTM",
          "GUY",
          "HND",
          "HTI",
          "IND",
          "JOR",
          "KEN",
          "KGZ",
          "KHM",
          "LBR",
          "LSO",
          "MAR",
          "MDA",
          "MDG",
          "MLI",
          "MMR",
          "MOZ",
          "MRT",
          "MWI",
          "NAM",
          "NGA",
          "NIC",
          "PAK",
          "PER",
          "PHL",
          "SEN",
          "SLE",
          "SWZ",
          "TCD",
          "TGO",
          "TJK",
          "TLS",
          "TZA",
          "UGA",
          "ZAF",
          "ZMB",
          "ZWE"
         ]
        },
        {
         "marker": {
          "color": "rgba(255, 166, 86, 0.95)",
          "line": {
           "width": 1
          },
          "size": 16,
          "symbol": "circle"
         },
         "mode": "markers",
         "name": "10",
         "type": "scatter",
         "x": [
          null,
          null,
          null,
          null,
          null,
          -10.878,
          null,
          -6.651,
          null,
          null,
          null,
          null,
          null,
          null,
          null,
          null,
          null,
          null,
          null,
          null,
          null,
          11.032,
          null,
          -0.576,
          null,
          null,
          null,
          null,
          null,
          null,
          null,
          null,
          null,
          null,
          null,
          null,
          null,
          -3.547,
          null,
          null,
          null,
          null,
          -7.13,
          null,
          -47.168,
          null,
          null,
          null,
          null,
          null,
          null,
          null,
          null,
          null,
          null
         ],
         "y": [
          "AGO",
          "ALB",
          "ARM",
          "BEN",
          "BFA",
          "BGD",
          "BOL",
          "CIV",
          "CMR",
          "COD",
          "COM",
          "DOM",
          "EGY",
          "ETH",
          "GAB",
          "GHA",
          "GIN",
          "GMB",
          "GTM",
          "GUY",
          "HND",
          "HTI",
          "IND",
          "JOR",
          "KEN",
          "KGZ",
          "KHM",
          "LBR",
          "LSO",
          "MAR",
          "MDA",
          "MDG",
          "MLI",
          "MMR",
          "MOZ",
          "MRT",
          "MWI",
          "NAM",
          "NGA",
          "NIC",
          "PAK",
          "PER",
          "PHL",
          "SEN",
          "SLE",
          "SWZ",
          "TCD",
          "TGO",
          "TJK",
          "TLS",
          "TZA",
          "UGA",
          "ZAF",
          "ZMB",
          "ZWE"
         ]
        },
        {
         "marker": {
          "color": "rgba(255, 166, 86, 0.95)",
          "line": {
           "width": 1
          },
          "size": 16,
          "symbol": "circle"
         },
         "mode": "markers",
         "name": "11",
         "type": "scatter",
         "x": [
          null,
          null,
          null,
          null,
          null,
          -5.102,
          null,
          -8.956,
          null,
          null,
          null,
          null,
          null,
          null,
          null,
          null,
          null,
          null,
          null,
          null,
          null,
          11.043,
          null,
          -1.041,
          null,
          null,
          null,
          null,
          null,
          null,
          null,
          null,
          null,
          null,
          -5.358,
          null,
          null,
          -2.95,
          null,
          null,
          null,
          null,
          null,
          null,
          -32.209,
          null,
          null,
          null,
          null,
          null,
          -8.17,
          null,
          null,
          null,
          null
         ],
         "y": [
          "AGO",
          "ALB",
          "ARM",
          "BEN",
          "BFA",
          "BGD",
          "BOL",
          "CIV",
          "CMR",
          "COD",
          "COM",
          "DOM",
          "EGY",
          "ETH",
          "GAB",
          "GHA",
          "GIN",
          "GMB",
          "GTM",
          "GUY",
          "HND",
          "HTI",
          "IND",
          "JOR",
          "KEN",
          "KGZ",
          "KHM",
          "LBR",
          "LSO",
          "MAR",
          "MDA",
          "MDG",
          "MLI",
          "MMR",
          "MOZ",
          "MRT",
          "MWI",
          "NAM",
          "NGA",
          "NIC",
          "PAK",
          "PER",
          "PHL",
          "SEN",
          "SLE",
          "SWZ",
          "TCD",
          "TGO",
          "TJK",
          "TLS",
          "TZA",
          "UGA",
          "ZAF",
          "ZMB",
          "ZWE"
         ]
        },
        {
         "marker": {
          "color": "rgba(255, 166, 86, 0.95)",
          "line": {
           "width": 1
          },
          "size": 16,
          "symbol": "circle"
         },
         "mode": "markers",
         "name": "12",
         "type": "scatter",
         "x": [
          -25.937,
          null,
          null,
          null,
          null,
          -5.92,
          null,
          -8.96,
          -7.65,
          null,
          null,
          null,
          null,
          null,
          -9.459,
          null,
          null,
          null,
          null,
          null,
          null,
          11.043,
          null,
          -1.033,
          null,
          null,
          null,
          null,
          null,
          null,
          null,
          null,
          null,
          5.138,
          null,
          null,
          null,
          -2.982,
          null,
          null,
          -13.268,
          -1.426,
          null,
          null,
          -31.412,
          null,
          -4.343,
          null,
          null,
          null,
          null,
          null,
          null,
          null,
          null
         ],
         "y": [
          "AGO",
          "ALB",
          "ARM",
          "BEN",
          "BFA",
          "BGD",
          "BOL",
          "CIV",
          "CMR",
          "COD",
          "COM",
          "DOM",
          "EGY",
          "ETH",
          "GAB",
          "GHA",
          "GIN",
          "GMB",
          "GTM",
          "GUY",
          "HND",
          "HTI",
          "IND",
          "JOR",
          "KEN",
          "KGZ",
          "KHM",
          "LBR",
          "LSO",
          "MAR",
          "MDA",
          "MDG",
          "MLI",
          "MMR",
          "MOZ",
          "MRT",
          "MWI",
          "NAM",
          "NGA",
          "NIC",
          "PAK",
          "PER",
          "PHL",
          "SEN",
          "SLE",
          "SWZ",
          "TCD",
          "TGO",
          "TJK",
          "TLS",
          "TZA",
          "UGA",
          "ZAF",
          "ZMB",
          "ZWE"
         ]
        },
        {
         "marker": {
          "color": "rgba(240, 230, 140, 0.95)",
          "line": {
           "width": 1
          },
          "size": 16,
          "symbol": "circle"
         },
         "mode": "markers",
         "name": "13",
         "type": "scatter",
         "x": [
          null,
          null,
          null,
          null,
          null,
          null,
          45.362,
          null,
          null,
          null,
          null,
          null,
          null,
          null,
          null,
          -28.106,
          null,
          null,
          null,
          null,
          null,
          null,
          null,
          -0.925,
          null,
          null,
          null,
          null,
          null,
          null,
          null,
          null,
          null,
          null,
          null,
          null,
          null,
          null,
          null,
          null,
          null,
          null,
          -4.858,
          null,
          -68.508,
          null,
          null,
          null,
          null,
          null,
          null,
          null,
          null,
          null,
          null
         ],
         "y": [
          "AGO",
          "ALB",
          "ARM",
          "BEN",
          "BFA",
          "BGD",
          "BOL",
          "CIV",
          "CMR",
          "COD",
          "COM",
          "DOM",
          "EGY",
          "ETH",
          "GAB",
          "GHA",
          "GIN",
          "GMB",
          "GTM",
          "GUY",
          "HND",
          "HTI",
          "IND",
          "JOR",
          "KEN",
          "KGZ",
          "KHM",
          "LBR",
          "LSO",
          "MAR",
          "MDA",
          "MDG",
          "MLI",
          "MMR",
          "MOZ",
          "MRT",
          "MWI",
          "NAM",
          "NGA",
          "NIC",
          "PAK",
          "PER",
          "PHL",
          "SEN",
          "SLE",
          "SWZ",
          "TCD",
          "TGO",
          "TJK",
          "TLS",
          "TZA",
          "UGA",
          "ZAF",
          "ZMB",
          "ZWE"
         ]
        },
        {
         "marker": {
          "color": "rgba(240, 230, 140, 0.95)",
          "line": {
           "width": 1
          },
          "size": 16,
          "symbol": "circle"
         },
         "mode": "markers",
         "name": "14",
         "type": "scatter",
         "x": [
          null,
          null,
          null,
          null,
          null,
          null,
          46.654,
          -30.597,
          null,
          null,
          null,
          null,
          null,
          null,
          null,
          -26.534,
          null,
          null,
          null,
          null,
          null,
          -0.855,
          null,
          -0.198,
          null,
          null,
          null,
          null,
          -30.581,
          null,
          null,
          null,
          null,
          null,
          null,
          null,
          null,
          null,
          null,
          null,
          null,
          null,
          -6.547,
          null,
          -80.383,
          null,
          null,
          null,
          null,
          null,
          null,
          null,
          null,
          null,
          null
         ],
         "y": [
          "AGO",
          "ALB",
          "ARM",
          "BEN",
          "BFA",
          "BGD",
          "BOL",
          "CIV",
          "CMR",
          "COD",
          "COM",
          "DOM",
          "EGY",
          "ETH",
          "GAB",
          "GHA",
          "GIN",
          "GMB",
          "GTM",
          "GUY",
          "HND",
          "HTI",
          "IND",
          "JOR",
          "KEN",
          "KGZ",
          "KHM",
          "LBR",
          "LSO",
          "MAR",
          "MDA",
          "MDG",
          "MLI",
          "MMR",
          "MOZ",
          "MRT",
          "MWI",
          "NAM",
          "NGA",
          "NIC",
          "PAK",
          "PER",
          "PHL",
          "SEN",
          "SLE",
          "SWZ",
          "TCD",
          "TGO",
          "TJK",
          "TLS",
          "TZA",
          "UGA",
          "ZAF",
          "ZMB",
          "ZWE"
         ]
        },
        {
         "marker": {
          "color": "rgba(240, 230, 140, 0.95)",
          "line": {
           "width": 1
          },
          "size": 16,
          "symbol": "circle"
         },
         "mode": "markers",
         "name": "15",
         "type": "scatter",
         "x": [
          null,
          null,
          null,
          null,
          null,
          -3.783,
          null,
          -24.131,
          null,
          null,
          null,
          null,
          null,
          null,
          null,
          -28.504,
          null,
          null,
          null,
          null,
          null,
          -0.807,
          null,
          -0.86,
          null,
          null,
          null,
          null,
          -29.215,
          null,
          null,
          null,
          null,
          null,
          null,
          null,
          -11.166,
          null,
          null,
          null,
          null,
          null,
          -6.22,
          null,
          -73.565,
          null,
          null,
          null,
          null,
          null,
          null,
          null,
          null,
          null,
          null
         ],
         "y": [
          "AGO",
          "ALB",
          "ARM",
          "BEN",
          "BFA",
          "BGD",
          "BOL",
          "CIV",
          "CMR",
          "COD",
          "COM",
          "DOM",
          "EGY",
          "ETH",
          "GAB",
          "GHA",
          "GIN",
          "GMB",
          "GTM",
          "GUY",
          "HND",
          "HTI",
          "IND",
          "JOR",
          "KEN",
          "KGZ",
          "KHM",
          "LBR",
          "LSO",
          "MAR",
          "MDA",
          "MDG",
          "MLI",
          "MMR",
          "MOZ",
          "MRT",
          "MWI",
          "NAM",
          "NGA",
          "NIC",
          "PAK",
          "PER",
          "PHL",
          "SEN",
          "SLE",
          "SWZ",
          "TCD",
          "TGO",
          "TJK",
          "TLS",
          "TZA",
          "UGA",
          "ZAF",
          "ZMB",
          "ZWE"
         ]
        },
        {
         "marker": {
          "color": "rgba(240, 230, 140, 0.95)",
          "line": {
           "width": 1
          },
          "size": 16,
          "symbol": "circle"
         },
         "mode": "markers",
         "name": "16",
         "type": "scatter",
         "x": [
          null,
          -1.355,
          null,
          null,
          null,
          -6.329,
          49.783,
          -24.324,
          null,
          null,
          null,
          null,
          null,
          null,
          null,
          -27.964,
          -17.659,
          null,
          null,
          null,
          null,
          -0.807,
          null,
          -0.852,
          null,
          null,
          null,
          null,
          -29.376,
          null,
          null,
          null,
          null,
          null,
          null,
          null,
          null,
          null,
          null,
          null,
          -6.556,
          null,
          -5.425,
          null,
          -72.368,
          null,
          null,
          null,
          null,
          null,
          null,
          null,
          null,
          null,
          null
         ],
         "y": [
          "AGO",
          "ALB",
          "ARM",
          "BEN",
          "BFA",
          "BGD",
          "BOL",
          "CIV",
          "CMR",
          "COD",
          "COM",
          "DOM",
          "EGY",
          "ETH",
          "GAB",
          "GHA",
          "GIN",
          "GMB",
          "GTM",
          "GUY",
          "HND",
          "HTI",
          "IND",
          "JOR",
          "KEN",
          "KGZ",
          "KHM",
          "LBR",
          "LSO",
          "MAR",
          "MDA",
          "MDG",
          "MLI",
          "MMR",
          "MOZ",
          "MRT",
          "MWI",
          "NAM",
          "NGA",
          "NIC",
          "PAK",
          "PER",
          "PHL",
          "SEN",
          "SLE",
          "SWZ",
          "TCD",
          "TGO",
          "TJK",
          "TLS",
          "TZA",
          "UGA",
          "ZAF",
          "ZMB",
          "ZWE"
         ]
        }
       ],
       "layout": {
        "height": 600,
        "hovermode": "closest",
        "legend": {
         "font": {
          "size": 10
         },
         "xanchor": "center",
         "yanchor": "top"
        },
        "margin": {
         "b": 50,
         "l": 140,
         "r": 40,
         "t": 80
        },
        "paper_bgcolor": "white",
        "plot_bgcolor": "white",
        "shapes": [
         {
          "line": {
           "color": "red",
           "dash": "dashdot",
           "width": 2
          },
          "type": "line",
          "x0": 0,
          "x1": 0,
          "y0": 0,
          "y1": 55
         }
        ],
        "template": {
         "data": {
          "bar": [
           {
            "error_x": {
             "color": "#2a3f5f"
            },
            "error_y": {
             "color": "#2a3f5f"
            },
            "marker": {
             "line": {
              "color": "#E5ECF6",
              "width": 0.5
             },
             "pattern": {
              "fillmode": "overlay",
              "size": 10,
              "solidity": 0.2
             }
            },
            "type": "bar"
           }
          ],
          "barpolar": [
           {
            "marker": {
             "line": {
              "color": "#E5ECF6",
              "width": 0.5
             },
             "pattern": {
              "fillmode": "overlay",
              "size": 10,
              "solidity": 0.2
             }
            },
            "type": "barpolar"
           }
          ],
          "carpet": [
           {
            "aaxis": {
             "endlinecolor": "#2a3f5f",
             "gridcolor": "white",
             "linecolor": "white",
             "minorgridcolor": "white",
             "startlinecolor": "#2a3f5f"
            },
            "baxis": {
             "endlinecolor": "#2a3f5f",
             "gridcolor": "white",
             "linecolor": "white",
             "minorgridcolor": "white",
             "startlinecolor": "#2a3f5f"
            },
            "type": "carpet"
           }
          ],
          "choropleth": [
           {
            "colorbar": {
             "outlinewidth": 0,
             "ticks": ""
            },
            "type": "choropleth"
           }
          ],
          "contour": [
           {
            "colorbar": {
             "outlinewidth": 0,
             "ticks": ""
            },
            "colorscale": [
             [
              0,
              "#0d0887"
             ],
             [
              0.1111111111111111,
              "#46039f"
             ],
             [
              0.2222222222222222,
              "#7201a8"
             ],
             [
              0.3333333333333333,
              "#9c179e"
             ],
             [
              0.4444444444444444,
              "#bd3786"
             ],
             [
              0.5555555555555556,
              "#d8576b"
             ],
             [
              0.6666666666666666,
              "#ed7953"
             ],
             [
              0.7777777777777778,
              "#fb9f3a"
             ],
             [
              0.8888888888888888,
              "#fdca26"
             ],
             [
              1,
              "#f0f921"
             ]
            ],
            "type": "contour"
           }
          ],
          "contourcarpet": [
           {
            "colorbar": {
             "outlinewidth": 0,
             "ticks": ""
            },
            "type": "contourcarpet"
           }
          ],
          "heatmap": [
           {
            "colorbar": {
             "outlinewidth": 0,
             "ticks": ""
            },
            "colorscale": [
             [
              0,
              "#0d0887"
             ],
             [
              0.1111111111111111,
              "#46039f"
             ],
             [
              0.2222222222222222,
              "#7201a8"
             ],
             [
              0.3333333333333333,
              "#9c179e"
             ],
             [
              0.4444444444444444,
              "#bd3786"
             ],
             [
              0.5555555555555556,
              "#d8576b"
             ],
             [
              0.6666666666666666,
              "#ed7953"
             ],
             [
              0.7777777777777778,
              "#fb9f3a"
             ],
             [
              0.8888888888888888,
              "#fdca26"
             ],
             [
              1,
              "#f0f921"
             ]
            ],
            "type": "heatmap"
           }
          ],
          "heatmapgl": [
           {
            "colorbar": {
             "outlinewidth": 0,
             "ticks": ""
            },
            "colorscale": [
             [
              0,
              "#0d0887"
             ],
             [
              0.1111111111111111,
              "#46039f"
             ],
             [
              0.2222222222222222,
              "#7201a8"
             ],
             [
              0.3333333333333333,
              "#9c179e"
             ],
             [
              0.4444444444444444,
              "#bd3786"
             ],
             [
              0.5555555555555556,
              "#d8576b"
             ],
             [
              0.6666666666666666,
              "#ed7953"
             ],
             [
              0.7777777777777778,
              "#fb9f3a"
             ],
             [
              0.8888888888888888,
              "#fdca26"
             ],
             [
              1,
              "#f0f921"
             ]
            ],
            "type": "heatmapgl"
           }
          ],
          "histogram": [
           {
            "marker": {
             "pattern": {
              "fillmode": "overlay",
              "size": 10,
              "solidity": 0.2
             }
            },
            "type": "histogram"
           }
          ],
          "histogram2d": [
           {
            "colorbar": {
             "outlinewidth": 0,
             "ticks": ""
            },
            "colorscale": [
             [
              0,
              "#0d0887"
             ],
             [
              0.1111111111111111,
              "#46039f"
             ],
             [
              0.2222222222222222,
              "#7201a8"
             ],
             [
              0.3333333333333333,
              "#9c179e"
             ],
             [
              0.4444444444444444,
              "#bd3786"
             ],
             [
              0.5555555555555556,
              "#d8576b"
             ],
             [
              0.6666666666666666,
              "#ed7953"
             ],
             [
              0.7777777777777778,
              "#fb9f3a"
             ],
             [
              0.8888888888888888,
              "#fdca26"
             ],
             [
              1,
              "#f0f921"
             ]
            ],
            "type": "histogram2d"
           }
          ],
          "histogram2dcontour": [
           {
            "colorbar": {
             "outlinewidth": 0,
             "ticks": ""
            },
            "colorscale": [
             [
              0,
              "#0d0887"
             ],
             [
              0.1111111111111111,
              "#46039f"
             ],
             [
              0.2222222222222222,
              "#7201a8"
             ],
             [
              0.3333333333333333,
              "#9c179e"
             ],
             [
              0.4444444444444444,
              "#bd3786"
             ],
             [
              0.5555555555555556,
              "#d8576b"
             ],
             [
              0.6666666666666666,
              "#ed7953"
             ],
             [
              0.7777777777777778,
              "#fb9f3a"
             ],
             [
              0.8888888888888888,
              "#fdca26"
             ],
             [
              1,
              "#f0f921"
             ]
            ],
            "type": "histogram2dcontour"
           }
          ],
          "mesh3d": [
           {
            "colorbar": {
             "outlinewidth": 0,
             "ticks": ""
            },
            "type": "mesh3d"
           }
          ],
          "parcoords": [
           {
            "line": {
             "colorbar": {
              "outlinewidth": 0,
              "ticks": ""
             }
            },
            "type": "parcoords"
           }
          ],
          "pie": [
           {
            "automargin": true,
            "type": "pie"
           }
          ],
          "scatter": [
           {
            "fillpattern": {
             "fillmode": "overlay",
             "size": 10,
             "solidity": 0.2
            },
            "type": "scatter"
           }
          ],
          "scatter3d": [
           {
            "line": {
             "colorbar": {
              "outlinewidth": 0,
              "ticks": ""
             }
            },
            "marker": {
             "colorbar": {
              "outlinewidth": 0,
              "ticks": ""
             }
            },
            "type": "scatter3d"
           }
          ],
          "scattercarpet": [
           {
            "marker": {
             "colorbar": {
              "outlinewidth": 0,
              "ticks": ""
             }
            },
            "type": "scattercarpet"
           }
          ],
          "scattergeo": [
           {
            "marker": {
             "colorbar": {
              "outlinewidth": 0,
              "ticks": ""
             }
            },
            "type": "scattergeo"
           }
          ],
          "scattergl": [
           {
            "marker": {
             "colorbar": {
              "outlinewidth": 0,
              "ticks": ""
             }
            },
            "type": "scattergl"
           }
          ],
          "scattermapbox": [
           {
            "marker": {
             "colorbar": {
              "outlinewidth": 0,
              "ticks": ""
             }
            },
            "type": "scattermapbox"
           }
          ],
          "scatterpolar": [
           {
            "marker": {
             "colorbar": {
              "outlinewidth": 0,
              "ticks": ""
             }
            },
            "type": "scatterpolar"
           }
          ],
          "scatterpolargl": [
           {
            "marker": {
             "colorbar": {
              "outlinewidth": 0,
              "ticks": ""
             }
            },
            "type": "scatterpolargl"
           }
          ],
          "scatterternary": [
           {
            "marker": {
             "colorbar": {
              "outlinewidth": 0,
              "ticks": ""
             }
            },
            "type": "scatterternary"
           }
          ],
          "surface": [
           {
            "colorbar": {
             "outlinewidth": 0,
             "ticks": ""
            },
            "colorscale": [
             [
              0,
              "#0d0887"
             ],
             [
              0.1111111111111111,
              "#46039f"
             ],
             [
              0.2222222222222222,
              "#7201a8"
             ],
             [
              0.3333333333333333,
              "#9c179e"
             ],
             [
              0.4444444444444444,
              "#bd3786"
             ],
             [
              0.5555555555555556,
              "#d8576b"
             ],
             [
              0.6666666666666666,
              "#ed7953"
             ],
             [
              0.7777777777777778,
              "#fb9f3a"
             ],
             [
              0.8888888888888888,
              "#fdca26"
             ],
             [
              1,
              "#f0f921"
             ]
            ],
            "type": "surface"
           }
          ],
          "table": [
           {
            "cells": {
             "fill": {
              "color": "#EBF0F8"
             },
             "line": {
              "color": "white"
             }
            },
            "header": {
             "fill": {
              "color": "#C8D4E3"
             },
             "line": {
              "color": "white"
             }
            },
            "type": "table"
           }
          ]
         },
         "layout": {
          "annotationdefaults": {
           "arrowcolor": "#2a3f5f",
           "arrowhead": 0,
           "arrowwidth": 1
          },
          "autotypenumbers": "strict",
          "coloraxis": {
           "colorbar": {
            "outlinewidth": 0,
            "ticks": ""
           }
          },
          "colorscale": {
           "diverging": [
            [
             0,
             "#8e0152"
            ],
            [
             0.1,
             "#c51b7d"
            ],
            [
             0.2,
             "#de77ae"
            ],
            [
             0.3,
             "#f1b6da"
            ],
            [
             0.4,
             "#fde0ef"
            ],
            [
             0.5,
             "#f7f7f7"
            ],
            [
             0.6,
             "#e6f5d0"
            ],
            [
             0.7,
             "#b8e186"
            ],
            [
             0.8,
             "#7fbc41"
            ],
            [
             0.9,
             "#4d9221"
            ],
            [
             1,
             "#276419"
            ]
           ],
           "sequential": [
            [
             0,
             "#0d0887"
            ],
            [
             0.1111111111111111,
             "#46039f"
            ],
            [
             0.2222222222222222,
             "#7201a8"
            ],
            [
             0.3333333333333333,
             "#9c179e"
            ],
            [
             0.4444444444444444,
             "#bd3786"
            ],
            [
             0.5555555555555556,
             "#d8576b"
            ],
            [
             0.6666666666666666,
             "#ed7953"
            ],
            [
             0.7777777777777778,
             "#fb9f3a"
            ],
            [
             0.8888888888888888,
             "#fdca26"
            ],
            [
             1,
             "#f0f921"
            ]
           ],
           "sequentialminus": [
            [
             0,
             "#0d0887"
            ],
            [
             0.1111111111111111,
             "#46039f"
            ],
            [
             0.2222222222222222,
             "#7201a8"
            ],
            [
             0.3333333333333333,
             "#9c179e"
            ],
            [
             0.4444444444444444,
             "#bd3786"
            ],
            [
             0.5555555555555556,
             "#d8576b"
            ],
            [
             0.6666666666666666,
             "#ed7953"
            ],
            [
             0.7777777777777778,
             "#fb9f3a"
            ],
            [
             0.8888888888888888,
             "#fdca26"
            ],
            [
             1,
             "#f0f921"
            ]
           ]
          },
          "colorway": [
           "#636efa",
           "#EF553B",
           "#00cc96",
           "#ab63fa",
           "#FFA15A",
           "#19d3f3",
           "#FF6692",
           "#B6E880",
           "#FF97FF",
           "#FECB52"
          ],
          "font": {
           "color": "#2a3f5f"
          },
          "geo": {
           "bgcolor": "white",
           "lakecolor": "white",
           "landcolor": "#E5ECF6",
           "showlakes": true,
           "showland": true,
           "subunitcolor": "white"
          },
          "hoverlabel": {
           "align": "left"
          },
          "hovermode": "closest",
          "mapbox": {
           "style": "light"
          },
          "paper_bgcolor": "white",
          "plot_bgcolor": "#E5ECF6",
          "polar": {
           "angularaxis": {
            "gridcolor": "white",
            "linecolor": "white",
            "ticks": ""
           },
           "bgcolor": "#E5ECF6",
           "radialaxis": {
            "gridcolor": "white",
            "linecolor": "white",
            "ticks": ""
           }
          },
          "scene": {
           "xaxis": {
            "backgroundcolor": "#E5ECF6",
            "gridcolor": "white",
            "gridwidth": 2,
            "linecolor": "white",
            "showbackground": true,
            "ticks": "",
            "zerolinecolor": "white"
           },
           "yaxis": {
            "backgroundcolor": "#E5ECF6",
            "gridcolor": "white",
            "gridwidth": 2,
            "linecolor": "white",
            "showbackground": true,
            "ticks": "",
            "zerolinecolor": "white"
           },
           "zaxis": {
            "backgroundcolor": "#E5ECF6",
            "gridcolor": "white",
            "gridwidth": 2,
            "linecolor": "white",
            "showbackground": true,
            "ticks": "",
            "zerolinecolor": "white"
           }
          },
          "shapedefaults": {
           "line": {
            "color": "#2a3f5f"
           }
          },
          "ternary": {
           "aaxis": {
            "gridcolor": "white",
            "linecolor": "white",
            "ticks": ""
           },
           "baxis": {
            "gridcolor": "white",
            "linecolor": "white",
            "ticks": ""
           },
           "bgcolor": "#E5ECF6",
           "caxis": {
            "gridcolor": "white",
            "linecolor": "white",
            "ticks": ""
           }
          },
          "title": {
           "x": 0.05
          },
          "xaxis": {
           "automargin": true,
           "gridcolor": "white",
           "linecolor": "white",
           "ticks": "",
           "title": {
            "standoff": 15
           },
           "zerolinecolor": "white",
           "zerolinewidth": 2
          },
          "yaxis": {
           "automargin": true,
           "gridcolor": "white",
           "linecolor": "white",
           "ticks": "",
           "title": {
            "standoff": 15
           },
           "zerolinecolor": "white",
           "zerolinewidth": 2
          }
         }
        },
        "title": {
         "text": "drought 2.5 30d3m"
        },
        "width": 1600,
        "xaxis": {
         "linecolor": "rgb(102, 102, 102)",
         "showgrid": false,
         "showline": true,
         "showticklabels": true,
         "tickcolor": "rgb(102, 102, 102)",
         "tickfont": {
          "color": "rgb(102, 102, 102)"
         },
         "ticks": "outside"
        }
       }
      }
     },
     "metadata": {},
     "output_type": "display_data"
    },
    {
     "data": {
      "application/vnd.plotly.v1+json": {
       "config": {
        "plotlyServerURL": "https://plot.ly"
       },
       "data": [
        {
         "marker": {
          "color": "rgba(156, 165, 196, 0.95)",
          "line": {
           "width": 1
          },
          "size": 16,
          "symbol": "circle"
         },
         "mode": "markers",
         "name": "1",
         "type": "scatter",
         "x": [
          null,
          null,
          null,
          null,
          null,
          null,
          null,
          null,
          null,
          null,
          null,
          null,
          null,
          null,
          null,
          null,
          null,
          null,
          null,
          null,
          null,
          null,
          null,
          null,
          null,
          null,
          null,
          null,
          null,
          null,
          null,
          null,
          null,
          null,
          null,
          null,
          null,
          null,
          null,
          null,
          null,
          null,
          null,
          null,
          null,
          null,
          null,
          null,
          null,
          null,
          null,
          null,
          null,
          null,
          null
         ],
         "y": [
          "AGO",
          "ALB",
          "ARM",
          "BEN",
          "BFA",
          "BGD",
          "BOL",
          "CIV",
          "CMR",
          "COD",
          "COM",
          "DOM",
          "EGY",
          "ETH",
          "GAB",
          "GHA",
          "GIN",
          "GMB",
          "GTM",
          "GUY",
          "HND",
          "HTI",
          "IND",
          "JOR",
          "KEN",
          "KGZ",
          "KHM",
          "LBR",
          "LSO",
          "MAR",
          "MDA",
          "MDG",
          "MLI",
          "MMR",
          "MOZ",
          "MRT",
          "MWI",
          "NAM",
          "NGA",
          "NIC",
          "PAK",
          "PER",
          "PHL",
          "SEN",
          "SLE",
          "SWZ",
          "TCD",
          "TGO",
          "TJK",
          "TLS",
          "TZA",
          "UGA",
          "ZAF",
          "ZMB",
          "ZWE"
         ]
        },
        {
         "marker": {
          "color": "rgba(156, 165, 196, 0.95)",
          "line": {
           "width": 1
          },
          "size": 16,
          "symbol": "circle"
         },
         "mode": "markers",
         "name": "2",
         "type": "scatter",
         "x": [
          null,
          null,
          null,
          null,
          null,
          null,
          null,
          null,
          null,
          null,
          null,
          null,
          null,
          null,
          null,
          null,
          null,
          null,
          null,
          null,
          null,
          null,
          null,
          null,
          null,
          null,
          null,
          null,
          null,
          null,
          null,
          null,
          null,
          null,
          null,
          null,
          null,
          null,
          null,
          null,
          null,
          null,
          null,
          null,
          null,
          null,
          null,
          null,
          null,
          null,
          null,
          null,
          null,
          null,
          null
         ],
         "y": [
          "AGO",
          "ALB",
          "ARM",
          "BEN",
          "BFA",
          "BGD",
          "BOL",
          "CIV",
          "CMR",
          "COD",
          "COM",
          "DOM",
          "EGY",
          "ETH",
          "GAB",
          "GHA",
          "GIN",
          "GMB",
          "GTM",
          "GUY",
          "HND",
          "HTI",
          "IND",
          "JOR",
          "KEN",
          "KGZ",
          "KHM",
          "LBR",
          "LSO",
          "MAR",
          "MDA",
          "MDG",
          "MLI",
          "MMR",
          "MOZ",
          "MRT",
          "MWI",
          "NAM",
          "NGA",
          "NIC",
          "PAK",
          "PER",
          "PHL",
          "SEN",
          "SLE",
          "SWZ",
          "TCD",
          "TGO",
          "TJK",
          "TLS",
          "TZA",
          "UGA",
          "ZAF",
          "ZMB",
          "ZWE"
         ]
        },
        {
         "marker": {
          "color": "rgba(156, 165, 196, 0.95)",
          "line": {
           "width": 1
          },
          "size": 16,
          "symbol": "circle"
         },
         "mode": "markers",
         "name": "3",
         "type": "scatter",
         "x": [
          null,
          null,
          null,
          null,
          null,
          null,
          null,
          null,
          null,
          null,
          null,
          null,
          null,
          null,
          null,
          null,
          null,
          null,
          null,
          null,
          null,
          null,
          null,
          null,
          null,
          null,
          null,
          null,
          null,
          null,
          null,
          null,
          null,
          null,
          null,
          null,
          null,
          null,
          null,
          null,
          null,
          null,
          null,
          null,
          null,
          null,
          null,
          null,
          null,
          null,
          null,
          null,
          null,
          null,
          null
         ],
         "y": [
          "AGO",
          "ALB",
          "ARM",
          "BEN",
          "BFA",
          "BGD",
          "BOL",
          "CIV",
          "CMR",
          "COD",
          "COM",
          "DOM",
          "EGY",
          "ETH",
          "GAB",
          "GHA",
          "GIN",
          "GMB",
          "GTM",
          "GUY",
          "HND",
          "HTI",
          "IND",
          "JOR",
          "KEN",
          "KGZ",
          "KHM",
          "LBR",
          "LSO",
          "MAR",
          "MDA",
          "MDG",
          "MLI",
          "MMR",
          "MOZ",
          "MRT",
          "MWI",
          "NAM",
          "NGA",
          "NIC",
          "PAK",
          "PER",
          "PHL",
          "SEN",
          "SLE",
          "SWZ",
          "TCD",
          "TGO",
          "TJK",
          "TLS",
          "TZA",
          "UGA",
          "ZAF",
          "ZMB",
          "ZWE"
         ]
        },
        {
         "marker": {
          "color": "rgba(156, 165, 196, 0.95)",
          "line": {
           "width": 1
          },
          "size": 16,
          "symbol": "circle"
         },
         "mode": "markers",
         "name": "4",
         "type": "scatter",
         "x": [
          null,
          null,
          null,
          null,
          null,
          null,
          null,
          null,
          null,
          null,
          null,
          null,
          null,
          null,
          null,
          null,
          null,
          null,
          null,
          null,
          null,
          null,
          null,
          null,
          null,
          null,
          null,
          null,
          null,
          null,
          null,
          null,
          null,
          null,
          null,
          null,
          null,
          null,
          null,
          null,
          null,
          null,
          null,
          null,
          null,
          null,
          null,
          null,
          null,
          null,
          null,
          null,
          null,
          null,
          null
         ],
         "y": [
          "AGO",
          "ALB",
          "ARM",
          "BEN",
          "BFA",
          "BGD",
          "BOL",
          "CIV",
          "CMR",
          "COD",
          "COM",
          "DOM",
          "EGY",
          "ETH",
          "GAB",
          "GHA",
          "GIN",
          "GMB",
          "GTM",
          "GUY",
          "HND",
          "HTI",
          "IND",
          "JOR",
          "KEN",
          "KGZ",
          "KHM",
          "LBR",
          "LSO",
          "MAR",
          "MDA",
          "MDG",
          "MLI",
          "MMR",
          "MOZ",
          "MRT",
          "MWI",
          "NAM",
          "NGA",
          "NIC",
          "PAK",
          "PER",
          "PHL",
          "SEN",
          "SLE",
          "SWZ",
          "TCD",
          "TGO",
          "TJK",
          "TLS",
          "TZA",
          "UGA",
          "ZAF",
          "ZMB",
          "ZWE"
         ]
        },
        {
         "marker": {
          "color": "rgba(204, 204, 204, 0.95)",
          "line": {
           "width": 1
          },
          "size": 16,
          "symbol": "circle"
         },
         "mode": "markers",
         "name": "5",
         "type": "scatter",
         "x": [
          null,
          null,
          null,
          null,
          null,
          null,
          null,
          null,
          null,
          null,
          null,
          null,
          null,
          null,
          null,
          null,
          null,
          null,
          null,
          null,
          null,
          null,
          null,
          null,
          null,
          null,
          null,
          null,
          null,
          null,
          null,
          null,
          null,
          null,
          null,
          null,
          null,
          null,
          null,
          null,
          null,
          null,
          null,
          null,
          null,
          null,
          null,
          null,
          null,
          null,
          null,
          null,
          null,
          null,
          null
         ],
         "y": [
          "AGO",
          "ALB",
          "ARM",
          "BEN",
          "BFA",
          "BGD",
          "BOL",
          "CIV",
          "CMR",
          "COD",
          "COM",
          "DOM",
          "EGY",
          "ETH",
          "GAB",
          "GHA",
          "GIN",
          "GMB",
          "GTM",
          "GUY",
          "HND",
          "HTI",
          "IND",
          "JOR",
          "KEN",
          "KGZ",
          "KHM",
          "LBR",
          "LSO",
          "MAR",
          "MDA",
          "MDG",
          "MLI",
          "MMR",
          "MOZ",
          "MRT",
          "MWI",
          "NAM",
          "NGA",
          "NIC",
          "PAK",
          "PER",
          "PHL",
          "SEN",
          "SLE",
          "SWZ",
          "TCD",
          "TGO",
          "TJK",
          "TLS",
          "TZA",
          "UGA",
          "ZAF",
          "ZMB",
          "ZWE"
         ]
        },
        {
         "marker": {
          "color": "rgba(204, 204, 204, 0.95)",
          "line": {
           "width": 1
          },
          "size": 16,
          "symbol": "circle"
         },
         "mode": "markers",
         "name": "6",
         "type": "scatter",
         "x": [
          null,
          null,
          null,
          null,
          null,
          null,
          null,
          null,
          null,
          null,
          null,
          null,
          null,
          null,
          null,
          null,
          null,
          null,
          null,
          null,
          null,
          null,
          null,
          null,
          null,
          null,
          null,
          null,
          null,
          null,
          null,
          null,
          null,
          null,
          null,
          null,
          null,
          null,
          null,
          null,
          null,
          null,
          null,
          null,
          null,
          null,
          null,
          null,
          null,
          null,
          null,
          null,
          null,
          null,
          null
         ],
         "y": [
          "AGO",
          "ALB",
          "ARM",
          "BEN",
          "BFA",
          "BGD",
          "BOL",
          "CIV",
          "CMR",
          "COD",
          "COM",
          "DOM",
          "EGY",
          "ETH",
          "GAB",
          "GHA",
          "GIN",
          "GMB",
          "GTM",
          "GUY",
          "HND",
          "HTI",
          "IND",
          "JOR",
          "KEN",
          "KGZ",
          "KHM",
          "LBR",
          "LSO",
          "MAR",
          "MDA",
          "MDG",
          "MLI",
          "MMR",
          "MOZ",
          "MRT",
          "MWI",
          "NAM",
          "NGA",
          "NIC",
          "PAK",
          "PER",
          "PHL",
          "SEN",
          "SLE",
          "SWZ",
          "TCD",
          "TGO",
          "TJK",
          "TLS",
          "TZA",
          "UGA",
          "ZAF",
          "ZMB",
          "ZWE"
         ]
        },
        {
         "marker": {
          "color": "rgba(204, 204, 204, 0.95)",
          "line": {
           "width": 1
          },
          "size": 16,
          "symbol": "circle"
         },
         "mode": "markers",
         "name": "7",
         "type": "scatter",
         "x": [
          null,
          null,
          null,
          null,
          null,
          null,
          null,
          null,
          null,
          null,
          null,
          null,
          null,
          null,
          null,
          null,
          null,
          null,
          null,
          null,
          null,
          null,
          null,
          null,
          null,
          null,
          null,
          null,
          null,
          null,
          null,
          null,
          null,
          null,
          null,
          null,
          null,
          null,
          null,
          null,
          null,
          null,
          null,
          null,
          null,
          null,
          null,
          null,
          null,
          null,
          null,
          null,
          null,
          null,
          null
         ],
         "y": [
          "AGO",
          "ALB",
          "ARM",
          "BEN",
          "BFA",
          "BGD",
          "BOL",
          "CIV",
          "CMR",
          "COD",
          "COM",
          "DOM",
          "EGY",
          "ETH",
          "GAB",
          "GHA",
          "GIN",
          "GMB",
          "GTM",
          "GUY",
          "HND",
          "HTI",
          "IND",
          "JOR",
          "KEN",
          "KGZ",
          "KHM",
          "LBR",
          "LSO",
          "MAR",
          "MDA",
          "MDG",
          "MLI",
          "MMR",
          "MOZ",
          "MRT",
          "MWI",
          "NAM",
          "NGA",
          "NIC",
          "PAK",
          "PER",
          "PHL",
          "SEN",
          "SLE",
          "SWZ",
          "TCD",
          "TGO",
          "TJK",
          "TLS",
          "TZA",
          "UGA",
          "ZAF",
          "ZMB",
          "ZWE"
         ]
        },
        {
         "marker": {
          "color": "rgba(204, 204, 204, 0.95)",
          "line": {
           "width": 1
          },
          "size": 16,
          "symbol": "circle"
         },
         "mode": "markers",
         "name": "8",
         "type": "scatter",
         "x": [
          null,
          null,
          null,
          null,
          null,
          null,
          null,
          null,
          null,
          null,
          null,
          null,
          null,
          null,
          null,
          null,
          null,
          null,
          null,
          null,
          null,
          null,
          null,
          null,
          null,
          null,
          null,
          null,
          null,
          null,
          null,
          null,
          null,
          null,
          null,
          null,
          null,
          null,
          null,
          null,
          null,
          null,
          null,
          null,
          null,
          null,
          null,
          null,
          null,
          null,
          null,
          null,
          null,
          null,
          null
         ],
         "y": [
          "AGO",
          "ALB",
          "ARM",
          "BEN",
          "BFA",
          "BGD",
          "BOL",
          "CIV",
          "CMR",
          "COD",
          "COM",
          "DOM",
          "EGY",
          "ETH",
          "GAB",
          "GHA",
          "GIN",
          "GMB",
          "GTM",
          "GUY",
          "HND",
          "HTI",
          "IND",
          "JOR",
          "KEN",
          "KGZ",
          "KHM",
          "LBR",
          "LSO",
          "MAR",
          "MDA",
          "MDG",
          "MLI",
          "MMR",
          "MOZ",
          "MRT",
          "MWI",
          "NAM",
          "NGA",
          "NIC",
          "PAK",
          "PER",
          "PHL",
          "SEN",
          "SLE",
          "SWZ",
          "TCD",
          "TGO",
          "TJK",
          "TLS",
          "TZA",
          "UGA",
          "ZAF",
          "ZMB",
          "ZWE"
         ]
        },
        {
         "marker": {
          "color": "rgba(255, 166, 86, 0.95)",
          "line": {
           "width": 1
          },
          "size": 16,
          "symbol": "circle"
         },
         "mode": "markers",
         "name": "9",
         "type": "scatter",
         "x": [
          null,
          null,
          null,
          null,
          null,
          -5.883,
          null,
          null,
          null,
          null,
          null,
          null,
          null,
          null,
          null,
          null,
          null,
          null,
          null,
          null,
          null,
          33.597,
          null,
          null,
          null,
          null,
          -10.048,
          null,
          -10.61,
          null,
          null,
          null,
          null,
          null,
          null,
          null,
          null,
          null,
          null,
          null,
          null,
          -8.801,
          null,
          null,
          -34.392,
          null,
          null,
          null,
          null,
          null,
          null,
          null,
          null,
          null,
          null
         ],
         "y": [
          "AGO",
          "ALB",
          "ARM",
          "BEN",
          "BFA",
          "BGD",
          "BOL",
          "CIV",
          "CMR",
          "COD",
          "COM",
          "DOM",
          "EGY",
          "ETH",
          "GAB",
          "GHA",
          "GIN",
          "GMB",
          "GTM",
          "GUY",
          "HND",
          "HTI",
          "IND",
          "JOR",
          "KEN",
          "KGZ",
          "KHM",
          "LBR",
          "LSO",
          "MAR",
          "MDA",
          "MDG",
          "MLI",
          "MMR",
          "MOZ",
          "MRT",
          "MWI",
          "NAM",
          "NGA",
          "NIC",
          "PAK",
          "PER",
          "PHL",
          "SEN",
          "SLE",
          "SWZ",
          "TCD",
          "TGO",
          "TJK",
          "TLS",
          "TZA",
          "UGA",
          "ZAF",
          "ZMB",
          "ZWE"
         ]
        },
        {
         "marker": {
          "color": "rgba(255, 166, 86, 0.95)",
          "line": {
           "width": 1
          },
          "size": 16,
          "symbol": "circle"
         },
         "mode": "markers",
         "name": "10",
         "type": "scatter",
         "x": [
          null,
          null,
          null,
          null,
          null,
          -5.587,
          null,
          null,
          null,
          null,
          null,
          null,
          null,
          null,
          null,
          null,
          14.334,
          null,
          null,
          null,
          null,
          35.414,
          null,
          null,
          null,
          null,
          -12.242,
          null,
          -7.028,
          null,
          null,
          null,
          null,
          null,
          null,
          null,
          null,
          null,
          null,
          null,
          -4.967,
          null,
          null,
          null,
          -26.805,
          null,
          null,
          null,
          null,
          null,
          null,
          null,
          null,
          null,
          null
         ],
         "y": [
          "AGO",
          "ALB",
          "ARM",
          "BEN",
          "BFA",
          "BGD",
          "BOL",
          "CIV",
          "CMR",
          "COD",
          "COM",
          "DOM",
          "EGY",
          "ETH",
          "GAB",
          "GHA",
          "GIN",
          "GMB",
          "GTM",
          "GUY",
          "HND",
          "HTI",
          "IND",
          "JOR",
          "KEN",
          "KGZ",
          "KHM",
          "LBR",
          "LSO",
          "MAR",
          "MDA",
          "MDG",
          "MLI",
          "MMR",
          "MOZ",
          "MRT",
          "MWI",
          "NAM",
          "NGA",
          "NIC",
          "PAK",
          "PER",
          "PHL",
          "SEN",
          "SLE",
          "SWZ",
          "TCD",
          "TGO",
          "TJK",
          "TLS",
          "TZA",
          "UGA",
          "ZAF",
          "ZMB",
          "ZWE"
         ]
        },
        {
         "marker": {
          "color": "rgba(255, 166, 86, 0.95)",
          "line": {
           "width": 1
          },
          "size": 16,
          "symbol": "circle"
         },
         "mode": "markers",
         "name": "11",
         "type": "scatter",
         "x": [
          null,
          null,
          null,
          null,
          -29.739,
          -6.421,
          null,
          null,
          null,
          null,
          null,
          null,
          null,
          null,
          null,
          5.172,
          null,
          null,
          null,
          null,
          null,
          35.487,
          null,
          null,
          null,
          null,
          -15.202,
          null,
          -7.052,
          null,
          null,
          null,
          null,
          null,
          -13.52,
          null,
          null,
          -3.697,
          null,
          null,
          -5.128,
          null,
          -1.805,
          null,
          -24.713,
          null,
          null,
          null,
          null,
          null,
          null,
          null,
          null,
          null,
          -17.407
         ],
         "y": [
          "AGO",
          "ALB",
          "ARM",
          "BEN",
          "BFA",
          "BGD",
          "BOL",
          "CIV",
          "CMR",
          "COD",
          "COM",
          "DOM",
          "EGY",
          "ETH",
          "GAB",
          "GHA",
          "GIN",
          "GMB",
          "GTM",
          "GUY",
          "HND",
          "HTI",
          "IND",
          "JOR",
          "KEN",
          "KGZ",
          "KHM",
          "LBR",
          "LSO",
          "MAR",
          "MDA",
          "MDG",
          "MLI",
          "MMR",
          "MOZ",
          "MRT",
          "MWI",
          "NAM",
          "NGA",
          "NIC",
          "PAK",
          "PER",
          "PHL",
          "SEN",
          "SLE",
          "SWZ",
          "TCD",
          "TGO",
          "TJK",
          "TLS",
          "TZA",
          "UGA",
          "ZAF",
          "ZMB",
          "ZWE"
         ]
        },
        {
         "marker": {
          "color": "rgba(255, 166, 86, 0.95)",
          "line": {
           "width": 1
          },
          "size": 16,
          "symbol": "circle"
         },
         "mode": "markers",
         "name": "12",
         "type": "scatter",
         "x": [
          null,
          null,
          null,
          null,
          null,
          -6.731,
          null,
          -7.328,
          null,
          null,
          null,
          null,
          null,
          null,
          null,
          4.093,
          21.126,
          null,
          null,
          null,
          null,
          35.487,
          null,
          null,
          null,
          null,
          -11.726,
          2.458,
          -6.972,
          null,
          null,
          null,
          null,
          null,
          -14.886,
          null,
          null,
          -4.586,
          null,
          null,
          -5.72,
          -2.431,
          null,
          null,
          -24.022,
          null,
          3.069,
          null,
          null,
          null,
          -9.464,
          null,
          null,
          null,
          null
         ],
         "y": [
          "AGO",
          "ALB",
          "ARM",
          "BEN",
          "BFA",
          "BGD",
          "BOL",
          "CIV",
          "CMR",
          "COD",
          "COM",
          "DOM",
          "EGY",
          "ETH",
          "GAB",
          "GHA",
          "GIN",
          "GMB",
          "GTM",
          "GUY",
          "HND",
          "HTI",
          "IND",
          "JOR",
          "KEN",
          "KGZ",
          "KHM",
          "LBR",
          "LSO",
          "MAR",
          "MDA",
          "MDG",
          "MLI",
          "MMR",
          "MOZ",
          "MRT",
          "MWI",
          "NAM",
          "NGA",
          "NIC",
          "PAK",
          "PER",
          "PHL",
          "SEN",
          "SLE",
          "SWZ",
          "TCD",
          "TGO",
          "TJK",
          "TLS",
          "TZA",
          "UGA",
          "ZAF",
          "ZMB",
          "ZWE"
         ]
        },
        {
         "marker": {
          "color": "rgba(240, 230, 140, 0.95)",
          "line": {
           "width": 1
          },
          "size": 16,
          "symbol": "circle"
         },
         "mode": "markers",
         "name": "13",
         "type": "scatter",
         "x": [
          null,
          null,
          null,
          null,
          -83.228,
          -0.612,
          -17.683,
          null,
          null,
          null,
          null,
          null,
          null,
          null,
          -24.145,
          null,
          null,
          null,
          null,
          null,
          null,
          23.245,
          null,
          null,
          null,
          null,
          null,
          -64.735,
          24.18,
          null,
          null,
          null,
          null,
          null,
          null,
          null,
          null,
          -12.648,
          null,
          null,
          null,
          null,
          -7.921,
          null,
          -52.836,
          null,
          null,
          null,
          null,
          null,
          null,
          null,
          null,
          null,
          null
         ],
         "y": [
          "AGO",
          "ALB",
          "ARM",
          "BEN",
          "BFA",
          "BGD",
          "BOL",
          "CIV",
          "CMR",
          "COD",
          "COM",
          "DOM",
          "EGY",
          "ETH",
          "GAB",
          "GHA",
          "GIN",
          "GMB",
          "GTM",
          "GUY",
          "HND",
          "HTI",
          "IND",
          "JOR",
          "KEN",
          "KGZ",
          "KHM",
          "LBR",
          "LSO",
          "MAR",
          "MDA",
          "MDG",
          "MLI",
          "MMR",
          "MOZ",
          "MRT",
          "MWI",
          "NAM",
          "NGA",
          "NIC",
          "PAK",
          "PER",
          "PHL",
          "SEN",
          "SLE",
          "SWZ",
          "TCD",
          "TGO",
          "TJK",
          "TLS",
          "TZA",
          "UGA",
          "ZAF",
          "ZMB",
          "ZWE"
         ]
        },
        {
         "marker": {
          "color": "rgba(240, 230, 140, 0.95)",
          "line": {
           "width": 1
          },
          "size": 16,
          "symbol": "circle"
         },
         "mode": "markers",
         "name": "14",
         "type": "scatter",
         "x": [
          19.95,
          null,
          null,
          null,
          -68.161,
          -3.427,
          -21.919,
          null,
          null,
          null,
          null,
          null,
          null,
          null,
          -15.066,
          null,
          35.828,
          null,
          null,
          null,
          null,
          25.792,
          null,
          null,
          null,
          null,
          null,
          -61.135,
          21.204,
          null,
          null,
          null,
          null,
          null,
          null,
          null,
          null,
          -13.75,
          null,
          null,
          -15.016,
          null,
          -7.776,
          null,
          -66.515,
          null,
          null,
          null,
          null,
          null,
          -28.605,
          null,
          null,
          null,
          null
         ],
         "y": [
          "AGO",
          "ALB",
          "ARM",
          "BEN",
          "BFA",
          "BGD",
          "BOL",
          "CIV",
          "CMR",
          "COD",
          "COM",
          "DOM",
          "EGY",
          "ETH",
          "GAB",
          "GHA",
          "GIN",
          "GMB",
          "GTM",
          "GUY",
          "HND",
          "HTI",
          "IND",
          "JOR",
          "KEN",
          "KGZ",
          "KHM",
          "LBR",
          "LSO",
          "MAR",
          "MDA",
          "MDG",
          "MLI",
          "MMR",
          "MOZ",
          "MRT",
          "MWI",
          "NAM",
          "NGA",
          "NIC",
          "PAK",
          "PER",
          "PHL",
          "SEN",
          "SLE",
          "SWZ",
          "TCD",
          "TGO",
          "TJK",
          "TLS",
          "TZA",
          "UGA",
          "ZAF",
          "ZMB",
          "ZWE"
         ]
        },
        {
         "marker": {
          "color": "rgba(240, 230, 140, 0.95)",
          "line": {
           "width": 1
          },
          "size": 16,
          "symbol": "circle"
         },
         "mode": "markers",
         "name": "15",
         "type": "scatter",
         "x": [
          16.602,
          null,
          null,
          null,
          -63.264,
          -3.641,
          -23.722,
          -27.312,
          null,
          null,
          null,
          null,
          null,
          null,
          -13.266,
          13.419,
          28.764,
          null,
          null,
          null,
          null,
          25.785,
          null,
          null,
          null,
          null,
          68.348,
          -59.995,
          18.385,
          null,
          null,
          null,
          null,
          null,
          null,
          null,
          null,
          -13.641,
          null,
          null,
          -13.719,
          null,
          -7.673,
          null,
          -61.871,
          null,
          -22.249,
          null,
          null,
          null,
          null,
          null,
          null,
          null,
          null
         ],
         "y": [
          "AGO",
          "ALB",
          "ARM",
          "BEN",
          "BFA",
          "BGD",
          "BOL",
          "CIV",
          "CMR",
          "COD",
          "COM",
          "DOM",
          "EGY",
          "ETH",
          "GAB",
          "GHA",
          "GIN",
          "GMB",
          "GTM",
          "GUY",
          "HND",
          "HTI",
          "IND",
          "JOR",
          "KEN",
          "KGZ",
          "KHM",
          "LBR",
          "LSO",
          "MAR",
          "MDA",
          "MDG",
          "MLI",
          "MMR",
          "MOZ",
          "MRT",
          "MWI",
          "NAM",
          "NGA",
          "NIC",
          "PAK",
          "PER",
          "PHL",
          "SEN",
          "SLE",
          "SWZ",
          "TCD",
          "TGO",
          "TJK",
          "TLS",
          "TZA",
          "UGA",
          "ZAF",
          "ZMB",
          "ZWE"
         ]
        },
        {
         "marker": {
          "color": "rgba(240, 230, 140, 0.95)",
          "line": {
           "width": 1
          },
          "size": 16,
          "symbol": "circle"
         },
         "mode": "markers",
         "name": "16",
         "type": "scatter",
         "x": [
          15.745,
          null,
          null,
          null,
          -60.37,
          -8.837,
          -22.833,
          -30.432,
          null,
          null,
          null,
          null,
          null,
          null,
          -12.704,
          null,
          30.209,
          null,
          null,
          null,
          null,
          25.785,
          null,
          null,
          null,
          null,
          65.37,
          -57.448,
          18.308,
          null,
          null,
          null,
          null,
          -6.589,
          null,
          null,
          null,
          -12.961,
          null,
          null,
          -14.32,
          null,
          -5.775,
          null,
          -61.02,
          null,
          -22.973,
          null,
          null,
          null,
          -32.164,
          null,
          null,
          null,
          null
         ],
         "y": [
          "AGO",
          "ALB",
          "ARM",
          "BEN",
          "BFA",
          "BGD",
          "BOL",
          "CIV",
          "CMR",
          "COD",
          "COM",
          "DOM",
          "EGY",
          "ETH",
          "GAB",
          "GHA",
          "GIN",
          "GMB",
          "GTM",
          "GUY",
          "HND",
          "HTI",
          "IND",
          "JOR",
          "KEN",
          "KGZ",
          "KHM",
          "LBR",
          "LSO",
          "MAR",
          "MDA",
          "MDG",
          "MLI",
          "MMR",
          "MOZ",
          "MRT",
          "MWI",
          "NAM",
          "NGA",
          "NIC",
          "PAK",
          "PER",
          "PHL",
          "SEN",
          "SLE",
          "SWZ",
          "TCD",
          "TGO",
          "TJK",
          "TLS",
          "TZA",
          "UGA",
          "ZAF",
          "ZMB",
          "ZWE"
         ]
        }
       ],
       "layout": {
        "height": 600,
        "hovermode": "closest",
        "legend": {
         "font": {
          "size": 10
         },
         "xanchor": "center",
         "yanchor": "top"
        },
        "margin": {
         "b": 50,
         "l": 140,
         "r": 40,
         "t": 80
        },
        "paper_bgcolor": "white",
        "plot_bgcolor": "white",
        "shapes": [
         {
          "line": {
           "color": "red",
           "dash": "dashdot",
           "width": 2
          },
          "type": "line",
          "x0": 0,
          "x1": 0,
          "y0": 0,
          "y1": 55
         }
        ],
        "template": {
         "data": {
          "bar": [
           {
            "error_x": {
             "color": "#2a3f5f"
            },
            "error_y": {
             "color": "#2a3f5f"
            },
            "marker": {
             "line": {
              "color": "#E5ECF6",
              "width": 0.5
             },
             "pattern": {
              "fillmode": "overlay",
              "size": 10,
              "solidity": 0.2
             }
            },
            "type": "bar"
           }
          ],
          "barpolar": [
           {
            "marker": {
             "line": {
              "color": "#E5ECF6",
              "width": 0.5
             },
             "pattern": {
              "fillmode": "overlay",
              "size": 10,
              "solidity": 0.2
             }
            },
            "type": "barpolar"
           }
          ],
          "carpet": [
           {
            "aaxis": {
             "endlinecolor": "#2a3f5f",
             "gridcolor": "white",
             "linecolor": "white",
             "minorgridcolor": "white",
             "startlinecolor": "#2a3f5f"
            },
            "baxis": {
             "endlinecolor": "#2a3f5f",
             "gridcolor": "white",
             "linecolor": "white",
             "minorgridcolor": "white",
             "startlinecolor": "#2a3f5f"
            },
            "type": "carpet"
           }
          ],
          "choropleth": [
           {
            "colorbar": {
             "outlinewidth": 0,
             "ticks": ""
            },
            "type": "choropleth"
           }
          ],
          "contour": [
           {
            "colorbar": {
             "outlinewidth": 0,
             "ticks": ""
            },
            "colorscale": [
             [
              0,
              "#0d0887"
             ],
             [
              0.1111111111111111,
              "#46039f"
             ],
             [
              0.2222222222222222,
              "#7201a8"
             ],
             [
              0.3333333333333333,
              "#9c179e"
             ],
             [
              0.4444444444444444,
              "#bd3786"
             ],
             [
              0.5555555555555556,
              "#d8576b"
             ],
             [
              0.6666666666666666,
              "#ed7953"
             ],
             [
              0.7777777777777778,
              "#fb9f3a"
             ],
             [
              0.8888888888888888,
              "#fdca26"
             ],
             [
              1,
              "#f0f921"
             ]
            ],
            "type": "contour"
           }
          ],
          "contourcarpet": [
           {
            "colorbar": {
             "outlinewidth": 0,
             "ticks": ""
            },
            "type": "contourcarpet"
           }
          ],
          "heatmap": [
           {
            "colorbar": {
             "outlinewidth": 0,
             "ticks": ""
            },
            "colorscale": [
             [
              0,
              "#0d0887"
             ],
             [
              0.1111111111111111,
              "#46039f"
             ],
             [
              0.2222222222222222,
              "#7201a8"
             ],
             [
              0.3333333333333333,
              "#9c179e"
             ],
             [
              0.4444444444444444,
              "#bd3786"
             ],
             [
              0.5555555555555556,
              "#d8576b"
             ],
             [
              0.6666666666666666,
              "#ed7953"
             ],
             [
              0.7777777777777778,
              "#fb9f3a"
             ],
             [
              0.8888888888888888,
              "#fdca26"
             ],
             [
              1,
              "#f0f921"
             ]
            ],
            "type": "heatmap"
           }
          ],
          "heatmapgl": [
           {
            "colorbar": {
             "outlinewidth": 0,
             "ticks": ""
            },
            "colorscale": [
             [
              0,
              "#0d0887"
             ],
             [
              0.1111111111111111,
              "#46039f"
             ],
             [
              0.2222222222222222,
              "#7201a8"
             ],
             [
              0.3333333333333333,
              "#9c179e"
             ],
             [
              0.4444444444444444,
              "#bd3786"
             ],
             [
              0.5555555555555556,
              "#d8576b"
             ],
             [
              0.6666666666666666,
              "#ed7953"
             ],
             [
              0.7777777777777778,
              "#fb9f3a"
             ],
             [
              0.8888888888888888,
              "#fdca26"
             ],
             [
              1,
              "#f0f921"
             ]
            ],
            "type": "heatmapgl"
           }
          ],
          "histogram": [
           {
            "marker": {
             "pattern": {
              "fillmode": "overlay",
              "size": 10,
              "solidity": 0.2
             }
            },
            "type": "histogram"
           }
          ],
          "histogram2d": [
           {
            "colorbar": {
             "outlinewidth": 0,
             "ticks": ""
            },
            "colorscale": [
             [
              0,
              "#0d0887"
             ],
             [
              0.1111111111111111,
              "#46039f"
             ],
             [
              0.2222222222222222,
              "#7201a8"
             ],
             [
              0.3333333333333333,
              "#9c179e"
             ],
             [
              0.4444444444444444,
              "#bd3786"
             ],
             [
              0.5555555555555556,
              "#d8576b"
             ],
             [
              0.6666666666666666,
              "#ed7953"
             ],
             [
              0.7777777777777778,
              "#fb9f3a"
             ],
             [
              0.8888888888888888,
              "#fdca26"
             ],
             [
              1,
              "#f0f921"
             ]
            ],
            "type": "histogram2d"
           }
          ],
          "histogram2dcontour": [
           {
            "colorbar": {
             "outlinewidth": 0,
             "ticks": ""
            },
            "colorscale": [
             [
              0,
              "#0d0887"
             ],
             [
              0.1111111111111111,
              "#46039f"
             ],
             [
              0.2222222222222222,
              "#7201a8"
             ],
             [
              0.3333333333333333,
              "#9c179e"
             ],
             [
              0.4444444444444444,
              "#bd3786"
             ],
             [
              0.5555555555555556,
              "#d8576b"
             ],
             [
              0.6666666666666666,
              "#ed7953"
             ],
             [
              0.7777777777777778,
              "#fb9f3a"
             ],
             [
              0.8888888888888888,
              "#fdca26"
             ],
             [
              1,
              "#f0f921"
             ]
            ],
            "type": "histogram2dcontour"
           }
          ],
          "mesh3d": [
           {
            "colorbar": {
             "outlinewidth": 0,
             "ticks": ""
            },
            "type": "mesh3d"
           }
          ],
          "parcoords": [
           {
            "line": {
             "colorbar": {
              "outlinewidth": 0,
              "ticks": ""
             }
            },
            "type": "parcoords"
           }
          ],
          "pie": [
           {
            "automargin": true,
            "type": "pie"
           }
          ],
          "scatter": [
           {
            "fillpattern": {
             "fillmode": "overlay",
             "size": 10,
             "solidity": 0.2
            },
            "type": "scatter"
           }
          ],
          "scatter3d": [
           {
            "line": {
             "colorbar": {
              "outlinewidth": 0,
              "ticks": ""
             }
            },
            "marker": {
             "colorbar": {
              "outlinewidth": 0,
              "ticks": ""
             }
            },
            "type": "scatter3d"
           }
          ],
          "scattercarpet": [
           {
            "marker": {
             "colorbar": {
              "outlinewidth": 0,
              "ticks": ""
             }
            },
            "type": "scattercarpet"
           }
          ],
          "scattergeo": [
           {
            "marker": {
             "colorbar": {
              "outlinewidth": 0,
              "ticks": ""
             }
            },
            "type": "scattergeo"
           }
          ],
          "scattergl": [
           {
            "marker": {
             "colorbar": {
              "outlinewidth": 0,
              "ticks": ""
             }
            },
            "type": "scattergl"
           }
          ],
          "scattermapbox": [
           {
            "marker": {
             "colorbar": {
              "outlinewidth": 0,
              "ticks": ""
             }
            },
            "type": "scattermapbox"
           }
          ],
          "scatterpolar": [
           {
            "marker": {
             "colorbar": {
              "outlinewidth": 0,
              "ticks": ""
             }
            },
            "type": "scatterpolar"
           }
          ],
          "scatterpolargl": [
           {
            "marker": {
             "colorbar": {
              "outlinewidth": 0,
              "ticks": ""
             }
            },
            "type": "scatterpolargl"
           }
          ],
          "scatterternary": [
           {
            "marker": {
             "colorbar": {
              "outlinewidth": 0,
              "ticks": ""
             }
            },
            "type": "scatterternary"
           }
          ],
          "surface": [
           {
            "colorbar": {
             "outlinewidth": 0,
             "ticks": ""
            },
            "colorscale": [
             [
              0,
              "#0d0887"
             ],
             [
              0.1111111111111111,
              "#46039f"
             ],
             [
              0.2222222222222222,
              "#7201a8"
             ],
             [
              0.3333333333333333,
              "#9c179e"
             ],
             [
              0.4444444444444444,
              "#bd3786"
             ],
             [
              0.5555555555555556,
              "#d8576b"
             ],
             [
              0.6666666666666666,
              "#ed7953"
             ],
             [
              0.7777777777777778,
              "#fb9f3a"
             ],
             [
              0.8888888888888888,
              "#fdca26"
             ],
             [
              1,
              "#f0f921"
             ]
            ],
            "type": "surface"
           }
          ],
          "table": [
           {
            "cells": {
             "fill": {
              "color": "#EBF0F8"
             },
             "line": {
              "color": "white"
             }
            },
            "header": {
             "fill": {
              "color": "#C8D4E3"
             },
             "line": {
              "color": "white"
             }
            },
            "type": "table"
           }
          ]
         },
         "layout": {
          "annotationdefaults": {
           "arrowcolor": "#2a3f5f",
           "arrowhead": 0,
           "arrowwidth": 1
          },
          "autotypenumbers": "strict",
          "coloraxis": {
           "colorbar": {
            "outlinewidth": 0,
            "ticks": ""
           }
          },
          "colorscale": {
           "diverging": [
            [
             0,
             "#8e0152"
            ],
            [
             0.1,
             "#c51b7d"
            ],
            [
             0.2,
             "#de77ae"
            ],
            [
             0.3,
             "#f1b6da"
            ],
            [
             0.4,
             "#fde0ef"
            ],
            [
             0.5,
             "#f7f7f7"
            ],
            [
             0.6,
             "#e6f5d0"
            ],
            [
             0.7,
             "#b8e186"
            ],
            [
             0.8,
             "#7fbc41"
            ],
            [
             0.9,
             "#4d9221"
            ],
            [
             1,
             "#276419"
            ]
           ],
           "sequential": [
            [
             0,
             "#0d0887"
            ],
            [
             0.1111111111111111,
             "#46039f"
            ],
            [
             0.2222222222222222,
             "#7201a8"
            ],
            [
             0.3333333333333333,
             "#9c179e"
            ],
            [
             0.4444444444444444,
             "#bd3786"
            ],
            [
             0.5555555555555556,
             "#d8576b"
            ],
            [
             0.6666666666666666,
             "#ed7953"
            ],
            [
             0.7777777777777778,
             "#fb9f3a"
            ],
            [
             0.8888888888888888,
             "#fdca26"
            ],
            [
             1,
             "#f0f921"
            ]
           ],
           "sequentialminus": [
            [
             0,
             "#0d0887"
            ],
            [
             0.1111111111111111,
             "#46039f"
            ],
            [
             0.2222222222222222,
             "#7201a8"
            ],
            [
             0.3333333333333333,
             "#9c179e"
            ],
            [
             0.4444444444444444,
             "#bd3786"
            ],
            [
             0.5555555555555556,
             "#d8576b"
            ],
            [
             0.6666666666666666,
             "#ed7953"
            ],
            [
             0.7777777777777778,
             "#fb9f3a"
            ],
            [
             0.8888888888888888,
             "#fdca26"
            ],
            [
             1,
             "#f0f921"
            ]
           ]
          },
          "colorway": [
           "#636efa",
           "#EF553B",
           "#00cc96",
           "#ab63fa",
           "#FFA15A",
           "#19d3f3",
           "#FF6692",
           "#B6E880",
           "#FF97FF",
           "#FECB52"
          ],
          "font": {
           "color": "#2a3f5f"
          },
          "geo": {
           "bgcolor": "white",
           "lakecolor": "white",
           "landcolor": "#E5ECF6",
           "showlakes": true,
           "showland": true,
           "subunitcolor": "white"
          },
          "hoverlabel": {
           "align": "left"
          },
          "hovermode": "closest",
          "mapbox": {
           "style": "light"
          },
          "paper_bgcolor": "white",
          "plot_bgcolor": "#E5ECF6",
          "polar": {
           "angularaxis": {
            "gridcolor": "white",
            "linecolor": "white",
            "ticks": ""
           },
           "bgcolor": "#E5ECF6",
           "radialaxis": {
            "gridcolor": "white",
            "linecolor": "white",
            "ticks": ""
           }
          },
          "scene": {
           "xaxis": {
            "backgroundcolor": "#E5ECF6",
            "gridcolor": "white",
            "gridwidth": 2,
            "linecolor": "white",
            "showbackground": true,
            "ticks": "",
            "zerolinecolor": "white"
           },
           "yaxis": {
            "backgroundcolor": "#E5ECF6",
            "gridcolor": "white",
            "gridwidth": 2,
            "linecolor": "white",
            "showbackground": true,
            "ticks": "",
            "zerolinecolor": "white"
           },
           "zaxis": {
            "backgroundcolor": "#E5ECF6",
            "gridcolor": "white",
            "gridwidth": 2,
            "linecolor": "white",
            "showbackground": true,
            "ticks": "",
            "zerolinecolor": "white"
           }
          },
          "shapedefaults": {
           "line": {
            "color": "#2a3f5f"
           }
          },
          "ternary": {
           "aaxis": {
            "gridcolor": "white",
            "linecolor": "white",
            "ticks": ""
           },
           "baxis": {
            "gridcolor": "white",
            "linecolor": "white",
            "ticks": ""
           },
           "bgcolor": "#E5ECF6",
           "caxis": {
            "gridcolor": "white",
            "linecolor": "white",
            "ticks": ""
           }
          },
          "title": {
           "x": 0.05
          },
          "xaxis": {
           "automargin": true,
           "gridcolor": "white",
           "linecolor": "white",
           "ticks": "",
           "title": {
            "standoff": 15
           },
           "zerolinecolor": "white",
           "zerolinewidth": 2
          },
          "yaxis": {
           "automargin": true,
           "gridcolor": "white",
           "linecolor": "white",
           "ticks": "",
           "title": {
            "standoff": 15
           },
           "zerolinecolor": "white",
           "zerolinewidth": 2
          }
         }
        },
        "title": {
         "text": "drought 2.5 3m6m"
        },
        "width": 1600,
        "xaxis": {
         "linecolor": "rgb(102, 102, 102)",
         "showgrid": false,
         "showline": true,
         "showticklabels": true,
         "tickcolor": "rgb(102, 102, 102)",
         "tickfont": {
          "color": "rgb(102, 102, 102)"
         },
         "ticks": "outside"
        }
       }
      }
     },
     "metadata": {},
     "output_type": "display_data"
    },
    {
     "data": {
      "application/vnd.plotly.v1+json": {
       "config": {
        "plotlyServerURL": "https://plot.ly"
       },
       "data": [
        {
         "marker": {
          "color": "rgba(156, 165, 196, 0.95)",
          "line": {
           "width": 1
          },
          "size": 16,
          "symbol": "circle"
         },
         "mode": "markers",
         "name": "1",
         "type": "scatter",
         "x": [
          null,
          null,
          null,
          null,
          null,
          null,
          null,
          null,
          null,
          null,
          null,
          null,
          null,
          null,
          null,
          null,
          null,
          null,
          null,
          null,
          null,
          null,
          null,
          null,
          null,
          null,
          null,
          null,
          null,
          null,
          null,
          null,
          null,
          null,
          null,
          null,
          null,
          null,
          null,
          null,
          null,
          null,
          null,
          null,
          null,
          null,
          null,
          null,
          null,
          null,
          null,
          null,
          null,
          null,
          null
         ],
         "y": [
          "AGO",
          "ALB",
          "ARM",
          "BEN",
          "BFA",
          "BGD",
          "BOL",
          "CIV",
          "CMR",
          "COD",
          "COM",
          "DOM",
          "EGY",
          "ETH",
          "GAB",
          "GHA",
          "GIN",
          "GMB",
          "GTM",
          "GUY",
          "HND",
          "HTI",
          "IND",
          "JOR",
          "KEN",
          "KGZ",
          "KHM",
          "LBR",
          "LSO",
          "MAR",
          "MDA",
          "MDG",
          "MLI",
          "MMR",
          "MOZ",
          "MRT",
          "MWI",
          "NAM",
          "NGA",
          "NIC",
          "PAK",
          "PER",
          "PHL",
          "SEN",
          "SLE",
          "SWZ",
          "TCD",
          "TGO",
          "TJK",
          "TLS",
          "TZA",
          "UGA",
          "ZAF",
          "ZMB",
          "ZWE"
         ]
        },
        {
         "marker": {
          "color": "rgba(156, 165, 196, 0.95)",
          "line": {
           "width": 1
          },
          "size": 16,
          "symbol": "circle"
         },
         "mode": "markers",
         "name": "2",
         "type": "scatter",
         "x": [
          null,
          null,
          null,
          null,
          null,
          null,
          null,
          null,
          null,
          null,
          null,
          null,
          null,
          null,
          null,
          null,
          null,
          null,
          null,
          null,
          null,
          null,
          null,
          null,
          null,
          null,
          null,
          null,
          null,
          null,
          null,
          null,
          null,
          null,
          null,
          null,
          null,
          null,
          null,
          null,
          null,
          null,
          null,
          null,
          null,
          null,
          null,
          null,
          null,
          null,
          null,
          null,
          null,
          null,
          null
         ],
         "y": [
          "AGO",
          "ALB",
          "ARM",
          "BEN",
          "BFA",
          "BGD",
          "BOL",
          "CIV",
          "CMR",
          "COD",
          "COM",
          "DOM",
          "EGY",
          "ETH",
          "GAB",
          "GHA",
          "GIN",
          "GMB",
          "GTM",
          "GUY",
          "HND",
          "HTI",
          "IND",
          "JOR",
          "KEN",
          "KGZ",
          "KHM",
          "LBR",
          "LSO",
          "MAR",
          "MDA",
          "MDG",
          "MLI",
          "MMR",
          "MOZ",
          "MRT",
          "MWI",
          "NAM",
          "NGA",
          "NIC",
          "PAK",
          "PER",
          "PHL",
          "SEN",
          "SLE",
          "SWZ",
          "TCD",
          "TGO",
          "TJK",
          "TLS",
          "TZA",
          "UGA",
          "ZAF",
          "ZMB",
          "ZWE"
         ]
        },
        {
         "marker": {
          "color": "rgba(156, 165, 196, 0.95)",
          "line": {
           "width": 1
          },
          "size": 16,
          "symbol": "circle"
         },
         "mode": "markers",
         "name": "3",
         "type": "scatter",
         "x": [
          null,
          null,
          null,
          null,
          null,
          null,
          null,
          null,
          null,
          null,
          null,
          null,
          null,
          null,
          null,
          null,
          null,
          null,
          null,
          null,
          null,
          null,
          null,
          null,
          null,
          null,
          null,
          null,
          null,
          null,
          null,
          null,
          null,
          null,
          null,
          null,
          null,
          null,
          null,
          null,
          null,
          null,
          null,
          null,
          null,
          null,
          null,
          null,
          null,
          null,
          null,
          null,
          null,
          null,
          null
         ],
         "y": [
          "AGO",
          "ALB",
          "ARM",
          "BEN",
          "BFA",
          "BGD",
          "BOL",
          "CIV",
          "CMR",
          "COD",
          "COM",
          "DOM",
          "EGY",
          "ETH",
          "GAB",
          "GHA",
          "GIN",
          "GMB",
          "GTM",
          "GUY",
          "HND",
          "HTI",
          "IND",
          "JOR",
          "KEN",
          "KGZ",
          "KHM",
          "LBR",
          "LSO",
          "MAR",
          "MDA",
          "MDG",
          "MLI",
          "MMR",
          "MOZ",
          "MRT",
          "MWI",
          "NAM",
          "NGA",
          "NIC",
          "PAK",
          "PER",
          "PHL",
          "SEN",
          "SLE",
          "SWZ",
          "TCD",
          "TGO",
          "TJK",
          "TLS",
          "TZA",
          "UGA",
          "ZAF",
          "ZMB",
          "ZWE"
         ]
        },
        {
         "marker": {
          "color": "rgba(156, 165, 196, 0.95)",
          "line": {
           "width": 1
          },
          "size": 16,
          "symbol": "circle"
         },
         "mode": "markers",
         "name": "4",
         "type": "scatter",
         "x": [
          null,
          null,
          null,
          null,
          null,
          null,
          null,
          null,
          null,
          null,
          null,
          null,
          null,
          null,
          null,
          null,
          null,
          null,
          null,
          null,
          null,
          null,
          null,
          null,
          null,
          null,
          null,
          null,
          null,
          null,
          null,
          null,
          null,
          null,
          null,
          null,
          null,
          null,
          null,
          null,
          null,
          null,
          null,
          null,
          null,
          null,
          null,
          null,
          null,
          null,
          null,
          null,
          null,
          null,
          null
         ],
         "y": [
          "AGO",
          "ALB",
          "ARM",
          "BEN",
          "BFA",
          "BGD",
          "BOL",
          "CIV",
          "CMR",
          "COD",
          "COM",
          "DOM",
          "EGY",
          "ETH",
          "GAB",
          "GHA",
          "GIN",
          "GMB",
          "GTM",
          "GUY",
          "HND",
          "HTI",
          "IND",
          "JOR",
          "KEN",
          "KGZ",
          "KHM",
          "LBR",
          "LSO",
          "MAR",
          "MDA",
          "MDG",
          "MLI",
          "MMR",
          "MOZ",
          "MRT",
          "MWI",
          "NAM",
          "NGA",
          "NIC",
          "PAK",
          "PER",
          "PHL",
          "SEN",
          "SLE",
          "SWZ",
          "TCD",
          "TGO",
          "TJK",
          "TLS",
          "TZA",
          "UGA",
          "ZAF",
          "ZMB",
          "ZWE"
         ]
        },
        {
         "marker": {
          "color": "rgba(204, 204, 204, 0.95)",
          "line": {
           "width": 1
          },
          "size": 16,
          "symbol": "circle"
         },
         "mode": "markers",
         "name": "5",
         "type": "scatter",
         "x": [
          null,
          null,
          null,
          null,
          null,
          null,
          null,
          null,
          null,
          null,
          null,
          null,
          null,
          null,
          null,
          null,
          null,
          null,
          null,
          null,
          null,
          null,
          null,
          null,
          null,
          null,
          null,
          null,
          null,
          null,
          null,
          null,
          null,
          null,
          null,
          null,
          null,
          null,
          null,
          null,
          null,
          null,
          null,
          null,
          null,
          null,
          null,
          null,
          null,
          null,
          null,
          null,
          null,
          null,
          null
         ],
         "y": [
          "AGO",
          "ALB",
          "ARM",
          "BEN",
          "BFA",
          "BGD",
          "BOL",
          "CIV",
          "CMR",
          "COD",
          "COM",
          "DOM",
          "EGY",
          "ETH",
          "GAB",
          "GHA",
          "GIN",
          "GMB",
          "GTM",
          "GUY",
          "HND",
          "HTI",
          "IND",
          "JOR",
          "KEN",
          "KGZ",
          "KHM",
          "LBR",
          "LSO",
          "MAR",
          "MDA",
          "MDG",
          "MLI",
          "MMR",
          "MOZ",
          "MRT",
          "MWI",
          "NAM",
          "NGA",
          "NIC",
          "PAK",
          "PER",
          "PHL",
          "SEN",
          "SLE",
          "SWZ",
          "TCD",
          "TGO",
          "TJK",
          "TLS",
          "TZA",
          "UGA",
          "ZAF",
          "ZMB",
          "ZWE"
         ]
        },
        {
         "marker": {
          "color": "rgba(204, 204, 204, 0.95)",
          "line": {
           "width": 1
          },
          "size": 16,
          "symbol": "circle"
         },
         "mode": "markers",
         "name": "6",
         "type": "scatter",
         "x": [
          null,
          null,
          null,
          null,
          null,
          null,
          null,
          null,
          null,
          null,
          null,
          null,
          null,
          null,
          null,
          null,
          null,
          null,
          null,
          null,
          null,
          null,
          null,
          null,
          null,
          null,
          null,
          null,
          null,
          null,
          null,
          null,
          null,
          null,
          null,
          null,
          null,
          null,
          null,
          null,
          null,
          null,
          null,
          null,
          null,
          null,
          null,
          null,
          null,
          null,
          null,
          null,
          null,
          null,
          null
         ],
         "y": [
          "AGO",
          "ALB",
          "ARM",
          "BEN",
          "BFA",
          "BGD",
          "BOL",
          "CIV",
          "CMR",
          "COD",
          "COM",
          "DOM",
          "EGY",
          "ETH",
          "GAB",
          "GHA",
          "GIN",
          "GMB",
          "GTM",
          "GUY",
          "HND",
          "HTI",
          "IND",
          "JOR",
          "KEN",
          "KGZ",
          "KHM",
          "LBR",
          "LSO",
          "MAR",
          "MDA",
          "MDG",
          "MLI",
          "MMR",
          "MOZ",
          "MRT",
          "MWI",
          "NAM",
          "NGA",
          "NIC",
          "PAK",
          "PER",
          "PHL",
          "SEN",
          "SLE",
          "SWZ",
          "TCD",
          "TGO",
          "TJK",
          "TLS",
          "TZA",
          "UGA",
          "ZAF",
          "ZMB",
          "ZWE"
         ]
        },
        {
         "marker": {
          "color": "rgba(204, 204, 204, 0.95)",
          "line": {
           "width": 1
          },
          "size": 16,
          "symbol": "circle"
         },
         "mode": "markers",
         "name": "7",
         "type": "scatter",
         "x": [
          null,
          null,
          null,
          null,
          null,
          null,
          null,
          null,
          null,
          null,
          null,
          null,
          null,
          null,
          null,
          null,
          null,
          null,
          null,
          null,
          null,
          null,
          null,
          null,
          null,
          null,
          null,
          null,
          null,
          null,
          null,
          null,
          null,
          null,
          null,
          null,
          null,
          null,
          null,
          null,
          null,
          null,
          null,
          null,
          null,
          null,
          null,
          null,
          null,
          null,
          null,
          null,
          null,
          null,
          null
         ],
         "y": [
          "AGO",
          "ALB",
          "ARM",
          "BEN",
          "BFA",
          "BGD",
          "BOL",
          "CIV",
          "CMR",
          "COD",
          "COM",
          "DOM",
          "EGY",
          "ETH",
          "GAB",
          "GHA",
          "GIN",
          "GMB",
          "GTM",
          "GUY",
          "HND",
          "HTI",
          "IND",
          "JOR",
          "KEN",
          "KGZ",
          "KHM",
          "LBR",
          "LSO",
          "MAR",
          "MDA",
          "MDG",
          "MLI",
          "MMR",
          "MOZ",
          "MRT",
          "MWI",
          "NAM",
          "NGA",
          "NIC",
          "PAK",
          "PER",
          "PHL",
          "SEN",
          "SLE",
          "SWZ",
          "TCD",
          "TGO",
          "TJK",
          "TLS",
          "TZA",
          "UGA",
          "ZAF",
          "ZMB",
          "ZWE"
         ]
        },
        {
         "marker": {
          "color": "rgba(204, 204, 204, 0.95)",
          "line": {
           "width": 1
          },
          "size": 16,
          "symbol": "circle"
         },
         "mode": "markers",
         "name": "8",
         "type": "scatter",
         "x": [
          null,
          null,
          null,
          null,
          null,
          null,
          null,
          null,
          null,
          null,
          null,
          null,
          null,
          null,
          null,
          null,
          null,
          null,
          null,
          null,
          null,
          null,
          null,
          null,
          null,
          null,
          null,
          null,
          null,
          null,
          null,
          null,
          null,
          null,
          null,
          null,
          null,
          null,
          null,
          null,
          null,
          null,
          null,
          null,
          null,
          null,
          null,
          null,
          null,
          null,
          null,
          null,
          null,
          null,
          null
         ],
         "y": [
          "AGO",
          "ALB",
          "ARM",
          "BEN",
          "BFA",
          "BGD",
          "BOL",
          "CIV",
          "CMR",
          "COD",
          "COM",
          "DOM",
          "EGY",
          "ETH",
          "GAB",
          "GHA",
          "GIN",
          "GMB",
          "GTM",
          "GUY",
          "HND",
          "HTI",
          "IND",
          "JOR",
          "KEN",
          "KGZ",
          "KHM",
          "LBR",
          "LSO",
          "MAR",
          "MDA",
          "MDG",
          "MLI",
          "MMR",
          "MOZ",
          "MRT",
          "MWI",
          "NAM",
          "NGA",
          "NIC",
          "PAK",
          "PER",
          "PHL",
          "SEN",
          "SLE",
          "SWZ",
          "TCD",
          "TGO",
          "TJK",
          "TLS",
          "TZA",
          "UGA",
          "ZAF",
          "ZMB",
          "ZWE"
         ]
        },
        {
         "marker": {
          "color": "rgba(255, 166, 86, 0.95)",
          "line": {
           "width": 1
          },
          "size": 16,
          "symbol": "circle"
         },
         "mode": "markers",
         "name": "9",
         "type": "scatter",
         "x": [
          null,
          null,
          null,
          null,
          null,
          null,
          null,
          null,
          null,
          null,
          null,
          null,
          null,
          null,
          null,
          null,
          null,
          null,
          null,
          null,
          null,
          null,
          null,
          null,
          null,
          null,
          null,
          null,
          null,
          null,
          null,
          null,
          null,
          null,
          null,
          null,
          null,
          null,
          null,
          null,
          null,
          null,
          null,
          null,
          null,
          null,
          null,
          null,
          null,
          null,
          null,
          null,
          null,
          null,
          null
         ],
         "y": [
          "AGO",
          "ALB",
          "ARM",
          "BEN",
          "BFA",
          "BGD",
          "BOL",
          "CIV",
          "CMR",
          "COD",
          "COM",
          "DOM",
          "EGY",
          "ETH",
          "GAB",
          "GHA",
          "GIN",
          "GMB",
          "GTM",
          "GUY",
          "HND",
          "HTI",
          "IND",
          "JOR",
          "KEN",
          "KGZ",
          "KHM",
          "LBR",
          "LSO",
          "MAR",
          "MDA",
          "MDG",
          "MLI",
          "MMR",
          "MOZ",
          "MRT",
          "MWI",
          "NAM",
          "NGA",
          "NIC",
          "PAK",
          "PER",
          "PHL",
          "SEN",
          "SLE",
          "SWZ",
          "TCD",
          "TGO",
          "TJK",
          "TLS",
          "TZA",
          "UGA",
          "ZAF",
          "ZMB",
          "ZWE"
         ]
        },
        {
         "marker": {
          "color": "rgba(255, 166, 86, 0.95)",
          "line": {
           "width": 1
          },
          "size": 16,
          "symbol": "circle"
         },
         "mode": "markers",
         "name": "10",
         "type": "scatter",
         "x": [
          null,
          null,
          null,
          null,
          null,
          null,
          null,
          null,
          null,
          null,
          null,
          null,
          null,
          null,
          null,
          null,
          null,
          null,
          null,
          null,
          null,
          null,
          null,
          null,
          null,
          null,
          null,
          null,
          null,
          null,
          null,
          null,
          null,
          null,
          null,
          null,
          null,
          null,
          null,
          null,
          null,
          null,
          null,
          null,
          null,
          null,
          null,
          null,
          null,
          null,
          null,
          null,
          null,
          null,
          null
         ],
         "y": [
          "AGO",
          "ALB",
          "ARM",
          "BEN",
          "BFA",
          "BGD",
          "BOL",
          "CIV",
          "CMR",
          "COD",
          "COM",
          "DOM",
          "EGY",
          "ETH",
          "GAB",
          "GHA",
          "GIN",
          "GMB",
          "GTM",
          "GUY",
          "HND",
          "HTI",
          "IND",
          "JOR",
          "KEN",
          "KGZ",
          "KHM",
          "LBR",
          "LSO",
          "MAR",
          "MDA",
          "MDG",
          "MLI",
          "MMR",
          "MOZ",
          "MRT",
          "MWI",
          "NAM",
          "NGA",
          "NIC",
          "PAK",
          "PER",
          "PHL",
          "SEN",
          "SLE",
          "SWZ",
          "TCD",
          "TGO",
          "TJK",
          "TLS",
          "TZA",
          "UGA",
          "ZAF",
          "ZMB",
          "ZWE"
         ]
        },
        {
         "marker": {
          "color": "rgba(255, 166, 86, 0.95)",
          "line": {
           "width": 1
          },
          "size": 16,
          "symbol": "circle"
         },
         "mode": "markers",
         "name": "11",
         "type": "scatter",
         "x": [
          null,
          null,
          null,
          null,
          null,
          null,
          null,
          null,
          null,
          null,
          null,
          null,
          null,
          null,
          null,
          null,
          null,
          null,
          null,
          null,
          null,
          null,
          null,
          null,
          null,
          null,
          null,
          null,
          null,
          null,
          null,
          null,
          null,
          null,
          null,
          null,
          null,
          null,
          null,
          null,
          null,
          null,
          null,
          null,
          null,
          null,
          null,
          null,
          null,
          null,
          null,
          null,
          null,
          null,
          null
         ],
         "y": [
          "AGO",
          "ALB",
          "ARM",
          "BEN",
          "BFA",
          "BGD",
          "BOL",
          "CIV",
          "CMR",
          "COD",
          "COM",
          "DOM",
          "EGY",
          "ETH",
          "GAB",
          "GHA",
          "GIN",
          "GMB",
          "GTM",
          "GUY",
          "HND",
          "HTI",
          "IND",
          "JOR",
          "KEN",
          "KGZ",
          "KHM",
          "LBR",
          "LSO",
          "MAR",
          "MDA",
          "MDG",
          "MLI",
          "MMR",
          "MOZ",
          "MRT",
          "MWI",
          "NAM",
          "NGA",
          "NIC",
          "PAK",
          "PER",
          "PHL",
          "SEN",
          "SLE",
          "SWZ",
          "TCD",
          "TGO",
          "TJK",
          "TLS",
          "TZA",
          "UGA",
          "ZAF",
          "ZMB",
          "ZWE"
         ]
        },
        {
         "marker": {
          "color": "rgba(255, 166, 86, 0.95)",
          "line": {
           "width": 1
          },
          "size": 16,
          "symbol": "circle"
         },
         "mode": "markers",
         "name": "12",
         "type": "scatter",
         "x": [
          null,
          null,
          null,
          null,
          null,
          null,
          null,
          null,
          null,
          null,
          null,
          null,
          null,
          null,
          null,
          null,
          null,
          null,
          null,
          null,
          null,
          null,
          null,
          null,
          null,
          null,
          null,
          null,
          null,
          null,
          null,
          null,
          null,
          null,
          null,
          null,
          null,
          null,
          null,
          null,
          null,
          null,
          null,
          null,
          null,
          null,
          null,
          null,
          null,
          null,
          null,
          null,
          null,
          null,
          null
         ],
         "y": [
          "AGO",
          "ALB",
          "ARM",
          "BEN",
          "BFA",
          "BGD",
          "BOL",
          "CIV",
          "CMR",
          "COD",
          "COM",
          "DOM",
          "EGY",
          "ETH",
          "GAB",
          "GHA",
          "GIN",
          "GMB",
          "GTM",
          "GUY",
          "HND",
          "HTI",
          "IND",
          "JOR",
          "KEN",
          "KGZ",
          "KHM",
          "LBR",
          "LSO",
          "MAR",
          "MDA",
          "MDG",
          "MLI",
          "MMR",
          "MOZ",
          "MRT",
          "MWI",
          "NAM",
          "NGA",
          "NIC",
          "PAK",
          "PER",
          "PHL",
          "SEN",
          "SLE",
          "SWZ",
          "TCD",
          "TGO",
          "TJK",
          "TLS",
          "TZA",
          "UGA",
          "ZAF",
          "ZMB",
          "ZWE"
         ]
        },
        {
         "marker": {
          "color": "rgba(240, 230, 140, 0.95)",
          "line": {
           "width": 1
          },
          "size": 16,
          "symbol": "circle"
         },
         "mode": "markers",
         "name": "13",
         "type": "scatter",
         "x": [
          null,
          null,
          null,
          null,
          null,
          -52.78,
          null,
          null,
          null,
          null,
          null,
          null,
          null,
          null,
          -9.153,
          -20.922,
          null,
          null,
          null,
          null,
          null,
          -17.168,
          null,
          null,
          null,
          null,
          -17.06,
          null,
          null,
          null,
          null,
          null,
          -47.536,
          null,
          null,
          null,
          null,
          -18.987,
          null,
          null,
          -77.925,
          null,
          -7.459,
          null,
          null,
          null,
          null,
          null,
          null,
          null,
          -7.365,
          null,
          null,
          null,
          null
         ],
         "y": [
          "AGO",
          "ALB",
          "ARM",
          "BEN",
          "BFA",
          "BGD",
          "BOL",
          "CIV",
          "CMR",
          "COD",
          "COM",
          "DOM",
          "EGY",
          "ETH",
          "GAB",
          "GHA",
          "GIN",
          "GMB",
          "GTM",
          "GUY",
          "HND",
          "HTI",
          "IND",
          "JOR",
          "KEN",
          "KGZ",
          "KHM",
          "LBR",
          "LSO",
          "MAR",
          "MDA",
          "MDG",
          "MLI",
          "MMR",
          "MOZ",
          "MRT",
          "MWI",
          "NAM",
          "NGA",
          "NIC",
          "PAK",
          "PER",
          "PHL",
          "SEN",
          "SLE",
          "SWZ",
          "TCD",
          "TGO",
          "TJK",
          "TLS",
          "TZA",
          "UGA",
          "ZAF",
          "ZMB",
          "ZWE"
         ]
        },
        {
         "marker": {
          "color": "rgba(240, 230, 140, 0.95)",
          "line": {
           "width": 1
          },
          "size": 16,
          "symbol": "circle"
         },
         "mode": "markers",
         "name": "14",
         "type": "scatter",
         "x": [
          null,
          null,
          null,
          null,
          null,
          -23.11,
          null,
          null,
          null,
          null,
          null,
          null,
          null,
          null,
          -11.594,
          -19.81,
          null,
          null,
          null,
          null,
          null,
          -15.968,
          null,
          null,
          null,
          null,
          -14.796,
          null,
          null,
          null,
          null,
          null,
          -36.065,
          null,
          null,
          null,
          null,
          -18.756,
          -10.862,
          null,
          -34.818,
          null,
          -7.105,
          null,
          null,
          null,
          null,
          null,
          null,
          null,
          null,
          48.055,
          null,
          null,
          null
         ],
         "y": [
          "AGO",
          "ALB",
          "ARM",
          "BEN",
          "BFA",
          "BGD",
          "BOL",
          "CIV",
          "CMR",
          "COD",
          "COM",
          "DOM",
          "EGY",
          "ETH",
          "GAB",
          "GHA",
          "GIN",
          "GMB",
          "GTM",
          "GUY",
          "HND",
          "HTI",
          "IND",
          "JOR",
          "KEN",
          "KGZ",
          "KHM",
          "LBR",
          "LSO",
          "MAR",
          "MDA",
          "MDG",
          "MLI",
          "MMR",
          "MOZ",
          "MRT",
          "MWI",
          "NAM",
          "NGA",
          "NIC",
          "PAK",
          "PER",
          "PHL",
          "SEN",
          "SLE",
          "SWZ",
          "TCD",
          "TGO",
          "TJK",
          "TLS",
          "TZA",
          "UGA",
          "ZAF",
          "ZMB",
          "ZWE"
         ]
        },
        {
         "marker": {
          "color": "rgba(240, 230, 140, 0.95)",
          "line": {
           "width": 1
          },
          "size": 16,
          "symbol": "circle"
         },
         "mode": "markers",
         "name": "15",
         "type": "scatter",
         "x": [
          null,
          null,
          null,
          null,
          null,
          -10.463,
          null,
          null,
          null,
          null,
          null,
          null,
          null,
          null,
          -18.117,
          -21.891,
          23.186,
          null,
          null,
          null,
          null,
          -15.873,
          -1.682,
          null,
          null,
          null,
          -16.349,
          null,
          null,
          null,
          null,
          null,
          -48.521,
          -7.809,
          null,
          null,
          null,
          -15.689,
          -10.914,
          null,
          -14.168,
          null,
          null,
          null,
          null,
          null,
          null,
          null,
          null,
          null,
          -29.844,
          47.446,
          null,
          null,
          null
         ],
         "y": [
          "AGO",
          "ALB",
          "ARM",
          "BEN",
          "BFA",
          "BGD",
          "BOL",
          "CIV",
          "CMR",
          "COD",
          "COM",
          "DOM",
          "EGY",
          "ETH",
          "GAB",
          "GHA",
          "GIN",
          "GMB",
          "GTM",
          "GUY",
          "HND",
          "HTI",
          "IND",
          "JOR",
          "KEN",
          "KGZ",
          "KHM",
          "LBR",
          "LSO",
          "MAR",
          "MDA",
          "MDG",
          "MLI",
          "MMR",
          "MOZ",
          "MRT",
          "MWI",
          "NAM",
          "NGA",
          "NIC",
          "PAK",
          "PER",
          "PHL",
          "SEN",
          "SLE",
          "SWZ",
          "TCD",
          "TGO",
          "TJK",
          "TLS",
          "TZA",
          "UGA",
          "ZAF",
          "ZMB",
          "ZWE"
         ]
        },
        {
         "marker": {
          "color": "rgba(240, 230, 140, 0.95)",
          "line": {
           "width": 1
          },
          "size": 16,
          "symbol": "circle"
         },
         "mode": "markers",
         "name": "16",
         "type": "scatter",
         "x": [
          null,
          null,
          null,
          null,
          null,
          -8.336,
          null,
          null,
          null,
          null,
          null,
          null,
          null,
          null,
          -15.547,
          -21.847,
          27.682,
          null,
          null,
          null,
          null,
          -15.873,
          null,
          null,
          null,
          null,
          -22.038,
          null,
          null,
          null,
          null,
          null,
          -38.655,
          -9.276,
          null,
          null,
          null,
          -14.38,
          null,
          null,
          -11.298,
          -3.715,
          -7.108,
          null,
          null,
          null,
          14.796,
          null,
          null,
          null,
          -23.878,
          48.497,
          null,
          null,
          null
         ],
         "y": [
          "AGO",
          "ALB",
          "ARM",
          "BEN",
          "BFA",
          "BGD",
          "BOL",
          "CIV",
          "CMR",
          "COD",
          "COM",
          "DOM",
          "EGY",
          "ETH",
          "GAB",
          "GHA",
          "GIN",
          "GMB",
          "GTM",
          "GUY",
          "HND",
          "HTI",
          "IND",
          "JOR",
          "KEN",
          "KGZ",
          "KHM",
          "LBR",
          "LSO",
          "MAR",
          "MDA",
          "MDG",
          "MLI",
          "MMR",
          "MOZ",
          "MRT",
          "MWI",
          "NAM",
          "NGA",
          "NIC",
          "PAK",
          "PER",
          "PHL",
          "SEN",
          "SLE",
          "SWZ",
          "TCD",
          "TGO",
          "TJK",
          "TLS",
          "TZA",
          "UGA",
          "ZAF",
          "ZMB",
          "ZWE"
         ]
        }
       ],
       "layout": {
        "height": 600,
        "hovermode": "closest",
        "legend": {
         "font": {
          "size": 10
         },
         "xanchor": "center",
         "yanchor": "top"
        },
        "margin": {
         "b": 50,
         "l": 140,
         "r": 40,
         "t": 80
        },
        "paper_bgcolor": "white",
        "plot_bgcolor": "white",
        "shapes": [
         {
          "line": {
           "color": "red",
           "dash": "dashdot",
           "width": 2
          },
          "type": "line",
          "x0": 0,
          "x1": 0,
          "y0": 0,
          "y1": 55
         }
        ],
        "template": {
         "data": {
          "bar": [
           {
            "error_x": {
             "color": "#2a3f5f"
            },
            "error_y": {
             "color": "#2a3f5f"
            },
            "marker": {
             "line": {
              "color": "#E5ECF6",
              "width": 0.5
             },
             "pattern": {
              "fillmode": "overlay",
              "size": 10,
              "solidity": 0.2
             }
            },
            "type": "bar"
           }
          ],
          "barpolar": [
           {
            "marker": {
             "line": {
              "color": "#E5ECF6",
              "width": 0.5
             },
             "pattern": {
              "fillmode": "overlay",
              "size": 10,
              "solidity": 0.2
             }
            },
            "type": "barpolar"
           }
          ],
          "carpet": [
           {
            "aaxis": {
             "endlinecolor": "#2a3f5f",
             "gridcolor": "white",
             "linecolor": "white",
             "minorgridcolor": "white",
             "startlinecolor": "#2a3f5f"
            },
            "baxis": {
             "endlinecolor": "#2a3f5f",
             "gridcolor": "white",
             "linecolor": "white",
             "minorgridcolor": "white",
             "startlinecolor": "#2a3f5f"
            },
            "type": "carpet"
           }
          ],
          "choropleth": [
           {
            "colorbar": {
             "outlinewidth": 0,
             "ticks": ""
            },
            "type": "choropleth"
           }
          ],
          "contour": [
           {
            "colorbar": {
             "outlinewidth": 0,
             "ticks": ""
            },
            "colorscale": [
             [
              0,
              "#0d0887"
             ],
             [
              0.1111111111111111,
              "#46039f"
             ],
             [
              0.2222222222222222,
              "#7201a8"
             ],
             [
              0.3333333333333333,
              "#9c179e"
             ],
             [
              0.4444444444444444,
              "#bd3786"
             ],
             [
              0.5555555555555556,
              "#d8576b"
             ],
             [
              0.6666666666666666,
              "#ed7953"
             ],
             [
              0.7777777777777778,
              "#fb9f3a"
             ],
             [
              0.8888888888888888,
              "#fdca26"
             ],
             [
              1,
              "#f0f921"
             ]
            ],
            "type": "contour"
           }
          ],
          "contourcarpet": [
           {
            "colorbar": {
             "outlinewidth": 0,
             "ticks": ""
            },
            "type": "contourcarpet"
           }
          ],
          "heatmap": [
           {
            "colorbar": {
             "outlinewidth": 0,
             "ticks": ""
            },
            "colorscale": [
             [
              0,
              "#0d0887"
             ],
             [
              0.1111111111111111,
              "#46039f"
             ],
             [
              0.2222222222222222,
              "#7201a8"
             ],
             [
              0.3333333333333333,
              "#9c179e"
             ],
             [
              0.4444444444444444,
              "#bd3786"
             ],
             [
              0.5555555555555556,
              "#d8576b"
             ],
             [
              0.6666666666666666,
              "#ed7953"
             ],
             [
              0.7777777777777778,
              "#fb9f3a"
             ],
             [
              0.8888888888888888,
              "#fdca26"
             ],
             [
              1,
              "#f0f921"
             ]
            ],
            "type": "heatmap"
           }
          ],
          "heatmapgl": [
           {
            "colorbar": {
             "outlinewidth": 0,
             "ticks": ""
            },
            "colorscale": [
             [
              0,
              "#0d0887"
             ],
             [
              0.1111111111111111,
              "#46039f"
             ],
             [
              0.2222222222222222,
              "#7201a8"
             ],
             [
              0.3333333333333333,
              "#9c179e"
             ],
             [
              0.4444444444444444,
              "#bd3786"
             ],
             [
              0.5555555555555556,
              "#d8576b"
             ],
             [
              0.6666666666666666,
              "#ed7953"
             ],
             [
              0.7777777777777778,
              "#fb9f3a"
             ],
             [
              0.8888888888888888,
              "#fdca26"
             ],
             [
              1,
              "#f0f921"
             ]
            ],
            "type": "heatmapgl"
           }
          ],
          "histogram": [
           {
            "marker": {
             "pattern": {
              "fillmode": "overlay",
              "size": 10,
              "solidity": 0.2
             }
            },
            "type": "histogram"
           }
          ],
          "histogram2d": [
           {
            "colorbar": {
             "outlinewidth": 0,
             "ticks": ""
            },
            "colorscale": [
             [
              0,
              "#0d0887"
             ],
             [
              0.1111111111111111,
              "#46039f"
             ],
             [
              0.2222222222222222,
              "#7201a8"
             ],
             [
              0.3333333333333333,
              "#9c179e"
             ],
             [
              0.4444444444444444,
              "#bd3786"
             ],
             [
              0.5555555555555556,
              "#d8576b"
             ],
             [
              0.6666666666666666,
              "#ed7953"
             ],
             [
              0.7777777777777778,
              "#fb9f3a"
             ],
             [
              0.8888888888888888,
              "#fdca26"
             ],
             [
              1,
              "#f0f921"
             ]
            ],
            "type": "histogram2d"
           }
          ],
          "histogram2dcontour": [
           {
            "colorbar": {
             "outlinewidth": 0,
             "ticks": ""
            },
            "colorscale": [
             [
              0,
              "#0d0887"
             ],
             [
              0.1111111111111111,
              "#46039f"
             ],
             [
              0.2222222222222222,
              "#7201a8"
             ],
             [
              0.3333333333333333,
              "#9c179e"
             ],
             [
              0.4444444444444444,
              "#bd3786"
             ],
             [
              0.5555555555555556,
              "#d8576b"
             ],
             [
              0.6666666666666666,
              "#ed7953"
             ],
             [
              0.7777777777777778,
              "#fb9f3a"
             ],
             [
              0.8888888888888888,
              "#fdca26"
             ],
             [
              1,
              "#f0f921"
             ]
            ],
            "type": "histogram2dcontour"
           }
          ],
          "mesh3d": [
           {
            "colorbar": {
             "outlinewidth": 0,
             "ticks": ""
            },
            "type": "mesh3d"
           }
          ],
          "parcoords": [
           {
            "line": {
             "colorbar": {
              "outlinewidth": 0,
              "ticks": ""
             }
            },
            "type": "parcoords"
           }
          ],
          "pie": [
           {
            "automargin": true,
            "type": "pie"
           }
          ],
          "scatter": [
           {
            "fillpattern": {
             "fillmode": "overlay",
             "size": 10,
             "solidity": 0.2
            },
            "type": "scatter"
           }
          ],
          "scatter3d": [
           {
            "line": {
             "colorbar": {
              "outlinewidth": 0,
              "ticks": ""
             }
            },
            "marker": {
             "colorbar": {
              "outlinewidth": 0,
              "ticks": ""
             }
            },
            "type": "scatter3d"
           }
          ],
          "scattercarpet": [
           {
            "marker": {
             "colorbar": {
              "outlinewidth": 0,
              "ticks": ""
             }
            },
            "type": "scattercarpet"
           }
          ],
          "scattergeo": [
           {
            "marker": {
             "colorbar": {
              "outlinewidth": 0,
              "ticks": ""
             }
            },
            "type": "scattergeo"
           }
          ],
          "scattergl": [
           {
            "marker": {
             "colorbar": {
              "outlinewidth": 0,
              "ticks": ""
             }
            },
            "type": "scattergl"
           }
          ],
          "scattermapbox": [
           {
            "marker": {
             "colorbar": {
              "outlinewidth": 0,
              "ticks": ""
             }
            },
            "type": "scattermapbox"
           }
          ],
          "scatterpolar": [
           {
            "marker": {
             "colorbar": {
              "outlinewidth": 0,
              "ticks": ""
             }
            },
            "type": "scatterpolar"
           }
          ],
          "scatterpolargl": [
           {
            "marker": {
             "colorbar": {
              "outlinewidth": 0,
              "ticks": ""
             }
            },
            "type": "scatterpolargl"
           }
          ],
          "scatterternary": [
           {
            "marker": {
             "colorbar": {
              "outlinewidth": 0,
              "ticks": ""
             }
            },
            "type": "scatterternary"
           }
          ],
          "surface": [
           {
            "colorbar": {
             "outlinewidth": 0,
             "ticks": ""
            },
            "colorscale": [
             [
              0,
              "#0d0887"
             ],
             [
              0.1111111111111111,
              "#46039f"
             ],
             [
              0.2222222222222222,
              "#7201a8"
             ],
             [
              0.3333333333333333,
              "#9c179e"
             ],
             [
              0.4444444444444444,
              "#bd3786"
             ],
             [
              0.5555555555555556,
              "#d8576b"
             ],
             [
              0.6666666666666666,
              "#ed7953"
             ],
             [
              0.7777777777777778,
              "#fb9f3a"
             ],
             [
              0.8888888888888888,
              "#fdca26"
             ],
             [
              1,
              "#f0f921"
             ]
            ],
            "type": "surface"
           }
          ],
          "table": [
           {
            "cells": {
             "fill": {
              "color": "#EBF0F8"
             },
             "line": {
              "color": "white"
             }
            },
            "header": {
             "fill": {
              "color": "#C8D4E3"
             },
             "line": {
              "color": "white"
             }
            },
            "type": "table"
           }
          ]
         },
         "layout": {
          "annotationdefaults": {
           "arrowcolor": "#2a3f5f",
           "arrowhead": 0,
           "arrowwidth": 1
          },
          "autotypenumbers": "strict",
          "coloraxis": {
           "colorbar": {
            "outlinewidth": 0,
            "ticks": ""
           }
          },
          "colorscale": {
           "diverging": [
            [
             0,
             "#8e0152"
            ],
            [
             0.1,
             "#c51b7d"
            ],
            [
             0.2,
             "#de77ae"
            ],
            [
             0.3,
             "#f1b6da"
            ],
            [
             0.4,
             "#fde0ef"
            ],
            [
             0.5,
             "#f7f7f7"
            ],
            [
             0.6,
             "#e6f5d0"
            ],
            [
             0.7,
             "#b8e186"
            ],
            [
             0.8,
             "#7fbc41"
            ],
            [
             0.9,
             "#4d9221"
            ],
            [
             1,
             "#276419"
            ]
           ],
           "sequential": [
            [
             0,
             "#0d0887"
            ],
            [
             0.1111111111111111,
             "#46039f"
            ],
            [
             0.2222222222222222,
             "#7201a8"
            ],
            [
             0.3333333333333333,
             "#9c179e"
            ],
            [
             0.4444444444444444,
             "#bd3786"
            ],
            [
             0.5555555555555556,
             "#d8576b"
            ],
            [
             0.6666666666666666,
             "#ed7953"
            ],
            [
             0.7777777777777778,
             "#fb9f3a"
            ],
            [
             0.8888888888888888,
             "#fdca26"
            ],
            [
             1,
             "#f0f921"
            ]
           ],
           "sequentialminus": [
            [
             0,
             "#0d0887"
            ],
            [
             0.1111111111111111,
             "#46039f"
            ],
            [
             0.2222222222222222,
             "#7201a8"
            ],
            [
             0.3333333333333333,
             "#9c179e"
            ],
            [
             0.4444444444444444,
             "#bd3786"
            ],
            [
             0.5555555555555556,
             "#d8576b"
            ],
            [
             0.6666666666666666,
             "#ed7953"
            ],
            [
             0.7777777777777778,
             "#fb9f3a"
            ],
            [
             0.8888888888888888,
             "#fdca26"
            ],
            [
             1,
             "#f0f921"
            ]
           ]
          },
          "colorway": [
           "#636efa",
           "#EF553B",
           "#00cc96",
           "#ab63fa",
           "#FFA15A",
           "#19d3f3",
           "#FF6692",
           "#B6E880",
           "#FF97FF",
           "#FECB52"
          ],
          "font": {
           "color": "#2a3f5f"
          },
          "geo": {
           "bgcolor": "white",
           "lakecolor": "white",
           "landcolor": "#E5ECF6",
           "showlakes": true,
           "showland": true,
           "subunitcolor": "white"
          },
          "hoverlabel": {
           "align": "left"
          },
          "hovermode": "closest",
          "mapbox": {
           "style": "light"
          },
          "paper_bgcolor": "white",
          "plot_bgcolor": "#E5ECF6",
          "polar": {
           "angularaxis": {
            "gridcolor": "white",
            "linecolor": "white",
            "ticks": ""
           },
           "bgcolor": "#E5ECF6",
           "radialaxis": {
            "gridcolor": "white",
            "linecolor": "white",
            "ticks": ""
           }
          },
          "scene": {
           "xaxis": {
            "backgroundcolor": "#E5ECF6",
            "gridcolor": "white",
            "gridwidth": 2,
            "linecolor": "white",
            "showbackground": true,
            "ticks": "",
            "zerolinecolor": "white"
           },
           "yaxis": {
            "backgroundcolor": "#E5ECF6",
            "gridcolor": "white",
            "gridwidth": 2,
            "linecolor": "white",
            "showbackground": true,
            "ticks": "",
            "zerolinecolor": "white"
           },
           "zaxis": {
            "backgroundcolor": "#E5ECF6",
            "gridcolor": "white",
            "gridwidth": 2,
            "linecolor": "white",
            "showbackground": true,
            "ticks": "",
            "zerolinecolor": "white"
           }
          },
          "shapedefaults": {
           "line": {
            "color": "#2a3f5f"
           }
          },
          "ternary": {
           "aaxis": {
            "gridcolor": "white",
            "linecolor": "white",
            "ticks": ""
           },
           "baxis": {
            "gridcolor": "white",
            "linecolor": "white",
            "ticks": ""
           },
           "bgcolor": "#E5ECF6",
           "caxis": {
            "gridcolor": "white",
            "linecolor": "white",
            "ticks": ""
           }
          },
          "title": {
           "x": 0.05
          },
          "xaxis": {
           "automargin": true,
           "gridcolor": "white",
           "linecolor": "white",
           "ticks": "",
           "title": {
            "standoff": 15
           },
           "zerolinecolor": "white",
           "zerolinewidth": 2
          },
          "yaxis": {
           "automargin": true,
           "gridcolor": "white",
           "linecolor": "white",
           "ticks": "",
           "title": {
            "standoff": 15
           },
           "zerolinecolor": "white",
           "zerolinewidth": 2
          }
         }
        },
        "title": {
         "text": "drought 2.5 6m12m"
        },
        "width": 1600,
        "xaxis": {
         "linecolor": "rgb(102, 102, 102)",
         "showgrid": false,
         "showline": true,
         "showticklabels": true,
         "tickcolor": "rgb(102, 102, 102)",
         "tickfont": {
          "color": "rgb(102, 102, 102)"
         },
         "ticks": "outside"
        }
       }
      }
     },
     "metadata": {},
     "output_type": "display_data"
    }
   ],
   "source": [
    "import re\n",
    "from tqdm import tqdm\n",
    "\n",
    "folder = r\"Z:\\Laboral\\World Bank\\Paper - Child mortality and Climate Shocks\\Outputs\\countries\"\n",
    "files = os.listdir(folder)\n",
    "files = [f for f in files if \".tex\" in f]\n",
    "files = select_files(files, name=\"version 3 drought 3_5\", months=\"_12 months\")\n",
    "\n",
    "all_specs = []\n",
    "for file in tqdm(files):\n",
    "\n",
    "    filename = rf\"{folder}\\{file}\"\n",
    "    country = re.search(r\"([A-Z]{3})\", file).group(0)\n",
    "    \n",
    "    df = pd.read_csv(filename,\n",
    "                    sep='&',\n",
    "                    header=0,\n",
    "                    skiprows=4,\n",
    "                    skipfooter=3,\n",
    "                    engine='python')\n",
    "\n",
    "    keywords = \"drought|excessiverain|prec\" # Regex allowed\n",
    "\n",
    "    # Process data\n",
    "    df = df.set_index(df.columns[0]) # Set variable names in index\n",
    "    df = df[df.index != ' '] # Remove standard errors\n",
    "    df = df[df.index.str.contains(keywords)]\n",
    "    df.index = df.index.str.strip()\n",
    "    df.index.name = \"variable\"\n",
    "    df = df.reset_index()\n",
    "    results = {}\n",
    "    df.columns = [re.sub(r'[^0-9a-zA-Z]+', '', col) for col in df.columns]\n",
    "    \n",
    "    # Format dataframe\n",
    "    country_specs = df.melt(id_vars=[\"variable\"], var_name=\"specification\", value_name=\"value\")\n",
    "    country_specs[\"value\"] = process_significance(country_specs.value)    \n",
    "    country_specs[\"value\"] = make_float(country_specs.value)    \n",
    "    country_specs[\"Country\"] = country\n",
    "    country_specs[\"variable\"] = country_specs[\"variable\"].str.replace(r\"\\_12\\_\", \" \").str.replace(r\"3\\_5\\_\", \"3.5 \")\n",
    "    all_specs += [country_specs]\n",
    "    \n",
    "all_specs = pd.concat(all_specs)\n",
    "\n",
    "dot_plot(all_specs, \"drought 3.5 q1\")\n",
    "dot_plot(all_specs, \"drought 3.5 q2\")\n",
    "dot_plot(all_specs, \"drought 3.5 q3\")\n",
    "dot_plot(all_specs, \"drought 3.5 30d\")\n",
    "dot_plot(all_specs, \"drought 3.5 30d3m\")\n",
    "dot_plot(all_specs, \"drought 3.5 3m6m\")\n",
    "dot_plot(all_specs, \"drought 3.5 6m12m\")"
   ]
  },
  {
   "cell_type": "code",
   "execution_count": null,
   "metadata": {},
   "outputs": [],
   "source": []
  }
 ],
 "metadata": {
  "kernelspec": {
   "display_name": "Python 3",
   "language": "python",
   "name": "python3"
  },
  "language_info": {
   "codemirror_mode": {
    "name": "ipython",
    "version": 3
   },
   "file_extension": ".py",
   "mimetype": "text/x-python",
   "name": "python",
   "nbconvert_exporter": "python",
   "pygments_lexer": "ipython3",
   "version": "3.11.4"
  }
 },
 "nbformat": 4,
 "nbformat_minor": 2
}
