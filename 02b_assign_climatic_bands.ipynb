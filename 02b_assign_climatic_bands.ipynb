{
 "cells": [
  {
   "cell_type": "code",
   "execution_count": 1,
   "metadata": {},
   "outputs": [],
   "source": [
    "import xarray as xr\n",
    "import numpy as np\n",
    "from geocube.vector import vectorize\n",
    "da = xr.open_dataset(r\"D:\\Datasets\\Köppen-Geiger Climate Classification\\KG_1986-2010.grd\", engine=\"rasterio\").band_data.sel(band=1)\n",
    "\n",
    "# To geopandas\n",
    "gdf = vectorize(da)\n",
    "\n",
    "# Drop ocean\n",
    "gdf = gdf[gdf.band_data != 32]\n",
    "\n",
    "# Assign categories\n",
    "categories_32 = ['Af', 'Am', 'As', 'Aw', 'BSh', 'BSk', 'BWh', 'BWk', 'Cfa', 'Cfb','Cfc', 'Csa', 'Csb', 'Csc', 'Cwa','Cwb', 'Cwc', 'Dfa', 'Dfb', 'Dfc','Dfd', 'Dsa', 'Dsb', 'Dsc', 'Dsd','Dwa', 'Dwb', 'Dwc', 'Dwd', 'EF','ET', 'Ocean']\n",
    "labels_32 = dict(zip(range(1, 32+1), categories_32))\n",
    "\n",
    "labels_5 = {\"A\":\"Equatorial\", \"B\":\"Arid\", \"C\":\"Warm Temperate\", \"D\":\"Boreal\", \"E\":\"Polar\"}\n",
    "\n",
    "gdf['climate_band_32'] = gdf['band_data'].map(labels_32)\n",
    "gdf['climate_band_5_data'] = gdf['climate_band_32'].str[0]\n",
    "gdf['climate_band_5'] = gdf['climate_band_5_data'].map(labels_5)\n",
    "\n",
    "# Show\n",
    "# gdf.plot(column=\"climate_band_5\")"
   ]
  },
  {
   "cell_type": "code",
   "execution_count": 2,
   "metadata": {},
   "outputs": [],
   "source": [
    "import pandas as pd\n",
    "import geopandas as gpd\n",
    "\n",
    "df = pd.read_stata(r\"D:\\World Bank\\Paper - Child Mortality and Climate Shocks\\Data\\Data_in\\DHS\\DHSBirthsGlobalAnalysis_05142024.dta\")\n",
    "gdf_dhs = df[[\"ID_HH\",\"LATNUM\",\"LONGNUM\"]].drop_duplicates(subset=\"ID_HH\")\n",
    "gdf_dhs = gpd.GeoDataFrame(gdf_dhs, geometry=gpd.points_from_xy(gdf_dhs[\"LONGNUM\"], gdf_dhs[\"LATNUM\"]))\n",
    "# gdf_dhs.plot()"
   ]
  },
  {
   "cell_type": "code",
   "execution_count": null,
   "metadata": {},
   "outputs": [],
   "source": [
    "gdf"
   ]
  },
  {
   "cell_type": "code",
   "execution_count": 3,
   "metadata": {},
   "outputs": [],
   "source": [
    "gdf_dhs = gdf_dhs.set_crs(\"epsg:4326\", allow_override=True)\n",
    "gdf = gdf.set_crs(\"epsg:4326\", allow_override=True)\n",
    "gdf_dhs_climatebands = gdf_dhs.sjoin(gdf)"
   ]
  },
  {
   "cell_type": "code",
   "execution_count": 20,
   "metadata": {},
   "outputs": [],
   "source": [
    "gdf_dhs_climatebands[[\"ID_HH\", \"climate_band_32\", \"climate_band_5_data\", \"climate_band_5\"]].drop_duplicates(\"ID_HH\").to_stata(r\"D:\\World Bank\\Paper - Child Mortality and Climate Shocks\\Data\\Data_proc\\DHSBirthsGlobalAnalysis_05142024_climate_bands_assigned.dta\")"
   ]
  },
  {
   "cell_type": "code",
   "execution_count": null,
   "metadata": {},
   "outputs": [],
   "source": [
    "gdf_dhs_climatebands[gdf_dhs_climatebands.ID_HH.duplicated(keep=False)]"
   ]
  }
 ],
 "metadata": {
  "kernelspec": {
   "display_name": "Python 3",
   "language": "python",
   "name": "python3"
  },
  "language_info": {
   "codemirror_mode": {
    "name": "ipython",
    "version": 3
   },
   "file_extension": ".py",
   "mimetype": "text/x-python",
   "name": "python",
   "nbconvert_exporter": "python",
   "pygments_lexer": "ipython3",
   "version": "3.12.6"
  }
 },
 "nbformat": 4,
 "nbformat_minor": 2
}
