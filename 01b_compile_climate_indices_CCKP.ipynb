{
 "cells": [
  {
   "cell_type": "code",
   "execution_count": 1,
   "metadata": {},
   "outputs": [],
   "source": [
    "import os\n",
    "import logging\n",
    "import numpy as np\n",
    "import xarray as xr\n",
    "from dask.diagnostics import ProgressBar\n",
    "from dask.distributed import Client\n",
    "\n",
    "# Set global variables\n",
    "PROJECT = r\"D:\\World Bank\\Paper - Child mortality and Climate Shocks\"\n",
    "OUTPUTS = rf\"{PROJECT}\\Outputs\"\n",
    "DATA = rf\"{PROJECT}\\Data\"\n",
    "DATA_IN = rf\"{DATA}\\Data_in\"\n",
    "DATA_PROC = rf\"{DATA}\\Data_proc\"\n",
    "DATA_OUT = rf\"{DATA}\\Data_out\"\n",
    "ERA5_DATA = r\"D:\\Datasets\\ERA5 Reanalysis\\monthly-single-levels\""
   ]
  },
  {
   "cell_type": "code",
   "execution_count": null,
   "metadata": {},
   "outputs": [],
   "source": [
    "client = Client()\n",
    "client"
   ]
  },
  {
   "cell_type": "code",
   "execution_count": null,
   "metadata": {},
   "outputs": [],
   "source": [
    "climate_shocks_v9 = xr.open_dataset(\n",
    "        r\"D:\\World Bank\\Paper - Child Mortality and Climate Shocks\\Data\\Data_proc\\Climate_shocks_v9.nc\",\n",
    "        chunks={\"lat\": 60, \"lon\": 60, \"time\": 5}\n",
    "    ).drop_vars(\"month\")\n",
    "lat_tgt = climate_shocks_v9.lat\n",
    "lon_tgt = climate_shocks_v9.lon\n",
    "\n",
    "# Interpolate and store the datasets\n",
    "tasks = []\n",
    "for var in [\"hd35\", \"hd40\", \"fd\", \"id\"]:\n",
    "    ds_var = xr.open_dataset(\n",
    "        rf\"{DATA_IN}\\Climate Data\\timeseries-{var}-monthly-mean_era_monthly_era5-0.5x0.5-timeseries_mean_1950-2020.nc\",\n",
    "        chunks={\"lat\": 60, \"lon\": 60, \"time\": 5})\\\n",
    "        .sel(bnds=0, time=slice(\"1990-01-01\", \"2020-12-01\"))\\\n",
    "        .drop_vars(\"bnds\")\\\n",
    "        [f\"timeseries-{var}-monthly-mean\"].rename(var)\n",
    "    ds_var = (ds_var / np.timedelta64(1, 'D')).astype(int)\n",
    "    # ds_var = ds_var.transpose(\"lat\", \"lon\", \"time\")\n",
    "    \n",
    "    ds_var = ds_var.interp(\n",
    "        lat=lat_tgt,\n",
    "        lon=lon_tgt,\n",
    "        method=\"linear\",\n",
    "    )\n",
    "\n",
    "    # Save\n",
    "    outname = rf\"{DATA_PROC}\\{var}_interpolated.nc\"\n",
    "    ds_var.to_netcdf(outname, encoding={var: {\"zlib\": True, \"complevel\": 6}}, compute=True)\n",
    "    print(f\"Saved {var} to {outname}\")\n"
   ]
  },
  {
   "cell_type": "code",
   "execution_count": null,
   "metadata": {},
   "outputs": [],
   "source": [
    "climate_shocks_v9 = xr.open_dataset(\n",
    "        r\"D:\\World Bank\\Paper - Child Mortality and Climate Shocks\\Data\\Data_proc\\Climate_shocks_v9.nc\",\n",
    "        chunks={\"lat\": 200, \"lon\": 360, \"time\": None}\n",
    "    ).drop_vars(\"month\")\n",
    "\n",
    "# Load the datasets and combine them\n",
    "dss = [climate_shocks_v9]\n",
    "for var in [\"hd35\", \"hd40\", \"fd\", \"id\"]:\n",
    "    ds_var = xr.open_dataset(\n",
    "        rf\"{DATA_PROC}\\{var}_interpolated.nc\",\n",
    "        chunks={\"lat\": 200, \"lon\": 360, \"time\": None}\n",
    "    )\n",
    "    dss += [ds_var]\n",
    "\n",
    "ds = xr.combine_by_coords(dss)\n",
    "\n",
    "# Export\n",
    "out = rf\"{DATA_PROC}/Climate_shocks_v9d.nc\"\n",
    "encoding = {\n",
    "    var: {\"zlib\": True, \"complevel\": 6} for var in ds.data_vars\n",
    "}\n",
    "ds.to_netcdf(\n",
    "    out,\n",
    "    encoding=encoding,\n",
    "    \n",
    ")\n"
   ]
  },
  {
   "cell_type": "code",
   "execution_count": null,
   "metadata": {},
   "outputs": [],
   "source": [
    "climate_shocks_v9"
   ]
  }
 ],
 "metadata": {
  "kernelspec": {
   "display_name": "Python 3",
   "language": "python",
   "name": "python3"
  },
  "language_info": {
   "codemirror_mode": {
    "name": "ipython",
    "version": 3
   },
   "file_extension": ".py",
   "mimetype": "text/x-python",
   "name": "python",
   "nbconvert_exporter": "python",
   "pygments_lexer": "ipython3",
   "version": "3.12.6"
  }
 },
 "nbformat": 4,
 "nbformat_minor": 2
}
