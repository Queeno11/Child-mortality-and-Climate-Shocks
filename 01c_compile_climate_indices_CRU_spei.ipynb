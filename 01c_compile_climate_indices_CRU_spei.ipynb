{
 "cells": [
  {
   "cell_type": "code",
   "execution_count": 1,
   "metadata": {},
   "outputs": [],
   "source": [
    "import xarray as xr\n",
    "import os"
   ]
  },
  {
   "cell_type": "code",
   "execution_count": 3,
   "metadata": {},
   "outputs": [
    {
     "name": "stderr",
     "output_type": "stream",
     "text": [
      "C:\\Users\\Nico\\AppData\\Roaming\\Python\\Python312\\site-packages\\xarray\\core\\dataset.py:282: UserWarning: The specified chunks separate the stored chunks along dimension \"lon\" starting at index 360. This could degrade performance. Instead, consider rechunking after loading.\n",
      "  warnings.warn(\n",
      "C:\\Users\\Nico\\AppData\\Roaming\\Python\\Python312\\site-packages\\xarray\\core\\dataset.py:282: UserWarning: The specified chunks separate the stored chunks along dimension \"lon\" starting at index 360. This could degrade performance. Instead, consider rechunking after loading.\n",
      "  warnings.warn(\n",
      "C:\\Users\\Nico\\AppData\\Roaming\\Python\\Python312\\site-packages\\xarray\\core\\dataset.py:282: UserWarning: The specified chunks separate the stored chunks along dimension \"lon\" starting at index 360. This could degrade performance. Instead, consider rechunking after loading.\n",
      "  warnings.warn(\n",
      "C:\\Users\\Nico\\AppData\\Roaming\\Python\\Python312\\site-packages\\xarray\\core\\dataset.py:282: UserWarning: The specified chunks separate the stored chunks along dimension \"lon\" starting at index 360. This could degrade performance. Instead, consider rechunking after loading.\n",
      "  warnings.warn(\n",
      "C:\\Users\\Nico\\AppData\\Roaming\\Python\\Python312\\site-packages\\xarray\\core\\dataset.py:282: UserWarning: The specified chunks separate the stored chunks along dimension \"lon\" starting at index 360. This could degrade performance. Instead, consider rechunking after loading.\n",
      "  warnings.warn(\n",
      "C:\\Users\\Nico\\AppData\\Roaming\\Python\\Python312\\site-packages\\xarray\\core\\dataset.py:282: UserWarning: The specified chunks separate the stored chunks along dimension \"lon\" starting at index 360. This could degrade performance. Instead, consider rechunking after loading.\n",
      "  warnings.warn(\n"
     ]
    }
   ],
   "source": [
    "from dask.diagnostics import ProgressBar\n",
    "\n",
    "path = r\"D:\\Datasets\\CRU SPEI\"\n",
    "files = os.listdir(path)\n",
    "files = [f for f in files if \"spei\" in f and f.endswith(\".nc\")]\n",
    "\n",
    "das = []\n",
    "for f in files:\n",
    "    spi = f.split(\".\")[0]\n",
    "    ds = xr.open_dataset(os.path.join(path, f), chunks={\"lat\":360, \"lon\":360, \"time\":120})\n",
    "    da = ds[\"spei\"].rename(spi)\n",
    "    da = da.sel(time=slice('1990-01-01', '2024-12-31'))\n",
    "    das += [da]\n",
    "\n",
    "ds = xr.merge(das)\n",
    "\n",
    "with ProgressBar():\n",
    "    ds.to_netcdf(\"D:\\World Bank\\Paper - Child Mortality and Climate Shocks\\Data\\Data_proc\\Climate_shocks_v8_spei.nc\")"
   ]
  },
  {
   "cell_type": "code",
   "execution_count": 7,
   "metadata": {},
   "outputs": [
    {
     "name": "stdout",
     "output_type": "stream",
     "text": [
      "1.3 1.25\n",
      "0.999 0.75\n",
      "2.24 2.25\n",
      "2.9 2.75\n",
      "2.1 2.25\n",
      "3 3.25\n",
      "3.2 3.25\n"
     ]
    }
   ],
   "source": [
    "def round_off(number):\n",
    "    \"\"\"Round a number to .25 or .75.\n",
    "    >>> round_off(1.3)\n",
    "    1.25\n",
    "    >>> round_off(2.6)\n",
    "    2.75\n",
    "    >>> round_off(3)\n",
    "    3.25\n",
    "    \"\"\"\n",
    "    \n",
    "    return round((number - 0.25) * 2) / 2 + 0.25\n",
    "\n",
    "for x in [1.3, 0.999, 2.24, 2.9, 2.1, 3, 3.2]:\n",
    "    print(x, round_off(x))"
   ]
  }
 ],
 "metadata": {
  "kernelspec": {
   "display_name": "Python 3",
   "language": "python",
   "name": "python3"
  },
  "language_info": {
   "codemirror_mode": {
    "name": "ipython",
    "version": 3
   },
   "file_extension": ".py",
   "mimetype": "text/x-python",
   "name": "python",
   "nbconvert_exporter": "python",
   "pygments_lexer": "ipython3",
   "version": "3.12.6"
  }
 },
 "nbformat": 4,
 "nbformat_minor": 2
}
