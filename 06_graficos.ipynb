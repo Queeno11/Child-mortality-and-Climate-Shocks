{
 "cells": [
  {
   "cell_type": "code",
   "execution_count": 2,
   "metadata": {},
   "outputs": [
    {
     "data": {
      "text/plain": [
       "<Figure size 640x480 with 0 Axes>"
      ]
     },
     "metadata": {},
     "output_type": "display_data"
    },
    {
     "data": {
      "image/png": "[encoded data removed]",
      "text/plain": [
       "<Figure size 800x600 with 1 Axes>"
      ]
     },
     "metadata": {},
     "output_type": "display_data"
    }
   ],
   "source": [
    "#TODO: add way to plot the negative regression coefficients in a different color\n",
    "\n",
    "def plot_regression_coefficients(values, ci_top, ci_bot, outpath):\n",
    "    import matplotlib.pyplot as plt\n",
    "    import numpy as np\n",
    "    \n",
    "    def add_whitespace_to_axis(ax, x):\n",
    "            ax.set_xticks(x)\n",
    "            ax.set_xticklabels(\"\")\n",
    "            ax.tick_params(axis=\"x\", length=10, width=10, color=\"white\", direction=\"inout\", zorder=100)  # Remove tick marks\n",
    "            ax.spines[\"bottom\"].set_visible(False)  # Move third x-axis further down\n",
    "            ax.set_xticks(x, minor=True)\n",
    "\n",
    "            return ax\n",
    "    \n",
    "    fig = plt.figure()\n",
    "    x = range(1, len(p_10)+1)\n",
    "    yerr = [list(np.array(ci_bot)),# + np.array(values)), # 'down' error\n",
    "            list(np.array(ci_top))]# - np.array(values))]  # 'up' error\n",
    "\n",
    "    # Plot\n",
    "    fig, ax = plt.subplots(figsize=(8, 6))\n",
    "\n",
    "    # Plot error bars\n",
    "    ax.errorbar(x, values, yerr=yerr, capsize=3, fmt=\"o\", color=\"black\")\n",
    "    ax.axhline(y=0, color=\"black\", linestyle=\"--\", dashes=(7, 7), linewidth =1)\n",
    "\n",
    "    # Set first level of labels (Temp and SPI)\n",
    "    ax = add_whitespace_to_axis(ax, [1.5, 2.5, 3.5, 4.5, 5.5, 6.5, 7.5, 8.5])\n",
    "\n",
    "    x_labels = [\"Temp\", \"SPI\", \"Temp\", \"SPI\", \"Temp\", \"SPI\", \"Temp\", \"SPI\", \"Temp\", \"SPI\"]\n",
    "    ax2 = ax.secondary_xaxis('bottom')\n",
    "    ax2.set_xticks(x)\n",
    "    ax2.set_xticklabels(x_labels)\n",
    "    ax2.tick_params(axis=\"x\", length=0)  # Remove tick marks\n",
    "\n",
    "    # Set second level of labels (1 month and 2-12 months)\n",
    "    ax3 = ax.secondary_xaxis('bottom')  # Add another secondary x-axis\n",
    "    ax3.spines[\"bottom\"].set_position((\"outward\", 25))  # Move third x-axis further down\n",
    "    ax3.set_xticks([1.5, 3.5, 5.5, 7.5, 9.5],)\n",
    "    ax3.set_xticklabels([\"In-Utero\", \"1m\", \"In-Utero\", \"1m\", \"2m-12m\"])\n",
    "    ax3.tick_params(axis=\"x\", length=0)  # Remove tick marks\n",
    "\n",
    "    ax4 = ax.secondary_xaxis('bottom')  # Add another secondary x-axis\n",
    "    ax4.spines[\"bottom\"].set_position((\"outward\", 25))  # Move third x-axis further down\n",
    "    ax4 = add_whitespace_to_axis(ax4, [2.5, 4.5, 6.5, 8.5])\n",
    "\n",
    "    # Set third level of labels (1 month and 2-12 months)\n",
    "    ax3 = ax.secondary_xaxis('bottom')  # Add another secondary x-axis\n",
    "    ax3.spines[\"bottom\"].set_position((\"outward\", 50))  # Move third x-axis further down\n",
    "    ax3.set_xticks([2.5, 7.5],)\n",
    "    ax3.set_xticklabels([\"1 month\", \"2-12 months\"])\n",
    "    ax3.tick_params(axis=\"x\", length=0)  # Remove tick marks\n",
    "\n",
    "    ax4 = ax.secondary_xaxis('bottom')  # Add another secondary x-axis\n",
    "    ax4.spines[\"bottom\"].set_position((\"outward\", 50))  # Move third x-axis further down\n",
    "    ax4 = add_whitespace_to_axis(ax4, [4.5])\n",
    "\n",
    "\n",
    "    fig.savefig(outpath, bbox_inches='tight', pad_inches=1)\n",
    "    # \n",
    "    # # Create second level of labels (1 month and 2-12 months)\n",
    "    # midpoints = [1.5, 3.5, 5.5, 7.5]\n",
    "    # ax2.set_xticks(midpoints)\n",
    "    # ax2.set_xticks([0, 2.5, 4.5, 6.5], minor=True)  # Group positions\n",
    "    # ax2.set_xticklabels([\"In-Utero\", \"1m\", \"In-Utero\", \"1m\"], fontsize=12, fontweight=\"bold\")\n",
    "    # ax2.spines[\"bottom\"].set_position((\"outward\", 25))  # Move third x-ax2is further down\n",
    "    # ax2.tick_params(which = 'minor', axis=\"x\", length=10, width=10, color=\"red\", direction=\"inout\", zorder=1000000)  # Remove tick marks\n",
    "\n",
    "## Data\n",
    "p_10 = [.19,.62, .77, 1, .19,.62, .77, 1, .88, .4]\n",
    "p_90 = [7.19, 6.67, 7.36, 8.25, 7.19, 6.67, 7.36, 8.25, .97, .6]\n",
    "M = [1.16, 2.06, 2.17, -2.52, 1.16, 2.06, 2.17, 2.52, .92, .53]\n",
    "\n",
    "plot_regression_coefficients(M, p_90, p_10, r\"D:\\World Bank\\Paper - Child Mortality and Climate Shocks\\Outputs\\Figures\\coefplot.png\")\n"
   ]
  }
 ],
 "metadata": {
  "kernelspec": {
   "display_name": "Python 3",
   "language": "python",
   "name": "python3"
  },
  "language_info": {
   "codemirror_mode": {
    "name": "ipython",
    "version": 3
   },
   "file_extension": ".py",
   "mimetype": "text/x-python",
   "name": "python",
   "nbconvert_exporter": "python",
   "pygments_lexer": "ipython3",
   "version": "3.12.6"
  }
 },
 "nbformat": 4,
 "nbformat_minor": 2
}
