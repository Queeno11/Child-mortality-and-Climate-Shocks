{
 "cells": [
  {
   "cell_type": "code",
   "execution_count": null,
   "metadata": {},
   "outputs": [],
   "source": [
    "import os\n",
    "import xarray as xr\n",
    "import numpy as np\n",
    "import pandas as pd\n",
    "import matplotlib.pyplot as plt\n",
    "from tqdm import tqdm\n",
    "\n",
    "# Set global variables\n",
    "PROJECT = r\"Z:\\Laboral\\World Bank\\Paper - Child mortality and Climate Shocks\"\n",
    "OUTPUTS = rf\"{PROJECT}\\Outputs\"\n",
    "DATA = rf\"{PROJECT}\\Data\"\n",
    "DATA_IN = rf\"{DATA}\\Data_in\"\n",
    "DATA_PROC = rf\"{DATA}\\Data_proc\"\n",
    "DATA_OUT = rf\"{DATA}\\Data_out\"\n",
    "ERA5_DATA = rf\"Z:\\WB Data\\ERA5 Reanalysis\\monthly\""
   ]
  },
  {
   "cell_type": "markdown",
   "metadata": {},
   "source": [
    "## Variable definitions\n",
    "\n",
    "- Drought: Monthly cumulative precipitation **2.5 standard deviations below** the monthly historical average, considering 30 years to estimate historical averages and SD\n",
    "- Excessive Rain: Monthly cumulative precipitation **2.5 standard deviations above** the monthly historical average, considering 30 years to estimate historical averages and SD\n",
    "- Heatwave: More than 6 days with temperature **over 40 degrees** and 2.5 standard deviations higher than monthly historical average, considering 30 years to estimate historical averages and SD. Furthermore, **warm spell** duration index is higher than 6 days.\n",
    "- Coldwave: More than 6 days with temperature **below 0 degrees** and 2.5 standard deviations lower than monthly historical average, considering 30 years to estimate historical averages and SD. Furthermore, **cold spell** duration index is higher than 6 days.\n",
    "  ​"
   ]
  },
  {
   "cell_type": "code",
   "execution_count": null,
   "metadata": {},
   "outputs": [],
   "source": [
    "files = os.listdir(ERA5_DATA)\n",
    "datasets = []\n",
    "for file in tqdm(files):\n",
    "    ds = xr.open_dataset(os.path.join(ERA5_DATA, file))\n",
    "    datasets += [ds]\n",
    "precipitation = xr.concat(datasets, dim=\"time\")\n",
    "precipitation.to_netcdf(os.path.join(DATA_OUT, \"ERA5_monthly_1970-2021.nc\"))"
   ]
  },
  {
   "cell_type": "code",
   "execution_count": null,
   "metadata": {},
   "outputs": [],
   "source": [
    "# Longitude is in range 0-360, with 0 at Greenwich. We need to transform it to -180 to 180\n",
    "def transform_longitude(longitude):\n",
    "    if longitude > 180:\n",
    "        return longitude - 360\n",
    "    else:\n",
    "        return longitude\n",
    "\n",
    "precipitation['longitude'] = precipitation['longitude'].to_series().apply(transform_longitude).values\n",
    "precipitation = precipitation.sortby('longitude').sortby(\"latitude\")\n",
    "precipitation = precipitation.rename({'longitude': 'lon', 'latitude': 'lat'})"
   ]
  },
  {
   "cell_type": "code",
   "execution_count": null,
   "metadata": {},
   "outputs": [],
   "source": [
    "precipitation"
   ]
  },
  {
   "cell_type": "code",
   "execution_count": null,
   "metadata": {},
   "outputs": [],
   "source": [
    "import climate_indices\n",
    "\n",
    "## Original paper: https://www.droughtmanagement.info/literature/AMS_Relationship_Drought_Frequency_Duration_Time_Scales_1993.pdf\n",
    "## User guide to SPI: https://digitalcommons.unl.edu/cgi/viewcontent.cgi?article=1208&context=droughtfacpub\n",
    "#   It is recommended to use SPI-9 or SPI-12 to compute droughts.\n",
    "#   \"SPI values below -1.5 for these timescales (SPI-9) are usually a good indication that dryness is having a significant impact on\n",
    "#    agriculture and may be affecting other sectors as well.\"\n",
    "## More here: https://www.researchgate.net/profile/Sorin-Cheval/publication/264467702_Spatiotemporal_variability_of_the_meteorological_drought_in_Romania_using_the_Standardized_Precipitation_Index_SPI/links/5842d18a08ae2d21756372f8/Spatiotemporal-variability-of-the-meteorological-drought-in-Romania-using-the-Standardized-Precipitation-Index-SPI.pdf\n",
    "## Ignore negative values, they are normal: https://confluence.ecmwf.int/display/UDOC/Why+are+there+sometimes+small+negative+precipitation+accumulations+-+ecCodes+GRIB+FAQ\n",
    "\n",
    "# Parameters\n",
    "distribution = climate_indices.indices.Distribution.gamma\n",
    "data_start_year = 1990\n",
    "calibration_year_initial = 1990\n",
    "calibration_year_final = 2020\n",
    "periodicity = climate_indices.compute.Periodicity.monthly\n",
    "\n",
    "\n",
    "da_precip_groupby = precipitation[\"tp\"].stack(point=('lat', 'lon')).groupby('point')\n",
    "\n",
    "# apply SPI to each `point`\n",
    "spis = []\n",
    "for i in [1, 3, 6, 9, 12]:\n",
    "    print(f\"Computing SPI-{i}\")\n",
    "    da_spi = xr.apply_ufunc(climate_indices.indices.spi,\n",
    "                            da_precip_groupby,\n",
    "                            i,\n",
    "                            distribution,\n",
    "                            data_start_year,\n",
    "                            calibration_year_initial,\n",
    "                            calibration_year_final,\n",
    "                            periodicity)\n",
    "    da_spi = da_spi.unstack('point').rename(f\"spi{i}\")\n",
    "    da_spi.to_netcdf(os.path.join(DATA_OUT, f\"ERA5_monthly_1970-2021_SPI{i}.nc\"))\n",
    "    spis += [da_spi]"
   ]
  },
  {
   "cell_type": "code",
   "execution_count": null,
   "metadata": {},
   "outputs": [],
   "source": [
    "#### Construct indicators\n",
    "climate_data = xr.combine_by_coords(spis + [precipitation[\"t2m\"]])\n",
    "\n",
    "## Export data\n",
    "climate_data.to_netcdf(rf\"{DATA_OUT}/Climate_shocks_v3_previous_months.nc\")"
   ]
  },
  {
   "cell_type": "code",
   "execution_count": null,
   "metadata": {},
   "outputs": [],
   "source": [
    "import pandas as pd\n",
    "pd.read_csv(r\"Z:\\Laboral\\World Bank\\Paper - Child mortality and Climate Shocks\\Data\\Data_proc\\births_climate_20000.csv\")"
   ]
  }
 ],
 "metadata": {
  "kernelspec": {
   "display_name": "Python 3",
   "language": "python",
   "name": "python3"
  },
  "language_info": {
   "codemirror_mode": {
    "name": "ipython",
    "version": 3
   },
   "file_extension": ".py",
   "mimetype": "text/x-python",
   "name": "python",
   "nbconvert_exporter": "python",
   "pygments_lexer": "ipython3",
   "version": "3.11.4"
  }
 },
 "nbformat": 4,
 "nbformat_minor": 2
}
