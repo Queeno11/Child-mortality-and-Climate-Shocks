{
 "cells": [
  {
   "cell_type": "code",
   "execution_count": null,
   "metadata": {},
   "outputs": [],
   "source": [
    "import xarray as xr\n",
    "import numpy as np\n",
    "import pandas as pd\n",
    "import matplotlib.pyplot as plt\n",
    "\n",
    "# Set global variables\n",
    "PROJECT = r\"Z:\\Laboral\\World Bank\\Paper - Child mortality and Climate Shocks\"\n",
    "OUTPUTS = rf\"{PROJECT}\\Outputs\"\n",
    "DATA = rf\"{PROJECT}\\Data\"\n",
    "DATA_IN = rf\"{DATA}\\Data_in\"\n",
    "DATA_PROC = rf\"{DATA}\\Data_proc\"\n",
    "DATA_OUT = rf\"{DATA}\\Data_out\""
   ]
  },
  {
   "cell_type": "markdown",
   "metadata": {},
   "source": [
    "## Variable definitions\n",
    "\n",
    "- Drought: Monthly cumulative precipitation **2.5 standard deviations below** the monthly historical average, considering 30 years to estimate historical averages and SD\n",
    "- Excessive Rain: Monthly cumulative precipitation **2.5 standard deviations above** the monthly historical average, considering 30 years to estimate historical averages and SD\n",
    "- Heatwave: More than 6 days with temperature **over 40 degrees** and 2.5 standard deviations higher than monthly historical average, considering 30 years to estimate historical averages and SD. Furthermore, **warm spell** duration index is higher than 6 days.\n",
    "- Coldwave: More than 6 days with temperature **below 0 degrees** and 2.5 standard deviations lower than monthly historical average, considering 30 years to estimate historical averages and SD. Furthermore, **cold spell** duration index is higher than 6 days.\n",
    "  ​"
   ]
  },
  {
   "cell_type": "code",
   "execution_count": null,
   "metadata": {},
   "outputs": [],
   "source": [
    "# Load the data\n",
    "precipitation_ds = xr.open_dataset(rf\"{DATA_IN}\\Climate Data\\timeseries-pr-monthly-mean_cru_monthly_cru-ts4.06-timeseries_mean_1901-2021.nc\")"
   ]
  },
  {
   "cell_type": "code",
   "execution_count": null,
   "metadata": {},
   "outputs": [],
   "source": [
    "# Clean unused variables and dims\n",
    "precipitation_ds = precipitation_ds.sel(bnds=0).drop([\"bnds\", \"lon_bnds\", \"lat_bnds\"])\n",
    "\n",
    "# Compute 3, 6 and 12 past months means\n",
    "precipitation_ds_3 = precipitation_ds.rolling(time=3, center=False).mean()\n",
    "precipitation_ds_6 = precipitation_ds.rolling(time=6, center=False).mean()\n",
    "precipitation_ds_12 = precipitation_ds.rolling(time=12, center=False).mean()"
   ]
  },
  {
   "cell_type": "code",
   "execution_count": null,
   "metadata": {},
   "outputs": [],
   "source": [
    "# Standarize Variables\n",
    "def standarize_monthly_dataset(ds, historical_timeframe=30, monthly_means=False):\n",
    "    ds = ds.sel(time=slice(f'{2020-historical_timeframe}', '2020'))\n",
    "    \n",
    "    if monthly_means is False:    \n",
    "        climatology_mean = ds.mean(\"time\")\n",
    "        climatology_std = ds.std(\"time\")\n",
    "    else:\n",
    "        climatology_mean = ds.groupby(\"time.month\").mean(\"time\")\n",
    "        climatology_std = ds.groupby(\"time.month\").std(\"time\")\n",
    "        ds = ds.groupby(\"time.month\")\n",
    "        \n",
    "    stand_anomalies = xr.apply_ufunc(\n",
    "        lambda x, m, s: (x - m) / (s + 0.000000001), # Add a very small number to solve situations where std is zero\n",
    "        ds,\n",
    "        climatology_mean,\n",
    "        climatology_std,\n",
    "    )\n",
    "\n",
    "    return stand_anomalies\n",
    "\n",
    "std_precipitation = standarize_monthly_dataset(precipitation_ds, historical_timeframe=30, monthly_means=True)\n",
    "std_precipitation_3 = standarize_monthly_dataset(precipitation_ds_3, historical_timeframe=30, monthly_means=True)\n",
    "std_precipitation_6 = standarize_monthly_dataset(precipitation_ds_6, historical_timeframe=30, monthly_means=True)\n",
    "std_precipitation_12 = standarize_monthly_dataset(precipitation_ds_12, historical_timeframe=30, monthly_means=True)"
   ]
  },
  {
   "cell_type": "code",
   "execution_count": null,
   "metadata": {},
   "outputs": [],
   "source": [
    "#### Construct indicators\n",
    "# FIXME: heatdays/coldays are annual\n",
    "precipitation = std_precipitation[\"timeseries-pr-monthly-mean\"].rename(\"standarized_precipitation\")\n",
    "precipitation_3 = std_precipitation_3[\"timeseries-pr-monthly-mean\"].rename(\"standarized_precipitation_3\")\n",
    "precipitation_6 = std_precipitation_6[\"timeseries-pr-monthly-mean\"].rename(\"standarized_precipitation_6\")\n",
    "precipitation_12 = std_precipitation_12[\"timeseries-pr-monthly-mean\"].rename(\"standarized_precipitation_12\")\n",
    "\n",
    "\n",
    "climate_da = [precipitation, precipitation_3, precipitation_6, precipitation_12]\n",
    "climate_data = xr.combine_by_coords(climate_da)\n",
    "\n",
    "## Export data\n",
    "climate_data.to_netcdf(rf\"{DATA_OUT}/Climate_shocks_v2_previous_months.nc\")"
   ]
  },
  {
   "cell_type": "code",
   "execution_count": null,
   "metadata": {},
   "outputs": [],
   "source": [
    "import pandas as pd\n",
    "pd.read_csv(r\"Z:\\Laboral\\World Bank\\Paper - Child mortality and Climate Shocks\\Data\\Data_proc\\births_climate_20000.csv\")"
   ]
  }
 ],
 "metadata": {
  "kernelspec": {
   "display_name": "Python 3",
   "language": "python",
   "name": "python3"
  },
  "language_info": {
   "codemirror_mode": {
    "name": "ipython",
    "version": 3
   },
   "file_extension": ".py",
   "mimetype": "text/x-python",
   "name": "python",
   "nbconvert_exporter": "python",
   "pygments_lexer": "ipython3",
   "version": "3.11.4"
  }
 },
 "nbformat": 4,
 "nbformat_minor": 2
}
