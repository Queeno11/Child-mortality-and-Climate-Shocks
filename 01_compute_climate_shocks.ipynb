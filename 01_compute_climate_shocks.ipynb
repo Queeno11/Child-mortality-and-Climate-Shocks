{
 "cells": [
  {
   "cell_type": "code",
   "execution_count": 1,
   "metadata": {},
   "outputs": [],
   "source": [
    "import xarray as xr\n",
    "import numpy as np\n",
    "import pandas as pd\n",
    "import matplotlib.pyplot as plt\n",
    "\n",
    "# Set global variables\n",
    "PROJECT = r\"Z:\\Laboral\\World Bank\\Paper - Child mortality and Climate Shocks\"\n",
    "OUTPUTS = rf\"{PROJECT}\\Outputs\"\n",
    "DATA = rf\"{PROJECT}\\Data\"\n",
    "DATA_IN = rf\"{DATA}\\Data_in\"\n",
    "DATA_PROC = rf\"{DATA}\\Data_proc\"\n",
    "DATA_OUT = rf\"{DATA}\\Data_out\""
   ]
  },
  {
   "cell_type": "markdown",
   "metadata": {},
   "source": [
    "## Variable definitions\n",
    "\n",
    "- Drought: Monthly cumulative precipitation **2.5 standard deviations below** the monthly historical average, considering 30 years to estimate historical averages and SD\n",
    "- Excessive Rain: Monthly cumulative precipitation **2.5 standard deviations above** the monthly historical average, considering 30 years to estimate historical averages and SD\n",
    "- Heatwave: More than 6 days with temperature **over 40 degrees** and 2.5 standard deviations higher than monthly historical average, considering 30 years to estimate historical averages and SD. Furthermore, **warm spell** duration index is higher than 6 days.\n",
    "- Coldwave: More than 6 days with temperature **below 0 degrees** and 2.5 standard deviations lower than monthly historical average, considering 30 years to estimate historical averages and SD. Furthermore, **cold spell** duration index is higher than 6 days.\n",
    "  ​"
   ]
  },
  {
   "cell_type": "code",
   "execution_count": 159,
   "metadata": {},
   "outputs": [],
   "source": [
    "# Load the data\n",
    "precipitation_ds = xr.open_dataset(rf\"{DATA_IN}\\Climate Data\\timeseries-pr-monthly-mean_cru_monthly_cru-ts4.06-timeseries_mean_1901-2021.nc\")\n",
    "frostdays_ds = xr.open_dataset(rf\"{DATA_IN}\\Climate Data\\timeseries-fd-monthly-mean_era_monthly_era5-0.5x0.5-timeseries_mean_1950-2020.nc\")\n",
    "heatdays_ds = xr.open_dataset(rf\"{DATA_IN}\\Climate Data\\timeseries-hd40-monthly-mean_era_monthly_era5-0.5x0.5-timeseries_mean_1950-2020.nc\")\n",
    "coldspell_ds = xr.open_dataset(rf\"{DATA_IN}\\Climate Data\\timeseries-csdi-annual-mean_era_annual_era5-0.5x0.5-timeseries_mean_1950-2020.nc\")\n",
    "warmspell_ds = xr.open_dataset(rf\"{DATA_IN}\\Climate Data\\timeseries-wsdi-annual-mean_era_annual_era5-0.5x0.5-timeseries_mean_1950-2020.nc\")"
   ]
  },
  {
   "cell_type": "code",
   "execution_count": 160,
   "metadata": {},
   "outputs": [],
   "source": [
    "# Set datetimes to int\n",
    "frostdays_ds[\"timeseries-fd-monthly-mean\"] = (frostdays_ds[\"timeseries-fd-monthly-mean\"] - np.timedelta64(1, 'D')).astype(int)\n",
    "heatdays_ds[\"timeseries-hd40-monthly-mean\"] = (heatdays_ds[\"timeseries-hd40-monthly-mean\"] - np.timedelta64(1, 'D')).astype(int)\n",
    "coldspell_ds[\"timeseries-csdi-annual-mean\"] = (coldspell_ds[\"timeseries-csdi-annual-mean\"] - np.timedelta64(1, 'D')).astype(int)\n",
    "warmspell_ds[\"timeseries-wsdi-annual-mean\"] = (warmspell_ds[\"timeseries-wsdi-annual-mean\"] - np.timedelta64(1, 'D')).astype(int)"
   ]
  },
  {
   "cell_type": "code",
   "execution_count": 161,
   "metadata": {},
   "outputs": [],
   "source": [
    "# Clean unused variables and dims\n",
    "precipitation_ds = precipitation_ds.sel(bnds=0).drop([\"bnds\", \"lon_bnds\", \"lat_bnds\"])\n",
    "frostdays_ds = frostdays_ds.sel(bnds=0).drop([\"bnds\", \"lon_bnds\", \"lat_bnds\"])\n",
    "heatdays_ds = heatdays_ds.sel(bnds=0).drop([\"bnds\", \"lon_bnds\", \"lat_bnds\"])\n",
    "coldspell_ds = coldspell_ds.sel(year=slice(1990, 2020)).sel(bnds=0).drop([\"bnds\", \"lon_bnds\", \"lat_bnds\"])\n",
    "warmspell_ds = warmspell_ds.sel(year=slice(1990, 2020)).sel(bnds=0).drop([\"bnds\", \"lon_bnds\", \"lat_bnds\"])"
   ]
  },
  {
   "cell_type": "code",
   "execution_count": 5,
   "metadata": {},
   "outputs": [],
   "source": [
    "# Standarize Variables\n",
    "def standarize_monthly_dataset(ds, historical_timeframe=30, monthly_means=False):\n",
    "    ds = ds.sel(time=slice(f'{2020-historical_timeframe}', '2020'))\n",
    "    \n",
    "    if monthly_means is False:    \n",
    "        climatology_mean = ds.mean(\"time\")\n",
    "        climatology_std = ds.std(\"time\")\n",
    "    else:\n",
    "        climatology_mean = ds.groupby(\"time.month\").mean(\"time\")\n",
    "        climatology_std = ds.groupby(\"time.month\").std(\"time\")\n",
    "        ds = ds.groupby(\"time.month\")\n",
    "        \n",
    "    stand_anomalies = xr.apply_ufunc(\n",
    "        lambda x, m, s: (x - m) / (s + 0.000000001), # Add a very small number to solve situations where std is zero\n",
    "        ds,\n",
    "        climatology_mean,\n",
    "        climatology_std,\n",
    "    )\n",
    "\n",
    "    return stand_anomalies\n",
    "\n",
    "std_precipitation = standarize_monthly_dataset(precipitation_ds, historical_timeframe=30, monthly_means=False)\n",
    "std_heatdays = standarize_monthly_dataset(heatdays_ds, historical_timeframe=30, monthly_means=False)\n",
    "std_frostdays = standarize_monthly_dataset(frostdays_ds, historical_timeframe=30, monthly_means=False)\n",
    "std_m_precipitation = standarize_monthly_dataset(precipitation_ds, historical_timeframe=30, monthly_means=True).drop(\"month\")\n",
    "std_m_heatdays = standarize_monthly_dataset(heatdays_ds, historical_timeframe=30, monthly_means=True).drop(\"month\")\n",
    "std_m_frostdays = standarize_monthly_dataset(frostdays_ds, historical_timeframe=30, monthly_means=True).drop(\"month\")"
   ]
  },
  {
   "cell_type": "code",
   "execution_count": 6,
   "metadata": {},
   "outputs": [],
   "source": [
    "#### Construct indicators\n",
    "# FIXME: heatdays/coldays are annual\n",
    "precipitation = std_precipitation[\"timeseries-pr-monthly-mean\"].rename(\"standarized_precipitation\")\n",
    "precipitation_m = std_m_precipitation[\"timeseries-pr-monthly-mean\"].rename(\"standarized_precipitation_m\")\n",
    "\n",
    "climate_da = [precipitation, precipitation_m]\n",
    "climate_data = xr.combine_by_coords(climate_da)\n",
    "\n",
    "## Export data\n",
    "climate_data.to_netcdf(rf\"{DATA_OUT}/Climate_shocks.nc\")"
   ]
  }
 ],
 "metadata": {
  "kernelspec": {
   "display_name": "Python 3",
   "language": "python",
   "name": "python3"
  },
  "language_info": {
   "codemirror_mode": {
    "name": "ipython",
    "version": 3
   },
   "file_extension": ".py",
   "mimetype": "text/x-python",
   "name": "python",
   "nbconvert_exporter": "python",
   "pygments_lexer": "ipython3",
   "version": "3.11.4"
  }
 },
 "nbformat": 4,
 "nbformat_minor": 2
}
